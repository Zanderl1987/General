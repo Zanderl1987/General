{
  "nbformat": 4,
  "nbformat_minor": 0,
  "metadata": {
    "colab": {
      "name": "Keras TimeseriesGenerator Exploration.ipynb",
      "provenance": [],
      "authorship_tag": "ABX9TyOmFk5VAN/mg8T02YnHMiuv",
      "include_colab_link": true
    },
    "kernelspec": {
      "name": "python3",
      "display_name": "Python 3"
    }
  },
  "cells": [
    {
      "cell_type": "markdown",
      "metadata": {
        "id": "view-in-github",
        "colab_type": "text"
      },
      "source": [
        "<a href=\"https://colab.research.google.com/github/Zanderl1987/General/blob/master/Keras_TimeseriesGenerator_Exploration.ipynb\" target=\"_parent\"><img src=\"https://colab.research.google.com/assets/colab-badge.svg\" alt=\"Open In Colab\"/></a>"
      ]
    },
    {
      "cell_type": "code",
      "metadata": {
        "id": "psygek9AKqww",
        "colab_type": "code",
        "colab": {
          "base_uri": "https://localhost:8080/",
          "height": 487
        },
        "outputId": "6ae5b100-9ff8-4694-d752-b5b23f13eac2"
      },
      "source": [
        "# multivariate one step problem\n",
        "from numpy import array\n",
        "from numpy import hstack\n",
        "from keras.preprocessing.sequence import TimeseriesGenerator\n",
        "# define dataset\n",
        "in_seq1 = array([10, 20, 30, 40, 50, 60, 70, 80, 90, 100])\n",
        "in_seq2 = array([15, 25, 35, 45, 55, 65, 75, 85, 95, 105])\n",
        "# reshape series\n",
        "in_seq1 = in_seq1.reshape((len(in_seq1), 1))\n",
        "in_seq2 = in_seq2.reshape((len(in_seq2), 1))\n",
        "# horizontally stack columns\n",
        "dataset = hstack((in_seq1, in_seq2))\n",
        "print(dataset)\n",
        "# define generator\n",
        "n_input = 2\n",
        "generator = TimeseriesGenerator(dataset, dataset, length=n_input, batch_size=1)\n",
        "# number of samples\n",
        "print('Samples: %d' % len(generator))\n",
        "# print each sample\n",
        "for i in range(len(generator)):\n",
        "\tx, y = generator[i]\n",
        "\tprint('%s => %s' % (x, y))"
      ],
      "execution_count": 1,
      "outputs": [
        {
          "output_type": "stream",
          "text": [
            "Using TensorFlow backend.\n"
          ],
          "name": "stderr"
        },
        {
          "output_type": "stream",
          "text": [
            "[[ 10  15]\n",
            " [ 20  25]\n",
            " [ 30  35]\n",
            " [ 40  45]\n",
            " [ 50  55]\n",
            " [ 60  65]\n",
            " [ 70  75]\n",
            " [ 80  85]\n",
            " [ 90  95]\n",
            " [100 105]]\n",
            "Samples: 8\n",
            "[[[10 15]\n",
            "  [20 25]]] => [[30 35]]\n",
            "[[[20 25]\n",
            "  [30 35]]] => [[40 45]]\n",
            "[[[30 35]\n",
            "  [40 45]]] => [[50 55]]\n",
            "[[[40 45]\n",
            "  [50 55]]] => [[60 65]]\n",
            "[[[50 55]\n",
            "  [60 65]]] => [[70 75]]\n",
            "[[[60 65]\n",
            "  [70 75]]] => [[80 85]]\n",
            "[[[70 75]\n",
            "  [80 85]]] => [[90 95]]\n",
            "[[[80 85]\n",
            "  [90 95]]] => [[100 105]]\n"
          ],
          "name": "stdout"
        }
      ]
    },
    {
      "cell_type": "code",
      "metadata": {
        "id": "U0tVZY42OnQH",
        "colab_type": "code",
        "colab": {
          "base_uri": "https://localhost:8080/",
          "height": 34
        },
        "outputId": "c3433ef4-0c1e-47d7-cd0a-b4a2cc559e98"
      },
      "source": [
        "\n",
        "3\n",
        "4\n",
        "5\n",
        "6\n",
        "7\n",
        "8\n",
        "9\n",
        "10\n",
        "11\n",
        "12\n",
        "13\n",
        "14\n",
        "15\n",
        "16\n",
        "17\n",
        "18\n",
        "19\n",
        "20\n",
        "21\n",
        "22\n",
        "# multivariate one step problem with lstm\n",
        "from numpy import array\n",
        "from numpy import hstack\n",
        "from keras.models import Sequential\n",
        "from keras.layers import Dense\n",
        "from keras.layers import LSTM\n",
        "from keras.preprocessing.sequence import TimeseriesGenerator\n",
        "\n",
        "# define dataset\n",
        "in_seq1 = array([10, 20, 30, 40, 50, 60, 70, 80, 90, 100])\n",
        "in_seq2 = array([15, 25, 35, 45, 55, 65, 75, 85, 95, 105])\n",
        "\n",
        "# reshape series\n",
        "in_seq1 = in_seq1.reshape((len(in_seq1), 1))\n",
        "in_seq2 = in_seq2.reshape((len(in_seq2), 1))\n",
        "\n",
        "# horizontally stack columns\n",
        "dataset = hstack((in_seq1, in_seq2))\n",
        "\n",
        "# define generator\n",
        "n_features = dataset.shape[1]\n",
        "n_input = 2\n",
        "generator = TimeseriesGenerator(dataset, dataset, length=n_input, batch_size=8)\n",
        "\n",
        "# define model\n",
        "model = Sequential()\n",
        "model.add(LSTM(100, activation='relu', input_shape=(n_input, n_features)))\n",
        "model.add(Dense(2))\n",
        "model.compile(optimizer='adam', loss='mse')\n",
        "\n",
        "# fit model\n",
        "model.fit_generator(generator, steps_per_epoch=1, epochs=500, verbose=0)\n",
        "\n",
        "# make a one step prediction out of sample\n",
        "x_input = array([[90, 95], [100, 105]]).reshape((1, n_input, n_features))\n",
        "yhat = model.predict(x_input, verbose=0)\n",
        "print(yhat)"
      ],
      "execution_count": 5,
      "outputs": [
        {
          "output_type": "stream",
          "text": [
            "[[110.4228  115.36402]]\n"
          ],
          "name": "stdout"
        }
      ]
    },
    {
      "cell_type": "code",
      "metadata": {
        "id": "EZgNfJfJKs_s",
        "colab_type": "code",
        "colab": {
          "base_uri": "https://localhost:8080/",
          "height": 185
        },
        "outputId": "afdd6ee4-efbd-4536-81f5-cd70d70701b7"
      },
      "source": [
        "dataset"
      ],
      "execution_count": 4,
      "outputs": [
        {
          "output_type": "execute_result",
          "data": {
            "text/plain": [
              "array([[ 10,  15],\n",
              "       [ 20,  25],\n",
              "       [ 30,  35],\n",
              "       [ 40,  45],\n",
              "       [ 50,  55],\n",
              "       [ 60,  65],\n",
              "       [ 70,  75],\n",
              "       [ 80,  85],\n",
              "       [ 90,  95],\n",
              "       [100, 105]])"
            ]
          },
          "metadata": {
            "tags": []
          },
          "execution_count": 4
        }
      ]
    },
    {
      "cell_type": "code",
      "metadata": {
        "id": "UQi15hhbPCWq",
        "colab_type": "code",
        "colab": {}
      },
      "source": [
        ""
      ],
      "execution_count": null,
      "outputs": []
    }
  ]
}