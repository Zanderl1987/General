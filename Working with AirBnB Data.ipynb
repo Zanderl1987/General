{
 "cells": [
  {
   "cell_type": "code",
   "execution_count": 1,
   "metadata": {
    "collapsed": true
   },
   "outputs": [],
   "source": [
    "import pandas as pd\n",
    "import numpy as np\n",
    "import polars as pl\n",
    "import datetime\n",
    "import matplotlib.pyplot as plt\n",
    "import seaborn as sns\n",
    "import altair as alt\n",
    "import gzip\n",
    "import shutil\n",
    "import pathlib\n",
    "import os\n",
    "import sqlalchemy\n",
    "import sqlite3\n",
    "import spacy\n",
    "import re\n",
    "import tqdm\n",
    "from tqdm.notebook import tqdm, trange\n",
    "import ipywidgets as widgets\n",
    "from ipywidgets import IntProgress, HTML, VBox\n",
    "from IPython.display import display\n",
    "import time\n",
    "from vaderSentiment.vaderSentiment import SentimentIntensityAnalyzer\n",
    "sid_obj = SentimentIntensityAnalyzer()\n",
    "\n",
    "%matplotlib inline\n",
    "alt.data_transformers.disable_max_rows()\n",
    "\n",
    "nlp = spacy.load(\"en_core_web_sm\")"
   ]
  },
  {
   "cell_type": "code",
   "execution_count": 2,
   "outputs": [
    {
     "name": "stderr",
     "output_type": "stream",
     "text": [
      "Enabling notebook extension jupyter-js-widgets/extension...\n",
      "      - Validating: ok\n"
     ]
    }
   ],
   "source": [
    "!jupyter nbextension enable --py widgetsnbextension"
   ],
   "metadata": {
    "collapsed": false
   }
  },
  {
   "cell_type": "code",
   "execution_count": 3,
   "outputs": [],
   "source": [
    "# progress_bar = IntProgress(min=0,max=100, value=0)\n",
    "#\n",
    "# label = HTML(value='Progress: 0%')\n",
    "#\n",
    "# display(VBox([label, progress_bar]))\n",
    "\n",
    "# for i in range(1010):\n",
    "#     progress_bar.value = i\n",
    "#     label.value = f'Progress: {i}%'\n",
    "#     time.sleep(0.1)"
   ],
   "metadata": {
    "collapsed": false
   }
  },
  {
   "cell_type": "code",
   "execution_count": 4,
   "outputs": [],
   "source": [
    "def convert_path(path):\n",
    "    converted_path = pathlib.PureWindowsPath(path).as_posix()\n",
    "    return converted_path\n",
    "\n",
    "def print_files_in_directory(directory_path):\n",
    "    with os.scandir(directory_path) as entries:\n",
    "        for entry in entries:\n",
    "            if entry.is_file():\n",
    "                print(entry.name)\n",
    "\n",
    "def calculate_sentiment_score(tokens):\n",
    "    sentiment_scores = [token.sentiment for token in nlp(\" \".join(tokens))]\n",
    "    avg_sentiment = sum(sentiment_scores) / len(sentiment_scores)\n",
    "    return avg_sentiment\n",
    "\n",
    "def tokenize_and_lemmatize(text):\n",
    "    doc = nlp(text)\n",
    "    tokens = [token.lemma_ for token in doc if not token.is_stop and token.is_alpha]\n",
    "    return tokens\n",
    "\n",
    "def clean_text(text):\n",
    "    text = text.lower()\n",
    "    text = re.sub(r'[^a-zA-Z\\s]','',text)\n",
    "    return text\n",
    "\n",
    "#conn = sqlite3.connect('AirBnB_Data.db')\n",
    "conn = sqlite3.connect(r\"C:\\Users\\asl4a\\AirBnB_Data.db\")\n",
    "cursor = conn.cursor()"
   ],
   "metadata": {
    "collapsed": false
   }
  },
  {
   "cell_type": "code",
   "execution_count": 5,
   "outputs": [],
   "source": [
    "gz_calendar_path = convert_path(\"F:\\Data Science\\Datasets\\AirBnB Data\\Calendars gz\")\n",
    "gz_listings_path = convert_path(\"F:\\Data Science\\Datasets\\AirBnB Data\\Listings gz\")\n",
    "gz_reviews_path = convert_path(\"F:\\Data Science\\Datasets\\AirBnB Data\\Reviews gz\")\n",
    "\n",
    "calendars_dest_path = convert_path(\"F:\\Data Science\\Datasets\\AirBnB Data\\Calendars\")\n",
    "listings_dest_path = convert_path(\"F:\\Data Science\\Datasets\\AirBnB Data\\Listings\")\n",
    "reviews_dest_path = convert_path(\"F:\\Data Science\\Datasets\\AirBnB Data\\Reviews\")"
   ],
   "metadata": {
    "collapsed": false
   }
  },
  {
   "cell_type": "code",
   "execution_count": 9,
   "outputs": [],
   "source": [
    "# df_reviews = pd.read_sql(\"\"\"\n",
    "# SELECT *\n",
    "# FROM reviews;\"\"\",con=conn)\n",
    "\n",
    "\n",
    "test_query = pd.read_sql_query(\"\"\"\n",
    "SELECT *\n",
    "FROM reviews;\"\"\",con=conn)"
   ],
   "metadata": {
    "collapsed": false
   }
  },
  {
   "cell_type": "code",
   "execution_count": 10,
   "outputs": [
    {
     "data": {
      "text/plain": "   index  temp_index  listing_id     id        date  reviewer_id  \\\n0      0           0        6422   1927  2009-04-30        14100   \n1      1           1        6422   3867  2009-06-11        17413   \n2      2           2        6422   4159  2009-06-17        20253   \n3      3           3        6422   5724  2009-07-18        22544   \n4      4           4        6422  11891  2009-09-29        33409   \n\n  reviewer_name                                           comments  \n0       Melissa  I can't say enough about how wonderful it was ...  \n1        Raquel  Michelle and Collier's home is wonderful! They...  \n2        Ulrike  I spent one night at Michele's home and felt j...  \n3          Phil  Michele and Collier are two of the loveliest p...  \n4        Claire  We had the most lovely time staying with Miche...  ",
      "text/html": "<div>\n<style scoped>\n    .dataframe tbody tr th:only-of-type {\n        vertical-align: middle;\n    }\n\n    .dataframe tbody tr th {\n        vertical-align: top;\n    }\n\n    .dataframe thead th {\n        text-align: right;\n    }\n</style>\n<table border=\"1\" class=\"dataframe\">\n  <thead>\n    <tr style=\"text-align: right;\">\n      <th></th>\n      <th>index</th>\n      <th>temp_index</th>\n      <th>listing_id</th>\n      <th>id</th>\n      <th>date</th>\n      <th>reviewer_id</th>\n      <th>reviewer_name</th>\n      <th>comments</th>\n    </tr>\n  </thead>\n  <tbody>\n    <tr>\n      <th>0</th>\n      <td>0</td>\n      <td>0</td>\n      <td>6422</td>\n      <td>1927</td>\n      <td>2009-04-30</td>\n      <td>14100</td>\n      <td>Melissa</td>\n      <td>I can't say enough about how wonderful it was ...</td>\n    </tr>\n    <tr>\n      <th>1</th>\n      <td>1</td>\n      <td>1</td>\n      <td>6422</td>\n      <td>3867</td>\n      <td>2009-06-11</td>\n      <td>17413</td>\n      <td>Raquel</td>\n      <td>Michelle and Collier's home is wonderful! They...</td>\n    </tr>\n    <tr>\n      <th>2</th>\n      <td>2</td>\n      <td>2</td>\n      <td>6422</td>\n      <td>4159</td>\n      <td>2009-06-17</td>\n      <td>20253</td>\n      <td>Ulrike</td>\n      <td>I spent one night at Michele's home and felt j...</td>\n    </tr>\n    <tr>\n      <th>3</th>\n      <td>3</td>\n      <td>3</td>\n      <td>6422</td>\n      <td>5724</td>\n      <td>2009-07-18</td>\n      <td>22544</td>\n      <td>Phil</td>\n      <td>Michele and Collier are two of the loveliest p...</td>\n    </tr>\n    <tr>\n      <th>4</th>\n      <td>4</td>\n      <td>4</td>\n      <td>6422</td>\n      <td>11891</td>\n      <td>2009-09-29</td>\n      <td>33409</td>\n      <td>Claire</td>\n      <td>We had the most lovely time staying with Miche...</td>\n    </tr>\n  </tbody>\n</table>\n</div>"
     },
     "execution_count": 10,
     "metadata": {},
     "output_type": "execute_result"
    }
   ],
   "source": [
    "test_query.head()"
   ],
   "metadata": {
    "collapsed": false
   }
  },
  {
   "cell_type": "code",
   "execution_count": 6,
   "outputs": [],
   "source": [
    "df_reviews = pd.read_csv(r\"C:\\Users\\asl4a\\df_reviews.csv\")\n",
    "df_reviews['comments'] = df_reviews['comments'].astype(str)\n",
    "df_reviews = df_reviews.rename(columns={'Unnamed: 0': 'temp_index'})\n",
    "df_reviews['cleaned_text'] = df_reviews['comments'].apply(clean_text)"
   ],
   "metadata": {
    "collapsed": false
   }
  },
  {
   "cell_type": "code",
   "execution_count": 7,
   "outputs": [
    {
     "data": {
      "text/plain": "   temp_index  listing_id     id        date  reviewer_id reviewer_name  \\\n0           0        6422   1927  2009-04-30        14100       Melissa   \n1           1        6422   3867  2009-06-11        17413        Raquel   \n2           2        6422   4159  2009-06-17        20253        Ulrike   \n3           3        6422   5724  2009-07-18        22544          Phil   \n4           4        6422  11891  2009-09-29        33409        Claire   \n\n                                            comments  \\\n0  I can't say enough about how wonderful it was ...   \n1  Michelle and Collier's home is wonderful! They...   \n2  I spent one night at Michele's home and felt j...   \n3  Michele and Collier are two of the loveliest p...   \n4  We had the most lovely time staying with Miche...   \n\n                                        cleaned_text  \n0  i cant say enough about how wonderful it was t...  \n1  michelle and colliers home is wonderful they a...  \n2  i spent one night at micheles home and felt ju...  \n3  michele and collier are two of the loveliest p...  \n4  we had the most lovely time staying with miche...  ",
      "text/html": "<div>\n<style scoped>\n    .dataframe tbody tr th:only-of-type {\n        vertical-align: middle;\n    }\n\n    .dataframe tbody tr th {\n        vertical-align: top;\n    }\n\n    .dataframe thead th {\n        text-align: right;\n    }\n</style>\n<table border=\"1\" class=\"dataframe\">\n  <thead>\n    <tr style=\"text-align: right;\">\n      <th></th>\n      <th>temp_index</th>\n      <th>listing_id</th>\n      <th>id</th>\n      <th>date</th>\n      <th>reviewer_id</th>\n      <th>reviewer_name</th>\n      <th>comments</th>\n      <th>cleaned_text</th>\n    </tr>\n  </thead>\n  <tbody>\n    <tr>\n      <th>0</th>\n      <td>0</td>\n      <td>6422</td>\n      <td>1927</td>\n      <td>2009-04-30</td>\n      <td>14100</td>\n      <td>Melissa</td>\n      <td>I can't say enough about how wonderful it was ...</td>\n      <td>i cant say enough about how wonderful it was t...</td>\n    </tr>\n    <tr>\n      <th>1</th>\n      <td>1</td>\n      <td>6422</td>\n      <td>3867</td>\n      <td>2009-06-11</td>\n      <td>17413</td>\n      <td>Raquel</td>\n      <td>Michelle and Collier's home is wonderful! They...</td>\n      <td>michelle and colliers home is wonderful they a...</td>\n    </tr>\n    <tr>\n      <th>2</th>\n      <td>2</td>\n      <td>6422</td>\n      <td>4159</td>\n      <td>2009-06-17</td>\n      <td>20253</td>\n      <td>Ulrike</td>\n      <td>I spent one night at Michele's home and felt j...</td>\n      <td>i spent one night at micheles home and felt ju...</td>\n    </tr>\n    <tr>\n      <th>3</th>\n      <td>3</td>\n      <td>6422</td>\n      <td>5724</td>\n      <td>2009-07-18</td>\n      <td>22544</td>\n      <td>Phil</td>\n      <td>Michele and Collier are two of the loveliest p...</td>\n      <td>michele and collier are two of the loveliest p...</td>\n    </tr>\n    <tr>\n      <th>4</th>\n      <td>4</td>\n      <td>6422</td>\n      <td>11891</td>\n      <td>2009-09-29</td>\n      <td>33409</td>\n      <td>Claire</td>\n      <td>We had the most lovely time staying with Miche...</td>\n      <td>we had the most lovely time staying with miche...</td>\n    </tr>\n  </tbody>\n</table>\n</div>"
     },
     "execution_count": 7,
     "metadata": {},
     "output_type": "execute_result"
    }
   ],
   "source": [
    "df_reviews.head()"
   ],
   "metadata": {
    "collapsed": false
   }
  },
  {
   "cell_type": "code",
   "execution_count": 8,
   "outputs": [],
   "source": [
    "#df_reviews['tokens'] = df_reviews['cleaned_text'][2000000:3000000].apply(tokenize_and_lemmatize)"
   ],
   "metadata": {
    "collapsed": false
   }
  },
  {
   "cell_type": "code",
   "execution_count": 9,
   "outputs": [
    {
     "data": {
      "text/plain": "VBox(children=(HTML(value='Progress: 0%'), IntProgress(value=0, max=1668045)))",
      "application/vnd.jupyter.widget-view+json": {
       "version_major": 2,
       "version_minor": 0,
       "model_id": "85a2692523b84c80a874b262da44d70e"
      }
     },
     "metadata": {},
     "output_type": "display_data"
    }
   ],
   "source": [
    "progress_bar = IntProgress(min=0,max=len(df_reviews['cleaned_text'][8000000:]), value=0)\n",
    "\n",
    "label = HTML(value='Progress: 0%')\n",
    "\n",
    "display(VBox([label, progress_bar]))\n",
    "\n",
    "tokens_list = []\n",
    "\n",
    "for i in df_reviews['cleaned_text'][8000000:]:\n",
    "    token = tokenize_and_lemmatize(i)\n",
    "    tokens_list.append(token)\n",
    "    progress_bar.value = len(tokens_list)\n",
    "    label.value = f'Progress: {len(tokens_list)/len(df_reviews[\"cleaned_text\"][8000000:]) * 100}%'\n",
    "\n",
    "#df_reviews['tokens'] = tokens_list"
   ],
   "metadata": {
    "collapsed": false
   }
  },
  {
   "cell_type": "code",
   "execution_count": 10,
   "outputs": [
    {
     "name": "stderr",
     "output_type": "stream",
     "text": [
      "C:\\Users\\asl4a\\AppData\\Local\\Temp\\ipykernel_1204\\3837313392.py:2: SettingWithCopyWarning: \n",
      "A value is trying to be set on a copy of a slice from a DataFrame.\n",
      "Try using .loc[row_indexer,col_indexer] = value instead\n",
      "\n",
      "See the caveats in the documentation: https://pandas.pydata.org/pandas-docs/stable/user_guide/indexing.html#returning-a-view-versus-a-copy\n",
      "  df_reviews2['tokens'] = tokens_list\n"
     ]
    }
   ],
   "source": [
    "df_reviews2 = df_reviews[8000000:]\n",
    "df_reviews2['tokens'] = tokens_list\n",
    "#df_reviews['tokens'] = tokens_list"
   ],
   "metadata": {
    "collapsed": false
   }
  },
  {
   "cell_type": "code",
   "execution_count": 11,
   "outputs": [
    {
     "data": {
      "text/plain": "         temp_index          listing_id                  id        date  \\\n8000000        9772             2898991            36504216  2015-06-29   \n8000001        9773             2898991            37278315  2015-07-06   \n8000002        9774             2898991            37885665  2015-07-11   \n8000003        9775             2898991            38094545  2015-07-13   \n8000004        9776             2898991            38977268  2015-07-20   \n...             ...                 ...                 ...         ...   \n9668040     1459400  904459169206385872  906632098517736492  2023-06-04   \n9668041     1459401  902262639204577592  905911996152427208  2023-06-03   \n9668042     1459402  902275771323672573  904510451196355984  2023-06-01   \n9668043     1459403  902279125007633591  906577547506923550  2023-06-04   \n9668044     1459404  905798817363097610  907380645596645253  2023-06-05   \n\n         reviewer_id reviewer_name  \\\n8000000     27101081           Liz   \n8000001      2429321         Maria   \n8000002     22445124         James   \n8000003      6990312          Kara   \n8000004      2206119        Andrew   \n...              ...           ...   \n9668040    233078624     Chien-Hao   \n9668041     93526779       Celeine   \n9668042    517637293         Maria   \n9668043     99532747        Andres   \n9668044    277166716        Lionel   \n\n                                                  comments  \\\n8000000  This house was extremely clean and well kept -...   \n8000001  Great location in Newport, walking distance to...   \n8000002  Let first start by saying how responsive Georg...   \n8000003  George was very helpful and accessible through...   \n8000004  The place is great. Excellent location and per...   \n...                                                    ...   \n9668040  A very smooth stay in this place. The host is ...   \n9668041  The unit was new and very clean. It was a litt...   \n9668042  Everything was very easy, quick to book, and t...   \n9668043  This was a great space for two people! Its sma...   \n9668044  Omg. This place was absolutely amazing. Very s...   \n\n                                              cleaned_text  \\\n8000000  this house was extremely clean and well kept  ...   \n8000001  great location in newport walking distance to ...   \n8000002  let first start by saying how responsive georg...   \n8000003  george was very helpful and accessible through...   \n8000004  the place is great excellent location and perf...   \n...                                                    ...   \n9668040  a very smooth stay in this place the host is v...   \n9668041  the unit was new and very clean it was a littl...   \n9668042  everything was very easy quick to book and the...   \n9668043  this was a great space for two people its smal...   \n9668044  omg this place was absolutely amazing very spa...   \n\n                                                    tokens  \n8000000  [house, extremely, clean, keep, short, walk, d...  \n8000001  [great, location, newport, walk, distance, tow...  \n8000002  [let, start, say, responsive, george, moment, ...  \n8000003  [george, helpful, accessible, weekend, sleep, ...  \n8000004  [place, great, excellent, location, perfect, g...  \n...                                                    ...  \n9668040  [smooth, stay, place, host, responsive, room, ...  \n9668041  [unit, new, clean, little, tricky, find, find,...  \n9668042  [easy, quick, book, place, clean, exactly, pic...  \n9668043  [great, space, people, small, effective, night...  \n9668044  [omg, place, absolutely, amazing, spacious, pl...  \n\n[1668045 rows x 9 columns]",
      "text/html": "<div>\n<style scoped>\n    .dataframe tbody tr th:only-of-type {\n        vertical-align: middle;\n    }\n\n    .dataframe tbody tr th {\n        vertical-align: top;\n    }\n\n    .dataframe thead th {\n        text-align: right;\n    }\n</style>\n<table border=\"1\" class=\"dataframe\">\n  <thead>\n    <tr style=\"text-align: right;\">\n      <th></th>\n      <th>temp_index</th>\n      <th>listing_id</th>\n      <th>id</th>\n      <th>date</th>\n      <th>reviewer_id</th>\n      <th>reviewer_name</th>\n      <th>comments</th>\n      <th>cleaned_text</th>\n      <th>tokens</th>\n    </tr>\n  </thead>\n  <tbody>\n    <tr>\n      <th>8000000</th>\n      <td>9772</td>\n      <td>2898991</td>\n      <td>36504216</td>\n      <td>2015-06-29</td>\n      <td>27101081</td>\n      <td>Liz</td>\n      <td>This house was extremely clean and well kept -...</td>\n      <td>this house was extremely clean and well kept  ...</td>\n      <td>[house, extremely, clean, keep, short, walk, d...</td>\n    </tr>\n    <tr>\n      <th>8000001</th>\n      <td>9773</td>\n      <td>2898991</td>\n      <td>37278315</td>\n      <td>2015-07-06</td>\n      <td>2429321</td>\n      <td>Maria</td>\n      <td>Great location in Newport, walking distance to...</td>\n      <td>great location in newport walking distance to ...</td>\n      <td>[great, location, newport, walk, distance, tow...</td>\n    </tr>\n    <tr>\n      <th>8000002</th>\n      <td>9774</td>\n      <td>2898991</td>\n      <td>37885665</td>\n      <td>2015-07-11</td>\n      <td>22445124</td>\n      <td>James</td>\n      <td>Let first start by saying how responsive Georg...</td>\n      <td>let first start by saying how responsive georg...</td>\n      <td>[let, start, say, responsive, george, moment, ...</td>\n    </tr>\n    <tr>\n      <th>8000003</th>\n      <td>9775</td>\n      <td>2898991</td>\n      <td>38094545</td>\n      <td>2015-07-13</td>\n      <td>6990312</td>\n      <td>Kara</td>\n      <td>George was very helpful and accessible through...</td>\n      <td>george was very helpful and accessible through...</td>\n      <td>[george, helpful, accessible, weekend, sleep, ...</td>\n    </tr>\n    <tr>\n      <th>8000004</th>\n      <td>9776</td>\n      <td>2898991</td>\n      <td>38977268</td>\n      <td>2015-07-20</td>\n      <td>2206119</td>\n      <td>Andrew</td>\n      <td>The place is great. Excellent location and per...</td>\n      <td>the place is great excellent location and perf...</td>\n      <td>[place, great, excellent, location, perfect, g...</td>\n    </tr>\n    <tr>\n      <th>...</th>\n      <td>...</td>\n      <td>...</td>\n      <td>...</td>\n      <td>...</td>\n      <td>...</td>\n      <td>...</td>\n      <td>...</td>\n      <td>...</td>\n      <td>...</td>\n    </tr>\n    <tr>\n      <th>9668040</th>\n      <td>1459400</td>\n      <td>904459169206385872</td>\n      <td>906632098517736492</td>\n      <td>2023-06-04</td>\n      <td>233078624</td>\n      <td>Chien-Hao</td>\n      <td>A very smooth stay in this place. The host is ...</td>\n      <td>a very smooth stay in this place the host is v...</td>\n      <td>[smooth, stay, place, host, responsive, room, ...</td>\n    </tr>\n    <tr>\n      <th>9668041</th>\n      <td>1459401</td>\n      <td>902262639204577592</td>\n      <td>905911996152427208</td>\n      <td>2023-06-03</td>\n      <td>93526779</td>\n      <td>Celeine</td>\n      <td>The unit was new and very clean. It was a litt...</td>\n      <td>the unit was new and very clean it was a littl...</td>\n      <td>[unit, new, clean, little, tricky, find, find,...</td>\n    </tr>\n    <tr>\n      <th>9668042</th>\n      <td>1459402</td>\n      <td>902275771323672573</td>\n      <td>904510451196355984</td>\n      <td>2023-06-01</td>\n      <td>517637293</td>\n      <td>Maria</td>\n      <td>Everything was very easy, quick to book, and t...</td>\n      <td>everything was very easy quick to book and the...</td>\n      <td>[easy, quick, book, place, clean, exactly, pic...</td>\n    </tr>\n    <tr>\n      <th>9668043</th>\n      <td>1459403</td>\n      <td>902279125007633591</td>\n      <td>906577547506923550</td>\n      <td>2023-06-04</td>\n      <td>99532747</td>\n      <td>Andres</td>\n      <td>This was a great space for two people! Its sma...</td>\n      <td>this was a great space for two people its smal...</td>\n      <td>[great, space, people, small, effective, night...</td>\n    </tr>\n    <tr>\n      <th>9668044</th>\n      <td>1459404</td>\n      <td>905798817363097610</td>\n      <td>907380645596645253</td>\n      <td>2023-06-05</td>\n      <td>277166716</td>\n      <td>Lionel</td>\n      <td>Omg. This place was absolutely amazing. Very s...</td>\n      <td>omg this place was absolutely amazing very spa...</td>\n      <td>[omg, place, absolutely, amazing, spacious, pl...</td>\n    </tr>\n  </tbody>\n</table>\n<p>1668045 rows × 9 columns</p>\n</div>"
     },
     "execution_count": 11,
     "metadata": {},
     "output_type": "execute_result"
    }
   ],
   "source": [
    "df_reviews2"
   ],
   "metadata": {
    "collapsed": false
   }
  },
  {
   "cell_type": "code",
   "execution_count": 13,
   "outputs": [],
   "source": [
    "df_reviews2.to_csv('Cleaned_Reviews_9.csv')"
   ],
   "metadata": {
    "collapsed": false
   }
  },
  {
   "cell_type": "code",
   "execution_count": 19,
   "outputs": [
    {
     "ename": "KeyError",
     "evalue": "'tokens'",
     "output_type": "error",
     "traceback": [
      "\u001B[1;31m---------------------------------------------------------------------------\u001B[0m",
      "\u001B[1;31mKeyError\u001B[0m                                  Traceback (most recent call last)",
      "File \u001B[1;32m~\\anaconda3\\lib\\site-packages\\pandas\\core\\indexes\\base.py:3653\u001B[0m, in \u001B[0;36mIndex.get_loc\u001B[1;34m(self, key)\u001B[0m\n\u001B[0;32m   3652\u001B[0m \u001B[38;5;28;01mtry\u001B[39;00m:\n\u001B[1;32m-> 3653\u001B[0m     \u001B[38;5;28;01mreturn\u001B[39;00m \u001B[38;5;28;43mself\u001B[39;49m\u001B[38;5;241;43m.\u001B[39;49m\u001B[43m_engine\u001B[49m\u001B[38;5;241;43m.\u001B[39;49m\u001B[43mget_loc\u001B[49m\u001B[43m(\u001B[49m\u001B[43mcasted_key\u001B[49m\u001B[43m)\u001B[49m\n\u001B[0;32m   3654\u001B[0m \u001B[38;5;28;01mexcept\u001B[39;00m \u001B[38;5;167;01mKeyError\u001B[39;00m \u001B[38;5;28;01mas\u001B[39;00m err:\n",
      "File \u001B[1;32m~\\anaconda3\\lib\\site-packages\\pandas\\_libs\\index.pyx:147\u001B[0m, in \u001B[0;36mpandas._libs.index.IndexEngine.get_loc\u001B[1;34m()\u001B[0m\n",
      "File \u001B[1;32m~\\anaconda3\\lib\\site-packages\\pandas\\_libs\\index.pyx:176\u001B[0m, in \u001B[0;36mpandas._libs.index.IndexEngine.get_loc\u001B[1;34m()\u001B[0m\n",
      "File \u001B[1;32mpandas\\_libs\\hashtable_class_helper.pxi:7080\u001B[0m, in \u001B[0;36mpandas._libs.hashtable.PyObjectHashTable.get_item\u001B[1;34m()\u001B[0m\n",
      "File \u001B[1;32mpandas\\_libs\\hashtable_class_helper.pxi:7088\u001B[0m, in \u001B[0;36mpandas._libs.hashtable.PyObjectHashTable.get_item\u001B[1;34m()\u001B[0m\n",
      "\u001B[1;31mKeyError\u001B[0m: 'tokens'",
      "\nThe above exception was the direct cause of the following exception:\n",
      "\u001B[1;31mKeyError\u001B[0m                                  Traceback (most recent call last)",
      "Cell \u001B[1;32mIn[19], line 1\u001B[0m\n\u001B[1;32m----> 1\u001B[0m \u001B[38;5;28mlen\u001B[39m(\u001B[43mdf_reviews\u001B[49m\u001B[43m[\u001B[49m\u001B[38;5;124;43m'\u001B[39;49m\u001B[38;5;124;43mtokens\u001B[39;49m\u001B[38;5;124;43m'\u001B[39;49m\u001B[43m]\u001B[49m)\n",
      "File \u001B[1;32m~\\anaconda3\\lib\\site-packages\\pandas\\core\\frame.py:3761\u001B[0m, in \u001B[0;36mDataFrame.__getitem__\u001B[1;34m(self, key)\u001B[0m\n\u001B[0;32m   3759\u001B[0m \u001B[38;5;28;01mif\u001B[39;00m \u001B[38;5;28mself\u001B[39m\u001B[38;5;241m.\u001B[39mcolumns\u001B[38;5;241m.\u001B[39mnlevels \u001B[38;5;241m>\u001B[39m \u001B[38;5;241m1\u001B[39m:\n\u001B[0;32m   3760\u001B[0m     \u001B[38;5;28;01mreturn\u001B[39;00m \u001B[38;5;28mself\u001B[39m\u001B[38;5;241m.\u001B[39m_getitem_multilevel(key)\n\u001B[1;32m-> 3761\u001B[0m indexer \u001B[38;5;241m=\u001B[39m \u001B[38;5;28;43mself\u001B[39;49m\u001B[38;5;241;43m.\u001B[39;49m\u001B[43mcolumns\u001B[49m\u001B[38;5;241;43m.\u001B[39;49m\u001B[43mget_loc\u001B[49m\u001B[43m(\u001B[49m\u001B[43mkey\u001B[49m\u001B[43m)\u001B[49m\n\u001B[0;32m   3762\u001B[0m \u001B[38;5;28;01mif\u001B[39;00m is_integer(indexer):\n\u001B[0;32m   3763\u001B[0m     indexer \u001B[38;5;241m=\u001B[39m [indexer]\n",
      "File \u001B[1;32m~\\anaconda3\\lib\\site-packages\\pandas\\core\\indexes\\base.py:3655\u001B[0m, in \u001B[0;36mIndex.get_loc\u001B[1;34m(self, key)\u001B[0m\n\u001B[0;32m   3653\u001B[0m     \u001B[38;5;28;01mreturn\u001B[39;00m \u001B[38;5;28mself\u001B[39m\u001B[38;5;241m.\u001B[39m_engine\u001B[38;5;241m.\u001B[39mget_loc(casted_key)\n\u001B[0;32m   3654\u001B[0m \u001B[38;5;28;01mexcept\u001B[39;00m \u001B[38;5;167;01mKeyError\u001B[39;00m \u001B[38;5;28;01mas\u001B[39;00m err:\n\u001B[1;32m-> 3655\u001B[0m     \u001B[38;5;28;01mraise\u001B[39;00m \u001B[38;5;167;01mKeyError\u001B[39;00m(key) \u001B[38;5;28;01mfrom\u001B[39;00m \u001B[38;5;21;01merr\u001B[39;00m\n\u001B[0;32m   3656\u001B[0m \u001B[38;5;28;01mexcept\u001B[39;00m \u001B[38;5;167;01mTypeError\u001B[39;00m:\n\u001B[0;32m   3657\u001B[0m     \u001B[38;5;66;03m# If we have a listlike key, _check_indexing_error will raise\u001B[39;00m\n\u001B[0;32m   3658\u001B[0m     \u001B[38;5;66;03m#  InvalidIndexError. Otherwise we fall through and re-raise\u001B[39;00m\n\u001B[0;32m   3659\u001B[0m     \u001B[38;5;66;03m#  the TypeError.\u001B[39;00m\n\u001B[0;32m   3660\u001B[0m     \u001B[38;5;28mself\u001B[39m\u001B[38;5;241m.\u001B[39m_check_indexing_error(key)\n",
      "\u001B[1;31mKeyError\u001B[0m: 'tokens'"
     ]
    }
   ],
   "source": [
    "len(df_reviews['tokens'])"
   ],
   "metadata": {
    "collapsed": false
   }
  },
  {
   "cell_type": "code",
   "execution_count": null,
   "outputs": [],
   "source": [
    "df_reviews = df_reviews.dropna(axis=0)"
   ],
   "metadata": {
    "collapsed": false
   }
  },
  {
   "cell_type": "code",
   "execution_count": null,
   "outputs": [],
   "source": [
    "len(df_reviews)"
   ],
   "metadata": {
    "collapsed": false
   }
  },
  {
   "cell_type": "code",
   "execution_count": null,
   "outputs": [],
   "source": [
    "df_reviews.to_csv('Cleaned_Reviews_4.csv')"
   ],
   "metadata": {
    "collapsed": false
   }
  },
  {
   "cell_type": "code",
   "execution_count": null,
   "outputs": [],
   "source": [
    "#df_reviews.to_csv('Spacy_Processed_Reviews.csv',index=True)"
   ],
   "metadata": {
    "collapsed": false
   }
  },
  {
   "cell_type": "code",
   "execution_count": null,
   "outputs": [],
   "source": [
    "# pl.scan_csv() returns a LazyFrame but pl.read_csv() returns a regular polars dataframe\n",
    "df_reviews = pl.scan_csv(r\"C:\\Users\\asl4a\\df_reviews.csv\")"
   ],
   "metadata": {
    "collapsed": false
   }
  },
  {
   "cell_type": "code",
   "execution_count": null,
   "outputs": [],
   "source": [
    "df_reviews.head().collect()"
   ],
   "metadata": {
    "collapsed": false
   }
  },
  {
   "cell_type": "code",
   "execution_count": null,
   "outputs": [],
   "source": [
    "#df_reviews['listing_id'].value_counts(sort=True)"
   ],
   "metadata": {
    "collapsed": false,
    "pycharm": {
     "is_executing": true
    }
   }
  },
  {
   "cell_type": "code",
   "execution_count": null,
   "outputs": [],
   "source": [
    "df_revs2 = pl.read_csv(r\"C:\\Users\\asl4a\\df_reviews.csv\")\n",
    "df_revs2.head()"
   ],
   "metadata": {
    "collapsed": false,
    "pycharm": {
     "is_executing": true
    }
   }
  },
  {
   "cell_type": "code",
   "execution_count": null,
   "outputs": [],
   "source": [
    "df_revs2['listing_id'].value_counts(sort=True)"
   ],
   "metadata": {
    "collapsed": false,
    "pycharm": {
     "is_executing": true
    }
   }
  },
  {
   "cell_type": "code",
   "execution_count": null,
   "outputs": [],
   "source": [
    "df_revs2['listing_id'].n_unique()"
   ],
   "metadata": {
    "collapsed": false,
    "pycharm": {
     "is_executing": true
    }
   }
  },
  {
   "cell_type": "code",
   "execution_count": null,
   "outputs": [],
   "source": [
    "df_revs2['cleaned_text'] = df_revs2.with_columns(['comments'].map_rows(clean_text))"
   ],
   "metadata": {
    "collapsed": false,
    "pycharm": {
     "is_executing": true
    }
   }
  },
  {
   "cell_type": "code",
   "execution_count": null,
   "outputs": [],
   "source": [
    "df_listings = pd.read_sql(\"\"\"\n",
    "SELECT *\n",
    "FROM listings\"\"\",con=conn)"
   ],
   "metadata": {
    "collapsed": false,
    "pycharm": {
     "is_executing": true
    }
   }
  },
  {
   "cell_type": "code",
   "execution_count": null,
   "outputs": [],
   "source": [
    "df_listings.head()"
   ],
   "metadata": {
    "collapsed": false,
    "pycharm": {
     "is_executing": true
    }
   }
  },
  {
   "cell_type": "code",
   "execution_count": null,
   "outputs": [],
   "source": [
    "df_listings['host_response_rate'] = df_listings['host_response_rate'].str.strip('%')\n",
    "df_listings['host_acceptance_rate'] = df_listings['host_acceptance_rate'].str.strip('%')\n",
    "df_listings['price'] = df_listings['price'].str.strip('$')"
   ],
   "metadata": {
    "collapsed": false,
    "pycharm": {
     "is_executing": true
    }
   }
  },
  {
   "cell_type": "code",
   "execution_count": null,
   "outputs": [],
   "source": [
    "sns.histplot(df_listings['price'])"
   ],
   "metadata": {
    "collapsed": false,
    "pycharm": {
     "is_executing": true
    }
   }
  },
  {
   "cell_type": "code",
   "execution_count": null,
   "outputs": [],
   "source": [],
   "metadata": {
    "collapsed": false,
    "pycharm": {
     "is_executing": true
    }
   }
  },
  {
   "cell_type": "code",
   "execution_count": null,
   "outputs": [],
   "source": [],
   "metadata": {
    "collapsed": false
   }
  }
 ],
 "metadata": {
  "kernelspec": {
   "display_name": "Python 3",
   "language": "python",
   "name": "python3"
  },
  "language_info": {
   "codemirror_mode": {
    "name": "ipython",
    "version": 2
   },
   "file_extension": ".py",
   "mimetype": "text/x-python",
   "name": "python",
   "nbconvert_exporter": "python",
   "pygments_lexer": "ipython2",
   "version": "2.7.6"
  }
 },
 "nbformat": 4,
 "nbformat_minor": 0
}
