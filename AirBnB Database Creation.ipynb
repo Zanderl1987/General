{
 "cells": [
  {
   "cell_type": "code",
   "execution_count": 1,
   "id": "f5679aa0-45be-4562-829d-8553448a0345",
   "metadata": {
    "tags": []
   },
   "outputs": [
    {
     "data": {
      "text/plain": "DataTransformerRegistry.enable('default')"
     },
     "execution_count": 1,
     "metadata": {},
     "output_type": "execute_result"
    }
   ],
   "source": [
    "import pandas as pd\n",
    "import numpy as np\n",
    "import datetime\n",
    "import matplotlib.pyplot as plt\n",
    "import seaborn as sns\n",
    "import altair as alt\n",
    "import gzip\n",
    "import shutil\n",
    "import pathlib\n",
    "import os\n",
    "import sqlalchemy\n",
    "import sqlite3\n",
    "from vaderSentiment.vaderSentiment import SentimentIntensityAnalyzer\n",
    "sid_obj = SentimentIntensityAnalyzer()\n",
    "\n",
    "%matplotlib inline\n",
    "alt.data_transformers.disable_max_rows()"
   ]
  },
  {
   "cell_type": "code",
   "execution_count": 2,
   "id": "f78aafc9-cf50-414b-9941-a1fbe1d0fd3b",
   "metadata": {
    "tags": []
   },
   "outputs": [],
   "source": [
    "def convert_path(path):\n",
    "    converted_path = pathlib.PureWindowsPath(path).as_posix()\n",
    "    return converted_path\n",
    "\n",
    "def print_files_in_directory(directory_path):\n",
    "    with os.scandir(directory_path) as entries:\n",
    "        for entry in entries:\n",
    "            if entry.is_file():\n",
    "                print(entry.name)\n",
    "                \n",
    "conn = sqlite3.connect('AirBnB_Data.db')\n",
    "cursor = conn.cursor()"
   ]
  },
  {
   "cell_type": "code",
   "execution_count": 3,
   "id": "0e5bd421-1245-401e-aff0-3385f29961d8",
   "metadata": {
    "tags": []
   },
   "outputs": [],
   "source": [
    "gz_calendar_path = convert_path(\"F:\\Data Science\\Datasets\\AirBnB Data\\Calendars gz\")\n",
    "gz_listings_path = convert_path(\"F:\\Data Science\\Datasets\\AirBnB Data\\Listings gz\")\n",
    "gz_reviews_path = convert_path(\"F:\\Data Science\\Datasets\\AirBnB Data\\Reviews gz\")\n",
    "\n",
    "calendars_dest_path = convert_path(\"F:\\Data Science\\Datasets\\AirBnB Data\\Calendars\")\n",
    "listings_dest_path = convert_path(\"F:\\Data Science\\Datasets\\AirBnB Data\\Listings\")\n",
    "reviews_dest_path = convert_path(\"F:\\Data Science\\Datasets\\AirBnB Data\\Reviews\")"
   ]
  },
  {
   "cell_type": "code",
   "execution_count": 4,
   "id": "f19e54f6-c712-40b4-8423-62f201d33757",
   "metadata": {
    "tags": []
   },
   "outputs": [],
   "source": [
    "# with os.scandir(gz_calendar_path) as entries:\n",
    "#     for entry in entries:\n",
    "#         if entry.is_file():\n",
    "#             with gzip.open(f\"{gz_calendar_path}/{entry.name}\", 'rb') as gz_file, open(f\"{calendars_dest_path}/{entry.name}\", 'wb') as dest_file:\n",
    "#                 shutil.copyfileobj(gz_file, dest_file)"
   ]
  },
  {
   "cell_type": "code",
   "execution_count": 5,
   "id": "2face0d1-c4b0-4406-8f99-2b54e75fab30",
   "metadata": {
    "tags": []
   },
   "outputs": [],
   "source": [
    "# with os.scandir(gz_listings_path) as entries:\n",
    "#     for entry in entries:\n",
    "#         if entry.is_file():\n",
    "#             with gzip.open(f\"{gz_listings_path}/{entry.name}\", 'rb') as gz_file, open(f\"{listings_dest_path}/{entry.name}\", 'wb') as dest_file:\n",
    "#                 shutil.copyfileobj(gz_file, dest_file)"
   ]
  },
  {
   "cell_type": "code",
   "execution_count": 6,
   "id": "1f43e020-21e8-4382-acba-2835b39eb215",
   "metadata": {
    "tags": []
   },
   "outputs": [],
   "source": [
    "# with os.scandir(gz_reviews_path) as entries:\n",
    "#     for entry in entries:\n",
    "#         if entry.is_file():\n",
    "#             with gzip.open(f\"{gz_reviews_path}/{entry.name}\", 'rb') as gz_file, open(f\"{reviews_dest_path}/{entry.name}\", 'wb') as dest_file:\n",
    "#                 shutil.copyfileobj(gz_file, dest_file)"
   ]
  },
  {
   "cell_type": "code",
   "execution_count": 4,
   "id": "9de685e3-6df2-4aae-8867-30fa79048384",
   "metadata": {},
   "outputs": [],
   "source": [
    "files_list = []\n",
    "\n",
    "with os.scandir(gz_listings_path) as entries:\n",
    "    for entry in entries:\n",
    "        if entry.is_file():\n",
    "            converted_path = convert_path(entry.path)\n",
    "            data_df = pd.read_csv(converted_path)\n",
    "            files_list.append(data_df)\n",
    "\n",
    "df_listings = pd.concat(files_list)"
   ]
  },
  {
   "cell_type": "code",
   "execution_count": 5,
   "id": "f6a4e72d-887c-4f23-b28a-020577f5741a",
   "metadata": {
    "tags": []
   },
   "outputs": [
    {
     "data": {
      "text/html": [
       "<div>\n",
       "<style scoped>\n",
       "    .dataframe tbody tr th:only-of-type {\n",
       "        vertical-align: middle;\n",
       "    }\n",
       "\n",
       "    .dataframe tbody tr th {\n",
       "        vertical-align: top;\n",
       "    }\n",
       "\n",
       "    .dataframe thead th {\n",
       "        text-align: right;\n",
       "    }\n",
       "</style>\n",
       "<table border=\"1\" class=\"dataframe\">\n",
       "  <thead>\n",
       "    <tr style=\"text-align: right;\">\n",
       "      <th></th>\n",
       "      <th>id</th>\n",
       "      <th>listing_url</th>\n",
       "      <th>scrape_id</th>\n",
       "      <th>last_scraped</th>\n",
       "      <th>source</th>\n",
       "      <th>name</th>\n",
       "      <th>description</th>\n",
       "      <th>neighborhood_overview</th>\n",
       "      <th>picture_url</th>\n",
       "      <th>host_id</th>\n",
       "      <th>...</th>\n",
       "      <th>review_scores_communication</th>\n",
       "      <th>review_scores_location</th>\n",
       "      <th>review_scores_value</th>\n",
       "      <th>license</th>\n",
       "      <th>instant_bookable</th>\n",
       "      <th>calculated_host_listings_count</th>\n",
       "      <th>calculated_host_listings_count_entire_homes</th>\n",
       "      <th>calculated_host_listings_count_private_rooms</th>\n",
       "      <th>calculated_host_listings_count_shared_rooms</th>\n",
       "      <th>reviews_per_month</th>\n",
       "    </tr>\n",
       "  </thead>\n",
       "  <tbody>\n",
       "    <tr>\n",
       "      <th>0</th>\n",
       "      <td>6422</td>\n",
       "      <td>https://www.airbnb.com/rooms/6422</td>\n",
       "      <td>20230622195211</td>\n",
       "      <td>2023-06-22</td>\n",
       "      <td>city scrape</td>\n",
       "      <td>Home in Nashville · ★4.95 · 1 bedroom · 1 bed ...</td>\n",
       "      <td>30 day plus rental - book for one month and th...</td>\n",
       "      <td>Historic East Nashville is home to many new an...</td>\n",
       "      <td>https://a0.muscache.com/pictures/miso/Hosting-...</td>\n",
       "      <td>12172</td>\n",
       "      <td>...</td>\n",
       "      <td>4.96</td>\n",
       "      <td>4.92</td>\n",
       "      <td>4.98</td>\n",
       "      <td>NaN</td>\n",
       "      <td>f</td>\n",
       "      <td>1</td>\n",
       "      <td>0</td>\n",
       "      <td>1</td>\n",
       "      <td>0</td>\n",
       "      <td>3.91</td>\n",
       "    </tr>\n",
       "    <tr>\n",
       "      <th>1</th>\n",
       "      <td>39870</td>\n",
       "      <td>https://www.airbnb.com/rooms/39870</td>\n",
       "      <td>20230622195211</td>\n",
       "      <td>2023-06-22</td>\n",
       "      <td>city scrape</td>\n",
       "      <td>Home in Nashville · ★4.94 · 1 bedroom · 1 bed ...</td>\n",
       "      <td>Since I am older, I need for guests to be vacc...</td>\n",
       "      <td>The house is in a safe, quiet,  \"college\" neig...</td>\n",
       "      <td>https://a0.muscache.com/pictures/miso/Hosting-...</td>\n",
       "      <td>171184</td>\n",
       "      <td>...</td>\n",
       "      <td>4.98</td>\n",
       "      <td>4.94</td>\n",
       "      <td>4.94</td>\n",
       "      <td>NaN</td>\n",
       "      <td>f</td>\n",
       "      <td>1</td>\n",
       "      <td>0</td>\n",
       "      <td>1</td>\n",
       "      <td>0</td>\n",
       "      <td>4.52</td>\n",
       "    </tr>\n",
       "    <tr>\n",
       "      <th>2</th>\n",
       "      <td>72906</td>\n",
       "      <td>https://www.airbnb.com/rooms/72906</td>\n",
       "      <td>20230622195211</td>\n",
       "      <td>2023-06-23</td>\n",
       "      <td>city scrape</td>\n",
       "      <td>Rental unit in Nashville · ★4.91 · 2 bedrooms ...</td>\n",
       "      <td>Entire top floor. Private. 800 sq ft of bright...</td>\n",
       "      <td>Historic Belmont-Hillsboro neighborhood. Walk-...</td>\n",
       "      <td>https://a0.muscache.com/pictures/58602855/3788...</td>\n",
       "      <td>176117</td>\n",
       "      <td>...</td>\n",
       "      <td>4.99</td>\n",
       "      <td>4.96</td>\n",
       "      <td>4.89</td>\n",
       "      <td>NaN</td>\n",
       "      <td>f</td>\n",
       "      <td>1</td>\n",
       "      <td>1</td>\n",
       "      <td>0</td>\n",
       "      <td>0</td>\n",
       "      <td>4.71</td>\n",
       "    </tr>\n",
       "    <tr>\n",
       "      <th>3</th>\n",
       "      <td>258817</td>\n",
       "      <td>https://www.airbnb.com/rooms/258817</td>\n",
       "      <td>20230622195211</td>\n",
       "      <td>2023-06-22</td>\n",
       "      <td>city scrape</td>\n",
       "      <td>Home in Nashville · ★4.77 · 1 bedroom · 2 beds...</td>\n",
       "      <td>Morningstar House! Extended stay - 3+ months- ...</td>\n",
       "      <td>I'm  very near the Percy Priest Lake, natural ...</td>\n",
       "      <td>https://a0.muscache.com/pictures/eef19bc4-2743...</td>\n",
       "      <td>22296</td>\n",
       "      <td>...</td>\n",
       "      <td>4.90</td>\n",
       "      <td>4.74</td>\n",
       "      <td>4.73</td>\n",
       "      <td>NaN</td>\n",
       "      <td>f</td>\n",
       "      <td>8</td>\n",
       "      <td>0</td>\n",
       "      <td>7</td>\n",
       "      <td>1</td>\n",
       "      <td>0.68</td>\n",
       "    </tr>\n",
       "    <tr>\n",
       "      <th>4</th>\n",
       "      <td>289242</td>\n",
       "      <td>https://www.airbnb.com/rooms/289242</td>\n",
       "      <td>20230622195211</td>\n",
       "      <td>2023-06-22</td>\n",
       "      <td>city scrape</td>\n",
       "      <td>Home in Nashville · ★4.71 · 2 bedrooms · 3 bed...</td>\n",
       "      <td>Morningstar House! Extended stay - price reduc...</td>\n",
       "      <td>The Morningstar House is in a quiet cul-de-sac...</td>\n",
       "      <td>https://a0.muscache.com/pictures/40a7ab72-20f7...</td>\n",
       "      <td>22296</td>\n",
       "      <td>...</td>\n",
       "      <td>4.78</td>\n",
       "      <td>4.47</td>\n",
       "      <td>4.69</td>\n",
       "      <td>NaN</td>\n",
       "      <td>f</td>\n",
       "      <td>8</td>\n",
       "      <td>0</td>\n",
       "      <td>7</td>\n",
       "      <td>1</td>\n",
       "      <td>0.54</td>\n",
       "    </tr>\n",
       "  </tbody>\n",
       "</table>\n",
       "<p>5 rows × 75 columns</p>\n",
       "</div>"
      ],
      "text/plain": [
       "       id                          listing_url       scrape_id last_scraped  \\\n",
       "0    6422    https://www.airbnb.com/rooms/6422  20230622195211   2023-06-22   \n",
       "1   39870   https://www.airbnb.com/rooms/39870  20230622195211   2023-06-22   \n",
       "2   72906   https://www.airbnb.com/rooms/72906  20230622195211   2023-06-23   \n",
       "3  258817  https://www.airbnb.com/rooms/258817  20230622195211   2023-06-22   \n",
       "4  289242  https://www.airbnb.com/rooms/289242  20230622195211   2023-06-22   \n",
       "\n",
       "        source                                               name  \\\n",
       "0  city scrape  Home in Nashville · ★4.95 · 1 bedroom · 1 bed ...   \n",
       "1  city scrape  Home in Nashville · ★4.94 · 1 bedroom · 1 bed ...   \n",
       "2  city scrape  Rental unit in Nashville · ★4.91 · 2 bedrooms ...   \n",
       "3  city scrape  Home in Nashville · ★4.77 · 1 bedroom · 2 beds...   \n",
       "4  city scrape  Home in Nashville · ★4.71 · 2 bedrooms · 3 bed...   \n",
       "\n",
       "                                         description  \\\n",
       "0  30 day plus rental - book for one month and th...   \n",
       "1  Since I am older, I need for guests to be vacc...   \n",
       "2  Entire top floor. Private. 800 sq ft of bright...   \n",
       "3  Morningstar House! Extended stay - 3+ months- ...   \n",
       "4  Morningstar House! Extended stay - price reduc...   \n",
       "\n",
       "                               neighborhood_overview  \\\n",
       "0  Historic East Nashville is home to many new an...   \n",
       "1  The house is in a safe, quiet,  \"college\" neig...   \n",
       "2  Historic Belmont-Hillsboro neighborhood. Walk-...   \n",
       "3  I'm  very near the Percy Priest Lake, natural ...   \n",
       "4  The Morningstar House is in a quiet cul-de-sac...   \n",
       "\n",
       "                                         picture_url  host_id  ...  \\\n",
       "0  https://a0.muscache.com/pictures/miso/Hosting-...    12172  ...   \n",
       "1  https://a0.muscache.com/pictures/miso/Hosting-...   171184  ...   \n",
       "2  https://a0.muscache.com/pictures/58602855/3788...   176117  ...   \n",
       "3  https://a0.muscache.com/pictures/eef19bc4-2743...    22296  ...   \n",
       "4  https://a0.muscache.com/pictures/40a7ab72-20f7...    22296  ...   \n",
       "\n",
       "  review_scores_communication review_scores_location review_scores_value  \\\n",
       "0                        4.96                   4.92                4.98   \n",
       "1                        4.98                   4.94                4.94   \n",
       "2                        4.99                   4.96                4.89   \n",
       "3                        4.90                   4.74                4.73   \n",
       "4                        4.78                   4.47                4.69   \n",
       "\n",
       "  license instant_bookable calculated_host_listings_count  \\\n",
       "0     NaN                f                              1   \n",
       "1     NaN                f                              1   \n",
       "2     NaN                f                              1   \n",
       "3     NaN                f                              8   \n",
       "4     NaN                f                              8   \n",
       "\n",
       "  calculated_host_listings_count_entire_homes  \\\n",
       "0                                           0   \n",
       "1                                           0   \n",
       "2                                           1   \n",
       "3                                           0   \n",
       "4                                           0   \n",
       "\n",
       "  calculated_host_listings_count_private_rooms  \\\n",
       "0                                            1   \n",
       "1                                            1   \n",
       "2                                            0   \n",
       "3                                            7   \n",
       "4                                            7   \n",
       "\n",
       "  calculated_host_listings_count_shared_rooms reviews_per_month  \n",
       "0                                           0              3.91  \n",
       "1                                           0              4.52  \n",
       "2                                           0              4.71  \n",
       "3                                           1              0.68  \n",
       "4                                           1              0.54  \n",
       "\n",
       "[5 rows x 75 columns]"
      ]
     },
     "execution_count": 5,
     "metadata": {},
     "output_type": "execute_result"
    }
   ],
   "source": [
    "df_listings.head()"
   ]
  },
  {
   "cell_type": "code",
   "execution_count": 13,
   "id": "e53827ca-c388-4879-b120-43e5ccca8dcd",
   "metadata": {
    "tags": []
   },
   "outputs": [
    {
     "data": {
      "text/plain": [
       "228700"
      ]
     },
     "execution_count": 13,
     "metadata": {},
     "output_type": "execute_result"
    }
   ],
   "source": [
    "id_counts = df_listings['id'].nunique()\n",
    "id_counts"
   ]
  },
  {
   "cell_type": "code",
   "execution_count": 14,
   "id": "23060a84-6fe4-4bac-a213-801326276d3b",
   "metadata": {},
   "outputs": [
    {
     "data": {
      "text/plain": [
       "1398981               2\n",
       "632636                1\n",
       "637425                1\n",
       "72906                 1\n",
       "258817                1\n",
       "                     ..\n",
       "906795574883203554    1\n",
       "906805428220794999    1\n",
       "906814914634646368    1\n",
       "906822527155923710    1\n",
       "906872151078347575    1\n",
       "Name: id, Length: 228700, dtype: int64"
      ]
     },
     "execution_count": 14,
     "metadata": {},
     "output_type": "execute_result"
    }
   ],
   "source": [
    "df_listings['id'].value_counts().sort_values(ascending=False)"
   ]
  },
  {
   "cell_type": "code",
   "execution_count": 15,
   "id": "dbd3062b-5303-4ee0-96ae-282edbca4a2f",
   "metadata": {},
   "outputs": [
    {
     "data": {
      "text/plain": [
       "<Axes: ylabel='Frequency'>"
      ]
     },
     "execution_count": 15,
     "metadata": {},
     "output_type": "execute_result"
    },
    {
     "data": {
      "image/png": "[encoded data removed]",
      "text/plain": [
       "<Figure size 640x480 with 1 Axes>"
      ]
     },
     "metadata": {},
     "output_type": "display_data"
    }
   ],
   "source": [
    "df_listings['reviews_per_month'].plot(kind='hist')"
   ]
  },
  {
   "cell_type": "code",
   "execution_count": 16,
   "id": "9dfccc55-1704-4937-a760-50e726bb03a1",
   "metadata": {
    "tags": []
   },
   "outputs": [
    {
     "data": {
      "text/plain": [
       "<Axes: ylabel='Frequency'>"
      ]
     },
     "execution_count": 16,
     "metadata": {},
     "output_type": "execute_result"
    },
    {
     "data": {
      "image/png": "[encoded data removed]",
      "text/plain": [
       "<Figure size 640x480 with 1 Axes>"
      ]
     },
     "metadata": {},
     "output_type": "display_data"
    }
   ],
   "source": [
    "df_listings['review_scores_value'].plot(kind='hist')"
   ]
  },
  {
   "cell_type": "code",
   "execution_count": 5,
   "id": "a2cd3917-d613-46d9-b51c-56990919d2fb",
   "metadata": {
    "tags": []
   },
   "outputs": [],
   "source": [
    "create_table_sql = '''\n",
    "CREATE TABLE IF NOT EXISTS listings ();\n",
    "'''"
   ]
  },
  {
   "cell_type": "code",
   "execution_count": 13,
   "id": "dbc3a41d-0949-4866-8610-d13e34327857",
   "metadata": {
    "tags": []
   },
   "outputs": [
    {
     "data": {
      "text/plain": [
       "228701"
      ]
     },
     "execution_count": 13,
     "metadata": {},
     "output_type": "execute_result"
    }
   ],
   "source": [
    "#df_listings.to_sql(name='listings',con=conn)"
   ]
  },
  {
   "cell_type": "code",
   "execution_count": 4,
   "id": "6248c5b6-99cc-4acc-996d-09cfbb45b3cd",
   "metadata": {
    "tags": []
   },
   "outputs": [],
   "source": [
    "files_list = []\n",
    "\n",
    "with os.scandir(gz_reviews_path) as entries:\n",
    "    for entry in entries:\n",
    "        if entry.is_file():\n",
    "            converted_path = convert_path(entry.path)\n",
    "            data_df = pd.read_csv(converted_path)\n",
    "            files_list.append(data_df)\n",
    "\n",
    "df_reviews = pd.concat(files_list)"
   ]
  },
  {
   "cell_type": "code",
   "execution_count": 5,
   "id": "90455a5c-bf06-448d-ba91-a2c268b98a72",
   "metadata": {
    "tags": []
   },
   "outputs": [
    {
     "data": {
      "text/html": [
       "<div>\n",
       "<style scoped>\n",
       "    .dataframe tbody tr th:only-of-type {\n",
       "        vertical-align: middle;\n",
       "    }\n",
       "\n",
       "    .dataframe tbody tr th {\n",
       "        vertical-align: top;\n",
       "    }\n",
       "\n",
       "    .dataframe thead th {\n",
       "        text-align: right;\n",
       "    }\n",
       "</style>\n",
       "<table border=\"1\" class=\"dataframe\">\n",
       "  <thead>\n",
       "    <tr style=\"text-align: right;\">\n",
       "      <th></th>\n",
       "      <th>listing_id</th>\n",
       "      <th>id</th>\n",
       "      <th>date</th>\n",
       "      <th>reviewer_id</th>\n",
       "      <th>reviewer_name</th>\n",
       "      <th>comments</th>\n",
       "    </tr>\n",
       "  </thead>\n",
       "  <tbody>\n",
       "    <tr>\n",
       "      <th>0</th>\n",
       "      <td>6422</td>\n",
       "      <td>1927</td>\n",
       "      <td>2009-04-30</td>\n",
       "      <td>14100</td>\n",
       "      <td>Melissa</td>\n",
       "      <td>I can't say enough about how wonderful it was ...</td>\n",
       "    </tr>\n",
       "    <tr>\n",
       "      <th>1</th>\n",
       "      <td>6422</td>\n",
       "      <td>3867</td>\n",
       "      <td>2009-06-11</td>\n",
       "      <td>17413</td>\n",
       "      <td>Raquel</td>\n",
       "      <td>Michelle and Collier's home is wonderful! They...</td>\n",
       "    </tr>\n",
       "    <tr>\n",
       "      <th>2</th>\n",
       "      <td>6422</td>\n",
       "      <td>4159</td>\n",
       "      <td>2009-06-17</td>\n",
       "      <td>20253</td>\n",
       "      <td>Ulrike</td>\n",
       "      <td>I spent one night at Michele's home and felt j...</td>\n",
       "    </tr>\n",
       "    <tr>\n",
       "      <th>3</th>\n",
       "      <td>6422</td>\n",
       "      <td>5724</td>\n",
       "      <td>2009-07-18</td>\n",
       "      <td>22544</td>\n",
       "      <td>Phil</td>\n",
       "      <td>Michele and Collier are two of the loveliest p...</td>\n",
       "    </tr>\n",
       "    <tr>\n",
       "      <th>4</th>\n",
       "      <td>6422</td>\n",
       "      <td>11891</td>\n",
       "      <td>2009-09-29</td>\n",
       "      <td>33409</td>\n",
       "      <td>Claire</td>\n",
       "      <td>We had the most lovely time staying with Miche...</td>\n",
       "    </tr>\n",
       "  </tbody>\n",
       "</table>\n",
       "</div>"
      ],
      "text/plain": [
       "   listing_id     id        date  reviewer_id reviewer_name  \\\n",
       "0        6422   1927  2009-04-30        14100       Melissa   \n",
       "1        6422   3867  2009-06-11        17413        Raquel   \n",
       "2        6422   4159  2009-06-17        20253        Ulrike   \n",
       "3        6422   5724  2009-07-18        22544          Phil   \n",
       "4        6422  11891  2009-09-29        33409        Claire   \n",
       "\n",
       "                                            comments  \n",
       "0  I can't say enough about how wonderful it was ...  \n",
       "1  Michelle and Collier's home is wonderful! They...  \n",
       "2  I spent one night at Michele's home and felt j...  \n",
       "3  Michele and Collier are two of the loveliest p...  \n",
       "4  We had the most lovely time staying with Miche...  "
      ]
     },
     "execution_count": 5,
     "metadata": {},
     "output_type": "execute_result"
    }
   ],
   "source": [
    "df_reviews.head()"
   ]
  },
  {
   "cell_type": "code",
   "execution_count": 6,
   "id": "35ca1dd2-8330-4f5d-9732-a5a2271a8477",
   "metadata": {
    "tags": []
   },
   "outputs": [
    {
     "name": "stdout",
     "output_type": "stream",
     "text": [
      "<class 'pandas.core.frame.DataFrame'>\n",
      "Int64Index: 9668045 entries, 0 to 1459404\n",
      "Data columns (total 6 columns):\n",
      " #   Column         Dtype \n",
      "---  ------         ----- \n",
      " 0   listing_id     int64 \n",
      " 1   id             int64 \n",
      " 2   date           object\n",
      " 3   reviewer_id    int64 \n",
      " 4   reviewer_name  object\n",
      " 5   comments       object\n",
      "dtypes: int64(3), object(3)\n",
      "memory usage: 516.3+ MB\n"
     ]
    }
   ],
   "source": [
    "df_reviews.info()"
   ]
  },
  {
   "cell_type": "code",
   "execution_count": 17,
   "id": "e7ebac9e-962f-4e2f-950b-4ec5c7903b8d",
   "metadata": {},
   "outputs": [],
   "source": []
  },
  {
   "cell_type": "code",
   "execution_count": 21,
   "id": "0912c0a4-18db-40d4-a696-5cbac13a79b3",
   "metadata": {
    "tags": []
   },
   "outputs": [],
   "source": [
    "sent_test = sid_obj.polarity_scores(df_reviews['comments'].iloc[:1])"
   ]
  },
  {
   "cell_type": "code",
   "execution_count": 22,
   "id": "0f1f2d5d-675c-44b3-af1b-bd392e75c444",
   "metadata": {
    "tags": []
   },
   "outputs": [
    {
     "data": {
      "text/plain": [
       "{'neg': 0.008, 'neu': 0.665, 'pos': 0.327, 'compound': 0.9942}"
      ]
     },
     "execution_count": 22,
     "metadata": {},
     "output_type": "execute_result"
    }
   ],
   "source": [
    "sent_test"
   ]
  },
  {
   "cell_type": "code",
   "execution_count": 24,
   "id": "1e5e4c4a-f65b-4691-8072-e9fe9ebca796",
   "metadata": {
    "tags": []
   },
   "outputs": [],
   "source": [
    "sent_test_list = []\n",
    "\n",
    "for i in df_reviews['comments']:\n",
    "    sents = sid_obj.polarity_scores(i)\n",
    "    sent_test_list.append(sents)\n",
    "    #print(sents)"
   ]
  },
  {
   "cell_type": "code",
   "execution_count": 26,
   "id": "b83c60b4-34e3-4194-ad63-c5a285825638",
   "metadata": {
    "tags": []
   },
   "outputs": [],
   "source": [
    "sent_test_df = pd.DataFrame(sent_test_list)"
   ]
  },
  {
   "cell_type": "code",
   "execution_count": 27,
   "id": "0c04fb6a-fa27-471a-ae9a-e3747782c879",
   "metadata": {
    "tags": []
   },
   "outputs": [
    {
     "data": {
      "text/html": [
       "<div>\n",
       "<style scoped>\n",
       "    .dataframe tbody tr th:only-of-type {\n",
       "        vertical-align: middle;\n",
       "    }\n",
       "\n",
       "    .dataframe tbody tr th {\n",
       "        vertical-align: top;\n",
       "    }\n",
       "\n",
       "    .dataframe thead th {\n",
       "        text-align: right;\n",
       "    }\n",
       "</style>\n",
       "<table border=\"1\" class=\"dataframe\">\n",
       "  <thead>\n",
       "    <tr style=\"text-align: right;\">\n",
       "      <th></th>\n",
       "      <th>neg</th>\n",
       "      <th>neu</th>\n",
       "      <th>pos</th>\n",
       "      <th>compound</th>\n",
       "    </tr>\n",
       "  </thead>\n",
       "  <tbody>\n",
       "    <tr>\n",
       "      <th>0</th>\n",
       "      <td>0.008</td>\n",
       "      <td>0.665</td>\n",
       "      <td>0.327</td>\n",
       "      <td>0.9942</td>\n",
       "    </tr>\n",
       "    <tr>\n",
       "      <th>1</th>\n",
       "      <td>0.000</td>\n",
       "      <td>0.615</td>\n",
       "      <td>0.385</td>\n",
       "      <td>0.9953</td>\n",
       "    </tr>\n",
       "    <tr>\n",
       "      <th>2</th>\n",
       "      <td>0.000</td>\n",
       "      <td>0.671</td>\n",
       "      <td>0.329</td>\n",
       "      <td>0.9806</td>\n",
       "    </tr>\n",
       "    <tr>\n",
       "      <th>3</th>\n",
       "      <td>0.018</td>\n",
       "      <td>0.787</td>\n",
       "      <td>0.195</td>\n",
       "      <td>0.9680</td>\n",
       "    </tr>\n",
       "    <tr>\n",
       "      <th>4</th>\n",
       "      <td>0.039</td>\n",
       "      <td>0.695</td>\n",
       "      <td>0.266</td>\n",
       "      <td>0.9813</td>\n",
       "    </tr>\n",
       "    <tr>\n",
       "      <th>...</th>\n",
       "      <td>...</td>\n",
       "      <td>...</td>\n",
       "      <td>...</td>\n",
       "      <td>...</td>\n",
       "    </tr>\n",
       "    <tr>\n",
       "      <th>9668040</th>\n",
       "      <td>0.000</td>\n",
       "      <td>0.703</td>\n",
       "      <td>0.297</td>\n",
       "      <td>0.6697</td>\n",
       "    </tr>\n",
       "    <tr>\n",
       "      <th>9668041</th>\n",
       "      <td>0.020</td>\n",
       "      <td>0.722</td>\n",
       "      <td>0.257</td>\n",
       "      <td>0.9376</td>\n",
       "    </tr>\n",
       "    <tr>\n",
       "      <th>9668042</th>\n",
       "      <td>0.000</td>\n",
       "      <td>0.617</td>\n",
       "      <td>0.383</td>\n",
       "      <td>0.8264</td>\n",
       "    </tr>\n",
       "    <tr>\n",
       "      <th>9668043</th>\n",
       "      <td>0.000</td>\n",
       "      <td>0.732</td>\n",
       "      <td>0.268</td>\n",
       "      <td>0.9401</td>\n",
       "    </tr>\n",
       "    <tr>\n",
       "      <th>9668044</th>\n",
       "      <td>0.000</td>\n",
       "      <td>0.794</td>\n",
       "      <td>0.206</td>\n",
       "      <td>0.9323</td>\n",
       "    </tr>\n",
       "  </tbody>\n",
       "</table>\n",
       "<p>9668045 rows × 4 columns</p>\n",
       "</div>"
      ],
      "text/plain": [
       "           neg    neu    pos  compound\n",
       "0        0.008  0.665  0.327    0.9942\n",
       "1        0.000  0.615  0.385    0.9953\n",
       "2        0.000  0.671  0.329    0.9806\n",
       "3        0.018  0.787  0.195    0.9680\n",
       "4        0.039  0.695  0.266    0.9813\n",
       "...        ...    ...    ...       ...\n",
       "9668040  0.000  0.703  0.297    0.6697\n",
       "9668041  0.020  0.722  0.257    0.9376\n",
       "9668042  0.000  0.617  0.383    0.8264\n",
       "9668043  0.000  0.732  0.268    0.9401\n",
       "9668044  0.000  0.794  0.206    0.9323\n",
       "\n",
       "[9668045 rows x 4 columns]"
      ]
     },
     "execution_count": 27,
     "metadata": {},
     "output_type": "execute_result"
    }
   ],
   "source": [
    "sent_test_df"
   ]
  },
  {
   "cell_type": "code",
   "execution_count": 28,
   "id": "ada89ee6-9f46-4577-9820-800ff575f1af",
   "metadata": {
    "tags": []
   },
   "outputs": [
    {
     "name": "stdout",
     "output_type": "stream",
     "text": [
      "<class 'pandas.core.frame.DataFrame'>\n",
      "RangeIndex: 9668045 entries, 0 to 9668044\n",
      "Data columns (total 4 columns):\n",
      " #   Column    Dtype  \n",
      "---  ------    -----  \n",
      " 0   neg       float64\n",
      " 1   neu       float64\n",
      " 2   pos       float64\n",
      " 3   compound  float64\n",
      "dtypes: float64(4)\n",
      "memory usage: 295.0 MB\n"
     ]
    }
   ],
   "source": [
    "sent_test_df.info()"
   ]
  },
  {
   "cell_type": "code",
   "execution_count": 27,
   "id": "a669a655-88b6-4fc3-9a04-b352711fdfc3",
   "metadata": {
    "tags": []
   },
   "outputs": [],
   "source": [
    "df_reviews = pd.read_csv(r\"C:\\Users\\asl4a\\df_reviews.csv\")\n",
    "df_reviews['comments'] = df_reviews['comments'].astype(str)"
   ]
  },
  {
   "cell_type": "code",
   "execution_count": 30,
   "id": "b85cf95c-c1b3-4d9e-bf99-df6058d9d97e",
   "metadata": {
    "tags": []
   },
   "outputs": [],
   "source": [
    "df_reviews = df_reviews.rename(columns={'Unnamed: 0': 'temp_index'})"
   ]
  },
  {
   "cell_type": "code",
   "execution_count": 33,
   "id": "f3af358e-def3-4efa-82c5-88f9591cb0a2",
   "metadata": {},
   "outputs": [
    {
     "data": {
      "text/plain": [
       "9668045"
      ]
     },
     "execution_count": 33,
     "metadata": {},
     "output_type": "execute_result"
    }
   ],
   "source": [
    "#df_reviews.to_sql(name='reviews', con=conn,if_exists='replace')"
   ]
  },
  {
   "cell_type": "code",
   "execution_count": 19,
   "id": "ace7dc54-a525-4a65-992a-5f812afe5660",
   "metadata": {},
   "outputs": [],
   "source": [
    "#df_reviews.to_csv('df_reviews.csv')"
   ]
  },
  {
   "cell_type": "code",
   "execution_count": 31,
   "id": "0c8ab004-f10d-463f-86be-512626f23f32",
   "metadata": {
    "tags": []
   },
   "outputs": [
    {
     "data": {
      "text/html": [
       "<div>\n",
       "<style scoped>\n",
       "    .dataframe tbody tr th:only-of-type {\n",
       "        vertical-align: middle;\n",
       "    }\n",
       "\n",
       "    .dataframe tbody tr th {\n",
       "        vertical-align: top;\n",
       "    }\n",
       "\n",
       "    .dataframe thead th {\n",
       "        text-align: right;\n",
       "    }\n",
       "</style>\n",
       "<table border=\"1\" class=\"dataframe\">\n",
       "  <thead>\n",
       "    <tr style=\"text-align: right;\">\n",
       "      <th></th>\n",
       "      <th>temp_index</th>\n",
       "      <th>listing_id</th>\n",
       "      <th>id</th>\n",
       "      <th>date</th>\n",
       "      <th>reviewer_id</th>\n",
       "      <th>reviewer_name</th>\n",
       "      <th>comments</th>\n",
       "    </tr>\n",
       "  </thead>\n",
       "  <tbody>\n",
       "    <tr>\n",
       "      <th>0</th>\n",
       "      <td>0</td>\n",
       "      <td>6422</td>\n",
       "      <td>1927</td>\n",
       "      <td>2009-04-30</td>\n",
       "      <td>14100</td>\n",
       "      <td>Melissa</td>\n",
       "      <td>I can't say enough about how wonderful it was ...</td>\n",
       "    </tr>\n",
       "    <tr>\n",
       "      <th>1</th>\n",
       "      <td>1</td>\n",
       "      <td>6422</td>\n",
       "      <td>3867</td>\n",
       "      <td>2009-06-11</td>\n",
       "      <td>17413</td>\n",
       "      <td>Raquel</td>\n",
       "      <td>Michelle and Collier's home is wonderful! They...</td>\n",
       "    </tr>\n",
       "    <tr>\n",
       "      <th>2</th>\n",
       "      <td>2</td>\n",
       "      <td>6422</td>\n",
       "      <td>4159</td>\n",
       "      <td>2009-06-17</td>\n",
       "      <td>20253</td>\n",
       "      <td>Ulrike</td>\n",
       "      <td>I spent one night at Michele's home and felt j...</td>\n",
       "    </tr>\n",
       "    <tr>\n",
       "      <th>3</th>\n",
       "      <td>3</td>\n",
       "      <td>6422</td>\n",
       "      <td>5724</td>\n",
       "      <td>2009-07-18</td>\n",
       "      <td>22544</td>\n",
       "      <td>Phil</td>\n",
       "      <td>Michele and Collier are two of the loveliest p...</td>\n",
       "    </tr>\n",
       "    <tr>\n",
       "      <th>4</th>\n",
       "      <td>4</td>\n",
       "      <td>6422</td>\n",
       "      <td>11891</td>\n",
       "      <td>2009-09-29</td>\n",
       "      <td>33409</td>\n",
       "      <td>Claire</td>\n",
       "      <td>We had the most lovely time staying with Miche...</td>\n",
       "    </tr>\n",
       "  </tbody>\n",
       "</table>\n",
       "</div>"
      ],
      "text/plain": [
       "   temp_index  listing_id     id        date  reviewer_id reviewer_name  \\\n",
       "0           0        6422   1927  2009-04-30        14100       Melissa   \n",
       "1           1        6422   3867  2009-06-11        17413        Raquel   \n",
       "2           2        6422   4159  2009-06-17        20253        Ulrike   \n",
       "3           3        6422   5724  2009-07-18        22544          Phil   \n",
       "4           4        6422  11891  2009-09-29        33409        Claire   \n",
       "\n",
       "                                            comments  \n",
       "0  I can't say enough about how wonderful it was ...  \n",
       "1  Michelle and Collier's home is wonderful! They...  \n",
       "2  I spent one night at Michele's home and felt j...  \n",
       "3  Michele and Collier are two of the loveliest p...  \n",
       "4  We had the most lovely time staying with Miche...  "
      ]
     },
     "execution_count": 31,
     "metadata": {},
     "output_type": "execute_result"
    }
   ],
   "source": [
    "df_reviews.head()"
   ]
  },
  {
   "cell_type": "code",
   "execution_count": 12,
   "id": "f8730038-28e6-43a3-b83c-d3caa177c3bf",
   "metadata": {
    "tags": []
   },
   "outputs": [],
   "source": [
    "#sent_test_df.to_csv('sentiments.csv',index=True)"
   ]
  },
  {
   "cell_type": "code",
   "execution_count": 34,
   "id": "b5024c26-4a0e-4150-938e-c6e06cc7f7cf",
   "metadata": {
    "tags": []
   },
   "outputs": [],
   "source": [
    "sent_test_df = pd.read_csv(r\"C:\\Users\\asl4a\\sentiments.csv\")\n",
    "sent_test_df = sent_test_df.rename(columns={'Unnamed: 0': 'temp_index'})"
   ]
  },
  {
   "cell_type": "code",
   "execution_count": 35,
   "id": "46816ace-8b9c-47c8-9c8a-3e4551fa8514",
   "metadata": {
    "tags": []
   },
   "outputs": [
    {
     "data": {
      "text/html": [
       "<div>\n",
       "<style scoped>\n",
       "    .dataframe tbody tr th:only-of-type {\n",
       "        vertical-align: middle;\n",
       "    }\n",
       "\n",
       "    .dataframe tbody tr th {\n",
       "        vertical-align: top;\n",
       "    }\n",
       "\n",
       "    .dataframe thead th {\n",
       "        text-align: right;\n",
       "    }\n",
       "</style>\n",
       "<table border=\"1\" class=\"dataframe\">\n",
       "  <thead>\n",
       "    <tr style=\"text-align: right;\">\n",
       "      <th></th>\n",
       "      <th>temp_index</th>\n",
       "      <th>neg</th>\n",
       "      <th>neu</th>\n",
       "      <th>pos</th>\n",
       "      <th>compound</th>\n",
       "    </tr>\n",
       "  </thead>\n",
       "  <tbody>\n",
       "    <tr>\n",
       "      <th>0</th>\n",
       "      <td>0</td>\n",
       "      <td>0.008</td>\n",
       "      <td>0.665</td>\n",
       "      <td>0.327</td>\n",
       "      <td>0.9942</td>\n",
       "    </tr>\n",
       "    <tr>\n",
       "      <th>1</th>\n",
       "      <td>1</td>\n",
       "      <td>0.000</td>\n",
       "      <td>0.615</td>\n",
       "      <td>0.385</td>\n",
       "      <td>0.9953</td>\n",
       "    </tr>\n",
       "    <tr>\n",
       "      <th>2</th>\n",
       "      <td>2</td>\n",
       "      <td>0.000</td>\n",
       "      <td>0.671</td>\n",
       "      <td>0.329</td>\n",
       "      <td>0.9806</td>\n",
       "    </tr>\n",
       "    <tr>\n",
       "      <th>3</th>\n",
       "      <td>3</td>\n",
       "      <td>0.018</td>\n",
       "      <td>0.787</td>\n",
       "      <td>0.195</td>\n",
       "      <td>0.9680</td>\n",
       "    </tr>\n",
       "    <tr>\n",
       "      <th>4</th>\n",
       "      <td>4</td>\n",
       "      <td>0.039</td>\n",
       "      <td>0.695</td>\n",
       "      <td>0.266</td>\n",
       "      <td>0.9813</td>\n",
       "    </tr>\n",
       "  </tbody>\n",
       "</table>\n",
       "</div>"
      ],
      "text/plain": [
       "   temp_index    neg    neu    pos  compound\n",
       "0           0  0.008  0.665  0.327    0.9942\n",
       "1           1  0.000  0.615  0.385    0.9953\n",
       "2           2  0.000  0.671  0.329    0.9806\n",
       "3           3  0.018  0.787  0.195    0.9680\n",
       "4           4  0.039  0.695  0.266    0.9813"
      ]
     },
     "execution_count": 35,
     "metadata": {},
     "output_type": "execute_result"
    }
   ],
   "source": [
    "sent_test_df.head()"
   ]
  },
  {
   "cell_type": "code",
   "execution_count": 36,
   "id": "9a690df3-396a-4cbb-a6dd-99cc661f1e98",
   "metadata": {
    "tags": []
   },
   "outputs": [
    {
     "name": "stdout",
     "output_type": "stream",
     "text": [
      "<class 'pandas.core.frame.DataFrame'>\n",
      "RangeIndex: 9668045 entries, 0 to 9668044\n",
      "Data columns (total 5 columns):\n",
      " #   Column      Dtype  \n",
      "---  ------      -----  \n",
      " 0   temp_index  int64  \n",
      " 1   neg         float64\n",
      " 2   neu         float64\n",
      " 3   pos         float64\n",
      " 4   compound    float64\n",
      "dtypes: float64(4), int64(1)\n",
      "memory usage: 368.8 MB\n"
     ]
    }
   ],
   "source": [
    "sent_test_df.info()"
   ]
  },
  {
   "cell_type": "code",
   "execution_count": 38,
   "id": "7869520c-978d-4fb7-bca6-5c9f5d4c6f4f",
   "metadata": {},
   "outputs": [
    {
     "data": {
      "text/plain": [
       "9668045"
      ]
     },
     "execution_count": 38,
     "metadata": {},
     "output_type": "execute_result"
    }
   ],
   "source": [
    "sent_test_df.to_sql(name='sentiments', con=conn, if_exists='replace')"
   ]
  },
  {
   "cell_type": "code",
   "execution_count": 42,
   "id": "e9d9f8e4-acee-460e-947c-980e7453e8d0",
   "metadata": {
    "tags": []
   },
   "outputs": [],
   "source": [
    "# NOTE: I think this works because we join the sentiments onto the reviews table first and then in the same query we join the listings onto that combined dataset using the common id between listings and reviews\n",
    "# The result looks correct but need to do further verification to be sure\n",
    "combined_sentiments_df = pd.read_sql('''\n",
    "SELECT *\n",
    "FROM reviews\n",
    "JOIN sentiments ON reviews.temp_index = sentiments.temp_index\n",
    "JOIN listings ON reviews.id = listings.id\n",
    "LIMIT 100;\n",
    "''',con=conn)\n"
   ]
  },
  {
   "cell_type": "code",
   "execution_count": 40,
   "id": "3d4ed740-6a56-4b6a-b3c0-8d8c00ed5056",
   "metadata": {
    "tags": []
   },
   "outputs": [],
   "source": [
    "# test_1 = pd.read_sql('''\n",
    "# SELECT *\n",
    "# FROM reviews;\n",
    "# ''',con=conn)"
   ]
  },
  {
   "cell_type": "code",
   "execution_count": 23,
   "id": "15eda9cd-260f-42a0-93e2-abced743287c",
   "metadata": {
    "tags": []
   },
   "outputs": [],
   "source": [
    "#conn.commit()"
   ]
  },
  {
   "cell_type": "code",
   "execution_count": 24,
   "id": "c454b4f7-16ed-4f0f-89a4-374bff007e11",
   "metadata": {
    "tags": []
   },
   "outputs": [],
   "source": [
    "#conn.close()"
   ]
  },
  {
   "cell_type": "code",
   "execution_count": 41,
   "id": "6fb2e371-dde1-4b95-a2c1-093422ac0c94",
   "metadata": {
    "tags": []
   },
   "outputs": [
    {
     "data": {
      "text/html": [
       "<div>\n",
       "<style scoped>\n",
       "    .dataframe tbody tr th:only-of-type {\n",
       "        vertical-align: middle;\n",
       "    }\n",
       "\n",
       "    .dataframe tbody tr th {\n",
       "        vertical-align: top;\n",
       "    }\n",
       "\n",
       "    .dataframe thead th {\n",
       "        text-align: right;\n",
       "    }\n",
       "</style>\n",
       "<table border=\"1\" class=\"dataframe\">\n",
       "  <thead>\n",
       "    <tr style=\"text-align: right;\">\n",
       "      <th></th>\n",
       "      <th>index</th>\n",
       "      <th>temp_index</th>\n",
       "      <th>listing_id</th>\n",
       "      <th>id</th>\n",
       "      <th>date</th>\n",
       "      <th>reviewer_id</th>\n",
       "      <th>reviewer_name</th>\n",
       "      <th>comments</th>\n",
       "      <th>index</th>\n",
       "      <th>temp_index</th>\n",
       "      <th>neg</th>\n",
       "      <th>neu</th>\n",
       "      <th>pos</th>\n",
       "      <th>compound</th>\n",
       "    </tr>\n",
       "  </thead>\n",
       "  <tbody>\n",
       "    <tr>\n",
       "      <th>0</th>\n",
       "      <td>0</td>\n",
       "      <td>0</td>\n",
       "      <td>6422</td>\n",
       "      <td>1927</td>\n",
       "      <td>2009-04-30</td>\n",
       "      <td>14100</td>\n",
       "      <td>Melissa</td>\n",
       "      <td>I can't say enough about how wonderful it was ...</td>\n",
       "      <td>0</td>\n",
       "      <td>0</td>\n",
       "      <td>0.008</td>\n",
       "      <td>0.665</td>\n",
       "      <td>0.327</td>\n",
       "      <td>0.9942</td>\n",
       "    </tr>\n",
       "    <tr>\n",
       "      <th>1</th>\n",
       "      <td>1</td>\n",
       "      <td>1</td>\n",
       "      <td>6422</td>\n",
       "      <td>3867</td>\n",
       "      <td>2009-06-11</td>\n",
       "      <td>17413</td>\n",
       "      <td>Raquel</td>\n",
       "      <td>Michelle and Collier's home is wonderful! They...</td>\n",
       "      <td>1</td>\n",
       "      <td>1</td>\n",
       "      <td>0.000</td>\n",
       "      <td>0.615</td>\n",
       "      <td>0.385</td>\n",
       "      <td>0.9953</td>\n",
       "    </tr>\n",
       "    <tr>\n",
       "      <th>2</th>\n",
       "      <td>2</td>\n",
       "      <td>2</td>\n",
       "      <td>6422</td>\n",
       "      <td>4159</td>\n",
       "      <td>2009-06-17</td>\n",
       "      <td>20253</td>\n",
       "      <td>Ulrike</td>\n",
       "      <td>I spent one night at Michele's home and felt j...</td>\n",
       "      <td>2</td>\n",
       "      <td>2</td>\n",
       "      <td>0.000</td>\n",
       "      <td>0.671</td>\n",
       "      <td>0.329</td>\n",
       "      <td>0.9806</td>\n",
       "    </tr>\n",
       "    <tr>\n",
       "      <th>3</th>\n",
       "      <td>3</td>\n",
       "      <td>3</td>\n",
       "      <td>6422</td>\n",
       "      <td>5724</td>\n",
       "      <td>2009-07-18</td>\n",
       "      <td>22544</td>\n",
       "      <td>Phil</td>\n",
       "      <td>Michele and Collier are two of the loveliest p...</td>\n",
       "      <td>3</td>\n",
       "      <td>3</td>\n",
       "      <td>0.018</td>\n",
       "      <td>0.787</td>\n",
       "      <td>0.195</td>\n",
       "      <td>0.9680</td>\n",
       "    </tr>\n",
       "    <tr>\n",
       "      <th>4</th>\n",
       "      <td>4</td>\n",
       "      <td>4</td>\n",
       "      <td>6422</td>\n",
       "      <td>11891</td>\n",
       "      <td>2009-09-29</td>\n",
       "      <td>33409</td>\n",
       "      <td>Claire</td>\n",
       "      <td>We had the most lovely time staying with Miche...</td>\n",
       "      <td>4</td>\n",
       "      <td>4</td>\n",
       "      <td>0.039</td>\n",
       "      <td>0.695</td>\n",
       "      <td>0.266</td>\n",
       "      <td>0.9813</td>\n",
       "    </tr>\n",
       "  </tbody>\n",
       "</table>\n",
       "</div>"
      ],
      "text/plain": [
       "   index  temp_index  listing_id     id        date  reviewer_id  \\\n",
       "0      0           0        6422   1927  2009-04-30        14100   \n",
       "1      1           1        6422   3867  2009-06-11        17413   \n",
       "2      2           2        6422   4159  2009-06-17        20253   \n",
       "3      3           3        6422   5724  2009-07-18        22544   \n",
       "4      4           4        6422  11891  2009-09-29        33409   \n",
       "\n",
       "  reviewer_name                                           comments  index  \\\n",
       "0       Melissa  I can't say enough about how wonderful it was ...      0   \n",
       "1        Raquel  Michelle and Collier's home is wonderful! They...      1   \n",
       "2        Ulrike  I spent one night at Michele's home and felt j...      2   \n",
       "3          Phil  Michele and Collier are two of the loveliest p...      3   \n",
       "4        Claire  We had the most lovely time staying with Miche...      4   \n",
       "\n",
       "   temp_index    neg    neu    pos  compound  \n",
       "0           0  0.008  0.665  0.327    0.9942  \n",
       "1           1  0.000  0.615  0.385    0.9953  \n",
       "2           2  0.000  0.671  0.329    0.9806  \n",
       "3           3  0.018  0.787  0.195    0.9680  \n",
       "4           4  0.039  0.695  0.266    0.9813  "
      ]
     },
     "execution_count": 41,
     "metadata": {},
     "output_type": "execute_result"
    }
   ],
   "source": [
    "combined_sentiments_df.head()"
   ]
  },
  {
   "cell_type": "code",
   "execution_count": 43,
   "id": "86431b51-dced-4686-8e33-415a3798e488",
   "metadata": {
    "tags": []
   },
   "outputs": [
    {
     "data": {
      "text/html": [
       "<div>\n",
       "<style scoped>\n",
       "    .dataframe tbody tr th:only-of-type {\n",
       "        vertical-align: middle;\n",
       "    }\n",
       "\n",
       "    .dataframe tbody tr th {\n",
       "        vertical-align: top;\n",
       "    }\n",
       "\n",
       "    .dataframe thead th {\n",
       "        text-align: right;\n",
       "    }\n",
       "</style>\n",
       "<table border=\"1\" class=\"dataframe\">\n",
       "  <thead>\n",
       "    <tr style=\"text-align: right;\">\n",
       "      <th></th>\n",
       "      <th>index</th>\n",
       "      <th>temp_index</th>\n",
       "      <th>listing_id</th>\n",
       "      <th>id</th>\n",
       "      <th>date</th>\n",
       "      <th>reviewer_id</th>\n",
       "      <th>reviewer_name</th>\n",
       "      <th>comments</th>\n",
       "      <th>index</th>\n",
       "      <th>temp_index</th>\n",
       "      <th>...</th>\n",
       "      <th>review_scores_communication</th>\n",
       "      <th>review_scores_location</th>\n",
       "      <th>review_scores_value</th>\n",
       "      <th>license</th>\n",
       "      <th>instant_bookable</th>\n",
       "      <th>calculated_host_listings_count</th>\n",
       "      <th>calculated_host_listings_count_entire_homes</th>\n",
       "      <th>calculated_host_listings_count_private_rooms</th>\n",
       "      <th>calculated_host_listings_count_shared_rooms</th>\n",
       "      <th>reviews_per_month</th>\n",
       "    </tr>\n",
       "  </thead>\n",
       "  <tbody>\n",
       "    <tr>\n",
       "      <th>0</th>\n",
       "      <td>637</td>\n",
       "      <td>637</td>\n",
       "      <td>914787</td>\n",
       "      <td>4357892</td>\n",
       "      <td>2013-04-30</td>\n",
       "      <td>4921711</td>\n",
       "      <td>Drew</td>\n",
       "      <td>This is a fantastic place to stay if you are l...</td>\n",
       "      <td>637</td>\n",
       "      <td>637</td>\n",
       "      <td>...</td>\n",
       "      <td>4.91</td>\n",
       "      <td>4.77</td>\n",
       "      <td>4.80</td>\n",
       "      <td>None</td>\n",
       "      <td>f</td>\n",
       "      <td>1</td>\n",
       "      <td>1</td>\n",
       "      <td>0</td>\n",
       "      <td>0</td>\n",
       "      <td>1.02</td>\n",
       "    </tr>\n",
       "    <tr>\n",
       "      <th>1</th>\n",
       "      <td>927</td>\n",
       "      <td>927</td>\n",
       "      <td>914787</td>\n",
       "      <td>30858845</td>\n",
       "      <td>2015-04-28</td>\n",
       "      <td>26420600</td>\n",
       "      <td>Linda</td>\n",
       "      <td>Walking distance from Bicentennial Mall, the F...</td>\n",
       "      <td>927</td>\n",
       "      <td>927</td>\n",
       "      <td>...</td>\n",
       "      <td>4.96</td>\n",
       "      <td>4.91</td>\n",
       "      <td>4.94</td>\n",
       "      <td>None</td>\n",
       "      <td>t</td>\n",
       "      <td>2</td>\n",
       "      <td>2</td>\n",
       "      <td>0</td>\n",
       "      <td>0</td>\n",
       "      <td>4.44</td>\n",
       "    </tr>\n",
       "    <tr>\n",
       "      <th>2</th>\n",
       "      <td>3868</td>\n",
       "      <td>3868</td>\n",
       "      <td>4438136</td>\n",
       "      <td>30387983</td>\n",
       "      <td>2015-04-21</td>\n",
       "      <td>14785492</td>\n",
       "      <td>Charles</td>\n",
       "      <td>The house is in a very pretty historical neigh...</td>\n",
       "      <td>3868</td>\n",
       "      <td>3868</td>\n",
       "      <td>...</td>\n",
       "      <td>NaN</td>\n",
       "      <td>NaN</td>\n",
       "      <td>NaN</td>\n",
       "      <td>None</td>\n",
       "      <td>f</td>\n",
       "      <td>569</td>\n",
       "      <td>569</td>\n",
       "      <td>0</td>\n",
       "      <td>0</td>\n",
       "      <td>NaN</td>\n",
       "    </tr>\n",
       "    <tr>\n",
       "      <th>3</th>\n",
       "      <td>5000</td>\n",
       "      <td>5000</td>\n",
       "      <td>4485271</td>\n",
       "      <td>51714935</td>\n",
       "      <td>2015-10-24</td>\n",
       "      <td>40995935</td>\n",
       "      <td>Catherine</td>\n",
       "      <td>We had an absolutely wonderful time at Tim's c...</td>\n",
       "      <td>5000</td>\n",
       "      <td>5000</td>\n",
       "      <td>...</td>\n",
       "      <td>5.00</td>\n",
       "      <td>5.00</td>\n",
       "      <td>5.00</td>\n",
       "      <td>Exempt - This listing is a bed and breakfast</td>\n",
       "      <td>f</td>\n",
       "      <td>14</td>\n",
       "      <td>14</td>\n",
       "      <td>0</td>\n",
       "      <td>0</td>\n",
       "      <td>0.05</td>\n",
       "    </tr>\n",
       "    <tr>\n",
       "      <th>4</th>\n",
       "      <td>5359</td>\n",
       "      <td>5359</td>\n",
       "      <td>4491931</td>\n",
       "      <td>50063053</td>\n",
       "      <td>2015-10-09</td>\n",
       "      <td>33299521</td>\n",
       "      <td>Stacy</td>\n",
       "      <td>Great location &amp; a wonderful house to stay in.</td>\n",
       "      <td>5359</td>\n",
       "      <td>5359</td>\n",
       "      <td>...</td>\n",
       "      <td>NaN</td>\n",
       "      <td>NaN</td>\n",
       "      <td>NaN</td>\n",
       "      <td>None</td>\n",
       "      <td>f</td>\n",
       "      <td>32</td>\n",
       "      <td>32</td>\n",
       "      <td>0</td>\n",
       "      <td>0</td>\n",
       "      <td>NaN</td>\n",
       "    </tr>\n",
       "  </tbody>\n",
       "</table>\n",
       "<p>5 rows × 90 columns</p>\n",
       "</div>"
      ],
      "text/plain": [
       "   index  temp_index  listing_id        id        date  reviewer_id  \\\n",
       "0    637         637      914787   4357892  2013-04-30      4921711   \n",
       "1    927         927      914787  30858845  2015-04-28     26420600   \n",
       "2   3868        3868     4438136  30387983  2015-04-21     14785492   \n",
       "3   5000        5000     4485271  51714935  2015-10-24     40995935   \n",
       "4   5359        5359     4491931  50063053  2015-10-09     33299521   \n",
       "\n",
       "  reviewer_name                                           comments  index  \\\n",
       "0          Drew  This is a fantastic place to stay if you are l...    637   \n",
       "1         Linda  Walking distance from Bicentennial Mall, the F...    927   \n",
       "2       Charles  The house is in a very pretty historical neigh...   3868   \n",
       "3     Catherine  We had an absolutely wonderful time at Tim's c...   5000   \n",
       "4         Stacy     Great location & a wonderful house to stay in.   5359   \n",
       "\n",
       "   temp_index  ...  review_scores_communication  review_scores_location  \\\n",
       "0         637  ...                         4.91                    4.77   \n",
       "1         927  ...                         4.96                    4.91   \n",
       "2        3868  ...                          NaN                     NaN   \n",
       "3        5000  ...                         5.00                    5.00   \n",
       "4        5359  ...                          NaN                     NaN   \n",
       "\n",
       "   review_scores_value                                       license  \\\n",
       "0                 4.80                                          None   \n",
       "1                 4.94                                          None   \n",
       "2                  NaN                                          None   \n",
       "3                 5.00  Exempt - This listing is a bed and breakfast   \n",
       "4                  NaN                                          None   \n",
       "\n",
       "   instant_bookable  calculated_host_listings_count  \\\n",
       "0                 f                               1   \n",
       "1                 t                               2   \n",
       "2                 f                             569   \n",
       "3                 f                              14   \n",
       "4                 f                              32   \n",
       "\n",
       "  calculated_host_listings_count_entire_homes  \\\n",
       "0                                           1   \n",
       "1                                           2   \n",
       "2                                         569   \n",
       "3                                          14   \n",
       "4                                          32   \n",
       "\n",
       "   calculated_host_listings_count_private_rooms  \\\n",
       "0                                             0   \n",
       "1                                             0   \n",
       "2                                             0   \n",
       "3                                             0   \n",
       "4                                             0   \n",
       "\n",
       "  calculated_host_listings_count_shared_rooms reviews_per_month  \n",
       "0                                           0              1.02  \n",
       "1                                           0              4.44  \n",
       "2                                           0               NaN  \n",
       "3                                           0              0.05  \n",
       "4                                           0               NaN  \n",
       "\n",
       "[5 rows x 90 columns]"
      ]
     },
     "execution_count": 43,
     "metadata": {},
     "output_type": "execute_result"
    }
   ],
   "source": [
    "combined_sentiments_df.head()"
   ]
  },
  {
   "cell_type": "code",
   "execution_count": 44,
   "id": "bd92865e-a58a-4f86-a013-23674e960247",
   "metadata": {
    "tags": []
   },
   "outputs": [
    {
     "name": "stdout",
     "output_type": "stream",
     "text": [
      "<class 'pandas.core.frame.DataFrame'>\n",
      "RangeIndex: 100 entries, 0 to 99\n",
      "Data columns (total 90 columns):\n",
      " #   Column                                        Non-Null Count  Dtype  \n",
      "---  ------                                        --------------  -----  \n",
      " 0   index                                         100 non-null    int64  \n",
      " 1   temp_index                                    100 non-null    int64  \n",
      " 2   listing_id                                    100 non-null    int64  \n",
      " 3   id                                            100 non-null    int64  \n",
      " 4   date                                          100 non-null    object \n",
      " 5   reviewer_id                                   100 non-null    int64  \n",
      " 6   reviewer_name                                 100 non-null    object \n",
      " 7   comments                                      100 non-null    object \n",
      " 8   index                                         100 non-null    int64  \n",
      " 9   temp_index                                    100 non-null    int64  \n",
      " 10  neg                                           100 non-null    float64\n",
      " 11  neu                                           100 non-null    float64\n",
      " 12  pos                                           100 non-null    float64\n",
      " 13  compound                                      100 non-null    float64\n",
      " 14  index                                         100 non-null    int64  \n",
      " 15  id                                            100 non-null    int64  \n",
      " 16  listing_url                                   100 non-null    object \n",
      " 17  scrape_id                                     100 non-null    int64  \n",
      " 18  last_scraped                                  100 non-null    object \n",
      " 19  source                                        100 non-null    object \n",
      " 20  name                                          100 non-null    object \n",
      " 21  description                                   99 non-null     object \n",
      " 22  neighborhood_overview                         73 non-null     object \n",
      " 23  picture_url                                   100 non-null    object \n",
      " 24  host_id                                       100 non-null    int64  \n",
      " 25  host_url                                      100 non-null    object \n",
      " 26  host_name                                     100 non-null    object \n",
      " 27  host_since                                    100 non-null    object \n",
      " 28  host_location                                 82 non-null     object \n",
      " 29  host_about                                    64 non-null     object \n",
      " 30  host_response_time                            69 non-null     object \n",
      " 31  host_response_rate                            69 non-null     object \n",
      " 32  host_acceptance_rate                          76 non-null     object \n",
      " 33  host_is_superhost                             77 non-null     object \n",
      " 34  host_thumbnail_url                            100 non-null    object \n",
      " 35  host_picture_url                              100 non-null    object \n",
      " 36  host_neighbourhood                            79 non-null     object \n",
      " 37  host_listings_count                           100 non-null    float64\n",
      " 38  host_total_listings_count                     100 non-null    float64\n",
      " 39  host_verifications                            100 non-null    object \n",
      " 40  host_has_profile_pic                          100 non-null    object \n",
      " 41  host_identity_verified                        100 non-null    object \n",
      " 42  neighbourhood                                 73 non-null     object \n",
      " 43  neighbourhood_cleansed                        100 non-null    object \n",
      " 44  neighbourhood_group_cleansed                  46 non-null     object \n",
      " 45  latitude                                      100 non-null    float64\n",
      " 46  longitude                                     100 non-null    float64\n",
      " 47  property_type                                 100 non-null    object \n",
      " 48  room_type                                     100 non-null    object \n",
      " 49  accommodates                                  100 non-null    int64  \n",
      " 50  bathrooms                                     0 non-null      object \n",
      " 51  bathrooms_text                                100 non-null    object \n",
      " 52  bedrooms                                      71 non-null     float64\n",
      " 53  beds                                          100 non-null    float64\n",
      " 54  amenities                                     100 non-null    object \n",
      " 55  price                                         100 non-null    object \n",
      " 56  minimum_nights                                100 non-null    int64  \n",
      " 57  maximum_nights                                100 non-null    int64  \n",
      " 58  minimum_minimum_nights                        100 non-null    float64\n",
      " 59  maximum_minimum_nights                        100 non-null    float64\n",
      " 60  minimum_maximum_nights                        100 non-null    float64\n",
      " 61  maximum_maximum_nights                        100 non-null    float64\n",
      " 62  minimum_nights_avg_ntm                        100 non-null    float64\n",
      " 63  maximum_nights_avg_ntm                        100 non-null    float64\n",
      " 64  calendar_updated                              0 non-null      object \n",
      " 65  has_availability                              100 non-null    object \n",
      " 66  availability_30                               100 non-null    int64  \n",
      " 67  availability_60                               100 non-null    int64  \n",
      " 68  availability_90                               100 non-null    int64  \n",
      " 69  availability_365                              100 non-null    int64  \n",
      " 70  calendar_last_scraped                         100 non-null    object \n",
      " 71  number_of_reviews                             100 non-null    int64  \n",
      " 72  number_of_reviews_ltm                         100 non-null    int64  \n",
      " 73  number_of_reviews_l30d                        100 non-null    int64  \n",
      " 74  first_review                                  84 non-null     object \n",
      " 75  last_review                                   84 non-null     object \n",
      " 76  review_scores_rating                          84 non-null     float64\n",
      " 77  review_scores_accuracy                        83 non-null     float64\n",
      " 78  review_scores_cleanliness                     83 non-null     float64\n",
      " 79  review_scores_checkin                         83 non-null     float64\n",
      " 80  review_scores_communication                   83 non-null     float64\n",
      " 81  review_scores_location                        83 non-null     float64\n",
      " 82  review_scores_value                           83 non-null     float64\n",
      " 83  license                                       21 non-null     object \n",
      " 84  instant_bookable                              100 non-null    object \n",
      " 85  calculated_host_listings_count                100 non-null    int64  \n",
      " 86  calculated_host_listings_count_entire_homes   100 non-null    int64  \n",
      " 87  calculated_host_listings_count_private_rooms  100 non-null    int64  \n",
      " 88  calculated_host_listings_count_shared_rooms   100 non-null    int64  \n",
      " 89  reviews_per_month                             84 non-null     float64\n",
      "dtypes: float64(24), int64(25), object(41)\n",
      "memory usage: 70.4+ KB\n"
     ]
    }
   ],
   "source": [
    "combined_sentiments_df.info()"
   ]
  },
  {
   "cell_type": "code",
   "execution_count": null,
   "id": "c7cddf24-de22-4953-8f6d-406a2dc35ef4",
   "metadata": {},
   "outputs": [],
   "source": []
  }
 ],
 "metadata": {
  "kernelspec": {
   "display_name": "Python 3 (ipykernel)",
   "language": "python",
   "name": "python3"
  },
  "language_info": {
   "codemirror_mode": {
    "name": "ipython",
    "version": 3
   },
   "file_extension": ".py",
   "mimetype": "text/x-python",
   "name": "python",
   "nbconvert_exporter": "python",
   "pygments_lexer": "ipython3",
   "version": "3.10.9"
  }
 },
 "nbformat": 4,
 "nbformat_minor": 5
}
