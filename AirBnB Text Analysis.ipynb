{
 "cells": [
  {
   "cell_type": "code",
   "execution_count": null,
   "outputs": [],
   "source": [],
   "metadata": {
    "collapsed": false
   }
  },
  {
   "cell_type": "code",
   "execution_count": 1,
   "metadata": {
    "collapsed": true
   },
   "outputs": [],
   "source": [
    "import pandas as pd\n",
    "import numpy as np\n",
    "import polars as pl\n",
    "import datetime\n",
    "import matplotlib.pyplot as plt\n",
    "import seaborn as sns\n",
    "import altair as alt\n",
    "import gzip\n",
    "import shutil\n",
    "import pathlib\n",
    "import os\n",
    "import sqlalchemy\n",
    "import sqlite3\n",
    "import spacy\n",
    "import re\n",
    "import tqdm\n",
    "from tqdm.notebook import tqdm, trange\n",
    "import ipywidgets as widgets\n",
    "from ipywidgets import IntProgress, HTML, VBox\n",
    "from IPython.display import display\n",
    "import time\n",
    "import timeit\n",
    "\n",
    "from transformers import BertTokenizer, BertForSequenceClassification\n",
    "import torch\n",
    "from torch.nn.functional import softmax\n",
    "\n",
    "from vaderSentiment.vaderSentiment import SentimentIntensityAnalyzer\n",
    "sid_obj = SentimentIntensityAnalyzer()\n",
    "\n",
    "%matplotlib inline\n",
    "alt.data_transformers.disable_max_rows()\n",
    "\n",
    "nlp = spacy.load(\"en_core_web_sm\")"
   ]
  },
  {
   "cell_type": "code",
   "execution_count": 2,
   "outputs": [],
   "source": [
    "def print_files_in_directory(directory_path):\n",
    "    with os.scandir(directory_path) as entries:\n",
    "        for entry in entries:\n",
    "            if entry.is_file():\n",
    "                print(entry.name)\n",
    "\n",
    "def get_sentiment_score(text):\n",
    "    sentiment_scores = sid_obj.polarity_scores(text)\n",
    "    return sentiment_scores"
   ],
   "metadata": {
    "collapsed": false
   }
  },
  {
   "cell_type": "code",
   "execution_count": 3,
   "outputs": [],
   "source": [
    "cleaned_reviews_dir_path = r\"C:\\Users\\asl4a\\PycharmProjects\\pythonProject\\Cleaned Reviews\"\n",
    "\n",
    "cleaned_reviews_list = []"
   ],
   "metadata": {
    "collapsed": false
   }
  },
  {
   "cell_type": "code",
   "execution_count": 4,
   "outputs": [
    {
     "name": "stdout",
     "output_type": "stream",
     "text": [
      "Cleaned_Reviews_1.csv\n",
      "Cleaned_Reviews_2.csv\n",
      "Cleaned_Reviews_3.csv\n",
      "Cleaned_Reviews_4.csv\n",
      "Cleaned_Reviews_6.csv\n",
      "Cleaned_Reviews_7.csv\n",
      "Cleaned_Reviews_8.csv\n",
      "Cleaned_Reviews_9.csv\n"
     ]
    }
   ],
   "source": [
    "print_files_in_directory(cleaned_reviews_dir_path)"
   ],
   "metadata": {
    "collapsed": false
   }
  },
  {
   "cell_type": "code",
   "execution_count": 5,
   "outputs": [
    {
     "name": "stdout",
     "output_type": "stream",
     "text": [
      "C:\\Users\\asl4a\\PycharmProjects\\pythonProject\\Cleaned Reviews\\Cleaned_Reviews_1.csv\n",
      "C:\\Users\\asl4a\\PycharmProjects\\pythonProject\\Cleaned Reviews\\Cleaned_Reviews_2.csv\n",
      "C:\\Users\\asl4a\\PycharmProjects\\pythonProject\\Cleaned Reviews\\Cleaned_Reviews_3.csv\n",
      "C:\\Users\\asl4a\\PycharmProjects\\pythonProject\\Cleaned Reviews\\Cleaned_Reviews_4.csv\n",
      "C:\\Users\\asl4a\\PycharmProjects\\pythonProject\\Cleaned Reviews\\Cleaned_Reviews_6.csv\n",
      "C:\\Users\\asl4a\\PycharmProjects\\pythonProject\\Cleaned Reviews\\Cleaned_Reviews_7.csv\n",
      "C:\\Users\\asl4a\\PycharmProjects\\pythonProject\\Cleaned Reviews\\Cleaned_Reviews_8.csv\n",
      "C:\\Users\\asl4a\\PycharmProjects\\pythonProject\\Cleaned Reviews\\Cleaned_Reviews_9.csv\n"
     ]
    }
   ],
   "source": [
    "with os.scandir(cleaned_reviews_dir_path) as entries:\n",
    "    for entry in entries:\n",
    "        if entry.is_file():\n",
    "            print(entry.path)\n",
    "            reviews_data = pd.read_csv(entry.path)\n",
    "            cleaned_reviews_list.append(reviews_data)\n",
    "\n",
    "reviews_df = pd.concat(cleaned_reviews_list)"
   ],
   "metadata": {
    "collapsed": false
   }
  },
  {
   "cell_type": "code",
   "execution_count": 6,
   "outputs": [
    {
     "data": {
      "text/plain": "   Unnamed: 0  temp_index  listing_id     id        date  reviewer_id  \\\n0           0           0        6422   1927  2009-04-30        14100   \n1           1           1        6422   3867  2009-06-11        17413   \n2           2           2        6422   4159  2009-06-17        20253   \n3           3           3        6422   5724  2009-07-18        22544   \n4           4           4        6422  11891  2009-09-29        33409   \n\n  reviewer_name                                           comments  \\\n0       Melissa  I can't say enough about how wonderful it was ...   \n1        Raquel  Michelle and Collier's home is wonderful! They...   \n2        Ulrike  I spent one night at Michele's home and felt j...   \n3          Phil  Michele and Collier are two of the loveliest p...   \n4        Claire  We had the most lovely time staying with Miche...   \n\n                                        cleaned_text  \\\n0  i cant say enough about how wonderful it was t...   \n1  michelle and colliers home is wonderful they a...   \n2  i spent one night at micheles home and felt ju...   \n3  michele and collier are two of the loveliest p...   \n4  we had the most lovely time staying with miche...   \n\n                                              tokens  \n0  ['not', 'wonderful', 'stay', 'highlight', 'sta...  \n1  ['michelle', 'collier', 'home', 'wonderful', '...  \n2  ['spend', 'night', 'micheles', 'home', 'feel',...  \n3  ['michele', 'collier', 'lovely', 'people', 'pl...  \n4  ['lovely', 'time', 'stay', 'michele', 'colly',...  ",
      "text/html": "<div>\n<style scoped>\n    .dataframe tbody tr th:only-of-type {\n        vertical-align: middle;\n    }\n\n    .dataframe tbody tr th {\n        vertical-align: top;\n    }\n\n    .dataframe thead th {\n        text-align: right;\n    }\n</style>\n<table border=\"1\" class=\"dataframe\">\n  <thead>\n    <tr style=\"text-align: right;\">\n      <th></th>\n      <th>Unnamed: 0</th>\n      <th>temp_index</th>\n      <th>listing_id</th>\n      <th>id</th>\n      <th>date</th>\n      <th>reviewer_id</th>\n      <th>reviewer_name</th>\n      <th>comments</th>\n      <th>cleaned_text</th>\n      <th>tokens</th>\n    </tr>\n  </thead>\n  <tbody>\n    <tr>\n      <th>0</th>\n      <td>0</td>\n      <td>0</td>\n      <td>6422</td>\n      <td>1927</td>\n      <td>2009-04-30</td>\n      <td>14100</td>\n      <td>Melissa</td>\n      <td>I can't say enough about how wonderful it was ...</td>\n      <td>i cant say enough about how wonderful it was t...</td>\n      <td>['not', 'wonderful', 'stay', 'highlight', 'sta...</td>\n    </tr>\n    <tr>\n      <th>1</th>\n      <td>1</td>\n      <td>1</td>\n      <td>6422</td>\n      <td>3867</td>\n      <td>2009-06-11</td>\n      <td>17413</td>\n      <td>Raquel</td>\n      <td>Michelle and Collier's home is wonderful! They...</td>\n      <td>michelle and colliers home is wonderful they a...</td>\n      <td>['michelle', 'collier', 'home', 'wonderful', '...</td>\n    </tr>\n    <tr>\n      <th>2</th>\n      <td>2</td>\n      <td>2</td>\n      <td>6422</td>\n      <td>4159</td>\n      <td>2009-06-17</td>\n      <td>20253</td>\n      <td>Ulrike</td>\n      <td>I spent one night at Michele's home and felt j...</td>\n      <td>i spent one night at micheles home and felt ju...</td>\n      <td>['spend', 'night', 'micheles', 'home', 'feel',...</td>\n    </tr>\n    <tr>\n      <th>3</th>\n      <td>3</td>\n      <td>3</td>\n      <td>6422</td>\n      <td>5724</td>\n      <td>2009-07-18</td>\n      <td>22544</td>\n      <td>Phil</td>\n      <td>Michele and Collier are two of the loveliest p...</td>\n      <td>michele and collier are two of the loveliest p...</td>\n      <td>['michele', 'collier', 'lovely', 'people', 'pl...</td>\n    </tr>\n    <tr>\n      <th>4</th>\n      <td>4</td>\n      <td>4</td>\n      <td>6422</td>\n      <td>11891</td>\n      <td>2009-09-29</td>\n      <td>33409</td>\n      <td>Claire</td>\n      <td>We had the most lovely time staying with Miche...</td>\n      <td>we had the most lovely time staying with miche...</td>\n      <td>['lovely', 'time', 'stay', 'michele', 'colly',...</td>\n    </tr>\n  </tbody>\n</table>\n</div>"
     },
     "execution_count": 6,
     "metadata": {},
     "output_type": "execute_result"
    }
   ],
   "source": [
    "reviews_df['comments'] = reviews_df['comments'].astype(str)\n",
    "reviews_df.head()"
   ],
   "metadata": {
    "collapsed": false
   }
  },
  {
   "cell_type": "code",
   "execution_count": 7,
   "outputs": [
    {
     "data": {
      "text/plain": "Unnamed: 0        int64\ntemp_index        int64\nlisting_id        int64\nid                int64\ndate             object\nreviewer_id       int64\nreviewer_name    object\ncomments         object\ncleaned_text     object\ntokens           object\ndtype: object"
     },
     "execution_count": 7,
     "metadata": {},
     "output_type": "execute_result"
    }
   ],
   "source": [
    "reviews_df.dtypes"
   ],
   "metadata": {
    "collapsed": false
   }
  },
  {
   "cell_type": "code",
   "execution_count": 8,
   "outputs": [
    {
     "data": {
      "text/plain": "10668047"
     },
     "execution_count": 8,
     "metadata": {},
     "output_type": "execute_result"
    }
   ],
   "source": [
    "len(reviews_df)"
   ],
   "metadata": {
    "collapsed": false
   }
  },
  {
   "cell_type": "code",
   "execution_count": 9,
   "outputs": [],
   "source": [
    "reviews_df.to_csv(\"Reviews_df.csv\")"
   ],
   "metadata": {
    "collapsed": false
   }
  },
  {
   "cell_type": "code",
   "execution_count": 8,
   "outputs": [],
   "source": [
    "|if torch.cuda.is_available():\n",
    "    dev = \"cuda:0\"\n",
    "else:\n",
    "    dev = \"cpu\"\n",
    "device = torch.device(dev)\n",
    "#a = torch.zeros(4,3)\n",
    "#a = a.to(device)"
   ],
   "metadata": {
    "collapsed": false
   }
  },
  {
   "cell_type": "code",
   "execution_count": 9,
   "outputs": [
    {
     "name": "stdout",
     "output_type": "stream",
     "text": [
      "cuda:0\n"
     ]
    }
   ],
   "source": [
    "print(device)"
   ],
   "metadata": {
    "collapsed": false
   }
  },
  {
   "cell_type": "code",
   "execution_count": 10,
   "outputs": [
    {
     "name": "stderr",
     "output_type": "stream",
     "text": [
      "Some weights of BertForSequenceClassification were not initialized from the model checkpoint at bert-base-uncased and are newly initialized: ['classifier.bias', 'classifier.weight']\n",
      "You should probably TRAIN this model on a down-stream task to be able to use it for predictions and inference.\n"
     ]
    },
    {
     "name": "stdout",
     "output_type": "stream",
     "text": [
      "4557.297260046005\n"
     ]
    }
   ],
   "source": [
    "start_time = time.time()\n",
    "tokenizer = BertTokenizer.from_pretrained('bert-base-uncased')\n",
    "model = BertForSequenceClassification.from_pretrained('bert-base-uncased')\n",
    "model.to(device)\n",
    "\n",
    "seed = 966\n",
    "torch.manual_seed(seed)\n",
    "\n",
    "#device = torch.device('cuda' if torch.cuda.is_available() else 'cpu')\n",
    "\n",
    "def get_sentiment_score(text):\n",
    "    inputs = tokenizer(text, return_tensors='pt',truncation=True,padding=True)\n",
    "    inputs = inputs.to(device)\n",
    "\n",
    "    with torch.no_grad():\n",
    "        outputs = model(**inputs)\n",
    "\n",
    "        # Apply softmax to get probabilities\n",
    "        probs = softmax(outputs.logits, dim=-1)\n",
    "\n",
    "        # The second index corresponds to the positive class in sentiment analysis\n",
    "        positive_probability = probs[0,1].item()\n",
    "\n",
    "        return positive_probability\n",
    "\n",
    "\n",
    "# This hasn't been run yet\n",
    "reviews_df['bert_sentiments'] = reviews_df['comments'][10000000:].apply(get_sentiment_score)\n",
    "\n",
    "# Use for testing\n",
    "#reviews_df['bert_sentiments'] = reviews_df['comments'][:10000].apply(get_sentiment_score)\n",
    "\n",
    "#print(device)\n",
    "end_time = time.time()\n",
    "print(end_time - start_time)"
   ],
   "metadata": {
    "collapsed": false
   }
  },
  {
   "cell_type": "code",
   "execution_count": 11,
   "outputs": [],
   "source": [
    "reviews_df2 = pd.DataFrame(reviews_df[['Unnamed: 0', 'bert_sentiments']])"
   ],
   "metadata": {
    "collapsed": false
   }
  },
  {
   "cell_type": "code",
   "execution_count": 12,
   "outputs": [],
   "source": [
    "reviews_df2.to_csv('reviews_df2_processed_16.csv')"
   ],
   "metadata": {
    "collapsed": false
   }
  },
  {
   "cell_type": "code",
   "execution_count": 13,
   "outputs": [
    {
     "data": {
      "text/plain": "10668047"
     },
     "execution_count": 13,
     "metadata": {},
     "output_type": "execute_result"
    }
   ],
   "source": [
    "len(reviews_df)"
   ],
   "metadata": {
    "collapsed": false
   }
  },
  {
   "cell_type": "code",
   "execution_count": 22,
   "outputs": [
    {
     "data": {
      "text/plain": "         Unnamed: 0  temp_index          listing_id                  id  \\\n0                 0           0                6422                1927   \n1                 1           1                6422                3867   \n2                 2           2                6422                4159   \n3                 3           3                6422                5724   \n4                 4           4                6422               11891   \n...             ...         ...                 ...                 ...   \n1668040     9668040     1459400  904459169206385872  906632098517736492   \n1668041     9668041     1459401  902262639204577592  905911996152427208   \n1668042     9668042     1459402  902275771323672573  904510451196355984   \n1668043     9668043     1459403  902279125007633591  906577547506923550   \n1668044     9668044     1459404  905798817363097610  907380645596645253   \n\n               date  reviewer_id reviewer_name  \\\n0        2009-04-30        14100       Melissa   \n1        2009-06-11        17413        Raquel   \n2        2009-06-17        20253        Ulrike   \n3        2009-07-18        22544          Phil   \n4        2009-09-29        33409        Claire   \n...             ...          ...           ...   \n1668040  2023-06-04    233078624     Chien-Hao   \n1668041  2023-06-03     93526779       Celeine   \n1668042  2023-06-01    517637293         Maria   \n1668043  2023-06-04     99532747        Andres   \n1668044  2023-06-05    277166716        Lionel   \n\n                                                  comments  \\\n0        I can't say enough about how wonderful it was ...   \n1        Michelle and Collier's home is wonderful! They...   \n2        I spent one night at Michele's home and felt j...   \n3        Michele and Collier are two of the loveliest p...   \n4        We had the most lovely time staying with Miche...   \n...                                                    ...   \n1668040  A very smooth stay in this place. The host is ...   \n1668041  The unit was new and very clean. It was a litt...   \n1668042  Everything was very easy, quick to book, and t...   \n1668043  This was a great space for two people! Its sma...   \n1668044  Omg. This place was absolutely amazing. Very s...   \n\n                                              cleaned_text  \\\n0        i cant say enough about how wonderful it was t...   \n1        michelle and colliers home is wonderful they a...   \n2        i spent one night at micheles home and felt ju...   \n3        michele and collier are two of the loveliest p...   \n4        we had the most lovely time staying with miche...   \n...                                                    ...   \n1668040  a very smooth stay in this place the host is v...   \n1668041  the unit was new and very clean it was a littl...   \n1668042  everything was very easy quick to book and the...   \n1668043  this was a great space for two people its smal...   \n1668044  omg this place was absolutely amazing very spa...   \n\n                                                    tokens  bert_sentiments  \n0        ['not', 'wonderful', 'stay', 'highlight', 'sta...              NaN  \n1        ['michelle', 'collier', 'home', 'wonderful', '...              NaN  \n2        ['spend', 'night', 'micheles', 'home', 'feel',...              NaN  \n3        ['michele', 'collier', 'lovely', 'people', 'pl...              NaN  \n4        ['lovely', 'time', 'stay', 'michele', 'colly',...              NaN  \n...                                                    ...              ...  \n1668040  ['smooth', 'stay', 'place', 'host', 'responsiv...              NaN  \n1668041  ['unit', 'new', 'clean', 'little', 'tricky', '...              NaN  \n1668042  ['easy', 'quick', 'book', 'place', 'clean', 'e...              NaN  \n1668043  ['great', 'space', 'people', 'small', 'effecti...              NaN  \n1668044  ['omg', 'place', 'absolutely', 'amazing', 'spa...              NaN  \n\n[10668047 rows x 11 columns]",
      "text/html": "<div>\n<style scoped>\n    .dataframe tbody tr th:only-of-type {\n        vertical-align: middle;\n    }\n\n    .dataframe tbody tr th {\n        vertical-align: top;\n    }\n\n    .dataframe thead th {\n        text-align: right;\n    }\n</style>\n<table border=\"1\" class=\"dataframe\">\n  <thead>\n    <tr style=\"text-align: right;\">\n      <th></th>\n      <th>Unnamed: 0</th>\n      <th>temp_index</th>\n      <th>listing_id</th>\n      <th>id</th>\n      <th>date</th>\n      <th>reviewer_id</th>\n      <th>reviewer_name</th>\n      <th>comments</th>\n      <th>cleaned_text</th>\n      <th>tokens</th>\n      <th>bert_sentiments</th>\n    </tr>\n  </thead>\n  <tbody>\n    <tr>\n      <th>0</th>\n      <td>0</td>\n      <td>0</td>\n      <td>6422</td>\n      <td>1927</td>\n      <td>2009-04-30</td>\n      <td>14100</td>\n      <td>Melissa</td>\n      <td>I can't say enough about how wonderful it was ...</td>\n      <td>i cant say enough about how wonderful it was t...</td>\n      <td>['not', 'wonderful', 'stay', 'highlight', 'sta...</td>\n      <td>NaN</td>\n    </tr>\n    <tr>\n      <th>1</th>\n      <td>1</td>\n      <td>1</td>\n      <td>6422</td>\n      <td>3867</td>\n      <td>2009-06-11</td>\n      <td>17413</td>\n      <td>Raquel</td>\n      <td>Michelle and Collier's home is wonderful! They...</td>\n      <td>michelle and colliers home is wonderful they a...</td>\n      <td>['michelle', 'collier', 'home', 'wonderful', '...</td>\n      <td>NaN</td>\n    </tr>\n    <tr>\n      <th>2</th>\n      <td>2</td>\n      <td>2</td>\n      <td>6422</td>\n      <td>4159</td>\n      <td>2009-06-17</td>\n      <td>20253</td>\n      <td>Ulrike</td>\n      <td>I spent one night at Michele's home and felt j...</td>\n      <td>i spent one night at micheles home and felt ju...</td>\n      <td>['spend', 'night', 'micheles', 'home', 'feel',...</td>\n      <td>NaN</td>\n    </tr>\n    <tr>\n      <th>3</th>\n      <td>3</td>\n      <td>3</td>\n      <td>6422</td>\n      <td>5724</td>\n      <td>2009-07-18</td>\n      <td>22544</td>\n      <td>Phil</td>\n      <td>Michele and Collier are two of the loveliest p...</td>\n      <td>michele and collier are two of the loveliest p...</td>\n      <td>['michele', 'collier', 'lovely', 'people', 'pl...</td>\n      <td>NaN</td>\n    </tr>\n    <tr>\n      <th>4</th>\n      <td>4</td>\n      <td>4</td>\n      <td>6422</td>\n      <td>11891</td>\n      <td>2009-09-29</td>\n      <td>33409</td>\n      <td>Claire</td>\n      <td>We had the most lovely time staying with Miche...</td>\n      <td>we had the most lovely time staying with miche...</td>\n      <td>['lovely', 'time', 'stay', 'michele', 'colly',...</td>\n      <td>NaN</td>\n    </tr>\n    <tr>\n      <th>...</th>\n      <td>...</td>\n      <td>...</td>\n      <td>...</td>\n      <td>...</td>\n      <td>...</td>\n      <td>...</td>\n      <td>...</td>\n      <td>...</td>\n      <td>...</td>\n      <td>...</td>\n      <td>...</td>\n    </tr>\n    <tr>\n      <th>1668040</th>\n      <td>9668040</td>\n      <td>1459400</td>\n      <td>904459169206385872</td>\n      <td>906632098517736492</td>\n      <td>2023-06-04</td>\n      <td>233078624</td>\n      <td>Chien-Hao</td>\n      <td>A very smooth stay in this place. The host is ...</td>\n      <td>a very smooth stay in this place the host is v...</td>\n      <td>['smooth', 'stay', 'place', 'host', 'responsiv...</td>\n      <td>NaN</td>\n    </tr>\n    <tr>\n      <th>1668041</th>\n      <td>9668041</td>\n      <td>1459401</td>\n      <td>902262639204577592</td>\n      <td>905911996152427208</td>\n      <td>2023-06-03</td>\n      <td>93526779</td>\n      <td>Celeine</td>\n      <td>The unit was new and very clean. It was a litt...</td>\n      <td>the unit was new and very clean it was a littl...</td>\n      <td>['unit', 'new', 'clean', 'little', 'tricky', '...</td>\n      <td>NaN</td>\n    </tr>\n    <tr>\n      <th>1668042</th>\n      <td>9668042</td>\n      <td>1459402</td>\n      <td>902275771323672573</td>\n      <td>904510451196355984</td>\n      <td>2023-06-01</td>\n      <td>517637293</td>\n      <td>Maria</td>\n      <td>Everything was very easy, quick to book, and t...</td>\n      <td>everything was very easy quick to book and the...</td>\n      <td>['easy', 'quick', 'book', 'place', 'clean', 'e...</td>\n      <td>NaN</td>\n    </tr>\n    <tr>\n      <th>1668043</th>\n      <td>9668043</td>\n      <td>1459403</td>\n      <td>902279125007633591</td>\n      <td>906577547506923550</td>\n      <td>2023-06-04</td>\n      <td>99532747</td>\n      <td>Andres</td>\n      <td>This was a great space for two people! Its sma...</td>\n      <td>this was a great space for two people its smal...</td>\n      <td>['great', 'space', 'people', 'small', 'effecti...</td>\n      <td>NaN</td>\n    </tr>\n    <tr>\n      <th>1668044</th>\n      <td>9668044</td>\n      <td>1459404</td>\n      <td>905798817363097610</td>\n      <td>907380645596645253</td>\n      <td>2023-06-05</td>\n      <td>277166716</td>\n      <td>Lionel</td>\n      <td>Omg. This place was absolutely amazing. Very s...</td>\n      <td>omg this place was absolutely amazing very spa...</td>\n      <td>['omg', 'place', 'absolutely', 'amazing', 'spa...</td>\n      <td>NaN</td>\n    </tr>\n  </tbody>\n</table>\n<p>10668047 rows × 11 columns</p>\n</div>"
     },
     "execution_count": 22,
     "metadata": {},
     "output_type": "execute_result"
    }
   ],
   "source": [
    "reviews_df"
   ],
   "metadata": {
    "collapsed": false
   }
  },
  {
   "cell_type": "code",
   "execution_count": 23,
   "outputs": [
    {
     "data": {
      "text/plain": "True"
     },
     "execution_count": 23,
     "metadata": {},
     "output_type": "execute_result"
    }
   ],
   "source": [
    "torch.cuda.is_available()"
   ],
   "metadata": {
    "collapsed": false
   }
  },
  {
   "cell_type": "code",
   "execution_count": 15,
   "outputs": [],
   "source": [
    "if torch.cuda.is_available():\n",
    "    dev = \"cuda:0\"\n",
    "else:\n",
    "    dev = \"cpu\"\n",
    "device = torch.device(dev)\n",
    "a = torch.zeros(4,3)\n",
    "a = a.to(device)"
   ],
   "metadata": {
    "collapsed": false
   }
  },
  {
   "cell_type": "code",
   "execution_count": 15,
   "outputs": [
    {
     "name": "stdout",
     "output_type": "stream",
     "text": [
      "False\n"
     ]
    }
   ],
   "source": [
    "# device = torch.device('cuda')\n",
    "# print(torch.cuda.is_available())"
   ],
   "metadata": {
    "collapsed": false
   }
  },
  {
   "cell_type": "code",
   "execution_count": 16,
   "outputs": [
    {
     "data": {
      "text/plain": "0"
     },
     "execution_count": 16,
     "metadata": {},
     "output_type": "execute_result"
    }
   ],
   "source": [
    "#torch.cuda.current_device()"
   ],
   "metadata": {
    "collapsed": false
   }
  },
  {
   "cell_type": "code",
   "execution_count": 13,
   "outputs": [
    {
     "data": {
      "text/plain": "'NVIDIA GeForce RTX 3070'"
     },
     "execution_count": 13,
     "metadata": {},
     "output_type": "execute_result"
    }
   ],
   "source": [
    "# cuda_id = torch.cuda.current_device()\n",
    "# torch.cuda.get_device_name(cuda_id)"
   ],
   "metadata": {
    "collapsed": false
   }
  },
  {
   "cell_type": "code",
   "execution_count": 14,
   "outputs": [
    {
     "data": {
      "text/plain": "'12.1'"
     },
     "execution_count": 14,
     "metadata": {},
     "output_type": "execute_result"
    }
   ],
   "source": [
    "# torch.version.cuda"
   ],
   "metadata": {
    "collapsed": false
   }
  },
  {
   "cell_type": "code",
   "execution_count": 17,
   "outputs": [
    {
     "name": "stdout",
     "output_type": "stream",
     "text": [
      "cuda:0\n"
     ]
    }
   ],
   "source": [
    "#print(device)"
   ],
   "metadata": {
    "collapsed": false
   }
  },
  {
   "cell_type": "code",
   "execution_count": null,
   "outputs": [],
   "source": [
    "reviews_df.to_csv('reviews_df_processed_1.csv')"
   ],
   "metadata": {
    "collapsed": false
   }
  },
  {
   "cell_type": "code",
   "execution_count": 10,
   "outputs": [
    {
     "data": {
      "text/plain": "0          0.595194\n1          0.571474\n2          0.556534\n3          0.574392\n4          0.587863\n             ...   \n1668040         NaN\n1668041         NaN\n1668042         NaN\n1668043         NaN\n1668044         NaN\nName: bert_sentiments, Length: 10668047, dtype: float64"
     },
     "execution_count": 10,
     "metadata": {},
     "output_type": "execute_result"
    }
   ],
   "source": [
    "reviews_df['bert_sentiments']"
   ],
   "metadata": {
    "collapsed": false
   }
  },
  {
   "cell_type": "code",
   "execution_count": 11,
   "outputs": [
    {
     "data": {
      "text/plain": "10668047"
     },
     "execution_count": 11,
     "metadata": {},
     "output_type": "execute_result"
    }
   ],
   "source": [
    "len(reviews_df['comments'])"
   ],
   "metadata": {
    "collapsed": false
   }
  },
  {
   "cell_type": "code",
   "execution_count": null,
   "outputs": [],
   "source": [],
   "metadata": {
    "collapsed": false
   }
  }
 ],
 "metadata": {
  "kernelspec": {
   "display_name": "Python 3",
   "language": "python",
   "name": "python3"
  },
  "language_info": {
   "codemirror_mode": {
    "name": "ipython",
    "version": 2
   },
   "file_extension": ".py",
   "mimetype": "text/x-python",
   "name": "python",
   "nbconvert_exporter": "python",
   "pygments_lexer": "ipython2",
   "version": "2.7.6"
  }
 },
 "nbformat": 4,
 "nbformat_minor": 0
}
