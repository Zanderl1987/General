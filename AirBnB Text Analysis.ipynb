{
 "cells": [
  {
   "cell_type": "code",
   "execution_count": 1,
   "metadata": {
    "collapsed": true,
    "ExecuteTime": {
     "end_time": "2023-12-06T08:32:35.145935700Z",
     "start_time": "2023-12-06T08:32:35.134377600Z"
    }
   },
   "outputs": [
    {
     "data": {
      "text/plain": "DataTransformerRegistry.enable('default')"
     },
     "execution_count": 1,
     "metadata": {},
     "output_type": "execute_result"
    }
   ],
   "source": [
    "import pandas as pd\n",
    "import numpy as np\n",
    "import polars as pl\n",
    "import datetime\n",
    "import matplotlib.pyplot as plt\n",
    "import seaborn as sns\n",
    "import altair as alt\n",
    "import gzip\n",
    "import shutil\n",
    "import pathlib\n",
    "import os\n",
    "import sqlalchemy\n",
    "import sqlite3\n",
    "import spacy\n",
    "import re\n",
    "import tqdm\n",
    "from tqdm.notebook import tqdm, trange\n",
    "import ipywidgets as widgets\n",
    "from ipywidgets import IntProgress, HTML, VBox\n",
    "from IPython.display import display\n",
    "import time\n",
    "import timeit\n",
    "\n",
    "from transformers import BertTokenizer, BertForSequenceClassification\n",
    "import torch\n",
    "from torch.nn.functional import softmax\n",
    "\n",
    "from vaderSentiment.vaderSentiment import SentimentIntensityAnalyzer\n",
    "sid_obj = SentimentIntensityAnalyzer()\n",
    "\n",
    "%matplotlib inline\n",
    "alt.data_transformers.disable_max_rows()\n",
    "\n",
    "#nlp = spacy.load(\"en_core_web_sm\")\n",
    "#nlp = spacy.load('/path/to/en_core_web_sm')"
   ]
  },
  {
   "cell_type": "code",
   "execution_count": 2,
   "outputs": [],
   "source": [
    "def print_files_in_directory(directory_path):\n",
    "    with os.scandir(directory_path) as entries:\n",
    "        for entry in entries:\n",
    "            if entry.is_file():\n",
    "                print(entry.name)\n",
    "\n",
    "def get_sentiment_score(text):\n",
    "    sentiment_scores = sid_obj.polarity_scores(text)\n",
    "    return sentiment_scores"
   ],
   "metadata": {
    "collapsed": false,
    "ExecuteTime": {
     "end_time": "2023-12-06T08:32:37.029512100Z",
     "start_time": "2023-12-06T08:32:37.021371400Z"
    }
   }
  },
  {
   "cell_type": "code",
   "execution_count": 32,
   "outputs": [],
   "source": [
    "conn = sqlite3.connect(r\"C:/Users/asl4a/AirBnB_Data.db\")\n",
    "cursor = conn.cursor()"
   ],
   "metadata": {
    "collapsed": false
   }
  },
  {
   "cell_type": "code",
   "execution_count": 5,
   "outputs": [],
   "source": [
    "cleaned_reviews_dir_path = r\"F:\\Data Science\\Datasets\\Cleaned Reviews\"\n",
    "cleaned_reviews_list = []"
   ],
   "metadata": {
    "collapsed": false,
    "ExecuteTime": {
     "end_time": "2023-12-06T08:32:38.004069Z",
     "start_time": "2023-12-06T08:32:37.637147200Z"
    }
   }
  },
  {
   "cell_type": "code",
   "execution_count": 8,
   "outputs": [
    {
     "name": "stdout",
     "output_type": "stream",
     "text": [
      "Cleaned_Reviews_1.csv\n",
      "Cleaned_Reviews_2.csv\n",
      "Cleaned_Reviews_3.csv\n",
      "Cleaned_Reviews_4.csv\n",
      "Cleaned_Reviews_6.csv\n",
      "Cleaned_Reviews_7.csv\n",
      "Cleaned_Reviews_8.csv\n",
      "Cleaned_Reviews_9.csv\n"
     ]
    }
   ],
   "source": [
    "print_files_in_directory(cleaned_reviews_dir_path)"
   ],
   "metadata": {
    "collapsed": false,
    "ExecuteTime": {
     "end_time": "2023-12-06T08:32:38.647530300Z",
     "start_time": "2023-12-06T08:32:38.646019Z"
    }
   }
  },
  {
   "cell_type": "code",
   "execution_count": 11,
   "outputs": [
    {
     "name": "stdout",
     "output_type": "stream",
     "text": [
      "F:\\Data Science\\Datasets\\Cleaned Reviews\\Cleaned_Reviews_1.csv\n",
      "F:\\Data Science\\Datasets\\Cleaned Reviews\\Cleaned_Reviews_2.csv\n",
      "F:\\Data Science\\Datasets\\Cleaned Reviews\\Cleaned_Reviews_3.csv\n",
      "F:\\Data Science\\Datasets\\Cleaned Reviews\\Cleaned_Reviews_4.csv\n",
      "F:\\Data Science\\Datasets\\Cleaned Reviews\\Cleaned_Reviews_6.csv\n",
      "F:\\Data Science\\Datasets\\Cleaned Reviews\\Cleaned_Reviews_7.csv\n",
      "F:\\Data Science\\Datasets\\Cleaned Reviews\\Cleaned_Reviews_8.csv\n",
      "F:\\Data Science\\Datasets\\Cleaned Reviews\\Cleaned_Reviews_9.csv\n"
     ]
    }
   ],
   "source": [
    "# If this outputs a .~lock in front of a file name, it means that you have that open with something else like excel. The .lock is used to prevent the file from being changed by other applications that may have it open\n",
    "\n",
    "with os.scandir(cleaned_reviews_dir_path) as entries:\n",
    "    for entry in entries:\n",
    "        if entry.is_file():\n",
    "            print(entry.path)\n",
    "            reviews_data = pd.read_csv(entry.path)\n",
    "            cleaned_reviews_list.append(reviews_data)\n",
    "\n",
    "reviews_df = pd.concat(cleaned_reviews_list)"
   ],
   "metadata": {
    "collapsed": false,
    "ExecuteTime": {
     "end_time": "2023-12-06T08:34:38.944595600Z",
     "start_time": "2023-12-06T08:32:39.248160400Z"
    }
   }
  },
  {
   "cell_type": "code",
   "execution_count": 12,
   "outputs": [
    {
     "data": {
      "text/plain": "  Unnamed: 0 SUPREME_LEADER/asl4a Supreme_Leader 21.02.2024 14:51  \\\n0          0                  NaN            NaN              NaN   \n1          1                  NaN            NaN              NaN   \n2          2                  NaN            NaN              NaN   \n3          3                  NaN            NaN              NaN   \n4          4                  NaN            NaN              NaN   \n\n  file:///C:/Users/asl4a/AppData/Roaming/LibreOffice/4;  temp_index  \\\n0                                                NaN            0.0   \n1                                                NaN            1.0   \n2                                                NaN            2.0   \n3                                                NaN            3.0   \n4                                                NaN            4.0   \n\n   listing_id       id        date  reviewer_id reviewer_name  \\\n0      6422.0   1927.0  2009-04-30      14100.0       Melissa   \n1      6422.0   3867.0  2009-06-11      17413.0        Raquel   \n2      6422.0   4159.0  2009-06-17      20253.0        Ulrike   \n3      6422.0   5724.0  2009-07-18      22544.0          Phil   \n4      6422.0  11891.0  2009-09-29      33409.0        Claire   \n\n                                            comments  \\\n0  I can't say enough about how wonderful it was ...   \n1  Michelle and Collier's home is wonderful! They...   \n2  I spent one night at Michele's home and felt j...   \n3  Michele and Collier are two of the loveliest p...   \n4  We had the most lovely time staying with Miche...   \n\n                                        cleaned_text  \\\n0  i cant say enough about how wonderful it was t...   \n1  michelle and colliers home is wonderful they a...   \n2  i spent one night at micheles home and felt ju...   \n3  michele and collier are two of the loveliest p...   \n4  we had the most lovely time staying with miche...   \n\n                                              tokens  \n0  ['not', 'wonderful', 'stay', 'highlight', 'sta...  \n1  ['michelle', 'collier', 'home', 'wonderful', '...  \n2  ['spend', 'night', 'micheles', 'home', 'feel',...  \n3  ['michele', 'collier', 'lovely', 'people', 'pl...  \n4  ['lovely', 'time', 'stay', 'michele', 'colly',...  ",
      "text/html": "<div>\n<style scoped>\n    .dataframe tbody tr th:only-of-type {\n        vertical-align: middle;\n    }\n\n    .dataframe tbody tr th {\n        vertical-align: top;\n    }\n\n    .dataframe thead th {\n        text-align: right;\n    }\n</style>\n<table border=\"1\" class=\"dataframe\">\n  <thead>\n    <tr style=\"text-align: right;\">\n      <th></th>\n      <th>Unnamed: 0</th>\n      <th>SUPREME_LEADER/asl4a</th>\n      <th>Supreme_Leader</th>\n      <th>21.02.2024 14:51</th>\n      <th>file:///C:/Users/asl4a/AppData/Roaming/LibreOffice/4;</th>\n      <th>temp_index</th>\n      <th>listing_id</th>\n      <th>id</th>\n      <th>date</th>\n      <th>reviewer_id</th>\n      <th>reviewer_name</th>\n      <th>comments</th>\n      <th>cleaned_text</th>\n      <th>tokens</th>\n    </tr>\n  </thead>\n  <tbody>\n    <tr>\n      <th>0</th>\n      <td>0</td>\n      <td>NaN</td>\n      <td>NaN</td>\n      <td>NaN</td>\n      <td>NaN</td>\n      <td>0.0</td>\n      <td>6422.0</td>\n      <td>1927.0</td>\n      <td>2009-04-30</td>\n      <td>14100.0</td>\n      <td>Melissa</td>\n      <td>I can't say enough about how wonderful it was ...</td>\n      <td>i cant say enough about how wonderful it was t...</td>\n      <td>['not', 'wonderful', 'stay', 'highlight', 'sta...</td>\n    </tr>\n    <tr>\n      <th>1</th>\n      <td>1</td>\n      <td>NaN</td>\n      <td>NaN</td>\n      <td>NaN</td>\n      <td>NaN</td>\n      <td>1.0</td>\n      <td>6422.0</td>\n      <td>3867.0</td>\n      <td>2009-06-11</td>\n      <td>17413.0</td>\n      <td>Raquel</td>\n      <td>Michelle and Collier's home is wonderful! They...</td>\n      <td>michelle and colliers home is wonderful they a...</td>\n      <td>['michelle', 'collier', 'home', 'wonderful', '...</td>\n    </tr>\n    <tr>\n      <th>2</th>\n      <td>2</td>\n      <td>NaN</td>\n      <td>NaN</td>\n      <td>NaN</td>\n      <td>NaN</td>\n      <td>2.0</td>\n      <td>6422.0</td>\n      <td>4159.0</td>\n      <td>2009-06-17</td>\n      <td>20253.0</td>\n      <td>Ulrike</td>\n      <td>I spent one night at Michele's home and felt j...</td>\n      <td>i spent one night at micheles home and felt ju...</td>\n      <td>['spend', 'night', 'micheles', 'home', 'feel',...</td>\n    </tr>\n    <tr>\n      <th>3</th>\n      <td>3</td>\n      <td>NaN</td>\n      <td>NaN</td>\n      <td>NaN</td>\n      <td>NaN</td>\n      <td>3.0</td>\n      <td>6422.0</td>\n      <td>5724.0</td>\n      <td>2009-07-18</td>\n      <td>22544.0</td>\n      <td>Phil</td>\n      <td>Michele and Collier are two of the loveliest p...</td>\n      <td>michele and collier are two of the loveliest p...</td>\n      <td>['michele', 'collier', 'lovely', 'people', 'pl...</td>\n    </tr>\n    <tr>\n      <th>4</th>\n      <td>4</td>\n      <td>NaN</td>\n      <td>NaN</td>\n      <td>NaN</td>\n      <td>NaN</td>\n      <td>4.0</td>\n      <td>6422.0</td>\n      <td>11891.0</td>\n      <td>2009-09-29</td>\n      <td>33409.0</td>\n      <td>Claire</td>\n      <td>We had the most lovely time staying with Miche...</td>\n      <td>we had the most lovely time staying with miche...</td>\n      <td>['lovely', 'time', 'stay', 'michele', 'colly',...</td>\n    </tr>\n  </tbody>\n</table>\n</div>"
     },
     "execution_count": 12,
     "metadata": {},
     "output_type": "execute_result"
    }
   ],
   "source": [
    "reviews_df['comments'] = reviews_df['comments'].astype(str)\n",
    "reviews_df.head()"
   ],
   "metadata": {
    "collapsed": false,
    "ExecuteTime": {
     "end_time": "2023-12-06T08:34:40.108288500Z",
     "start_time": "2023-12-06T08:34:39.395732400Z"
    }
   }
  },
  {
   "cell_type": "code",
   "execution_count": 13,
   "outputs": [
    {
     "data": {
      "text/plain": "  Unnamed: 0 Supreme_Leader  temp_index  listing_id       id        date  \\\n0          0            NaN         0.0      6422.0   1927.0  2009-04-30   \n1          1            NaN         1.0      6422.0   3867.0  2009-06-11   \n2          2            NaN         2.0      6422.0   4159.0  2009-06-17   \n3          3            NaN         3.0      6422.0   5724.0  2009-07-18   \n4          4            NaN         4.0      6422.0  11891.0  2009-09-29   \n\n   reviewer_id reviewer_name  \\\n0      14100.0       Melissa   \n1      17413.0        Raquel   \n2      20253.0        Ulrike   \n3      22544.0          Phil   \n4      33409.0        Claire   \n\n                                            comments  \\\n0  I can't say enough about how wonderful it was ...   \n1  Michelle and Collier's home is wonderful! They...   \n2  I spent one night at Michele's home and felt j...   \n3  Michele and Collier are two of the loveliest p...   \n4  We had the most lovely time staying with Miche...   \n\n                                        cleaned_text  \\\n0  i cant say enough about how wonderful it was t...   \n1  michelle and colliers home is wonderful they a...   \n2  i spent one night at micheles home and felt ju...   \n3  michele and collier are two of the loveliest p...   \n4  we had the most lovely time staying with miche...   \n\n                                              tokens  \n0  ['not', 'wonderful', 'stay', 'highlight', 'sta...  \n1  ['michelle', 'collier', 'home', 'wonderful', '...  \n2  ['spend', 'night', 'micheles', 'home', 'feel',...  \n3  ['michele', 'collier', 'lovely', 'people', 'pl...  \n4  ['lovely', 'time', 'stay', 'michele', 'colly',...  ",
      "text/html": "<div>\n<style scoped>\n    .dataframe tbody tr th:only-of-type {\n        vertical-align: middle;\n    }\n\n    .dataframe tbody tr th {\n        vertical-align: top;\n    }\n\n    .dataframe thead th {\n        text-align: right;\n    }\n</style>\n<table border=\"1\" class=\"dataframe\">\n  <thead>\n    <tr style=\"text-align: right;\">\n      <th></th>\n      <th>Unnamed: 0</th>\n      <th>Supreme_Leader</th>\n      <th>temp_index</th>\n      <th>listing_id</th>\n      <th>id</th>\n      <th>date</th>\n      <th>reviewer_id</th>\n      <th>reviewer_name</th>\n      <th>comments</th>\n      <th>cleaned_text</th>\n      <th>tokens</th>\n    </tr>\n  </thead>\n  <tbody>\n    <tr>\n      <th>0</th>\n      <td>0</td>\n      <td>NaN</td>\n      <td>0.0</td>\n      <td>6422.0</td>\n      <td>1927.0</td>\n      <td>2009-04-30</td>\n      <td>14100.0</td>\n      <td>Melissa</td>\n      <td>I can't say enough about how wonderful it was ...</td>\n      <td>i cant say enough about how wonderful it was t...</td>\n      <td>['not', 'wonderful', 'stay', 'highlight', 'sta...</td>\n    </tr>\n    <tr>\n      <th>1</th>\n      <td>1</td>\n      <td>NaN</td>\n      <td>1.0</td>\n      <td>6422.0</td>\n      <td>3867.0</td>\n      <td>2009-06-11</td>\n      <td>17413.0</td>\n      <td>Raquel</td>\n      <td>Michelle and Collier's home is wonderful! They...</td>\n      <td>michelle and colliers home is wonderful they a...</td>\n      <td>['michelle', 'collier', 'home', 'wonderful', '...</td>\n    </tr>\n    <tr>\n      <th>2</th>\n      <td>2</td>\n      <td>NaN</td>\n      <td>2.0</td>\n      <td>6422.0</td>\n      <td>4159.0</td>\n      <td>2009-06-17</td>\n      <td>20253.0</td>\n      <td>Ulrike</td>\n      <td>I spent one night at Michele's home and felt j...</td>\n      <td>i spent one night at micheles home and felt ju...</td>\n      <td>['spend', 'night', 'micheles', 'home', 'feel',...</td>\n    </tr>\n    <tr>\n      <th>3</th>\n      <td>3</td>\n      <td>NaN</td>\n      <td>3.0</td>\n      <td>6422.0</td>\n      <td>5724.0</td>\n      <td>2009-07-18</td>\n      <td>22544.0</td>\n      <td>Phil</td>\n      <td>Michele and Collier are two of the loveliest p...</td>\n      <td>michele and collier are two of the loveliest p...</td>\n      <td>['michele', 'collier', 'lovely', 'people', 'pl...</td>\n    </tr>\n    <tr>\n      <th>4</th>\n      <td>4</td>\n      <td>NaN</td>\n      <td>4.0</td>\n      <td>6422.0</td>\n      <td>11891.0</td>\n      <td>2009-09-29</td>\n      <td>33409.0</td>\n      <td>Claire</td>\n      <td>We had the most lovely time staying with Miche...</td>\n      <td>we had the most lovely time staying with miche...</td>\n      <td>['lovely', 'time', 'stay', 'michele', 'colly',...</td>\n    </tr>\n  </tbody>\n</table>\n</div>"
     },
     "execution_count": 13,
     "metadata": {},
     "output_type": "execute_result"
    }
   ],
   "source": [
    "reviews_df = reviews_df.drop(['21.02.2024 14:51','file:///C:/Users/asl4a/AppData/Roaming/LibreOffice/4;','SUPREME_LEADER/asl4a'],axis=1)\n",
    "reviews_df.head()"
   ],
   "metadata": {
    "collapsed": false
   }
  },
  {
   "cell_type": "code",
   "execution_count": 14,
   "outputs": [],
   "source": [
    "reviews_df = reviews_df.drop(['Supreme_Leader'],axis=1)"
   ],
   "metadata": {
    "collapsed": false
   }
  },
  {
   "cell_type": "code",
   "execution_count": 15,
   "outputs": [
    {
     "data": {
      "text/plain": "Unnamed: 0        object\ntemp_index       float64\nlisting_id       float64\nid               float64\ndate              object\nreviewer_id      float64\nreviewer_name     object\ncomments          object\ncleaned_text      object\ntokens            object\ndtype: object"
     },
     "execution_count": 15,
     "metadata": {},
     "output_type": "execute_result"
    }
   ],
   "source": [
    "reviews_df.dtypes"
   ],
   "metadata": {
    "collapsed": false,
    "ExecuteTime": {
     "end_time": "2023-12-06T08:34:40.117577200Z",
     "start_time": "2023-12-06T08:34:40.109286600Z"
    }
   }
  },
  {
   "cell_type": "code",
   "execution_count": 16,
   "outputs": [
    {
     "data": {
      "text/plain": "True"
     },
     "execution_count": 16,
     "metadata": {},
     "output_type": "execute_result"
    }
   ],
   "source": [
    "torch.cuda.is_available()"
   ],
   "metadata": {
    "collapsed": false
   }
  },
  {
   "cell_type": "code",
   "execution_count": 17,
   "outputs": [],
   "source": [
    "if torch.cuda.is_available():\n",
    "    dev = \"cuda:0\"\n",
    "else:\n",
    "    dev = \"cpu\"\n",
    "device = torch.device(dev)\n",
    "\n",
    "#a = torch.zeros(4,3)\n",
    "#a = a.to(device)"
   ],
   "metadata": {
    "collapsed": false
   }
  },
  {
   "cell_type": "code",
   "execution_count": 19,
   "outputs": [],
   "source": [
    "reviews_df['cleaned_text'] = reviews_df['cleaned_text'].astype(str)"
   ],
   "metadata": {
    "collapsed": false
   }
  },
  {
   "cell_type": "code",
   "execution_count": 24,
   "outputs": [
    {
     "name": "stderr",
     "output_type": "stream",
     "text": [
      "Some weights of BertForSequenceClassification were not initialized from the model checkpoint at bert-base-uncased and are newly initialized: ['classifier.weight', 'classifier.bias']\n",
      "You should probably TRAIN this model on a down-stream task to be able to use it for predictions and inference.\n"
     ]
    },
    {
     "name": "stdout",
     "output_type": "stream",
     "text": [
      "348.75683856010437\n"
     ]
    }
   ],
   "source": [
    "start_time = time.time()\n",
    "tokenizer = BertTokenizer.from_pretrained('bert-base-uncased')\n",
    "model = BertForSequenceClassification.from_pretrained('bert-base-uncased')\n",
    "device = torch.device('cuda' if torch.cuda.is_available() else 'cpu')\n",
    "model.to(device)\n",
    "seed = 966\n",
    "torch.manual_seed(seed)\n",
    "\n",
    "\n",
    "\n",
    "def get_sentiment_score(text):\n",
    "    inputs = tokenizer(text, return_tensors='pt',truncation=True,padding=True)\n",
    "    inputs = inputs.to(device)\n",
    "\n",
    "    with torch.no_grad():\n",
    "        outputs = model(**inputs)\n",
    "\n",
    "        # Apply softmax to get probabilities\n",
    "        probs = softmax(outputs.logits, dim=-1)\n",
    "\n",
    "        # The second index corresponds to the positive class in sentiment analysis\n",
    "        positive_probability = probs[0,1].item()\n",
    "\n",
    "        return positive_probability\n",
    "\n",
    "reviews_df['bert_sentiments'] = reviews_df['cleaned_text'][50000:100000].apply(get_sentiment_score)\n",
    "\n",
    "#print(device)\n",
    "end_time = time.time()\n",
    "print(end_time - start_time)"
   ],
   "metadata": {
    "collapsed": false,
    "ExecuteTime": {
     "end_time": "2023-12-06T08:37:51.986954400Z",
     "start_time": "2023-12-06T08:37:42.657955700Z"
    }
   }
  },
  {
   "cell_type": "code",
   "execution_count": 21,
   "outputs": [],
   "source": [
    "reviews_df2 = pd.DataFrame(reviews_df[['Unnamed: 0', 'bert_sentiments']])"
   ],
   "metadata": {
    "collapsed": false,
    "ExecuteTime": {
     "end_time": "2023-12-06T06:58:52.125161500Z",
     "start_time": "2023-12-06T06:58:52.116458100Z"
    }
   }
  },
  {
   "cell_type": "code",
   "execution_count": 22,
   "outputs": [],
   "source": [
    "reviews_df2.to_csv('reviews_df2_processed_2.csv')"
   ],
   "metadata": {
    "collapsed": false,
    "ExecuteTime": {
     "end_time": "2023-12-06T06:58:57.918903600Z",
     "start_time": "2023-12-06T06:58:57.911689600Z"
    }
   }
  },
  {
   "cell_type": "code",
   "execution_count": 23,
   "outputs": [
    {
     "data": {
      "text/plain": "        Unnamed: 0  bert_sentiments\n0                0         0.585403\n1                1         0.570345\n2                2         0.576360\n3                3         0.576952\n4                4         0.589572\n...            ...              ...\n1668040    9668040              NaN\n1668041    9668041              NaN\n1668042    9668042              NaN\n1668043    9668043              NaN\n1668044    9668044              NaN\n\n[32004141 rows x 2 columns]",
      "text/html": "<div>\n<style scoped>\n    .dataframe tbody tr th:only-of-type {\n        vertical-align: middle;\n    }\n\n    .dataframe tbody tr th {\n        vertical-align: top;\n    }\n\n    .dataframe thead th {\n        text-align: right;\n    }\n</style>\n<table border=\"1\" class=\"dataframe\">\n  <thead>\n    <tr style=\"text-align: right;\">\n      <th></th>\n      <th>Unnamed: 0</th>\n      <th>bert_sentiments</th>\n    </tr>\n  </thead>\n  <tbody>\n    <tr>\n      <th>0</th>\n      <td>0</td>\n      <td>0.585403</td>\n    </tr>\n    <tr>\n      <th>1</th>\n      <td>1</td>\n      <td>0.570345</td>\n    </tr>\n    <tr>\n      <th>2</th>\n      <td>2</td>\n      <td>0.576360</td>\n    </tr>\n    <tr>\n      <th>3</th>\n      <td>3</td>\n      <td>0.576952</td>\n    </tr>\n    <tr>\n      <th>4</th>\n      <td>4</td>\n      <td>0.589572</td>\n    </tr>\n    <tr>\n      <th>...</th>\n      <td>...</td>\n      <td>...</td>\n    </tr>\n    <tr>\n      <th>1668040</th>\n      <td>9668040</td>\n      <td>NaN</td>\n    </tr>\n    <tr>\n      <th>1668041</th>\n      <td>9668041</td>\n      <td>NaN</td>\n    </tr>\n    <tr>\n      <th>1668042</th>\n      <td>9668042</td>\n      <td>NaN</td>\n    </tr>\n    <tr>\n      <th>1668043</th>\n      <td>9668043</td>\n      <td>NaN</td>\n    </tr>\n    <tr>\n      <th>1668044</th>\n      <td>9668044</td>\n      <td>NaN</td>\n    </tr>\n  </tbody>\n</table>\n<p>32004141 rows × 2 columns</p>\n</div>"
     },
     "execution_count": 23,
     "metadata": {},
     "output_type": "execute_result"
    }
   ],
   "source": [
    "reviews_df2"
   ],
   "metadata": {
    "collapsed": false,
    "ExecuteTime": {
     "end_time": "2023-12-06T08:25:05.311114700Z",
     "start_time": "2023-12-06T08:25:05.303606400Z"
    }
   }
  },
  {
   "cell_type": "code",
   "execution_count": 11,
   "outputs": [],
   "source": [
    "# device = torch.device('cuda')\n",
    "# print(torch.cuda.is_available())"
   ],
   "metadata": {
    "collapsed": false,
    "ExecuteTime": {
     "end_time": "2023-12-06T08:25:18.411595Z",
     "start_time": "2023-12-06T08:25:18.404104100Z"
    }
   }
  },
  {
   "cell_type": "code",
   "execution_count": 12,
   "outputs": [],
   "source": [
    "#torch.cuda.current_device()"
   ],
   "metadata": {
    "collapsed": false,
    "ExecuteTime": {
     "end_time": "2023-12-06T08:25:18.713236500Z",
     "start_time": "2023-12-06T08:25:18.704726800Z"
    }
   }
  },
  {
   "cell_type": "code",
   "execution_count": 13,
   "outputs": [],
   "source": [
    "# cuda_id = torch.cuda.current_device()\n",
    "# torch.cuda.get_device_name(cuda_id)"
   ],
   "metadata": {
    "collapsed": false,
    "ExecuteTime": {
     "end_time": "2023-12-06T08:25:19.362784800Z",
     "start_time": "2023-12-06T08:25:19.353726700Z"
    }
   }
  },
  {
   "cell_type": "code",
   "execution_count": 14,
   "outputs": [],
   "source": [
    "# torch.version.cuda"
   ],
   "metadata": {
    "collapsed": false,
    "ExecuteTime": {
     "end_time": "2023-12-06T08:25:19.944953900Z",
     "start_time": "2023-12-06T08:25:19.936280100Z"
    }
   }
  },
  {
   "cell_type": "code",
   "execution_count": null,
   "outputs": [],
   "source": [
    "#reviews_df.to_csv('reviews_df_processed_1.csv')"
   ],
   "metadata": {
    "collapsed": false
   }
  },
  {
   "cell_type": "code",
   "execution_count": 10,
   "outputs": [
    {
     "data": {
      "text/plain": "0          0.595194\n1          0.571474\n2          0.556534\n3          0.574392\n4          0.587863\n             ...   \n1668040         NaN\n1668041         NaN\n1668042         NaN\n1668043         NaN\n1668044         NaN\nName: bert_sentiments, Length: 10668047, dtype: float64"
     },
     "execution_count": 10,
     "metadata": {},
     "output_type": "execute_result"
    }
   ],
   "source": [
    "reviews_df['bert_sentiments']"
   ],
   "metadata": {
    "collapsed": false
   }
  },
  {
   "cell_type": "code",
   "execution_count": 11,
   "outputs": [
    {
     "data": {
      "text/plain": "10668047"
     },
     "execution_count": 11,
     "metadata": {},
     "output_type": "execute_result"
    }
   ],
   "source": [
    "len(reviews_df['comments'])"
   ],
   "metadata": {
    "collapsed": false
   }
  },
  {
   "cell_type": "code",
   "execution_count": 35,
   "outputs": [],
   "source": [
    "new_reviews_df = pd.read_sql(\"\"\"\n",
    "SELECT l.id, l.review_scores_rating, r.id, r.comments\n",
    "FROM listings l\n",
    "JOIN reviews r ON l.id = r.id\n",
    "LIMIT 1000;\"\"\",con=conn)"
   ],
   "metadata": {
    "collapsed": false
   }
  },
  {
   "cell_type": "code",
   "execution_count": 36,
   "outputs": [
    {
     "data": {
      "text/plain": "           id  review_scores_rating        id  \\\n0      632636                  4.97    632636   \n1    11320018                  4.92  11320018   \n2    12038428                  4.95  12038428   \n3    19606463                  4.93  19606463   \n4    23488754                  4.81  23488754   \n..        ...                   ...       ...   \n838  53052940                  4.00  53052940   \n839  53309319                  5.00  53309319   \n840  53595701                  3.00  53595701   \n841  54295367                   NaN  54295367   \n842  54264380                  5.00  54264380   \n\n                                              comments  \n0    I loved staying at Houston's and was very, ver...  \n1    Ryan was a great host, easy to contact, quick ...  \n2    We had a wonderful stay at Monte Cristo. Jay h...  \n3                   habitacion comoda y limpia \\r<br/>  \n4    Excelente estadía en Providence. El barrio es ...  \n..                                                 ...  \n838  Had a perfect stay at Asi's. What a super star...  \n839  Carolyn is a warm open considerate and flexibl...  \n840  I would like to challenge the claim and call t...  \n841  Lori immediately made me feel welcome in her b...  \n842  Lisa has a great, comfortable and clean place ...  \n\n[843 rows x 4 columns]",
      "text/html": "<div>\n<style scoped>\n    .dataframe tbody tr th:only-of-type {\n        vertical-align: middle;\n    }\n\n    .dataframe tbody tr th {\n        vertical-align: top;\n    }\n\n    .dataframe thead th {\n        text-align: right;\n    }\n</style>\n<table border=\"1\" class=\"dataframe\">\n  <thead>\n    <tr style=\"text-align: right;\">\n      <th></th>\n      <th>id</th>\n      <th>review_scores_rating</th>\n      <th>id</th>\n      <th>comments</th>\n    </tr>\n  </thead>\n  <tbody>\n    <tr>\n      <th>0</th>\n      <td>632636</td>\n      <td>4.97</td>\n      <td>632636</td>\n      <td>I loved staying at Houston's and was very, ver...</td>\n    </tr>\n    <tr>\n      <th>1</th>\n      <td>11320018</td>\n      <td>4.92</td>\n      <td>11320018</td>\n      <td>Ryan was a great host, easy to contact, quick ...</td>\n    </tr>\n    <tr>\n      <th>2</th>\n      <td>12038428</td>\n      <td>4.95</td>\n      <td>12038428</td>\n      <td>We had a wonderful stay at Monte Cristo. Jay h...</td>\n    </tr>\n    <tr>\n      <th>3</th>\n      <td>19606463</td>\n      <td>4.93</td>\n      <td>19606463</td>\n      <td>habitacion comoda y limpia \\r&lt;br/&gt;</td>\n    </tr>\n    <tr>\n      <th>4</th>\n      <td>23488754</td>\n      <td>4.81</td>\n      <td>23488754</td>\n      <td>Excelente estadía en Providence. El barrio es ...</td>\n    </tr>\n    <tr>\n      <th>...</th>\n      <td>...</td>\n      <td>...</td>\n      <td>...</td>\n      <td>...</td>\n    </tr>\n    <tr>\n      <th>838</th>\n      <td>53052940</td>\n      <td>4.00</td>\n      <td>53052940</td>\n      <td>Had a perfect stay at Asi's. What a super star...</td>\n    </tr>\n    <tr>\n      <th>839</th>\n      <td>53309319</td>\n      <td>5.00</td>\n      <td>53309319</td>\n      <td>Carolyn is a warm open considerate and flexibl...</td>\n    </tr>\n    <tr>\n      <th>840</th>\n      <td>53595701</td>\n      <td>3.00</td>\n      <td>53595701</td>\n      <td>I would like to challenge the claim and call t...</td>\n    </tr>\n    <tr>\n      <th>841</th>\n      <td>54295367</td>\n      <td>NaN</td>\n      <td>54295367</td>\n      <td>Lori immediately made me feel welcome in her b...</td>\n    </tr>\n    <tr>\n      <th>842</th>\n      <td>54264380</td>\n      <td>5.00</td>\n      <td>54264380</td>\n      <td>Lisa has a great, comfortable and clean place ...</td>\n    </tr>\n  </tbody>\n</table>\n<p>843 rows × 4 columns</p>\n</div>"
     },
     "execution_count": 36,
     "metadata": {},
     "output_type": "execute_result"
    }
   ],
   "source": [
    "new_reviews_df"
   ],
   "metadata": {
    "collapsed": false
   }
  },
  {
   "cell_type": "code",
   "execution_count": 37,
   "outputs": [],
   "source": [
    "new_reviews_df['normalized_ratings'] = new_reviews_df['review_scores_rating'] / new_reviews_df['review_scores_rating'].abs().max()"
   ],
   "metadata": {
    "collapsed": false
   }
  },
  {
   "cell_type": "code",
   "execution_count": 38,
   "outputs": [
    {
     "data": {
      "text/plain": "           id  review_scores_rating        id  \\\n0      632636                  4.97    632636   \n1    11320018                  4.92  11320018   \n2    12038428                  4.95  12038428   \n3    19606463                  4.93  19606463   \n4    23488754                  4.81  23488754   \n..        ...                   ...       ...   \n838  53052940                  4.00  53052940   \n839  53309319                  5.00  53309319   \n840  53595701                  3.00  53595701   \n841  54295367                   NaN  54295367   \n842  54264380                  5.00  54264380   \n\n                                              comments  normalized_ratings  \n0    I loved staying at Houston's and was very, ver...               0.994  \n1    Ryan was a great host, easy to contact, quick ...               0.984  \n2    We had a wonderful stay at Monte Cristo. Jay h...               0.990  \n3                   habitacion comoda y limpia \\r<br/>               0.986  \n4    Excelente estadía en Providence. El barrio es ...               0.962  \n..                                                 ...                 ...  \n838  Had a perfect stay at Asi's. What a super star...               0.800  \n839  Carolyn is a warm open considerate and flexibl...               1.000  \n840  I would like to challenge the claim and call t...               0.600  \n841  Lori immediately made me feel welcome in her b...                 NaN  \n842  Lisa has a great, comfortable and clean place ...               1.000  \n\n[843 rows x 5 columns]",
      "text/html": "<div>\n<style scoped>\n    .dataframe tbody tr th:only-of-type {\n        vertical-align: middle;\n    }\n\n    .dataframe tbody tr th {\n        vertical-align: top;\n    }\n\n    .dataframe thead th {\n        text-align: right;\n    }\n</style>\n<table border=\"1\" class=\"dataframe\">\n  <thead>\n    <tr style=\"text-align: right;\">\n      <th></th>\n      <th>id</th>\n      <th>review_scores_rating</th>\n      <th>id</th>\n      <th>comments</th>\n      <th>normalized_ratings</th>\n    </tr>\n  </thead>\n  <tbody>\n    <tr>\n      <th>0</th>\n      <td>632636</td>\n      <td>4.97</td>\n      <td>632636</td>\n      <td>I loved staying at Houston's and was very, ver...</td>\n      <td>0.994</td>\n    </tr>\n    <tr>\n      <th>1</th>\n      <td>11320018</td>\n      <td>4.92</td>\n      <td>11320018</td>\n      <td>Ryan was a great host, easy to contact, quick ...</td>\n      <td>0.984</td>\n    </tr>\n    <tr>\n      <th>2</th>\n      <td>12038428</td>\n      <td>4.95</td>\n      <td>12038428</td>\n      <td>We had a wonderful stay at Monte Cristo. Jay h...</td>\n      <td>0.990</td>\n    </tr>\n    <tr>\n      <th>3</th>\n      <td>19606463</td>\n      <td>4.93</td>\n      <td>19606463</td>\n      <td>habitacion comoda y limpia \\r&lt;br/&gt;</td>\n      <td>0.986</td>\n    </tr>\n    <tr>\n      <th>4</th>\n      <td>23488754</td>\n      <td>4.81</td>\n      <td>23488754</td>\n      <td>Excelente estadía en Providence. El barrio es ...</td>\n      <td>0.962</td>\n    </tr>\n    <tr>\n      <th>...</th>\n      <td>...</td>\n      <td>...</td>\n      <td>...</td>\n      <td>...</td>\n      <td>...</td>\n    </tr>\n    <tr>\n      <th>838</th>\n      <td>53052940</td>\n      <td>4.00</td>\n      <td>53052940</td>\n      <td>Had a perfect stay at Asi's. What a super star...</td>\n      <td>0.800</td>\n    </tr>\n    <tr>\n      <th>839</th>\n      <td>53309319</td>\n      <td>5.00</td>\n      <td>53309319</td>\n      <td>Carolyn is a warm open considerate and flexibl...</td>\n      <td>1.000</td>\n    </tr>\n    <tr>\n      <th>840</th>\n      <td>53595701</td>\n      <td>3.00</td>\n      <td>53595701</td>\n      <td>I would like to challenge the claim and call t...</td>\n      <td>0.600</td>\n    </tr>\n    <tr>\n      <th>841</th>\n      <td>54295367</td>\n      <td>NaN</td>\n      <td>54295367</td>\n      <td>Lori immediately made me feel welcome in her b...</td>\n      <td>NaN</td>\n    </tr>\n    <tr>\n      <th>842</th>\n      <td>54264380</td>\n      <td>5.00</td>\n      <td>54264380</td>\n      <td>Lisa has a great, comfortable and clean place ...</td>\n      <td>1.000</td>\n    </tr>\n  </tbody>\n</table>\n<p>843 rows × 5 columns</p>\n</div>"
     },
     "execution_count": 38,
     "metadata": {},
     "output_type": "execute_result"
    }
   ],
   "source": [
    "new_reviews_df"
   ],
   "metadata": {
    "collapsed": false
   }
  },
  {
   "cell_type": "code",
   "execution_count": 39,
   "outputs": [
    {
     "data": {
      "text/plain": "<Axes: xlabel='normalized_ratings', ylabel='Count'>"
     },
     "execution_count": 39,
     "metadata": {},
     "output_type": "execute_result"
    },
    {
     "data": {
      "text/plain": "<Figure size 640x480 with 1 Axes>",
      "image/png": "[encoded data removed]"
     },
     "metadata": {},
     "output_type": "display_data"
    }
   ],
   "source": [
    "sns.histplot(new_reviews_df['normalized_ratings'])"
   ],
   "metadata": {
    "collapsed": false
   }
  },
  {
   "cell_type": "code",
   "execution_count": 40,
   "outputs": [
    {
     "data": {
      "text/plain": "<Axes: xlabel='review_scores_rating', ylabel='Count'>"
     },
     "execution_count": 40,
     "metadata": {},
     "output_type": "execute_result"
    },
    {
     "data": {
      "text/plain": "<Figure size 640x480 with 1 Axes>",
      "image/png": "[encoded data removed]"
     },
     "metadata": {},
     "output_type": "display_data"
    }
   ],
   "source": [
    "sns.histplot(new_reviews_df['review_scores_rating'])"
   ],
   "metadata": {
    "collapsed": false
   }
  },
  {
   "cell_type": "code",
   "execution_count": 31,
   "outputs": [
    {
     "ename": "DatabaseError",
     "evalue": "Execution failed on sql '\nSELECT *\nFROM AirBnB_Data.listings\nLIMIT 100;\n': no such table: AirBnB_Data.listings",
     "output_type": "error",
     "traceback": [
      "\u001B[1;31m---------------------------------------------------------------------------\u001B[0m",
      "\u001B[1;31mOperationalError\u001B[0m                          Traceback (most recent call last)",
      "File \u001B[1;32m~\\anaconda3\\lib\\site-packages\\pandas\\io\\sql.py:2202\u001B[0m, in \u001B[0;36mSQLiteDatabase.execute\u001B[1;34m(self, sql, params)\u001B[0m\n\u001B[0;32m   2201\u001B[0m \u001B[38;5;28;01mtry\u001B[39;00m:\n\u001B[1;32m-> 2202\u001B[0m     \u001B[43mcur\u001B[49m\u001B[38;5;241;43m.\u001B[39;49m\u001B[43mexecute\u001B[49m\u001B[43m(\u001B[49m\u001B[43msql\u001B[49m\u001B[43m,\u001B[49m\u001B[43m \u001B[49m\u001B[38;5;241;43m*\u001B[39;49m\u001B[43margs\u001B[49m\u001B[43m)\u001B[49m\n\u001B[0;32m   2203\u001B[0m     \u001B[38;5;28;01mreturn\u001B[39;00m cur\n",
      "\u001B[1;31mOperationalError\u001B[0m: no such table: AirBnB_Data.listings",
      "\nThe above exception was the direct cause of the following exception:\n",
      "\u001B[1;31mDatabaseError\u001B[0m                             Traceback (most recent call last)",
      "Cell \u001B[1;32mIn[31], line 7\u001B[0m\n\u001B[0;32m      1\u001B[0m sql \u001B[38;5;241m=\u001B[39m \u001B[38;5;124m\"\"\"\u001B[39m\n\u001B[0;32m      2\u001B[0m \u001B[38;5;124mSELECT *\u001B[39m\n\u001B[0;32m      3\u001B[0m \u001B[38;5;124mFROM AirBnB_Data.listings\u001B[39m\n\u001B[0;32m      4\u001B[0m \u001B[38;5;124mLIMIT 100;\u001B[39m\n\u001B[0;32m      5\u001B[0m \u001B[38;5;124m\"\"\"\u001B[39m\n\u001B[1;32m----> 7\u001B[0m new_reviews_df \u001B[38;5;241m=\u001B[39m \u001B[43mpd\u001B[49m\u001B[38;5;241;43m.\u001B[39;49m\u001B[43mread_sql\u001B[49m\u001B[43m(\u001B[49m\u001B[43msql\u001B[49m\u001B[43m,\u001B[49m\u001B[43mcon\u001B[49m\u001B[38;5;241;43m=\u001B[39;49m\u001B[43mconn\u001B[49m\u001B[43m)\u001B[49m\n",
      "File \u001B[1;32m~\\anaconda3\\lib\\site-packages\\pandas\\io\\sql.py:635\u001B[0m, in \u001B[0;36mread_sql\u001B[1;34m(sql, con, index_col, coerce_float, params, parse_dates, columns, chunksize, dtype_backend, dtype)\u001B[0m\n\u001B[0;32m    633\u001B[0m \u001B[38;5;28;01mwith\u001B[39;00m pandasSQL_builder(con) \u001B[38;5;28;01mas\u001B[39;00m pandas_sql:\n\u001B[0;32m    634\u001B[0m     \u001B[38;5;28;01mif\u001B[39;00m \u001B[38;5;28misinstance\u001B[39m(pandas_sql, SQLiteDatabase):\n\u001B[1;32m--> 635\u001B[0m         \u001B[38;5;28;01mreturn\u001B[39;00m \u001B[43mpandas_sql\u001B[49m\u001B[38;5;241;43m.\u001B[39;49m\u001B[43mread_query\u001B[49m\u001B[43m(\u001B[49m\n\u001B[0;32m    636\u001B[0m \u001B[43m            \u001B[49m\u001B[43msql\u001B[49m\u001B[43m,\u001B[49m\n\u001B[0;32m    637\u001B[0m \u001B[43m            \u001B[49m\u001B[43mindex_col\u001B[49m\u001B[38;5;241;43m=\u001B[39;49m\u001B[43mindex_col\u001B[49m\u001B[43m,\u001B[49m\n\u001B[0;32m    638\u001B[0m \u001B[43m            \u001B[49m\u001B[43mparams\u001B[49m\u001B[38;5;241;43m=\u001B[39;49m\u001B[43mparams\u001B[49m\u001B[43m,\u001B[49m\n\u001B[0;32m    639\u001B[0m \u001B[43m            \u001B[49m\u001B[43mcoerce_float\u001B[49m\u001B[38;5;241;43m=\u001B[39;49m\u001B[43mcoerce_float\u001B[49m\u001B[43m,\u001B[49m\n\u001B[0;32m    640\u001B[0m \u001B[43m            \u001B[49m\u001B[43mparse_dates\u001B[49m\u001B[38;5;241;43m=\u001B[39;49m\u001B[43mparse_dates\u001B[49m\u001B[43m,\u001B[49m\n\u001B[0;32m    641\u001B[0m \u001B[43m            \u001B[49m\u001B[43mchunksize\u001B[49m\u001B[38;5;241;43m=\u001B[39;49m\u001B[43mchunksize\u001B[49m\u001B[43m,\u001B[49m\n\u001B[0;32m    642\u001B[0m \u001B[43m            \u001B[49m\u001B[43mdtype_backend\u001B[49m\u001B[38;5;241;43m=\u001B[39;49m\u001B[43mdtype_backend\u001B[49m\u001B[43m,\u001B[49m\u001B[43m  \u001B[49m\u001B[38;5;66;43;03m# type: ignore[arg-type]\u001B[39;49;00m\n\u001B[0;32m    643\u001B[0m \u001B[43m            \u001B[49m\u001B[43mdtype\u001B[49m\u001B[38;5;241;43m=\u001B[39;49m\u001B[43mdtype\u001B[49m\u001B[43m,\u001B[49m\n\u001B[0;32m    644\u001B[0m \u001B[43m        \u001B[49m\u001B[43m)\u001B[49m\n\u001B[0;32m    646\u001B[0m     \u001B[38;5;28;01mtry\u001B[39;00m:\n\u001B[0;32m    647\u001B[0m         _is_table_name \u001B[38;5;241m=\u001B[39m pandas_sql\u001B[38;5;241m.\u001B[39mhas_table(sql)\n",
      "File \u001B[1;32m~\\anaconda3\\lib\\site-packages\\pandas\\io\\sql.py:2266\u001B[0m, in \u001B[0;36mSQLiteDatabase.read_query\u001B[1;34m(self, sql, index_col, coerce_float, parse_dates, params, chunksize, dtype, dtype_backend)\u001B[0m\n\u001B[0;32m   2255\u001B[0m \u001B[38;5;28;01mdef\u001B[39;00m \u001B[38;5;21mread_query\u001B[39m(\n\u001B[0;32m   2256\u001B[0m     \u001B[38;5;28mself\u001B[39m,\n\u001B[0;32m   2257\u001B[0m     sql,\n\u001B[1;32m   (...)\u001B[0m\n\u001B[0;32m   2264\u001B[0m     dtype_backend: DtypeBackend \u001B[38;5;241m|\u001B[39m Literal[\u001B[38;5;124m\"\u001B[39m\u001B[38;5;124mnumpy\u001B[39m\u001B[38;5;124m\"\u001B[39m] \u001B[38;5;241m=\u001B[39m \u001B[38;5;124m\"\u001B[39m\u001B[38;5;124mnumpy\u001B[39m\u001B[38;5;124m\"\u001B[39m,\n\u001B[0;32m   2265\u001B[0m ) \u001B[38;5;241m-\u001B[39m\u001B[38;5;241m>\u001B[39m DataFrame \u001B[38;5;241m|\u001B[39m Iterator[DataFrame]:\n\u001B[1;32m-> 2266\u001B[0m     cursor \u001B[38;5;241m=\u001B[39m \u001B[38;5;28;43mself\u001B[39;49m\u001B[38;5;241;43m.\u001B[39;49m\u001B[43mexecute\u001B[49m\u001B[43m(\u001B[49m\u001B[43msql\u001B[49m\u001B[43m,\u001B[49m\u001B[43m \u001B[49m\u001B[43mparams\u001B[49m\u001B[43m)\u001B[49m\n\u001B[0;32m   2267\u001B[0m     columns \u001B[38;5;241m=\u001B[39m [col_desc[\u001B[38;5;241m0\u001B[39m] \u001B[38;5;28;01mfor\u001B[39;00m col_desc \u001B[38;5;129;01min\u001B[39;00m cursor\u001B[38;5;241m.\u001B[39mdescription]\n\u001B[0;32m   2269\u001B[0m     \u001B[38;5;28;01mif\u001B[39;00m chunksize \u001B[38;5;129;01mis\u001B[39;00m \u001B[38;5;129;01mnot\u001B[39;00m \u001B[38;5;28;01mNone\u001B[39;00m:\n",
      "File \u001B[1;32m~\\anaconda3\\lib\\site-packages\\pandas\\io\\sql.py:2214\u001B[0m, in \u001B[0;36mSQLiteDatabase.execute\u001B[1;34m(self, sql, params)\u001B[0m\n\u001B[0;32m   2211\u001B[0m     \u001B[38;5;28;01mraise\u001B[39;00m ex \u001B[38;5;28;01mfrom\u001B[39;00m \u001B[38;5;21;01minner_exc\u001B[39;00m\n\u001B[0;32m   2213\u001B[0m ex \u001B[38;5;241m=\u001B[39m DatabaseError(\u001B[38;5;124mf\u001B[39m\u001B[38;5;124m\"\u001B[39m\u001B[38;5;124mExecution failed on sql \u001B[39m\u001B[38;5;124m'\u001B[39m\u001B[38;5;132;01m{\u001B[39;00msql\u001B[38;5;132;01m}\u001B[39;00m\u001B[38;5;124m'\u001B[39m\u001B[38;5;124m: \u001B[39m\u001B[38;5;132;01m{\u001B[39;00mexc\u001B[38;5;132;01m}\u001B[39;00m\u001B[38;5;124m\"\u001B[39m)\n\u001B[1;32m-> 2214\u001B[0m \u001B[38;5;28;01mraise\u001B[39;00m ex \u001B[38;5;28;01mfrom\u001B[39;00m \u001B[38;5;21;01mexc\u001B[39;00m\n",
      "\u001B[1;31mDatabaseError\u001B[0m: Execution failed on sql '\nSELECT *\nFROM AirBnB_Data.listings\nLIMIT 100;\n': no such table: AirBnB_Data.listings"
     ]
    }
   ],
   "source": [
    "sql = \"\"\"\n",
    "SELECT *\n",
    "FROM AirBnB_Data.listings\n",
    "LIMIT 100;\n",
    "\"\"\"\n",
    "\n",
    "new_reviews_df = pd.read_sql(sql,con=conn)"
   ],
   "metadata": {
    "collapsed": false
   }
  },
  {
   "cell_type": "code",
   "execution_count": null,
   "outputs": [],
   "source": [],
   "metadata": {
    "collapsed": false
   }
  }
 ],
 "metadata": {
  "kernelspec": {
   "display_name": "Python 3",
   "language": "python",
   "name": "python3"
  },
  "language_info": {
   "codemirror_mode": {
    "name": "ipython",
    "version": 2
   },
   "file_extension": ".py",
   "mimetype": "text/x-python",
   "name": "python",
   "nbconvert_exporter": "python",
   "pygments_lexer": "ipython2",
   "version": "2.7.6"
  }
 },
 "nbformat": 4,
 "nbformat_minor": 0
}
