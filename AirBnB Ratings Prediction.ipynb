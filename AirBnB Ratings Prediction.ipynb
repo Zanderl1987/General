{
 "cells": [
  {
   "cell_type": "code",
   "execution_count": 1,
   "metadata": {
    "collapsed": true
   },
   "outputs": [
    {
     "name": "stderr",
     "output_type": "stream",
     "text": [
      "C:\\Users\\asl4a\\AppData\\Roaming\\Python\\Python310\\site-packages\\cupy\\_environment.py:487: UserWarning: \n",
      "--------------------------------------------------------------------------------\n",
      "\n",
      "  CuPy may not function correctly because multiple CuPy packages are installed\n",
      "  in your environment:\n",
      "\n",
      "    cupy-cuda11x, cupy-cuda12x\n",
      "\n",
      "  Follow these steps to resolve this issue:\n",
      "\n",
      "    1. For all packages listed above, run the following command to remove all\n",
      "       existing CuPy installations:\n",
      "\n",
      "         $ pip uninstall <package_name>\n",
      "\n",
      "      If you previously installed CuPy via conda, also run the following:\n",
      "\n",
      "         $ conda uninstall cupy\n",
      "\n",
      "    2. Install the appropriate CuPy package.\n",
      "       Refer to the Installation Guide for detailed instructions.\n",
      "\n",
      "         https://docs.cupy.dev/en/stable/install.html\n",
      "\n",
      "--------------------------------------------------------------------------------\n",
      "\n",
      "  warnings.warn(f'''\n"
     ]
    }
   ],
   "source": [
    "import pandas as pd\n",
    "import numpy as np\n",
    "import polars as pl\n",
    "import datetime\n",
    "import matplotlib.pyplot as plt\n",
    "import seaborn as sns\n",
    "import altair as alt\n",
    "import gzip\n",
    "import shutil\n",
    "import pathlib\n",
    "import os\n",
    "import sqlalchemy\n",
    "import sqlite3\n",
    "import spacy\n",
    "import re\n",
    "import spacy_cleaner\n",
    "from spacy_cleaner import processing, Cleaner\n",
    "import re\n",
    "import tqdm\n",
    "from tqdm.notebook import tqdm, trange\n",
    "import ipywidgets as widgets\n",
    "from ipywidgets import IntProgress, HTML, VBox\n",
    "from IPython.display import display\n",
    "import time\n",
    "import timeit\n",
    "import sklearn\n",
    "\n",
    "from transformers import BertTokenizer, BertForSequenceClassification\n",
    "import torch\n",
    "from torch.nn.functional import softmax\n",
    "\n",
    "from vaderSentiment.vaderSentiment import SentimentIntensityAnalyzer\n",
    "sid_obj = SentimentIntensityAnalyzer()\n",
    "\n",
    "%matplotlib inline\n",
    "alt.data_transformers.disable_max_rows()\n",
    "\n",
    "\n",
    "#spacy.prefer_gpu()\n",
    "spacy.require_gpu(gpu_id=0)\n",
    "nlp = spacy.load(\"en_core_web_sm\")\n",
    "#nlp = spacy.load(\"en_core_web_trf\")\n",
    "\n",
    "#nlp = spacy.load('/path/to/en_core_web_sm')"
   ]
  },
  {
   "cell_type": "code",
   "execution_count": 2,
   "outputs": [],
   "source": [
    "def print_files_in_directory(directory_path):\n",
    "    with os.scandir(directory_path) as entries:\n",
    "        for entry in entries:\n",
    "            if entry.is_file():\n",
    "                print(entry.name)\n",
    "\n",
    "def get_sentiment_score(text):\n",
    "    sentiment_scores = sid_obj.polarity_scores(text)\n",
    "    return sentiment_scores\n",
    "\n",
    "def clean_text(text):\n",
    "    doc = nlp(text)\n",
    "\n",
    "    cleaned_tokens = [token.lemma_.lower().strip() for token in doc if not token.is_punct and not token.is_space]\n",
    "    cleaned_tokens = [token for token in cleaned_tokens if not nlp.vocab[token].is_stop]\n",
    "    cleaned_text = ' '.join(cleaned_tokens)\n",
    "\n",
    "    return cleaned_text\n",
    "\n",
    "def remove_numbers(text):\n",
    "    cleaner = Cleaner(\n",
    "        nlp,\n",
    "        processing.remove_number_token\n",
    "    )\n",
    "    return cleaner.clean(text)\n",
    "\n",
    "def remove_numbers_regex(text):\n",
    "    # Pattern to remove numbers from text data\n",
    "    pattern = r\"\\d+\"\n",
    "\n",
    "    return re.sub(pattern,\"\",text)"
   ],
   "metadata": {
    "collapsed": false
   }
  },
  {
   "cell_type": "code",
   "execution_count": 3,
   "outputs": [],
   "source": [
    "conn = sqlite3.connect(r\"C:/Users/asl4a/AirBnB_Data.db\")\n",
    "cursor = conn.cursor()"
   ],
   "metadata": {
    "collapsed": false
   }
  },
  {
   "cell_type": "code",
   "execution_count": 4,
   "outputs": [],
   "source": [
    "sql = \"\"\"\n",
    "SELECT reviews.id, reviews.temp_index, reviews.comments\n",
    "FROM reviews\"\"\"\n",
    "\n",
    "df_revs = pd.read_sql(sql,con=conn)"
   ],
   "metadata": {
    "collapsed": false
   }
  },
  {
   "cell_type": "code",
   "execution_count": 5,
   "outputs": [
    {
     "data": {
      "text/plain": "      id  temp_index                                           comments\n0   1927           0  I can't say enough about how wonderful it was ...\n1   3867           1  Michelle and Collier's home is wonderful! They...\n2   4159           2  I spent one night at Michele's home and felt j...\n3   5724           3  Michele and Collier are two of the loveliest p...\n4  11891           4  We had the most lovely time staying with Miche...",
      "text/html": "<div>\n<style scoped>\n    .dataframe tbody tr th:only-of-type {\n        vertical-align: middle;\n    }\n\n    .dataframe tbody tr th {\n        vertical-align: top;\n    }\n\n    .dataframe thead th {\n        text-align: right;\n    }\n</style>\n<table border=\"1\" class=\"dataframe\">\n  <thead>\n    <tr style=\"text-align: right;\">\n      <th></th>\n      <th>id</th>\n      <th>temp_index</th>\n      <th>comments</th>\n    </tr>\n  </thead>\n  <tbody>\n    <tr>\n      <th>0</th>\n      <td>1927</td>\n      <td>0</td>\n      <td>I can't say enough about how wonderful it was ...</td>\n    </tr>\n    <tr>\n      <th>1</th>\n      <td>3867</td>\n      <td>1</td>\n      <td>Michelle and Collier's home is wonderful! They...</td>\n    </tr>\n    <tr>\n      <th>2</th>\n      <td>4159</td>\n      <td>2</td>\n      <td>I spent one night at Michele's home and felt j...</td>\n    </tr>\n    <tr>\n      <th>3</th>\n      <td>5724</td>\n      <td>3</td>\n      <td>Michele and Collier are two of the loveliest p...</td>\n    </tr>\n    <tr>\n      <th>4</th>\n      <td>11891</td>\n      <td>4</td>\n      <td>We had the most lovely time staying with Miche...</td>\n    </tr>\n  </tbody>\n</table>\n</div>"
     },
     "execution_count": 5,
     "metadata": {},
     "output_type": "execute_result"
    }
   ],
   "source": [
    "df_revs.head()"
   ],
   "metadata": {
    "collapsed": false
   }
  },
  {
   "cell_type": "code",
   "execution_count": 6,
   "outputs": [
    {
     "name": "stdout",
     "output_type": "stream",
     "text": [
      "<class 'pandas.core.frame.DataFrame'>\n",
      "RangeIndex: 9668045 entries, 0 to 9668044\n",
      "Data columns (total 3 columns):\n",
      " #   Column      Dtype \n",
      "---  ------      ----- \n",
      " 0   id          int64 \n",
      " 1   temp_index  int64 \n",
      " 2   comments    object\n",
      "dtypes: int64(2), object(1)\n",
      "memory usage: 221.3+ MB\n"
     ]
    }
   ],
   "source": [
    "df_revs.info()"
   ],
   "metadata": {
    "collapsed": false
   }
  },
  {
   "cell_type": "code",
   "execution_count": 6,
   "outputs": [],
   "source": [],
   "metadata": {
    "collapsed": false
   }
  },
  {
   "cell_type": "code",
   "execution_count": 7,
   "outputs": [
    {
     "data": {
      "text/plain": "0     I can't say enough about how wonderful it was ...\n1     Michelle and Collier's home is wonderful! They...\n2     I spent one night at Michele's home and felt j...\n3     Michele and Collier are two of the loveliest p...\n4     We had the most lovely time staying with Miche...\n5     My wife and I got back from a trip to Nashvill...\n6     Michelle and Collier's home was safe and comfo...\n7     We went from michelle and collier's home to th...\n8     Staying with Michele and Collier made travelin...\n9     No Words can really describe just how welcome ...\n10    We stayed 3 nights at Michelle and Collier's b...\n11    I stayed one night for a quick in and out trip...\n12    My husband and I instantly felt like part of t...\n13    Staying with Michele and Collier was the highl...\n14    Staying with Michele and Collier was so wonder...\n15    Coming back to Michele's house for the second ...\n16    Staying with Collier and Michele was a true jo...\n17    When you stay with Michele and Collier, expect...\n18    Great house and great hosts.  Big beautiful, c...\n19    This was our second time staying at Michele an...\nName: comments, dtype: object"
     },
     "execution_count": 7,
     "metadata": {},
     "output_type": "execute_result"
    }
   ],
   "source": [
    "sample_text = df_revs['comments'][:20]\n",
    "sample_text"
   ],
   "metadata": {
    "collapsed": false
   }
  },
  {
   "cell_type": "code",
   "execution_count": 8,
   "outputs": [
    {
     "name": "stderr",
     "output_type": "stream",
     "text": [
      "Cleaning Progress: 100%|██████████| 20/20 [00:01<00:00, 12.87it/s]\n"
     ]
    },
    {
     "data": {
      "text/plain": "[\"I ca n't say enough about how wonderful it was to stay here . It was the highlight of our stay in Nashville ! Michele and her husband Collier felt like parents to my sister and I. They were so caring and helpful , giving us the best suggestions about places to eat and hang out in Nashville , and just being such warm , wonderful people that we had as much fun inside the house as we did going around Nashville ! Also , the house was absolutely beautiful , and our room had a giant window looking out onto their backyard , which leads directly into a gorgeous park that we walked through every day . We felt so relaxed and happy there , it felt like home . We did n't want to leave !\",\n \"Michelle and Collier 's home is wonderful ! They are both great people , Michele always nice and friendly on the phone and Collier was very sweet to tell us about the places to be in Nashville at night . With his advice my friend Raquel and I had a wonderful time in Nashville ! Everyone we met in their home was very warm , including their housemate Sally , she was a lovely lady . I would definitely consider staying here again and would recommend anyone who is looking for a nice , comfortable place to stay and looking to meet very kind and genuinely good people to stay here . Thanks for everything =) Greetings from Miami ! < br/>*Rachel\",\n \"I spent night at Michele 's home and felt just wonderful and right at home . It 's a beautiful place , and Michele and her family are all extraordinarily welcoming , open - minded , warm and generous . Would use more and better words to describe them if my English was better ... If you 're looking for a nice place to stay in Nashville and want to meet the nicest people , this is the place to be !\",\n \"Michele and Collier are of the loveliest people it has been our pleasure to meet . The whole family ( and that includes Sally ) welcomed us into their home and we were treated like old friends . I could not recommend this beautiful place any more highly , if there were stars they would get all of them . The suggestions of where to go and what to see were so helpful to a couple of Aussies a long way from home , I would n't think of staying anwhere else in Nashville . We made friends here and ca n't wait to come back , thankyou for everything .\",\n \"We had the most lovely time staying with Michele and Collier . We had just moved to Nashville - house hunting , car hunting , exploring and getting ourselves settled- and we could not have felt more at home ! The house is beautiful , the area is great to explore .... really enjoyed being right near the greenway , such a beautiful area ! Michele and Collier are the most lovely of people . Could not recommend this lovely little home highly enough . My only complaint is that we could n't stay there longer !\",\n \"My wife and I got back from a trip to Nashville and stayed at Michele and Collier 's place . Great accomodations and a great host ( Michele was out of town , so it was just Collier ) . Very friendly and helpful with the lay of the land . Could come and go as we pleased and it is very conveniently located next to Shelby park on the river front which made for a nice morning run . Also very close to downtown Nashville .\",\n \"Michelle and Collier 's home was safe and comfortable . We were welcomed and made to feel at home . The bed was comfortable and large . The room was private and had a great view . The pictures are very representative of the space . < br/ > < br/>This was our experience with AirBnB , and all - in - all , my husband and I felt it was a good . The price was very reasonable for the space , and the neighborhood was convenient to downtown ( almost close enough to walk if you are in good shape ) . < br/ > < br/>Staying in someone 's home is very different than staying in a hotel , but we had plenty of privacy , and all of the conveniences of being in a house . We would definitely stay with them again !\",\n \"We went from michelle and collier 's home to the gaylord 's resort . The contrast was almost too much . I want to go back to michelle 's . is the real Nashville , the other is Disneyland .\",\n \"Staying with Michele and Collier made traveling to Nashville a joy . Michele immediately enveloped me in her warmth , opening spaces for conversation and attending to every traveler 's need . They were flexible and struck the right balance of allowing me privacy and being open and available . Their home beautifully reflects their adventurous spirit , with lovely colors and textures to explore everywhere . The room is large , comfortable , in terrific condition , and with everything I needed . The wooded setting provides lovely walking options . Highly recommended !\",\n 'No Words can really describe just how welcome I felt at Michele and Colliers . Being a time visitor to Nashville they were welcoming and had so much information about the surrounding areas and what to do . I would recommend these guys to anyone wanting a comfortable stay for an incredible price .... Will be back for sure !',\n \"We stayed nights at Michelle and Collier 's beautiful home . They welcomed my wife and I and our children with graciousness and a warm hospitality beyond any of our expectations . These are the kind of hosts with whom you feel right at home and coversation relaxes and rich . Our rooms were very comfortable , spotless and -like the rest of the house - colorful and well furnished . Collier 's breakfast biscuits were alone worth the trip from Maryland ! Downtown Nashville is a short drive away , and their neighborhood quiet and pleasant , with many charming old houses . This was a wonderful experience and a true B&B experience in a big city neighborhood setting . < br/>Mark and Melanie\",\n 'I stayed night for a quick in and out trip . I felt very welcome and comfortable as a single traveler . The towels were great and the breakfast a nice treat . The only thing no light at the bathroom mirror or good light to put on my makeup at night or under clouds . But hey I do it everyday so of course no clown left the house . If the opportunity arises again all the household members made me want to stay again at their great location .',\n \"My husband and I instantly felt like part of the family when we arrived at Michele and Collier 's place . It is a great space and they are welcoming and lovely hosts . Their house is clean , the room we stayed in was large and comfy , and their pets were a highlight for me . Michele gives great recommendations of places to go . Breakfast was nice even though we had plans most mornings we were there to go out to meet friends . We would love to stay here again when we return to Nashville .\",\n 'Staying with Michele and Collier was the highlight of our trip to Tennessee ! They went above and beyond to make their house feel like our home . It was clean , comfortable , quiet - we truly felt sad to leave ! We really appreciated their many great suggestions of things to do / places to eat . < br/ > < br/>Great people , great pets , great house !',\n 'Staying with Michele and Collier was so wonderful that we decided to stay with them again at the end of our trip . Their house really felt like our home .',\n \"Coming back to Michele 's house for the time felt like coming home . Everyone there including the pets really make you feel like part of the family . Beware , you might never want to leave them again !\",\n 'Staying with Collier and Michele was a true joy ! They were so considerate and kind . Their home is absolutely beautiful and I absolutely loved staying there ! I would recommend them to all my friends !',\n \"When you stay with Michele and Collier , expect to never want to leave ! Every morning was relaxing , and every evening when I returned , it felt like coming home . Michele and Collier are beautiful people , and so is the house ! < br/>When staying here , be on the lookout for : extremely friendly cats , homemade bread , Collier - made recycled wine bottles - turned - glasses , enchantingly creaking floorboards , a listening ear(or ) , hidden light switches , an exciting amount of books , and intelligent conversation . < br/>All of these things are contained in a single house , which I 'm pretty sure is magical , because from the street it looks like a little bedroom houselet , but actually goes on forever . < br/>Thank you , Michele and Collier . See you again soon !\",\n \"Great house and great hosts . Big beautiful , clean room with lots of natural daylight , facing a park . Adorable cats and dog . Many good tips on what to do in Nashville ( BTW you must see the Doyle and Debbie country music spoof ) . Delicious home made breakfast . When we return to Nashville , we 'll stay here ! ! :) Thanks Michele and Collier for making us feel at home .\",\n \"This was our time staying at Michele and Collier 's place and overall- another great stay . Great location in East Nashville and is so close to downtown which was convenient for us since we were there for an event . Very homelike feel and they are very friendly . Their pets are fun to have around too !\"]"
     },
     "execution_count": 8,
     "metadata": {},
     "output_type": "execute_result"
    }
   ],
   "source": [
    "sample_text = remove_numbers(df_revs['comments'][:20])\n",
    "sample_text"
   ],
   "metadata": {
    "collapsed": false
   }
  },
  {
   "cell_type": "code",
   "execution_count": 11,
   "outputs": [],
   "source": [
    "# Use the function that utilizes regex instead of the function with Spacy unless you want to wait 3 hours for the code to finish running\n",
    "#df_revs['cleaned_text'] = remove_numbers(df_revs['comments'])\n",
    "df_revs['cleaned_text'] = df_revs['comments'].apply(remove_numbers_regex)"
   ],
   "metadata": {
    "collapsed": false
   }
  },
  {
   "cell_type": "code",
   "execution_count": 12,
   "outputs": [],
   "source": [
    "df_revs['comments'] = df_revs['comments'].astype(str)"
   ],
   "metadata": {
    "collapsed": false
   }
  },
  {
   "cell_type": "code",
   "execution_count": 13,
   "outputs": [
    {
     "data": {
      "text/plain": "9668045"
     },
     "execution_count": 13,
     "metadata": {},
     "output_type": "execute_result"
    }
   ],
   "source": [
    "len(df_revs)"
   ],
   "metadata": {
    "collapsed": false
   }
  },
  {
   "cell_type": "code",
   "execution_count": 14,
   "outputs": [
    {
     "data": {
      "text/plain": "Processing text data...:   0%|          | 0/3000000 [00:00<?, ?it/s]",
      "application/vnd.jupyter.widget-view+json": {
       "version_major": 2,
       "version_minor": 0,
       "model_id": "75b23b74aac44ef1ae291d5381c20bcb"
      }
     },
     "metadata": {},
     "output_type": "display_data"
    }
   ],
   "source": [
    "#df_revs['cleaned_text'] = df_revs['cleaned_text'].apply(clean_text)\n",
    "# This code has not yet run (as of 2/24/2024 14:46PM)\n",
    "beg_slice = 8700000\n",
    "end_slice = beg_slice + 1000000\n",
    "\n",
    "total_iterations = len(df_revs['cleaned_text'][beg_slice:end_slice])\n",
    "progress_bar = tqdm(total=total_iterations,desc='Processing text data...')\n",
    "\n",
    "cleaned_text_list = []\n",
    "\n",
    "for i in df_revs['cleaned_text'][beg_slice:end_slice]:\n",
    "    cleaned_text_list.append(clean_text(i))\n",
    "    progress_bar.update(1)\n",
    "\n",
    "progress_bar.close()"
   ],
   "metadata": {
    "collapsed": false
   }
  },
  {
   "cell_type": "code",
   "execution_count": 15,
   "outputs": [],
   "source": [
    "cleaned_text_s = pd.Series(cleaned_text_list)\n",
    "cleaned_text_s.to_csv(r\"F:\\Data Science\\Datasets\\Cleaned AirBnB Reviews\\cleaned_reviews_16.csv\")"
   ],
   "metadata": {
    "collapsed": false
   }
  },
  {
   "cell_type": "code",
   "execution_count": 21,
   "outputs": [
    {
     "data": {
      "text/plain": "100000"
     },
     "execution_count": 21,
     "metadata": {},
     "output_type": "execute_result"
    }
   ],
   "source": [
    "#df_revs['cleaned_text'] = cleaned_text_list"
   ],
   "metadata": {
    "collapsed": false
   }
  },
  {
   "cell_type": "code",
   "execution_count": null,
   "outputs": [],
   "source": [],
   "metadata": {
    "collapsed": false
   }
  }
 ],
 "metadata": {
  "kernelspec": {
   "display_name": "Python 3",
   "language": "python",
   "name": "python3"
  },
  "language_info": {
   "codemirror_mode": {
    "name": "ipython",
    "version": 2
   },
   "file_extension": ".py",
   "mimetype": "text/x-python",
   "name": "python",
   "nbconvert_exporter": "python",
   "pygments_lexer": "ipython2",
   "version": "2.7.6"
  }
 },
 "nbformat": 4,
 "nbformat_minor": 0
}
