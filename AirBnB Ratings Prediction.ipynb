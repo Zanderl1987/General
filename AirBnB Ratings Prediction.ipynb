{
 "cells": [
  {
   "cell_type": "code",
   "execution_count": 5,
   "metadata": {
    "collapsed": true
   },
   "outputs": [],
   "source": [
    "import pandas as pd\n",
    "import numpy as np\n",
    "import polars as pl\n",
    "import datetime\n",
    "import matplotlib.pyplot as plt\n",
    "import seaborn as sns\n",
    "import altair as alt\n",
    "import gzip\n",
    "import shutil\n",
    "import pathlib\n",
    "import os\n",
    "import sqlalchemy\n",
    "import sqlite3\n",
    "import spacy\n",
    "import re\n",
    "import spacy_cleaner\n",
    "from spacy_cleaner import processing, Cleaner\n",
    "import re\n",
    "import tqdm\n",
    "from tqdm.notebook import tqdm, trange\n",
    "import ipywidgets as widgets\n",
    "from ipywidgets import IntProgress, HTML, VBox\n",
    "from IPython.display import display\n",
    "import time\n",
    "import timeit\n",
    "import sklearn\n",
    "\n",
    "from sklearn.model_selection import train_test_split\n",
    "from sklearn.feature_extraction.text import TfidfVectorizer\n",
    "from xgboost import XGBClassifier\n",
    "from sklearn.metrics import accuracy_score\n",
    "from sklearn.ensemble import RandomForestRegressor\n",
    "\n",
    "\n",
    "from transformers import BertTokenizer, BertForSequenceClassification\n",
    "import torch\n",
    "from torch.nn.functional import softmax\n",
    "\n",
    "from vaderSentiment.vaderSentiment import SentimentIntensityAnalyzer\n",
    "sid_obj = SentimentIntensityAnalyzer()\n",
    "\n",
    "%matplotlib inline\n",
    "alt.data_transformers.disable_max_rows()\n",
    "\n",
    "\n",
    "#spacy.prefer_gpu()\n",
    "spacy.require_gpu(gpu_id=0)\n",
    "nlp = spacy.load(\"en_core_web_sm\")\n",
    "\n",
    "# This loads a larger and more robust model. Use with caution though because it takes considerably longer to run\n",
    "#nlp = spacy.load(\"en_core_web_trf\")\n",
    "\n",
    "#nlp = spacy.load('/path/to/en_core_web_sm')"
   ]
  },
  {
   "cell_type": "code",
   "execution_count": 2,
   "outputs": [],
   "source": [
    "def print_files_in_directory(directory_path):\n",
    "    with os.scandir(directory_path) as entries:\n",
    "        for entry in entries:\n",
    "            if entry.is_file():\n",
    "                print(entry.name)\n",
    "\n",
    "def get_sentiment_score(text):\n",
    "    sentiment_scores = sid_obj.polarity_scores(text)\n",
    "    return sentiment_scores\n",
    "\n",
    "def clean_text(text):\n",
    "    doc = nlp(text)\n",
    "\n",
    "    cleaned_tokens = [token.lemma_.lower().strip() for token in doc if not token.is_punct and not token.is_space]\n",
    "    cleaned_tokens = [token for token in cleaned_tokens if not nlp.vocab[token].is_stop]\n",
    "    cleaned_text = ' '.join(cleaned_tokens)\n",
    "\n",
    "    return cleaned_text\n",
    "\n",
    "def remove_numbers(text):\n",
    "    cleaner = Cleaner(\n",
    "        nlp,\n",
    "        processing.remove_number_token\n",
    "    )\n",
    "    return cleaner.clean(text)\n",
    "\n",
    "def remove_numbers_regex(text):\n",
    "    # Pattern to remove numbers from text data\n",
    "    pattern = r\"\\d+\"\n",
    "\n",
    "    return re.sub(pattern,\"\",text)"
   ],
   "metadata": {
    "collapsed": false
   }
  },
  {
   "cell_type": "code",
   "execution_count": 14,
   "outputs": [],
   "source": [
    "conn = sqlite3.connect(r\"C:/Users/asl4a/AirBnB_Data.db\")\n",
    "cursor = conn.cursor()"
   ],
   "metadata": {
    "collapsed": false
   }
  },
  {
   "cell_type": "code",
   "execution_count": 4,
   "outputs": [],
   "source": [
    "sql = \"\"\"\n",
    "SELECT\n",
    "    reviews.id,\n",
    "    reviews.temp_index,\n",
    "    reviews.comments\n",
    "FROM reviews\"\"\"\n",
    "\n",
    "df_revs = pd.read_sql(sql,con=conn)"
   ],
   "metadata": {
    "collapsed": false
   }
  },
  {
   "cell_type": "code",
   "execution_count": null,
   "outputs": [],
   "source": [
    "df_revs.head()"
   ],
   "metadata": {
    "collapsed": false
   }
  },
  {
   "cell_type": "code",
   "execution_count": null,
   "outputs": [],
   "source": [
    "\n",
    "df_revs.info()"
   ],
   "metadata": {
    "collapsed": false
   }
  },
  {
   "cell_type": "code",
   "execution_count": null,
   "outputs": [],
   "source": [],
   "metadata": {
    "collapsed": false
   }
  },
  {
   "cell_type": "code",
   "execution_count": null,
   "outputs": [],
   "source": [
    "sample_text = df_revs['comments'][:20]\n",
    "sample_text"
   ],
   "metadata": {
    "collapsed": false
   }
  },
  {
   "cell_type": "code",
   "execution_count": null,
   "outputs": [],
   "source": [
    "sample_text = remove_numbers(df_revs['comments'][:20])\n",
    "sample_text"
   ],
   "metadata": {
    "collapsed": false
   }
  },
  {
   "cell_type": "code",
   "execution_count": null,
   "outputs": [],
   "source": [
    "# Use the function that utilizes regex instead of the function with Spacy unless you want to wait 3 hours for the code to finish running\n",
    "#df_revs['cleaned_text'] = remove_numbers(df_revs['comments'])\n",
    "df_revs['cleaned_text'] = df_revs['comments'].apply(remove_numbers_regex)"
   ],
   "metadata": {
    "collapsed": false
   }
  },
  {
   "cell_type": "code",
   "execution_count": null,
   "outputs": [],
   "source": [
    "df_revs['comments'] = df_revs['comments'].astype(str)"
   ],
   "metadata": {
    "collapsed": false
   }
  },
  {
   "cell_type": "code",
   "execution_count": null,
   "outputs": [],
   "source": [
    "len(df_revs)"
   ],
   "metadata": {
    "collapsed": false
   }
  },
  {
   "cell_type": "code",
   "execution_count": null,
   "outputs": [],
   "source": [
    "#df_revs['cleaned_text'] = df_revs['cleaned_text'].apply(clean_text)\n",
    "# This code has not yet run (as of 2/24/2024 14:46PM)\n",
    "beg_slice = 8700000\n",
    "\n",
    "\n",
    "total_iterations = len(df_revs['cleaned_text'][beg_slice:])\n",
    "progress_bar = tqdm(total=total_iterations,desc='Processing text data...')\n",
    "\n",
    "cleaned_text_list = []\n",
    "\n",
    "for i in df_revs['cleaned_text'][beg_slice:]:\n",
    "    cleaned_text_list.append(clean_text(i))\n",
    "    progress_bar.update(1)\n",
    "\n",
    "progress_bar.close()"
   ],
   "metadata": {
    "collapsed": false
   }
  },
  {
   "cell_type": "code",
   "execution_count": 14,
   "outputs": [],
   "source": [
    "cleaned_text_s = pd.Series(cleaned_text_list)\n",
    "#cleaned_text_s.to_csv(r\"F:\\Data Science\\Datasets\\Cleaned AirBnB Reviews\\cleaned_reviews_17.csv\")"
   ],
   "metadata": {
    "collapsed": false
   }
  },
  {
   "cell_type": "code",
   "execution_count": 21,
   "outputs": [
    {
     "data": {
      "text/plain": "100000"
     },
     "execution_count": 21,
     "metadata": {},
     "output_type": "execute_result"
    }
   ],
   "source": [
    "#df_revs['cleaned_text'] = cleaned_text_list"
   ],
   "metadata": {
    "collapsed": false
   }
  },
  {
   "cell_type": "code",
   "execution_count": 7,
   "outputs": [
    {
     "name": "stdout",
     "output_type": "stream",
     "text": [
      "cleaned_reviews_1.csv\n",
      "cleaned_reviews_10.csv\n",
      "cleaned_reviews_11.csv\n",
      "cleaned_reviews_12.csv\n",
      "cleaned_reviews_13.csv\n",
      "cleaned_reviews_14.csv\n",
      "cleaned_reviews_15.csv\n",
      "cleaned_reviews_17.csv\n",
      "cleaned_reviews_2.csv\n",
      "cleaned_reviews_3.csv\n",
      "cleaned_reviews_4.csv\n",
      "cleaned_reviews_5.csv\n",
      "cleaned_reviews_6.csv\n",
      "cleaned_reviews_7.csv\n",
      "cleaned_reviews_8.csv\n",
      "cleaned_reviews_9.csv\n"
     ]
    }
   ],
   "source": [
    "cleaned_data_dir_path = r\"F:\\Data Science\\Datasets\\Cleaned AirBnB Reviews\"\n",
    "\n",
    "print_files_in_directory(cleaned_data_dir_path)"
   ],
   "metadata": {
    "collapsed": false
   }
  },
  {
   "cell_type": "code",
   "execution_count": 9,
   "outputs": [
    {
     "data": {
      "text/plain": "   Unnamed: 0                                                  0\n0           0  wonderful stay highlight stay nashville michel...\n1           1  michelle collier home wonderful great people m...\n2           2  spend night michele home feel wonderful right ...\n3           3  michele collier lovely people pleasure meet fa...\n4           4  lovely time stay michele collier nashville hou...",
      "text/html": "<div>\n<style scoped>\n    .dataframe tbody tr th:only-of-type {\n        vertical-align: middle;\n    }\n\n    .dataframe tbody tr th {\n        vertical-align: top;\n    }\n\n    .dataframe thead th {\n        text-align: right;\n    }\n</style>\n<table border=\"1\" class=\"dataframe\">\n  <thead>\n    <tr style=\"text-align: right;\">\n      <th></th>\n      <th>Unnamed: 0</th>\n      <th>0</th>\n    </tr>\n  </thead>\n  <tbody>\n    <tr>\n      <th>0</th>\n      <td>0</td>\n      <td>wonderful stay highlight stay nashville michel...</td>\n    </tr>\n    <tr>\n      <th>1</th>\n      <td>1</td>\n      <td>michelle collier home wonderful great people m...</td>\n    </tr>\n    <tr>\n      <th>2</th>\n      <td>2</td>\n      <td>spend night michele home feel wonderful right ...</td>\n    </tr>\n    <tr>\n      <th>3</th>\n      <td>3</td>\n      <td>michele collier lovely people pleasure meet fa...</td>\n    </tr>\n    <tr>\n      <th>4</th>\n      <td>4</td>\n      <td>lovely time stay michele collier nashville hou...</td>\n    </tr>\n  </tbody>\n</table>\n</div>"
     },
     "execution_count": 9,
     "metadata": {},
     "output_type": "execute_result"
    }
   ],
   "source": [
    "cleaned_reviews_list = []\n",
    "\n",
    "with os.scandir(cleaned_data_dir_path) as entries:\n",
    "    for entry in entries:\n",
    "        if entry.is_file():\n",
    "            cleaned_reviews_list.append(pd.read_csv(entry.path))\n",
    "\n",
    "cleaned_revs_df = pd.concat(cleaned_reviews_list)\n",
    "cleaned_revs_df.head()"
   ],
   "metadata": {
    "collapsed": false
   }
  },
  {
   "cell_type": "code",
   "execution_count": 10,
   "outputs": [
    {
     "name": "stdout",
     "output_type": "stream",
     "text": [
      "<class 'pandas.core.frame.DataFrame'>\n",
      "Index: 9668045 entries, 0 to 199999\n",
      "Data columns (total 2 columns):\n",
      " #   Column      Dtype \n",
      "---  ------      ----- \n",
      " 0   Unnamed: 0  int64 \n",
      " 1   0           object\n",
      "dtypes: int64(1), object(1)\n",
      "memory usage: 221.3+ MB\n"
     ]
    }
   ],
   "source": [
    "cleaned_revs_df.info()"
   ],
   "metadata": {
    "collapsed": false
   }
  },
  {
   "cell_type": "code",
   "execution_count": 17,
   "outputs": [],
   "source": [
    "cleaned_revs_df = cleaned_revs_df.rename(columns={'Unnamed: 0': 'temp_index','0': 'cleaned_reviews'})"
   ],
   "metadata": {
    "collapsed": false
   }
  },
  {
   "cell_type": "code",
   "execution_count": 19,
   "outputs": [
    {
     "data": {
      "text/plain": "9668045"
     },
     "execution_count": 19,
     "metadata": {},
     "output_type": "execute_result"
    }
   ],
   "source": [
    "cleaned_revs_df.to_sql(name='cleaned_reviews',con=conn,if_exists='replace')"
   ],
   "metadata": {
    "collapsed": false
   }
  },
  {
   "cell_type": "code",
   "execution_count": 20,
   "outputs": [
    {
     "ename": "DatabaseError",
     "evalue": "Execution failed on sql '\nSELECT\n    l.review_scores_rating,\n    cr.cleaned_reviews\nFROM\n    listings l\nJOIN cleaned_reviews cr ON l.index = cr.temp_index;\n': near \"index\": syntax error",
     "output_type": "error",
     "traceback": [
      "\u001B[1;31m---------------------------------------------------------------------------\u001B[0m",
      "\u001B[1;31mOperationalError\u001B[0m                          Traceback (most recent call last)",
      "File \u001B[1;32m~\\anaconda3\\lib\\site-packages\\pandas\\io\\sql.py:2202\u001B[0m, in \u001B[0;36mSQLiteDatabase.execute\u001B[1;34m(self, sql, params)\u001B[0m\n\u001B[0;32m   2201\u001B[0m \u001B[38;5;28;01mtry\u001B[39;00m:\n\u001B[1;32m-> 2202\u001B[0m     \u001B[43mcur\u001B[49m\u001B[38;5;241;43m.\u001B[39;49m\u001B[43mexecute\u001B[49m\u001B[43m(\u001B[49m\u001B[43msql\u001B[49m\u001B[43m,\u001B[49m\u001B[43m \u001B[49m\u001B[38;5;241;43m*\u001B[39;49m\u001B[43margs\u001B[49m\u001B[43m)\u001B[49m\n\u001B[0;32m   2203\u001B[0m     \u001B[38;5;28;01mreturn\u001B[39;00m cur\n",
      "\u001B[1;31mOperationalError\u001B[0m: near \"index\": syntax error",
      "\nThe above exception was the direct cause of the following exception:\n",
      "\u001B[1;31mDatabaseError\u001B[0m                             Traceback (most recent call last)",
      "Cell \u001B[1;32mIn[20], line 10\u001B[0m\n\u001B[0;32m      1\u001B[0m sql \u001B[38;5;241m=\u001B[39m \u001B[38;5;124m\"\"\"\u001B[39m\n\u001B[0;32m      2\u001B[0m \u001B[38;5;124mSELECT\u001B[39m\n\u001B[0;32m      3\u001B[0m \u001B[38;5;124m    l.review_scores_rating,\u001B[39m\n\u001B[1;32m   (...)\u001B[0m\n\u001B[0;32m      7\u001B[0m \u001B[38;5;124mJOIN cleaned_reviews cr ON l.index = cr.temp_index;\u001B[39m\n\u001B[0;32m      8\u001B[0m \u001B[38;5;124m\"\"\"\u001B[39m\n\u001B[1;32m---> 10\u001B[0m cr_df \u001B[38;5;241m=\u001B[39m \u001B[43mpd\u001B[49m\u001B[38;5;241;43m.\u001B[39;49m\u001B[43mread_sql\u001B[49m\u001B[43m(\u001B[49m\u001B[43msql\u001B[49m\u001B[38;5;241;43m=\u001B[39;49m\u001B[43msql\u001B[49m\u001B[43m,\u001B[49m\u001B[43mcon\u001B[49m\u001B[38;5;241;43m=\u001B[39;49m\u001B[43mconn\u001B[49m\u001B[43m)\u001B[49m\n",
      "File \u001B[1;32m~\\anaconda3\\lib\\site-packages\\pandas\\io\\sql.py:635\u001B[0m, in \u001B[0;36mread_sql\u001B[1;34m(sql, con, index_col, coerce_float, params, parse_dates, columns, chunksize, dtype_backend, dtype)\u001B[0m\n\u001B[0;32m    633\u001B[0m \u001B[38;5;28;01mwith\u001B[39;00m pandasSQL_builder(con) \u001B[38;5;28;01mas\u001B[39;00m pandas_sql:\n\u001B[0;32m    634\u001B[0m     \u001B[38;5;28;01mif\u001B[39;00m \u001B[38;5;28misinstance\u001B[39m(pandas_sql, SQLiteDatabase):\n\u001B[1;32m--> 635\u001B[0m         \u001B[38;5;28;01mreturn\u001B[39;00m \u001B[43mpandas_sql\u001B[49m\u001B[38;5;241;43m.\u001B[39;49m\u001B[43mread_query\u001B[49m\u001B[43m(\u001B[49m\n\u001B[0;32m    636\u001B[0m \u001B[43m            \u001B[49m\u001B[43msql\u001B[49m\u001B[43m,\u001B[49m\n\u001B[0;32m    637\u001B[0m \u001B[43m            \u001B[49m\u001B[43mindex_col\u001B[49m\u001B[38;5;241;43m=\u001B[39;49m\u001B[43mindex_col\u001B[49m\u001B[43m,\u001B[49m\n\u001B[0;32m    638\u001B[0m \u001B[43m            \u001B[49m\u001B[43mparams\u001B[49m\u001B[38;5;241;43m=\u001B[39;49m\u001B[43mparams\u001B[49m\u001B[43m,\u001B[49m\n\u001B[0;32m    639\u001B[0m \u001B[43m            \u001B[49m\u001B[43mcoerce_float\u001B[49m\u001B[38;5;241;43m=\u001B[39;49m\u001B[43mcoerce_float\u001B[49m\u001B[43m,\u001B[49m\n\u001B[0;32m    640\u001B[0m \u001B[43m            \u001B[49m\u001B[43mparse_dates\u001B[49m\u001B[38;5;241;43m=\u001B[39;49m\u001B[43mparse_dates\u001B[49m\u001B[43m,\u001B[49m\n\u001B[0;32m    641\u001B[0m \u001B[43m            \u001B[49m\u001B[43mchunksize\u001B[49m\u001B[38;5;241;43m=\u001B[39;49m\u001B[43mchunksize\u001B[49m\u001B[43m,\u001B[49m\n\u001B[0;32m    642\u001B[0m \u001B[43m            \u001B[49m\u001B[43mdtype_backend\u001B[49m\u001B[38;5;241;43m=\u001B[39;49m\u001B[43mdtype_backend\u001B[49m\u001B[43m,\u001B[49m\u001B[43m  \u001B[49m\u001B[38;5;66;43;03m# type: ignore[arg-type]\u001B[39;49;00m\n\u001B[0;32m    643\u001B[0m \u001B[43m            \u001B[49m\u001B[43mdtype\u001B[49m\u001B[38;5;241;43m=\u001B[39;49m\u001B[43mdtype\u001B[49m\u001B[43m,\u001B[49m\n\u001B[0;32m    644\u001B[0m \u001B[43m        \u001B[49m\u001B[43m)\u001B[49m\n\u001B[0;32m    646\u001B[0m     \u001B[38;5;28;01mtry\u001B[39;00m:\n\u001B[0;32m    647\u001B[0m         _is_table_name \u001B[38;5;241m=\u001B[39m pandas_sql\u001B[38;5;241m.\u001B[39mhas_table(sql)\n",
      "File \u001B[1;32m~\\anaconda3\\lib\\site-packages\\pandas\\io\\sql.py:2266\u001B[0m, in \u001B[0;36mSQLiteDatabase.read_query\u001B[1;34m(self, sql, index_col, coerce_float, parse_dates, params, chunksize, dtype, dtype_backend)\u001B[0m\n\u001B[0;32m   2255\u001B[0m \u001B[38;5;28;01mdef\u001B[39;00m \u001B[38;5;21mread_query\u001B[39m(\n\u001B[0;32m   2256\u001B[0m     \u001B[38;5;28mself\u001B[39m,\n\u001B[0;32m   2257\u001B[0m     sql,\n\u001B[1;32m   (...)\u001B[0m\n\u001B[0;32m   2264\u001B[0m     dtype_backend: DtypeBackend \u001B[38;5;241m|\u001B[39m Literal[\u001B[38;5;124m\"\u001B[39m\u001B[38;5;124mnumpy\u001B[39m\u001B[38;5;124m\"\u001B[39m] \u001B[38;5;241m=\u001B[39m \u001B[38;5;124m\"\u001B[39m\u001B[38;5;124mnumpy\u001B[39m\u001B[38;5;124m\"\u001B[39m,\n\u001B[0;32m   2265\u001B[0m ) \u001B[38;5;241m-\u001B[39m\u001B[38;5;241m>\u001B[39m DataFrame \u001B[38;5;241m|\u001B[39m Iterator[DataFrame]:\n\u001B[1;32m-> 2266\u001B[0m     cursor \u001B[38;5;241m=\u001B[39m \u001B[38;5;28;43mself\u001B[39;49m\u001B[38;5;241;43m.\u001B[39;49m\u001B[43mexecute\u001B[49m\u001B[43m(\u001B[49m\u001B[43msql\u001B[49m\u001B[43m,\u001B[49m\u001B[43m \u001B[49m\u001B[43mparams\u001B[49m\u001B[43m)\u001B[49m\n\u001B[0;32m   2267\u001B[0m     columns \u001B[38;5;241m=\u001B[39m [col_desc[\u001B[38;5;241m0\u001B[39m] \u001B[38;5;28;01mfor\u001B[39;00m col_desc \u001B[38;5;129;01min\u001B[39;00m cursor\u001B[38;5;241m.\u001B[39mdescription]\n\u001B[0;32m   2269\u001B[0m     \u001B[38;5;28;01mif\u001B[39;00m chunksize \u001B[38;5;129;01mis\u001B[39;00m \u001B[38;5;129;01mnot\u001B[39;00m \u001B[38;5;28;01mNone\u001B[39;00m:\n",
      "File \u001B[1;32m~\\anaconda3\\lib\\site-packages\\pandas\\io\\sql.py:2214\u001B[0m, in \u001B[0;36mSQLiteDatabase.execute\u001B[1;34m(self, sql, params)\u001B[0m\n\u001B[0;32m   2211\u001B[0m     \u001B[38;5;28;01mraise\u001B[39;00m ex \u001B[38;5;28;01mfrom\u001B[39;00m \u001B[38;5;21;01minner_exc\u001B[39;00m\n\u001B[0;32m   2213\u001B[0m ex \u001B[38;5;241m=\u001B[39m DatabaseError(\u001B[38;5;124mf\u001B[39m\u001B[38;5;124m\"\u001B[39m\u001B[38;5;124mExecution failed on sql \u001B[39m\u001B[38;5;124m'\u001B[39m\u001B[38;5;132;01m{\u001B[39;00msql\u001B[38;5;132;01m}\u001B[39;00m\u001B[38;5;124m'\u001B[39m\u001B[38;5;124m: \u001B[39m\u001B[38;5;132;01m{\u001B[39;00mexc\u001B[38;5;132;01m}\u001B[39;00m\u001B[38;5;124m\"\u001B[39m)\n\u001B[1;32m-> 2214\u001B[0m \u001B[38;5;28;01mraise\u001B[39;00m ex \u001B[38;5;28;01mfrom\u001B[39;00m \u001B[38;5;21;01mexc\u001B[39;00m\n",
      "\u001B[1;31mDatabaseError\u001B[0m: Execution failed on sql '\nSELECT\n    l.review_scores_rating,\n    cr.cleaned_reviews\nFROM\n    listings l\nJOIN cleaned_reviews cr ON l.index = cr.temp_index;\n': near \"index\": syntax error"
     ]
    }
   ],
   "source": [
    "sql = \"\"\"\n",
    "SELECT\n",
    "    l.review_scores_rating,\n",
    "    cr.cleaned_reviews\n",
    "FROM\n",
    "    listings l\n",
    "JOIN cleaned_reviews cr ON l.index = cr.temp_index;\n",
    "\"\"\"\n",
    "\n",
    "cr_df = pd.read_sql(sql=sql,con=conn)"
   ],
   "metadata": {
    "collapsed": false
   }
  },
  {
   "cell_type": "code",
   "execution_count": 24,
   "outputs": [],
   "source": [
    "sql = \"\"\"\n",
    "SELECT\n",
    "    *\n",
    "    --l.\"index\",\n",
    "    --l.review_scores_rating\n",
    "FROM\n",
    "    listings l;\n",
    "\"\"\"\n",
    "listings_df = pd.read_sql(sql=sql,con=conn)"
   ],
   "metadata": {
    "collapsed": false
   }
  },
  {
   "cell_type": "code",
   "execution_count": 25,
   "outputs": [
    {
     "name": "stdout",
     "output_type": "stream",
     "text": [
      "<class 'pandas.core.frame.DataFrame'>\n",
      "RangeIndex: 228701 entries, 0 to 228700\n",
      "Data columns (total 76 columns):\n",
      " #   Column                                        Non-Null Count   Dtype  \n",
      "---  ------                                        --------------   -----  \n",
      " 0   index                                         228701 non-null  int64  \n",
      " 1   id                                            228701 non-null  int64  \n",
      " 2   listing_url                                   228701 non-null  object \n",
      " 3   scrape_id                                     228701 non-null  int64  \n",
      " 4   last_scraped                                  228701 non-null  object \n",
      " 5   source                                        228701 non-null  object \n",
      " 6   name                                          228701 non-null  object \n",
      " 7   description                                   226441 non-null  object \n",
      " 8   neighborhood_overview                         144375 non-null  object \n",
      " 9   picture_url                                   228700 non-null  object \n",
      " 10  host_id                                       228701 non-null  int64  \n",
      " 11  host_url                                      228701 non-null  object \n",
      " 12  host_name                                     228689 non-null  object \n",
      " 13  host_since                                    228689 non-null  object \n",
      " 14  host_location                                 183049 non-null  object \n",
      " 15  host_about                                    138547 non-null  object \n",
      " 16  host_response_time                            184496 non-null  object \n",
      " 17  host_response_rate                            184496 non-null  object \n",
      " 18  host_acceptance_rate                          190036 non-null  object \n",
      " 19  host_is_superhost                             177045 non-null  object \n",
      " 20  host_thumbnail_url                            228689 non-null  object \n",
      " 21  host_picture_url                              228689 non-null  object \n",
      " 22  host_neighbourhood                            184960 non-null  object \n",
      " 23  host_listings_count                           228689 non-null  float64\n",
      " 24  host_total_listings_count                     228689 non-null  float64\n",
      " 25  host_verifications                            228701 non-null  object \n",
      " 26  host_has_profile_pic                          228689 non-null  object \n",
      " 27  host_identity_verified                        228689 non-null  object \n",
      " 28  neighbourhood                                 144379 non-null  object \n",
      " 29  neighbourhood_cleansed                        228701 non-null  object \n",
      " 30  neighbourhood_group_cleansed                  99798 non-null   object \n",
      " 31  latitude                                      228701 non-null  float64\n",
      " 32  longitude                                     228701 non-null  float64\n",
      " 33  property_type                                 228701 non-null  object \n",
      " 34  room_type                                     228701 non-null  object \n",
      " 35  accommodates                                  228701 non-null  int64  \n",
      " 36  bathrooms                                     0 non-null       object \n",
      " 37  bathrooms_text                                228329 non-null  object \n",
      " 38  bedrooms                                      163778 non-null  float64\n",
      " 39  beds                                          226014 non-null  float64\n",
      " 40  amenities                                     228701 non-null  object \n",
      " 41  price                                         228701 non-null  object \n",
      " 42  minimum_nights                                228701 non-null  int64  \n",
      " 43  maximum_nights                                228701 non-null  int64  \n",
      " 44  minimum_minimum_nights                        228678 non-null  float64\n",
      " 45  maximum_minimum_nights                        228678 non-null  float64\n",
      " 46  minimum_maximum_nights                        228678 non-null  float64\n",
      " 47  maximum_maximum_nights                        228678 non-null  float64\n",
      " 48  minimum_nights_avg_ntm                        228678 non-null  float64\n",
      " 49  maximum_nights_avg_ntm                        228678 non-null  float64\n",
      " 50  calendar_updated                              0 non-null       object \n",
      " 51  has_availability                              228701 non-null  object \n",
      " 52  availability_30                               228701 non-null  int64  \n",
      " 53  availability_60                               228701 non-null  int64  \n",
      " 54  availability_90                               228701 non-null  int64  \n",
      " 55  availability_365                              228701 non-null  int64  \n",
      " 56  calendar_last_scraped                         228701 non-null  object \n",
      " 57  number_of_reviews                             228701 non-null  int64  \n",
      " 58  number_of_reviews_ltm                         228701 non-null  int64  \n",
      " 59  number_of_reviews_l30d                        228701 non-null  int64  \n",
      " 60  first_review                                  179233 non-null  object \n",
      " 61  last_review                                   179233 non-null  object \n",
      " 62  review_scores_rating                          179233 non-null  float64\n",
      " 63  review_scores_accuracy                        178325 non-null  float64\n",
      " 64  review_scores_cleanliness                     178339 non-null  float64\n",
      " 65  review_scores_checkin                         178313 non-null  float64\n",
      " 66  review_scores_communication                   178333 non-null  float64\n",
      " 67  review_scores_location                        178306 non-null  float64\n",
      " 68  review_scores_value                           178305 non-null  float64\n",
      " 69  license                                       55451 non-null   object \n",
      " 70  instant_bookable                              228701 non-null  object \n",
      " 71  calculated_host_listings_count                228701 non-null  int64  \n",
      " 72  calculated_host_listings_count_entire_homes   228701 non-null  int64  \n",
      " 73  calculated_host_listings_count_private_rooms  228701 non-null  int64  \n",
      " 74  calculated_host_listings_count_shared_rooms   228701 non-null  int64  \n",
      " 75  reviews_per_month                             179233 non-null  float64\n",
      "dtypes: float64(20), int64(18), object(38)\n",
      "memory usage: 132.6+ MB\n"
     ]
    }
   ],
   "source": [
    "listings_df.info()"
   ],
   "metadata": {
    "collapsed": false
   }
  },
  {
   "cell_type": "code",
   "execution_count": 26,
   "outputs": [
    {
     "name": "stdout",
     "output_type": "stream",
     "text": [
      "listings (1).csv.gz\n",
      "listings (10).csv.gz\n",
      "listings (11).csv.gz\n",
      "listings (12).csv.gz\n",
      "listings (13).csv.gz\n",
      "listings (14).csv.gz\n",
      "listings (15).csv.gz\n",
      "listings (16).csv.gz\n",
      "listings (17).csv.gz\n",
      "listings (18).csv.gz\n",
      "listings (19).csv.gz\n",
      "listings (2).csv.gz\n",
      "listings (20).csv.gz\n",
      "listings (21).csv.gz\n",
      "listings (22).csv.gz\n",
      "listings (23).csv.gz\n",
      "listings (24).csv.gz\n",
      "listings (25).csv.gz\n",
      "listings (26).csv.gz\n",
      "listings (27).csv.gz\n",
      "listings (3).csv.gz\n",
      "listings (4).csv.gz\n",
      "listings (5).csv.gz\n",
      "listings (6).csv.gz\n",
      "listings (7).csv.gz\n",
      "listings (8).csv.gz\n",
      "listings (9).csv.gz\n",
      "listings.csv.gz\n"
     ]
    }
   ],
   "source": [
    "listings_dest_path = r\"F:\\Data Science\\Datasets\\AirBnB Data\\Listings\"\n",
    "\n",
    "print_files_in_directory(listings_dest_path)"
   ],
   "metadata": {
    "collapsed": false
   }
  },
  {
   "cell_type": "code",
   "execution_count": 28,
   "outputs": [
    {
     "data": {
      "text/plain": "       id                          listing_url       scrape_id last_scraped  \\\n0    6422    https://www.airbnb.com/rooms/6422  20230622195211   2023-06-22   \n1   39870   https://www.airbnb.com/rooms/39870  20230622195211   2023-06-22   \n2   72906   https://www.airbnb.com/rooms/72906  20230622195211   2023-06-23   \n3  258817  https://www.airbnb.com/rooms/258817  20230622195211   2023-06-22   \n4  289242  https://www.airbnb.com/rooms/289242  20230622195211   2023-06-22   \n\n        source                                               name  \\\n0  city scrape  Home in Nashville · ★4.95 · 1 bedroom · 1 bed ...   \n1  city scrape  Home in Nashville · ★4.94 · 1 bedroom · 1 bed ...   \n2  city scrape  Rental unit in Nashville · ★4.91 · 2 bedrooms ...   \n3  city scrape  Home in Nashville · ★4.77 · 1 bedroom · 2 beds...   \n4  city scrape  Home in Nashville · ★4.71 · 2 bedrooms · 3 bed...   \n\n                                         description  \\\n0  30 day plus rental - book for one month and th...   \n1  Since I am older, I need for guests to be vacc...   \n2  Entire top floor. Private. 800 sq ft of bright...   \n3  Morningstar House! Extended stay - 3+ months- ...   \n4  Morningstar House! Extended stay - price reduc...   \n\n                               neighborhood_overview  \\\n0  Historic East Nashville is home to many new an...   \n1  The house is in a safe, quiet,  \"college\" neig...   \n2  Historic Belmont-Hillsboro neighborhood. Walk-...   \n3  I'm  very near the Percy Priest Lake, natural ...   \n4  The Morningstar House is in a quiet cul-de-sac...   \n\n                                         picture_url  host_id  ...  \\\n0  https://a0.muscache.com/pictures/miso/Hosting-...    12172  ...   \n1  https://a0.muscache.com/pictures/miso/Hosting-...   171184  ...   \n2  https://a0.muscache.com/pictures/58602855/3788...   176117  ...   \n3  https://a0.muscache.com/pictures/eef19bc4-2743...    22296  ...   \n4  https://a0.muscache.com/pictures/40a7ab72-20f7...    22296  ...   \n\n  review_scores_communication review_scores_location review_scores_value  \\\n0                        4.96                   4.92                4.98   \n1                        4.98                   4.94                4.94   \n2                        4.99                   4.96                4.89   \n3                        4.90                   4.74                4.73   \n4                        4.78                   4.47                4.69   \n\n  license instant_bookable calculated_host_listings_count  \\\n0     NaN                f                              1   \n1     NaN                f                              1   \n2     NaN                f                              1   \n3     NaN                f                              8   \n4     NaN                f                              8   \n\n  calculated_host_listings_count_entire_homes  \\\n0                                           0   \n1                                           0   \n2                                           1   \n3                                           0   \n4                                           0   \n\n  calculated_host_listings_count_private_rooms  \\\n0                                            1   \n1                                            1   \n2                                            0   \n3                                            7   \n4                                            7   \n\n  calculated_host_listings_count_shared_rooms reviews_per_month  \n0                                           0              3.91  \n1                                           0              4.52  \n2                                           0              4.71  \n3                                           1              0.68  \n4                                           1              0.54  \n\n[5 rows x 75 columns]",
      "text/html": "<div>\n<style scoped>\n    .dataframe tbody tr th:only-of-type {\n        vertical-align: middle;\n    }\n\n    .dataframe tbody tr th {\n        vertical-align: top;\n    }\n\n    .dataframe thead th {\n        text-align: right;\n    }\n</style>\n<table border=\"1\" class=\"dataframe\">\n  <thead>\n    <tr style=\"text-align: right;\">\n      <th></th>\n      <th>id</th>\n      <th>listing_url</th>\n      <th>scrape_id</th>\n      <th>last_scraped</th>\n      <th>source</th>\n      <th>name</th>\n      <th>description</th>\n      <th>neighborhood_overview</th>\n      <th>picture_url</th>\n      <th>host_id</th>\n      <th>...</th>\n      <th>review_scores_communication</th>\n      <th>review_scores_location</th>\n      <th>review_scores_value</th>\n      <th>license</th>\n      <th>instant_bookable</th>\n      <th>calculated_host_listings_count</th>\n      <th>calculated_host_listings_count_entire_homes</th>\n      <th>calculated_host_listings_count_private_rooms</th>\n      <th>calculated_host_listings_count_shared_rooms</th>\n      <th>reviews_per_month</th>\n    </tr>\n  </thead>\n  <tbody>\n    <tr>\n      <th>0</th>\n      <td>6422</td>\n      <td>https://www.airbnb.com/rooms/6422</td>\n      <td>20230622195211</td>\n      <td>2023-06-22</td>\n      <td>city scrape</td>\n      <td>Home in Nashville · ★4.95 · 1 bedroom · 1 bed ...</td>\n      <td>30 day plus rental - book for one month and th...</td>\n      <td>Historic East Nashville is home to many new an...</td>\n      <td>https://a0.muscache.com/pictures/miso/Hosting-...</td>\n      <td>12172</td>\n      <td>...</td>\n      <td>4.96</td>\n      <td>4.92</td>\n      <td>4.98</td>\n      <td>NaN</td>\n      <td>f</td>\n      <td>1</td>\n      <td>0</td>\n      <td>1</td>\n      <td>0</td>\n      <td>3.91</td>\n    </tr>\n    <tr>\n      <th>1</th>\n      <td>39870</td>\n      <td>https://www.airbnb.com/rooms/39870</td>\n      <td>20230622195211</td>\n      <td>2023-06-22</td>\n      <td>city scrape</td>\n      <td>Home in Nashville · ★4.94 · 1 bedroom · 1 bed ...</td>\n      <td>Since I am older, I need for guests to be vacc...</td>\n      <td>The house is in a safe, quiet,  \"college\" neig...</td>\n      <td>https://a0.muscache.com/pictures/miso/Hosting-...</td>\n      <td>171184</td>\n      <td>...</td>\n      <td>4.98</td>\n      <td>4.94</td>\n      <td>4.94</td>\n      <td>NaN</td>\n      <td>f</td>\n      <td>1</td>\n      <td>0</td>\n      <td>1</td>\n      <td>0</td>\n      <td>4.52</td>\n    </tr>\n    <tr>\n      <th>2</th>\n      <td>72906</td>\n      <td>https://www.airbnb.com/rooms/72906</td>\n      <td>20230622195211</td>\n      <td>2023-06-23</td>\n      <td>city scrape</td>\n      <td>Rental unit in Nashville · ★4.91 · 2 bedrooms ...</td>\n      <td>Entire top floor. Private. 800 sq ft of bright...</td>\n      <td>Historic Belmont-Hillsboro neighborhood. Walk-...</td>\n      <td>https://a0.muscache.com/pictures/58602855/3788...</td>\n      <td>176117</td>\n      <td>...</td>\n      <td>4.99</td>\n      <td>4.96</td>\n      <td>4.89</td>\n      <td>NaN</td>\n      <td>f</td>\n      <td>1</td>\n      <td>1</td>\n      <td>0</td>\n      <td>0</td>\n      <td>4.71</td>\n    </tr>\n    <tr>\n      <th>3</th>\n      <td>258817</td>\n      <td>https://www.airbnb.com/rooms/258817</td>\n      <td>20230622195211</td>\n      <td>2023-06-22</td>\n      <td>city scrape</td>\n      <td>Home in Nashville · ★4.77 · 1 bedroom · 2 beds...</td>\n      <td>Morningstar House! Extended stay - 3+ months- ...</td>\n      <td>I'm  very near the Percy Priest Lake, natural ...</td>\n      <td>https://a0.muscache.com/pictures/eef19bc4-2743...</td>\n      <td>22296</td>\n      <td>...</td>\n      <td>4.90</td>\n      <td>4.74</td>\n      <td>4.73</td>\n      <td>NaN</td>\n      <td>f</td>\n      <td>8</td>\n      <td>0</td>\n      <td>7</td>\n      <td>1</td>\n      <td>0.68</td>\n    </tr>\n    <tr>\n      <th>4</th>\n      <td>289242</td>\n      <td>https://www.airbnb.com/rooms/289242</td>\n      <td>20230622195211</td>\n      <td>2023-06-22</td>\n      <td>city scrape</td>\n      <td>Home in Nashville · ★4.71 · 2 bedrooms · 3 bed...</td>\n      <td>Morningstar House! Extended stay - price reduc...</td>\n      <td>The Morningstar House is in a quiet cul-de-sac...</td>\n      <td>https://a0.muscache.com/pictures/40a7ab72-20f7...</td>\n      <td>22296</td>\n      <td>...</td>\n      <td>4.78</td>\n      <td>4.47</td>\n      <td>4.69</td>\n      <td>NaN</td>\n      <td>f</td>\n      <td>8</td>\n      <td>0</td>\n      <td>7</td>\n      <td>1</td>\n      <td>0.54</td>\n    </tr>\n  </tbody>\n</table>\n<p>5 rows × 75 columns</p>\n</div>"
     },
     "execution_count": 28,
     "metadata": {},
     "output_type": "execute_result"
    }
   ],
   "source": [
    "gz_listings_path = r\"F:\\Data Science\\Datasets\\AirBnB Data\\Listings gz\"\n",
    "\n",
    "listings_list = []\n",
    "\n",
    "with os.scandir(gz_listings_path) as entries:\n",
    "    for entry in entries:\n",
    "        if entry.is_file():\n",
    "            listings_list.append(pd.read_csv(entry.path))\n",
    "\n",
    "listings_df = pd.concat(listings_list)\n",
    "listings_df.head()"
   ],
   "metadata": {
    "collapsed": false
   }
  },
  {
   "cell_type": "code",
   "execution_count": 29,
   "outputs": [
    {
     "name": "stdout",
     "output_type": "stream",
     "text": [
      "<class 'pandas.core.frame.DataFrame'>\n",
      "Index: 228701 entries, 0 to 44463\n",
      "Data columns (total 75 columns):\n",
      " #   Column                                        Non-Null Count   Dtype  \n",
      "---  ------                                        --------------   -----  \n",
      " 0   id                                            228701 non-null  int64  \n",
      " 1   listing_url                                   228701 non-null  object \n",
      " 2   scrape_id                                     228701 non-null  int64  \n",
      " 3   last_scraped                                  228701 non-null  object \n",
      " 4   source                                        228701 non-null  object \n",
      " 5   name                                          228701 non-null  object \n",
      " 6   description                                   226441 non-null  object \n",
      " 7   neighborhood_overview                         144375 non-null  object \n",
      " 8   picture_url                                   228700 non-null  object \n",
      " 9   host_id                                       228701 non-null  int64  \n",
      " 10  host_url                                      228701 non-null  object \n",
      " 11  host_name                                     228689 non-null  object \n",
      " 12  host_since                                    228689 non-null  object \n",
      " 13  host_location                                 183049 non-null  object \n",
      " 14  host_about                                    138546 non-null  object \n",
      " 15  host_response_time                            184496 non-null  object \n",
      " 16  host_response_rate                            184496 non-null  object \n",
      " 17  host_acceptance_rate                          190036 non-null  object \n",
      " 18  host_is_superhost                             177045 non-null  object \n",
      " 19  host_thumbnail_url                            228689 non-null  object \n",
      " 20  host_picture_url                              228689 non-null  object \n",
      " 21  host_neighbourhood                            184960 non-null  object \n",
      " 22  host_listings_count                           228689 non-null  float64\n",
      " 23  host_total_listings_count                     228689 non-null  float64\n",
      " 24  host_verifications                            228689 non-null  object \n",
      " 25  host_has_profile_pic                          228689 non-null  object \n",
      " 26  host_identity_verified                        228689 non-null  object \n",
      " 27  neighbourhood                                 144379 non-null  object \n",
      " 28  neighbourhood_cleansed                        228701 non-null  object \n",
      " 29  neighbourhood_group_cleansed                  99798 non-null   object \n",
      " 30  latitude                                      228701 non-null  float64\n",
      " 31  longitude                                     228701 non-null  float64\n",
      " 32  property_type                                 228701 non-null  object \n",
      " 33  room_type                                     228701 non-null  object \n",
      " 34  accommodates                                  228701 non-null  int64  \n",
      " 35  bathrooms                                     0 non-null       float64\n",
      " 36  bathrooms_text                                228329 non-null  object \n",
      " 37  bedrooms                                      163778 non-null  float64\n",
      " 38  beds                                          226014 non-null  float64\n",
      " 39  amenities                                     228701 non-null  object \n",
      " 40  price                                         228701 non-null  object \n",
      " 41  minimum_nights                                228701 non-null  int64  \n",
      " 42  maximum_nights                                228701 non-null  int64  \n",
      " 43  minimum_minimum_nights                        228678 non-null  float64\n",
      " 44  maximum_minimum_nights                        228678 non-null  float64\n",
      " 45  minimum_maximum_nights                        228678 non-null  float64\n",
      " 46  maximum_maximum_nights                        228678 non-null  float64\n",
      " 47  minimum_nights_avg_ntm                        228678 non-null  float64\n",
      " 48  maximum_nights_avg_ntm                        228678 non-null  float64\n",
      " 49  calendar_updated                              0 non-null       float64\n",
      " 50  has_availability                              228701 non-null  object \n",
      " 51  availability_30                               228701 non-null  int64  \n",
      " 52  availability_60                               228701 non-null  int64  \n",
      " 53  availability_90                               228701 non-null  int64  \n",
      " 54  availability_365                              228701 non-null  int64  \n",
      " 55  calendar_last_scraped                         228701 non-null  object \n",
      " 56  number_of_reviews                             228701 non-null  int64  \n",
      " 57  number_of_reviews_ltm                         228701 non-null  int64  \n",
      " 58  number_of_reviews_l30d                        228701 non-null  int64  \n",
      " 59  first_review                                  179233 non-null  object \n",
      " 60  last_review                                   179233 non-null  object \n",
      " 61  review_scores_rating                          179233 non-null  float64\n",
      " 62  review_scores_accuracy                        178325 non-null  float64\n",
      " 63  review_scores_cleanliness                     178339 non-null  float64\n",
      " 64  review_scores_checkin                         178313 non-null  float64\n",
      " 65  review_scores_communication                   178333 non-null  float64\n",
      " 66  review_scores_location                        178306 non-null  float64\n",
      " 67  review_scores_value                           178305 non-null  float64\n",
      " 68  license                                       55451 non-null   object \n",
      " 69  instant_bookable                              228701 non-null  object \n",
      " 70  calculated_host_listings_count                228701 non-null  int64  \n",
      " 71  calculated_host_listings_count_entire_homes   228701 non-null  int64  \n",
      " 72  calculated_host_listings_count_private_rooms  228701 non-null  int64  \n",
      " 73  calculated_host_listings_count_shared_rooms   228701 non-null  int64  \n",
      " 74  reviews_per_month                             179233 non-null  float64\n",
      "dtypes: float64(22), int64(17), object(36)\n",
      "memory usage: 132.6+ MB\n"
     ]
    }
   ],
   "source": [
    "listings_df.info()"
   ],
   "metadata": {
    "collapsed": false
   }
  },
  {
   "cell_type": "code",
   "execution_count": null,
   "outputs": [],
   "source": [
    "sql = \"\"\"\n",
    "SELECT\n",
    "    r.\"index\",\n",
    "    r.id,\n",
    "    r.comments,\n",
    "    l.\"index\",\n",
    "    l.review_scores_rating\n",
    "\n",
    "    \"\"\""
   ],
   "metadata": {
    "collapsed": false
   }
  }
 ],
 "metadata": {
  "kernelspec": {
   "display_name": "Python 3",
   "language": "python",
   "name": "python3"
  },
  "language_info": {
   "codemirror_mode": {
    "name": "ipython",
    "version": 2
   },
   "file_extension": ".py",
   "mimetype": "text/x-python",
   "name": "python",
   "nbconvert_exporter": "python",
   "pygments_lexer": "ipython2",
   "version": "2.7.6"
  }
 },
 "nbformat": 4,
 "nbformat_minor": 0
}
