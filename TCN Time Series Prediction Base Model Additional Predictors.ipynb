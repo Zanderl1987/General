{
 "cells": [
  {
   "cell_type": "code",
   "execution_count": 1,
   "id": "0a0ae26d",
   "metadata": {
    "scrolled": false
   },
   "outputs": [],
   "source": [
    "#!pip install yfinance"
   ]
  },
  {
   "cell_type": "code",
   "execution_count": 2,
   "id": "224cc961",
   "metadata": {},
   "outputs": [],
   "source": [
    "#!pip install plotly"
   ]
  },
  {
   "cell_type": "code",
   "execution_count": 40,
   "id": "6a32b0ce",
   "metadata": {},
   "outputs": [],
   "source": [
    "import warnings\n",
    "warnings.filterwarnings('ignore')\n",
    "\n",
    "import math\n",
    "import polars as pl\n",
    "import sklearn as sklearn\n",
    "import scipy as scipy\n",
    "import pandas as pd\n",
    "import matplotlib\n",
    "import matplotlib.pyplot as plt\n",
    "import sys\n",
    "import tensorflow.keras as keras\n",
    "import tensorflow as tf\n",
    "import cv2 as opencv\n",
    "import numpy as np\n",
    "import yfinance\n",
    "\n",
    "from tensorflow.keras.models import Model\n",
    "from tensorflow.keras.layers import Input, Conv1D, BatchNormalization, ReLU, Add, Dense, Flatten, Dropout\n",
    "from tensorflow.keras.optimizers import Adam\n",
    "from sklearn.preprocessing import MinMaxScaler\n",
    "from sklearn.model_selection import train_test_split\n",
    "\n",
    "import plotly\n",
    "from plotly.graph_objs import *\n",
    "import plotly.tools as tls\n",
    "from plotly.offline import download_plotlyjs, init_notebook_mode, plot, iplot\n",
    "import plotly.express as px\n",
    "import plotly.offline as py\n",
    "import plotly.graph_objs as go\n",
    "from sklearn.metrics import mean_squared_error, explained_variance_score\n",
    "from keras.callbacks import EarlyStopping, ModelCheckpoint, ReduceLROnPlateau"
   ]
  },
  {
   "cell_type": "code",
   "execution_count": 50,
   "id": "e70e5b21",
   "metadata": {},
   "outputs": [
    {
     "name": "stdout",
     "output_type": "stream",
     "text": [
      "GPU is available\n"
     ]
    }
   ],
   "source": [
    "gpu = len(tf.config.list_physical_devices('GPU'))>0\n",
    "print(\"GPU is\", \"available\" if gpu else \"NOT AVAILABLE\")"
   ]
  },
  {
   "cell_type": "code",
   "execution_count": 85,
   "id": "ff1f4a88",
   "metadata": {},
   "outputs": [],
   "source": [
    "def get_yf_hist(symbol_list,startDate,endDate,interval):\n",
    "  import matplotlib.pyplot as plt\n",
    "  import datetime\n",
    "  import yfinance as yf\n",
    "\n",
    "  # Get historical pricing data\n",
    "  data = yf.download(symbol_list, startDate, endDate, interval)\n",
    "\n",
    "  return data\n",
    "\n",
    "\n",
    "def get_intraday(symbol_list,period,interval):\n",
    "  intraday_list = []\n",
    "  intraday_df = pd.DataFrame()\n",
    "  for sym in symbol_list:\n",
    "    intraday = yf.download(tickers=sym,\n",
    "                           period=period,\n",
    "                           interval=interval)\n",
    "    intraday['symbol'] = sym\n",
    "    intraday_df = pd.concat([intraday_df,intraday])\n",
    "\n",
    "  return intraday_df\n",
    "\n",
    "def rolling_zscore(data,return_period,window_length):\n",
    "  log_returns = (np.log(data / data.shift(return_period)))\n",
    "  zscore = (log_returns - log_returns.rolling(window_length).mean() / log_returns.rolling(window_length).std())\n",
    "  #results_dict = dict({'log_returns':log_returns})\n",
    "  results_df = pd.DataFrame(zscore)\n",
    "\n",
    "  return results_df\n",
    "\n",
    "\n",
    "  # convert series to supervised learning\n",
    "def series_to_supervised(data, n_in=1, n_out=1, dropnan=True):\n",
    "    n_vars = 1 if type(data) is list else data.shape[1]\n",
    "    df = pd.DataFrame(data)\n",
    "    cols, names = list(), list()\n",
    "    # input sequence (t-n, ... t-1)\n",
    "    for i in range(n_in, 0, -1):\n",
    "        cols.append(df.shift(i))\n",
    "        names += [('var%d(t-%d)' % (j+1, i)) for j in range(n_vars)]\n",
    "    # forecast sequence (t, t+1, ... t+n)\n",
    "    for i in range(0, n_out):\n",
    "        cols.append(df.shift(-i))\n",
    "        if i == 0:\n",
    "            names += [('var%d(t)' % (j+1)) for j in range(n_vars)]\n",
    "        else:\n",
    "            names += [('var%d(t+%d)' % (j+1, i)) for j in range(n_vars)]\n",
    "    # put it all together\n",
    "    agg = pd.concat(cols, axis=1)\n",
    "    agg.columns = names\n",
    "    # drop rows with NaN values\n",
    "    if dropnan:\n",
    "        agg.dropna(inplace=True)\n",
    "    return agg\n",
    "\n",
    "def rmse(y_true,y_pred):\n",
    "    \n",
    "    # Ensure both lists have the same length\n",
    "    if len(y_true) != len(y_pred):\n",
    "        raise ValueError(\"The length of actual and predicted values must be the same\")\n",
    "    \n",
    "    # Calculate the squared differences\n",
    "    squared_diff = [(yt-yp) ** 2 for yt, yp in zip(y_true,y_pred)]\n",
    "    \n",
    "    # Calculate mean of the squared differences\n",
    "    mean_squared_diff = sum(squared_diff) / len(y_true)\n",
    "    \n",
    "    # Return the square root of the mean squared difference\n",
    "    rmse = math.sqrt(mean_squared_diff)\n",
    "    \n",
    "    return rmse"
   ]
  },
  {
   "cell_type": "code",
   "execution_count": 86,
   "id": "21a71815",
   "metadata": {},
   "outputs": [
    {
     "name": "stderr",
     "output_type": "stream",
     "text": [
      "[*********************100%***********************]  5 of 5 completed\n"
     ]
    }
   ],
   "source": [
    "#symbol_list = ['GS','JPM','C','WFC','STT']\n",
    "#symbol_list = ['^GSPC','AMD','NVDA','TXN']\n",
    "#symbol_list = ['^GSPC','SPY','MSFT','AAPL','NVDA','AMZN','LLY','JPM','AMD','XOM','UNH','PG','JNJ','HD','MRK','COST','CVX','NFLX','CRM','WMT','AMD','BAC','PEP','KO','LIN','ADBE','WFC','TMO','DIS','ACN','MCD','CSCO','ORCL','ABT','CAT','QCOM','INTU','AMGN','BKNG','LOW','ISRG','CRM']\n",
    "\n",
    "#symbol_list = ['MA','V','^GSPC']\n",
    "#symbol_list = ['^GSPC','UNH','GS','^DJI','MSFT','HD','SHW','CAT','CRM','V','AMGN','MCD','AXP','TRV','JPM','HON','AAPL','AMZN','IBM','PG','CVX','JNJ','NVDA','BA','MMM','DIS','MRK','WMT','NKE','KO','CSCO','VZ']\n",
    "\n",
    "symbol_list = ['^GSPC','^DJI','ZN=F','ES=F','^RUT']\n",
    "\n",
    "startDate = '1900-01-01'\n",
    "endDate = '2024-11-15'\n",
    "\n",
    "close_df = get_yf_hist(symbol_list,startDate,endDate,interval='1d')"
   ]
  },
  {
   "cell_type": "code",
   "execution_count": 87,
   "id": "c7cda9b1",
   "metadata": {},
   "outputs": [
    {
     "name": "stdout",
     "output_type": "stream",
     "text": [
      "<class 'pandas.core.frame.DataFrame'>\n",
      "DatetimeIndex: 24366 entries, 1927-12-30 00:00:00+00:00 to 2024-11-14 00:00:00+00:00\n",
      "Data columns (total 17 columns):\n",
      " #   Column          Non-Null Count  Dtype  \n",
      "---  ------          --------------  -----  \n",
      " 0   ^RUT            9370 non-null   float64\n",
      " 1   ES=F            6103 non-null   float64\n",
      " 2   ZN=F            6065 non-null   float64\n",
      " 3   ^DJI            8280 non-null   float64\n",
      " 4   ^GSPC           24336 non-null  float64\n",
      " 5   ^RUT_30_avg     8628 non-null   float64\n",
      " 6   ^RUT_30_ratio   8628 non-null   float64\n",
      " 7   ^RUT_60_avg     8156 non-null   float64\n",
      " 8   ^RUT_60_ratio   8156 non-null   float64\n",
      " 9   ^RUT_90_avg     7950 non-null   float64\n",
      " 10  ^RUT_90_ratio   7950 non-null   float64\n",
      " 11  ^RUT_120_avg    7813 non-null   float64\n",
      " 12  ^RUT_120_ratio  7813 non-null   float64\n",
      " 13  ^RUT_252_avg    7290 non-null   float64\n",
      " 14  ^RUT_252_ratio  7290 non-null   float64\n",
      " 15  ^RUT_365_avg    7063 non-null   float64\n",
      " 16  ^RUT_365_ratio  7063 non-null   float64\n",
      "dtypes: float64(17)\n",
      "memory usage: 3.3 MB\n",
      "None\n"
     ]
    },
    {
     "data": {
      "text/html": [
       "<div>\n",
       "<style scoped>\n",
       "    .dataframe tbody tr th:only-of-type {\n",
       "        vertical-align: middle;\n",
       "    }\n",
       "\n",
       "    .dataframe tbody tr th {\n",
       "        vertical-align: top;\n",
       "    }\n",
       "\n",
       "    .dataframe thead th {\n",
       "        text-align: right;\n",
       "    }\n",
       "</style>\n",
       "<table border=\"1\" class=\"dataframe\">\n",
       "  <thead>\n",
       "    <tr style=\"text-align: right;\">\n",
       "      <th>Ticker</th>\n",
       "      <th>^RUT</th>\n",
       "      <th>ES=F</th>\n",
       "      <th>ZN=F</th>\n",
       "      <th>^DJI</th>\n",
       "      <th>^GSPC</th>\n",
       "      <th>^RUT_30_avg</th>\n",
       "      <th>^RUT_30_ratio</th>\n",
       "      <th>^RUT_60_avg</th>\n",
       "      <th>^RUT_60_ratio</th>\n",
       "      <th>^RUT_90_avg</th>\n",
       "      <th>^RUT_90_ratio</th>\n",
       "      <th>^RUT_120_avg</th>\n",
       "      <th>^RUT_120_ratio</th>\n",
       "      <th>^RUT_252_avg</th>\n",
       "      <th>^RUT_252_ratio</th>\n",
       "      <th>^RUT_365_avg</th>\n",
       "      <th>^RUT_365_ratio</th>\n",
       "    </tr>\n",
       "    <tr>\n",
       "      <th>Date</th>\n",
       "      <th></th>\n",
       "      <th></th>\n",
       "      <th></th>\n",
       "      <th></th>\n",
       "      <th></th>\n",
       "      <th></th>\n",
       "      <th></th>\n",
       "      <th></th>\n",
       "      <th></th>\n",
       "      <th></th>\n",
       "      <th></th>\n",
       "      <th></th>\n",
       "      <th></th>\n",
       "      <th></th>\n",
       "      <th></th>\n",
       "      <th></th>\n",
       "      <th></th>\n",
       "    </tr>\n",
       "  </thead>\n",
       "  <tbody>\n",
       "    <tr>\n",
       "      <th>2024-11-08 00:00:00+00:00</th>\n",
       "      <td>2399.639893</td>\n",
       "      <td>6025.25</td>\n",
       "      <td>110.281250</td>\n",
       "      <td>43988.988281</td>\n",
       "      <td>5995.540039</td>\n",
       "      <td>2241.920662</td>\n",
       "      <td>1.070350</td>\n",
       "      <td>2209.424154</td>\n",
       "      <td>1.086093</td>\n",
       "      <td>2187.890103</td>\n",
       "      <td>1.096783</td>\n",
       "      <td>2151.451410</td>\n",
       "      <td>1.115359</td>\n",
       "      <td>NaN</td>\n",
       "      <td>NaN</td>\n",
       "      <td>NaN</td>\n",
       "      <td>NaN</td>\n",
       "    </tr>\n",
       "    <tr>\n",
       "      <th>2024-11-11 00:00:00+00:00</th>\n",
       "      <td>2434.979980</td>\n",
       "      <td>6031.75</td>\n",
       "      <td>109.906250</td>\n",
       "      <td>44293.128906</td>\n",
       "      <td>6001.350098</td>\n",
       "      <td>2248.754329</td>\n",
       "      <td>1.082813</td>\n",
       "      <td>2214.308488</td>\n",
       "      <td>1.099657</td>\n",
       "      <td>2192.426214</td>\n",
       "      <td>1.110633</td>\n",
       "      <td>2154.256576</td>\n",
       "      <td>1.130311</td>\n",
       "      <td>NaN</td>\n",
       "      <td>NaN</td>\n",
       "      <td>NaN</td>\n",
       "      <td>NaN</td>\n",
       "    </tr>\n",
       "    <tr>\n",
       "      <th>2024-11-12 00:00:00+00:00</th>\n",
       "      <td>2391.850098</td>\n",
       "      <td>6013.00</td>\n",
       "      <td>109.421875</td>\n",
       "      <td>43910.980469</td>\n",
       "      <td>5983.990234</td>\n",
       "      <td>2255.248332</td>\n",
       "      <td>1.060571</td>\n",
       "      <td>2218.047656</td>\n",
       "      <td>1.078358</td>\n",
       "      <td>2196.350437</td>\n",
       "      <td>1.089011</td>\n",
       "      <td>2156.841077</td>\n",
       "      <td>1.108960</td>\n",
       "      <td>NaN</td>\n",
       "      <td>NaN</td>\n",
       "      <td>NaN</td>\n",
       "      <td>NaN</td>\n",
       "    </tr>\n",
       "    <tr>\n",
       "      <th>2024-11-13 00:00:00+00:00</th>\n",
       "      <td>2369.370117</td>\n",
       "      <td>6016.00</td>\n",
       "      <td>109.421875</td>\n",
       "      <td>43958.191406</td>\n",
       "      <td>5985.379883</td>\n",
       "      <td>2261.060335</td>\n",
       "      <td>1.047902</td>\n",
       "      <td>2221.833993</td>\n",
       "      <td>1.066403</td>\n",
       "      <td>2200.127105</td>\n",
       "      <td>1.076924</td>\n",
       "      <td>2159.515745</td>\n",
       "      <td>1.097177</td>\n",
       "      <td>NaN</td>\n",
       "      <td>NaN</td>\n",
       "      <td>NaN</td>\n",
       "      <td>NaN</td>\n",
       "    </tr>\n",
       "    <tr>\n",
       "      <th>2024-11-14 00:00:00+00:00</th>\n",
       "      <td>2336.939941</td>\n",
       "      <td>5978.25</td>\n",
       "      <td>109.546875</td>\n",
       "      <td>43750.859375</td>\n",
       "      <td>5949.169922</td>\n",
       "      <td>2266.286670</td>\n",
       "      <td>1.031176</td>\n",
       "      <td>2224.606991</td>\n",
       "      <td>1.050496</td>\n",
       "      <td>2203.295882</td>\n",
       "      <td>1.060656</td>\n",
       "      <td>2161.742995</td>\n",
       "      <td>1.081044</td>\n",
       "      <td>NaN</td>\n",
       "      <td>NaN</td>\n",
       "      <td>NaN</td>\n",
       "      <td>NaN</td>\n",
       "    </tr>\n",
       "  </tbody>\n",
       "</table>\n",
       "</div>"
      ],
      "text/plain": [
       "Ticker                            ^RUT     ES=F        ZN=F          ^DJI  \\\n",
       "Date                                                                        \n",
       "2024-11-08 00:00:00+00:00  2399.639893  6025.25  110.281250  43988.988281   \n",
       "2024-11-11 00:00:00+00:00  2434.979980  6031.75  109.906250  44293.128906   \n",
       "2024-11-12 00:00:00+00:00  2391.850098  6013.00  109.421875  43910.980469   \n",
       "2024-11-13 00:00:00+00:00  2369.370117  6016.00  109.421875  43958.191406   \n",
       "2024-11-14 00:00:00+00:00  2336.939941  5978.25  109.546875  43750.859375   \n",
       "\n",
       "Ticker                           ^GSPC  ^RUT_30_avg  ^RUT_30_ratio  \\\n",
       "Date                                                                 \n",
       "2024-11-08 00:00:00+00:00  5995.540039  2241.920662       1.070350   \n",
       "2024-11-11 00:00:00+00:00  6001.350098  2248.754329       1.082813   \n",
       "2024-11-12 00:00:00+00:00  5983.990234  2255.248332       1.060571   \n",
       "2024-11-13 00:00:00+00:00  5985.379883  2261.060335       1.047902   \n",
       "2024-11-14 00:00:00+00:00  5949.169922  2266.286670       1.031176   \n",
       "\n",
       "Ticker                     ^RUT_60_avg  ^RUT_60_ratio  ^RUT_90_avg  \\\n",
       "Date                                                                 \n",
       "2024-11-08 00:00:00+00:00  2209.424154       1.086093  2187.890103   \n",
       "2024-11-11 00:00:00+00:00  2214.308488       1.099657  2192.426214   \n",
       "2024-11-12 00:00:00+00:00  2218.047656       1.078358  2196.350437   \n",
       "2024-11-13 00:00:00+00:00  2221.833993       1.066403  2200.127105   \n",
       "2024-11-14 00:00:00+00:00  2224.606991       1.050496  2203.295882   \n",
       "\n",
       "Ticker                     ^RUT_90_ratio  ^RUT_120_avg  ^RUT_120_ratio  \\\n",
       "Date                                                                     \n",
       "2024-11-08 00:00:00+00:00       1.096783   2151.451410        1.115359   \n",
       "2024-11-11 00:00:00+00:00       1.110633   2154.256576        1.130311   \n",
       "2024-11-12 00:00:00+00:00       1.089011   2156.841077        1.108960   \n",
       "2024-11-13 00:00:00+00:00       1.076924   2159.515745        1.097177   \n",
       "2024-11-14 00:00:00+00:00       1.060656   2161.742995        1.081044   \n",
       "\n",
       "Ticker                     ^RUT_252_avg  ^RUT_252_ratio  ^RUT_365_avg  \\\n",
       "Date                                                                    \n",
       "2024-11-08 00:00:00+00:00           NaN             NaN           NaN   \n",
       "2024-11-11 00:00:00+00:00           NaN             NaN           NaN   \n",
       "2024-11-12 00:00:00+00:00           NaN             NaN           NaN   \n",
       "2024-11-13 00:00:00+00:00           NaN             NaN           NaN   \n",
       "2024-11-14 00:00:00+00:00           NaN             NaN           NaN   \n",
       "\n",
       "Ticker                     ^RUT_365_ratio  \n",
       "Date                                       \n",
       "2024-11-08 00:00:00+00:00             NaN  \n",
       "2024-11-11 00:00:00+00:00             NaN  \n",
       "2024-11-12 00:00:00+00:00             NaN  \n",
       "2024-11-13 00:00:00+00:00             NaN  \n",
       "2024-11-14 00:00:00+00:00             NaN  "
      ]
     },
     "execution_count": 87,
     "metadata": {},
     "output_type": "execute_result"
    }
   ],
   "source": [
    "close_df = close_df['Adj Close']\n",
    "\n",
    "target_col = '^RUT'\n",
    "\n",
    "def structure_data(symbol_list,close_df,target_col):\n",
    "    if len(symbol_list) > 1:\n",
    "        special_col = target_col\n",
    "        cols = [special_col] + [col for col in close_df.columns if col != special_col]\n",
    "        close_df = close_df[cols]\n",
    "        return close_df\n",
    "    else:\n",
    "        return close_df\n",
    "\n",
    "close_df = structure_data(symbol_list,close_df,target_col)\n",
    "\n",
    "period_list = [30,60,90,120,252,365]\n",
    "\n",
    "def add_predictors(col_name,df,period_list):\n",
    "    for period in period_list:\n",
    "        df[f\"{col_name}_{period}_avg\"] = df[col_name].rolling(period).mean()\n",
    "        df[f\"{col_name}_{period}_ratio\"] = (df[col_name] / df[f\"{col_name}_{period}_avg\"])\n",
    "    return df\n",
    "    \n",
    "close_df = add_predictors(col_name=target_col,period_list=period_list,df=close_df)\n",
    "\n",
    "#close_df.head()\n",
    "print(close_df.info())\n",
    "close_df.tail()"
   ]
  },
  {
   "cell_type": "code",
   "execution_count": 88,
   "id": "85c5a3eb",
   "metadata": {},
   "outputs": [
    {
     "data": {
      "application/vnd.plotly.v1+json": {
       "config": {
        "plotlyServerURL": "https://plot.ly"
       },
       "data": [
        {
         "colorscale": [
          [
           0,
           "#440154"
          ],
          [
           0.1111111111111111,
           "#482878"
          ],
          [
           0.2222222222222222,
           "#3e4989"
          ],
          [
           0.3333333333333333,
           "#31688e"
          ],
          [
           0.4444444444444444,
           "#26828e"
          ],
          [
           0.5555555555555556,
           "#1f9e89"
          ],
          [
           0.6666666666666666,
           "#35b779"
          ],
          [
           0.7777777777777778,
           "#6ece58"
          ],
          [
           0.8888888888888888,
           "#b5de2b"
          ],
          [
           1,
           "#fde725"
          ]
         ],
         "reversescale": false,
         "showscale": true,
         "type": "heatmap",
         "x": [
          "^RUT",
          "ES=F",
          "ZN=F",
          "^DJI",
          "^GSPC",
          "^RUT_30_avg",
          "^RUT_30_ratio",
          "^RUT_60_avg",
          "^RUT_60_ratio",
          "^RUT_90_avg",
          "^RUT_90_ratio",
          "^RUT_120_avg",
          "^RUT_120_ratio",
          "^RUT_252_avg",
          "^RUT_252_ratio",
          "^RUT_365_avg",
          "^RUT_365_ratio"
         ],
         "y": [
          "^RUT",
          "ES=F",
          "ZN=F",
          "^DJI",
          "^GSPC",
          "^RUT_30_avg",
          "^RUT_30_ratio",
          "^RUT_60_avg",
          "^RUT_60_ratio",
          "^RUT_90_avg",
          "^RUT_90_ratio",
          "^RUT_120_avg",
          "^RUT_120_ratio",
          "^RUT_252_avg",
          "^RUT_252_ratio",
          "^RUT_365_avg",
          "^RUT_365_ratio"
         ],
         "z": [
          [
           1,
           0.9576222770914766,
           0.3664207385219132,
           0.9802979536772571,
           0.9680063840032542,
           0.9977768832519955,
           0.02293629464169464,
           0.9956870402755137,
           0.022641471182255377,
           0.9937104115329618,
           0.022077233329551915,
           0.9917828894299812,
           0.02623151569862008,
           0.981372232442972,
           0.04710891722564897,
           0.9748058053609857,
           0.046393141596572714
          ],
          [
           0.9576222770914766,
           1,
           0.20043559473738903,
           0.9932032681100207,
           0.9999723206445166,
           0.9545606342515794,
           0.01615169456777262,
           0.9533287427874217,
           0.05009422461525888,
           0.9538575493022713,
           0.06401415321675052,
           0.9541895337595957,
           0.07271887963108827,
           0.9637805664431208,
           0.09764778697801355,
           0.9595988534769074,
           0.10437829941342035
          ],
          [
           0.3664207385219132,
           0.20043559473738903,
           1,
           0.25353235913216965,
           0.20505379757623624,
           0.30066619449453846,
           0.05749988149156104,
           0.2369949720323201,
           0.1015380694093423,
           0.2107738749371851,
           0.1231376236268121,
           0.20551908178635164,
           0.1287475336907063,
           0.19353577295557534,
           0.2181610569253035,
           0.1503126510266997,
           0.24055564323185935
          ],
          [
           0.9802979536772571,
           0.9932032681100207,
           0.25353235913216965,
           1,
           0.9927361502778989,
           0.9799118433404665,
           -0.006253096621075818,
           0.9801145717476294,
           -0.0025805351211825225,
           0.9803713976986798,
           -0.007404153168532828,
           0.9802594162672268,
           -0.009947450240188824,
           0.9809364016126315,
           -0.03417471023713917,
           0.9797646089756757,
           -0.06087097096385368
          ],
          [
           0.9680063840032542,
           0.9999723206445166,
           0.20505379757623624,
           0.9927361502778989,
           1,
           0.9673010077440439,
           0.006114282506504908,
           0.9672048769910652,
           -0.004234650127591595,
           0.9675620061041859,
           -0.013879201975814826,
           0.9677260542379443,
           -0.015196900966738074,
           0.9732886017729674,
           -0.02364152956735682,
           0.9709220495121812,
           -0.031900551839579815
          ],
          [
           0.9977768832519955,
           0.9545606342515794,
           0.30066619449453846,
           0.9799118433404665,
           0.9673010077440439,
           1,
           -0.031013248656435583,
           0.9989109937939755,
           -0.024503654231411993,
           0.9972021932397115,
           -0.018826695769047476,
           0.9954154568730258,
           -0.010553762255899348,
           0.9855825332219862,
           0.018429146220183684,
           0.9786580831534726,
           0.02234384491504597
          ],
          [
           0.02293629464169464,
           0.01615169456777262,
           0.05749988149156104,
           -0.006253096621075818,
           0.006114282506504908,
           -0.031013248656435583,
           1,
           -0.05153614489472905,
           0.8693322679203257,
           -0.0532626462193251,
           0.7464300113854285,
           -0.05067282012063145,
           0.6637479104597767,
           -0.05865195136395691,
           0.46588920677695356,
           -0.054997800515565,
           0.3916769996795148
          ],
          [
           0.9956870402755137,
           0.9533287427874217,
           0.2369949720323201,
           0.9801145717476294,
           0.9672048769910652,
           0.9989109937939755,
           -0.05153614489472905,
           1,
           -0.052962502709237365,
           0.9993061161720553,
           -0.049787964786023854,
           0.9979873221725442,
           -0.04065381728150579,
           0.9893207207556598,
           -0.008332901937787953,
           0.9822275698281727,
           -0.0004967260316140965
          ],
          [
           0.022641471182255377,
           0.05009422461525888,
           0.1015380694093423,
           -0.0025805351211825225,
           -0.004234650127591595,
           -0.024503654231411993,
           0.8693322679203257,
           -0.052962502709237365,
           1,
           -0.0696484906034982,
           0.9425741213585012,
           -0.06968064929885374,
           0.8693645634188747,
           -0.08018212060909535,
           0.6431721406765636,
           -0.07910096772227923,
           0.5459338778505813
          ],
          [
           0.9937104115329618,
           0.9538575493022713,
           0.2107738749371851,
           0.9803713976986798,
           0.9675620061041859,
           0.9972021932397115,
           -0.0532626462193251,
           0.9993061161720553,
           -0.0696484906034982,
           1,
           -0.06886269366706332,
           0.9994976294625116,
           -0.06271010103512935,
           0.9924325857543407,
           -0.031477515648924675,
           0.9853909370362888,
           -0.020768769071610918
          ],
          [
           0.022077233329551915,
           0.06401415321675052,
           0.1231376236268121,
           -0.007404153168532828,
           -0.013879201975814826,
           -0.018826695769047476,
           0.7464300113854285,
           -0.049787964786023854,
           0.9425741213585012,
           -0.06886269366706332,
           1,
           -0.07885078580074169,
           0.9699447436493106,
           -0.09364175358572076,
           0.7649212178355633,
           -0.09567355103202646,
           0.6558592679896402
          ],
          [
           0.9917828894299812,
           0.9541895337595957,
           0.20551908178635164,
           0.9802594162672268,
           0.9677260542379443,
           0.9954154568730258,
           -0.05067282012063145,
           0.9979873221725442,
           -0.06968064929885374,
           0.9994976294625116,
           -0.07885078580074169,
           1,
           -0.07764556089535413,
           0.9949677902364092,
           -0.051564734595938584,
           0.9882424736688779,
           -0.03926941927771791
          ],
          [
           0.02623151569862008,
           0.07271887963108827,
           0.1287475336907063,
           -0.009947450240188824,
           -0.015196900966738074,
           -0.010553762255899348,
           0.6637479104597767,
           -0.04065381728150579,
           0.8693645634188747,
           -0.06271010103512935,
           0.9699447436493106,
           -0.07764556089535413,
           1,
           -0.10170032206623257,
           0.8494731984521391,
           -0.10650711670869374,
           0.737117447548022
          ],
          [
           0.981372232442972,
           0.9637805664431208,
           0.19353577295557534,
           0.9809364016126315,
           0.9732886017729674,
           0.9855825332219862,
           -0.05865195136395691,
           0.9893207207556598,
           -0.08018212060909535,
           0.9924325857543407,
           -0.09364175358572076,
           0.9949677902364092,
           -0.10170032206623257,
           1,
           -0.1134991741438246,
           0.9974561087706042,
           -0.10778003639003211
          ],
          [
           0.04710891722564897,
           0.09764778697801355,
           0.2181610569253035,
           -0.03417471023713917,
           -0.02364152956735682,
           0.018429146220183684,
           0.46588920677695356,
           -0.008332901937787953,
           0.6431721406765636,
           -0.031477515648924675,
           0.7649212178355633,
           -0.051564734595938584,
           0.8494731984521391,
           -0.1134991741438246,
           1,
           -0.1305728752331708,
           0.9507224317626713
          ],
          [
           0.9748058053609857,
           0.9595988534769074,
           0.1503126510266997,
           0.9797646089756757,
           0.9709220495121812,
           0.9786580831534726,
           -0.054997800515565,
           0.9822275698281727,
           -0.07910096772227923,
           0.9853909370362888,
           -0.09567355103202646,
           0.9882424736688779,
           -0.10650711670869374,
           0.9974561087706042,
           -0.1305728752331708,
           1,
           -0.1401160110037742
          ],
          [
           0.046393141596572714,
           0.10437829941342035,
           0.24055564323185935,
           -0.06087097096385368,
           -0.031900551839579815,
           0.02234384491504597,
           0.3916769996795148,
           -0.0004967260316140965,
           0.5459338778505813,
           -0.020768769071610918,
           0.6558592679896402,
           -0.03926941927771791,
           0.737117447548022,
           -0.10778003639003211,
           0.9507224317626713,
           -0.1401160110037742,
           1
          ]
         ]
        }
       ],
       "layout": {
        "annotations": [
         {
          "font": {
           "color": "#000000"
          },
          "showarrow": false,
          "text": "1.0",
          "x": "^RUT",
          "xref": "x",
          "y": "^RUT",
          "yref": "y"
         },
         {
          "font": {
           "color": "#000000"
          },
          "showarrow": false,
          "text": "0.9576222770914766",
          "x": "ES=F",
          "xref": "x",
          "y": "^RUT",
          "yref": "y"
         },
         {
          "font": {
           "color": "#FFFFFF"
          },
          "showarrow": false,
          "text": "0.3664207385219132",
          "x": "ZN=F",
          "xref": "x",
          "y": "^RUT",
          "yref": "y"
         },
         {
          "font": {
           "color": "#000000"
          },
          "showarrow": false,
          "text": "0.9802979536772571",
          "x": "^DJI",
          "xref": "x",
          "y": "^RUT",
          "yref": "y"
         },
         {
          "font": {
           "color": "#000000"
          },
          "showarrow": false,
          "text": "0.9680063840032542",
          "x": "^GSPC",
          "xref": "x",
          "y": "^RUT",
          "yref": "y"
         },
         {
          "font": {
           "color": "#000000"
          },
          "showarrow": false,
          "text": "0.9977768832519955",
          "x": "^RUT_30_avg",
          "xref": "x",
          "y": "^RUT",
          "yref": "y"
         },
         {
          "font": {
           "color": "#FFFFFF"
          },
          "showarrow": false,
          "text": "0.02293629464169464",
          "x": "^RUT_30_ratio",
          "xref": "x",
          "y": "^RUT",
          "yref": "y"
         },
         {
          "font": {
           "color": "#000000"
          },
          "showarrow": false,
          "text": "0.9956870402755137",
          "x": "^RUT_60_avg",
          "xref": "x",
          "y": "^RUT",
          "yref": "y"
         },
         {
          "font": {
           "color": "#FFFFFF"
          },
          "showarrow": false,
          "text": "0.022641471182255377",
          "x": "^RUT_60_ratio",
          "xref": "x",
          "y": "^RUT",
          "yref": "y"
         },
         {
          "font": {
           "color": "#000000"
          },
          "showarrow": false,
          "text": "0.9937104115329618",
          "x": "^RUT_90_avg",
          "xref": "x",
          "y": "^RUT",
          "yref": "y"
         },
         {
          "font": {
           "color": "#FFFFFF"
          },
          "showarrow": false,
          "text": "0.022077233329551915",
          "x": "^RUT_90_ratio",
          "xref": "x",
          "y": "^RUT",
          "yref": "y"
         },
         {
          "font": {
           "color": "#000000"
          },
          "showarrow": false,
          "text": "0.9917828894299812",
          "x": "^RUT_120_avg",
          "xref": "x",
          "y": "^RUT",
          "yref": "y"
         },
         {
          "font": {
           "color": "#FFFFFF"
          },
          "showarrow": false,
          "text": "0.02623151569862008",
          "x": "^RUT_120_ratio",
          "xref": "x",
          "y": "^RUT",
          "yref": "y"
         },
         {
          "font": {
           "color": "#000000"
          },
          "showarrow": false,
          "text": "0.981372232442972",
          "x": "^RUT_252_avg",
          "xref": "x",
          "y": "^RUT",
          "yref": "y"
         },
         {
          "font": {
           "color": "#FFFFFF"
          },
          "showarrow": false,
          "text": "0.04710891722564897",
          "x": "^RUT_252_ratio",
          "xref": "x",
          "y": "^RUT",
          "yref": "y"
         },
         {
          "font": {
           "color": "#000000"
          },
          "showarrow": false,
          "text": "0.9748058053609857",
          "x": "^RUT_365_avg",
          "xref": "x",
          "y": "^RUT",
          "yref": "y"
         },
         {
          "font": {
           "color": "#FFFFFF"
          },
          "showarrow": false,
          "text": "0.046393141596572714",
          "x": "^RUT_365_ratio",
          "xref": "x",
          "y": "^RUT",
          "yref": "y"
         },
         {
          "font": {
           "color": "#000000"
          },
          "showarrow": false,
          "text": "0.9576222770914766",
          "x": "^RUT",
          "xref": "x",
          "y": "ES=F",
          "yref": "y"
         },
         {
          "font": {
           "color": "#000000"
          },
          "showarrow": false,
          "text": "1.0",
          "x": "ES=F",
          "xref": "x",
          "y": "ES=F",
          "yref": "y"
         },
         {
          "font": {
           "color": "#FFFFFF"
          },
          "showarrow": false,
          "text": "0.20043559473738903",
          "x": "ZN=F",
          "xref": "x",
          "y": "ES=F",
          "yref": "y"
         },
         {
          "font": {
           "color": "#000000"
          },
          "showarrow": false,
          "text": "0.9932032681100207",
          "x": "^DJI",
          "xref": "x",
          "y": "ES=F",
          "yref": "y"
         },
         {
          "font": {
           "color": "#000000"
          },
          "showarrow": false,
          "text": "0.9999723206445166",
          "x": "^GSPC",
          "xref": "x",
          "y": "ES=F",
          "yref": "y"
         },
         {
          "font": {
           "color": "#000000"
          },
          "showarrow": false,
          "text": "0.9545606342515794",
          "x": "^RUT_30_avg",
          "xref": "x",
          "y": "ES=F",
          "yref": "y"
         },
         {
          "font": {
           "color": "#FFFFFF"
          },
          "showarrow": false,
          "text": "0.01615169456777262",
          "x": "^RUT_30_ratio",
          "xref": "x",
          "y": "ES=F",
          "yref": "y"
         },
         {
          "font": {
           "color": "#000000"
          },
          "showarrow": false,
          "text": "0.9533287427874217",
          "x": "^RUT_60_avg",
          "xref": "x",
          "y": "ES=F",
          "yref": "y"
         },
         {
          "font": {
           "color": "#FFFFFF"
          },
          "showarrow": false,
          "text": "0.05009422461525888",
          "x": "^RUT_60_ratio",
          "xref": "x",
          "y": "ES=F",
          "yref": "y"
         },
         {
          "font": {
           "color": "#000000"
          },
          "showarrow": false,
          "text": "0.9538575493022713",
          "x": "^RUT_90_avg",
          "xref": "x",
          "y": "ES=F",
          "yref": "y"
         },
         {
          "font": {
           "color": "#FFFFFF"
          },
          "showarrow": false,
          "text": "0.06401415321675052",
          "x": "^RUT_90_ratio",
          "xref": "x",
          "y": "ES=F",
          "yref": "y"
         },
         {
          "font": {
           "color": "#000000"
          },
          "showarrow": false,
          "text": "0.9541895337595957",
          "x": "^RUT_120_avg",
          "xref": "x",
          "y": "ES=F",
          "yref": "y"
         },
         {
          "font": {
           "color": "#FFFFFF"
          },
          "showarrow": false,
          "text": "0.07271887963108827",
          "x": "^RUT_120_ratio",
          "xref": "x",
          "y": "ES=F",
          "yref": "y"
         },
         {
          "font": {
           "color": "#000000"
          },
          "showarrow": false,
          "text": "0.9637805664431208",
          "x": "^RUT_252_avg",
          "xref": "x",
          "y": "ES=F",
          "yref": "y"
         },
         {
          "font": {
           "color": "#FFFFFF"
          },
          "showarrow": false,
          "text": "0.09764778697801355",
          "x": "^RUT_252_ratio",
          "xref": "x",
          "y": "ES=F",
          "yref": "y"
         },
         {
          "font": {
           "color": "#000000"
          },
          "showarrow": false,
          "text": "0.9595988534769074",
          "x": "^RUT_365_avg",
          "xref": "x",
          "y": "ES=F",
          "yref": "y"
         },
         {
          "font": {
           "color": "#FFFFFF"
          },
          "showarrow": false,
          "text": "0.10437829941342035",
          "x": "^RUT_365_ratio",
          "xref": "x",
          "y": "ES=F",
          "yref": "y"
         },
         {
          "font": {
           "color": "#FFFFFF"
          },
          "showarrow": false,
          "text": "0.3664207385219132",
          "x": "^RUT",
          "xref": "x",
          "y": "ZN=F",
          "yref": "y"
         },
         {
          "font": {
           "color": "#FFFFFF"
          },
          "showarrow": false,
          "text": "0.20043559473738903",
          "x": "ES=F",
          "xref": "x",
          "y": "ZN=F",
          "yref": "y"
         },
         {
          "font": {
           "color": "#000000"
          },
          "showarrow": false,
          "text": "1.0",
          "x": "ZN=F",
          "xref": "x",
          "y": "ZN=F",
          "yref": "y"
         },
         {
          "font": {
           "color": "#FFFFFF"
          },
          "showarrow": false,
          "text": "0.25353235913216965",
          "x": "^DJI",
          "xref": "x",
          "y": "ZN=F",
          "yref": "y"
         },
         {
          "font": {
           "color": "#FFFFFF"
          },
          "showarrow": false,
          "text": "0.20505379757623624",
          "x": "^GSPC",
          "xref": "x",
          "y": "ZN=F",
          "yref": "y"
         },
         {
          "font": {
           "color": "#FFFFFF"
          },
          "showarrow": false,
          "text": "0.30066619449453846",
          "x": "^RUT_30_avg",
          "xref": "x",
          "y": "ZN=F",
          "yref": "y"
         },
         {
          "font": {
           "color": "#FFFFFF"
          },
          "showarrow": false,
          "text": "0.05749988149156104",
          "x": "^RUT_30_ratio",
          "xref": "x",
          "y": "ZN=F",
          "yref": "y"
         },
         {
          "font": {
           "color": "#FFFFFF"
          },
          "showarrow": false,
          "text": "0.2369949720323201",
          "x": "^RUT_60_avg",
          "xref": "x",
          "y": "ZN=F",
          "yref": "y"
         },
         {
          "font": {
           "color": "#FFFFFF"
          },
          "showarrow": false,
          "text": "0.1015380694093423",
          "x": "^RUT_60_ratio",
          "xref": "x",
          "y": "ZN=F",
          "yref": "y"
         },
         {
          "font": {
           "color": "#FFFFFF"
          },
          "showarrow": false,
          "text": "0.2107738749371851",
          "x": "^RUT_90_avg",
          "xref": "x",
          "y": "ZN=F",
          "yref": "y"
         },
         {
          "font": {
           "color": "#FFFFFF"
          },
          "showarrow": false,
          "text": "0.1231376236268121",
          "x": "^RUT_90_ratio",
          "xref": "x",
          "y": "ZN=F",
          "yref": "y"
         },
         {
          "font": {
           "color": "#FFFFFF"
          },
          "showarrow": false,
          "text": "0.20551908178635164",
          "x": "^RUT_120_avg",
          "xref": "x",
          "y": "ZN=F",
          "yref": "y"
         },
         {
          "font": {
           "color": "#FFFFFF"
          },
          "showarrow": false,
          "text": "0.1287475336907063",
          "x": "^RUT_120_ratio",
          "xref": "x",
          "y": "ZN=F",
          "yref": "y"
         },
         {
          "font": {
           "color": "#FFFFFF"
          },
          "showarrow": false,
          "text": "0.19353577295557534",
          "x": "^RUT_252_avg",
          "xref": "x",
          "y": "ZN=F",
          "yref": "y"
         },
         {
          "font": {
           "color": "#FFFFFF"
          },
          "showarrow": false,
          "text": "0.2181610569253035",
          "x": "^RUT_252_ratio",
          "xref": "x",
          "y": "ZN=F",
          "yref": "y"
         },
         {
          "font": {
           "color": "#FFFFFF"
          },
          "showarrow": false,
          "text": "0.1503126510266997",
          "x": "^RUT_365_avg",
          "xref": "x",
          "y": "ZN=F",
          "yref": "y"
         },
         {
          "font": {
           "color": "#FFFFFF"
          },
          "showarrow": false,
          "text": "0.24055564323185935",
          "x": "^RUT_365_ratio",
          "xref": "x",
          "y": "ZN=F",
          "yref": "y"
         },
         {
          "font": {
           "color": "#000000"
          },
          "showarrow": false,
          "text": "0.9802979536772571",
          "x": "^RUT",
          "xref": "x",
          "y": "^DJI",
          "yref": "y"
         },
         {
          "font": {
           "color": "#000000"
          },
          "showarrow": false,
          "text": "0.9932032681100207",
          "x": "ES=F",
          "xref": "x",
          "y": "^DJI",
          "yref": "y"
         },
         {
          "font": {
           "color": "#FFFFFF"
          },
          "showarrow": false,
          "text": "0.25353235913216965",
          "x": "ZN=F",
          "xref": "x",
          "y": "^DJI",
          "yref": "y"
         },
         {
          "font": {
           "color": "#000000"
          },
          "showarrow": false,
          "text": "1.0",
          "x": "^DJI",
          "xref": "x",
          "y": "^DJI",
          "yref": "y"
         },
         {
          "font": {
           "color": "#000000"
          },
          "showarrow": false,
          "text": "0.9927361502778989",
          "x": "^GSPC",
          "xref": "x",
          "y": "^DJI",
          "yref": "y"
         },
         {
          "font": {
           "color": "#000000"
          },
          "showarrow": false,
          "text": "0.9799118433404665",
          "x": "^RUT_30_avg",
          "xref": "x",
          "y": "^DJI",
          "yref": "y"
         },
         {
          "font": {
           "color": "#FFFFFF"
          },
          "showarrow": false,
          "text": "-0.006253096621075818",
          "x": "^RUT_30_ratio",
          "xref": "x",
          "y": "^DJI",
          "yref": "y"
         },
         {
          "font": {
           "color": "#000000"
          },
          "showarrow": false,
          "text": "0.9801145717476294",
          "x": "^RUT_60_avg",
          "xref": "x",
          "y": "^DJI",
          "yref": "y"
         },
         {
          "font": {
           "color": "#FFFFFF"
          },
          "showarrow": false,
          "text": "-0.0025805351211825225",
          "x": "^RUT_60_ratio",
          "xref": "x",
          "y": "^DJI",
          "yref": "y"
         },
         {
          "font": {
           "color": "#000000"
          },
          "showarrow": false,
          "text": "0.9803713976986798",
          "x": "^RUT_90_avg",
          "xref": "x",
          "y": "^DJI",
          "yref": "y"
         },
         {
          "font": {
           "color": "#FFFFFF"
          },
          "showarrow": false,
          "text": "-0.007404153168532828",
          "x": "^RUT_90_ratio",
          "xref": "x",
          "y": "^DJI",
          "yref": "y"
         },
         {
          "font": {
           "color": "#000000"
          },
          "showarrow": false,
          "text": "0.9802594162672268",
          "x": "^RUT_120_avg",
          "xref": "x",
          "y": "^DJI",
          "yref": "y"
         },
         {
          "font": {
           "color": "#FFFFFF"
          },
          "showarrow": false,
          "text": "-0.009947450240188824",
          "x": "^RUT_120_ratio",
          "xref": "x",
          "y": "^DJI",
          "yref": "y"
         },
         {
          "font": {
           "color": "#000000"
          },
          "showarrow": false,
          "text": "0.9809364016126315",
          "x": "^RUT_252_avg",
          "xref": "x",
          "y": "^DJI",
          "yref": "y"
         },
         {
          "font": {
           "color": "#FFFFFF"
          },
          "showarrow": false,
          "text": "-0.03417471023713917",
          "x": "^RUT_252_ratio",
          "xref": "x",
          "y": "^DJI",
          "yref": "y"
         },
         {
          "font": {
           "color": "#000000"
          },
          "showarrow": false,
          "text": "0.9797646089756757",
          "x": "^RUT_365_avg",
          "xref": "x",
          "y": "^DJI",
          "yref": "y"
         },
         {
          "font": {
           "color": "#FFFFFF"
          },
          "showarrow": false,
          "text": "-0.06087097096385368",
          "x": "^RUT_365_ratio",
          "xref": "x",
          "y": "^DJI",
          "yref": "y"
         },
         {
          "font": {
           "color": "#000000"
          },
          "showarrow": false,
          "text": "0.9680063840032542",
          "x": "^RUT",
          "xref": "x",
          "y": "^GSPC",
          "yref": "y"
         },
         {
          "font": {
           "color": "#000000"
          },
          "showarrow": false,
          "text": "0.9999723206445166",
          "x": "ES=F",
          "xref": "x",
          "y": "^GSPC",
          "yref": "y"
         },
         {
          "font": {
           "color": "#FFFFFF"
          },
          "showarrow": false,
          "text": "0.20505379757623624",
          "x": "ZN=F",
          "xref": "x",
          "y": "^GSPC",
          "yref": "y"
         },
         {
          "font": {
           "color": "#000000"
          },
          "showarrow": false,
          "text": "0.9927361502778989",
          "x": "^DJI",
          "xref": "x",
          "y": "^GSPC",
          "yref": "y"
         },
         {
          "font": {
           "color": "#000000"
          },
          "showarrow": false,
          "text": "1.0",
          "x": "^GSPC",
          "xref": "x",
          "y": "^GSPC",
          "yref": "y"
         },
         {
          "font": {
           "color": "#000000"
          },
          "showarrow": false,
          "text": "0.9673010077440439",
          "x": "^RUT_30_avg",
          "xref": "x",
          "y": "^GSPC",
          "yref": "y"
         },
         {
          "font": {
           "color": "#FFFFFF"
          },
          "showarrow": false,
          "text": "0.006114282506504908",
          "x": "^RUT_30_ratio",
          "xref": "x",
          "y": "^GSPC",
          "yref": "y"
         },
         {
          "font": {
           "color": "#000000"
          },
          "showarrow": false,
          "text": "0.9672048769910652",
          "x": "^RUT_60_avg",
          "xref": "x",
          "y": "^GSPC",
          "yref": "y"
         },
         {
          "font": {
           "color": "#FFFFFF"
          },
          "showarrow": false,
          "text": "-0.004234650127591595",
          "x": "^RUT_60_ratio",
          "xref": "x",
          "y": "^GSPC",
          "yref": "y"
         },
         {
          "font": {
           "color": "#000000"
          },
          "showarrow": false,
          "text": "0.9675620061041859",
          "x": "^RUT_90_avg",
          "xref": "x",
          "y": "^GSPC",
          "yref": "y"
         },
         {
          "font": {
           "color": "#FFFFFF"
          },
          "showarrow": false,
          "text": "-0.013879201975814826",
          "x": "^RUT_90_ratio",
          "xref": "x",
          "y": "^GSPC",
          "yref": "y"
         },
         {
          "font": {
           "color": "#000000"
          },
          "showarrow": false,
          "text": "0.9677260542379443",
          "x": "^RUT_120_avg",
          "xref": "x",
          "y": "^GSPC",
          "yref": "y"
         },
         {
          "font": {
           "color": "#FFFFFF"
          },
          "showarrow": false,
          "text": "-0.015196900966738074",
          "x": "^RUT_120_ratio",
          "xref": "x",
          "y": "^GSPC",
          "yref": "y"
         },
         {
          "font": {
           "color": "#000000"
          },
          "showarrow": false,
          "text": "0.9732886017729674",
          "x": "^RUT_252_avg",
          "xref": "x",
          "y": "^GSPC",
          "yref": "y"
         },
         {
          "font": {
           "color": "#FFFFFF"
          },
          "showarrow": false,
          "text": "-0.02364152956735682",
          "x": "^RUT_252_ratio",
          "xref": "x",
          "y": "^GSPC",
          "yref": "y"
         },
         {
          "font": {
           "color": "#000000"
          },
          "showarrow": false,
          "text": "0.9709220495121812",
          "x": "^RUT_365_avg",
          "xref": "x",
          "y": "^GSPC",
          "yref": "y"
         },
         {
          "font": {
           "color": "#FFFFFF"
          },
          "showarrow": false,
          "text": "-0.031900551839579815",
          "x": "^RUT_365_ratio",
          "xref": "x",
          "y": "^GSPC",
          "yref": "y"
         },
         {
          "font": {
           "color": "#000000"
          },
          "showarrow": false,
          "text": "0.9977768832519955",
          "x": "^RUT",
          "xref": "x",
          "y": "^RUT_30_avg",
          "yref": "y"
         },
         {
          "font": {
           "color": "#000000"
          },
          "showarrow": false,
          "text": "0.9545606342515794",
          "x": "ES=F",
          "xref": "x",
          "y": "^RUT_30_avg",
          "yref": "y"
         },
         {
          "font": {
           "color": "#FFFFFF"
          },
          "showarrow": false,
          "text": "0.30066619449453846",
          "x": "ZN=F",
          "xref": "x",
          "y": "^RUT_30_avg",
          "yref": "y"
         },
         {
          "font": {
           "color": "#000000"
          },
          "showarrow": false,
          "text": "0.9799118433404665",
          "x": "^DJI",
          "xref": "x",
          "y": "^RUT_30_avg",
          "yref": "y"
         },
         {
          "font": {
           "color": "#000000"
          },
          "showarrow": false,
          "text": "0.9673010077440439",
          "x": "^GSPC",
          "xref": "x",
          "y": "^RUT_30_avg",
          "yref": "y"
         },
         {
          "font": {
           "color": "#000000"
          },
          "showarrow": false,
          "text": "1.0",
          "x": "^RUT_30_avg",
          "xref": "x",
          "y": "^RUT_30_avg",
          "yref": "y"
         },
         {
          "font": {
           "color": "#FFFFFF"
          },
          "showarrow": false,
          "text": "-0.031013248656435583",
          "x": "^RUT_30_ratio",
          "xref": "x",
          "y": "^RUT_30_avg",
          "yref": "y"
         },
         {
          "font": {
           "color": "#000000"
          },
          "showarrow": false,
          "text": "0.9989109937939755",
          "x": "^RUT_60_avg",
          "xref": "x",
          "y": "^RUT_30_avg",
          "yref": "y"
         },
         {
          "font": {
           "color": "#FFFFFF"
          },
          "showarrow": false,
          "text": "-0.024503654231411993",
          "x": "^RUT_60_ratio",
          "xref": "x",
          "y": "^RUT_30_avg",
          "yref": "y"
         },
         {
          "font": {
           "color": "#000000"
          },
          "showarrow": false,
          "text": "0.9972021932397115",
          "x": "^RUT_90_avg",
          "xref": "x",
          "y": "^RUT_30_avg",
          "yref": "y"
         },
         {
          "font": {
           "color": "#FFFFFF"
          },
          "showarrow": false,
          "text": "-0.018826695769047476",
          "x": "^RUT_90_ratio",
          "xref": "x",
          "y": "^RUT_30_avg",
          "yref": "y"
         },
         {
          "font": {
           "color": "#000000"
          },
          "showarrow": false,
          "text": "0.9954154568730258",
          "x": "^RUT_120_avg",
          "xref": "x",
          "y": "^RUT_30_avg",
          "yref": "y"
         },
         {
          "font": {
           "color": "#FFFFFF"
          },
          "showarrow": false,
          "text": "-0.010553762255899348",
          "x": "^RUT_120_ratio",
          "xref": "x",
          "y": "^RUT_30_avg",
          "yref": "y"
         },
         {
          "font": {
           "color": "#000000"
          },
          "showarrow": false,
          "text": "0.9855825332219862",
          "x": "^RUT_252_avg",
          "xref": "x",
          "y": "^RUT_30_avg",
          "yref": "y"
         },
         {
          "font": {
           "color": "#FFFFFF"
          },
          "showarrow": false,
          "text": "0.018429146220183684",
          "x": "^RUT_252_ratio",
          "xref": "x",
          "y": "^RUT_30_avg",
          "yref": "y"
         },
         {
          "font": {
           "color": "#000000"
          },
          "showarrow": false,
          "text": "0.9786580831534726",
          "x": "^RUT_365_avg",
          "xref": "x",
          "y": "^RUT_30_avg",
          "yref": "y"
         },
         {
          "font": {
           "color": "#FFFFFF"
          },
          "showarrow": false,
          "text": "0.02234384491504597",
          "x": "^RUT_365_ratio",
          "xref": "x",
          "y": "^RUT_30_avg",
          "yref": "y"
         },
         {
          "font": {
           "color": "#FFFFFF"
          },
          "showarrow": false,
          "text": "0.02293629464169464",
          "x": "^RUT",
          "xref": "x",
          "y": "^RUT_30_ratio",
          "yref": "y"
         },
         {
          "font": {
           "color": "#FFFFFF"
          },
          "showarrow": false,
          "text": "0.01615169456777262",
          "x": "ES=F",
          "xref": "x",
          "y": "^RUT_30_ratio",
          "yref": "y"
         },
         {
          "font": {
           "color": "#FFFFFF"
          },
          "showarrow": false,
          "text": "0.05749988149156104",
          "x": "ZN=F",
          "xref": "x",
          "y": "^RUT_30_ratio",
          "yref": "y"
         },
         {
          "font": {
           "color": "#FFFFFF"
          },
          "showarrow": false,
          "text": "-0.006253096621075818",
          "x": "^DJI",
          "xref": "x",
          "y": "^RUT_30_ratio",
          "yref": "y"
         },
         {
          "font": {
           "color": "#FFFFFF"
          },
          "showarrow": false,
          "text": "0.006114282506504908",
          "x": "^GSPC",
          "xref": "x",
          "y": "^RUT_30_ratio",
          "yref": "y"
         },
         {
          "font": {
           "color": "#FFFFFF"
          },
          "showarrow": false,
          "text": "-0.031013248656435583",
          "x": "^RUT_30_avg",
          "xref": "x",
          "y": "^RUT_30_ratio",
          "yref": "y"
         },
         {
          "font": {
           "color": "#000000"
          },
          "showarrow": false,
          "text": "1.0",
          "x": "^RUT_30_ratio",
          "xref": "x",
          "y": "^RUT_30_ratio",
          "yref": "y"
         },
         {
          "font": {
           "color": "#FFFFFF"
          },
          "showarrow": false,
          "text": "-0.05153614489472905",
          "x": "^RUT_60_avg",
          "xref": "x",
          "y": "^RUT_30_ratio",
          "yref": "y"
         },
         {
          "font": {
           "color": "#000000"
          },
          "showarrow": false,
          "text": "0.8693322679203257",
          "x": "^RUT_60_ratio",
          "xref": "x",
          "y": "^RUT_30_ratio",
          "yref": "y"
         },
         {
          "font": {
           "color": "#FFFFFF"
          },
          "showarrow": false,
          "text": "-0.0532626462193251",
          "x": "^RUT_90_avg",
          "xref": "x",
          "y": "^RUT_30_ratio",
          "yref": "y"
         },
         {
          "font": {
           "color": "#000000"
          },
          "showarrow": false,
          "text": "0.7464300113854285",
          "x": "^RUT_90_ratio",
          "xref": "x",
          "y": "^RUT_30_ratio",
          "yref": "y"
         },
         {
          "font": {
           "color": "#FFFFFF"
          },
          "showarrow": false,
          "text": "-0.05067282012063145",
          "x": "^RUT_120_avg",
          "xref": "x",
          "y": "^RUT_30_ratio",
          "yref": "y"
         },
         {
          "font": {
           "color": "#000000"
          },
          "showarrow": false,
          "text": "0.6637479104597767",
          "x": "^RUT_120_ratio",
          "xref": "x",
          "y": "^RUT_30_ratio",
          "yref": "y"
         },
         {
          "font": {
           "color": "#FFFFFF"
          },
          "showarrow": false,
          "text": "-0.05865195136395691",
          "x": "^RUT_252_avg",
          "xref": "x",
          "y": "^RUT_30_ratio",
          "yref": "y"
         },
         {
          "font": {
           "color": "#000000"
          },
          "showarrow": false,
          "text": "0.46588920677695356",
          "x": "^RUT_252_ratio",
          "xref": "x",
          "y": "^RUT_30_ratio",
          "yref": "y"
         },
         {
          "font": {
           "color": "#FFFFFF"
          },
          "showarrow": false,
          "text": "-0.054997800515565",
          "x": "^RUT_365_avg",
          "xref": "x",
          "y": "^RUT_30_ratio",
          "yref": "y"
         },
         {
          "font": {
           "color": "#FFFFFF"
          },
          "showarrow": false,
          "text": "0.3916769996795148",
          "x": "^RUT_365_ratio",
          "xref": "x",
          "y": "^RUT_30_ratio",
          "yref": "y"
         },
         {
          "font": {
           "color": "#000000"
          },
          "showarrow": false,
          "text": "0.9956870402755137",
          "x": "^RUT",
          "xref": "x",
          "y": "^RUT_60_avg",
          "yref": "y"
         },
         {
          "font": {
           "color": "#000000"
          },
          "showarrow": false,
          "text": "0.9533287427874217",
          "x": "ES=F",
          "xref": "x",
          "y": "^RUT_60_avg",
          "yref": "y"
         },
         {
          "font": {
           "color": "#FFFFFF"
          },
          "showarrow": false,
          "text": "0.2369949720323201",
          "x": "ZN=F",
          "xref": "x",
          "y": "^RUT_60_avg",
          "yref": "y"
         },
         {
          "font": {
           "color": "#000000"
          },
          "showarrow": false,
          "text": "0.9801145717476294",
          "x": "^DJI",
          "xref": "x",
          "y": "^RUT_60_avg",
          "yref": "y"
         },
         {
          "font": {
           "color": "#000000"
          },
          "showarrow": false,
          "text": "0.9672048769910652",
          "x": "^GSPC",
          "xref": "x",
          "y": "^RUT_60_avg",
          "yref": "y"
         },
         {
          "font": {
           "color": "#000000"
          },
          "showarrow": false,
          "text": "0.9989109937939755",
          "x": "^RUT_30_avg",
          "xref": "x",
          "y": "^RUT_60_avg",
          "yref": "y"
         },
         {
          "font": {
           "color": "#FFFFFF"
          },
          "showarrow": false,
          "text": "-0.05153614489472905",
          "x": "^RUT_30_ratio",
          "xref": "x",
          "y": "^RUT_60_avg",
          "yref": "y"
         },
         {
          "font": {
           "color": "#000000"
          },
          "showarrow": false,
          "text": "1.0",
          "x": "^RUT_60_avg",
          "xref": "x",
          "y": "^RUT_60_avg",
          "yref": "y"
         },
         {
          "font": {
           "color": "#FFFFFF"
          },
          "showarrow": false,
          "text": "-0.052962502709237365",
          "x": "^RUT_60_ratio",
          "xref": "x",
          "y": "^RUT_60_avg",
          "yref": "y"
         },
         {
          "font": {
           "color": "#000000"
          },
          "showarrow": false,
          "text": "0.9993061161720553",
          "x": "^RUT_90_avg",
          "xref": "x",
          "y": "^RUT_60_avg",
          "yref": "y"
         },
         {
          "font": {
           "color": "#FFFFFF"
          },
          "showarrow": false,
          "text": "-0.049787964786023854",
          "x": "^RUT_90_ratio",
          "xref": "x",
          "y": "^RUT_60_avg",
          "yref": "y"
         },
         {
          "font": {
           "color": "#000000"
          },
          "showarrow": false,
          "text": "0.9979873221725442",
          "x": "^RUT_120_avg",
          "xref": "x",
          "y": "^RUT_60_avg",
          "yref": "y"
         },
         {
          "font": {
           "color": "#FFFFFF"
          },
          "showarrow": false,
          "text": "-0.04065381728150579",
          "x": "^RUT_120_ratio",
          "xref": "x",
          "y": "^RUT_60_avg",
          "yref": "y"
         },
         {
          "font": {
           "color": "#000000"
          },
          "showarrow": false,
          "text": "0.9893207207556598",
          "x": "^RUT_252_avg",
          "xref": "x",
          "y": "^RUT_60_avg",
          "yref": "y"
         },
         {
          "font": {
           "color": "#FFFFFF"
          },
          "showarrow": false,
          "text": "-0.008332901937787953",
          "x": "^RUT_252_ratio",
          "xref": "x",
          "y": "^RUT_60_avg",
          "yref": "y"
         },
         {
          "font": {
           "color": "#000000"
          },
          "showarrow": false,
          "text": "0.9822275698281727",
          "x": "^RUT_365_avg",
          "xref": "x",
          "y": "^RUT_60_avg",
          "yref": "y"
         },
         {
          "font": {
           "color": "#FFFFFF"
          },
          "showarrow": false,
          "text": "-0.0004967260316140965",
          "x": "^RUT_365_ratio",
          "xref": "x",
          "y": "^RUT_60_avg",
          "yref": "y"
         },
         {
          "font": {
           "color": "#FFFFFF"
          },
          "showarrow": false,
          "text": "0.022641471182255377",
          "x": "^RUT",
          "xref": "x",
          "y": "^RUT_60_ratio",
          "yref": "y"
         },
         {
          "font": {
           "color": "#FFFFFF"
          },
          "showarrow": false,
          "text": "0.05009422461525888",
          "x": "ES=F",
          "xref": "x",
          "y": "^RUT_60_ratio",
          "yref": "y"
         },
         {
          "font": {
           "color": "#FFFFFF"
          },
          "showarrow": false,
          "text": "0.1015380694093423",
          "x": "ZN=F",
          "xref": "x",
          "y": "^RUT_60_ratio",
          "yref": "y"
         },
         {
          "font": {
           "color": "#FFFFFF"
          },
          "showarrow": false,
          "text": "-0.0025805351211825225",
          "x": "^DJI",
          "xref": "x",
          "y": "^RUT_60_ratio",
          "yref": "y"
         },
         {
          "font": {
           "color": "#FFFFFF"
          },
          "showarrow": false,
          "text": "-0.004234650127591595",
          "x": "^GSPC",
          "xref": "x",
          "y": "^RUT_60_ratio",
          "yref": "y"
         },
         {
          "font": {
           "color": "#FFFFFF"
          },
          "showarrow": false,
          "text": "-0.024503654231411993",
          "x": "^RUT_30_avg",
          "xref": "x",
          "y": "^RUT_60_ratio",
          "yref": "y"
         },
         {
          "font": {
           "color": "#000000"
          },
          "showarrow": false,
          "text": "0.8693322679203257",
          "x": "^RUT_30_ratio",
          "xref": "x",
          "y": "^RUT_60_ratio",
          "yref": "y"
         },
         {
          "font": {
           "color": "#FFFFFF"
          },
          "showarrow": false,
          "text": "-0.052962502709237365",
          "x": "^RUT_60_avg",
          "xref": "x",
          "y": "^RUT_60_ratio",
          "yref": "y"
         },
         {
          "font": {
           "color": "#000000"
          },
          "showarrow": false,
          "text": "1.0",
          "x": "^RUT_60_ratio",
          "xref": "x",
          "y": "^RUT_60_ratio",
          "yref": "y"
         },
         {
          "font": {
           "color": "#FFFFFF"
          },
          "showarrow": false,
          "text": "-0.0696484906034982",
          "x": "^RUT_90_avg",
          "xref": "x",
          "y": "^RUT_60_ratio",
          "yref": "y"
         },
         {
          "font": {
           "color": "#000000"
          },
          "showarrow": false,
          "text": "0.9425741213585012",
          "x": "^RUT_90_ratio",
          "xref": "x",
          "y": "^RUT_60_ratio",
          "yref": "y"
         },
         {
          "font": {
           "color": "#FFFFFF"
          },
          "showarrow": false,
          "text": "-0.06968064929885374",
          "x": "^RUT_120_avg",
          "xref": "x",
          "y": "^RUT_60_ratio",
          "yref": "y"
         },
         {
          "font": {
           "color": "#000000"
          },
          "showarrow": false,
          "text": "0.8693645634188747",
          "x": "^RUT_120_ratio",
          "xref": "x",
          "y": "^RUT_60_ratio",
          "yref": "y"
         },
         {
          "font": {
           "color": "#FFFFFF"
          },
          "showarrow": false,
          "text": "-0.08018212060909535",
          "x": "^RUT_252_avg",
          "xref": "x",
          "y": "^RUT_60_ratio",
          "yref": "y"
         },
         {
          "font": {
           "color": "#000000"
          },
          "showarrow": false,
          "text": "0.6431721406765636",
          "x": "^RUT_252_ratio",
          "xref": "x",
          "y": "^RUT_60_ratio",
          "yref": "y"
         },
         {
          "font": {
           "color": "#FFFFFF"
          },
          "showarrow": false,
          "text": "-0.07910096772227923",
          "x": "^RUT_365_avg",
          "xref": "x",
          "y": "^RUT_60_ratio",
          "yref": "y"
         },
         {
          "font": {
           "color": "#000000"
          },
          "showarrow": false,
          "text": "0.5459338778505813",
          "x": "^RUT_365_ratio",
          "xref": "x",
          "y": "^RUT_60_ratio",
          "yref": "y"
         },
         {
          "font": {
           "color": "#000000"
          },
          "showarrow": false,
          "text": "0.9937104115329618",
          "x": "^RUT",
          "xref": "x",
          "y": "^RUT_90_avg",
          "yref": "y"
         },
         {
          "font": {
           "color": "#000000"
          },
          "showarrow": false,
          "text": "0.9538575493022713",
          "x": "ES=F",
          "xref": "x",
          "y": "^RUT_90_avg",
          "yref": "y"
         },
         {
          "font": {
           "color": "#FFFFFF"
          },
          "showarrow": false,
          "text": "0.2107738749371851",
          "x": "ZN=F",
          "xref": "x",
          "y": "^RUT_90_avg",
          "yref": "y"
         },
         {
          "font": {
           "color": "#000000"
          },
          "showarrow": false,
          "text": "0.9803713976986798",
          "x": "^DJI",
          "xref": "x",
          "y": "^RUT_90_avg",
          "yref": "y"
         },
         {
          "font": {
           "color": "#000000"
          },
          "showarrow": false,
          "text": "0.9675620061041859",
          "x": "^GSPC",
          "xref": "x",
          "y": "^RUT_90_avg",
          "yref": "y"
         },
         {
          "font": {
           "color": "#000000"
          },
          "showarrow": false,
          "text": "0.9972021932397115",
          "x": "^RUT_30_avg",
          "xref": "x",
          "y": "^RUT_90_avg",
          "yref": "y"
         },
         {
          "font": {
           "color": "#FFFFFF"
          },
          "showarrow": false,
          "text": "-0.0532626462193251",
          "x": "^RUT_30_ratio",
          "xref": "x",
          "y": "^RUT_90_avg",
          "yref": "y"
         },
         {
          "font": {
           "color": "#000000"
          },
          "showarrow": false,
          "text": "0.9993061161720553",
          "x": "^RUT_60_avg",
          "xref": "x",
          "y": "^RUT_90_avg",
          "yref": "y"
         },
         {
          "font": {
           "color": "#FFFFFF"
          },
          "showarrow": false,
          "text": "-0.0696484906034982",
          "x": "^RUT_60_ratio",
          "xref": "x",
          "y": "^RUT_90_avg",
          "yref": "y"
         },
         {
          "font": {
           "color": "#000000"
          },
          "showarrow": false,
          "text": "1.0",
          "x": "^RUT_90_avg",
          "xref": "x",
          "y": "^RUT_90_avg",
          "yref": "y"
         },
         {
          "font": {
           "color": "#FFFFFF"
          },
          "showarrow": false,
          "text": "-0.06886269366706332",
          "x": "^RUT_90_ratio",
          "xref": "x",
          "y": "^RUT_90_avg",
          "yref": "y"
         },
         {
          "font": {
           "color": "#000000"
          },
          "showarrow": false,
          "text": "0.9994976294625116",
          "x": "^RUT_120_avg",
          "xref": "x",
          "y": "^RUT_90_avg",
          "yref": "y"
         },
         {
          "font": {
           "color": "#FFFFFF"
          },
          "showarrow": false,
          "text": "-0.06271010103512935",
          "x": "^RUT_120_ratio",
          "xref": "x",
          "y": "^RUT_90_avg",
          "yref": "y"
         },
         {
          "font": {
           "color": "#000000"
          },
          "showarrow": false,
          "text": "0.9924325857543407",
          "x": "^RUT_252_avg",
          "xref": "x",
          "y": "^RUT_90_avg",
          "yref": "y"
         },
         {
          "font": {
           "color": "#FFFFFF"
          },
          "showarrow": false,
          "text": "-0.031477515648924675",
          "x": "^RUT_252_ratio",
          "xref": "x",
          "y": "^RUT_90_avg",
          "yref": "y"
         },
         {
          "font": {
           "color": "#000000"
          },
          "showarrow": false,
          "text": "0.9853909370362888",
          "x": "^RUT_365_avg",
          "xref": "x",
          "y": "^RUT_90_avg",
          "yref": "y"
         },
         {
          "font": {
           "color": "#FFFFFF"
          },
          "showarrow": false,
          "text": "-0.020768769071610918",
          "x": "^RUT_365_ratio",
          "xref": "x",
          "y": "^RUT_90_avg",
          "yref": "y"
         },
         {
          "font": {
           "color": "#FFFFFF"
          },
          "showarrow": false,
          "text": "0.022077233329551915",
          "x": "^RUT",
          "xref": "x",
          "y": "^RUT_90_ratio",
          "yref": "y"
         },
         {
          "font": {
           "color": "#FFFFFF"
          },
          "showarrow": false,
          "text": "0.06401415321675052",
          "x": "ES=F",
          "xref": "x",
          "y": "^RUT_90_ratio",
          "yref": "y"
         },
         {
          "font": {
           "color": "#FFFFFF"
          },
          "showarrow": false,
          "text": "0.1231376236268121",
          "x": "ZN=F",
          "xref": "x",
          "y": "^RUT_90_ratio",
          "yref": "y"
         },
         {
          "font": {
           "color": "#FFFFFF"
          },
          "showarrow": false,
          "text": "-0.007404153168532828",
          "x": "^DJI",
          "xref": "x",
          "y": "^RUT_90_ratio",
          "yref": "y"
         },
         {
          "font": {
           "color": "#FFFFFF"
          },
          "showarrow": false,
          "text": "-0.013879201975814826",
          "x": "^GSPC",
          "xref": "x",
          "y": "^RUT_90_ratio",
          "yref": "y"
         },
         {
          "font": {
           "color": "#FFFFFF"
          },
          "showarrow": false,
          "text": "-0.018826695769047476",
          "x": "^RUT_30_avg",
          "xref": "x",
          "y": "^RUT_90_ratio",
          "yref": "y"
         },
         {
          "font": {
           "color": "#000000"
          },
          "showarrow": false,
          "text": "0.7464300113854285",
          "x": "^RUT_30_ratio",
          "xref": "x",
          "y": "^RUT_90_ratio",
          "yref": "y"
         },
         {
          "font": {
           "color": "#FFFFFF"
          },
          "showarrow": false,
          "text": "-0.049787964786023854",
          "x": "^RUT_60_avg",
          "xref": "x",
          "y": "^RUT_90_ratio",
          "yref": "y"
         },
         {
          "font": {
           "color": "#000000"
          },
          "showarrow": false,
          "text": "0.9425741213585012",
          "x": "^RUT_60_ratio",
          "xref": "x",
          "y": "^RUT_90_ratio",
          "yref": "y"
         },
         {
          "font": {
           "color": "#FFFFFF"
          },
          "showarrow": false,
          "text": "-0.06886269366706332",
          "x": "^RUT_90_avg",
          "xref": "x",
          "y": "^RUT_90_ratio",
          "yref": "y"
         },
         {
          "font": {
           "color": "#000000"
          },
          "showarrow": false,
          "text": "1.0",
          "x": "^RUT_90_ratio",
          "xref": "x",
          "y": "^RUT_90_ratio",
          "yref": "y"
         },
         {
          "font": {
           "color": "#FFFFFF"
          },
          "showarrow": false,
          "text": "-0.07885078580074169",
          "x": "^RUT_120_avg",
          "xref": "x",
          "y": "^RUT_90_ratio",
          "yref": "y"
         },
         {
          "font": {
           "color": "#000000"
          },
          "showarrow": false,
          "text": "0.9699447436493106",
          "x": "^RUT_120_ratio",
          "xref": "x",
          "y": "^RUT_90_ratio",
          "yref": "y"
         },
         {
          "font": {
           "color": "#FFFFFF"
          },
          "showarrow": false,
          "text": "-0.09364175358572076",
          "x": "^RUT_252_avg",
          "xref": "x",
          "y": "^RUT_90_ratio",
          "yref": "y"
         },
         {
          "font": {
           "color": "#000000"
          },
          "showarrow": false,
          "text": "0.7649212178355633",
          "x": "^RUT_252_ratio",
          "xref": "x",
          "y": "^RUT_90_ratio",
          "yref": "y"
         },
         {
          "font": {
           "color": "#FFFFFF"
          },
          "showarrow": false,
          "text": "-0.09567355103202646",
          "x": "^RUT_365_avg",
          "xref": "x",
          "y": "^RUT_90_ratio",
          "yref": "y"
         },
         {
          "font": {
           "color": "#000000"
          },
          "showarrow": false,
          "text": "0.6558592679896402",
          "x": "^RUT_365_ratio",
          "xref": "x",
          "y": "^RUT_90_ratio",
          "yref": "y"
         },
         {
          "font": {
           "color": "#000000"
          },
          "showarrow": false,
          "text": "0.9917828894299812",
          "x": "^RUT",
          "xref": "x",
          "y": "^RUT_120_avg",
          "yref": "y"
         },
         {
          "font": {
           "color": "#000000"
          },
          "showarrow": false,
          "text": "0.9541895337595957",
          "x": "ES=F",
          "xref": "x",
          "y": "^RUT_120_avg",
          "yref": "y"
         },
         {
          "font": {
           "color": "#FFFFFF"
          },
          "showarrow": false,
          "text": "0.20551908178635164",
          "x": "ZN=F",
          "xref": "x",
          "y": "^RUT_120_avg",
          "yref": "y"
         },
         {
          "font": {
           "color": "#000000"
          },
          "showarrow": false,
          "text": "0.9802594162672268",
          "x": "^DJI",
          "xref": "x",
          "y": "^RUT_120_avg",
          "yref": "y"
         },
         {
          "font": {
           "color": "#000000"
          },
          "showarrow": false,
          "text": "0.9677260542379443",
          "x": "^GSPC",
          "xref": "x",
          "y": "^RUT_120_avg",
          "yref": "y"
         },
         {
          "font": {
           "color": "#000000"
          },
          "showarrow": false,
          "text": "0.9954154568730258",
          "x": "^RUT_30_avg",
          "xref": "x",
          "y": "^RUT_120_avg",
          "yref": "y"
         },
         {
          "font": {
           "color": "#FFFFFF"
          },
          "showarrow": false,
          "text": "-0.05067282012063145",
          "x": "^RUT_30_ratio",
          "xref": "x",
          "y": "^RUT_120_avg",
          "yref": "y"
         },
         {
          "font": {
           "color": "#000000"
          },
          "showarrow": false,
          "text": "0.9979873221725442",
          "x": "^RUT_60_avg",
          "xref": "x",
          "y": "^RUT_120_avg",
          "yref": "y"
         },
         {
          "font": {
           "color": "#FFFFFF"
          },
          "showarrow": false,
          "text": "-0.06968064929885374",
          "x": "^RUT_60_ratio",
          "xref": "x",
          "y": "^RUT_120_avg",
          "yref": "y"
         },
         {
          "font": {
           "color": "#000000"
          },
          "showarrow": false,
          "text": "0.9994976294625116",
          "x": "^RUT_90_avg",
          "xref": "x",
          "y": "^RUT_120_avg",
          "yref": "y"
         },
         {
          "font": {
           "color": "#FFFFFF"
          },
          "showarrow": false,
          "text": "-0.07885078580074169",
          "x": "^RUT_90_ratio",
          "xref": "x",
          "y": "^RUT_120_avg",
          "yref": "y"
         },
         {
          "font": {
           "color": "#000000"
          },
          "showarrow": false,
          "text": "1.0",
          "x": "^RUT_120_avg",
          "xref": "x",
          "y": "^RUT_120_avg",
          "yref": "y"
         },
         {
          "font": {
           "color": "#FFFFFF"
          },
          "showarrow": false,
          "text": "-0.07764556089535413",
          "x": "^RUT_120_ratio",
          "xref": "x",
          "y": "^RUT_120_avg",
          "yref": "y"
         },
         {
          "font": {
           "color": "#000000"
          },
          "showarrow": false,
          "text": "0.9949677902364092",
          "x": "^RUT_252_avg",
          "xref": "x",
          "y": "^RUT_120_avg",
          "yref": "y"
         },
         {
          "font": {
           "color": "#FFFFFF"
          },
          "showarrow": false,
          "text": "-0.051564734595938584",
          "x": "^RUT_252_ratio",
          "xref": "x",
          "y": "^RUT_120_avg",
          "yref": "y"
         },
         {
          "font": {
           "color": "#000000"
          },
          "showarrow": false,
          "text": "0.9882424736688779",
          "x": "^RUT_365_avg",
          "xref": "x",
          "y": "^RUT_120_avg",
          "yref": "y"
         },
         {
          "font": {
           "color": "#FFFFFF"
          },
          "showarrow": false,
          "text": "-0.03926941927771791",
          "x": "^RUT_365_ratio",
          "xref": "x",
          "y": "^RUT_120_avg",
          "yref": "y"
         },
         {
          "font": {
           "color": "#FFFFFF"
          },
          "showarrow": false,
          "text": "0.02623151569862008",
          "x": "^RUT",
          "xref": "x",
          "y": "^RUT_120_ratio",
          "yref": "y"
         },
         {
          "font": {
           "color": "#FFFFFF"
          },
          "showarrow": false,
          "text": "0.07271887963108827",
          "x": "ES=F",
          "xref": "x",
          "y": "^RUT_120_ratio",
          "yref": "y"
         },
         {
          "font": {
           "color": "#FFFFFF"
          },
          "showarrow": false,
          "text": "0.1287475336907063",
          "x": "ZN=F",
          "xref": "x",
          "y": "^RUT_120_ratio",
          "yref": "y"
         },
         {
          "font": {
           "color": "#FFFFFF"
          },
          "showarrow": false,
          "text": "-0.009947450240188824",
          "x": "^DJI",
          "xref": "x",
          "y": "^RUT_120_ratio",
          "yref": "y"
         },
         {
          "font": {
           "color": "#FFFFFF"
          },
          "showarrow": false,
          "text": "-0.015196900966738074",
          "x": "^GSPC",
          "xref": "x",
          "y": "^RUT_120_ratio",
          "yref": "y"
         },
         {
          "font": {
           "color": "#FFFFFF"
          },
          "showarrow": false,
          "text": "-0.010553762255899348",
          "x": "^RUT_30_avg",
          "xref": "x",
          "y": "^RUT_120_ratio",
          "yref": "y"
         },
         {
          "font": {
           "color": "#000000"
          },
          "showarrow": false,
          "text": "0.6637479104597767",
          "x": "^RUT_30_ratio",
          "xref": "x",
          "y": "^RUT_120_ratio",
          "yref": "y"
         },
         {
          "font": {
           "color": "#FFFFFF"
          },
          "showarrow": false,
          "text": "-0.04065381728150579",
          "x": "^RUT_60_avg",
          "xref": "x",
          "y": "^RUT_120_ratio",
          "yref": "y"
         },
         {
          "font": {
           "color": "#000000"
          },
          "showarrow": false,
          "text": "0.8693645634188747",
          "x": "^RUT_60_ratio",
          "xref": "x",
          "y": "^RUT_120_ratio",
          "yref": "y"
         },
         {
          "font": {
           "color": "#FFFFFF"
          },
          "showarrow": false,
          "text": "-0.06271010103512935",
          "x": "^RUT_90_avg",
          "xref": "x",
          "y": "^RUT_120_ratio",
          "yref": "y"
         },
         {
          "font": {
           "color": "#000000"
          },
          "showarrow": false,
          "text": "0.9699447436493106",
          "x": "^RUT_90_ratio",
          "xref": "x",
          "y": "^RUT_120_ratio",
          "yref": "y"
         },
         {
          "font": {
           "color": "#FFFFFF"
          },
          "showarrow": false,
          "text": "-0.07764556089535413",
          "x": "^RUT_120_avg",
          "xref": "x",
          "y": "^RUT_120_ratio",
          "yref": "y"
         },
         {
          "font": {
           "color": "#000000"
          },
          "showarrow": false,
          "text": "1.0",
          "x": "^RUT_120_ratio",
          "xref": "x",
          "y": "^RUT_120_ratio",
          "yref": "y"
         },
         {
          "font": {
           "color": "#FFFFFF"
          },
          "showarrow": false,
          "text": "-0.10170032206623257",
          "x": "^RUT_252_avg",
          "xref": "x",
          "y": "^RUT_120_ratio",
          "yref": "y"
         },
         {
          "font": {
           "color": "#000000"
          },
          "showarrow": false,
          "text": "0.8494731984521391",
          "x": "^RUT_252_ratio",
          "xref": "x",
          "y": "^RUT_120_ratio",
          "yref": "y"
         },
         {
          "font": {
           "color": "#FFFFFF"
          },
          "showarrow": false,
          "text": "-0.10650711670869374",
          "x": "^RUT_365_avg",
          "xref": "x",
          "y": "^RUT_120_ratio",
          "yref": "y"
         },
         {
          "font": {
           "color": "#000000"
          },
          "showarrow": false,
          "text": "0.737117447548022",
          "x": "^RUT_365_ratio",
          "xref": "x",
          "y": "^RUT_120_ratio",
          "yref": "y"
         },
         {
          "font": {
           "color": "#000000"
          },
          "showarrow": false,
          "text": "0.981372232442972",
          "x": "^RUT",
          "xref": "x",
          "y": "^RUT_252_avg",
          "yref": "y"
         },
         {
          "font": {
           "color": "#000000"
          },
          "showarrow": false,
          "text": "0.9637805664431208",
          "x": "ES=F",
          "xref": "x",
          "y": "^RUT_252_avg",
          "yref": "y"
         },
         {
          "font": {
           "color": "#FFFFFF"
          },
          "showarrow": false,
          "text": "0.19353577295557534",
          "x": "ZN=F",
          "xref": "x",
          "y": "^RUT_252_avg",
          "yref": "y"
         },
         {
          "font": {
           "color": "#000000"
          },
          "showarrow": false,
          "text": "0.9809364016126315",
          "x": "^DJI",
          "xref": "x",
          "y": "^RUT_252_avg",
          "yref": "y"
         },
         {
          "font": {
           "color": "#000000"
          },
          "showarrow": false,
          "text": "0.9732886017729674",
          "x": "^GSPC",
          "xref": "x",
          "y": "^RUT_252_avg",
          "yref": "y"
         },
         {
          "font": {
           "color": "#000000"
          },
          "showarrow": false,
          "text": "0.9855825332219862",
          "x": "^RUT_30_avg",
          "xref": "x",
          "y": "^RUT_252_avg",
          "yref": "y"
         },
         {
          "font": {
           "color": "#FFFFFF"
          },
          "showarrow": false,
          "text": "-0.05865195136395691",
          "x": "^RUT_30_ratio",
          "xref": "x",
          "y": "^RUT_252_avg",
          "yref": "y"
         },
         {
          "font": {
           "color": "#000000"
          },
          "showarrow": false,
          "text": "0.9893207207556598",
          "x": "^RUT_60_avg",
          "xref": "x",
          "y": "^RUT_252_avg",
          "yref": "y"
         },
         {
          "font": {
           "color": "#FFFFFF"
          },
          "showarrow": false,
          "text": "-0.08018212060909535",
          "x": "^RUT_60_ratio",
          "xref": "x",
          "y": "^RUT_252_avg",
          "yref": "y"
         },
         {
          "font": {
           "color": "#000000"
          },
          "showarrow": false,
          "text": "0.9924325857543407",
          "x": "^RUT_90_avg",
          "xref": "x",
          "y": "^RUT_252_avg",
          "yref": "y"
         },
         {
          "font": {
           "color": "#FFFFFF"
          },
          "showarrow": false,
          "text": "-0.09364175358572076",
          "x": "^RUT_90_ratio",
          "xref": "x",
          "y": "^RUT_252_avg",
          "yref": "y"
         },
         {
          "font": {
           "color": "#000000"
          },
          "showarrow": false,
          "text": "0.9949677902364092",
          "x": "^RUT_120_avg",
          "xref": "x",
          "y": "^RUT_252_avg",
          "yref": "y"
         },
         {
          "font": {
           "color": "#FFFFFF"
          },
          "showarrow": false,
          "text": "-0.10170032206623257",
          "x": "^RUT_120_ratio",
          "xref": "x",
          "y": "^RUT_252_avg",
          "yref": "y"
         },
         {
          "font": {
           "color": "#000000"
          },
          "showarrow": false,
          "text": "1.0",
          "x": "^RUT_252_avg",
          "xref": "x",
          "y": "^RUT_252_avg",
          "yref": "y"
         },
         {
          "font": {
           "color": "#FFFFFF"
          },
          "showarrow": false,
          "text": "-0.1134991741438246",
          "x": "^RUT_252_ratio",
          "xref": "x",
          "y": "^RUT_252_avg",
          "yref": "y"
         },
         {
          "font": {
           "color": "#000000"
          },
          "showarrow": false,
          "text": "0.9974561087706042",
          "x": "^RUT_365_avg",
          "xref": "x",
          "y": "^RUT_252_avg",
          "yref": "y"
         },
         {
          "font": {
           "color": "#FFFFFF"
          },
          "showarrow": false,
          "text": "-0.10778003639003211",
          "x": "^RUT_365_ratio",
          "xref": "x",
          "y": "^RUT_252_avg",
          "yref": "y"
         },
         {
          "font": {
           "color": "#FFFFFF"
          },
          "showarrow": false,
          "text": "0.04710891722564897",
          "x": "^RUT",
          "xref": "x",
          "y": "^RUT_252_ratio",
          "yref": "y"
         },
         {
          "font": {
           "color": "#FFFFFF"
          },
          "showarrow": false,
          "text": "0.09764778697801355",
          "x": "ES=F",
          "xref": "x",
          "y": "^RUT_252_ratio",
          "yref": "y"
         },
         {
          "font": {
           "color": "#FFFFFF"
          },
          "showarrow": false,
          "text": "0.2181610569253035",
          "x": "ZN=F",
          "xref": "x",
          "y": "^RUT_252_ratio",
          "yref": "y"
         },
         {
          "font": {
           "color": "#FFFFFF"
          },
          "showarrow": false,
          "text": "-0.03417471023713917",
          "x": "^DJI",
          "xref": "x",
          "y": "^RUT_252_ratio",
          "yref": "y"
         },
         {
          "font": {
           "color": "#FFFFFF"
          },
          "showarrow": false,
          "text": "-0.02364152956735682",
          "x": "^GSPC",
          "xref": "x",
          "y": "^RUT_252_ratio",
          "yref": "y"
         },
         {
          "font": {
           "color": "#FFFFFF"
          },
          "showarrow": false,
          "text": "0.018429146220183684",
          "x": "^RUT_30_avg",
          "xref": "x",
          "y": "^RUT_252_ratio",
          "yref": "y"
         },
         {
          "font": {
           "color": "#000000"
          },
          "showarrow": false,
          "text": "0.46588920677695356",
          "x": "^RUT_30_ratio",
          "xref": "x",
          "y": "^RUT_252_ratio",
          "yref": "y"
         },
         {
          "font": {
           "color": "#FFFFFF"
          },
          "showarrow": false,
          "text": "-0.008332901937787953",
          "x": "^RUT_60_avg",
          "xref": "x",
          "y": "^RUT_252_ratio",
          "yref": "y"
         },
         {
          "font": {
           "color": "#000000"
          },
          "showarrow": false,
          "text": "0.6431721406765636",
          "x": "^RUT_60_ratio",
          "xref": "x",
          "y": "^RUT_252_ratio",
          "yref": "y"
         },
         {
          "font": {
           "color": "#FFFFFF"
          },
          "showarrow": false,
          "text": "-0.031477515648924675",
          "x": "^RUT_90_avg",
          "xref": "x",
          "y": "^RUT_252_ratio",
          "yref": "y"
         },
         {
          "font": {
           "color": "#000000"
          },
          "showarrow": false,
          "text": "0.7649212178355633",
          "x": "^RUT_90_ratio",
          "xref": "x",
          "y": "^RUT_252_ratio",
          "yref": "y"
         },
         {
          "font": {
           "color": "#FFFFFF"
          },
          "showarrow": false,
          "text": "-0.051564734595938584",
          "x": "^RUT_120_avg",
          "xref": "x",
          "y": "^RUT_252_ratio",
          "yref": "y"
         },
         {
          "font": {
           "color": "#000000"
          },
          "showarrow": false,
          "text": "0.8494731984521391",
          "x": "^RUT_120_ratio",
          "xref": "x",
          "y": "^RUT_252_ratio",
          "yref": "y"
         },
         {
          "font": {
           "color": "#FFFFFF"
          },
          "showarrow": false,
          "text": "-0.1134991741438246",
          "x": "^RUT_252_avg",
          "xref": "x",
          "y": "^RUT_252_ratio",
          "yref": "y"
         },
         {
          "font": {
           "color": "#000000"
          },
          "showarrow": false,
          "text": "1.0",
          "x": "^RUT_252_ratio",
          "xref": "x",
          "y": "^RUT_252_ratio",
          "yref": "y"
         },
         {
          "font": {
           "color": "#FFFFFF"
          },
          "showarrow": false,
          "text": "-0.1305728752331708",
          "x": "^RUT_365_avg",
          "xref": "x",
          "y": "^RUT_252_ratio",
          "yref": "y"
         },
         {
          "font": {
           "color": "#000000"
          },
          "showarrow": false,
          "text": "0.9507224317626713",
          "x": "^RUT_365_ratio",
          "xref": "x",
          "y": "^RUT_252_ratio",
          "yref": "y"
         },
         {
          "font": {
           "color": "#000000"
          },
          "showarrow": false,
          "text": "0.9748058053609857",
          "x": "^RUT",
          "xref": "x",
          "y": "^RUT_365_avg",
          "yref": "y"
         },
         {
          "font": {
           "color": "#000000"
          },
          "showarrow": false,
          "text": "0.9595988534769074",
          "x": "ES=F",
          "xref": "x",
          "y": "^RUT_365_avg",
          "yref": "y"
         },
         {
          "font": {
           "color": "#FFFFFF"
          },
          "showarrow": false,
          "text": "0.1503126510266997",
          "x": "ZN=F",
          "xref": "x",
          "y": "^RUT_365_avg",
          "yref": "y"
         },
         {
          "font": {
           "color": "#000000"
          },
          "showarrow": false,
          "text": "0.9797646089756757",
          "x": "^DJI",
          "xref": "x",
          "y": "^RUT_365_avg",
          "yref": "y"
         },
         {
          "font": {
           "color": "#000000"
          },
          "showarrow": false,
          "text": "0.9709220495121812",
          "x": "^GSPC",
          "xref": "x",
          "y": "^RUT_365_avg",
          "yref": "y"
         },
         {
          "font": {
           "color": "#000000"
          },
          "showarrow": false,
          "text": "0.9786580831534726",
          "x": "^RUT_30_avg",
          "xref": "x",
          "y": "^RUT_365_avg",
          "yref": "y"
         },
         {
          "font": {
           "color": "#FFFFFF"
          },
          "showarrow": false,
          "text": "-0.054997800515565",
          "x": "^RUT_30_ratio",
          "xref": "x",
          "y": "^RUT_365_avg",
          "yref": "y"
         },
         {
          "font": {
           "color": "#000000"
          },
          "showarrow": false,
          "text": "0.9822275698281727",
          "x": "^RUT_60_avg",
          "xref": "x",
          "y": "^RUT_365_avg",
          "yref": "y"
         },
         {
          "font": {
           "color": "#FFFFFF"
          },
          "showarrow": false,
          "text": "-0.07910096772227923",
          "x": "^RUT_60_ratio",
          "xref": "x",
          "y": "^RUT_365_avg",
          "yref": "y"
         },
         {
          "font": {
           "color": "#000000"
          },
          "showarrow": false,
          "text": "0.9853909370362888",
          "x": "^RUT_90_avg",
          "xref": "x",
          "y": "^RUT_365_avg",
          "yref": "y"
         },
         {
          "font": {
           "color": "#FFFFFF"
          },
          "showarrow": false,
          "text": "-0.09567355103202646",
          "x": "^RUT_90_ratio",
          "xref": "x",
          "y": "^RUT_365_avg",
          "yref": "y"
         },
         {
          "font": {
           "color": "#000000"
          },
          "showarrow": false,
          "text": "0.9882424736688779",
          "x": "^RUT_120_avg",
          "xref": "x",
          "y": "^RUT_365_avg",
          "yref": "y"
         },
         {
          "font": {
           "color": "#FFFFFF"
          },
          "showarrow": false,
          "text": "-0.10650711670869374",
          "x": "^RUT_120_ratio",
          "xref": "x",
          "y": "^RUT_365_avg",
          "yref": "y"
         },
         {
          "font": {
           "color": "#000000"
          },
          "showarrow": false,
          "text": "0.9974561087706042",
          "x": "^RUT_252_avg",
          "xref": "x",
          "y": "^RUT_365_avg",
          "yref": "y"
         },
         {
          "font": {
           "color": "#FFFFFF"
          },
          "showarrow": false,
          "text": "-0.1305728752331708",
          "x": "^RUT_252_ratio",
          "xref": "x",
          "y": "^RUT_365_avg",
          "yref": "y"
         },
         {
          "font": {
           "color": "#000000"
          },
          "showarrow": false,
          "text": "1.0",
          "x": "^RUT_365_avg",
          "xref": "x",
          "y": "^RUT_365_avg",
          "yref": "y"
         },
         {
          "font": {
           "color": "#FFFFFF"
          },
          "showarrow": false,
          "text": "-0.1401160110037742",
          "x": "^RUT_365_ratio",
          "xref": "x",
          "y": "^RUT_365_avg",
          "yref": "y"
         },
         {
          "font": {
           "color": "#FFFFFF"
          },
          "showarrow": false,
          "text": "0.046393141596572714",
          "x": "^RUT",
          "xref": "x",
          "y": "^RUT_365_ratio",
          "yref": "y"
         },
         {
          "font": {
           "color": "#FFFFFF"
          },
          "showarrow": false,
          "text": "0.10437829941342035",
          "x": "ES=F",
          "xref": "x",
          "y": "^RUT_365_ratio",
          "yref": "y"
         },
         {
          "font": {
           "color": "#FFFFFF"
          },
          "showarrow": false,
          "text": "0.24055564323185935",
          "x": "ZN=F",
          "xref": "x",
          "y": "^RUT_365_ratio",
          "yref": "y"
         },
         {
          "font": {
           "color": "#FFFFFF"
          },
          "showarrow": false,
          "text": "-0.06087097096385368",
          "x": "^DJI",
          "xref": "x",
          "y": "^RUT_365_ratio",
          "yref": "y"
         },
         {
          "font": {
           "color": "#FFFFFF"
          },
          "showarrow": false,
          "text": "-0.031900551839579815",
          "x": "^GSPC",
          "xref": "x",
          "y": "^RUT_365_ratio",
          "yref": "y"
         },
         {
          "font": {
           "color": "#FFFFFF"
          },
          "showarrow": false,
          "text": "0.02234384491504597",
          "x": "^RUT_30_avg",
          "xref": "x",
          "y": "^RUT_365_ratio",
          "yref": "y"
         },
         {
          "font": {
           "color": "#FFFFFF"
          },
          "showarrow": false,
          "text": "0.3916769996795148",
          "x": "^RUT_30_ratio",
          "xref": "x",
          "y": "^RUT_365_ratio",
          "yref": "y"
         },
         {
          "font": {
           "color": "#FFFFFF"
          },
          "showarrow": false,
          "text": "-0.0004967260316140965",
          "x": "^RUT_60_avg",
          "xref": "x",
          "y": "^RUT_365_ratio",
          "yref": "y"
         },
         {
          "font": {
           "color": "#000000"
          },
          "showarrow": false,
          "text": "0.5459338778505813",
          "x": "^RUT_60_ratio",
          "xref": "x",
          "y": "^RUT_365_ratio",
          "yref": "y"
         },
         {
          "font": {
           "color": "#FFFFFF"
          },
          "showarrow": false,
          "text": "-0.020768769071610918",
          "x": "^RUT_90_avg",
          "xref": "x",
          "y": "^RUT_365_ratio",
          "yref": "y"
         },
         {
          "font": {
           "color": "#000000"
          },
          "showarrow": false,
          "text": "0.6558592679896402",
          "x": "^RUT_90_ratio",
          "xref": "x",
          "y": "^RUT_365_ratio",
          "yref": "y"
         },
         {
          "font": {
           "color": "#FFFFFF"
          },
          "showarrow": false,
          "text": "-0.03926941927771791",
          "x": "^RUT_120_avg",
          "xref": "x",
          "y": "^RUT_365_ratio",
          "yref": "y"
         },
         {
          "font": {
           "color": "#000000"
          },
          "showarrow": false,
          "text": "0.737117447548022",
          "x": "^RUT_120_ratio",
          "xref": "x",
          "y": "^RUT_365_ratio",
          "yref": "y"
         },
         {
          "font": {
           "color": "#FFFFFF"
          },
          "showarrow": false,
          "text": "-0.10778003639003211",
          "x": "^RUT_252_avg",
          "xref": "x",
          "y": "^RUT_365_ratio",
          "yref": "y"
         },
         {
          "font": {
           "color": "#000000"
          },
          "showarrow": false,
          "text": "0.9507224317626713",
          "x": "^RUT_252_ratio",
          "xref": "x",
          "y": "^RUT_365_ratio",
          "yref": "y"
         },
         {
          "font": {
           "color": "#FFFFFF"
          },
          "showarrow": false,
          "text": "-0.1401160110037742",
          "x": "^RUT_365_avg",
          "xref": "x",
          "y": "^RUT_365_ratio",
          "yref": "y"
         },
         {
          "font": {
           "color": "#000000"
          },
          "showarrow": false,
          "text": "1.0",
          "x": "^RUT_365_ratio",
          "xref": "x",
          "y": "^RUT_365_ratio",
          "yref": "y"
         }
        ],
        "template": {
         "data": {
          "bar": [
           {
            "error_x": {
             "color": "#2a3f5f"
            },
            "error_y": {
             "color": "#2a3f5f"
            },
            "marker": {
             "line": {
              "color": "#E5ECF6",
              "width": 0.5
             },
             "pattern": {
              "fillmode": "overlay",
              "size": 10,
              "solidity": 0.2
             }
            },
            "type": "bar"
           }
          ],
          "barpolar": [
           {
            "marker": {
             "line": {
              "color": "#E5ECF6",
              "width": 0.5
             },
             "pattern": {
              "fillmode": "overlay",
              "size": 10,
              "solidity": 0.2
             }
            },
            "type": "barpolar"
           }
          ],
          "carpet": [
           {
            "aaxis": {
             "endlinecolor": "#2a3f5f",
             "gridcolor": "white",
             "linecolor": "white",
             "minorgridcolor": "white",
             "startlinecolor": "#2a3f5f"
            },
            "baxis": {
             "endlinecolor": "#2a3f5f",
             "gridcolor": "white",
             "linecolor": "white",
             "minorgridcolor": "white",
             "startlinecolor": "#2a3f5f"
            },
            "type": "carpet"
           }
          ],
          "choropleth": [
           {
            "colorbar": {
             "outlinewidth": 0,
             "ticks": ""
            },
            "type": "choropleth"
           }
          ],
          "contour": [
           {
            "colorbar": {
             "outlinewidth": 0,
             "ticks": ""
            },
            "colorscale": [
             [
              0,
              "#0d0887"
             ],
             [
              0.1111111111111111,
              "#46039f"
             ],
             [
              0.2222222222222222,
              "#7201a8"
             ],
             [
              0.3333333333333333,
              "#9c179e"
             ],
             [
              0.4444444444444444,
              "#bd3786"
             ],
             [
              0.5555555555555556,
              "#d8576b"
             ],
             [
              0.6666666666666666,
              "#ed7953"
             ],
             [
              0.7777777777777778,
              "#fb9f3a"
             ],
             [
              0.8888888888888888,
              "#fdca26"
             ],
             [
              1,
              "#f0f921"
             ]
            ],
            "type": "contour"
           }
          ],
          "contourcarpet": [
           {
            "colorbar": {
             "outlinewidth": 0,
             "ticks": ""
            },
            "type": "contourcarpet"
           }
          ],
          "heatmap": [
           {
            "colorbar": {
             "outlinewidth": 0,
             "ticks": ""
            },
            "colorscale": [
             [
              0,
              "#0d0887"
             ],
             [
              0.1111111111111111,
              "#46039f"
             ],
             [
              0.2222222222222222,
              "#7201a8"
             ],
             [
              0.3333333333333333,
              "#9c179e"
             ],
             [
              0.4444444444444444,
              "#bd3786"
             ],
             [
              0.5555555555555556,
              "#d8576b"
             ],
             [
              0.6666666666666666,
              "#ed7953"
             ],
             [
              0.7777777777777778,
              "#fb9f3a"
             ],
             [
              0.8888888888888888,
              "#fdca26"
             ],
             [
              1,
              "#f0f921"
             ]
            ],
            "type": "heatmap"
           }
          ],
          "heatmapgl": [
           {
            "colorbar": {
             "outlinewidth": 0,
             "ticks": ""
            },
            "colorscale": [
             [
              0,
              "#0d0887"
             ],
             [
              0.1111111111111111,
              "#46039f"
             ],
             [
              0.2222222222222222,
              "#7201a8"
             ],
             [
              0.3333333333333333,
              "#9c179e"
             ],
             [
              0.4444444444444444,
              "#bd3786"
             ],
             [
              0.5555555555555556,
              "#d8576b"
             ],
             [
              0.6666666666666666,
              "#ed7953"
             ],
             [
              0.7777777777777778,
              "#fb9f3a"
             ],
             [
              0.8888888888888888,
              "#fdca26"
             ],
             [
              1,
              "#f0f921"
             ]
            ],
            "type": "heatmapgl"
           }
          ],
          "histogram": [
           {
            "marker": {
             "pattern": {
              "fillmode": "overlay",
              "size": 10,
              "solidity": 0.2
             }
            },
            "type": "histogram"
           }
          ],
          "histogram2d": [
           {
            "colorbar": {
             "outlinewidth": 0,
             "ticks": ""
            },
            "colorscale": [
             [
              0,
              "#0d0887"
             ],
             [
              0.1111111111111111,
              "#46039f"
             ],
             [
              0.2222222222222222,
              "#7201a8"
             ],
             [
              0.3333333333333333,
              "#9c179e"
             ],
             [
              0.4444444444444444,
              "#bd3786"
             ],
             [
              0.5555555555555556,
              "#d8576b"
             ],
             [
              0.6666666666666666,
              "#ed7953"
             ],
             [
              0.7777777777777778,
              "#fb9f3a"
             ],
             [
              0.8888888888888888,
              "#fdca26"
             ],
             [
              1,
              "#f0f921"
             ]
            ],
            "type": "histogram2d"
           }
          ],
          "histogram2dcontour": [
           {
            "colorbar": {
             "outlinewidth": 0,
             "ticks": ""
            },
            "colorscale": [
             [
              0,
              "#0d0887"
             ],
             [
              0.1111111111111111,
              "#46039f"
             ],
             [
              0.2222222222222222,
              "#7201a8"
             ],
             [
              0.3333333333333333,
              "#9c179e"
             ],
             [
              0.4444444444444444,
              "#bd3786"
             ],
             [
              0.5555555555555556,
              "#d8576b"
             ],
             [
              0.6666666666666666,
              "#ed7953"
             ],
             [
              0.7777777777777778,
              "#fb9f3a"
             ],
             [
              0.8888888888888888,
              "#fdca26"
             ],
             [
              1,
              "#f0f921"
             ]
            ],
            "type": "histogram2dcontour"
           }
          ],
          "mesh3d": [
           {
            "colorbar": {
             "outlinewidth": 0,
             "ticks": ""
            },
            "type": "mesh3d"
           }
          ],
          "parcoords": [
           {
            "line": {
             "colorbar": {
              "outlinewidth": 0,
              "ticks": ""
             }
            },
            "type": "parcoords"
           }
          ],
          "pie": [
           {
            "automargin": true,
            "type": "pie"
           }
          ],
          "scatter": [
           {
            "fillpattern": {
             "fillmode": "overlay",
             "size": 10,
             "solidity": 0.2
            },
            "type": "scatter"
           }
          ],
          "scatter3d": [
           {
            "line": {
             "colorbar": {
              "outlinewidth": 0,
              "ticks": ""
             }
            },
            "marker": {
             "colorbar": {
              "outlinewidth": 0,
              "ticks": ""
             }
            },
            "type": "scatter3d"
           }
          ],
          "scattercarpet": [
           {
            "marker": {
             "colorbar": {
              "outlinewidth": 0,
              "ticks": ""
             }
            },
            "type": "scattercarpet"
           }
          ],
          "scattergeo": [
           {
            "marker": {
             "colorbar": {
              "outlinewidth": 0,
              "ticks": ""
             }
            },
            "type": "scattergeo"
           }
          ],
          "scattergl": [
           {
            "marker": {
             "colorbar": {
              "outlinewidth": 0,
              "ticks": ""
             }
            },
            "type": "scattergl"
           }
          ],
          "scattermapbox": [
           {
            "marker": {
             "colorbar": {
              "outlinewidth": 0,
              "ticks": ""
             }
            },
            "type": "scattermapbox"
           }
          ],
          "scatterpolar": [
           {
            "marker": {
             "colorbar": {
              "outlinewidth": 0,
              "ticks": ""
             }
            },
            "type": "scatterpolar"
           }
          ],
          "scatterpolargl": [
           {
            "marker": {
             "colorbar": {
              "outlinewidth": 0,
              "ticks": ""
             }
            },
            "type": "scatterpolargl"
           }
          ],
          "scatterternary": [
           {
            "marker": {
             "colorbar": {
              "outlinewidth": 0,
              "ticks": ""
             }
            },
            "type": "scatterternary"
           }
          ],
          "surface": [
           {
            "colorbar": {
             "outlinewidth": 0,
             "ticks": ""
            },
            "colorscale": [
             [
              0,
              "#0d0887"
             ],
             [
              0.1111111111111111,
              "#46039f"
             ],
             [
              0.2222222222222222,
              "#7201a8"
             ],
             [
              0.3333333333333333,
              "#9c179e"
             ],
             [
              0.4444444444444444,
              "#bd3786"
             ],
             [
              0.5555555555555556,
              "#d8576b"
             ],
             [
              0.6666666666666666,
              "#ed7953"
             ],
             [
              0.7777777777777778,
              "#fb9f3a"
             ],
             [
              0.8888888888888888,
              "#fdca26"
             ],
             [
              1,
              "#f0f921"
             ]
            ],
            "type": "surface"
           }
          ],
          "table": [
           {
            "cells": {
             "fill": {
              "color": "#EBF0F8"
             },
             "line": {
              "color": "white"
             }
            },
            "header": {
             "fill": {
              "color": "#C8D4E3"
             },
             "line": {
              "color": "white"
             }
            },
            "type": "table"
           }
          ]
         },
         "layout": {
          "annotationdefaults": {
           "arrowcolor": "#2a3f5f",
           "arrowhead": 0,
           "arrowwidth": 1
          },
          "autotypenumbers": "strict",
          "coloraxis": {
           "colorbar": {
            "outlinewidth": 0,
            "ticks": ""
           }
          },
          "colorscale": {
           "diverging": [
            [
             0,
             "#8e0152"
            ],
            [
             0.1,
             "#c51b7d"
            ],
            [
             0.2,
             "#de77ae"
            ],
            [
             0.3,
             "#f1b6da"
            ],
            [
             0.4,
             "#fde0ef"
            ],
            [
             0.5,
             "#f7f7f7"
            ],
            [
             0.6,
             "#e6f5d0"
            ],
            [
             0.7,
             "#b8e186"
            ],
            [
             0.8,
             "#7fbc41"
            ],
            [
             0.9,
             "#4d9221"
            ],
            [
             1,
             "#276419"
            ]
           ],
           "sequential": [
            [
             0,
             "#0d0887"
            ],
            [
             0.1111111111111111,
             "#46039f"
            ],
            [
             0.2222222222222222,
             "#7201a8"
            ],
            [
             0.3333333333333333,
             "#9c179e"
            ],
            [
             0.4444444444444444,
             "#bd3786"
            ],
            [
             0.5555555555555556,
             "#d8576b"
            ],
            [
             0.6666666666666666,
             "#ed7953"
            ],
            [
             0.7777777777777778,
             "#fb9f3a"
            ],
            [
             0.8888888888888888,
             "#fdca26"
            ],
            [
             1,
             "#f0f921"
            ]
           ],
           "sequentialminus": [
            [
             0,
             "#0d0887"
            ],
            [
             0.1111111111111111,
             "#46039f"
            ],
            [
             0.2222222222222222,
             "#7201a8"
            ],
            [
             0.3333333333333333,
             "#9c179e"
            ],
            [
             0.4444444444444444,
             "#bd3786"
            ],
            [
             0.5555555555555556,
             "#d8576b"
            ],
            [
             0.6666666666666666,
             "#ed7953"
            ],
            [
             0.7777777777777778,
             "#fb9f3a"
            ],
            [
             0.8888888888888888,
             "#fdca26"
            ],
            [
             1,
             "#f0f921"
            ]
           ]
          },
          "colorway": [
           "#636efa",
           "#EF553B",
           "#00cc96",
           "#ab63fa",
           "#FFA15A",
           "#19d3f3",
           "#FF6692",
           "#B6E880",
           "#FF97FF",
           "#FECB52"
          ],
          "font": {
           "color": "#2a3f5f"
          },
          "geo": {
           "bgcolor": "white",
           "lakecolor": "white",
           "landcolor": "#E5ECF6",
           "showlakes": true,
           "showland": true,
           "subunitcolor": "white"
          },
          "hoverlabel": {
           "align": "left"
          },
          "hovermode": "closest",
          "mapbox": {
           "style": "light"
          },
          "paper_bgcolor": "white",
          "plot_bgcolor": "#E5ECF6",
          "polar": {
           "angularaxis": {
            "gridcolor": "white",
            "linecolor": "white",
            "ticks": ""
           },
           "bgcolor": "#E5ECF6",
           "radialaxis": {
            "gridcolor": "white",
            "linecolor": "white",
            "ticks": ""
           }
          },
          "scene": {
           "xaxis": {
            "backgroundcolor": "#E5ECF6",
            "gridcolor": "white",
            "gridwidth": 2,
            "linecolor": "white",
            "showbackground": true,
            "ticks": "",
            "zerolinecolor": "white"
           },
           "yaxis": {
            "backgroundcolor": "#E5ECF6",
            "gridcolor": "white",
            "gridwidth": 2,
            "linecolor": "white",
            "showbackground": true,
            "ticks": "",
            "zerolinecolor": "white"
           },
           "zaxis": {
            "backgroundcolor": "#E5ECF6",
            "gridcolor": "white",
            "gridwidth": 2,
            "linecolor": "white",
            "showbackground": true,
            "ticks": "",
            "zerolinecolor": "white"
           }
          },
          "shapedefaults": {
           "line": {
            "color": "#2a3f5f"
           }
          },
          "ternary": {
           "aaxis": {
            "gridcolor": "white",
            "linecolor": "white",
            "ticks": ""
           },
           "baxis": {
            "gridcolor": "white",
            "linecolor": "white",
            "ticks": ""
           },
           "bgcolor": "#E5ECF6",
           "caxis": {
            "gridcolor": "white",
            "linecolor": "white",
            "ticks": ""
           }
          },
          "title": {
           "x": 0.05
          },
          "xaxis": {
           "automargin": true,
           "gridcolor": "white",
           "linecolor": "white",
           "ticks": "",
           "title": {
            "standoff": 15
           },
           "zerolinecolor": "white",
           "zerolinewidth": 2
          },
          "yaxis": {
           "automargin": true,
           "gridcolor": "white",
           "linecolor": "white",
           "ticks": "",
           "title": {
            "standoff": 15
           },
           "zerolinecolor": "white",
           "zerolinewidth": 2
          }
         }
        },
        "xaxis": {
         "dtick": 1,
         "gridcolor": "rgb(0, 0, 0)",
         "side": "top",
         "ticks": ""
        },
        "yaxis": {
         "dtick": 1,
         "ticks": "",
         "ticksuffix": "  "
        }
       }
      },
      "text/html": [
       "<div>                            <div id=\"6aa2ea87-d35a-4c66-89c8-d87fabbc23d3\" class=\"plotly-graph-div\" style=\"height:525px; width:100%;\"></div>            <script type=\"text/javascript\">                require([\"plotly\"], function(Plotly) {                    window.PLOTLYENV=window.PLOTLYENV || {};                                    if (document.getElementById(\"6aa2ea87-d35a-4c66-89c8-d87fabbc23d3\")) {                    Plotly.newPlot(                        \"6aa2ea87-d35a-4c66-89c8-d87fabbc23d3\",                        [{\"colorscale\":[[0.0,\"#440154\"],[0.1111111111111111,\"#482878\"],[0.2222222222222222,\"#3e4989\"],[0.3333333333333333,\"#31688e\"],[0.4444444444444444,\"#26828e\"],[0.5555555555555556,\"#1f9e89\"],[0.6666666666666666,\"#35b779\"],[0.7777777777777778,\"#6ece58\"],[0.8888888888888888,\"#b5de2b\"],[1.0,\"#fde725\"]],\"reversescale\":false,\"showscale\":true,\"x\":[\"^RUT\",\"ES=F\",\"ZN=F\",\"^DJI\",\"^GSPC\",\"^RUT_30_avg\",\"^RUT_30_ratio\",\"^RUT_60_avg\",\"^RUT_60_ratio\",\"^RUT_90_avg\",\"^RUT_90_ratio\",\"^RUT_120_avg\",\"^RUT_120_ratio\",\"^RUT_252_avg\",\"^RUT_252_ratio\",\"^RUT_365_avg\",\"^RUT_365_ratio\"],\"y\":[\"^RUT\",\"ES=F\",\"ZN=F\",\"^DJI\",\"^GSPC\",\"^RUT_30_avg\",\"^RUT_30_ratio\",\"^RUT_60_avg\",\"^RUT_60_ratio\",\"^RUT_90_avg\",\"^RUT_90_ratio\",\"^RUT_120_avg\",\"^RUT_120_ratio\",\"^RUT_252_avg\",\"^RUT_252_ratio\",\"^RUT_365_avg\",\"^RUT_365_ratio\"],\"z\":[[1.0,0.9576222770914766,0.3664207385219132,0.9802979536772571,0.9680063840032542,0.9977768832519955,0.02293629464169464,0.9956870402755137,0.022641471182255377,0.9937104115329618,0.022077233329551915,0.9917828894299812,0.02623151569862008,0.981372232442972,0.04710891722564897,0.9748058053609857,0.046393141596572714],[0.9576222770914766,1.0,0.20043559473738903,0.9932032681100207,0.9999723206445166,0.9545606342515794,0.01615169456777262,0.9533287427874217,0.05009422461525888,0.9538575493022713,0.06401415321675052,0.9541895337595957,0.07271887963108827,0.9637805664431208,0.09764778697801355,0.9595988534769074,0.10437829941342035],[0.3664207385219132,0.20043559473738903,1.0,0.25353235913216965,0.20505379757623624,0.30066619449453846,0.05749988149156104,0.2369949720323201,0.1015380694093423,0.2107738749371851,0.1231376236268121,0.20551908178635164,0.1287475336907063,0.19353577295557534,0.2181610569253035,0.1503126510266997,0.24055564323185935],[0.9802979536772571,0.9932032681100207,0.25353235913216965,1.0,0.9927361502778989,0.9799118433404665,-0.006253096621075818,0.9801145717476294,-0.0025805351211825225,0.9803713976986798,-0.007404153168532828,0.9802594162672268,-0.009947450240188824,0.9809364016126315,-0.03417471023713917,0.9797646089756757,-0.06087097096385368],[0.9680063840032542,0.9999723206445166,0.20505379757623624,0.9927361502778989,1.0,0.9673010077440439,0.006114282506504908,0.9672048769910652,-0.004234650127591595,0.9675620061041859,-0.013879201975814826,0.9677260542379443,-0.015196900966738074,0.9732886017729674,-0.02364152956735682,0.9709220495121812,-0.031900551839579815],[0.9977768832519955,0.9545606342515794,0.30066619449453846,0.9799118433404665,0.9673010077440439,1.0,-0.031013248656435583,0.9989109937939755,-0.024503654231411993,0.9972021932397115,-0.018826695769047476,0.9954154568730258,-0.010553762255899348,0.9855825332219862,0.018429146220183684,0.9786580831534726,0.02234384491504597],[0.02293629464169464,0.01615169456777262,0.05749988149156104,-0.006253096621075818,0.006114282506504908,-0.031013248656435583,1.0,-0.05153614489472905,0.8693322679203257,-0.0532626462193251,0.7464300113854285,-0.05067282012063145,0.6637479104597767,-0.05865195136395691,0.46588920677695356,-0.054997800515565,0.3916769996795148],[0.9956870402755137,0.9533287427874217,0.2369949720323201,0.9801145717476294,0.9672048769910652,0.9989109937939755,-0.05153614489472905,1.0,-0.052962502709237365,0.9993061161720553,-0.049787964786023854,0.9979873221725442,-0.04065381728150579,0.9893207207556598,-0.008332901937787953,0.9822275698281727,-0.0004967260316140965],[0.022641471182255377,0.05009422461525888,0.1015380694093423,-0.0025805351211825225,-0.004234650127591595,-0.024503654231411993,0.8693322679203257,-0.052962502709237365,1.0,-0.0696484906034982,0.9425741213585012,-0.06968064929885374,0.8693645634188747,-0.08018212060909535,0.6431721406765636,-0.07910096772227923,0.5459338778505813],[0.9937104115329618,0.9538575493022713,0.2107738749371851,0.9803713976986798,0.9675620061041859,0.9972021932397115,-0.0532626462193251,0.9993061161720553,-0.0696484906034982,1.0,-0.06886269366706332,0.9994976294625116,-0.06271010103512935,0.9924325857543407,-0.031477515648924675,0.9853909370362888,-0.020768769071610918],[0.022077233329551915,0.06401415321675052,0.1231376236268121,-0.007404153168532828,-0.013879201975814826,-0.018826695769047476,0.7464300113854285,-0.049787964786023854,0.9425741213585012,-0.06886269366706332,1.0,-0.07885078580074169,0.9699447436493106,-0.09364175358572076,0.7649212178355633,-0.09567355103202646,0.6558592679896402],[0.9917828894299812,0.9541895337595957,0.20551908178635164,0.9802594162672268,0.9677260542379443,0.9954154568730258,-0.05067282012063145,0.9979873221725442,-0.06968064929885374,0.9994976294625116,-0.07885078580074169,1.0,-0.07764556089535413,0.9949677902364092,-0.051564734595938584,0.9882424736688779,-0.03926941927771791],[0.02623151569862008,0.07271887963108827,0.1287475336907063,-0.009947450240188824,-0.015196900966738074,-0.010553762255899348,0.6637479104597767,-0.04065381728150579,0.8693645634188747,-0.06271010103512935,0.9699447436493106,-0.07764556089535413,1.0,-0.10170032206623257,0.8494731984521391,-0.10650711670869374,0.737117447548022],[0.981372232442972,0.9637805664431208,0.19353577295557534,0.9809364016126315,0.9732886017729674,0.9855825332219862,-0.05865195136395691,0.9893207207556598,-0.08018212060909535,0.9924325857543407,-0.09364175358572076,0.9949677902364092,-0.10170032206623257,1.0,-0.1134991741438246,0.9974561087706042,-0.10778003639003211],[0.04710891722564897,0.09764778697801355,0.2181610569253035,-0.03417471023713917,-0.02364152956735682,0.018429146220183684,0.46588920677695356,-0.008332901937787953,0.6431721406765636,-0.031477515648924675,0.7649212178355633,-0.051564734595938584,0.8494731984521391,-0.1134991741438246,1.0,-0.1305728752331708,0.9507224317626713],[0.9748058053609857,0.9595988534769074,0.1503126510266997,0.9797646089756757,0.9709220495121812,0.9786580831534726,-0.054997800515565,0.9822275698281727,-0.07910096772227923,0.9853909370362888,-0.09567355103202646,0.9882424736688779,-0.10650711670869374,0.9974561087706042,-0.1305728752331708,1.0,-0.1401160110037742],[0.046393141596572714,0.10437829941342035,0.24055564323185935,-0.06087097096385368,-0.031900551839579815,0.02234384491504597,0.3916769996795148,-0.0004967260316140965,0.5459338778505813,-0.020768769071610918,0.6558592679896402,-0.03926941927771791,0.737117447548022,-0.10778003639003211,0.9507224317626713,-0.1401160110037742,1.0]],\"type\":\"heatmap\"}],                        {\"annotations\":[{\"font\":{\"color\":\"#000000\"},\"showarrow\":false,\"text\":\"1.0\",\"x\":\"^RUT\",\"xref\":\"x\",\"y\":\"^RUT\",\"yref\":\"y\"},{\"font\":{\"color\":\"#000000\"},\"showarrow\":false,\"text\":\"0.9576222770914766\",\"x\":\"ES=F\",\"xref\":\"x\",\"y\":\"^RUT\",\"yref\":\"y\"},{\"font\":{\"color\":\"#FFFFFF\"},\"showarrow\":false,\"text\":\"0.3664207385219132\",\"x\":\"ZN=F\",\"xref\":\"x\",\"y\":\"^RUT\",\"yref\":\"y\"},{\"font\":{\"color\":\"#000000\"},\"showarrow\":false,\"text\":\"0.9802979536772571\",\"x\":\"^DJI\",\"xref\":\"x\",\"y\":\"^RUT\",\"yref\":\"y\"},{\"font\":{\"color\":\"#000000\"},\"showarrow\":false,\"text\":\"0.9680063840032542\",\"x\":\"^GSPC\",\"xref\":\"x\",\"y\":\"^RUT\",\"yref\":\"y\"},{\"font\":{\"color\":\"#000000\"},\"showarrow\":false,\"text\":\"0.9977768832519955\",\"x\":\"^RUT_30_avg\",\"xref\":\"x\",\"y\":\"^RUT\",\"yref\":\"y\"},{\"font\":{\"color\":\"#FFFFFF\"},\"showarrow\":false,\"text\":\"0.02293629464169464\",\"x\":\"^RUT_30_ratio\",\"xref\":\"x\",\"y\":\"^RUT\",\"yref\":\"y\"},{\"font\":{\"color\":\"#000000\"},\"showarrow\":false,\"text\":\"0.9956870402755137\",\"x\":\"^RUT_60_avg\",\"xref\":\"x\",\"y\":\"^RUT\",\"yref\":\"y\"},{\"font\":{\"color\":\"#FFFFFF\"},\"showarrow\":false,\"text\":\"0.022641471182255377\",\"x\":\"^RUT_60_ratio\",\"xref\":\"x\",\"y\":\"^RUT\",\"yref\":\"y\"},{\"font\":{\"color\":\"#000000\"},\"showarrow\":false,\"text\":\"0.9937104115329618\",\"x\":\"^RUT_90_avg\",\"xref\":\"x\",\"y\":\"^RUT\",\"yref\":\"y\"},{\"font\":{\"color\":\"#FFFFFF\"},\"showarrow\":false,\"text\":\"0.022077233329551915\",\"x\":\"^RUT_90_ratio\",\"xref\":\"x\",\"y\":\"^RUT\",\"yref\":\"y\"},{\"font\":{\"color\":\"#000000\"},\"showarrow\":false,\"text\":\"0.9917828894299812\",\"x\":\"^RUT_120_avg\",\"xref\":\"x\",\"y\":\"^RUT\",\"yref\":\"y\"},{\"font\":{\"color\":\"#FFFFFF\"},\"showarrow\":false,\"text\":\"0.02623151569862008\",\"x\":\"^RUT_120_ratio\",\"xref\":\"x\",\"y\":\"^RUT\",\"yref\":\"y\"},{\"font\":{\"color\":\"#000000\"},\"showarrow\":false,\"text\":\"0.981372232442972\",\"x\":\"^RUT_252_avg\",\"xref\":\"x\",\"y\":\"^RUT\",\"yref\":\"y\"},{\"font\":{\"color\":\"#FFFFFF\"},\"showarrow\":false,\"text\":\"0.04710891722564897\",\"x\":\"^RUT_252_ratio\",\"xref\":\"x\",\"y\":\"^RUT\",\"yref\":\"y\"},{\"font\":{\"color\":\"#000000\"},\"showarrow\":false,\"text\":\"0.9748058053609857\",\"x\":\"^RUT_365_avg\",\"xref\":\"x\",\"y\":\"^RUT\",\"yref\":\"y\"},{\"font\":{\"color\":\"#FFFFFF\"},\"showarrow\":false,\"text\":\"0.046393141596572714\",\"x\":\"^RUT_365_ratio\",\"xref\":\"x\",\"y\":\"^RUT\",\"yref\":\"y\"},{\"font\":{\"color\":\"#000000\"},\"showarrow\":false,\"text\":\"0.9576222770914766\",\"x\":\"^RUT\",\"xref\":\"x\",\"y\":\"ES=F\",\"yref\":\"y\"},{\"font\":{\"color\":\"#000000\"},\"showarrow\":false,\"text\":\"1.0\",\"x\":\"ES=F\",\"xref\":\"x\",\"y\":\"ES=F\",\"yref\":\"y\"},{\"font\":{\"color\":\"#FFFFFF\"},\"showarrow\":false,\"text\":\"0.20043559473738903\",\"x\":\"ZN=F\",\"xref\":\"x\",\"y\":\"ES=F\",\"yref\":\"y\"},{\"font\":{\"color\":\"#000000\"},\"showarrow\":false,\"text\":\"0.9932032681100207\",\"x\":\"^DJI\",\"xref\":\"x\",\"y\":\"ES=F\",\"yref\":\"y\"},{\"font\":{\"color\":\"#000000\"},\"showarrow\":false,\"text\":\"0.9999723206445166\",\"x\":\"^GSPC\",\"xref\":\"x\",\"y\":\"ES=F\",\"yref\":\"y\"},{\"font\":{\"color\":\"#000000\"},\"showarrow\":false,\"text\":\"0.9545606342515794\",\"x\":\"^RUT_30_avg\",\"xref\":\"x\",\"y\":\"ES=F\",\"yref\":\"y\"},{\"font\":{\"color\":\"#FFFFFF\"},\"showarrow\":false,\"text\":\"0.01615169456777262\",\"x\":\"^RUT_30_ratio\",\"xref\":\"x\",\"y\":\"ES=F\",\"yref\":\"y\"},{\"font\":{\"color\":\"#000000\"},\"showarrow\":false,\"text\":\"0.9533287427874217\",\"x\":\"^RUT_60_avg\",\"xref\":\"x\",\"y\":\"ES=F\",\"yref\":\"y\"},{\"font\":{\"color\":\"#FFFFFF\"},\"showarrow\":false,\"text\":\"0.05009422461525888\",\"x\":\"^RUT_60_ratio\",\"xref\":\"x\",\"y\":\"ES=F\",\"yref\":\"y\"},{\"font\":{\"color\":\"#000000\"},\"showarrow\":false,\"text\":\"0.9538575493022713\",\"x\":\"^RUT_90_avg\",\"xref\":\"x\",\"y\":\"ES=F\",\"yref\":\"y\"},{\"font\":{\"color\":\"#FFFFFF\"},\"showarrow\":false,\"text\":\"0.06401415321675052\",\"x\":\"^RUT_90_ratio\",\"xref\":\"x\",\"y\":\"ES=F\",\"yref\":\"y\"},{\"font\":{\"color\":\"#000000\"},\"showarrow\":false,\"text\":\"0.9541895337595957\",\"x\":\"^RUT_120_avg\",\"xref\":\"x\",\"y\":\"ES=F\",\"yref\":\"y\"},{\"font\":{\"color\":\"#FFFFFF\"},\"showarrow\":false,\"text\":\"0.07271887963108827\",\"x\":\"^RUT_120_ratio\",\"xref\":\"x\",\"y\":\"ES=F\",\"yref\":\"y\"},{\"font\":{\"color\":\"#000000\"},\"showarrow\":false,\"text\":\"0.9637805664431208\",\"x\":\"^RUT_252_avg\",\"xref\":\"x\",\"y\":\"ES=F\",\"yref\":\"y\"},{\"font\":{\"color\":\"#FFFFFF\"},\"showarrow\":false,\"text\":\"0.09764778697801355\",\"x\":\"^RUT_252_ratio\",\"xref\":\"x\",\"y\":\"ES=F\",\"yref\":\"y\"},{\"font\":{\"color\":\"#000000\"},\"showarrow\":false,\"text\":\"0.9595988534769074\",\"x\":\"^RUT_365_avg\",\"xref\":\"x\",\"y\":\"ES=F\",\"yref\":\"y\"},{\"font\":{\"color\":\"#FFFFFF\"},\"showarrow\":false,\"text\":\"0.10437829941342035\",\"x\":\"^RUT_365_ratio\",\"xref\":\"x\",\"y\":\"ES=F\",\"yref\":\"y\"},{\"font\":{\"color\":\"#FFFFFF\"},\"showarrow\":false,\"text\":\"0.3664207385219132\",\"x\":\"^RUT\",\"xref\":\"x\",\"y\":\"ZN=F\",\"yref\":\"y\"},{\"font\":{\"color\":\"#FFFFFF\"},\"showarrow\":false,\"text\":\"0.20043559473738903\",\"x\":\"ES=F\",\"xref\":\"x\",\"y\":\"ZN=F\",\"yref\":\"y\"},{\"font\":{\"color\":\"#000000\"},\"showarrow\":false,\"text\":\"1.0\",\"x\":\"ZN=F\",\"xref\":\"x\",\"y\":\"ZN=F\",\"yref\":\"y\"},{\"font\":{\"color\":\"#FFFFFF\"},\"showarrow\":false,\"text\":\"0.25353235913216965\",\"x\":\"^DJI\",\"xref\":\"x\",\"y\":\"ZN=F\",\"yref\":\"y\"},{\"font\":{\"color\":\"#FFFFFF\"},\"showarrow\":false,\"text\":\"0.20505379757623624\",\"x\":\"^GSPC\",\"xref\":\"x\",\"y\":\"ZN=F\",\"yref\":\"y\"},{\"font\":{\"color\":\"#FFFFFF\"},\"showarrow\":false,\"text\":\"0.30066619449453846\",\"x\":\"^RUT_30_avg\",\"xref\":\"x\",\"y\":\"ZN=F\",\"yref\":\"y\"},{\"font\":{\"color\":\"#FFFFFF\"},\"showarrow\":false,\"text\":\"0.05749988149156104\",\"x\":\"^RUT_30_ratio\",\"xref\":\"x\",\"y\":\"ZN=F\",\"yref\":\"y\"},{\"font\":{\"color\":\"#FFFFFF\"},\"showarrow\":false,\"text\":\"0.2369949720323201\",\"x\":\"^RUT_60_avg\",\"xref\":\"x\",\"y\":\"ZN=F\",\"yref\":\"y\"},{\"font\":{\"color\":\"#FFFFFF\"},\"showarrow\":false,\"text\":\"0.1015380694093423\",\"x\":\"^RUT_60_ratio\",\"xref\":\"x\",\"y\":\"ZN=F\",\"yref\":\"y\"},{\"font\":{\"color\":\"#FFFFFF\"},\"showarrow\":false,\"text\":\"0.2107738749371851\",\"x\":\"^RUT_90_avg\",\"xref\":\"x\",\"y\":\"ZN=F\",\"yref\":\"y\"},{\"font\":{\"color\":\"#FFFFFF\"},\"showarrow\":false,\"text\":\"0.1231376236268121\",\"x\":\"^RUT_90_ratio\",\"xref\":\"x\",\"y\":\"ZN=F\",\"yref\":\"y\"},{\"font\":{\"color\":\"#FFFFFF\"},\"showarrow\":false,\"text\":\"0.20551908178635164\",\"x\":\"^RUT_120_avg\",\"xref\":\"x\",\"y\":\"ZN=F\",\"yref\":\"y\"},{\"font\":{\"color\":\"#FFFFFF\"},\"showarrow\":false,\"text\":\"0.1287475336907063\",\"x\":\"^RUT_120_ratio\",\"xref\":\"x\",\"y\":\"ZN=F\",\"yref\":\"y\"},{\"font\":{\"color\":\"#FFFFFF\"},\"showarrow\":false,\"text\":\"0.19353577295557534\",\"x\":\"^RUT_252_avg\",\"xref\":\"x\",\"y\":\"ZN=F\",\"yref\":\"y\"},{\"font\":{\"color\":\"#FFFFFF\"},\"showarrow\":false,\"text\":\"0.2181610569253035\",\"x\":\"^RUT_252_ratio\",\"xref\":\"x\",\"y\":\"ZN=F\",\"yref\":\"y\"},{\"font\":{\"color\":\"#FFFFFF\"},\"showarrow\":false,\"text\":\"0.1503126510266997\",\"x\":\"^RUT_365_avg\",\"xref\":\"x\",\"y\":\"ZN=F\",\"yref\":\"y\"},{\"font\":{\"color\":\"#FFFFFF\"},\"showarrow\":false,\"text\":\"0.24055564323185935\",\"x\":\"^RUT_365_ratio\",\"xref\":\"x\",\"y\":\"ZN=F\",\"yref\":\"y\"},{\"font\":{\"color\":\"#000000\"},\"showarrow\":false,\"text\":\"0.9802979536772571\",\"x\":\"^RUT\",\"xref\":\"x\",\"y\":\"^DJI\",\"yref\":\"y\"},{\"font\":{\"color\":\"#000000\"},\"showarrow\":false,\"text\":\"0.9932032681100207\",\"x\":\"ES=F\",\"xref\":\"x\",\"y\":\"^DJI\",\"yref\":\"y\"},{\"font\":{\"color\":\"#FFFFFF\"},\"showarrow\":false,\"text\":\"0.25353235913216965\",\"x\":\"ZN=F\",\"xref\":\"x\",\"y\":\"^DJI\",\"yref\":\"y\"},{\"font\":{\"color\":\"#000000\"},\"showarrow\":false,\"text\":\"1.0\",\"x\":\"^DJI\",\"xref\":\"x\",\"y\":\"^DJI\",\"yref\":\"y\"},{\"font\":{\"color\":\"#000000\"},\"showarrow\":false,\"text\":\"0.9927361502778989\",\"x\":\"^GSPC\",\"xref\":\"x\",\"y\":\"^DJI\",\"yref\":\"y\"},{\"font\":{\"color\":\"#000000\"},\"showarrow\":false,\"text\":\"0.9799118433404665\",\"x\":\"^RUT_30_avg\",\"xref\":\"x\",\"y\":\"^DJI\",\"yref\":\"y\"},{\"font\":{\"color\":\"#FFFFFF\"},\"showarrow\":false,\"text\":\"-0.006253096621075818\",\"x\":\"^RUT_30_ratio\",\"xref\":\"x\",\"y\":\"^DJI\",\"yref\":\"y\"},{\"font\":{\"color\":\"#000000\"},\"showarrow\":false,\"text\":\"0.9801145717476294\",\"x\":\"^RUT_60_avg\",\"xref\":\"x\",\"y\":\"^DJI\",\"yref\":\"y\"},{\"font\":{\"color\":\"#FFFFFF\"},\"showarrow\":false,\"text\":\"-0.0025805351211825225\",\"x\":\"^RUT_60_ratio\",\"xref\":\"x\",\"y\":\"^DJI\",\"yref\":\"y\"},{\"font\":{\"color\":\"#000000\"},\"showarrow\":false,\"text\":\"0.9803713976986798\",\"x\":\"^RUT_90_avg\",\"xref\":\"x\",\"y\":\"^DJI\",\"yref\":\"y\"},{\"font\":{\"color\":\"#FFFFFF\"},\"showarrow\":false,\"text\":\"-0.007404153168532828\",\"x\":\"^RUT_90_ratio\",\"xref\":\"x\",\"y\":\"^DJI\",\"yref\":\"y\"},{\"font\":{\"color\":\"#000000\"},\"showarrow\":false,\"text\":\"0.9802594162672268\",\"x\":\"^RUT_120_avg\",\"xref\":\"x\",\"y\":\"^DJI\",\"yref\":\"y\"},{\"font\":{\"color\":\"#FFFFFF\"},\"showarrow\":false,\"text\":\"-0.009947450240188824\",\"x\":\"^RUT_120_ratio\",\"xref\":\"x\",\"y\":\"^DJI\",\"yref\":\"y\"},{\"font\":{\"color\":\"#000000\"},\"showarrow\":false,\"text\":\"0.9809364016126315\",\"x\":\"^RUT_252_avg\",\"xref\":\"x\",\"y\":\"^DJI\",\"yref\":\"y\"},{\"font\":{\"color\":\"#FFFFFF\"},\"showarrow\":false,\"text\":\"-0.03417471023713917\",\"x\":\"^RUT_252_ratio\",\"xref\":\"x\",\"y\":\"^DJI\",\"yref\":\"y\"},{\"font\":{\"color\":\"#000000\"},\"showarrow\":false,\"text\":\"0.9797646089756757\",\"x\":\"^RUT_365_avg\",\"xref\":\"x\",\"y\":\"^DJI\",\"yref\":\"y\"},{\"font\":{\"color\":\"#FFFFFF\"},\"showarrow\":false,\"text\":\"-0.06087097096385368\",\"x\":\"^RUT_365_ratio\",\"xref\":\"x\",\"y\":\"^DJI\",\"yref\":\"y\"},{\"font\":{\"color\":\"#000000\"},\"showarrow\":false,\"text\":\"0.9680063840032542\",\"x\":\"^RUT\",\"xref\":\"x\",\"y\":\"^GSPC\",\"yref\":\"y\"},{\"font\":{\"color\":\"#000000\"},\"showarrow\":false,\"text\":\"0.9999723206445166\",\"x\":\"ES=F\",\"xref\":\"x\",\"y\":\"^GSPC\",\"yref\":\"y\"},{\"font\":{\"color\":\"#FFFFFF\"},\"showarrow\":false,\"text\":\"0.20505379757623624\",\"x\":\"ZN=F\",\"xref\":\"x\",\"y\":\"^GSPC\",\"yref\":\"y\"},{\"font\":{\"color\":\"#000000\"},\"showarrow\":false,\"text\":\"0.9927361502778989\",\"x\":\"^DJI\",\"xref\":\"x\",\"y\":\"^GSPC\",\"yref\":\"y\"},{\"font\":{\"color\":\"#000000\"},\"showarrow\":false,\"text\":\"1.0\",\"x\":\"^GSPC\",\"xref\":\"x\",\"y\":\"^GSPC\",\"yref\":\"y\"},{\"font\":{\"color\":\"#000000\"},\"showarrow\":false,\"text\":\"0.9673010077440439\",\"x\":\"^RUT_30_avg\",\"xref\":\"x\",\"y\":\"^GSPC\",\"yref\":\"y\"},{\"font\":{\"color\":\"#FFFFFF\"},\"showarrow\":false,\"text\":\"0.006114282506504908\",\"x\":\"^RUT_30_ratio\",\"xref\":\"x\",\"y\":\"^GSPC\",\"yref\":\"y\"},{\"font\":{\"color\":\"#000000\"},\"showarrow\":false,\"text\":\"0.9672048769910652\",\"x\":\"^RUT_60_avg\",\"xref\":\"x\",\"y\":\"^GSPC\",\"yref\":\"y\"},{\"font\":{\"color\":\"#FFFFFF\"},\"showarrow\":false,\"text\":\"-0.004234650127591595\",\"x\":\"^RUT_60_ratio\",\"xref\":\"x\",\"y\":\"^GSPC\",\"yref\":\"y\"},{\"font\":{\"color\":\"#000000\"},\"showarrow\":false,\"text\":\"0.9675620061041859\",\"x\":\"^RUT_90_avg\",\"xref\":\"x\",\"y\":\"^GSPC\",\"yref\":\"y\"},{\"font\":{\"color\":\"#FFFFFF\"},\"showarrow\":false,\"text\":\"-0.013879201975814826\",\"x\":\"^RUT_90_ratio\",\"xref\":\"x\",\"y\":\"^GSPC\",\"yref\":\"y\"},{\"font\":{\"color\":\"#000000\"},\"showarrow\":false,\"text\":\"0.9677260542379443\",\"x\":\"^RUT_120_avg\",\"xref\":\"x\",\"y\":\"^GSPC\",\"yref\":\"y\"},{\"font\":{\"color\":\"#FFFFFF\"},\"showarrow\":false,\"text\":\"-0.015196900966738074\",\"x\":\"^RUT_120_ratio\",\"xref\":\"x\",\"y\":\"^GSPC\",\"yref\":\"y\"},{\"font\":{\"color\":\"#000000\"},\"showarrow\":false,\"text\":\"0.9732886017729674\",\"x\":\"^RUT_252_avg\",\"xref\":\"x\",\"y\":\"^GSPC\",\"yref\":\"y\"},{\"font\":{\"color\":\"#FFFFFF\"},\"showarrow\":false,\"text\":\"-0.02364152956735682\",\"x\":\"^RUT_252_ratio\",\"xref\":\"x\",\"y\":\"^GSPC\",\"yref\":\"y\"},{\"font\":{\"color\":\"#000000\"},\"showarrow\":false,\"text\":\"0.9709220495121812\",\"x\":\"^RUT_365_avg\",\"xref\":\"x\",\"y\":\"^GSPC\",\"yref\":\"y\"},{\"font\":{\"color\":\"#FFFFFF\"},\"showarrow\":false,\"text\":\"-0.031900551839579815\",\"x\":\"^RUT_365_ratio\",\"xref\":\"x\",\"y\":\"^GSPC\",\"yref\":\"y\"},{\"font\":{\"color\":\"#000000\"},\"showarrow\":false,\"text\":\"0.9977768832519955\",\"x\":\"^RUT\",\"xref\":\"x\",\"y\":\"^RUT_30_avg\",\"yref\":\"y\"},{\"font\":{\"color\":\"#000000\"},\"showarrow\":false,\"text\":\"0.9545606342515794\",\"x\":\"ES=F\",\"xref\":\"x\",\"y\":\"^RUT_30_avg\",\"yref\":\"y\"},{\"font\":{\"color\":\"#FFFFFF\"},\"showarrow\":false,\"text\":\"0.30066619449453846\",\"x\":\"ZN=F\",\"xref\":\"x\",\"y\":\"^RUT_30_avg\",\"yref\":\"y\"},{\"font\":{\"color\":\"#000000\"},\"showarrow\":false,\"text\":\"0.9799118433404665\",\"x\":\"^DJI\",\"xref\":\"x\",\"y\":\"^RUT_30_avg\",\"yref\":\"y\"},{\"font\":{\"color\":\"#000000\"},\"showarrow\":false,\"text\":\"0.9673010077440439\",\"x\":\"^GSPC\",\"xref\":\"x\",\"y\":\"^RUT_30_avg\",\"yref\":\"y\"},{\"font\":{\"color\":\"#000000\"},\"showarrow\":false,\"text\":\"1.0\",\"x\":\"^RUT_30_avg\",\"xref\":\"x\",\"y\":\"^RUT_30_avg\",\"yref\":\"y\"},{\"font\":{\"color\":\"#FFFFFF\"},\"showarrow\":false,\"text\":\"-0.031013248656435583\",\"x\":\"^RUT_30_ratio\",\"xref\":\"x\",\"y\":\"^RUT_30_avg\",\"yref\":\"y\"},{\"font\":{\"color\":\"#000000\"},\"showarrow\":false,\"text\":\"0.9989109937939755\",\"x\":\"^RUT_60_avg\",\"xref\":\"x\",\"y\":\"^RUT_30_avg\",\"yref\":\"y\"},{\"font\":{\"color\":\"#FFFFFF\"},\"showarrow\":false,\"text\":\"-0.024503654231411993\",\"x\":\"^RUT_60_ratio\",\"xref\":\"x\",\"y\":\"^RUT_30_avg\",\"yref\":\"y\"},{\"font\":{\"color\":\"#000000\"},\"showarrow\":false,\"text\":\"0.9972021932397115\",\"x\":\"^RUT_90_avg\",\"xref\":\"x\",\"y\":\"^RUT_30_avg\",\"yref\":\"y\"},{\"font\":{\"color\":\"#FFFFFF\"},\"showarrow\":false,\"text\":\"-0.018826695769047476\",\"x\":\"^RUT_90_ratio\",\"xref\":\"x\",\"y\":\"^RUT_30_avg\",\"yref\":\"y\"},{\"font\":{\"color\":\"#000000\"},\"showarrow\":false,\"text\":\"0.9954154568730258\",\"x\":\"^RUT_120_avg\",\"xref\":\"x\",\"y\":\"^RUT_30_avg\",\"yref\":\"y\"},{\"font\":{\"color\":\"#FFFFFF\"},\"showarrow\":false,\"text\":\"-0.010553762255899348\",\"x\":\"^RUT_120_ratio\",\"xref\":\"x\",\"y\":\"^RUT_30_avg\",\"yref\":\"y\"},{\"font\":{\"color\":\"#000000\"},\"showarrow\":false,\"text\":\"0.9855825332219862\",\"x\":\"^RUT_252_avg\",\"xref\":\"x\",\"y\":\"^RUT_30_avg\",\"yref\":\"y\"},{\"font\":{\"color\":\"#FFFFFF\"},\"showarrow\":false,\"text\":\"0.018429146220183684\",\"x\":\"^RUT_252_ratio\",\"xref\":\"x\",\"y\":\"^RUT_30_avg\",\"yref\":\"y\"},{\"font\":{\"color\":\"#000000\"},\"showarrow\":false,\"text\":\"0.9786580831534726\",\"x\":\"^RUT_365_avg\",\"xref\":\"x\",\"y\":\"^RUT_30_avg\",\"yref\":\"y\"},{\"font\":{\"color\":\"#FFFFFF\"},\"showarrow\":false,\"text\":\"0.02234384491504597\",\"x\":\"^RUT_365_ratio\",\"xref\":\"x\",\"y\":\"^RUT_30_avg\",\"yref\":\"y\"},{\"font\":{\"color\":\"#FFFFFF\"},\"showarrow\":false,\"text\":\"0.02293629464169464\",\"x\":\"^RUT\",\"xref\":\"x\",\"y\":\"^RUT_30_ratio\",\"yref\":\"y\"},{\"font\":{\"color\":\"#FFFFFF\"},\"showarrow\":false,\"text\":\"0.01615169456777262\",\"x\":\"ES=F\",\"xref\":\"x\",\"y\":\"^RUT_30_ratio\",\"yref\":\"y\"},{\"font\":{\"color\":\"#FFFFFF\"},\"showarrow\":false,\"text\":\"0.05749988149156104\",\"x\":\"ZN=F\",\"xref\":\"x\",\"y\":\"^RUT_30_ratio\",\"yref\":\"y\"},{\"font\":{\"color\":\"#FFFFFF\"},\"showarrow\":false,\"text\":\"-0.006253096621075818\",\"x\":\"^DJI\",\"xref\":\"x\",\"y\":\"^RUT_30_ratio\",\"yref\":\"y\"},{\"font\":{\"color\":\"#FFFFFF\"},\"showarrow\":false,\"text\":\"0.006114282506504908\",\"x\":\"^GSPC\",\"xref\":\"x\",\"y\":\"^RUT_30_ratio\",\"yref\":\"y\"},{\"font\":{\"color\":\"#FFFFFF\"},\"showarrow\":false,\"text\":\"-0.031013248656435583\",\"x\":\"^RUT_30_avg\",\"xref\":\"x\",\"y\":\"^RUT_30_ratio\",\"yref\":\"y\"},{\"font\":{\"color\":\"#000000\"},\"showarrow\":false,\"text\":\"1.0\",\"x\":\"^RUT_30_ratio\",\"xref\":\"x\",\"y\":\"^RUT_30_ratio\",\"yref\":\"y\"},{\"font\":{\"color\":\"#FFFFFF\"},\"showarrow\":false,\"text\":\"-0.05153614489472905\",\"x\":\"^RUT_60_avg\",\"xref\":\"x\",\"y\":\"^RUT_30_ratio\",\"yref\":\"y\"},{\"font\":{\"color\":\"#000000\"},\"showarrow\":false,\"text\":\"0.8693322679203257\",\"x\":\"^RUT_60_ratio\",\"xref\":\"x\",\"y\":\"^RUT_30_ratio\",\"yref\":\"y\"},{\"font\":{\"color\":\"#FFFFFF\"},\"showarrow\":false,\"text\":\"-0.0532626462193251\",\"x\":\"^RUT_90_avg\",\"xref\":\"x\",\"y\":\"^RUT_30_ratio\",\"yref\":\"y\"},{\"font\":{\"color\":\"#000000\"},\"showarrow\":false,\"text\":\"0.7464300113854285\",\"x\":\"^RUT_90_ratio\",\"xref\":\"x\",\"y\":\"^RUT_30_ratio\",\"yref\":\"y\"},{\"font\":{\"color\":\"#FFFFFF\"},\"showarrow\":false,\"text\":\"-0.05067282012063145\",\"x\":\"^RUT_120_avg\",\"xref\":\"x\",\"y\":\"^RUT_30_ratio\",\"yref\":\"y\"},{\"font\":{\"color\":\"#000000\"},\"showarrow\":false,\"text\":\"0.6637479104597767\",\"x\":\"^RUT_120_ratio\",\"xref\":\"x\",\"y\":\"^RUT_30_ratio\",\"yref\":\"y\"},{\"font\":{\"color\":\"#FFFFFF\"},\"showarrow\":false,\"text\":\"-0.05865195136395691\",\"x\":\"^RUT_252_avg\",\"xref\":\"x\",\"y\":\"^RUT_30_ratio\",\"yref\":\"y\"},{\"font\":{\"color\":\"#000000\"},\"showarrow\":false,\"text\":\"0.46588920677695356\",\"x\":\"^RUT_252_ratio\",\"xref\":\"x\",\"y\":\"^RUT_30_ratio\",\"yref\":\"y\"},{\"font\":{\"color\":\"#FFFFFF\"},\"showarrow\":false,\"text\":\"-0.054997800515565\",\"x\":\"^RUT_365_avg\",\"xref\":\"x\",\"y\":\"^RUT_30_ratio\",\"yref\":\"y\"},{\"font\":{\"color\":\"#FFFFFF\"},\"showarrow\":false,\"text\":\"0.3916769996795148\",\"x\":\"^RUT_365_ratio\",\"xref\":\"x\",\"y\":\"^RUT_30_ratio\",\"yref\":\"y\"},{\"font\":{\"color\":\"#000000\"},\"showarrow\":false,\"text\":\"0.9956870402755137\",\"x\":\"^RUT\",\"xref\":\"x\",\"y\":\"^RUT_60_avg\",\"yref\":\"y\"},{\"font\":{\"color\":\"#000000\"},\"showarrow\":false,\"text\":\"0.9533287427874217\",\"x\":\"ES=F\",\"xref\":\"x\",\"y\":\"^RUT_60_avg\",\"yref\":\"y\"},{\"font\":{\"color\":\"#FFFFFF\"},\"showarrow\":false,\"text\":\"0.2369949720323201\",\"x\":\"ZN=F\",\"xref\":\"x\",\"y\":\"^RUT_60_avg\",\"yref\":\"y\"},{\"font\":{\"color\":\"#000000\"},\"showarrow\":false,\"text\":\"0.9801145717476294\",\"x\":\"^DJI\",\"xref\":\"x\",\"y\":\"^RUT_60_avg\",\"yref\":\"y\"},{\"font\":{\"color\":\"#000000\"},\"showarrow\":false,\"text\":\"0.9672048769910652\",\"x\":\"^GSPC\",\"xref\":\"x\",\"y\":\"^RUT_60_avg\",\"yref\":\"y\"},{\"font\":{\"color\":\"#000000\"},\"showarrow\":false,\"text\":\"0.9989109937939755\",\"x\":\"^RUT_30_avg\",\"xref\":\"x\",\"y\":\"^RUT_60_avg\",\"yref\":\"y\"},{\"font\":{\"color\":\"#FFFFFF\"},\"showarrow\":false,\"text\":\"-0.05153614489472905\",\"x\":\"^RUT_30_ratio\",\"xref\":\"x\",\"y\":\"^RUT_60_avg\",\"yref\":\"y\"},{\"font\":{\"color\":\"#000000\"},\"showarrow\":false,\"text\":\"1.0\",\"x\":\"^RUT_60_avg\",\"xref\":\"x\",\"y\":\"^RUT_60_avg\",\"yref\":\"y\"},{\"font\":{\"color\":\"#FFFFFF\"},\"showarrow\":false,\"text\":\"-0.052962502709237365\",\"x\":\"^RUT_60_ratio\",\"xref\":\"x\",\"y\":\"^RUT_60_avg\",\"yref\":\"y\"},{\"font\":{\"color\":\"#000000\"},\"showarrow\":false,\"text\":\"0.9993061161720553\",\"x\":\"^RUT_90_avg\",\"xref\":\"x\",\"y\":\"^RUT_60_avg\",\"yref\":\"y\"},{\"font\":{\"color\":\"#FFFFFF\"},\"showarrow\":false,\"text\":\"-0.049787964786023854\",\"x\":\"^RUT_90_ratio\",\"xref\":\"x\",\"y\":\"^RUT_60_avg\",\"yref\":\"y\"},{\"font\":{\"color\":\"#000000\"},\"showarrow\":false,\"text\":\"0.9979873221725442\",\"x\":\"^RUT_120_avg\",\"xref\":\"x\",\"y\":\"^RUT_60_avg\",\"yref\":\"y\"},{\"font\":{\"color\":\"#FFFFFF\"},\"showarrow\":false,\"text\":\"-0.04065381728150579\",\"x\":\"^RUT_120_ratio\",\"xref\":\"x\",\"y\":\"^RUT_60_avg\",\"yref\":\"y\"},{\"font\":{\"color\":\"#000000\"},\"showarrow\":false,\"text\":\"0.9893207207556598\",\"x\":\"^RUT_252_avg\",\"xref\":\"x\",\"y\":\"^RUT_60_avg\",\"yref\":\"y\"},{\"font\":{\"color\":\"#FFFFFF\"},\"showarrow\":false,\"text\":\"-0.008332901937787953\",\"x\":\"^RUT_252_ratio\",\"xref\":\"x\",\"y\":\"^RUT_60_avg\",\"yref\":\"y\"},{\"font\":{\"color\":\"#000000\"},\"showarrow\":false,\"text\":\"0.9822275698281727\",\"x\":\"^RUT_365_avg\",\"xref\":\"x\",\"y\":\"^RUT_60_avg\",\"yref\":\"y\"},{\"font\":{\"color\":\"#FFFFFF\"},\"showarrow\":false,\"text\":\"-0.0004967260316140965\",\"x\":\"^RUT_365_ratio\",\"xref\":\"x\",\"y\":\"^RUT_60_avg\",\"yref\":\"y\"},{\"font\":{\"color\":\"#FFFFFF\"},\"showarrow\":false,\"text\":\"0.022641471182255377\",\"x\":\"^RUT\",\"xref\":\"x\",\"y\":\"^RUT_60_ratio\",\"yref\":\"y\"},{\"font\":{\"color\":\"#FFFFFF\"},\"showarrow\":false,\"text\":\"0.05009422461525888\",\"x\":\"ES=F\",\"xref\":\"x\",\"y\":\"^RUT_60_ratio\",\"yref\":\"y\"},{\"font\":{\"color\":\"#FFFFFF\"},\"showarrow\":false,\"text\":\"0.1015380694093423\",\"x\":\"ZN=F\",\"xref\":\"x\",\"y\":\"^RUT_60_ratio\",\"yref\":\"y\"},{\"font\":{\"color\":\"#FFFFFF\"},\"showarrow\":false,\"text\":\"-0.0025805351211825225\",\"x\":\"^DJI\",\"xref\":\"x\",\"y\":\"^RUT_60_ratio\",\"yref\":\"y\"},{\"font\":{\"color\":\"#FFFFFF\"},\"showarrow\":false,\"text\":\"-0.004234650127591595\",\"x\":\"^GSPC\",\"xref\":\"x\",\"y\":\"^RUT_60_ratio\",\"yref\":\"y\"},{\"font\":{\"color\":\"#FFFFFF\"},\"showarrow\":false,\"text\":\"-0.024503654231411993\",\"x\":\"^RUT_30_avg\",\"xref\":\"x\",\"y\":\"^RUT_60_ratio\",\"yref\":\"y\"},{\"font\":{\"color\":\"#000000\"},\"showarrow\":false,\"text\":\"0.8693322679203257\",\"x\":\"^RUT_30_ratio\",\"xref\":\"x\",\"y\":\"^RUT_60_ratio\",\"yref\":\"y\"},{\"font\":{\"color\":\"#FFFFFF\"},\"showarrow\":false,\"text\":\"-0.052962502709237365\",\"x\":\"^RUT_60_avg\",\"xref\":\"x\",\"y\":\"^RUT_60_ratio\",\"yref\":\"y\"},{\"font\":{\"color\":\"#000000\"},\"showarrow\":false,\"text\":\"1.0\",\"x\":\"^RUT_60_ratio\",\"xref\":\"x\",\"y\":\"^RUT_60_ratio\",\"yref\":\"y\"},{\"font\":{\"color\":\"#FFFFFF\"},\"showarrow\":false,\"text\":\"-0.0696484906034982\",\"x\":\"^RUT_90_avg\",\"xref\":\"x\",\"y\":\"^RUT_60_ratio\",\"yref\":\"y\"},{\"font\":{\"color\":\"#000000\"},\"showarrow\":false,\"text\":\"0.9425741213585012\",\"x\":\"^RUT_90_ratio\",\"xref\":\"x\",\"y\":\"^RUT_60_ratio\",\"yref\":\"y\"},{\"font\":{\"color\":\"#FFFFFF\"},\"showarrow\":false,\"text\":\"-0.06968064929885374\",\"x\":\"^RUT_120_avg\",\"xref\":\"x\",\"y\":\"^RUT_60_ratio\",\"yref\":\"y\"},{\"font\":{\"color\":\"#000000\"},\"showarrow\":false,\"text\":\"0.8693645634188747\",\"x\":\"^RUT_120_ratio\",\"xref\":\"x\",\"y\":\"^RUT_60_ratio\",\"yref\":\"y\"},{\"font\":{\"color\":\"#FFFFFF\"},\"showarrow\":false,\"text\":\"-0.08018212060909535\",\"x\":\"^RUT_252_avg\",\"xref\":\"x\",\"y\":\"^RUT_60_ratio\",\"yref\":\"y\"},{\"font\":{\"color\":\"#000000\"},\"showarrow\":false,\"text\":\"0.6431721406765636\",\"x\":\"^RUT_252_ratio\",\"xref\":\"x\",\"y\":\"^RUT_60_ratio\",\"yref\":\"y\"},{\"font\":{\"color\":\"#FFFFFF\"},\"showarrow\":false,\"text\":\"-0.07910096772227923\",\"x\":\"^RUT_365_avg\",\"xref\":\"x\",\"y\":\"^RUT_60_ratio\",\"yref\":\"y\"},{\"font\":{\"color\":\"#000000\"},\"showarrow\":false,\"text\":\"0.5459338778505813\",\"x\":\"^RUT_365_ratio\",\"xref\":\"x\",\"y\":\"^RUT_60_ratio\",\"yref\":\"y\"},{\"font\":{\"color\":\"#000000\"},\"showarrow\":false,\"text\":\"0.9937104115329618\",\"x\":\"^RUT\",\"xref\":\"x\",\"y\":\"^RUT_90_avg\",\"yref\":\"y\"},{\"font\":{\"color\":\"#000000\"},\"showarrow\":false,\"text\":\"0.9538575493022713\",\"x\":\"ES=F\",\"xref\":\"x\",\"y\":\"^RUT_90_avg\",\"yref\":\"y\"},{\"font\":{\"color\":\"#FFFFFF\"},\"showarrow\":false,\"text\":\"0.2107738749371851\",\"x\":\"ZN=F\",\"xref\":\"x\",\"y\":\"^RUT_90_avg\",\"yref\":\"y\"},{\"font\":{\"color\":\"#000000\"},\"showarrow\":false,\"text\":\"0.9803713976986798\",\"x\":\"^DJI\",\"xref\":\"x\",\"y\":\"^RUT_90_avg\",\"yref\":\"y\"},{\"font\":{\"color\":\"#000000\"},\"showarrow\":false,\"text\":\"0.9675620061041859\",\"x\":\"^GSPC\",\"xref\":\"x\",\"y\":\"^RUT_90_avg\",\"yref\":\"y\"},{\"font\":{\"color\":\"#000000\"},\"showarrow\":false,\"text\":\"0.9972021932397115\",\"x\":\"^RUT_30_avg\",\"xref\":\"x\",\"y\":\"^RUT_90_avg\",\"yref\":\"y\"},{\"font\":{\"color\":\"#FFFFFF\"},\"showarrow\":false,\"text\":\"-0.0532626462193251\",\"x\":\"^RUT_30_ratio\",\"xref\":\"x\",\"y\":\"^RUT_90_avg\",\"yref\":\"y\"},{\"font\":{\"color\":\"#000000\"},\"showarrow\":false,\"text\":\"0.9993061161720553\",\"x\":\"^RUT_60_avg\",\"xref\":\"x\",\"y\":\"^RUT_90_avg\",\"yref\":\"y\"},{\"font\":{\"color\":\"#FFFFFF\"},\"showarrow\":false,\"text\":\"-0.0696484906034982\",\"x\":\"^RUT_60_ratio\",\"xref\":\"x\",\"y\":\"^RUT_90_avg\",\"yref\":\"y\"},{\"font\":{\"color\":\"#000000\"},\"showarrow\":false,\"text\":\"1.0\",\"x\":\"^RUT_90_avg\",\"xref\":\"x\",\"y\":\"^RUT_90_avg\",\"yref\":\"y\"},{\"font\":{\"color\":\"#FFFFFF\"},\"showarrow\":false,\"text\":\"-0.06886269366706332\",\"x\":\"^RUT_90_ratio\",\"xref\":\"x\",\"y\":\"^RUT_90_avg\",\"yref\":\"y\"},{\"font\":{\"color\":\"#000000\"},\"showarrow\":false,\"text\":\"0.9994976294625116\",\"x\":\"^RUT_120_avg\",\"xref\":\"x\",\"y\":\"^RUT_90_avg\",\"yref\":\"y\"},{\"font\":{\"color\":\"#FFFFFF\"},\"showarrow\":false,\"text\":\"-0.06271010103512935\",\"x\":\"^RUT_120_ratio\",\"xref\":\"x\",\"y\":\"^RUT_90_avg\",\"yref\":\"y\"},{\"font\":{\"color\":\"#000000\"},\"showarrow\":false,\"text\":\"0.9924325857543407\",\"x\":\"^RUT_252_avg\",\"xref\":\"x\",\"y\":\"^RUT_90_avg\",\"yref\":\"y\"},{\"font\":{\"color\":\"#FFFFFF\"},\"showarrow\":false,\"text\":\"-0.031477515648924675\",\"x\":\"^RUT_252_ratio\",\"xref\":\"x\",\"y\":\"^RUT_90_avg\",\"yref\":\"y\"},{\"font\":{\"color\":\"#000000\"},\"showarrow\":false,\"text\":\"0.9853909370362888\",\"x\":\"^RUT_365_avg\",\"xref\":\"x\",\"y\":\"^RUT_90_avg\",\"yref\":\"y\"},{\"font\":{\"color\":\"#FFFFFF\"},\"showarrow\":false,\"text\":\"-0.020768769071610918\",\"x\":\"^RUT_365_ratio\",\"xref\":\"x\",\"y\":\"^RUT_90_avg\",\"yref\":\"y\"},{\"font\":{\"color\":\"#FFFFFF\"},\"showarrow\":false,\"text\":\"0.022077233329551915\",\"x\":\"^RUT\",\"xref\":\"x\",\"y\":\"^RUT_90_ratio\",\"yref\":\"y\"},{\"font\":{\"color\":\"#FFFFFF\"},\"showarrow\":false,\"text\":\"0.06401415321675052\",\"x\":\"ES=F\",\"xref\":\"x\",\"y\":\"^RUT_90_ratio\",\"yref\":\"y\"},{\"font\":{\"color\":\"#FFFFFF\"},\"showarrow\":false,\"text\":\"0.1231376236268121\",\"x\":\"ZN=F\",\"xref\":\"x\",\"y\":\"^RUT_90_ratio\",\"yref\":\"y\"},{\"font\":{\"color\":\"#FFFFFF\"},\"showarrow\":false,\"text\":\"-0.007404153168532828\",\"x\":\"^DJI\",\"xref\":\"x\",\"y\":\"^RUT_90_ratio\",\"yref\":\"y\"},{\"font\":{\"color\":\"#FFFFFF\"},\"showarrow\":false,\"text\":\"-0.013879201975814826\",\"x\":\"^GSPC\",\"xref\":\"x\",\"y\":\"^RUT_90_ratio\",\"yref\":\"y\"},{\"font\":{\"color\":\"#FFFFFF\"},\"showarrow\":false,\"text\":\"-0.018826695769047476\",\"x\":\"^RUT_30_avg\",\"xref\":\"x\",\"y\":\"^RUT_90_ratio\",\"yref\":\"y\"},{\"font\":{\"color\":\"#000000\"},\"showarrow\":false,\"text\":\"0.7464300113854285\",\"x\":\"^RUT_30_ratio\",\"xref\":\"x\",\"y\":\"^RUT_90_ratio\",\"yref\":\"y\"},{\"font\":{\"color\":\"#FFFFFF\"},\"showarrow\":false,\"text\":\"-0.049787964786023854\",\"x\":\"^RUT_60_avg\",\"xref\":\"x\",\"y\":\"^RUT_90_ratio\",\"yref\":\"y\"},{\"font\":{\"color\":\"#000000\"},\"showarrow\":false,\"text\":\"0.9425741213585012\",\"x\":\"^RUT_60_ratio\",\"xref\":\"x\",\"y\":\"^RUT_90_ratio\",\"yref\":\"y\"},{\"font\":{\"color\":\"#FFFFFF\"},\"showarrow\":false,\"text\":\"-0.06886269366706332\",\"x\":\"^RUT_90_avg\",\"xref\":\"x\",\"y\":\"^RUT_90_ratio\",\"yref\":\"y\"},{\"font\":{\"color\":\"#000000\"},\"showarrow\":false,\"text\":\"1.0\",\"x\":\"^RUT_90_ratio\",\"xref\":\"x\",\"y\":\"^RUT_90_ratio\",\"yref\":\"y\"},{\"font\":{\"color\":\"#FFFFFF\"},\"showarrow\":false,\"text\":\"-0.07885078580074169\",\"x\":\"^RUT_120_avg\",\"xref\":\"x\",\"y\":\"^RUT_90_ratio\",\"yref\":\"y\"},{\"font\":{\"color\":\"#000000\"},\"showarrow\":false,\"text\":\"0.9699447436493106\",\"x\":\"^RUT_120_ratio\",\"xref\":\"x\",\"y\":\"^RUT_90_ratio\",\"yref\":\"y\"},{\"font\":{\"color\":\"#FFFFFF\"},\"showarrow\":false,\"text\":\"-0.09364175358572076\",\"x\":\"^RUT_252_avg\",\"xref\":\"x\",\"y\":\"^RUT_90_ratio\",\"yref\":\"y\"},{\"font\":{\"color\":\"#000000\"},\"showarrow\":false,\"text\":\"0.7649212178355633\",\"x\":\"^RUT_252_ratio\",\"xref\":\"x\",\"y\":\"^RUT_90_ratio\",\"yref\":\"y\"},{\"font\":{\"color\":\"#FFFFFF\"},\"showarrow\":false,\"text\":\"-0.09567355103202646\",\"x\":\"^RUT_365_avg\",\"xref\":\"x\",\"y\":\"^RUT_90_ratio\",\"yref\":\"y\"},{\"font\":{\"color\":\"#000000\"},\"showarrow\":false,\"text\":\"0.6558592679896402\",\"x\":\"^RUT_365_ratio\",\"xref\":\"x\",\"y\":\"^RUT_90_ratio\",\"yref\":\"y\"},{\"font\":{\"color\":\"#000000\"},\"showarrow\":false,\"text\":\"0.9917828894299812\",\"x\":\"^RUT\",\"xref\":\"x\",\"y\":\"^RUT_120_avg\",\"yref\":\"y\"},{\"font\":{\"color\":\"#000000\"},\"showarrow\":false,\"text\":\"0.9541895337595957\",\"x\":\"ES=F\",\"xref\":\"x\",\"y\":\"^RUT_120_avg\",\"yref\":\"y\"},{\"font\":{\"color\":\"#FFFFFF\"},\"showarrow\":false,\"text\":\"0.20551908178635164\",\"x\":\"ZN=F\",\"xref\":\"x\",\"y\":\"^RUT_120_avg\",\"yref\":\"y\"},{\"font\":{\"color\":\"#000000\"},\"showarrow\":false,\"text\":\"0.9802594162672268\",\"x\":\"^DJI\",\"xref\":\"x\",\"y\":\"^RUT_120_avg\",\"yref\":\"y\"},{\"font\":{\"color\":\"#000000\"},\"showarrow\":false,\"text\":\"0.9677260542379443\",\"x\":\"^GSPC\",\"xref\":\"x\",\"y\":\"^RUT_120_avg\",\"yref\":\"y\"},{\"font\":{\"color\":\"#000000\"},\"showarrow\":false,\"text\":\"0.9954154568730258\",\"x\":\"^RUT_30_avg\",\"xref\":\"x\",\"y\":\"^RUT_120_avg\",\"yref\":\"y\"},{\"font\":{\"color\":\"#FFFFFF\"},\"showarrow\":false,\"text\":\"-0.05067282012063145\",\"x\":\"^RUT_30_ratio\",\"xref\":\"x\",\"y\":\"^RUT_120_avg\",\"yref\":\"y\"},{\"font\":{\"color\":\"#000000\"},\"showarrow\":false,\"text\":\"0.9979873221725442\",\"x\":\"^RUT_60_avg\",\"xref\":\"x\",\"y\":\"^RUT_120_avg\",\"yref\":\"y\"},{\"font\":{\"color\":\"#FFFFFF\"},\"showarrow\":false,\"text\":\"-0.06968064929885374\",\"x\":\"^RUT_60_ratio\",\"xref\":\"x\",\"y\":\"^RUT_120_avg\",\"yref\":\"y\"},{\"font\":{\"color\":\"#000000\"},\"showarrow\":false,\"text\":\"0.9994976294625116\",\"x\":\"^RUT_90_avg\",\"xref\":\"x\",\"y\":\"^RUT_120_avg\",\"yref\":\"y\"},{\"font\":{\"color\":\"#FFFFFF\"},\"showarrow\":false,\"text\":\"-0.07885078580074169\",\"x\":\"^RUT_90_ratio\",\"xref\":\"x\",\"y\":\"^RUT_120_avg\",\"yref\":\"y\"},{\"font\":{\"color\":\"#000000\"},\"showarrow\":false,\"text\":\"1.0\",\"x\":\"^RUT_120_avg\",\"xref\":\"x\",\"y\":\"^RUT_120_avg\",\"yref\":\"y\"},{\"font\":{\"color\":\"#FFFFFF\"},\"showarrow\":false,\"text\":\"-0.07764556089535413\",\"x\":\"^RUT_120_ratio\",\"xref\":\"x\",\"y\":\"^RUT_120_avg\",\"yref\":\"y\"},{\"font\":{\"color\":\"#000000\"},\"showarrow\":false,\"text\":\"0.9949677902364092\",\"x\":\"^RUT_252_avg\",\"xref\":\"x\",\"y\":\"^RUT_120_avg\",\"yref\":\"y\"},{\"font\":{\"color\":\"#FFFFFF\"},\"showarrow\":false,\"text\":\"-0.051564734595938584\",\"x\":\"^RUT_252_ratio\",\"xref\":\"x\",\"y\":\"^RUT_120_avg\",\"yref\":\"y\"},{\"font\":{\"color\":\"#000000\"},\"showarrow\":false,\"text\":\"0.9882424736688779\",\"x\":\"^RUT_365_avg\",\"xref\":\"x\",\"y\":\"^RUT_120_avg\",\"yref\":\"y\"},{\"font\":{\"color\":\"#FFFFFF\"},\"showarrow\":false,\"text\":\"-0.03926941927771791\",\"x\":\"^RUT_365_ratio\",\"xref\":\"x\",\"y\":\"^RUT_120_avg\",\"yref\":\"y\"},{\"font\":{\"color\":\"#FFFFFF\"},\"showarrow\":false,\"text\":\"0.02623151569862008\",\"x\":\"^RUT\",\"xref\":\"x\",\"y\":\"^RUT_120_ratio\",\"yref\":\"y\"},{\"font\":{\"color\":\"#FFFFFF\"},\"showarrow\":false,\"text\":\"0.07271887963108827\",\"x\":\"ES=F\",\"xref\":\"x\",\"y\":\"^RUT_120_ratio\",\"yref\":\"y\"},{\"font\":{\"color\":\"#FFFFFF\"},\"showarrow\":false,\"text\":\"0.1287475336907063\",\"x\":\"ZN=F\",\"xref\":\"x\",\"y\":\"^RUT_120_ratio\",\"yref\":\"y\"},{\"font\":{\"color\":\"#FFFFFF\"},\"showarrow\":false,\"text\":\"-0.009947450240188824\",\"x\":\"^DJI\",\"xref\":\"x\",\"y\":\"^RUT_120_ratio\",\"yref\":\"y\"},{\"font\":{\"color\":\"#FFFFFF\"},\"showarrow\":false,\"text\":\"-0.015196900966738074\",\"x\":\"^GSPC\",\"xref\":\"x\",\"y\":\"^RUT_120_ratio\",\"yref\":\"y\"},{\"font\":{\"color\":\"#FFFFFF\"},\"showarrow\":false,\"text\":\"-0.010553762255899348\",\"x\":\"^RUT_30_avg\",\"xref\":\"x\",\"y\":\"^RUT_120_ratio\",\"yref\":\"y\"},{\"font\":{\"color\":\"#000000\"},\"showarrow\":false,\"text\":\"0.6637479104597767\",\"x\":\"^RUT_30_ratio\",\"xref\":\"x\",\"y\":\"^RUT_120_ratio\",\"yref\":\"y\"},{\"font\":{\"color\":\"#FFFFFF\"},\"showarrow\":false,\"text\":\"-0.04065381728150579\",\"x\":\"^RUT_60_avg\",\"xref\":\"x\",\"y\":\"^RUT_120_ratio\",\"yref\":\"y\"},{\"font\":{\"color\":\"#000000\"},\"showarrow\":false,\"text\":\"0.8693645634188747\",\"x\":\"^RUT_60_ratio\",\"xref\":\"x\",\"y\":\"^RUT_120_ratio\",\"yref\":\"y\"},{\"font\":{\"color\":\"#FFFFFF\"},\"showarrow\":false,\"text\":\"-0.06271010103512935\",\"x\":\"^RUT_90_avg\",\"xref\":\"x\",\"y\":\"^RUT_120_ratio\",\"yref\":\"y\"},{\"font\":{\"color\":\"#000000\"},\"showarrow\":false,\"text\":\"0.9699447436493106\",\"x\":\"^RUT_90_ratio\",\"xref\":\"x\",\"y\":\"^RUT_120_ratio\",\"yref\":\"y\"},{\"font\":{\"color\":\"#FFFFFF\"},\"showarrow\":false,\"text\":\"-0.07764556089535413\",\"x\":\"^RUT_120_avg\",\"xref\":\"x\",\"y\":\"^RUT_120_ratio\",\"yref\":\"y\"},{\"font\":{\"color\":\"#000000\"},\"showarrow\":false,\"text\":\"1.0\",\"x\":\"^RUT_120_ratio\",\"xref\":\"x\",\"y\":\"^RUT_120_ratio\",\"yref\":\"y\"},{\"font\":{\"color\":\"#FFFFFF\"},\"showarrow\":false,\"text\":\"-0.10170032206623257\",\"x\":\"^RUT_252_avg\",\"xref\":\"x\",\"y\":\"^RUT_120_ratio\",\"yref\":\"y\"},{\"font\":{\"color\":\"#000000\"},\"showarrow\":false,\"text\":\"0.8494731984521391\",\"x\":\"^RUT_252_ratio\",\"xref\":\"x\",\"y\":\"^RUT_120_ratio\",\"yref\":\"y\"},{\"font\":{\"color\":\"#FFFFFF\"},\"showarrow\":false,\"text\":\"-0.10650711670869374\",\"x\":\"^RUT_365_avg\",\"xref\":\"x\",\"y\":\"^RUT_120_ratio\",\"yref\":\"y\"},{\"font\":{\"color\":\"#000000\"},\"showarrow\":false,\"text\":\"0.737117447548022\",\"x\":\"^RUT_365_ratio\",\"xref\":\"x\",\"y\":\"^RUT_120_ratio\",\"yref\":\"y\"},{\"font\":{\"color\":\"#000000\"},\"showarrow\":false,\"text\":\"0.981372232442972\",\"x\":\"^RUT\",\"xref\":\"x\",\"y\":\"^RUT_252_avg\",\"yref\":\"y\"},{\"font\":{\"color\":\"#000000\"},\"showarrow\":false,\"text\":\"0.9637805664431208\",\"x\":\"ES=F\",\"xref\":\"x\",\"y\":\"^RUT_252_avg\",\"yref\":\"y\"},{\"font\":{\"color\":\"#FFFFFF\"},\"showarrow\":false,\"text\":\"0.19353577295557534\",\"x\":\"ZN=F\",\"xref\":\"x\",\"y\":\"^RUT_252_avg\",\"yref\":\"y\"},{\"font\":{\"color\":\"#000000\"},\"showarrow\":false,\"text\":\"0.9809364016126315\",\"x\":\"^DJI\",\"xref\":\"x\",\"y\":\"^RUT_252_avg\",\"yref\":\"y\"},{\"font\":{\"color\":\"#000000\"},\"showarrow\":false,\"text\":\"0.9732886017729674\",\"x\":\"^GSPC\",\"xref\":\"x\",\"y\":\"^RUT_252_avg\",\"yref\":\"y\"},{\"font\":{\"color\":\"#000000\"},\"showarrow\":false,\"text\":\"0.9855825332219862\",\"x\":\"^RUT_30_avg\",\"xref\":\"x\",\"y\":\"^RUT_252_avg\",\"yref\":\"y\"},{\"font\":{\"color\":\"#FFFFFF\"},\"showarrow\":false,\"text\":\"-0.05865195136395691\",\"x\":\"^RUT_30_ratio\",\"xref\":\"x\",\"y\":\"^RUT_252_avg\",\"yref\":\"y\"},{\"font\":{\"color\":\"#000000\"},\"showarrow\":false,\"text\":\"0.9893207207556598\",\"x\":\"^RUT_60_avg\",\"xref\":\"x\",\"y\":\"^RUT_252_avg\",\"yref\":\"y\"},{\"font\":{\"color\":\"#FFFFFF\"},\"showarrow\":false,\"text\":\"-0.08018212060909535\",\"x\":\"^RUT_60_ratio\",\"xref\":\"x\",\"y\":\"^RUT_252_avg\",\"yref\":\"y\"},{\"font\":{\"color\":\"#000000\"},\"showarrow\":false,\"text\":\"0.9924325857543407\",\"x\":\"^RUT_90_avg\",\"xref\":\"x\",\"y\":\"^RUT_252_avg\",\"yref\":\"y\"},{\"font\":{\"color\":\"#FFFFFF\"},\"showarrow\":false,\"text\":\"-0.09364175358572076\",\"x\":\"^RUT_90_ratio\",\"xref\":\"x\",\"y\":\"^RUT_252_avg\",\"yref\":\"y\"},{\"font\":{\"color\":\"#000000\"},\"showarrow\":false,\"text\":\"0.9949677902364092\",\"x\":\"^RUT_120_avg\",\"xref\":\"x\",\"y\":\"^RUT_252_avg\",\"yref\":\"y\"},{\"font\":{\"color\":\"#FFFFFF\"},\"showarrow\":false,\"text\":\"-0.10170032206623257\",\"x\":\"^RUT_120_ratio\",\"xref\":\"x\",\"y\":\"^RUT_252_avg\",\"yref\":\"y\"},{\"font\":{\"color\":\"#000000\"},\"showarrow\":false,\"text\":\"1.0\",\"x\":\"^RUT_252_avg\",\"xref\":\"x\",\"y\":\"^RUT_252_avg\",\"yref\":\"y\"},{\"font\":{\"color\":\"#FFFFFF\"},\"showarrow\":false,\"text\":\"-0.1134991741438246\",\"x\":\"^RUT_252_ratio\",\"xref\":\"x\",\"y\":\"^RUT_252_avg\",\"yref\":\"y\"},{\"font\":{\"color\":\"#000000\"},\"showarrow\":false,\"text\":\"0.9974561087706042\",\"x\":\"^RUT_365_avg\",\"xref\":\"x\",\"y\":\"^RUT_252_avg\",\"yref\":\"y\"},{\"font\":{\"color\":\"#FFFFFF\"},\"showarrow\":false,\"text\":\"-0.10778003639003211\",\"x\":\"^RUT_365_ratio\",\"xref\":\"x\",\"y\":\"^RUT_252_avg\",\"yref\":\"y\"},{\"font\":{\"color\":\"#FFFFFF\"},\"showarrow\":false,\"text\":\"0.04710891722564897\",\"x\":\"^RUT\",\"xref\":\"x\",\"y\":\"^RUT_252_ratio\",\"yref\":\"y\"},{\"font\":{\"color\":\"#FFFFFF\"},\"showarrow\":false,\"text\":\"0.09764778697801355\",\"x\":\"ES=F\",\"xref\":\"x\",\"y\":\"^RUT_252_ratio\",\"yref\":\"y\"},{\"font\":{\"color\":\"#FFFFFF\"},\"showarrow\":false,\"text\":\"0.2181610569253035\",\"x\":\"ZN=F\",\"xref\":\"x\",\"y\":\"^RUT_252_ratio\",\"yref\":\"y\"},{\"font\":{\"color\":\"#FFFFFF\"},\"showarrow\":false,\"text\":\"-0.03417471023713917\",\"x\":\"^DJI\",\"xref\":\"x\",\"y\":\"^RUT_252_ratio\",\"yref\":\"y\"},{\"font\":{\"color\":\"#FFFFFF\"},\"showarrow\":false,\"text\":\"-0.02364152956735682\",\"x\":\"^GSPC\",\"xref\":\"x\",\"y\":\"^RUT_252_ratio\",\"yref\":\"y\"},{\"font\":{\"color\":\"#FFFFFF\"},\"showarrow\":false,\"text\":\"0.018429146220183684\",\"x\":\"^RUT_30_avg\",\"xref\":\"x\",\"y\":\"^RUT_252_ratio\",\"yref\":\"y\"},{\"font\":{\"color\":\"#000000\"},\"showarrow\":false,\"text\":\"0.46588920677695356\",\"x\":\"^RUT_30_ratio\",\"xref\":\"x\",\"y\":\"^RUT_252_ratio\",\"yref\":\"y\"},{\"font\":{\"color\":\"#FFFFFF\"},\"showarrow\":false,\"text\":\"-0.008332901937787953\",\"x\":\"^RUT_60_avg\",\"xref\":\"x\",\"y\":\"^RUT_252_ratio\",\"yref\":\"y\"},{\"font\":{\"color\":\"#000000\"},\"showarrow\":false,\"text\":\"0.6431721406765636\",\"x\":\"^RUT_60_ratio\",\"xref\":\"x\",\"y\":\"^RUT_252_ratio\",\"yref\":\"y\"},{\"font\":{\"color\":\"#FFFFFF\"},\"showarrow\":false,\"text\":\"-0.031477515648924675\",\"x\":\"^RUT_90_avg\",\"xref\":\"x\",\"y\":\"^RUT_252_ratio\",\"yref\":\"y\"},{\"font\":{\"color\":\"#000000\"},\"showarrow\":false,\"text\":\"0.7649212178355633\",\"x\":\"^RUT_90_ratio\",\"xref\":\"x\",\"y\":\"^RUT_252_ratio\",\"yref\":\"y\"},{\"font\":{\"color\":\"#FFFFFF\"},\"showarrow\":false,\"text\":\"-0.051564734595938584\",\"x\":\"^RUT_120_avg\",\"xref\":\"x\",\"y\":\"^RUT_252_ratio\",\"yref\":\"y\"},{\"font\":{\"color\":\"#000000\"},\"showarrow\":false,\"text\":\"0.8494731984521391\",\"x\":\"^RUT_120_ratio\",\"xref\":\"x\",\"y\":\"^RUT_252_ratio\",\"yref\":\"y\"},{\"font\":{\"color\":\"#FFFFFF\"},\"showarrow\":false,\"text\":\"-0.1134991741438246\",\"x\":\"^RUT_252_avg\",\"xref\":\"x\",\"y\":\"^RUT_252_ratio\",\"yref\":\"y\"},{\"font\":{\"color\":\"#000000\"},\"showarrow\":false,\"text\":\"1.0\",\"x\":\"^RUT_252_ratio\",\"xref\":\"x\",\"y\":\"^RUT_252_ratio\",\"yref\":\"y\"},{\"font\":{\"color\":\"#FFFFFF\"},\"showarrow\":false,\"text\":\"-0.1305728752331708\",\"x\":\"^RUT_365_avg\",\"xref\":\"x\",\"y\":\"^RUT_252_ratio\",\"yref\":\"y\"},{\"font\":{\"color\":\"#000000\"},\"showarrow\":false,\"text\":\"0.9507224317626713\",\"x\":\"^RUT_365_ratio\",\"xref\":\"x\",\"y\":\"^RUT_252_ratio\",\"yref\":\"y\"},{\"font\":{\"color\":\"#000000\"},\"showarrow\":false,\"text\":\"0.9748058053609857\",\"x\":\"^RUT\",\"xref\":\"x\",\"y\":\"^RUT_365_avg\",\"yref\":\"y\"},{\"font\":{\"color\":\"#000000\"},\"showarrow\":false,\"text\":\"0.9595988534769074\",\"x\":\"ES=F\",\"xref\":\"x\",\"y\":\"^RUT_365_avg\",\"yref\":\"y\"},{\"font\":{\"color\":\"#FFFFFF\"},\"showarrow\":false,\"text\":\"0.1503126510266997\",\"x\":\"ZN=F\",\"xref\":\"x\",\"y\":\"^RUT_365_avg\",\"yref\":\"y\"},{\"font\":{\"color\":\"#000000\"},\"showarrow\":false,\"text\":\"0.9797646089756757\",\"x\":\"^DJI\",\"xref\":\"x\",\"y\":\"^RUT_365_avg\",\"yref\":\"y\"},{\"font\":{\"color\":\"#000000\"},\"showarrow\":false,\"text\":\"0.9709220495121812\",\"x\":\"^GSPC\",\"xref\":\"x\",\"y\":\"^RUT_365_avg\",\"yref\":\"y\"},{\"font\":{\"color\":\"#000000\"},\"showarrow\":false,\"text\":\"0.9786580831534726\",\"x\":\"^RUT_30_avg\",\"xref\":\"x\",\"y\":\"^RUT_365_avg\",\"yref\":\"y\"},{\"font\":{\"color\":\"#FFFFFF\"},\"showarrow\":false,\"text\":\"-0.054997800515565\",\"x\":\"^RUT_30_ratio\",\"xref\":\"x\",\"y\":\"^RUT_365_avg\",\"yref\":\"y\"},{\"font\":{\"color\":\"#000000\"},\"showarrow\":false,\"text\":\"0.9822275698281727\",\"x\":\"^RUT_60_avg\",\"xref\":\"x\",\"y\":\"^RUT_365_avg\",\"yref\":\"y\"},{\"font\":{\"color\":\"#FFFFFF\"},\"showarrow\":false,\"text\":\"-0.07910096772227923\",\"x\":\"^RUT_60_ratio\",\"xref\":\"x\",\"y\":\"^RUT_365_avg\",\"yref\":\"y\"},{\"font\":{\"color\":\"#000000\"},\"showarrow\":false,\"text\":\"0.9853909370362888\",\"x\":\"^RUT_90_avg\",\"xref\":\"x\",\"y\":\"^RUT_365_avg\",\"yref\":\"y\"},{\"font\":{\"color\":\"#FFFFFF\"},\"showarrow\":false,\"text\":\"-0.09567355103202646\",\"x\":\"^RUT_90_ratio\",\"xref\":\"x\",\"y\":\"^RUT_365_avg\",\"yref\":\"y\"},{\"font\":{\"color\":\"#000000\"},\"showarrow\":false,\"text\":\"0.9882424736688779\",\"x\":\"^RUT_120_avg\",\"xref\":\"x\",\"y\":\"^RUT_365_avg\",\"yref\":\"y\"},{\"font\":{\"color\":\"#FFFFFF\"},\"showarrow\":false,\"text\":\"-0.10650711670869374\",\"x\":\"^RUT_120_ratio\",\"xref\":\"x\",\"y\":\"^RUT_365_avg\",\"yref\":\"y\"},{\"font\":{\"color\":\"#000000\"},\"showarrow\":false,\"text\":\"0.9974561087706042\",\"x\":\"^RUT_252_avg\",\"xref\":\"x\",\"y\":\"^RUT_365_avg\",\"yref\":\"y\"},{\"font\":{\"color\":\"#FFFFFF\"},\"showarrow\":false,\"text\":\"-0.1305728752331708\",\"x\":\"^RUT_252_ratio\",\"xref\":\"x\",\"y\":\"^RUT_365_avg\",\"yref\":\"y\"},{\"font\":{\"color\":\"#000000\"},\"showarrow\":false,\"text\":\"1.0\",\"x\":\"^RUT_365_avg\",\"xref\":\"x\",\"y\":\"^RUT_365_avg\",\"yref\":\"y\"},{\"font\":{\"color\":\"#FFFFFF\"},\"showarrow\":false,\"text\":\"-0.1401160110037742\",\"x\":\"^RUT_365_ratio\",\"xref\":\"x\",\"y\":\"^RUT_365_avg\",\"yref\":\"y\"},{\"font\":{\"color\":\"#FFFFFF\"},\"showarrow\":false,\"text\":\"0.046393141596572714\",\"x\":\"^RUT\",\"xref\":\"x\",\"y\":\"^RUT_365_ratio\",\"yref\":\"y\"},{\"font\":{\"color\":\"#FFFFFF\"},\"showarrow\":false,\"text\":\"0.10437829941342035\",\"x\":\"ES=F\",\"xref\":\"x\",\"y\":\"^RUT_365_ratio\",\"yref\":\"y\"},{\"font\":{\"color\":\"#FFFFFF\"},\"showarrow\":false,\"text\":\"0.24055564323185935\",\"x\":\"ZN=F\",\"xref\":\"x\",\"y\":\"^RUT_365_ratio\",\"yref\":\"y\"},{\"font\":{\"color\":\"#FFFFFF\"},\"showarrow\":false,\"text\":\"-0.06087097096385368\",\"x\":\"^DJI\",\"xref\":\"x\",\"y\":\"^RUT_365_ratio\",\"yref\":\"y\"},{\"font\":{\"color\":\"#FFFFFF\"},\"showarrow\":false,\"text\":\"-0.031900551839579815\",\"x\":\"^GSPC\",\"xref\":\"x\",\"y\":\"^RUT_365_ratio\",\"yref\":\"y\"},{\"font\":{\"color\":\"#FFFFFF\"},\"showarrow\":false,\"text\":\"0.02234384491504597\",\"x\":\"^RUT_30_avg\",\"xref\":\"x\",\"y\":\"^RUT_365_ratio\",\"yref\":\"y\"},{\"font\":{\"color\":\"#FFFFFF\"},\"showarrow\":false,\"text\":\"0.3916769996795148\",\"x\":\"^RUT_30_ratio\",\"xref\":\"x\",\"y\":\"^RUT_365_ratio\",\"yref\":\"y\"},{\"font\":{\"color\":\"#FFFFFF\"},\"showarrow\":false,\"text\":\"-0.0004967260316140965\",\"x\":\"^RUT_60_avg\",\"xref\":\"x\",\"y\":\"^RUT_365_ratio\",\"yref\":\"y\"},{\"font\":{\"color\":\"#000000\"},\"showarrow\":false,\"text\":\"0.5459338778505813\",\"x\":\"^RUT_60_ratio\",\"xref\":\"x\",\"y\":\"^RUT_365_ratio\",\"yref\":\"y\"},{\"font\":{\"color\":\"#FFFFFF\"},\"showarrow\":false,\"text\":\"-0.020768769071610918\",\"x\":\"^RUT_90_avg\",\"xref\":\"x\",\"y\":\"^RUT_365_ratio\",\"yref\":\"y\"},{\"font\":{\"color\":\"#000000\"},\"showarrow\":false,\"text\":\"0.6558592679896402\",\"x\":\"^RUT_90_ratio\",\"xref\":\"x\",\"y\":\"^RUT_365_ratio\",\"yref\":\"y\"},{\"font\":{\"color\":\"#FFFFFF\"},\"showarrow\":false,\"text\":\"-0.03926941927771791\",\"x\":\"^RUT_120_avg\",\"xref\":\"x\",\"y\":\"^RUT_365_ratio\",\"yref\":\"y\"},{\"font\":{\"color\":\"#000000\"},\"showarrow\":false,\"text\":\"0.737117447548022\",\"x\":\"^RUT_120_ratio\",\"xref\":\"x\",\"y\":\"^RUT_365_ratio\",\"yref\":\"y\"},{\"font\":{\"color\":\"#FFFFFF\"},\"showarrow\":false,\"text\":\"-0.10778003639003211\",\"x\":\"^RUT_252_avg\",\"xref\":\"x\",\"y\":\"^RUT_365_ratio\",\"yref\":\"y\"},{\"font\":{\"color\":\"#000000\"},\"showarrow\":false,\"text\":\"0.9507224317626713\",\"x\":\"^RUT_252_ratio\",\"xref\":\"x\",\"y\":\"^RUT_365_ratio\",\"yref\":\"y\"},{\"font\":{\"color\":\"#FFFFFF\"},\"showarrow\":false,\"text\":\"-0.1401160110037742\",\"x\":\"^RUT_365_avg\",\"xref\":\"x\",\"y\":\"^RUT_365_ratio\",\"yref\":\"y\"},{\"font\":{\"color\":\"#000000\"},\"showarrow\":false,\"text\":\"1.0\",\"x\":\"^RUT_365_ratio\",\"xref\":\"x\",\"y\":\"^RUT_365_ratio\",\"yref\":\"y\"}],\"xaxis\":{\"dtick\":1,\"gridcolor\":\"rgb(0, 0, 0)\",\"side\":\"top\",\"ticks\":\"\"},\"yaxis\":{\"dtick\":1,\"ticks\":\"\",\"ticksuffix\":\"  \"},\"template\":{\"data\":{\"histogram2dcontour\":[{\"type\":\"histogram2dcontour\",\"colorbar\":{\"outlinewidth\":0,\"ticks\":\"\"},\"colorscale\":[[0.0,\"#0d0887\"],[0.1111111111111111,\"#46039f\"],[0.2222222222222222,\"#7201a8\"],[0.3333333333333333,\"#9c179e\"],[0.4444444444444444,\"#bd3786\"],[0.5555555555555556,\"#d8576b\"],[0.6666666666666666,\"#ed7953\"],[0.7777777777777778,\"#fb9f3a\"],[0.8888888888888888,\"#fdca26\"],[1.0,\"#f0f921\"]]}],\"choropleth\":[{\"type\":\"choropleth\",\"colorbar\":{\"outlinewidth\":0,\"ticks\":\"\"}}],\"histogram2d\":[{\"type\":\"histogram2d\",\"colorbar\":{\"outlinewidth\":0,\"ticks\":\"\"},\"colorscale\":[[0.0,\"#0d0887\"],[0.1111111111111111,\"#46039f\"],[0.2222222222222222,\"#7201a8\"],[0.3333333333333333,\"#9c179e\"],[0.4444444444444444,\"#bd3786\"],[0.5555555555555556,\"#d8576b\"],[0.6666666666666666,\"#ed7953\"],[0.7777777777777778,\"#fb9f3a\"],[0.8888888888888888,\"#fdca26\"],[1.0,\"#f0f921\"]]}],\"heatmap\":[{\"type\":\"heatmap\",\"colorbar\":{\"outlinewidth\":0,\"ticks\":\"\"},\"colorscale\":[[0.0,\"#0d0887\"],[0.1111111111111111,\"#46039f\"],[0.2222222222222222,\"#7201a8\"],[0.3333333333333333,\"#9c179e\"],[0.4444444444444444,\"#bd3786\"],[0.5555555555555556,\"#d8576b\"],[0.6666666666666666,\"#ed7953\"],[0.7777777777777778,\"#fb9f3a\"],[0.8888888888888888,\"#fdca26\"],[1.0,\"#f0f921\"]]}],\"heatmapgl\":[{\"type\":\"heatmapgl\",\"colorbar\":{\"outlinewidth\":0,\"ticks\":\"\"},\"colorscale\":[[0.0,\"#0d0887\"],[0.1111111111111111,\"#46039f\"],[0.2222222222222222,\"#7201a8\"],[0.3333333333333333,\"#9c179e\"],[0.4444444444444444,\"#bd3786\"],[0.5555555555555556,\"#d8576b\"],[0.6666666666666666,\"#ed7953\"],[0.7777777777777778,\"#fb9f3a\"],[0.8888888888888888,\"#fdca26\"],[1.0,\"#f0f921\"]]}],\"contourcarpet\":[{\"type\":\"contourcarpet\",\"colorbar\":{\"outlinewidth\":0,\"ticks\":\"\"}}],\"contour\":[{\"type\":\"contour\",\"colorbar\":{\"outlinewidth\":0,\"ticks\":\"\"},\"colorscale\":[[0.0,\"#0d0887\"],[0.1111111111111111,\"#46039f\"],[0.2222222222222222,\"#7201a8\"],[0.3333333333333333,\"#9c179e\"],[0.4444444444444444,\"#bd3786\"],[0.5555555555555556,\"#d8576b\"],[0.6666666666666666,\"#ed7953\"],[0.7777777777777778,\"#fb9f3a\"],[0.8888888888888888,\"#fdca26\"],[1.0,\"#f0f921\"]]}],\"surface\":[{\"type\":\"surface\",\"colorbar\":{\"outlinewidth\":0,\"ticks\":\"\"},\"colorscale\":[[0.0,\"#0d0887\"],[0.1111111111111111,\"#46039f\"],[0.2222222222222222,\"#7201a8\"],[0.3333333333333333,\"#9c179e\"],[0.4444444444444444,\"#bd3786\"],[0.5555555555555556,\"#d8576b\"],[0.6666666666666666,\"#ed7953\"],[0.7777777777777778,\"#fb9f3a\"],[0.8888888888888888,\"#fdca26\"],[1.0,\"#f0f921\"]]}],\"mesh3d\":[{\"type\":\"mesh3d\",\"colorbar\":{\"outlinewidth\":0,\"ticks\":\"\"}}],\"scatter\":[{\"fillpattern\":{\"fillmode\":\"overlay\",\"size\":10,\"solidity\":0.2},\"type\":\"scatter\"}],\"parcoords\":[{\"type\":\"parcoords\",\"line\":{\"colorbar\":{\"outlinewidth\":0,\"ticks\":\"\"}}}],\"scatterpolargl\":[{\"type\":\"scatterpolargl\",\"marker\":{\"colorbar\":{\"outlinewidth\":0,\"ticks\":\"\"}}}],\"bar\":[{\"error_x\":{\"color\":\"#2a3f5f\"},\"error_y\":{\"color\":\"#2a3f5f\"},\"marker\":{\"line\":{\"color\":\"#E5ECF6\",\"width\":0.5},\"pattern\":{\"fillmode\":\"overlay\",\"size\":10,\"solidity\":0.2}},\"type\":\"bar\"}],\"scattergeo\":[{\"type\":\"scattergeo\",\"marker\":{\"colorbar\":{\"outlinewidth\":0,\"ticks\":\"\"}}}],\"scatterpolar\":[{\"type\":\"scatterpolar\",\"marker\":{\"colorbar\":{\"outlinewidth\":0,\"ticks\":\"\"}}}],\"histogram\":[{\"marker\":{\"pattern\":{\"fillmode\":\"overlay\",\"size\":10,\"solidity\":0.2}},\"type\":\"histogram\"}],\"scattergl\":[{\"type\":\"scattergl\",\"marker\":{\"colorbar\":{\"outlinewidth\":0,\"ticks\":\"\"}}}],\"scatter3d\":[{\"type\":\"scatter3d\",\"line\":{\"colorbar\":{\"outlinewidth\":0,\"ticks\":\"\"}},\"marker\":{\"colorbar\":{\"outlinewidth\":0,\"ticks\":\"\"}}}],\"scattermapbox\":[{\"type\":\"scattermapbox\",\"marker\":{\"colorbar\":{\"outlinewidth\":0,\"ticks\":\"\"}}}],\"scatterternary\":[{\"type\":\"scatterternary\",\"marker\":{\"colorbar\":{\"outlinewidth\":0,\"ticks\":\"\"}}}],\"scattercarpet\":[{\"type\":\"scattercarpet\",\"marker\":{\"colorbar\":{\"outlinewidth\":0,\"ticks\":\"\"}}}],\"carpet\":[{\"aaxis\":{\"endlinecolor\":\"#2a3f5f\",\"gridcolor\":\"white\",\"linecolor\":\"white\",\"minorgridcolor\":\"white\",\"startlinecolor\":\"#2a3f5f\"},\"baxis\":{\"endlinecolor\":\"#2a3f5f\",\"gridcolor\":\"white\",\"linecolor\":\"white\",\"minorgridcolor\":\"white\",\"startlinecolor\":\"#2a3f5f\"},\"type\":\"carpet\"}],\"table\":[{\"cells\":{\"fill\":{\"color\":\"#EBF0F8\"},\"line\":{\"color\":\"white\"}},\"header\":{\"fill\":{\"color\":\"#C8D4E3\"},\"line\":{\"color\":\"white\"}},\"type\":\"table\"}],\"barpolar\":[{\"marker\":{\"line\":{\"color\":\"#E5ECF6\",\"width\":0.5},\"pattern\":{\"fillmode\":\"overlay\",\"size\":10,\"solidity\":0.2}},\"type\":\"barpolar\"}],\"pie\":[{\"automargin\":true,\"type\":\"pie\"}]},\"layout\":{\"autotypenumbers\":\"strict\",\"colorway\":[\"#636efa\",\"#EF553B\",\"#00cc96\",\"#ab63fa\",\"#FFA15A\",\"#19d3f3\",\"#FF6692\",\"#B6E880\",\"#FF97FF\",\"#FECB52\"],\"font\":{\"color\":\"#2a3f5f\"},\"hovermode\":\"closest\",\"hoverlabel\":{\"align\":\"left\"},\"paper_bgcolor\":\"white\",\"plot_bgcolor\":\"#E5ECF6\",\"polar\":{\"bgcolor\":\"#E5ECF6\",\"angularaxis\":{\"gridcolor\":\"white\",\"linecolor\":\"white\",\"ticks\":\"\"},\"radialaxis\":{\"gridcolor\":\"white\",\"linecolor\":\"white\",\"ticks\":\"\"}},\"ternary\":{\"bgcolor\":\"#E5ECF6\",\"aaxis\":{\"gridcolor\":\"white\",\"linecolor\":\"white\",\"ticks\":\"\"},\"baxis\":{\"gridcolor\":\"white\",\"linecolor\":\"white\",\"ticks\":\"\"},\"caxis\":{\"gridcolor\":\"white\",\"linecolor\":\"white\",\"ticks\":\"\"}},\"coloraxis\":{\"colorbar\":{\"outlinewidth\":0,\"ticks\":\"\"}},\"colorscale\":{\"sequential\":[[0.0,\"#0d0887\"],[0.1111111111111111,\"#46039f\"],[0.2222222222222222,\"#7201a8\"],[0.3333333333333333,\"#9c179e\"],[0.4444444444444444,\"#bd3786\"],[0.5555555555555556,\"#d8576b\"],[0.6666666666666666,\"#ed7953\"],[0.7777777777777778,\"#fb9f3a\"],[0.8888888888888888,\"#fdca26\"],[1.0,\"#f0f921\"]],\"sequentialminus\":[[0.0,\"#0d0887\"],[0.1111111111111111,\"#46039f\"],[0.2222222222222222,\"#7201a8\"],[0.3333333333333333,\"#9c179e\"],[0.4444444444444444,\"#bd3786\"],[0.5555555555555556,\"#d8576b\"],[0.6666666666666666,\"#ed7953\"],[0.7777777777777778,\"#fb9f3a\"],[0.8888888888888888,\"#fdca26\"],[1.0,\"#f0f921\"]],\"diverging\":[[0,\"#8e0152\"],[0.1,\"#c51b7d\"],[0.2,\"#de77ae\"],[0.3,\"#f1b6da\"],[0.4,\"#fde0ef\"],[0.5,\"#f7f7f7\"],[0.6,\"#e6f5d0\"],[0.7,\"#b8e186\"],[0.8,\"#7fbc41\"],[0.9,\"#4d9221\"],[1,\"#276419\"]]},\"xaxis\":{\"gridcolor\":\"white\",\"linecolor\":\"white\",\"ticks\":\"\",\"title\":{\"standoff\":15},\"zerolinecolor\":\"white\",\"automargin\":true,\"zerolinewidth\":2},\"yaxis\":{\"gridcolor\":\"white\",\"linecolor\":\"white\",\"ticks\":\"\",\"title\":{\"standoff\":15},\"zerolinecolor\":\"white\",\"automargin\":true,\"zerolinewidth\":2},\"scene\":{\"xaxis\":{\"backgroundcolor\":\"#E5ECF6\",\"gridcolor\":\"white\",\"linecolor\":\"white\",\"showbackground\":true,\"ticks\":\"\",\"zerolinecolor\":\"white\",\"gridwidth\":2},\"yaxis\":{\"backgroundcolor\":\"#E5ECF6\",\"gridcolor\":\"white\",\"linecolor\":\"white\",\"showbackground\":true,\"ticks\":\"\",\"zerolinecolor\":\"white\",\"gridwidth\":2},\"zaxis\":{\"backgroundcolor\":\"#E5ECF6\",\"gridcolor\":\"white\",\"linecolor\":\"white\",\"showbackground\":true,\"ticks\":\"\",\"zerolinecolor\":\"white\",\"gridwidth\":2}},\"shapedefaults\":{\"line\":{\"color\":\"#2a3f5f\"}},\"annotationdefaults\":{\"arrowcolor\":\"#2a3f5f\",\"arrowhead\":0,\"arrowwidth\":1},\"geo\":{\"bgcolor\":\"white\",\"landcolor\":\"#E5ECF6\",\"subunitcolor\":\"white\",\"showland\":true,\"showlakes\":true,\"lakecolor\":\"white\"},\"title\":{\"x\":0.05},\"mapbox\":{\"style\":\"light\"}}}},                        {\"responsive\": true}                    ).then(function(){\n",
       "                            \n",
       "var gd = document.getElementById('6aa2ea87-d35a-4c66-89c8-d87fabbc23d3');\n",
       "var x = new MutationObserver(function (mutations, observer) {{\n",
       "        var display = window.getComputedStyle(gd).display;\n",
       "        if (!display || display === 'none') {{\n",
       "            console.log([gd, 'removed!']);\n",
       "            Plotly.purge(gd);\n",
       "            observer.disconnect();\n",
       "        }}\n",
       "}});\n",
       "\n",
       "// Listen for the removal of the full notebook cells\n",
       "var notebookContainer = gd.closest('#notebook-container');\n",
       "if (notebookContainer) {{\n",
       "    x.observe(notebookContainer, {childList: true});\n",
       "}}\n",
       "\n",
       "// Listen for the clearing of the current output cell\n",
       "var outputEl = gd.closest('.output');\n",
       "if (outputEl) {{\n",
       "    x.observe(outputEl, {childList: true});\n",
       "}}\n",
       "\n",
       "                        })                };                });            </script>        </div>"
      ]
     },
     "metadata": {},
     "output_type": "display_data"
    }
   ],
   "source": [
    "close_corrs_df = close_df.corr()\n",
    "close_corrs_diffs_df = close_df.diff()\n",
    "close_corrs_diffs_df = close_corrs_diffs_df.corr()\n",
    "\n",
    "import plotly.figure_factory as ff\n",
    "\n",
    "fig = ff.create_annotated_heatmap(z=close_corrs_df.values,\n",
    "                                 x=close_corrs_df.columns.tolist(),\n",
    "                                 y=close_corrs_df.index.tolist(),\n",
    "                                 showscale=True,\n",
    "                                 colorscale='Viridis')\n",
    "fig.show()"
   ]
  },
  {
   "cell_type": "code",
   "execution_count": 89,
   "id": "ae03bb55",
   "metadata": {},
   "outputs": [
    {
     "data": {
      "text/html": [
       "<div>\n",
       "<style scoped>\n",
       "    .dataframe tbody tr th:only-of-type {\n",
       "        vertical-align: middle;\n",
       "    }\n",
       "\n",
       "    .dataframe tbody tr th {\n",
       "        vertical-align: top;\n",
       "    }\n",
       "\n",
       "    .dataframe thead th {\n",
       "        text-align: right;\n",
       "    }\n",
       "</style>\n",
       "<table border=\"1\" class=\"dataframe\">\n",
       "  <thead>\n",
       "    <tr style=\"text-align: right;\">\n",
       "      <th>Ticker</th>\n",
       "      <th>^RUT</th>\n",
       "      <th>ES=F</th>\n",
       "      <th>ZN=F</th>\n",
       "      <th>^DJI</th>\n",
       "      <th>^GSPC</th>\n",
       "      <th>^RUT_30_avg</th>\n",
       "      <th>^RUT_30_ratio</th>\n",
       "      <th>^RUT_60_avg</th>\n",
       "      <th>^RUT_60_ratio</th>\n",
       "      <th>^RUT_90_avg</th>\n",
       "      <th>^RUT_90_ratio</th>\n",
       "      <th>^RUT_120_avg</th>\n",
       "      <th>^RUT_120_ratio</th>\n",
       "      <th>^RUT_252_avg</th>\n",
       "      <th>^RUT_252_ratio</th>\n",
       "      <th>^RUT_365_avg</th>\n",
       "      <th>^RUT_365_ratio</th>\n",
       "    </tr>\n",
       "    <tr>\n",
       "      <th>Ticker</th>\n",
       "      <th></th>\n",
       "      <th></th>\n",
       "      <th></th>\n",
       "      <th></th>\n",
       "      <th></th>\n",
       "      <th></th>\n",
       "      <th></th>\n",
       "      <th></th>\n",
       "      <th></th>\n",
       "      <th></th>\n",
       "      <th></th>\n",
       "      <th></th>\n",
       "      <th></th>\n",
       "      <th></th>\n",
       "      <th></th>\n",
       "      <th></th>\n",
       "      <th></th>\n",
       "    </tr>\n",
       "  </thead>\n",
       "  <tbody>\n",
       "    <tr>\n",
       "      <th>^RUT</th>\n",
       "      <td>1.000000</td>\n",
       "      <td>0.830129</td>\n",
       "      <td>-0.172168</td>\n",
       "      <td>0.816612</td>\n",
       "      <td>0.841596</td>\n",
       "      <td>0.171744</td>\n",
       "      <td>0.836049</td>\n",
       "      <td>0.126983</td>\n",
       "      <td>0.848193</td>\n",
       "      <td>0.097749</td>\n",
       "      <td>0.854432</td>\n",
       "      <td>0.099404</td>\n",
       "      <td>0.856679</td>\n",
       "      <td>0.056254</td>\n",
       "      <td>0.863627</td>\n",
       "      <td>0.048865</td>\n",
       "      <td>0.863148</td>\n",
       "    </tr>\n",
       "    <tr>\n",
       "      <th>^RUT_252_ratio</th>\n",
       "      <td>0.863627</td>\n",
       "      <td>0.758378</td>\n",
       "      <td>-0.279958</td>\n",
       "      <td>0.727053</td>\n",
       "      <td>0.743983</td>\n",
       "      <td>0.140467</td>\n",
       "      <td>0.974186</td>\n",
       "      <td>0.085563</td>\n",
       "      <td>0.985893</td>\n",
       "      <td>0.058209</td>\n",
       "      <td>0.991432</td>\n",
       "      <td>0.049223</td>\n",
       "      <td>0.994537</td>\n",
       "      <td>0.000487</td>\n",
       "      <td>1.000000</td>\n",
       "      <td>0.003831</td>\n",
       "      <td>0.998222</td>\n",
       "    </tr>\n",
       "    <tr>\n",
       "      <th>^RUT_365_ratio</th>\n",
       "      <td>0.863148</td>\n",
       "      <td>0.757474</td>\n",
       "      <td>-0.272641</td>\n",
       "      <td>0.721914</td>\n",
       "      <td>0.740354</td>\n",
       "      <td>0.144857</td>\n",
       "      <td>0.969748</td>\n",
       "      <td>0.093966</td>\n",
       "      <td>0.981774</td>\n",
       "      <td>0.069728</td>\n",
       "      <td>0.987641</td>\n",
       "      <td>0.063139</td>\n",
       "      <td>0.991110</td>\n",
       "      <td>0.018799</td>\n",
       "      <td>0.998222</td>\n",
       "      <td>0.004215</td>\n",
       "      <td>1.000000</td>\n",
       "    </tr>\n",
       "    <tr>\n",
       "      <th>^RUT_120_ratio</th>\n",
       "      <td>0.856679</td>\n",
       "      <td>0.751154</td>\n",
       "      <td>-0.277515</td>\n",
       "      <td>0.730513</td>\n",
       "      <td>0.740654</td>\n",
       "      <td>0.122150</td>\n",
       "      <td>0.982224</td>\n",
       "      <td>0.062059</td>\n",
       "      <td>0.993269</td>\n",
       "      <td>0.028271</td>\n",
       "      <td>0.997839</td>\n",
       "      <td>0.011906</td>\n",
       "      <td>1.000000</td>\n",
       "      <td>0.003210</td>\n",
       "      <td>0.994537</td>\n",
       "      <td>0.006985</td>\n",
       "      <td>0.991110</td>\n",
       "    </tr>\n",
       "    <tr>\n",
       "      <th>^RUT_90_ratio</th>\n",
       "      <td>0.854432</td>\n",
       "      <td>0.749202</td>\n",
       "      <td>-0.272165</td>\n",
       "      <td>0.731045</td>\n",
       "      <td>0.740117</td>\n",
       "      <td>0.111931</td>\n",
       "      <td>0.984774</td>\n",
       "      <td>0.044527</td>\n",
       "      <td>0.995875</td>\n",
       "      <td>0.003471</td>\n",
       "      <td>1.000000</td>\n",
       "      <td>0.013932</td>\n",
       "      <td>0.997839</td>\n",
       "      <td>0.003351</td>\n",
       "      <td>0.991432</td>\n",
       "      <td>0.007319</td>\n",
       "      <td>0.987641</td>\n",
       "    </tr>\n",
       "    <tr>\n",
       "      <th>^RUT_60_ratio</th>\n",
       "      <td>0.848193</td>\n",
       "      <td>0.741956</td>\n",
       "      <td>-0.265616</td>\n",
       "      <td>0.729355</td>\n",
       "      <td>0.735419</td>\n",
       "      <td>0.086855</td>\n",
       "      <td>0.989331</td>\n",
       "      <td>0.002384</td>\n",
       "      <td>1.000000</td>\n",
       "      <td>0.004930</td>\n",
       "      <td>0.995875</td>\n",
       "      <td>0.013562</td>\n",
       "      <td>0.993269</td>\n",
       "      <td>0.003100</td>\n",
       "      <td>0.985893</td>\n",
       "      <td>0.004915</td>\n",
       "      <td>0.981774</td>\n",
       "    </tr>\n",
       "    <tr>\n",
       "      <th>^GSPC</th>\n",
       "      <td>0.841596</td>\n",
       "      <td>0.977909</td>\n",
       "      <td>-0.177843</td>\n",
       "      <td>0.937104</td>\n",
       "      <td>1.000000</td>\n",
       "      <td>0.143447</td>\n",
       "      <td>0.728402</td>\n",
       "      <td>0.096653</td>\n",
       "      <td>0.735419</td>\n",
       "      <td>0.080384</td>\n",
       "      <td>0.740117</td>\n",
       "      <td>0.085796</td>\n",
       "      <td>0.740654</td>\n",
       "      <td>0.065864</td>\n",
       "      <td>0.743983</td>\n",
       "      <td>0.047092</td>\n",
       "      <td>0.740354</td>\n",
       "    </tr>\n",
       "    <tr>\n",
       "      <th>^RUT_30_ratio</th>\n",
       "      <td>0.836049</td>\n",
       "      <td>0.733251</td>\n",
       "      <td>-0.252766</td>\n",
       "      <td>0.725285</td>\n",
       "      <td>0.728402</td>\n",
       "      <td>0.004971</td>\n",
       "      <td>1.000000</td>\n",
       "      <td>0.003567</td>\n",
       "      <td>0.989331</td>\n",
       "      <td>0.005003</td>\n",
       "      <td>0.984774</td>\n",
       "      <td>0.010465</td>\n",
       "      <td>0.982224</td>\n",
       "      <td>0.002983</td>\n",
       "      <td>0.974186</td>\n",
       "      <td>0.002142</td>\n",
       "      <td>0.969748</td>\n",
       "    </tr>\n",
       "    <tr>\n",
       "      <th>ES=F</th>\n",
       "      <td>0.830129</td>\n",
       "      <td>1.000000</td>\n",
       "      <td>-0.174418</td>\n",
       "      <td>0.916136</td>\n",
       "      <td>0.977909</td>\n",
       "      <td>0.145201</td>\n",
       "      <td>0.733251</td>\n",
       "      <td>0.098648</td>\n",
       "      <td>0.741956</td>\n",
       "      <td>0.081720</td>\n",
       "      <td>0.749202</td>\n",
       "      <td>0.087860</td>\n",
       "      <td>0.751154</td>\n",
       "      <td>0.067277</td>\n",
       "      <td>0.758378</td>\n",
       "      <td>0.047099</td>\n",
       "      <td>0.757474</td>\n",
       "    </tr>\n",
       "    <tr>\n",
       "      <th>^DJI</th>\n",
       "      <td>0.816612</td>\n",
       "      <td>0.916136</td>\n",
       "      <td>-0.210370</td>\n",
       "      <td>1.000000</td>\n",
       "      <td>0.937104</td>\n",
       "      <td>0.139525</td>\n",
       "      <td>0.725285</td>\n",
       "      <td>0.095954</td>\n",
       "      <td>0.729355</td>\n",
       "      <td>0.080830</td>\n",
       "      <td>0.731045</td>\n",
       "      <td>0.084168</td>\n",
       "      <td>0.730513</td>\n",
       "      <td>0.055394</td>\n",
       "      <td>0.727053</td>\n",
       "      <td>0.046731</td>\n",
       "      <td>0.721914</td>\n",
       "    </tr>\n",
       "    <tr>\n",
       "      <th>^RUT_30_avg</th>\n",
       "      <td>0.171744</td>\n",
       "      <td>0.145201</td>\n",
       "      <td>-0.058634</td>\n",
       "      <td>0.139525</td>\n",
       "      <td>0.143447</td>\n",
       "      <td>1.000000</td>\n",
       "      <td>0.004971</td>\n",
       "      <td>0.685999</td>\n",
       "      <td>0.086855</td>\n",
       "      <td>0.552028</td>\n",
       "      <td>0.111931</td>\n",
       "      <td>0.494308</td>\n",
       "      <td>0.122150</td>\n",
       "      <td>0.318937</td>\n",
       "      <td>0.140467</td>\n",
       "      <td>0.250941</td>\n",
       "      <td>0.144857</td>\n",
       "    </tr>\n",
       "    <tr>\n",
       "      <th>^RUT_60_avg</th>\n",
       "      <td>0.126983</td>\n",
       "      <td>0.098648</td>\n",
       "      <td>-0.056683</td>\n",
       "      <td>0.095954</td>\n",
       "      <td>0.096653</td>\n",
       "      <td>0.685999</td>\n",
       "      <td>0.003567</td>\n",
       "      <td>1.000000</td>\n",
       "      <td>0.002384</td>\n",
       "      <td>0.791508</td>\n",
       "      <td>0.044527</td>\n",
       "      <td>0.683889</td>\n",
       "      <td>0.062059</td>\n",
       "      <td>0.466793</td>\n",
       "      <td>0.085563</td>\n",
       "      <td>0.336337</td>\n",
       "      <td>0.093966</td>\n",
       "    </tr>\n",
       "    <tr>\n",
       "      <th>^RUT_120_avg</th>\n",
       "      <td>0.099404</td>\n",
       "      <td>0.087860</td>\n",
       "      <td>-0.040091</td>\n",
       "      <td>0.084168</td>\n",
       "      <td>0.085796</td>\n",
       "      <td>0.494308</td>\n",
       "      <td>0.010465</td>\n",
       "      <td>0.683889</td>\n",
       "      <td>0.013562</td>\n",
       "      <td>0.845531</td>\n",
       "      <td>0.013932</td>\n",
       "      <td>1.000000</td>\n",
       "      <td>0.011906</td>\n",
       "      <td>0.688533</td>\n",
       "      <td>0.049223</td>\n",
       "      <td>0.470400</td>\n",
       "      <td>0.063139</td>\n",
       "    </tr>\n",
       "    <tr>\n",
       "      <th>^RUT_90_avg</th>\n",
       "      <td>0.097749</td>\n",
       "      <td>0.081720</td>\n",
       "      <td>-0.042271</td>\n",
       "      <td>0.080830</td>\n",
       "      <td>0.080384</td>\n",
       "      <td>0.552028</td>\n",
       "      <td>0.005003</td>\n",
       "      <td>0.791508</td>\n",
       "      <td>0.004930</td>\n",
       "      <td>1.000000</td>\n",
       "      <td>0.003471</td>\n",
       "      <td>0.845531</td>\n",
       "      <td>0.028271</td>\n",
       "      <td>0.588476</td>\n",
       "      <td>0.058209</td>\n",
       "      <td>0.398428</td>\n",
       "      <td>0.069728</td>\n",
       "    </tr>\n",
       "    <tr>\n",
       "      <th>^RUT_252_avg</th>\n",
       "      <td>0.056254</td>\n",
       "      <td>0.067277</td>\n",
       "      <td>-0.028626</td>\n",
       "      <td>0.055394</td>\n",
       "      <td>0.065864</td>\n",
       "      <td>0.318937</td>\n",
       "      <td>0.002983</td>\n",
       "      <td>0.466793</td>\n",
       "      <td>0.003100</td>\n",
       "      <td>0.588476</td>\n",
       "      <td>0.003351</td>\n",
       "      <td>0.688533</td>\n",
       "      <td>0.003210</td>\n",
       "      <td>1.000000</td>\n",
       "      <td>0.000487</td>\n",
       "      <td>0.804690</td>\n",
       "      <td>0.018799</td>\n",
       "    </tr>\n",
       "    <tr>\n",
       "      <th>^RUT_365_avg</th>\n",
       "      <td>0.048865</td>\n",
       "      <td>0.047099</td>\n",
       "      <td>-0.034989</td>\n",
       "      <td>0.046731</td>\n",
       "      <td>0.047092</td>\n",
       "      <td>0.250941</td>\n",
       "      <td>0.002142</td>\n",
       "      <td>0.336337</td>\n",
       "      <td>0.004915</td>\n",
       "      <td>0.398428</td>\n",
       "      <td>0.007319</td>\n",
       "      <td>0.470400</td>\n",
       "      <td>0.006985</td>\n",
       "      <td>0.804690</td>\n",
       "      <td>0.003831</td>\n",
       "      <td>1.000000</td>\n",
       "      <td>0.004215</td>\n",
       "    </tr>\n",
       "    <tr>\n",
       "      <th>ZN=F</th>\n",
       "      <td>-0.172168</td>\n",
       "      <td>-0.174418</td>\n",
       "      <td>1.000000</td>\n",
       "      <td>-0.210370</td>\n",
       "      <td>-0.177843</td>\n",
       "      <td>-0.058634</td>\n",
       "      <td>-0.252766</td>\n",
       "      <td>-0.056683</td>\n",
       "      <td>-0.265616</td>\n",
       "      <td>-0.042271</td>\n",
       "      <td>-0.272165</td>\n",
       "      <td>-0.040091</td>\n",
       "      <td>-0.277515</td>\n",
       "      <td>-0.028626</td>\n",
       "      <td>-0.279958</td>\n",
       "      <td>-0.034989</td>\n",
       "      <td>-0.272641</td>\n",
       "    </tr>\n",
       "  </tbody>\n",
       "</table>\n",
       "</div>"
      ],
      "text/plain": [
       "Ticker              ^RUT      ES=F      ZN=F      ^DJI     ^GSPC  ^RUT_30_avg  \\\n",
       "Ticker                                                                          \n",
       "^RUT            1.000000  0.830129 -0.172168  0.816612  0.841596     0.171744   \n",
       "^RUT_252_ratio  0.863627  0.758378 -0.279958  0.727053  0.743983     0.140467   \n",
       "^RUT_365_ratio  0.863148  0.757474 -0.272641  0.721914  0.740354     0.144857   \n",
       "^RUT_120_ratio  0.856679  0.751154 -0.277515  0.730513  0.740654     0.122150   \n",
       "^RUT_90_ratio   0.854432  0.749202 -0.272165  0.731045  0.740117     0.111931   \n",
       "^RUT_60_ratio   0.848193  0.741956 -0.265616  0.729355  0.735419     0.086855   \n",
       "^GSPC           0.841596  0.977909 -0.177843  0.937104  1.000000     0.143447   \n",
       "^RUT_30_ratio   0.836049  0.733251 -0.252766  0.725285  0.728402     0.004971   \n",
       "ES=F            0.830129  1.000000 -0.174418  0.916136  0.977909     0.145201   \n",
       "^DJI            0.816612  0.916136 -0.210370  1.000000  0.937104     0.139525   \n",
       "^RUT_30_avg     0.171744  0.145201 -0.058634  0.139525  0.143447     1.000000   \n",
       "^RUT_60_avg     0.126983  0.098648 -0.056683  0.095954  0.096653     0.685999   \n",
       "^RUT_120_avg    0.099404  0.087860 -0.040091  0.084168  0.085796     0.494308   \n",
       "^RUT_90_avg     0.097749  0.081720 -0.042271  0.080830  0.080384     0.552028   \n",
       "^RUT_252_avg    0.056254  0.067277 -0.028626  0.055394  0.065864     0.318937   \n",
       "^RUT_365_avg    0.048865  0.047099 -0.034989  0.046731  0.047092     0.250941   \n",
       "ZN=F           -0.172168 -0.174418  1.000000 -0.210370 -0.177843    -0.058634   \n",
       "\n",
       "Ticker          ^RUT_30_ratio  ^RUT_60_avg  ^RUT_60_ratio  ^RUT_90_avg  \\\n",
       "Ticker                                                                   \n",
       "^RUT                 0.836049     0.126983       0.848193     0.097749   \n",
       "^RUT_252_ratio       0.974186     0.085563       0.985893     0.058209   \n",
       "^RUT_365_ratio       0.969748     0.093966       0.981774     0.069728   \n",
       "^RUT_120_ratio       0.982224     0.062059       0.993269     0.028271   \n",
       "^RUT_90_ratio        0.984774     0.044527       0.995875     0.003471   \n",
       "^RUT_60_ratio        0.989331     0.002384       1.000000     0.004930   \n",
       "^GSPC                0.728402     0.096653       0.735419     0.080384   \n",
       "^RUT_30_ratio        1.000000     0.003567       0.989331     0.005003   \n",
       "ES=F                 0.733251     0.098648       0.741956     0.081720   \n",
       "^DJI                 0.725285     0.095954       0.729355     0.080830   \n",
       "^RUT_30_avg          0.004971     0.685999       0.086855     0.552028   \n",
       "^RUT_60_avg          0.003567     1.000000       0.002384     0.791508   \n",
       "^RUT_120_avg         0.010465     0.683889       0.013562     0.845531   \n",
       "^RUT_90_avg          0.005003     0.791508       0.004930     1.000000   \n",
       "^RUT_252_avg         0.002983     0.466793       0.003100     0.588476   \n",
       "^RUT_365_avg         0.002142     0.336337       0.004915     0.398428   \n",
       "ZN=F                -0.252766    -0.056683      -0.265616    -0.042271   \n",
       "\n",
       "Ticker          ^RUT_90_ratio  ^RUT_120_avg  ^RUT_120_ratio  ^RUT_252_avg  \\\n",
       "Ticker                                                                      \n",
       "^RUT                 0.854432      0.099404        0.856679      0.056254   \n",
       "^RUT_252_ratio       0.991432      0.049223        0.994537      0.000487   \n",
       "^RUT_365_ratio       0.987641      0.063139        0.991110      0.018799   \n",
       "^RUT_120_ratio       0.997839      0.011906        1.000000      0.003210   \n",
       "^RUT_90_ratio        1.000000      0.013932        0.997839      0.003351   \n",
       "^RUT_60_ratio        0.995875      0.013562        0.993269      0.003100   \n",
       "^GSPC                0.740117      0.085796        0.740654      0.065864   \n",
       "^RUT_30_ratio        0.984774      0.010465        0.982224      0.002983   \n",
       "ES=F                 0.749202      0.087860        0.751154      0.067277   \n",
       "^DJI                 0.731045      0.084168        0.730513      0.055394   \n",
       "^RUT_30_avg          0.111931      0.494308        0.122150      0.318937   \n",
       "^RUT_60_avg          0.044527      0.683889        0.062059      0.466793   \n",
       "^RUT_120_avg         0.013932      1.000000        0.011906      0.688533   \n",
       "^RUT_90_avg          0.003471      0.845531        0.028271      0.588476   \n",
       "^RUT_252_avg         0.003351      0.688533        0.003210      1.000000   \n",
       "^RUT_365_avg         0.007319      0.470400        0.006985      0.804690   \n",
       "ZN=F                -0.272165     -0.040091       -0.277515     -0.028626   \n",
       "\n",
       "Ticker          ^RUT_252_ratio  ^RUT_365_avg  ^RUT_365_ratio  \n",
       "Ticker                                                        \n",
       "^RUT                  0.863627      0.048865        0.863148  \n",
       "^RUT_252_ratio        1.000000      0.003831        0.998222  \n",
       "^RUT_365_ratio        0.998222      0.004215        1.000000  \n",
       "^RUT_120_ratio        0.994537      0.006985        0.991110  \n",
       "^RUT_90_ratio         0.991432      0.007319        0.987641  \n",
       "^RUT_60_ratio         0.985893      0.004915        0.981774  \n",
       "^GSPC                 0.743983      0.047092        0.740354  \n",
       "^RUT_30_ratio         0.974186      0.002142        0.969748  \n",
       "ES=F                  0.758378      0.047099        0.757474  \n",
       "^DJI                  0.727053      0.046731        0.721914  \n",
       "^RUT_30_avg           0.140467      0.250941        0.144857  \n",
       "^RUT_60_avg           0.085563      0.336337        0.093966  \n",
       "^RUT_120_avg          0.049223      0.470400        0.063139  \n",
       "^RUT_90_avg           0.058209      0.398428        0.069728  \n",
       "^RUT_252_avg          0.000487      0.804690        0.018799  \n",
       "^RUT_365_avg          0.003831      1.000000        0.004215  \n",
       "ZN=F                 -0.279958     -0.034989       -0.272641  "
      ]
     },
     "execution_count": 89,
     "metadata": {},
     "output_type": "execute_result"
    }
   ],
   "source": [
    "close_corrs_diffs_df.sort_values(by=target_col,ascending=False)"
   ]
  },
  {
   "cell_type": "code",
   "execution_count": 90,
   "id": "47c431ac",
   "metadata": {},
   "outputs": [
    {
     "name": "stdout",
     "output_type": "stream",
     "text": [
      "NULL value counts: Ticker\n",
      "ZN=F              18301\n",
      "ES=F              18263\n",
      "^RUT_365_ratio    17303\n",
      "^RUT_365_avg      17303\n",
      "^RUT_252_ratio    17076\n",
      "^RUT_252_avg      17076\n",
      "^RUT_120_ratio    16553\n",
      "^RUT_120_avg      16553\n",
      "^RUT_90_ratio     16416\n",
      "^RUT_90_avg       16416\n",
      "^RUT_60_ratio     16210\n",
      "^RUT_60_avg       16210\n",
      "^DJI              16086\n",
      "^RUT_30_ratio     15738\n",
      "^RUT_30_avg       15738\n",
      "^RUT              14996\n",
      "^GSPC                30\n",
      "dtype: int64\n",
      "\n",
      "NULL Value percentages: Ticker\n",
      "ZN=F              75.108758\n",
      "ES=F              74.952803\n",
      "^RUT_365_ratio    71.012887\n",
      "^RUT_365_avg      71.012887\n",
      "^RUT_252_ratio    70.081261\n",
      "^RUT_252_avg      70.081261\n",
      "^RUT_120_ratio    67.934827\n",
      "^RUT_120_avg      67.934827\n",
      "^RUT_90_ratio     67.372568\n",
      "^RUT_90_avg       67.372568\n",
      "^RUT_60_ratio     66.527128\n",
      "^RUT_60_avg       66.527128\n",
      "^DJI              66.018222\n",
      "^RUT_30_ratio     64.590002\n",
      "^RUT_30_avg       64.590002\n",
      "^RUT              61.544776\n",
      "^GSPC              0.123122\n",
      "dtype: float64\n",
      "df2 shape: (4121, 17)\n",
      "df2 head: Ticker                           ^RUT     ES=F        ZN=F          ^DJI  \\\n",
      "Date                                                                       \n",
      "2000-09-21 00:00:00+00:00  514.359985  1469.50   99.953133  10765.519531   \n",
      "2000-09-22 00:00:00+00:00  518.820007  1468.50   99.828133  10847.370117   \n",
      "2000-09-25 00:00:00+00:00  515.380005  1461.00   99.937500  10808.150391   \n",
      "2000-09-26 00:00:00+00:00  509.899994  1443.00  100.187500  10631.320312   \n",
      "2000-09-27 00:00:00+00:00  508.130005  1446.75  100.125000  10628.360352   \n",
      "\n",
      "Ticker                           ^GSPC  ^RUT_30_avg  ^RUT_30_ratio  \\\n",
      "Date                                                                 \n",
      "2000-09-21 00:00:00+00:00  1449.050049   524.975334       0.979779   \n",
      "2000-09-22 00:00:00+00:00  1448.719971   525.547667       0.987199   \n",
      "2000-09-25 00:00:00+00:00  1439.030029   525.718001       0.980335   \n",
      "2000-09-26 00:00:00+00:00  1427.209961   525.565335       0.970193   \n",
      "2000-09-27 00:00:00+00:00  1426.569946   525.505335       0.966936   \n",
      "\n",
      "Ticker                     ^RUT_60_avg  ^RUT_60_ratio  ^RUT_90_avg  \\\n",
      "Date                                                                 \n",
      "2000-09-21 00:00:00+00:00   521.814834       0.985714   514.583111   \n",
      "2000-09-22 00:00:00+00:00   521.778667       0.994330   514.725778   \n",
      "2000-09-25 00:00:00+00:00   521.825334       0.987648   514.900445   \n",
      "2000-09-26 00:00:00+00:00   521.703167       0.977376   515.111000   \n",
      "2000-09-27 00:00:00+00:00   521.438001       0.974478   515.426889   \n",
      "\n",
      "Ticker                     ^RUT_90_ratio  ^RUT_120_avg  ^RUT_120_ratio  \\\n",
      "Date                                                                     \n",
      "2000-09-21 00:00:00+00:00       0.999566    510.227916        1.008098   \n",
      "2000-09-22 00:00:00+00:00       1.007954    510.251083        1.016794   \n",
      "2000-09-25 00:00:00+00:00       1.000931    510.328250        1.009899   \n",
      "2000-09-26 00:00:00+00:00       0.989884    510.260417        0.999294   \n",
      "2000-09-27 00:00:00+00:00       0.985843    510.057333        0.996221   \n",
      "\n",
      "Ticker                     ^RUT_252_avg  ^RUT_252_ratio  ^RUT_365_avg  \\\n",
      "Date                                                                    \n",
      "2000-09-21 00:00:00+00:00    500.598413        1.027490    481.696931   \n",
      "2000-09-22 00:00:00+00:00    501.002103        1.035565    481.973781   \n",
      "2000-09-25 00:00:00+00:00    501.373214        1.027937    482.230767   \n",
      "2000-09-26 00:00:00+00:00    501.735952        1.016272    482.497863   \n",
      "2000-09-27 00:00:00+00:00    502.079643        1.012051    482.752082   \n",
      "\n",
      "Ticker                     ^RUT_365_ratio  \n",
      "Date                                       \n",
      "2000-09-21 00:00:00+00:00        1.067808  \n",
      "2000-09-22 00:00:00+00:00        1.076449  \n",
      "2000-09-25 00:00:00+00:00        1.068741  \n",
      "2000-09-26 00:00:00+00:00        1.056792  \n",
      "2000-09-27 00:00:00+00:00        1.052569  \n",
      "df2_fmt shape: (4120, 18)\n",
      "df2_fmt2 head:     var1(t-1)  var2(t-1)   var3(t-1)     var4(t-1)    var5(t-1)   var6(t-1)  \\\n",
      "1  514.359985    1469.50   99.953133  10765.519531  1449.050049  524.975342   \n",
      "2  518.820007    1468.50   99.828133  10847.370117  1448.719971  525.547668   \n",
      "3  515.380005    1461.00   99.937500  10808.150391  1439.030029  525.718018   \n",
      "4  509.899994    1443.00  100.187500  10631.320312  1427.209961  525.565308   \n",
      "5  508.130005    1446.75  100.125000  10628.360352  1426.569946  525.505310   \n",
      "\n",
      "   var7(t-1)   var8(t-1)  var9(t-1)  var10(t-1)  var11(t-1)  var12(t-1)  \\\n",
      "1   0.979779  521.814819   0.985714  514.583130    0.999566  510.227905   \n",
      "2   0.987199  521.778687   0.994330  514.725769    1.007954  510.251068   \n",
      "3   0.980335  521.825317   0.987648  514.900452    1.000931  510.328247   \n",
      "4   0.970193  521.703186   0.977376  515.111023    0.989884  510.260406   \n",
      "5   0.966936  521.437988   0.974478  515.426880    0.985843  510.057343   \n",
      "\n",
      "   var13(t-1)  var14(t-1)  var15(t-1)  var16(t-1)  var17(t-1)     var1(t)  \n",
      "1    1.008098  500.598419    1.027490  481.696930    1.067808  518.820007  \n",
      "2    1.016793  501.002106    1.035565  481.973785    1.076449  515.380005  \n",
      "3    1.009899  501.373199    1.027937  482.230774    1.068741  509.899994  \n",
      "4    0.999294  501.735962    1.016272  482.497864    1.056792  508.130005  \n",
      "5    0.996221  502.079651    1.012051  482.752075    1.052569  523.739990  \n",
      "df2_reframed head    var1(t-1)  var2(t-1)  var3(t-1)  var4(t-1)  var5(t-1)  var6(t-1)  \\\n",
      "1   0.081496   0.193066   0.003855   0.139442   0.187503   0.065656   \n",
      "2   0.083621   0.192822   0.000771   0.142147   0.187423   0.065950   \n",
      "3   0.081982   0.190998   0.003469   0.140851   0.185071   0.066037   \n",
      "4   0.079372   0.186618   0.009638   0.135006   0.182203   0.065959   \n",
      "5   0.078529   0.187530   0.008096   0.134908   0.182047   0.065928   \n",
      "\n",
      "   var7(t-1)  var8(t-1)  var9(t-1)  var10(t-1)  var11(t-1)  var12(t-1)  \\\n",
      "1   0.622301   0.052377   0.588562    0.040951    0.624524    0.035020   \n",
      "2   0.636930   0.052358   0.602722    0.041029    0.637860    0.035033   \n",
      "3   0.623398   0.052383   0.591742    0.041124    0.626694    0.035075   \n",
      "4   0.603401   0.052318   0.574860    0.041239    0.609129    0.035038   \n",
      "5   0.596978   0.052176   0.570099    0.041412    0.602704    0.034927   \n",
      "\n",
      "   var13(t-1)  var14(t-1)  var15(t-1)  var16(t-1)  var17(t-1)   var1(t)  \n",
      "1    0.598530    0.009898    0.517555    0.000000    0.583242  0.083621  \n",
      "2    0.610985    0.010127    0.526503    0.000164    0.592530  0.081982  \n",
      "3    0.601109    0.010337    0.518050    0.000316    0.584246  0.079372  \n",
      "4    0.585917    0.010543    0.505122    0.000475    0.571401  0.078529  \n",
      "5    0.581516    0.010738    0.500445    0.000625    0.566862  0.085964  \n",
      "X_train shape: (2472, 17), y_train shape: (2472,), X_test shape: (1648, 17),y_test shape: (1648,)\n"
     ]
    }
   ],
   "source": [
    "# This code helps you visualize how many null values are in each column\n",
    "print(f\"NULL value counts: {pd.isnull(close_df).sum().sort_values(ascending=False)}\")\n",
    "print(\"\")\n",
    "print(f\"NULL Value percentages: {(pd.isnull(close_df).sum()).sort_values(ascending=False) / len(close_df)*100}\")\n",
    "\n",
    "df2 = close_df\n",
    "df2 = df2.dropna(axis=0)\n",
    "df2 = df2.sort_index(ascending=True)\n",
    "\n",
    "print(f'df2 shape: {df2.shape}')\n",
    "print(f'df2 head: {df2.head()}')\n",
    "\n",
    "df2_values = df2.values\n",
    "df2_values = df2_values.astype('float32')\n",
    "\n",
    "#n_out variable is the number of periods to forecast outward in time\n",
    "#n_in variable is the number of periods to lag the time series of each variable\n",
    "\n",
    "df2_fmt = series_to_supervised(df2_values,1,1)\n",
    "\n",
    "f\"df2_values shape: {df2_values.shape}\"\n",
    "\n",
    "df2_fmt2 = df2_fmt.iloc[:,:-len(df2.columns)+1]\n",
    "\n",
    "print(f\"df2_fmt shape: {df2_fmt2.shape}\")\n",
    "print(f\"df2_fmt2 head: {df2_fmt2.head()}\")\n",
    "\n",
    "n_in = 1\n",
    "\n",
    "scaler = MinMaxScaler(feature_range=(0,1))\n",
    "scaled = scaler.fit_transform(df2_values)\n",
    "df2_reframed = series_to_supervised(scaled,n_in,1)\n",
    "df2_reframed3 = series_to_supervised(scaled,n_in,1)\n",
    "\n",
    "df2_reframed = df2_reframed.iloc[:,:-len(df2.columns)]\n",
    "df2_reframed['var1(t)'] = df2_reframed3['var1(t)']\n",
    "\n",
    "print(f\"df2_reframed head {df2_reframed.head()}\")\n",
    "# Now we have the primary stock we want to prdict (var1), its prices shifted back by 1 unit (because that was our chosen input value for our supervised learning function), as well as the other stocks that are also shifted all in the same dataframe\n",
    "\n",
    "values = df2_reframed.values\n",
    "\n",
    "train_split = round(int(len(values)*0.60))\n",
    "test_split = (len(values) - train_split)\n",
    "\n",
    "train = values[:train_split]\n",
    "test = values[train_split:]\n",
    "\n",
    "X_train,y_train = train[:,:-1],train[:,-1]\n",
    "X_test,y_test = test[:,:-1],test[:,-1]\n",
    "\n",
    "print(f\"X_train shape: {X_train.shape}, y_train shape: {y_train.shape}, X_test shape: {X_test.shape},y_test shape: {y_test.shape}\")\n",
    "\n",
    "# reshape input to be 3D [samples, timesteps, features]\n",
    "X_train = X_train.reshape(X_train.shape[0],1,X_train.shape[1])\n",
    "X_test = X_test.reshape(X_test.shape[0],1,X_test.shape[1])\n",
    "\n",
    "X_train.shape\n",
    "X_test.shape\n",
    "\n",
    "df = close_df"
   ]
  },
  {
   "cell_type": "code",
   "execution_count": 91,
   "id": "7cae33f6",
   "metadata": {},
   "outputs": [
    {
     "name": "stdout",
     "output_type": "stream",
     "text": [
      "Epoch 1/200\n",
      "155/155 [==============================] - 12s 20ms/step - loss: 4.6253 - val_loss: 0.4623 - lr: 0.0100\n",
      "Epoch 2/200\n",
      "155/155 [==============================] - 3s 17ms/step - loss: 0.1886 - val_loss: 0.2647 - lr: 0.0100\n",
      "Epoch 3/200\n",
      "155/155 [==============================] - 3s 19ms/step - loss: 0.0539 - val_loss: 0.1941 - lr: 0.0100\n",
      "Epoch 4/200\n",
      "155/155 [==============================] - 3s 19ms/step - loss: 0.0251 - val_loss: 0.1520 - lr: 0.0100\n",
      "Epoch 5/200\n",
      "155/155 [==============================] - 3s 19ms/step - loss: 0.0189 - val_loss: 0.1096 - lr: 0.0100\n",
      "Epoch 6/200\n",
      "155/155 [==============================] - 3s 19ms/step - loss: 0.0179 - val_loss: 0.0991 - lr: 0.0100\n",
      "Epoch 7/200\n",
      "155/155 [==============================] - 3s 19ms/step - loss: 0.0175 - val_loss: 0.1187 - lr: 0.0100\n",
      "Epoch 8/200\n",
      "155/155 [==============================] - 3s 18ms/step - loss: 0.0176 - val_loss: 0.1219 - lr: 0.0100\n",
      "Epoch 9/200\n",
      "155/155 [==============================] - 3s 19ms/step - loss: 0.0170 - val_loss: 0.1101 - lr: 0.0100\n",
      "Epoch 10/200\n",
      "155/155 [==============================] - 3s 18ms/step - loss: 0.0173 - val_loss: 0.1000 - lr: 0.0100\n",
      "Epoch 11/200\n",
      "155/155 [==============================] - 3s 18ms/step - loss: 0.0170 - val_loss: 0.1260 - lr: 0.0100\n",
      "Epoch 12/200\n",
      "155/155 [==============================] - 3s 18ms/step - loss: 0.0166 - val_loss: 0.0609 - lr: 0.0100\n",
      "Epoch 13/200\n",
      "155/155 [==============================] - 3s 17ms/step - loss: 0.0157 - val_loss: 0.0092 - lr: 0.0100\n",
      "Epoch 14/200\n",
      "155/155 [==============================] - 4s 23ms/step - loss: 0.0160 - val_loss: 0.0527 - lr: 0.0100\n",
      "Epoch 15/200\n",
      "155/155 [==============================] - 3s 19ms/step - loss: 0.0149 - val_loss: 0.0453 - lr: 0.0100\n",
      "Epoch 16/200\n",
      "155/155 [==============================] - 3s 18ms/step - loss: 0.0159 - val_loss: 0.0582 - lr: 0.0100\n",
      "Epoch 17/200\n",
      "155/155 [==============================] - 5s 34ms/step - loss: 0.0162 - val_loss: 0.0313 - lr: 0.0100\n",
      "Epoch 18/200\n",
      "155/155 [==============================] - 3s 17ms/step - loss: 0.0156 - val_loss: 0.0154 - lr: 0.0100\n",
      "Epoch 19/200\n",
      "155/155 [==============================] - 3s 17ms/step - loss: 0.0159 - val_loss: 0.0225 - lr: 0.0100\n",
      "Epoch 20/200\n",
      "155/155 [==============================] - 3s 19ms/step - loss: 0.0152 - val_loss: 0.0517 - lr: 0.0100\n",
      "Epoch 21/200\n",
      "155/155 [==============================] - 3s 19ms/step - loss: 0.0155 - val_loss: 0.0054 - lr: 0.0100\n",
      "Epoch 22/200\n",
      "155/155 [==============================] - 4s 23ms/step - loss: 0.0148 - val_loss: 0.0571 - lr: 0.0100\n",
      "Epoch 23/200\n",
      "155/155 [==============================] - 3s 17ms/step - loss: 0.0146 - val_loss: 0.0059 - lr: 0.0100\n",
      "Epoch 24/200\n",
      "155/155 [==============================] - 3s 19ms/step - loss: 0.0135 - val_loss: 0.0350 - lr: 0.0100\n",
      "Epoch 25/200\n",
      "155/155 [==============================] - 3s 19ms/step - loss: 0.0145 - val_loss: 0.0075 - lr: 0.0100\n",
      "Epoch 26/200\n",
      "155/155 [==============================] - 3s 19ms/step - loss: 0.0128 - val_loss: 0.0900 - lr: 0.0100\n",
      "Epoch 27/200\n",
      "155/155 [==============================] - 3s 19ms/step - loss: 0.0144 - val_loss: 0.0099 - lr: 0.0100\n",
      "Epoch 28/200\n",
      "155/155 [==============================] - 3s 19ms/step - loss: 0.0131 - val_loss: 0.0956 - lr: 0.0100\n",
      "Epoch 29/200\n",
      "155/155 [==============================] - 3s 19ms/step - loss: 0.0124 - val_loss: 0.0347 - lr: 0.0100\n",
      "Epoch 30/200\n",
      "155/155 [==============================] - 3s 18ms/step - loss: 0.0125 - val_loss: 0.0444 - lr: 0.0100\n",
      "Epoch 31/200\n",
      "155/155 [==============================] - 3s 19ms/step - loss: 0.0113 - val_loss: 0.0762 - lr: 0.0100\n",
      "Epoch 32/200\n",
      "155/155 [==============================] - 3s 19ms/step - loss: 0.0119 - val_loss: 0.0055 - lr: 0.0100\n",
      "Epoch 33/200\n",
      "155/155 [==============================] - 3s 17ms/step - loss: 0.0111 - val_loss: 0.0291 - lr: 0.0100\n",
      "Epoch 34/200\n",
      "155/155 [==============================] - 3s 19ms/step - loss: 0.0118 - val_loss: 0.0831 - lr: 0.0100\n",
      "Epoch 35/200\n",
      "155/155 [==============================] - 3s 19ms/step - loss: 0.0104 - val_loss: 0.0571 - lr: 0.0100\n",
      "Epoch 36/200\n",
      "155/155 [==============================] - 3s 19ms/step - loss: 0.0100 - val_loss: 0.0166 - lr: 0.0100\n",
      "Epoch 37/200\n",
      "155/155 [==============================] - 3s 19ms/step - loss: 0.0103 - val_loss: 0.1323 - lr: 0.0100\n",
      "Epoch 38/200\n",
      "155/155 [==============================] - 3s 17ms/step - loss: 0.0096 - val_loss: 0.0816 - lr: 0.0100\n",
      "Epoch 39/200\n",
      "155/155 [==============================] - 3s 20ms/step - loss: 0.0094 - val_loss: 0.0554 - lr: 0.0100\n",
      "Epoch 40/200\n",
      "155/155 [==============================] - 3s 17ms/step - loss: 0.0092 - val_loss: 0.0953 - lr: 0.0100\n",
      "Epoch 41/200\n",
      "155/155 [==============================] - 9s 55ms/step - loss: 0.0090 - val_loss: 0.0779 - lr: 0.0100\n",
      "Epoch 42/200\n",
      "155/155 [==============================] - 3s 18ms/step - loss: 0.0081 - val_loss: 0.0846 - lr: 0.0100\n",
      "Epoch 43/200\n",
      "155/155 [==============================] - 3s 22ms/step - loss: 0.0079 - val_loss: 0.1030 - lr: 0.0100\n",
      "Epoch 44/200\n",
      "155/155 [==============================] - 20s 131ms/step - loss: 0.0087 - val_loss: 0.1388 - lr: 0.0100\n",
      "Epoch 45/200\n",
      "155/155 [==============================] - 3s 23ms/step - loss: 0.0090 - val_loss: 0.0693 - lr: 0.0100\n",
      "Epoch 46/200\n",
      "153/155 [============================>.] - ETA: 0s - loss: 0.0077\n",
      "Epoch 46: ReduceLROnPlateau reducing learning rate to 0.0009999999776482583.\n",
      "155/155 [==============================] - 3s 17ms/step - loss: 0.0077 - val_loss: 0.0576 - lr: 0.0100\n",
      "Epoch 47/200\n",
      "155/155 [==============================] - 3s 19ms/step - loss: 0.0071 - val_loss: 0.0704 - lr: 1.0000e-03\n",
      "Epoch 48/200\n",
      "155/155 [==============================] - 3s 18ms/step - loss: 0.0065 - val_loss: 0.0814 - lr: 1.0000e-03\n",
      "Epoch 49/200\n",
      "155/155 [==============================] - 3s 19ms/step - loss: 0.0066 - val_loss: 0.0732 - lr: 1.0000e-03\n",
      "Epoch 50/200\n",
      "155/155 [==============================] - 3s 19ms/step - loss: 0.0066 - val_loss: 0.0727 - lr: 1.0000e-03\n",
      "Epoch 51/200\n",
      "155/155 [==============================] - 3s 19ms/step - loss: 0.0066 - val_loss: 0.0956 - lr: 1.0000e-03\n",
      "Epoch 52/200\n",
      "155/155 [==============================] - 3s 19ms/step - loss: 0.0063 - val_loss: 0.0898 - lr: 1.0000e-03\n",
      "Epoch 53/200\n",
      "155/155 [==============================] - 3s 18ms/step - loss: 0.0063 - val_loss: 0.0819 - lr: 1.0000e-03\n",
      "Epoch 54/200\n",
      "155/155 [==============================] - 3s 19ms/step - loss: 0.0062 - val_loss: 0.0705 - lr: 1.0000e-03\n",
      "Epoch 55/200\n",
      "155/155 [==============================] - 3s 19ms/step - loss: 0.0063 - val_loss: 0.0780 - lr: 1.0000e-03\n",
      "Epoch 56/200\n",
      "155/155 [==============================] - 3s 19ms/step - loss: 0.0064 - val_loss: 0.0928 - lr: 1.0000e-03\n",
      "Epoch 57/200\n",
      "155/155 [==============================] - 3s 18ms/step - loss: 0.0061 - val_loss: 0.0764 - lr: 1.0000e-03\n",
      "Epoch 58/200\n",
      "155/155 [==============================] - 3s 18ms/step - loss: 0.0064 - val_loss: 0.0885 - lr: 1.0000e-03\n",
      "Epoch 59/200\n",
      "155/155 [==============================] - 3s 18ms/step - loss: 0.0060 - val_loss: 0.0880 - lr: 1.0000e-03\n",
      "Epoch 60/200\n",
      "155/155 [==============================] - 3s 18ms/step - loss: 0.0059 - val_loss: 0.0807 - lr: 1.0000e-03\n",
      "Epoch 61/200\n",
      "155/155 [==============================] - 3s 19ms/step - loss: 0.0065 - val_loss: 0.0875 - lr: 1.0000e-03\n",
      "Epoch 62/200\n",
      "155/155 [==============================] - 3s 18ms/step - loss: 0.0059 - val_loss: 0.0842 - lr: 1.0000e-03\n",
      "Epoch 63/200\n",
      "155/155 [==============================] - 3s 18ms/step - loss: 0.0059 - val_loss: 0.0891 - lr: 1.0000e-03\n",
      "Epoch 64/200\n",
      "155/155 [==============================] - 3s 18ms/step - loss: 0.0057 - val_loss: 0.1010 - lr: 1.0000e-03\n",
      "Epoch 65/200\n",
      "155/155 [==============================] - 3s 18ms/step - loss: 0.0061 - val_loss: 0.1024 - lr: 1.0000e-03\n",
      "Epoch 66/200\n",
      "155/155 [==============================] - 3s 18ms/step - loss: 0.0061 - val_loss: 0.0847 - lr: 1.0000e-03\n",
      "Epoch 67/200\n",
      "155/155 [==============================] - 3s 19ms/step - loss: 0.0058 - val_loss: 0.0758 - lr: 1.0000e-03\n",
      "Epoch 68/200\n",
      "155/155 [==============================] - 3s 17ms/step - loss: 0.0058 - val_loss: 0.0939 - lr: 1.0000e-03\n",
      "Epoch 69/200\n",
      "155/155 [==============================] - 3s 19ms/step - loss: 0.0061 - val_loss: 0.1035 - lr: 1.0000e-03\n"
     ]
    },
    {
     "name": "stdout",
     "output_type": "stream",
     "text": [
      "Epoch 70/200\n",
      "155/155 [==============================] - 3s 19ms/step - loss: 0.0060 - val_loss: 0.1089 - lr: 1.0000e-03\n",
      "Epoch 71/200\n",
      "154/155 [============================>.] - ETA: 0s - loss: 0.0062\n",
      "Epoch 71: ReduceLROnPlateau reducing learning rate to 9.999999310821295e-05.\n",
      "155/155 [==============================] - 3s 18ms/step - loss: 0.0062 - val_loss: 0.0713 - lr: 1.0000e-03\n",
      "52/52 [==============================] - 1s 22ms/step - loss: 0.0054\n",
      "Test MSE: 0.005434055346995592\n",
      "52/52 [==============================] - 0s 5ms/step\n"
     ]
    }
   ],
   "source": [
    "# Parameters\n",
    "patience = 50\n",
    "#sequence_length = 30  # Number of days to look back\n",
    "features = df.shape[1]  # Number of features\n",
    "epochs = 200\n",
    "batch_size = 16\n",
    "# The below filter size seems to have the best results thus far\n",
    "#filter1 = 128\n",
    "\n",
    "# This is our new experimental filter value\n",
    "#filter1 = 64\n",
    "filter1 = 10\n",
    "\n",
    "early_stopping = EarlyStopping(patience=patience,monitor='val_loss',restore_best_weights=True)\n",
    "checkpoint_filepath = \"/kaggle/working Checkpoints/best_model{epoch:02d}_{val_loss:.2f}.keras\"\n",
    "model_checkpoint = ModelCheckpoint(filepath=checkpoint_filepath,monitor='val_loss',verbose=1,save_best_only=True,mode='min')\n",
    "reduce_lr = ReduceLROnPlateau(monitor='val_loss',factor=0.1,patience=(patience/2),verbose=1,mode='auto',min_delta=0.0001,cooldown=0,min_lr=0.0)\n",
    "\n",
    "# df = close_df\n",
    "\n",
    "# TCN model architecture\n",
    "def build_tcn(input_shape):\n",
    "    inputs = Input(shape=input_shape)\n",
    "    x = Conv1D(filter1, kernel_size=5, dilation_rate=1, padding=\"causal\")(inputs)\n",
    "    x = BatchNormalization()(x)\n",
    "    x = ReLU()(x)\n",
    "    \n",
    "    # Stacking TCN blocks with residual connections\n",
    "    for dilation_rate in [2, 4, 6, 8, 16, 64]:\n",
    "        previous_x = x\n",
    "        x = Conv1D(filter1, kernel_size=5, dilation_rate=dilation_rate, padding=\"causal\")(x)\n",
    "        x = BatchNormalization()(x)\n",
    "        x = ReLU()(x)\n",
    "        x = Add()([x, previous_x])  # Residual connection\n",
    "        x = Dropout(rate=0.3)(x)\n",
    "    \n",
    "    x = Flatten()(x)\n",
    "    outputs = Dense(1)(x)\n",
    "    \n",
    "    model = Model(inputs, outputs)\n",
    "    return model\n",
    "\n",
    "# Compile model\n",
    "input_shape = (X_train.shape[1], X_train.shape[2])\n",
    "model = build_tcn(input_shape)\n",
    "model.compile(optimizer=Adam(learning_rate=0.01), loss='mean_squared_error')\n",
    "\n",
    "# Train model\n",
    "history = model.fit(X_train, y_train, validation_data=(X_test, y_test), epochs=epochs, batch_size=batch_size,callbacks=[early_stopping,reduce_lr])\n",
    "\n",
    "# Evaluate model\n",
    "mse = model.evaluate(X_test, y_test)\n",
    "print(\"Test MSE:\", mse)\n",
    "\n",
    "predictions = model.predict(X_test)"
   ]
  },
  {
   "cell_type": "code",
   "execution_count": 79,
   "id": "31a8926f",
   "metadata": {},
   "outputs": [
    {
     "data": {
      "application/vnd.plotly.v1+json": {
       "config": {
        "plotlyServerURL": "https://plot.ly"
       },
       "data": [
        {
         "marker": {
          "color": "#FF6F61",
          "opacity": 0.9
         },
         "mode": "lines",
         "name": "train",
         "type": "scatter",
         "y": [
          5.96894645690918,
          0.2474154382944107,
          0.08236419409513474,
          0.035189516842365265,
          0.020161820575594902,
          0.014964886009693146,
          0.013029509223997593,
          0.012054458260536194,
          0.012504790909588337,
          0.012394987046718597,
          0.01207600999623537,
          0.012061463668942451,
          0.011945345439016819,
          0.011960914358496666,
          0.011586171574890614,
          0.011644150130450726,
          0.011906909756362438,
          0.011877354234457016,
          0.012077211402356625,
          0.011283651925623417,
          0.01167610939592123,
          0.011143555864691734,
          0.01205713115632534,
          0.010746299289166927,
          0.011338123120367527,
          0.012616092339158058,
          0.011227731592953205,
          0.01228404976427555,
          0.009532102383673191,
          0.011540206149220467,
          0.010179860517382622,
          0.010161824524402618,
          0.01093910913914442,
          0.009069941006600857,
          0.009119298309087753,
          0.009536398574709892,
          0.008543957024812698,
          0.008762006647884846,
          0.00801368709653616,
          0.007507770787924528,
          0.007615871727466583,
          0.0069884383119642735,
          0.007214901968836784,
          0.006299349945038557,
          0.006157499738037586,
          0.005686350166797638,
          0.0054275342263281345,
          0.0051660966128110886,
          0.005745180882513523,
          0.00643100356683135,
          0.005426253192126751,
          0.0050001903437078,
          0.005266981199383736,
          0.004971785470843315,
          0.0053207832388579845,
          0.004876716993749142,
          0.005019594915211201,
          0.0053995572961866856,
          0.005209082737565041,
          0.004147290252149105,
          0.004246113356202841,
          0.004085405729711056,
          0.00370858795940876,
          0.003906717523932457,
          0.004217512905597687,
          0.004123138263821602,
          0.004072882235050201,
          0.003825065679848194,
          0.00378423067741096,
          0.003962136339396238,
          0.004100263584405184,
          0.0038531748577952385,
          0.003824773244559765,
          0.003762410022318363,
          0.0038188989274203777,
          0.0036863747518509626,
          0.003743511624634266,
          0.003995022736489773,
          0.003803770523518324
         ]
        },
        {
         "marker": {
          "color": "#1d5dec",
          "opacity": 0.9
         },
         "mode": "lines",
         "name": "test",
         "type": "scatter",
         "y": [
          0.7197199463844299,
          0.4721130430698395,
          0.24206368625164032,
          0.19444185495376587,
          0.1683180332183838,
          0.2064332813024521,
          0.2100561261177063,
          0.20201776921749115,
          0.22276104986667633,
          0.19599907100200653,
          0.24440275132656097,
          0.19658873975276947,
          0.18467307090759277,
          0.193514883518219,
          0.1499442309141159,
          0.09972434490919113,
          0.14950835704803467,
          0.14615552127361298,
          0.11348795890808105,
          0.2829734981060028,
          0.2496204525232315,
          0.15145598351955414,
          0.11381649225950241,
          0.10301700234413147,
          0.07567110657691956,
          0.23121726512908936,
          0.10106129199266434,
          0.09678706526756287,
          0.02327694743871689,
          0.1837097704410553,
          0.08922512829303741,
          0.020311769098043442,
          0.04823445528745651,
          0.17298278212547302,
          0.139015793800354,
          0.07881798595190048,
          0.09191861003637314,
          0.14623618125915527,
          0.01865234598517418,
          0.028285091742873192,
          0.20088376104831696,
          0.16191330552101135,
          0.16764788329601288,
          0.12900568544864655,
          0.08410286903381348,
          0.16572415828704834,
          0.16416648030281067,
          0.15525762736797333,
          0.28504109382629395,
          0.07708657532930374,
          0.18943682312965393,
          0.15144339203834534,
          0.1941927820444107,
          0.150144562125206,
          0.13767588138580322,
          0.17102961242198944,
          0.17344792187213898,
          0.07360086590051651,
          0.18031300604343414,
          0.14481672644615173,
          0.15825243294239044,
          0.1403195708990097,
          0.15413376688957214,
          0.14630559086799622,
          0.14754146337509155,
          0.13633418083190918,
          0.15356580913066864,
          0.15975278615951538,
          0.17177408933639526,
          0.17851270735263824,
          0.17101699113845825,
          0.18966448307037354,
          0.1394420564174652,
          0.18732307851314545,
          0.17559504508972168,
          0.18594728410243988,
          0.14094500243663788,
          0.18202361464500427,
          0.20301507413387299
         ]
        }
       ],
       "layout": {
        "height": 600,
        "template": {
         "data": {
          "bar": [
           {
            "error_x": {
             "color": "#f2f5fa"
            },
            "error_y": {
             "color": "#f2f5fa"
            },
            "marker": {
             "line": {
              "color": "rgb(17,17,17)",
              "width": 0.5
             },
             "pattern": {
              "fillmode": "overlay",
              "size": 10,
              "solidity": 0.2
             }
            },
            "type": "bar"
           }
          ],
          "barpolar": [
           {
            "marker": {
             "line": {
              "color": "rgb(17,17,17)",
              "width": 0.5
             },
             "pattern": {
              "fillmode": "overlay",
              "size": 10,
              "solidity": 0.2
             }
            },
            "type": "barpolar"
           }
          ],
          "carpet": [
           {
            "aaxis": {
             "endlinecolor": "#A2B1C6",
             "gridcolor": "#506784",
             "linecolor": "#506784",
             "minorgridcolor": "#506784",
             "startlinecolor": "#A2B1C6"
            },
            "baxis": {
             "endlinecolor": "#A2B1C6",
             "gridcolor": "#506784",
             "linecolor": "#506784",
             "minorgridcolor": "#506784",
             "startlinecolor": "#A2B1C6"
            },
            "type": "carpet"
           }
          ],
          "choropleth": [
           {
            "colorbar": {
             "outlinewidth": 0,
             "ticks": ""
            },
            "type": "choropleth"
           }
          ],
          "contour": [
           {
            "colorbar": {
             "outlinewidth": 0,
             "ticks": ""
            },
            "colorscale": [
             [
              0,
              "#0d0887"
             ],
             [
              0.1111111111111111,
              "#46039f"
             ],
             [
              0.2222222222222222,
              "#7201a8"
             ],
             [
              0.3333333333333333,
              "#9c179e"
             ],
             [
              0.4444444444444444,
              "#bd3786"
             ],
             [
              0.5555555555555556,
              "#d8576b"
             ],
             [
              0.6666666666666666,
              "#ed7953"
             ],
             [
              0.7777777777777778,
              "#fb9f3a"
             ],
             [
              0.8888888888888888,
              "#fdca26"
             ],
             [
              1,
              "#f0f921"
             ]
            ],
            "type": "contour"
           }
          ],
          "contourcarpet": [
           {
            "colorbar": {
             "outlinewidth": 0,
             "ticks": ""
            },
            "type": "contourcarpet"
           }
          ],
          "heatmap": [
           {
            "colorbar": {
             "outlinewidth": 0,
             "ticks": ""
            },
            "colorscale": [
             [
              0,
              "#0d0887"
             ],
             [
              0.1111111111111111,
              "#46039f"
             ],
             [
              0.2222222222222222,
              "#7201a8"
             ],
             [
              0.3333333333333333,
              "#9c179e"
             ],
             [
              0.4444444444444444,
              "#bd3786"
             ],
             [
              0.5555555555555556,
              "#d8576b"
             ],
             [
              0.6666666666666666,
              "#ed7953"
             ],
             [
              0.7777777777777778,
              "#fb9f3a"
             ],
             [
              0.8888888888888888,
              "#fdca26"
             ],
             [
              1,
              "#f0f921"
             ]
            ],
            "type": "heatmap"
           }
          ],
          "heatmapgl": [
           {
            "colorbar": {
             "outlinewidth": 0,
             "ticks": ""
            },
            "colorscale": [
             [
              0,
              "#0d0887"
             ],
             [
              0.1111111111111111,
              "#46039f"
             ],
             [
              0.2222222222222222,
              "#7201a8"
             ],
             [
              0.3333333333333333,
              "#9c179e"
             ],
             [
              0.4444444444444444,
              "#bd3786"
             ],
             [
              0.5555555555555556,
              "#d8576b"
             ],
             [
              0.6666666666666666,
              "#ed7953"
             ],
             [
              0.7777777777777778,
              "#fb9f3a"
             ],
             [
              0.8888888888888888,
              "#fdca26"
             ],
             [
              1,
              "#f0f921"
             ]
            ],
            "type": "heatmapgl"
           }
          ],
          "histogram": [
           {
            "marker": {
             "pattern": {
              "fillmode": "overlay",
              "size": 10,
              "solidity": 0.2
             }
            },
            "type": "histogram"
           }
          ],
          "histogram2d": [
           {
            "colorbar": {
             "outlinewidth": 0,
             "ticks": ""
            },
            "colorscale": [
             [
              0,
              "#0d0887"
             ],
             [
              0.1111111111111111,
              "#46039f"
             ],
             [
              0.2222222222222222,
              "#7201a8"
             ],
             [
              0.3333333333333333,
              "#9c179e"
             ],
             [
              0.4444444444444444,
              "#bd3786"
             ],
             [
              0.5555555555555556,
              "#d8576b"
             ],
             [
              0.6666666666666666,
              "#ed7953"
             ],
             [
              0.7777777777777778,
              "#fb9f3a"
             ],
             [
              0.8888888888888888,
              "#fdca26"
             ],
             [
              1,
              "#f0f921"
             ]
            ],
            "type": "histogram2d"
           }
          ],
          "histogram2dcontour": [
           {
            "colorbar": {
             "outlinewidth": 0,
             "ticks": ""
            },
            "colorscale": [
             [
              0,
              "#0d0887"
             ],
             [
              0.1111111111111111,
              "#46039f"
             ],
             [
              0.2222222222222222,
              "#7201a8"
             ],
             [
              0.3333333333333333,
              "#9c179e"
             ],
             [
              0.4444444444444444,
              "#bd3786"
             ],
             [
              0.5555555555555556,
              "#d8576b"
             ],
             [
              0.6666666666666666,
              "#ed7953"
             ],
             [
              0.7777777777777778,
              "#fb9f3a"
             ],
             [
              0.8888888888888888,
              "#fdca26"
             ],
             [
              1,
              "#f0f921"
             ]
            ],
            "type": "histogram2dcontour"
           }
          ],
          "mesh3d": [
           {
            "colorbar": {
             "outlinewidth": 0,
             "ticks": ""
            },
            "type": "mesh3d"
           }
          ],
          "parcoords": [
           {
            "line": {
             "colorbar": {
              "outlinewidth": 0,
              "ticks": ""
             }
            },
            "type": "parcoords"
           }
          ],
          "pie": [
           {
            "automargin": true,
            "type": "pie"
           }
          ],
          "scatter": [
           {
            "marker": {
             "line": {
              "color": "#283442"
             }
            },
            "type": "scatter"
           }
          ],
          "scatter3d": [
           {
            "line": {
             "colorbar": {
              "outlinewidth": 0,
              "ticks": ""
             }
            },
            "marker": {
             "colorbar": {
              "outlinewidth": 0,
              "ticks": ""
             }
            },
            "type": "scatter3d"
           }
          ],
          "scattercarpet": [
           {
            "marker": {
             "colorbar": {
              "outlinewidth": 0,
              "ticks": ""
             }
            },
            "type": "scattercarpet"
           }
          ],
          "scattergeo": [
           {
            "marker": {
             "colorbar": {
              "outlinewidth": 0,
              "ticks": ""
             }
            },
            "type": "scattergeo"
           }
          ],
          "scattergl": [
           {
            "marker": {
             "line": {
              "color": "#283442"
             }
            },
            "type": "scattergl"
           }
          ],
          "scattermapbox": [
           {
            "marker": {
             "colorbar": {
              "outlinewidth": 0,
              "ticks": ""
             }
            },
            "type": "scattermapbox"
           }
          ],
          "scatterpolar": [
           {
            "marker": {
             "colorbar": {
              "outlinewidth": 0,
              "ticks": ""
             }
            },
            "type": "scatterpolar"
           }
          ],
          "scatterpolargl": [
           {
            "marker": {
             "colorbar": {
              "outlinewidth": 0,
              "ticks": ""
             }
            },
            "type": "scatterpolargl"
           }
          ],
          "scatterternary": [
           {
            "marker": {
             "colorbar": {
              "outlinewidth": 0,
              "ticks": ""
             }
            },
            "type": "scatterternary"
           }
          ],
          "surface": [
           {
            "colorbar": {
             "outlinewidth": 0,
             "ticks": ""
            },
            "colorscale": [
             [
              0,
              "#0d0887"
             ],
             [
              0.1111111111111111,
              "#46039f"
             ],
             [
              0.2222222222222222,
              "#7201a8"
             ],
             [
              0.3333333333333333,
              "#9c179e"
             ],
             [
              0.4444444444444444,
              "#bd3786"
             ],
             [
              0.5555555555555556,
              "#d8576b"
             ],
             [
              0.6666666666666666,
              "#ed7953"
             ],
             [
              0.7777777777777778,
              "#fb9f3a"
             ],
             [
              0.8888888888888888,
              "#fdca26"
             ],
             [
              1,
              "#f0f921"
             ]
            ],
            "type": "surface"
           }
          ],
          "table": [
           {
            "cells": {
             "fill": {
              "color": "#506784"
             },
             "line": {
              "color": "rgb(17,17,17)"
             }
            },
            "header": {
             "fill": {
              "color": "#2a3f5f"
             },
             "line": {
              "color": "rgb(17,17,17)"
             }
            },
            "type": "table"
           }
          ]
         },
         "layout": {
          "annotationdefaults": {
           "arrowcolor": "#f2f5fa",
           "arrowhead": 0,
           "arrowwidth": 1
          },
          "autotypenumbers": "strict",
          "coloraxis": {
           "colorbar": {
            "outlinewidth": 0,
            "ticks": ""
           }
          },
          "colorscale": {
           "diverging": [
            [
             0,
             "#8e0152"
            ],
            [
             0.1,
             "#c51b7d"
            ],
            [
             0.2,
             "#de77ae"
            ],
            [
             0.3,
             "#f1b6da"
            ],
            [
             0.4,
             "#fde0ef"
            ],
            [
             0.5,
             "#f7f7f7"
            ],
            [
             0.6,
             "#e6f5d0"
            ],
            [
             0.7,
             "#b8e186"
            ],
            [
             0.8,
             "#7fbc41"
            ],
            [
             0.9,
             "#4d9221"
            ],
            [
             1,
             "#276419"
            ]
           ],
           "sequential": [
            [
             0,
             "#0d0887"
            ],
            [
             0.1111111111111111,
             "#46039f"
            ],
            [
             0.2222222222222222,
             "#7201a8"
            ],
            [
             0.3333333333333333,
             "#9c179e"
            ],
            [
             0.4444444444444444,
             "#bd3786"
            ],
            [
             0.5555555555555556,
             "#d8576b"
            ],
            [
             0.6666666666666666,
             "#ed7953"
            ],
            [
             0.7777777777777778,
             "#fb9f3a"
            ],
            [
             0.8888888888888888,
             "#fdca26"
            ],
            [
             1,
             "#f0f921"
            ]
           ],
           "sequentialminus": [
            [
             0,
             "#0d0887"
            ],
            [
             0.1111111111111111,
             "#46039f"
            ],
            [
             0.2222222222222222,
             "#7201a8"
            ],
            [
             0.3333333333333333,
             "#9c179e"
            ],
            [
             0.4444444444444444,
             "#bd3786"
            ],
            [
             0.5555555555555556,
             "#d8576b"
            ],
            [
             0.6666666666666666,
             "#ed7953"
            ],
            [
             0.7777777777777778,
             "#fb9f3a"
            ],
            [
             0.8888888888888888,
             "#fdca26"
            ],
            [
             1,
             "#f0f921"
            ]
           ]
          },
          "colorway": [
           "#636efa",
           "#EF553B",
           "#00cc96",
           "#ab63fa",
           "#FFA15A",
           "#19d3f3",
           "#FF6692",
           "#B6E880",
           "#FF97FF",
           "#FECB52"
          ],
          "font": {
           "color": "#f2f5fa"
          },
          "geo": {
           "bgcolor": "rgb(17,17,17)",
           "lakecolor": "rgb(17,17,17)",
           "landcolor": "rgb(17,17,17)",
           "showlakes": true,
           "showland": true,
           "subunitcolor": "#506784"
          },
          "hoverlabel": {
           "align": "left"
          },
          "hovermode": "closest",
          "mapbox": {
           "style": "dark"
          },
          "paper_bgcolor": "rgb(17,17,17)",
          "plot_bgcolor": "rgb(17,17,17)",
          "polar": {
           "angularaxis": {
            "gridcolor": "#506784",
            "linecolor": "#506784",
            "ticks": ""
           },
           "bgcolor": "rgb(17,17,17)",
           "radialaxis": {
            "gridcolor": "#506784",
            "linecolor": "#506784",
            "ticks": ""
           }
          },
          "scene": {
           "xaxis": {
            "backgroundcolor": "rgb(17,17,17)",
            "gridcolor": "#506784",
            "gridwidth": 2,
            "linecolor": "#506784",
            "showbackground": true,
            "ticks": "",
            "zerolinecolor": "#C8D4E3"
           },
           "yaxis": {
            "backgroundcolor": "rgb(17,17,17)",
            "gridcolor": "#506784",
            "gridwidth": 2,
            "linecolor": "#506784",
            "showbackground": true,
            "ticks": "",
            "zerolinecolor": "#C8D4E3"
           },
           "zaxis": {
            "backgroundcolor": "rgb(17,17,17)",
            "gridcolor": "#506784",
            "gridwidth": 2,
            "linecolor": "#506784",
            "showbackground": true,
            "ticks": "",
            "zerolinecolor": "#C8D4E3"
           }
          },
          "shapedefaults": {
           "line": {
            "color": "#f2f5fa"
           }
          },
          "sliderdefaults": {
           "bgcolor": "#C8D4E3",
           "bordercolor": "rgb(17,17,17)",
           "borderwidth": 1,
           "tickwidth": 0
          },
          "ternary": {
           "aaxis": {
            "gridcolor": "#506784",
            "linecolor": "#506784",
            "ticks": ""
           },
           "baxis": {
            "gridcolor": "#506784",
            "linecolor": "#506784",
            "ticks": ""
           },
           "bgcolor": "rgb(17,17,17)",
           "caxis": {
            "gridcolor": "#506784",
            "linecolor": "#506784",
            "ticks": ""
           }
          },
          "title": {
           "x": 0.05
          },
          "updatemenudefaults": {
           "bgcolor": "#506784",
           "borderwidth": 0
          },
          "xaxis": {
           "automargin": true,
           "gridcolor": "#283442",
           "linecolor": "#506784",
           "ticks": "",
           "title": {
            "standoff": 15
           },
           "zerolinecolor": "#283442",
           "zerolinewidth": 2
          },
          "yaxis": {
           "automargin": true,
           "gridcolor": "#283442",
           "linecolor": "#506784",
           "ticks": "",
           "title": {
            "standoff": 15
           },
           "zerolinecolor": "#283442",
           "zerolinewidth": 2
          }
         }
        },
        "title": {
         "text": "train/test logarithmic loss comparison"
        },
        "width": 1000
       }
      },
      "text/html": [
       "<div>                            <div id=\"ff9e3933-2e1e-406a-a746-d4c4af0bb15e\" class=\"plotly-graph-div\" style=\"height:600px; width:1000px;\"></div>            <script type=\"text/javascript\">                require([\"plotly\"], function(Plotly) {                    window.PLOTLYENV=window.PLOTLYENV || {};                                    if (document.getElementById(\"ff9e3933-2e1e-406a-a746-d4c4af0bb15e\")) {                    Plotly.newPlot(                        \"ff9e3933-2e1e-406a-a746-d4c4af0bb15e\",                        [{\"marker\":{\"color\":\"#FF6F61\",\"opacity\":0.9},\"mode\":\"lines\",\"name\":\"train\",\"y\":[5.96894645690918,0.2474154382944107,0.08236419409513474,0.035189516842365265,0.020161820575594902,0.014964886009693146,0.013029509223997593,0.012054458260536194,0.012504790909588337,0.012394987046718597,0.01207600999623537,0.012061463668942451,0.011945345439016819,0.011960914358496666,0.011586171574890614,0.011644150130450726,0.011906909756362438,0.011877354234457016,0.012077211402356625,0.011283651925623417,0.01167610939592123,0.011143555864691734,0.01205713115632534,0.010746299289166927,0.011338123120367527,0.012616092339158058,0.011227731592953205,0.01228404976427555,0.009532102383673191,0.011540206149220467,0.010179860517382622,0.010161824524402618,0.01093910913914442,0.009069941006600857,0.009119298309087753,0.009536398574709892,0.008543957024812698,0.008762006647884846,0.00801368709653616,0.007507770787924528,0.007615871727466583,0.0069884383119642735,0.007214901968836784,0.006299349945038557,0.006157499738037586,0.005686350166797638,0.0054275342263281345,0.0051660966128110886,0.005745180882513523,0.00643100356683135,0.005426253192126751,0.0050001903437078,0.005266981199383736,0.004971785470843315,0.0053207832388579845,0.004876716993749142,0.005019594915211201,0.0053995572961866856,0.005209082737565041,0.004147290252149105,0.004246113356202841,0.004085405729711056,0.00370858795940876,0.003906717523932457,0.004217512905597687,0.004123138263821602,0.004072882235050201,0.003825065679848194,0.00378423067741096,0.003962136339396238,0.004100263584405184,0.0038531748577952385,0.003824773244559765,0.003762410022318363,0.0038188989274203777,0.0036863747518509626,0.003743511624634266,0.003995022736489773,0.003803770523518324],\"type\":\"scatter\"},{\"marker\":{\"color\":\"#1d5dec\",\"opacity\":0.9},\"mode\":\"lines\",\"name\":\"test\",\"y\":[0.7197199463844299,0.4721130430698395,0.24206368625164032,0.19444185495376587,0.1683180332183838,0.2064332813024521,0.2100561261177063,0.20201776921749115,0.22276104986667633,0.19599907100200653,0.24440275132656097,0.19658873975276947,0.18467307090759277,0.193514883518219,0.1499442309141159,0.09972434490919113,0.14950835704803467,0.14615552127361298,0.11348795890808105,0.2829734981060028,0.2496204525232315,0.15145598351955414,0.11381649225950241,0.10301700234413147,0.07567110657691956,0.23121726512908936,0.10106129199266434,0.09678706526756287,0.02327694743871689,0.1837097704410553,0.08922512829303741,0.020311769098043442,0.04823445528745651,0.17298278212547302,0.139015793800354,0.07881798595190048,0.09191861003637314,0.14623618125915527,0.01865234598517418,0.028285091742873192,0.20088376104831696,0.16191330552101135,0.16764788329601288,0.12900568544864655,0.08410286903381348,0.16572415828704834,0.16416648030281067,0.15525762736797333,0.28504109382629395,0.07708657532930374,0.18943682312965393,0.15144339203834534,0.1941927820444107,0.150144562125206,0.13767588138580322,0.17102961242198944,0.17344792187213898,0.07360086590051651,0.18031300604343414,0.14481672644615173,0.15825243294239044,0.1403195708990097,0.15413376688957214,0.14630559086799622,0.14754146337509155,0.13633418083190918,0.15356580913066864,0.15975278615951538,0.17177408933639526,0.17851270735263824,0.17101699113845825,0.18966448307037354,0.1394420564174652,0.18732307851314545,0.17559504508972168,0.18594728410243988,0.14094500243663788,0.18202361464500427,0.20301507413387299],\"type\":\"scatter\"}],                        {\"height\":600,\"template\":{\"data\":{\"barpolar\":[{\"marker\":{\"line\":{\"color\":\"rgb(17,17,17)\",\"width\":0.5},\"pattern\":{\"fillmode\":\"overlay\",\"size\":10,\"solidity\":0.2}},\"type\":\"barpolar\"}],\"bar\":[{\"error_x\":{\"color\":\"#f2f5fa\"},\"error_y\":{\"color\":\"#f2f5fa\"},\"marker\":{\"line\":{\"color\":\"rgb(17,17,17)\",\"width\":0.5},\"pattern\":{\"fillmode\":\"overlay\",\"size\":10,\"solidity\":0.2}},\"type\":\"bar\"}],\"carpet\":[{\"aaxis\":{\"endlinecolor\":\"#A2B1C6\",\"gridcolor\":\"#506784\",\"linecolor\":\"#506784\",\"minorgridcolor\":\"#506784\",\"startlinecolor\":\"#A2B1C6\"},\"baxis\":{\"endlinecolor\":\"#A2B1C6\",\"gridcolor\":\"#506784\",\"linecolor\":\"#506784\",\"minorgridcolor\":\"#506784\",\"startlinecolor\":\"#A2B1C6\"},\"type\":\"carpet\"}],\"choropleth\":[{\"colorbar\":{\"outlinewidth\":0,\"ticks\":\"\"},\"type\":\"choropleth\"}],\"contourcarpet\":[{\"colorbar\":{\"outlinewidth\":0,\"ticks\":\"\"},\"type\":\"contourcarpet\"}],\"contour\":[{\"colorbar\":{\"outlinewidth\":0,\"ticks\":\"\"},\"colorscale\":[[0.0,\"#0d0887\"],[0.1111111111111111,\"#46039f\"],[0.2222222222222222,\"#7201a8\"],[0.3333333333333333,\"#9c179e\"],[0.4444444444444444,\"#bd3786\"],[0.5555555555555556,\"#d8576b\"],[0.6666666666666666,\"#ed7953\"],[0.7777777777777778,\"#fb9f3a\"],[0.8888888888888888,\"#fdca26\"],[1.0,\"#f0f921\"]],\"type\":\"contour\"}],\"heatmapgl\":[{\"colorbar\":{\"outlinewidth\":0,\"ticks\":\"\"},\"colorscale\":[[0.0,\"#0d0887\"],[0.1111111111111111,\"#46039f\"],[0.2222222222222222,\"#7201a8\"],[0.3333333333333333,\"#9c179e\"],[0.4444444444444444,\"#bd3786\"],[0.5555555555555556,\"#d8576b\"],[0.6666666666666666,\"#ed7953\"],[0.7777777777777778,\"#fb9f3a\"],[0.8888888888888888,\"#fdca26\"],[1.0,\"#f0f921\"]],\"type\":\"heatmapgl\"}],\"heatmap\":[{\"colorbar\":{\"outlinewidth\":0,\"ticks\":\"\"},\"colorscale\":[[0.0,\"#0d0887\"],[0.1111111111111111,\"#46039f\"],[0.2222222222222222,\"#7201a8\"],[0.3333333333333333,\"#9c179e\"],[0.4444444444444444,\"#bd3786\"],[0.5555555555555556,\"#d8576b\"],[0.6666666666666666,\"#ed7953\"],[0.7777777777777778,\"#fb9f3a\"],[0.8888888888888888,\"#fdca26\"],[1.0,\"#f0f921\"]],\"type\":\"heatmap\"}],\"histogram2dcontour\":[{\"colorbar\":{\"outlinewidth\":0,\"ticks\":\"\"},\"colorscale\":[[0.0,\"#0d0887\"],[0.1111111111111111,\"#46039f\"],[0.2222222222222222,\"#7201a8\"],[0.3333333333333333,\"#9c179e\"],[0.4444444444444444,\"#bd3786\"],[0.5555555555555556,\"#d8576b\"],[0.6666666666666666,\"#ed7953\"],[0.7777777777777778,\"#fb9f3a\"],[0.8888888888888888,\"#fdca26\"],[1.0,\"#f0f921\"]],\"type\":\"histogram2dcontour\"}],\"histogram2d\":[{\"colorbar\":{\"outlinewidth\":0,\"ticks\":\"\"},\"colorscale\":[[0.0,\"#0d0887\"],[0.1111111111111111,\"#46039f\"],[0.2222222222222222,\"#7201a8\"],[0.3333333333333333,\"#9c179e\"],[0.4444444444444444,\"#bd3786\"],[0.5555555555555556,\"#d8576b\"],[0.6666666666666666,\"#ed7953\"],[0.7777777777777778,\"#fb9f3a\"],[0.8888888888888888,\"#fdca26\"],[1.0,\"#f0f921\"]],\"type\":\"histogram2d\"}],\"histogram\":[{\"marker\":{\"pattern\":{\"fillmode\":\"overlay\",\"size\":10,\"solidity\":0.2}},\"type\":\"histogram\"}],\"mesh3d\":[{\"colorbar\":{\"outlinewidth\":0,\"ticks\":\"\"},\"type\":\"mesh3d\"}],\"parcoords\":[{\"line\":{\"colorbar\":{\"outlinewidth\":0,\"ticks\":\"\"}},\"type\":\"parcoords\"}],\"pie\":[{\"automargin\":true,\"type\":\"pie\"}],\"scatter3d\":[{\"line\":{\"colorbar\":{\"outlinewidth\":0,\"ticks\":\"\"}},\"marker\":{\"colorbar\":{\"outlinewidth\":0,\"ticks\":\"\"}},\"type\":\"scatter3d\"}],\"scattercarpet\":[{\"marker\":{\"colorbar\":{\"outlinewidth\":0,\"ticks\":\"\"}},\"type\":\"scattercarpet\"}],\"scattergeo\":[{\"marker\":{\"colorbar\":{\"outlinewidth\":0,\"ticks\":\"\"}},\"type\":\"scattergeo\"}],\"scattergl\":[{\"marker\":{\"line\":{\"color\":\"#283442\"}},\"type\":\"scattergl\"}],\"scattermapbox\":[{\"marker\":{\"colorbar\":{\"outlinewidth\":0,\"ticks\":\"\"}},\"type\":\"scattermapbox\"}],\"scatterpolargl\":[{\"marker\":{\"colorbar\":{\"outlinewidth\":0,\"ticks\":\"\"}},\"type\":\"scatterpolargl\"}],\"scatterpolar\":[{\"marker\":{\"colorbar\":{\"outlinewidth\":0,\"ticks\":\"\"}},\"type\":\"scatterpolar\"}],\"scatter\":[{\"marker\":{\"line\":{\"color\":\"#283442\"}},\"type\":\"scatter\"}],\"scatterternary\":[{\"marker\":{\"colorbar\":{\"outlinewidth\":0,\"ticks\":\"\"}},\"type\":\"scatterternary\"}],\"surface\":[{\"colorbar\":{\"outlinewidth\":0,\"ticks\":\"\"},\"colorscale\":[[0.0,\"#0d0887\"],[0.1111111111111111,\"#46039f\"],[0.2222222222222222,\"#7201a8\"],[0.3333333333333333,\"#9c179e\"],[0.4444444444444444,\"#bd3786\"],[0.5555555555555556,\"#d8576b\"],[0.6666666666666666,\"#ed7953\"],[0.7777777777777778,\"#fb9f3a\"],[0.8888888888888888,\"#fdca26\"],[1.0,\"#f0f921\"]],\"type\":\"surface\"}],\"table\":[{\"cells\":{\"fill\":{\"color\":\"#506784\"},\"line\":{\"color\":\"rgb(17,17,17)\"}},\"header\":{\"fill\":{\"color\":\"#2a3f5f\"},\"line\":{\"color\":\"rgb(17,17,17)\"}},\"type\":\"table\"}]},\"layout\":{\"annotationdefaults\":{\"arrowcolor\":\"#f2f5fa\",\"arrowhead\":0,\"arrowwidth\":1},\"autotypenumbers\":\"strict\",\"coloraxis\":{\"colorbar\":{\"outlinewidth\":0,\"ticks\":\"\"}},\"colorscale\":{\"diverging\":[[0,\"#8e0152\"],[0.1,\"#c51b7d\"],[0.2,\"#de77ae\"],[0.3,\"#f1b6da\"],[0.4,\"#fde0ef\"],[0.5,\"#f7f7f7\"],[0.6,\"#e6f5d0\"],[0.7,\"#b8e186\"],[0.8,\"#7fbc41\"],[0.9,\"#4d9221\"],[1,\"#276419\"]],\"sequential\":[[0.0,\"#0d0887\"],[0.1111111111111111,\"#46039f\"],[0.2222222222222222,\"#7201a8\"],[0.3333333333333333,\"#9c179e\"],[0.4444444444444444,\"#bd3786\"],[0.5555555555555556,\"#d8576b\"],[0.6666666666666666,\"#ed7953\"],[0.7777777777777778,\"#fb9f3a\"],[0.8888888888888888,\"#fdca26\"],[1.0,\"#f0f921\"]],\"sequentialminus\":[[0.0,\"#0d0887\"],[0.1111111111111111,\"#46039f\"],[0.2222222222222222,\"#7201a8\"],[0.3333333333333333,\"#9c179e\"],[0.4444444444444444,\"#bd3786\"],[0.5555555555555556,\"#d8576b\"],[0.6666666666666666,\"#ed7953\"],[0.7777777777777778,\"#fb9f3a\"],[0.8888888888888888,\"#fdca26\"],[1.0,\"#f0f921\"]]},\"colorway\":[\"#636efa\",\"#EF553B\",\"#00cc96\",\"#ab63fa\",\"#FFA15A\",\"#19d3f3\",\"#FF6692\",\"#B6E880\",\"#FF97FF\",\"#FECB52\"],\"font\":{\"color\":\"#f2f5fa\"},\"geo\":{\"bgcolor\":\"rgb(17,17,17)\",\"lakecolor\":\"rgb(17,17,17)\",\"landcolor\":\"rgb(17,17,17)\",\"showlakes\":true,\"showland\":true,\"subunitcolor\":\"#506784\"},\"hoverlabel\":{\"align\":\"left\"},\"hovermode\":\"closest\",\"mapbox\":{\"style\":\"dark\"},\"paper_bgcolor\":\"rgb(17,17,17)\",\"plot_bgcolor\":\"rgb(17,17,17)\",\"polar\":{\"angularaxis\":{\"gridcolor\":\"#506784\",\"linecolor\":\"#506784\",\"ticks\":\"\"},\"bgcolor\":\"rgb(17,17,17)\",\"radialaxis\":{\"gridcolor\":\"#506784\",\"linecolor\":\"#506784\",\"ticks\":\"\"}},\"scene\":{\"xaxis\":{\"backgroundcolor\":\"rgb(17,17,17)\",\"gridcolor\":\"#506784\",\"gridwidth\":2,\"linecolor\":\"#506784\",\"showbackground\":true,\"ticks\":\"\",\"zerolinecolor\":\"#C8D4E3\"},\"yaxis\":{\"backgroundcolor\":\"rgb(17,17,17)\",\"gridcolor\":\"#506784\",\"gridwidth\":2,\"linecolor\":\"#506784\",\"showbackground\":true,\"ticks\":\"\",\"zerolinecolor\":\"#C8D4E3\"},\"zaxis\":{\"backgroundcolor\":\"rgb(17,17,17)\",\"gridcolor\":\"#506784\",\"gridwidth\":2,\"linecolor\":\"#506784\",\"showbackground\":true,\"ticks\":\"\",\"zerolinecolor\":\"#C8D4E3\"}},\"shapedefaults\":{\"line\":{\"color\":\"#f2f5fa\"}},\"sliderdefaults\":{\"bgcolor\":\"#C8D4E3\",\"bordercolor\":\"rgb(17,17,17)\",\"borderwidth\":1,\"tickwidth\":0},\"ternary\":{\"aaxis\":{\"gridcolor\":\"#506784\",\"linecolor\":\"#506784\",\"ticks\":\"\"},\"baxis\":{\"gridcolor\":\"#506784\",\"linecolor\":\"#506784\",\"ticks\":\"\"},\"bgcolor\":\"rgb(17,17,17)\",\"caxis\":{\"gridcolor\":\"#506784\",\"linecolor\":\"#506784\",\"ticks\":\"\"}},\"title\":{\"x\":0.05},\"updatemenudefaults\":{\"bgcolor\":\"#506784\",\"borderwidth\":0},\"xaxis\":{\"automargin\":true,\"gridcolor\":\"#283442\",\"linecolor\":\"#506784\",\"ticks\":\"\",\"title\":{\"standoff\":15},\"zerolinecolor\":\"#283442\",\"zerolinewidth\":2},\"yaxis\":{\"automargin\":true,\"gridcolor\":\"#283442\",\"linecolor\":\"#506784\",\"ticks\":\"\",\"title\":{\"standoff\":15},\"zerolinecolor\":\"#283442\",\"zerolinewidth\":2}}},\"title\":{\"text\":\"train\\u002ftest logarithmic loss comparison\"},\"width\":1000},                        {\"responsive\": true}                    ).then(function(){\n",
       "                            \n",
       "var gd = document.getElementById('ff9e3933-2e1e-406a-a746-d4c4af0bb15e');\n",
       "var x = new MutationObserver(function (mutations, observer) {{\n",
       "        var display = window.getComputedStyle(gd).display;\n",
       "        if (!display || display === 'none') {{\n",
       "            console.log([gd, 'removed!']);\n",
       "            Plotly.purge(gd);\n",
       "            observer.disconnect();\n",
       "        }}\n",
       "}});\n",
       "\n",
       "// Listen for the removal of the full notebook cells\n",
       "var notebookContainer = gd.closest('#notebook-container');\n",
       "if (notebookContainer) {{\n",
       "    x.observe(notebookContainer, {childList: true});\n",
       "}}\n",
       "\n",
       "// Listen for the clearing of the current output cell\n",
       "var outputEl = gd.closest('.output');\n",
       "if (outputEl) {{\n",
       "    x.observe(outputEl, {childList: true});\n",
       "}}\n",
       "\n",
       "                        })                };                });            </script>        </div>"
      ]
     },
     "metadata": {},
     "output_type": "display_data"
    }
   ],
   "source": [
    "trace_0 = go.Scatter(y=history.history['loss'],\n",
    "                     name='train',\n",
    "                     mode='lines',\n",
    "                     marker= {'color':'#FF6F61','opacity':0.9})\n",
    "\n",
    "trace_1 = go.Scatter(y=history.history['val_loss'],\n",
    "                     name='test',\n",
    "                     mode='lines',\n",
    "                     marker= {'color':'#1d5dec','opacity':0.9})\n",
    "\n",
    "data = [trace_0,trace_1]\n",
    "\n",
    "layout = go.Layout(title=\"train/test logarithmic loss comparison\",\n",
    "                  template='plotly_dark',\n",
    "                   height=600,\n",
    "                   width=1000)\n",
    "\n",
    "fig = go.Figure(data,layout=layout)\n",
    "fig.show()"
   ]
  },
  {
   "cell_type": "code",
   "execution_count": 94,
   "id": "8d4e3c17",
   "metadata": {},
   "outputs": [
    {
     "name": "stdout",
     "output_type": "stream",
     "text": [
      "52/52 [==============================] - 0s 9ms/step\n",
      "Root Mean Squared Error: 154.7653617559253\n"
     ]
    },
    {
     "data": {
      "text/html": [
       "<div>\n",
       "<style scoped>\n",
       "    .dataframe tbody tr th:only-of-type {\n",
       "        vertical-align: middle;\n",
       "    }\n",
       "\n",
       "    .dataframe tbody tr th {\n",
       "        vertical-align: top;\n",
       "    }\n",
       "\n",
       "    .dataframe thead th {\n",
       "        text-align: right;\n",
       "    }\n",
       "</style>\n",
       "<table border=\"1\" class=\"dataframe\">\n",
       "  <thead>\n",
       "    <tr style=\"text-align: right;\">\n",
       "      <th></th>\n",
       "      <th>theta_hat</th>\n",
       "      <th>theta</th>\n",
       "      <th>Difference</th>\n",
       "    </tr>\n",
       "  </thead>\n",
       "  <tbody>\n",
       "    <tr>\n",
       "      <th>0</th>\n",
       "      <td>1162.697510</td>\n",
       "      <td>1391.859985</td>\n",
       "      <td>-229.162476</td>\n",
       "    </tr>\n",
       "    <tr>\n",
       "      <th>1</th>\n",
       "      <td>1161.151855</td>\n",
       "      <td>1399.589966</td>\n",
       "      <td>-238.438110</td>\n",
       "    </tr>\n",
       "    <tr>\n",
       "      <th>2</th>\n",
       "      <td>1161.464233</td>\n",
       "      <td>1390.199951</td>\n",
       "      <td>-228.735718</td>\n",
       "    </tr>\n",
       "    <tr>\n",
       "      <th>3</th>\n",
       "      <td>1161.482422</td>\n",
       "      <td>1382.770020</td>\n",
       "      <td>-221.287598</td>\n",
       "    </tr>\n",
       "    <tr>\n",
       "      <th>4</th>\n",
       "      <td>1164.177002</td>\n",
       "      <td>1393.920044</td>\n",
       "      <td>-229.743042</td>\n",
       "    </tr>\n",
       "    <tr>\n",
       "      <th>...</th>\n",
       "      <td>...</td>\n",
       "      <td>...</td>\n",
       "      <td>...</td>\n",
       "    </tr>\n",
       "    <tr>\n",
       "      <th>1643</th>\n",
       "      <td>1675.780762</td>\n",
       "      <td>1773.760010</td>\n",
       "      <td>-97.979248</td>\n",
       "    </tr>\n",
       "    <tr>\n",
       "      <th>1644</th>\n",
       "      <td>1672.840698</td>\n",
       "      <td>1797.770020</td>\n",
       "      <td>-124.929321</td>\n",
       "    </tr>\n",
       "    <tr>\n",
       "      <th>1645</th>\n",
       "      <td>1678.069580</td>\n",
       "      <td>1807.079956</td>\n",
       "      <td>-129.010376</td>\n",
       "    </tr>\n",
       "    <tr>\n",
       "      <th>1646</th>\n",
       "      <td>1685.656616</td>\n",
       "      <td>1783.260010</td>\n",
       "      <td>-97.603394</td>\n",
       "    </tr>\n",
       "    <tr>\n",
       "      <th>1647</th>\n",
       "      <td>1678.832642</td>\n",
       "      <td>1795.540039</td>\n",
       "      <td>-116.707397</td>\n",
       "    </tr>\n",
       "  </tbody>\n",
       "</table>\n",
       "<p>1648 rows × 3 columns</p>\n",
       "</div>"
      ],
      "text/plain": [
       "        theta_hat        theta  Difference\n",
       "0     1162.697510  1391.859985 -229.162476\n",
       "1     1161.151855  1399.589966 -238.438110\n",
       "2     1161.464233  1390.199951 -228.735718\n",
       "3     1161.482422  1382.770020 -221.287598\n",
       "4     1164.177002  1393.920044 -229.743042\n",
       "...           ...          ...         ...\n",
       "1643  1675.780762  1773.760010  -97.979248\n",
       "1644  1672.840698  1797.770020 -124.929321\n",
       "1645  1678.069580  1807.079956 -129.010376\n",
       "1646  1685.656616  1783.260010  -97.603394\n",
       "1647  1678.832642  1795.540039 -116.707397\n",
       "\n",
       "[1648 rows x 3 columns]"
      ]
     },
     "execution_count": 94,
     "metadata": {},
     "output_type": "execute_result"
    }
   ],
   "source": [
    "# Deploy the model, return predictions, and reformat the X_test data\n",
    "predicted = model.predict(X_test)\n",
    "X_test_rs = X_test.reshape(X_test.shape[0],X_test.shape[2])\n",
    "\n",
    "# Rescale the test data\n",
    "new_df = pd.DataFrame(X_test_rs[:,1:])\n",
    "new_df2 = pd.concat([pd.DataFrame(y_test),pd.DataFrame(new_df)],axis=1)\n",
    "new_df2.columns = df2.columns\n",
    "new_df3 = scaler.inverse_transform(new_df2)\n",
    "new_df3 = pd.DataFrame(new_df3,columns=df2.columns)\n",
    "\n",
    "# Rescale the predictions data\n",
    "new_pred_df = pd.DataFrame(predicted)\n",
    "new_pred = pd.concat([new_pred_df,pd.DataFrame(new_df)],axis=1)\n",
    "new_pred = scaler.inverse_transform(new_pred)\n",
    "new_pred = pd.DataFrame(new_pred,columns=df2.columns)\n",
    "\n",
    "# Create a DataFrame with the predicted and actual values and take the difference between the two\n",
    "results_df = pd.concat([new_pred.iloc[:,0],new_df3.iloc[:,0]],axis=1)\n",
    "results_df.columns = ['theta_hat','theta']\n",
    "results_df['Difference'] = results_df['theta_hat'] - results_df['theta']\n",
    "\n",
    "print(f\"Root Mean Squared Error: {rmse(results_df['theta_hat'],results_df['theta'])}\")\n",
    "\n",
    "results_df"
   ]
  },
  {
   "cell_type": "code",
   "execution_count": 95,
   "id": "75e00168",
   "metadata": {},
   "outputs": [
    {
     "data": {
      "application/vnd.plotly.v1+json": {
       "config": {
        "plotlyServerURL": "https://plot.ly"
       },
       "data": [
        {
         "marker": {
          "color": "#FF6F61",
          "opacity": 0.9
         },
         "mode": "lines",
         "name": "predicted",
         "type": "scatter",
         "y": [
          1162.697509765625,
          1161.15185546875,
          1161.4642333984375,
          1161.482421875,
          1164.177001953125,
          1165.9603271484375,
          1166.7271728515625,
          1164.3724365234375,
          1164.5650634765625,
          1166.5601806640625,
          1168.15283203125,
          1167.588623046875,
          1169.9637451171875,
          1172.2562255859375,
          1172.6683349609375,
          1173.12841796875,
          1173.751220703125,
          1177.0211181640625,
          1181.943359375,
          1179.785400390625,
          1180.8226318359375,
          1179.904052734375,
          1181.9437255859375,
          1186.053955078125,
          1182.5609130859375,
          1189.5240478515625,
          1190.3704833984375,
          1185.5482177734375,
          1186.19580078125,
          1188.15478515625,
          1187.45361328125,
          1185.9443359375,
          1185.150634765625,
          1186.9566650390625,
          1188.02294921875,
          1182.1756591796875,
          1186.2257080078125,
          1180.6893310546875,
          1180.1668701171875,
          1180.974609375,
          1181.4029541015625,
          1176.4739990234375,
          1178.581298828125,
          1179.8541259765625,
          1181.2041015625,
          1186.6253662109375,
          1187.195556640625,
          1191.1363525390625,
          1192.543212890625,
          1194.26513671875,
          1198.1939697265625,
          1198.6890869140625,
          1199.035400390625,
          1197.9671630859375,
          1198.678955078125,
          1201.426513671875,
          1200.5716552734375,
          1201.9080810546875,
          1202.433837890625,
          1206.3653564453125,
          1205.5943603515625,
          1207.1578369140625,
          1206.9154052734375,
          1208.43017578125,
          1206.8624267578125,
          1207.765869140625,
          1203.6064453125,
          1205.27734375,
          1207.399658203125,
          1204.289794921875,
          1206.843017578125,
          1201.796875,
          1200.625,
          1201.1185302734375,
          1203.348388671875,
          1203.6348876953125,
          1202.001708984375,
          1203.5487060546875,
          1204.390625,
          1206.3299560546875,
          1206.45947265625,
          1209.420166015625,
          1208.774658203125,
          1208.9075927734375,
          1207.6744384765625,
          1209.663818359375,
          1209.521240234375,
          1211.8245849609375,
          1212.65966796875,
          1212.84716796875,
          1212.861328125,
          1215.1923828125,
          1218.1339111328125,
          1218.141845703125,
          1221.0028076171875,
          1215.071044921875,
          1218.0650634765625,
          1220.502685546875,
          1221.784912109375,
          1232.7548828125,
          1237.0394287109375,
          1236.706787109375,
          1250.3160400390625,
          1254.0279541015625,
          1251.6087646484375,
          1254.8770751953125,
          1251.643310546875,
          1247.7813720703125,
          1253.385009765625,
          1253.101318359375,
          1252.874267578125,
          1255.127685546875,
          1253.364990234375,
          1251.668212890625,
          1254.7822265625,
          1255.0543212890625,
          1257.843994140625,
          1253.5159912109375,
          1255.85693359375,
          1251.4859619140625,
          1253.2880859375,
          1259.30517578125,
          1257.1146240234375,
          1259.7177734375,
          1259.3236083984375,
          1262.9979248046875,
          1263.8597412109375,
          1266.5228271484375,
          1265.3743896484375,
          1264.99072265625,
          1262.7880859375,
          1259.4349365234375,
          1259.3836669921875,
          1259.2393798828125,
          1258.6527099609375,
          1262.941162109375,
          1262.2672119140625,
          1263.6806640625,
          1269.42041015625,
          1271.197265625,
          1271.9298095703125,
          1272.2252197265625,
          1283.23193359375,
          1284.9432373046875,
          1288.6201171875,
          1288.27783203125,
          1286.1275634765625,
          1281.7071533203125,
          1282.4183349609375,
          1283.902099609375,
          1286.5283203125,
          1288.1988525390625,
          1289.6126708984375,
          1294.681884765625,
          1291.856201171875,
          1296.4697265625,
          1305.4111328125,
          1296.962646484375,
          1295.8802490234375,
          1299.580810546875,
          1298.8409423828125,
          1300.897705078125,
          1303.856689453125,
          1305.4521484375,
          1304.7984619140625,
          1307.0316162109375,
          1310.946044921875,
          1314.371337890625,
          1318.9534912109375,
          1320.030517578125,
          1319.1630859375,
          1319.638427734375,
          1332.275146484375,
          1337.252685546875,
          1331.5135498046875,
          1339.3555908203125,
          1333.6109619140625,
          1341.4322509765625,
          1346.56689453125,
          1351.3443603515625,
          1348.2713623046875,
          1352.0584716796875,
          1357.051513671875,
          1349.2110595703125,
          1341.5050048828125,
          1342.5052490234375,
          1342.373046875,
          1325.377685546875,
          1303.1455078125,
          1315.68115234375,
          1311.424560546875,
          1297.1005859375,
          1301.9130859375,
          1305.66552734375,
          1307.0225830078125,
          1309.042724609375,
          1317.4464111328125,
          1319.9234619140625,
          1312.7796630859375,
          1308.8525390625,
          1313.06787109375,
          1324.5545654296875,
          1334.1605224609375,
          1322.0836181640625,
          1314.6920166015625,
          1310.84912109375,
          1309.8275146484375,
          1317.1085205078125,
          1320.664306640625,
          1321.4190673828125,
          1324.1317138671875,
          1332.650146484375,
          1332.478271484375,
          1330.1011962890625,
          1327.218017578125,
          1328.62353515625,
          1330.046142578125,
          1324.682861328125,
          1325.2247314453125,
          1322.332763671875,
          1306.926513671875,
          1299.5616455078125,
          1311.4923095703125,
          1307.0140380859375,
          1306.9747314453125,
          1313.8243408203125,
          1305.7381591796875,
          1309.0240478515625,
          1314.2333984375,
          1317.0296630859375,
          1309.1201171875,
          1309.5467529296875,
          1316.7745361328125,
          1314.5743408203125,
          1319.6307373046875,
          1316.8699951171875,
          1323.6180419921875,
          1331.513671875,
          1330.01513671875,
          1324.934326171875,
          1318.3555908203125,
          1316.7841796875,
          1308.24072265625,
          1307.8590087890625,
          1315.16796875,
          1315.5567626953125,
          1310.6376953125,
          1310.1083984375,
          1308.1397705078125,
          1308.2916259765625,
          1317.6175537109375,
          1321.9327392578125,
          1322.7930908203125,
          1327.2779541015625,
          1333.215576171875,
          1336.0322265625,
          1336.3270263671875,
          1329.67041015625,
          1334.298095703125,
          1334.6448974609375,
          1337.0269775390625,
          1343.2164306640625,
          1340.837646484375,
          1344.626708984375,
          1344.8480224609375,
          1345.8719482421875,
          1346.821533203125,
          1351.196533203125,
          1347.52490234375,
          1350.34423828125,
          1352.596923828125,
          1355.6314697265625,
          1362.1807861328125,
          1363.375244140625,
          1366.3760986328125,
          1366.8367919921875,
          1369.3814697265625,
          1366.3455810546875,
          1369.6787109375,
          1370.021728515625,
          1371.8525390625,
          1369.9373779296875,
          1373.37890625,
          1367.343017578125,
          1369.947998046875,
          1364.4786376953125,
          1366.5748291015625,
          1362.91357421875,
          1364.8983154296875,
          1365.824951171875,
          1368.4017333984375,
          1368.465087890625,
          1373.42236328125,
          1377.8743896484375,
          1383.523681640625,
          1385.6094970703125,
          1383.168212890625,
          1387.6322021484375,
          1390.54248046875,
          1389.969482421875,
          1392.2996826171875,
          1393.9805908203125,
          1394.165283203125,
          1392.8299560546875,
          1391.83544921875,
          1394.20654296875,
          1398.089599609375,
          1399.7723388671875,
          1395.4188232421875,
          1391.1845703125,
          1396.7010498046875,
          1394.048095703125,
          1397.935791015625,
          1401.234375,
          1404.0977783203125,
          1405.9176025390625,
          1405.9267578125,
          1407.211181640625,
          1407.8663330078125,
          1405.2470703125,
          1408.4437255859375,
          1406.3251953125,
          1413.4710693359375,
          1415.942138671875,
          1419.8614501953125,
          1421.794921875,
          1422.9281005859375,
          1421.954345703125,
          1425.4423828125,
          1429.54638671875,
          1429.37841796875,
          1431.898193359375,
          1431.3297119140625,
          1433.5755615234375,
          1431.6826171875,
          1432.294189453125,
          1433.2958984375,
          1430.5872802734375,
          1431.2740478515625,
          1432.62255859375,
          1434.08251953125,
          1437.3402099609375,
          1437.6409912109375,
          1435.2403564453125,
          1438.053466796875,
          1439.0501708984375,
          1444.37353515625,
          1446.8524169921875,
          1442.968505859375,
          1442.0216064453125,
          1439.7496337890625,
          1441.335205078125,
          1443.0062255859375,
          1443.2757568359375,
          1444.853515625,
          1442.4180908203125,
          1436.19970703125,
          1431.8907470703125,
          1431.9361572265625,
          1430.68115234375,
          1425.997314453125,
          1426.7373046875,
          1427.3636474609375,
          1421.9486083984375,
          1415.7581787109375,
          1414.9827880859375,
          1417.1741943359375,
          1421.255859375,
          1418.2603759765625,
          1418.5577392578125,
          1424.7646484375,
          1416.7440185546875,
          1416.3975830078125,
          1411.5091552734375,
          1405.8353271484375,
          1404.7860107421875,
          1396.1405029296875,
          1391.3504638671875,
          1392.1683349609375,
          1389.806884765625,
          1391.624267578125,
          1389.1229248046875,
          1391.673095703125,
          1391.030029296875,
          1388.892333984375,
          1387.186279296875,
          1381.609130859375,
          1380.939453125,
          1383.0887451171875,
          1381.3597412109375,
          1373.0902099609375,
          1368.8817138671875,
          1366.360595703125,
          1370.6451416015625,
          1367.1026611328125,
          1367.2449951171875,
          1367.48828125,
          1374.0343017578125,
          1373.3486328125,
          1372.1529541015625,
          1373.3028564453125,
          1373.506103515625,
          1371.37060546875,
          1366.7120361328125,
          1372.355712890625,
          1370.7857666015625,
          1371.60205078125,
          1369.41064453125,
          1368.1661376953125,
          1354.08056640625,
          1329.1029052734375,
          1296.28125,
          1346.8460693359375,
          1350.8143310546875,
          1344.2945556640625,
          1341.7510986328125,
          1336.278076171875,
          1333.337158203125,
          1322.0770263671875,
          1313.951171875,
          1308.954833984375,
          1304.8656005859375,
          1302.849609375,
          1301.2509765625,
          1301.2425537109375,
          1298.8519287109375,
          1300.0074462890625,
          1302.390625,
          1308.419189453125,
          1300.370361328125,
          1300.6788330078125,
          1302.6746826171875,
          1307.3983154296875,
          1302.1614990234375,
          1303.599853515625,
          1315.85791015625,
          1323.713134765625,
          1321.6827392578125,
          1328.3863525390625,
          1332.932861328125,
          1332.179443359375,
          1326.5885009765625,
          1326.84228515625,
          1328.745849609375,
          1340.7677001953125,
          1342.52783203125,
          1344.464111328125,
          1359.175048828125,
          1362.2398681640625,
          1365.5606689453125,
          1359.8642578125,
          1369.5018310546875,
          1369.67724609375,
          1367.2388916015625,
          1365.3311767578125,
          1360.94287109375,
          1366.256103515625,
          1360.0025634765625,
          1357.750244140625,
          1347.000732421875,
          1344.6279296875,
          1344.660400390625,
          1353.91845703125,
          1355.089599609375,
          1360.2794189453125,
          1356.74560546875,
          1361.1585693359375,
          1366.7196044921875,
          1362.30908203125,
          1357.1068115234375,
          1372.3914794921875,
          1355.0843505859375,
          1357.6514892578125,
          1361.5247802734375,
          1361.4029541015625,
          1363.7138671875,
          1366.599365234375,
          1373.5098876953125,
          1372.240478515625,
          1374.25,
          1378.669189453125,
          1385.11376953125,
          1382.2283935546875,
          1374.159423828125,
          1382.923583984375,
          1380.1783447265625,
          1383.428955078125,
          1381.5528564453125,
          1381.610595703125,
          1376.38330078125,
          1380.0177001953125,
          1376.7667236328125,
          1389.54345703125,
          1392.287841796875,
          1385.7974853515625,
          1394.4940185546875,
          1396.1905517578125,
          1396.8455810546875,
          1388.3292236328125,
          1386.298828125,
          1402.1602783203125,
          1403.2186279296875,
          1388.019287109375,
          1384.2760009765625,
          1382.10546875,
          1385.926025390625,
          1370.972412109375,
          1378.7772216796875,
          1383.3631591796875,
          1386.7381591796875,
          1383.5946044921875,
          1378.7611083984375,
          1384.698486328125,
          1382.986328125,
          1376.6192626953125,
          1378.94775390625,
          1375.54443359375,
          1371.4124755859375,
          1372.1087646484375,
          1369.2672119140625,
          1372.2615966796875,
          1381.7425537109375,
          1385.2958984375,
          1386.8232421875,
          1394.164306640625,
          1394.09130859375,
          1393.3262939453125,
          1393.43115234375,
          1401.0057373046875,
          1396.5908203125,
          1400.1070556640625,
          1413.3250732421875,
          1414.6060791015625,
          1430.14306640625,
          1421.75244140625,
          1418.8321533203125,
          1414.10205078125,
          1409.8890380859375,
          1420.5489501953125,
          1428.9708251953125,
          1430.275390625,
          1433.3853759765625,
          1441.4771728515625,
          1436.1146240234375,
          1429.949951171875,
          1429.152099609375,
          1433.1812744140625,
          1431.1796875,
          1439.7635498046875,
          1438.46337890625,
          1436.212158203125,
          1433.182373046875,
          1437.9532470703125,
          1433.3414306640625,
          1434.3785400390625,
          1438.9112548828125,
          1448.2647705078125,
          1438.4356689453125,
          1445.615234375,
          1444.616455078125,
          1448.466796875,
          1440.0504150390625,
          1438.5401611328125,
          1433.1759033203125,
          1419.08349609375,
          1425.5234375,
          1427.9493408203125,
          1440.61376953125,
          1431.35205078125,
          1426.88916015625,
          1432.0928955078125,
          1417.1773681640625,
          1420.2633056640625,
          1428.2232666015625,
          1432.46875,
          1428.175048828125,
          1433.916748046875,
          1430.6456298828125,
          1416.998291015625,
          1420.8658447265625,
          1418.218505859375,
          1424.9354248046875,
          1432.953125,
          1433.23486328125,
          1425.982421875,
          1434.931640625,
          1439.5142822265625,
          1439.9091796875,
          1440.7816162109375,
          1440.904296875,
          1463.248779296875,
          1459.3963623046875,
          1452.5877685546875,
          1459.071044921875,
          1458.393310546875,
          1454.0657958984375,
          1450.68798828125,
          1457.8450927734375,
          1460.8350830078125,
          1450.8946533203125,
          1454.5499267578125,
          1448.1195068359375,
          1444.031494140625,
          1446.3724365234375,
          1434.9583740234375,
          1425.9761962890625,
          1436.3125,
          1448.229736328125,
          1442.4268798828125,
          1431.09912109375,
          1433.2366943359375,
          1433.0877685546875,
          1438.5706787109375,
          1439.128662109375,
          1444.936279296875,
          1446.7083740234375,
          1453.2149658203125,
          1447.3895263671875,
          1454.5045166015625,
          1454.4954833984375,
          1457.762451171875,
          1454.4415283203125,
          1459.4393310546875,
          1465.154541015625,
          1468.9984130859375,
          1471.416015625,
          1472.9609375,
          1490.8839111328125,
          1492.277587890625,
          1485.193359375,
          1484.4029541015625,
          1478.5516357421875,
          1481.5865478515625,
          1478.722900390625,
          1480.7230224609375,
          1482.815673828125,
          1488.33349609375,
          1494.45458984375,
          1494.8701171875,
          1498.1279296875,
          1496.469482421875,
          1486.729248046875,
          1490.9156494140625,
          1514.883056640625,
          1519.8433837890625,
          1522.7335205078125,
          1513.65185546875,
          1492.719970703125,
          1498.1998291015625,
          1500.86279296875,
          1501.0166015625,
          1513.1448974609375,
          1509.5556640625,
          1509.7091064453125,
          1515.453857421875,
          1516.5604248046875,
          1521.40625,
          1524.071533203125,
          1529.08203125,
          1527.9197998046875,
          1536.458740234375,
          1537.95068359375,
          1537.6212158203125,
          1541.744873046875,
          1544.7945556640625,
          1542.639404296875,
          1534.4368896484375,
          1536.6685791015625,
          1544.2442626953125,
          1545.6431884765625,
          1546.4013671875,
          1540.001953125,
          1541.794921875,
          1547.8192138671875,
          1543.4327392578125,
          1551.28076171875,
          1557.6563720703125,
          1565.4869384765625,
          1580.9813232421875,
          1577.5516357421875,
          1574.2218017578125,
          1572.6649169921875,
          1576.080322265625,
          1564.68212890625,
          1552.3505859375,
          1562.182373046875,
          1561.84521484375,
          1568.01220703125,
          1540.7762451171875,
          1553.253173828125,
          1567.570556640625,
          1585.9744873046875,
          1585.680908203125,
          1575.86474609375,
          1590.12646484375,
          1591.49609375,
          1599.3720703125,
          1601.2379150390625,
          1600.8089599609375,
          1598.6868896484375,
          1605.2833251953125,
          1609.08642578125,
          1599.7037353515625,
          1561.73583984375,
          1522.869384765625,
          1518.9278564453125,
          1486.6634521484375,
          1489.048828125,
          1519.6837158203125,
          1505.626220703125,
          1539.04736328125,
          1511.399658203125,
          1508.895263671875,
          1478.1605224609375,
          1481.27587890625,
          1459.14453125,
          1407.2899169921875,
          1450.0670166015625,
          1357.11767578125,
          1382.3455810546875,
          1286.6260986328125,
          1321.06396484375,
          1302.5169677734375,
          1277.1881103515625,
          1356.75244140625,
          1368.05224609375,
          1380.7572021484375,
          1375.8740234375,
          1371.289794921875,
          1359.4508056640625,
          1343.4241943359375,
          1353.947265625,
          1333.193603515625,
          1337.1702880859375,
          1328.2890625,
          1327.1346435546875,
          1338.6612548828125,
          1324.130126953125,
          1339.5101318359375,
          1323.603271484375,
          1321.268798828125,
          1341.92919921875,
          1326.5982666015625,
          1309.1207275390625,
          1316.75830078125,
          1318.774658203125,
          1330.9697265625,
          1365.830810546875,
          1381.1607666015625,
          1439.5428466796875,
          1396.66650390625,
          1344.8909912109375,
          1349.572021484375,
          1359.3731689453125,
          1343.4388427734375,
          1374.73974609375,
          1413.6063232421875,
          1401.6573486328125,
          1362.656005859375,
          1327.7705078125,
          1341.3548583984375,
          1355.2415771484375,
          1420.350341796875,
          1398.3316650390625,
          1439.3262939453125,
          1435.711669921875,
          1444.1324462890625,
          1481.6875,
          1532.4354248046875,
          1495.8924560546875,
          1496.78173828125,
          1507.6568603515625,
          1521.1197509765625,
          1549.88330078125,
          1542.2227783203125,
          1597.6627197265625,
          1636.84814453125,
          1602.2646484375,
          1570.2340087890625,
          1447.2103271484375,
          1471.0596923828125,
          1501.2166748046875,
          1532.944091796875,
          1507.835205078125,
          1508.9052734375,
          1500.547119140625,
          1502.1202392578125,
          1508.10986328125,
          1453.0980224609375,
          1475.6448974609375,
          1438.06982421875,
          1480.8258056640625,
          1499.7864990234375,
          1483.2708740234375,
          1491.1231689453125,
          1506.7774658203125,
          1478.774169921875,
          1491.5186767578125,
          1465.813232421875,
          1487.6072998046875,
          1467.5126953125,
          1499.8831787109375,
          1545.825927734375,
          1533.914306640625,
          1537.032470703125,
          1535.4344482421875,
          1555.4322509765625,
          1561.0225830078125,
          1553.8385009765625,
          1529.494384765625,
          1545.593994140625,
          1532.337646484375,
          1563.800537109375,
          1560.067138671875,
          1551.233154296875,
          1575.107177734375,
          1592.703857421875,
          1618.6488037109375,
          1622.0093994140625,
          1639.24755859375,
          1654.4368896484375,
          1631.0650634765625,
          1643.4522705078125,
          1634.6019287109375,
          1634.4381103515625,
          1644.257080078125,
          1631.06494140625,
          1629.7972412109375,
          1627.07373046875,
          1619.6551513671875,
          1639.3873291015625,
          1638.7598876953125,
          1633.65771484375,
          1633.7703857421875,
          1653.64990234375,
          1639.4119873046875,
          1661.7332763671875,
          1685.5225830078125,
          1629.3380126953125,
          1604.419189453125,
          1570.7135009765625,
          1598.1884765625,
          1575.532958984375,
          1571.30419921875,
          1610.946533203125,
          1613.4111328125,
          1623.10302734375,
          1611.4537353515625,
          1602.6097412109375,
          1553.4210205078125,
          1563.7957763671875,
          1519.903564453125,
          1523.0753173828125,
          1548.349365234375,
          1584.1319580078125,
          1579.8372802734375,
          1583.8179931640625,
          1604.7235107421875,
          1604.8800048828125,
          1640.7008056640625,
          1630.74462890625,
          1663.044189453125,
          1685.06884765625,
          1695.9273681640625,
          1715.1392822265625,
          1705.03125,
          1688.2523193359375,
          1699.9349365234375,
          1694.4627685546875,
          1666.7939453125,
          1668.6644287109375,
          1654.680419921875,
          1674.487548828125,
          1683.294189453125,
          1647.2142333984375,
          1636.0106201171875,
          1576.9007568359375,
          1590.5816650390625,
          1566.1527099609375,
          1597.8759765625,
          1642.36279296875,
          1668.7486572265625,
          1715.31591796875,
          1699.3016357421875,
          1742.5264892578125,
          1768.20751953125,
          1773.1229248046875,
          1751.73681640625,
          1788.560302734375,
          1829.1522216796875,
          1834.909423828125,
          1806.693603515625,
          1823.2265625,
          1821.374755859375,
          1849.9453125,
          1887.9742431640625,
          1877.555908203125,
          1891.966064453125,
          1857.8536376953125,
          1864.4451904296875,
          1866.6646728515625,
          1879.1441650390625,
          1914.842529296875,
          1916.2427978515625,
          1941.437744140625,
          1919.5372314453125,
          1939.3067626953125,
          1931.754638671875,
          1929.2427978515625,
          1970.8575439453125,
          1964.0816650390625,
          1986.82568359375,
          1975.3470458984375,
          1974.5416259765625,
          1979.0308837890625,
          1989.4471435546875,
          1989.429931640625,
          1988.2750244140625,
          1958.18310546875,
          1975.3563232421875,
          1977.3582763671875,
          1946.3585205078125,
          1970.60791015625,
          2025.2000732421875,
          2059.24755859375,
          2051.1044921875,
          2041.4886474609375,
          2070.3359375,
          2063.763427734375,
          2091.6962890625,
          2065.1767578125,
          2091.947509765625,
          2107.028076171875,
          2089.240966796875,
          2109.189208984375,
          2110.838623046875,
          2098.5693359375,
          2054.463623046875,
          2054.23486328125,
          2012.626953125,
          2060.822998046875,
          2084.34033203125,
          2088.36181640625,
          2125.830322265625,
          2147.942626953125,
          2195.32177734375,
          2201.323486328125,
          2191.3701171875,
          2192.118896484375,
          2190.912841796875,
          2166.585693359375,
          2155.0634765625,
          2128.647216796875,
          2153.474609375,
          2138.903564453125,
          2128.3037109375,
          2167.346435546875,
          2073.00341796875,
          2069.07861328125,
          2140.07080078125,
          2113.3662109375,
          2083.8505859375,
          2025.891845703125,
          2067.1103515625,
          2067.78369140625,
          2107.063232421875,
          2143.828857421875,
          2184.772705078125,
          2183.5244140625,
          2195.20458984375,
          2167.219482421875,
          2183.29296875,
          2119.367919921875,
          2127.460205078125,
          2123.323974609375,
          2055.09375,
          2029.7760009765625,
          2058.7294921875,
          2085.279296875,
          2045.4793701171875,
          2059.1455078125,
          2069.408447265625,
          2102.092529296875,
          2112.291748046875,
          2116.480712890625,
          2098.05029296875,
          2114.210693359375,
          2116.231689453125,
          2108.320068359375,
          2113.127197265625,
          2120.718505859375,
          2145.22900390625,
          2146.915771484375,
          2124.122314453125,
          2101.484375,
          2134.30078125,
          2124.055908203125,
          2150.4501953125,
          2164.326416015625,
          2160.498046875,
          2161.12060546875,
          2159.473876953125,
          2139.243408203125,
          2153.758544921875,
          2137.266357421875,
          2136.915771484375,
          2145.54150390625,
          2168.041015625,
          2134.306884765625,
          2122.20361328125,
          2072.71044921875,
          2098.84521484375,
          2131.54345703125,
          2130.24658203125,
          2118.870361328125,
          2104.553466796875,
          2121.387451171875,
          2124.802978515625,
          2137.321044921875,
          2132.037841796875,
          2148.833984375,
          2159.605712890625,
          2160.91748046875,
          2172.286376953125,
          2176.705078125,
          2160.44140625,
          2178.54443359375,
          2192.80859375,
          2211.40234375,
          2204.7021484375,
          2200.538818359375,
          2212.9208984375,
          2202.79833984375,
          2197.77685546875,
          2178.161376953125,
          2164.7841796875,
          2139.766845703125,
          2165.42529296875,
          2161.924560546875,
          2161.47705078125,
          2181.9228515625,
          2181.313720703125,
          2180.669921875,
          2174.265625,
          2181.019287109375,
          2189.84765625,
          2189.1552734375,
          2181.901611328125,
          2180.567138671875,
          2171.28564453125,
          2191.16845703125,
          2194.115966796875,
          2170.139892578125,
          2163.5263671875,
          2162.47900390625,
          2145.630615234375,
          2131.635498046875,
          2164.51025390625,
          2176.555908203125,
          2166.03662109375,
          2173.49072265625,
          2177.865234375,
          2169.0263671875,
          2175.968505859375,
          2183.225830078125,
          2177.4169921875,
          2178.55517578125,
          2186.735595703125,
          2168.614013671875,
          2183.1904296875,
          2182.483642578125,
          2172.885498046875,
          2173.147705078125,
          2180.3681640625,
          2177.22802734375,
          2176.661865234375,
          2178.3076171875,
          2159.865478515625,
          2143.056640625,
          2135.333251953125,
          2149.68408203125,
          2170.52099609375,
          2176.84765625,
          2176.9833984375,
          2162.743408203125,
          2197.44970703125,
          2197.7939453125,
          2199.1611328125,
          2203.983154296875,
          2215.289794921875,
          2207.5302734375,
          2192.02001953125,
          2184.07080078125,
          2183.57421875,
          2165.033447265625,
          2176.27197265625,
          2163.07763671875,
          2175.767578125,
          2170.16845703125,
          2165.31884765625,
          2133.85107421875,
          2134.30517578125,
          2142.306640625,
          2160.01171875,
          2152.202392578125,
          2161.945068359375,
          2124.232666015625,
          2124.331298828125,
          2108.060302734375,
          2139.004150390625,
          2120.765625,
          2127.45654296875,
          2125.0966796875,
          2140.710205078125,
          2130.385986328125,
          2116.354736328125,
          2122.934326171875,
          2127.81201171875,
          2155.862548828125,
          2152.6162109375,
          2151.4990234375,
          2156.84912109375,
          2166.294677734375,
          2163.896728515625,
          2164.755126953125,
          2178.578125,
          2174.154296875,
          2160.47216796875,
          2178.4853515625,
          2179.5830078125,
          2204.138671875,
          2213.301513671875,
          2230.646484375,
          2239.123291015625,
          2267.268798828125,
          2263.4326171875,
          2261.7412109375,
          2226.463623046875,
          2227.36474609375,
          2236.792724609375,
          2230.2509765625,
          2232.800537109375,
          2223.7197265625,
          2221.66845703125,
          2215.114990234375,
          2198.84228515625,
          2198.361572265625,
          2201.602783203125,
          2170.129150390625,
          2174.539306640625,
          2151.29443359375,
          2120.95166015625,
          2152.884765625,
          2141.856201171875,
          2159.633056640625,
          2186.966064453125,
          2193.745849609375,
          2175.032958984375,
          2178.393310546875,
          2165.422607421875,
          2150.653564453125,
          2171.55712890625,
          2160.0185546875,
          2159.2021484375,
          2133.959716796875,
          2162.160400390625,
          2169.071044921875,
          2178.34130859375,
          2195.271728515625,
          2191.501708984375,
          2188.92333984375,
          2189.0927734375,
          2186.8369140625,
          2188.350830078125,
          2187.60546875,
          2143.194580078125,
          2141.256591796875,
          2126.931884765625,
          2119.526123046875,
          2136.547119140625,
          2134.06689453125,
          2122.86279296875,
          2116.1640625,
          2083.454345703125,
          2074.19580078125,
          2061.998291015625,
          2050.947509765625,
          2058.192138671875,
          2046.53515625,
          2034.6478271484375,
          2027.120849609375,
          2043.7969970703125,
          2058.335205078125,
          2065.01806640625,
          2067.413818359375,
          2044.808349609375,
          2038.2039794921875,
          2037.993896484375,
          2045.981689453125,
          2062.6103515625,
          2035.1151123046875,
          2023.06396484375,
          2013.8895263671875,
          2031.4132080078125,
          2031.3536376953125,
          2011.9151611328125,
          2004.171142578125,
          1988.7310791015625,
          1971.244140625,
          1981.266845703125,
          2004.5889892578125,
          2013.092529296875,
          2004.1348876953125,
          2012.736328125,
          2007.3001708984375,
          2004.595703125,
          1972.095947265625,
          1961.479248046875,
          1981.1676025390625,
          1972.7655029296875,
          1958.1627197265625,
          1942.5228271484375,
          1955.2742919921875,
          1975.431884765625,
          1989.6995849609375,
          1998.1490478515625,
          1982.7039794921875,
          1988.087158203125,
          1974.0467529296875,
          1983.6595458984375,
          1974.81640625,
          1978.9029541015625,
          2001.7918701171875,
          1993.9595947265625,
          1981.534423828125,
          1981.671630859375,
          1985.01904296875,
          1959.25732421875,
          1947.3929443359375,
          1946.9097900390625,
          1940.9342041015625,
          1925.452392578125,
          1929.8885498046875,
          1946.0992431640625,
          1930.0050048828125,
          1923.6572265625,
          1937.0189208984375,
          1944.1795654296875,
          1920.3675537109375,
          1898.800048828125,
          1907.9710693359375,
          1887.638671875,
          1885.073974609375,
          1896.1253662109375,
          1870.083984375,
          1867.4317626953125,
          1869.2021484375,
          1891.113037109375,
          1858.406494140625,
          1848.469482421875,
          1835.7637939453125,
          1830.3985595703125,
          1831.3284912109375,
          1819.458984375,
          1820.729736328125,
          1819.339111328125,
          1828.656982421875,
          1798.4761962890625,
          1793.5677490234375,
          1793.53466796875,
          1803.226806640625,
          1800.3656005859375,
          1807.7537841796875,
          1818.032958984375,
          1835.89599609375,
          1820.51611328125,
          1809.7664794921875,
          1828.7344970703125,
          1814.22802734375,
          1812.39599609375,
          1828.1807861328125,
          1812.5367431640625,
          1791.484619140625,
          1767.2257080078125,
          1750.6158447265625,
          1746.585693359375,
          1745.195068359375,
          1743.8028564453125,
          1735.0123291015625,
          1738.77197265625,
          1736.103515625,
          1733.8380126953125,
          1747.731201171875,
          1742.7589111328125,
          1728.92626953125,
          1730.97802734375,
          1725.955322265625,
          1734.4180908203125,
          1737.61572265625,
          1731.0804443359375,
          1735.8699951171875,
          1731.050537109375,
          1726.8079833984375,
          1722.030517578125,
          1717.748291015625,
          1708.041259765625,
          1722.9664306640625,
          1716.291259765625,
          1733.7523193359375,
          1740.8607177734375,
          1754.754638671875,
          1749.1624755859375,
          1751.0859375,
          1742.6402587890625,
          1769.230712890625,
          1786.45947265625,
          1798.3721923828125,
          1797.8592529296875,
          1782.42333984375,
          1797.971435546875,
          1800.2392578125,
          1795.1363525390625,
          1803.117919921875,
          1791.1246337890625,
          1819.3121337890625,
          1816.7122802734375,
          1838.65185546875,
          1848.269287109375,
          1847.6217041015625,
          1830.98974609375,
          1835.9287109375,
          1812.7686767578125,
          1785.817626953125,
          1783.2816162109375,
          1786.284912109375,
          1805.3062744140625,
          1766.0494384765625,
          1753.87548828125,
          1740.4862060546875,
          1731.2491455078125,
          1728.4122314453125,
          1724.8074951171875,
          1716.5804443359375,
          1727.193359375,
          1730.4649658203125,
          1745.4527587890625,
          1755.2845458984375,
          1712.75390625,
          1713.414306640625,
          1706.69140625,
          1702.31640625,
          1706.1541748046875,
          1693.425537109375,
          1686.99755859375,
          1687.97314453125,
          1683.8780517578125,
          1677.4000244140625,
          1670.333984375,
          1669.50048828125,
          1664.9993896484375,
          1654.984375,
          1658.372802734375,
          1662.06103515625,
          1658.23583984375,
          1651.66748046875,
          1646.2391357421875,
          1643.110107421875,
          1640.506591796875,
          1638.75244140625,
          1643.0989990234375,
          1641.349365234375,
          1640.1494140625,
          1641.6026611328125,
          1642.6470947265625,
          1642.2708740234375,
          1647.182861328125,
          1651.313720703125,
          1651.7640380859375,
          1652.90625,
          1657.02783203125,
          1676.8394775390625,
          1671.2349853515625,
          1670.4952392578125,
          1655.6519775390625,
          1654.260986328125,
          1658.4964599609375,
          1663.9361572265625,
          1670.62060546875,
          1668.7674560546875,
          1708.2376708984375,
          1714.3712158203125,
          1703.7125244140625,
          1716.776123046875,
          1709.979248046875,
          1702.0517578125,
          1706.641845703125,
          1702.8773193359375,
          1718.639892578125,
          1724.61474609375,
          1728.546142578125,
          1708.4432373046875,
          1708.0281982421875,
          1740.4755859375,
          1744.4180908203125,
          1748.1553955078125,
          1719.7232666015625,
          1711.6290283203125,
          1714.3846435546875,
          1715.10986328125,
          1707.847412109375,
          1715.6068115234375,
          1726.2799072265625,
          1719.1728515625,
          1704.6102294921875,
          1699.8499755859375,
          1695.7772216796875,
          1693.9747314453125,
          1700.0780029296875,
          1694.1104736328125,
          1694.0953369140625,
          1694.06005859375,
          1690.53076171875,
          1688.2645263671875,
          1686.5421142578125,
          1687.0489501953125,
          1687.677978515625,
          1681.6585693359375,
          1696.8692626953125,
          1696.671142578125,
          1701.1885986328125,
          1715.6072998046875,
          1732.513427734375,
          1734.5579833984375,
          1727.95849609375,
          1716.6126708984375,
          1704.9676513671875,
          1717.59228515625,
          1727.560791015625,
          1729.4644775390625,
          1731.5582275390625,
          1738.5128173828125,
          1739.9901123046875,
          1724.338134765625,
          1746.7476806640625,
          1764.5357666015625,
          1779.97607421875,
          1764.2352294921875,
          1749.009765625,
          1758.2620849609375,
          1746.5748291015625,
          1731.631103515625,
          1733.171875,
          1747.7906494140625,
          1742.775146484375,
          1748.15869140625,
          1733.5,
          1736.573974609375,
          1707.534912109375,
          1707.879150390625,
          1712.0081787109375,
          1704.3446044921875,
          1707.1856689453125,
          1704.33544921875,
          1701.6923828125,
          1705.6834716796875,
          1717.974365234375,
          1716.635498046875,
          1706.6591796875,
          1705.8629150390625,
          1695.435302734375,
          1694.3260498046875,
          1696.2860107421875,
          1697.5994873046875,
          1694.6162109375,
          1699.4951171875,
          1697.1072998046875,
          1700.7982177734375,
          1705.34423828125,
          1694.130615234375,
          1698.7684326171875,
          1704.0186767578125,
          1701.8599853515625,
          1697.7747802734375,
          1702.8759765625,
          1704.1961669921875,
          1712.6475830078125,
          1718.718017578125,
          1717.0784912109375,
          1717.49169921875,
          1716.5947265625,
          1713.0484619140625,
          1713.0401611328125,
          1711.8585205078125,
          1718.1939697265625,
          1710.821533203125,
          1711.201904296875,
          1709.8624267578125,
          1707.30859375,
          1704.6556396484375,
          1703.7398681640625,
          1706.287353515625,
          1701.478759765625,
          1695.4967041015625,
          1701.065673828125,
          1707.507568359375,
          1703.5638427734375,
          1700.19287109375,
          1696.460693359375,
          1693.311767578125,
          1699.6629638671875,
          1696.1417236328125,
          1694.187255859375,
          1696.995361328125,
          1693.3309326171875,
          1689.578369140625,
          1689.3924560546875,
          1681.3558349609375,
          1688.6328125,
          1690.8355712890625,
          1683.5531005859375,
          1686.285400390625,
          1678.978271484375,
          1669.9244384765625,
          1665.765380859375,
          1670.48193359375,
          1672.468017578125,
          1670.3800048828125,
          1677.551513671875,
          1699.931640625,
          1691.008544921875,
          1703.8670654296875,
          1709.275634765625,
          1714.2601318359375,
          1708.4715576171875,
          1715.4447021484375,
          1720.3992919921875,
          1712.9439697265625,
          1729.784423828125,
          1724.598388671875,
          1719.66162109375,
          1714.059814453125,
          1712.6973876953125,
          1702.81201171875,
          1702.550048828125,
          1712.302978515625,
          1716.399658203125,
          1719.0335693359375,
          1728.7791748046875,
          1728.9674072265625,
          1716.5567626953125,
          1697.08984375,
          1699.6368408203125,
          1713.666748046875,
          1725.099853515625,
          1740.7506103515625,
          1753.9605712890625,
          1746.5736083984375,
          1755.131591796875,
          1768.6072998046875,
          1774.8372802734375,
          1764.442138671875,
          1763.514892578125,
          1767.443359375,
          1765.8797607421875,
          1774.2886962890625,
          1755.252197265625,
          1769.487548828125,
          1777.4825439453125,
          1771.800048828125,
          1756.1759033203125,
          1749.359375,
          1751.58349609375,
          1759.8359375,
          1756.1025390625,
          1747.5419921875,
          1742.5723876953125,
          1739.7880859375,
          1739.7545166015625,
          1726.863525390625,
          1722.5081787109375,
          1716.3218994140625,
          1718.307373046875,
          1716.4447021484375,
          1713.3599853515625,
          1720.7933349609375,
          1711.824462890625,
          1715.028076171875,
          1719.473876953125,
          1729.658447265625,
          1733.1258544921875,
          1731.01806640625,
          1735.052734375,
          1721.852783203125,
          1716.9520263671875,
          1717.6763916015625,
          1717.98974609375,
          1719.057861328125,
          1717.8050537109375,
          1716.709228515625,
          1720.99658203125,
          1716.9781494140625,
          1717.028076171875,
          1712.9525146484375,
          1711.0869140625,
          1698.594970703125,
          1696.6842041015625,
          1694.675048828125,
          1690.3697509765625,
          1684.7369384765625,
          1683.65283203125,
          1682.1502685546875,
          1683.8623046875,
          1679.5872802734375,
          1680.5462646484375,
          1678.5484619140625,
          1679.5498046875,
          1680.975830078125,
          1678.8848876953125,
          1679.3804931640625,
          1680.512451171875,
          1681.5849609375,
          1679.802978515625,
          1674.662109375,
          1673.2493896484375,
          1671.037109375,
          1668.201171875,
          1666.0672607421875,
          1664.9571533203125,
          1664.506591796875,
          1657.160400390625,
          1652.5733642578125,
          1656.4962158203125,
          1654.1474609375,
          1655.6455078125,
          1657.027099609375,
          1656.883544921875,
          1656.30322265625,
          1657.7816162109375,
          1659.435791015625,
          1657.900146484375,
          1660.18896484375,
          1659.8251953125,
          1676.895751953125,
          1675.78076171875,
          1672.8406982421875,
          1678.069580078125,
          1685.6566162109375,
          1678.8326416015625
         ]
        },
        {
         "marker": {
          "color": "#1d5dec",
          "opacity": 0.9
         },
         "mode": "lines",
         "name": "^RUT",
         "type": "scatter",
         "y": [
          1391.8599853515625,
          1399.5899658203125,
          1390.199951171875,
          1382.77001953125,
          1393.9200439453125,
          1394.6800537109375,
          1355.8900146484375,
          1361.0799560546875,
          1367.3299560546875,
          1377.1400146484375,
          1380.97998046875,
          1382.510009765625,
          1383.3900146484375,
          1382.239990234375,
          1371.18994140625,
          1370.2099609375,
          1396.06005859375,
          1405.3900146484375,
          1396.449951171875,
          1394.9000244140625,
          1396.6700439453125,
          1415.6099853515625,
          1421.7099609375,
          1419.2099609375,
          1425.989990234375,
          1417.5699462890625,
          1410.0799560546875,
          1406.72998046875,
          1418.0799560546875,
          1402.969970703125,
          1399.25,
          1404.5400390625,
          1414.780029296875,
          1416.6400146484375,
          1403.52001953125,
          1425.27001953125,
          1416.199951171875,
          1415.3599853515625,
          1426.6800537109375,
          1420.1500244140625,
          1400.81005859375,
          1415.8399658203125,
          1408.469970703125,
          1413.050048828125,
          1424.3199462890625,
          1425.6600341796875,
          1428.8199462890625,
          1431.5999755859375,
          1427.6099853515625,
          1441.77001953125,
          1442.3499755859375,
          1435.8399658203125,
          1438.050048828125,
          1450.3900146484375,
          1442.280029296875,
          1433.6199951171875,
          1429.260009765625,
          1425.1400146484375,
          1428.329833984375,
          1412.9000244140625,
          1405.22998046875,
          1412.3199462890625,
          1414.1700439453125,
          1410.1500244140625,
          1396.949951171875,
          1372.5400390625,
          1374.22998046875,
          1394.31005859375,
          1383.239990234375,
          1383.530029296875,
          1358.93994140625,
          1357.7900390625,
          1356.9000244140625,
          1371.5400390625,
          1369.7398681640625,
          1373.8800048828125,
          1377.449951171875,
          1382.22998046875,
          1383.6800537109375,
          1391.3199462890625,
          1405.280029296875,
          1413.5699462890625,
          1399.6600341796875,
          1402.199951171875,
          1398.6700439453125,
          1399.4300537109375,
          1414.8299560546875,
          1423.4599609375,
          1426.8900146484375,
          1425.02001953125,
          1431.7099609375,
          1441.0799560546875,
          1440.4000244140625,
          1445.4200439453125,
          1444.1800537109375,
          1450.780029296875,
          1451.9599609375,
          1456.8599853515625,
          1484.81005859375,
          1488.7900390625,
          1490.8599853515625,
          1509.469970703125,
          1511.969970703125,
          1507.760009765625,
          1512.0899658203125,
          1510.219970703125,
          1503.56005859375,
          1508.010009765625,
          1506.9200439453125,
          1505.1600341796875,
          1502.6600341796875,
          1502.6800537109375,
          1497.5,
          1505.1400146484375,
          1502.0400390625,
          1509.25,
          1497.489990234375,
          1500.4200439453125,
          1493.47998046875,
          1497.4599609375,
          1508.3199462890625,
          1490.9000244140625,
          1502.530029296875,
          1492.780029296875,
          1496.550048828125,
          1494.9100341796875,
          1497.9599609375,
          1479.0899658203125,
          1481.72998046875,
          1475.02001953125,
          1475.27001953125,
          1475.0699462890625,
          1471.260009765625,
          1464.0899658203125,
          1486.8800048828125,
          1492.8199462890625,
          1503.4000244140625,
          1518.8900146484375,
          1516.7598876953125,
          1519.1600341796875,
          1513.3099365234375,
          1536.4300537109375,
          1542.300048828125,
          1544.1400146484375,
          1537.02001953125,
          1532.4100341796875,
          1516.7598876953125,
          1508.8800048828125,
          1520.469970703125,
          1521.719970703125,
          1519.8399658203125,
          1516.1199951171875,
          1524.449951171875,
          1506.949951171875,
          1530.4200439453125,
          1548.919921875,
          1536.75,
          1540.0799560546875,
          1547.1099853515625,
          1542.9300537109375,
          1544.22998046875,
          1543.93994140625,
          1548.9300537109375,
          1535.510009765625,
          1550.010009765625,
          1552.5799560546875,
          1555.719970703125,
          1560.010009765625,
          1561.81005859375,
          1560.0999755859375,
          1559.800048828125,
          1586.7900390625,
          1591.969970703125,
          1572.969970703125,
          1586.6600341796875,
          1576.72998046875,
          1597.6300048828125,
          1605.1700439453125,
          1610.7099609375,
          1601.77001953125,
          1601.6700439453125,
          1608.06005859375,
          1598.1099853515625,
          1582.8199462890625,
          1574.97998046875,
          1579.8699951171875,
          1547.27001953125,
          1491.0899658203125,
          1507.1700439453125,
          1507.969970703125,
          1463.7900390625,
          1477.8399658203125,
          1490.97998046875,
          1494.9498291015625,
          1522.0999755859375,
          1537.199951171875,
          1543.550048828125,
          1529.989990234375,
          1531.8399658203125,
          1529.989990234375,
          1549.18994140625,
          1559.3299560546875,
          1536.469970703125,
          1512.449951171875,
          1507.3900146484375,
          1533.1700439453125,
          1546.050048828125,
          1562.199951171875,
          1574.530029296875,
          1571.969970703125,
          1597.1400146484375,
          1601.06005859375,
          1592.050048828125,
          1584.31005859375,
          1576.6199951171875,
          1586.050048828125,
          1570.56005859375,
          1570.4100341796875,
          1579.300048828125,
          1543.8699951171875,
          1510.0799560546875,
          1543.719970703125,
          1513.5699462890625,
          1513.030029296875,
          1529.4300537109375,
          1492.530029296875,
          1512.150146484375,
          1531.6600341796875,
          1542.9300537109375,
          1513.3001708984375,
          1514.4600830078125,
          1543.4300537109375,
          1546.800048828125,
          1557.3299560546875,
          1549.510009765625,
          1563.030029296875,
          1579.800048828125,
          1583.56005859375,
          1573.8199462890625,
          1564.1199951171875,
          1562.1199951171875,
          1553.280029296875,
          1550.469970703125,
          1557.8900146484375,
          1556.239990234375,
          1541.8800048828125,
          1550.3299560546875,
          1554.9100341796875,
          1546.56005859375,
          1565.5999755859375,
          1578.949951171875,
          1586.3900146484375,
          1596.050048828125,
          1603.7099609375,
          1606.7900390625,
          1600.3399658203125,
          1600.3399658203125,
          1616.3699951171875,
          1625.2900390625,
          1626.6300048828125,
          1637.43994140625,
          1625.239990234375,
          1627.6099853515625,
          1628.219970703125,
          1626.9300537109375,
          1623.6500244140625,
          1647.989990234375,
          1633.6099853515625,
          1647.97998046875,
          1653.3699951171875,
          1664.6300048828125,
          1675.949951171875,
          1667.77001953125,
          1672.489990234375,
          1674.6800537109375,
          1682.300048828125,
          1676.5400390625,
          1684.719970703125,
          1683.9100341796875,
          1692.4599609375,
          1693.449951171875,
          1706.989990234375,
          1688.949951171875,
          1685.5799560546875,
          1657.510009765625,
          1668.530029296875,
          1640.449951171875,
          1645.02001953125,
          1643.0699462890625,
          1655.0899658203125,
          1660.4200439453125,
          1679.47998046875,
          1694.050048828125,
          1704.5999755859375,
          1695.6199951171875,
          1683.6600341796875,
          1690.280029296875,
          1687.0799560546875,
          1678.5400390625,
          1687.260009765625,
          1691.8699951171875,
          1701.31005859375,
          1696.81005859375,
          1698.4100341796875,
          1680.199951171875,
          1685.199951171875,
          1695.3599853515625,
          1663.3399658203125,
          1653.1300048828125,
          1670.800048828125,
          1669.260009765625,
          1682.0999755859375,
          1673.3699951171875,
          1684.31005859375,
          1688.300048828125,
          1686.8800048828125,
          1690.8900146484375,
          1686.800048828125,
          1675.3199462890625,
          1692.5799560546875,
          1670.669921875,
          1685.75,
          1692.949951171875,
          1698.68994140625,
          1718.050048828125,
          1722.5400390625,
          1717.050048828125,
          1725.6700439453125,
          1728.4100341796875,
          1728.4200439453125,
          1734.75,
          1732.3499755859375,
          1740.7498779296875,
          1733.3800048828125,
          1727.6500244140625,
          1714.469970703125,
          1713.1800537109375,
          1717.469970703125,
          1718.4000244140625,
          1715.699951171875,
          1714.3199462890625,
          1721.719970703125,
          1703.550048828125,
          1710.969970703125,
          1702.9300537109375,
          1720.1800537109375,
          1712.3199462890625,
          1705.3199462890625,
          1708.81005859375,
          1691.6099853515625,
          1690.530029296875,
          1696.5699462890625,
          1672.989990234375,
          1656.0400390625,
          1671.2900390625,
          1646.9100341796875,
          1632.1099853515625,
          1629.52001953125,
          1621.8699951171875,
          1575.4100341796875,
          1545.3800048828125,
          1546.6800537109375,
          1553.0899658203125,
          1596.8399658203125,
          1589.5999755859375,
          1560.75,
          1542.0400390625,
          1539.5,
          1526.5899658203125,
          1468.699951171875,
          1500.4000244140625,
          1483.8199462890625,
          1477.31005859375,
          1506.6400146484375,
          1511.4100341796875,
          1544.97998046875,
          1547.97998046875,
          1547.510009765625,
          1556.0999755859375,
          1582.1600341796875,
          1578.2099609375,
          1549.489990234375,
          1518.7900390625,
          1514.800048828125,
          1502.510009765625,
          1524.1199951171875,
          1527.530029296875,
          1496.5400390625,
          1469.010009765625,
          1488.280029296875,
          1488.6800537109375,
          1505.9599609375,
          1492.8599853515625,
          1530.3800048828125,
          1525.3900146484375,
          1533.27001953125,
          1548.9599609375,
          1480.75,
          1477.4100341796875,
          1448.0899658203125,
          1443.0999755859375,
          1440.1300048828125,
          1455.3199462890625,
          1432.699951171875,
          1410.81005859375,
          1378.1400146484375,
          1377.1800537109375,
          1349.22998046875,
          1326,
          1292.0899658203125,
          1266.9200439453125,
          1329.81005859375,
          1331.8199462890625,
          1337.9200439453125,
          1348.56005859375,
          1355.9100341796875,
          1330.8299560546875,
          1380.75,
          1405.3699951171875,
          1426.550048828125,
          1438.81005859375,
          1445.4300537109375,
          1447.3800048828125,
          1432.81005859375,
          1445.219970703125,
          1454.699951171875,
          1467.25,
          1482.5,
          1457.449951171875,
          1454.260009765625,
          1464.4100341796875,
          1482.8499755859375,
          1473.5400390625,
          1471.449951171875,
          1486.93994140625,
          1499.4200439453125,
          1502.050048828125,
          1517.5400390625,
          1520.22998046875,
          1518.02001953125,
          1505.6300048828125,
          1506.3900146484375,
          1518.97998046875,
          1538.22998046875,
          1542.93994140625,
          1545.1099853515625,
          1569.25,
          1574.469970703125,
          1581.6600341796875,
          1575.550048828125,
          1590.06005859375,
          1588.81005859375,
          1577.47998046875,
          1581.050048828125,
          1575.550048828125,
          1589.6400146484375,
          1575.43994140625,
          1568.280029296875,
          1536.8199462890625,
          1523.6300048828125,
          1521.8800048828125,
          1548.8800048828125,
          1549.8299560546875,
          1555.8800048828125,
          1549.6400146484375,
          1553.5400390625,
          1563.9300537109375,
          1554.989990234375,
          1543.16015625,
          1562.4100341796875,
          1505.9200439453125,
          1512.8599853515625,
          1528.1700439453125,
          1522.22998046875,
          1535.0999755859375,
          1539.7398681640625,
          1556.06005859375,
          1553.3199462890625,
          1560.9100341796875,
          1567.489990234375,
          1582.56005859375,
          1579,
          1559.6800537109375,
          1581.550048828125,
          1579.1400146484375,
          1584.800048828125,
          1579.1700439453125,
          1582.7900390625,
          1567.5999755859375,
          1565.75,
          1560.0400390625,
          1585.0899658203125,
          1588.1300048828125,
          1575.6099853515625,
          1589.9000244140625,
          1598.3599853515625,
          1591.2099609375,
          1576.3800048828125,
          1582.6500244140625,
          1614.02001953125,
          1614.97998046875,
          1582.31005859375,
          1574.969970703125,
          1570.06005859375,
          1572.989990234375,
          1523,
          1543.06005859375,
          1548.27001953125,
          1557.239990234375,
          1535.760009765625,
          1524.9599609375,
          1545.25,
          1531.6300048828125,
          1501.3800048828125,
          1514.1099853515625,
          1504.02001953125,
          1489.949951171875,
          1485.530029296875,
          1465.489990234375,
          1469.97998046875,
          1508.56005859375,
          1506.7900390625,
          1499.2900390625,
          1514.3900146484375,
          1523.56005859375,
          1519.1099853515625,
          1519.7900390625,
          1535.800048828125,
          1522.5001220703125,
          1532.75,
          1550.22998046875,
          1555.5799560546875,
          1563.489990234375,
          1549.6300048828125,
          1530.0799560546875,
          1521.0400390625,
          1521.8900146484375,
          1546.550048828125,
          1566.5699462890625,
          1566.5699462890625,
          1560.5400390625,
          1572.1199951171875,
          1575.6199951171875,
          1561.3900146484375,
          1562.5899658203125,
          1565.050048828125,
          1557.9200439453125,
          1570,
          1561.8199462890625,
          1562,
          1550.780029296875,
          1555.6199951171875,
          1547.9000244140625,
          1544.780029296875,
          1554.9599609375,
          1580.4200439453125,
          1561.449951171875,
          1578.969970703125,
          1569.030029296875,
          1585.5999755859375,
          1574.6099853515625,
          1550.760009765625,
          1533.6600341796875,
          1487.4100341796875,
          1502.0899658203125,
          1500.6900634765625,
          1532.1300048828125,
          1513.0400390625,
          1495.9000244140625,
          1510.5799560546875,
          1467.52001953125,
          1461.6500244140625,
          1493.6400146484375,
          1508.8499755859375,
          1498.010009765625,
          1509.8499755859375,
          1506,
          1459.489990234375,
          1476,
          1456.0400390625,
          1472.7099609375,
          1496.719970703125,
          1494.8399658203125,
          1472.280029296875,
          1484.760009765625,
          1510.75,
          1505.1700439453125,
          1524.22998046875,
          1541.6099853515625,
          1575.7099609375,
          1575.0699462890625,
          1578.1400146484375,
          1584.5999755859375,
          1578.2900390625,
          1568.3399658203125,
          1561.469970703125,
          1559.760009765625,
          1558.25,
          1533.5899658203125,
          1550.6500244140625,
          1533.3299560546875,
          1520.47998046875,
          1523.3699951171875,
          1493.4300537109375,
          1479.6300048828125,
          1486.3499755859375,
          1500.6998291015625,
          1497.7900390625,
          1472.5999755859375,
          1479.4599609375,
          1485.3599853515625,
          1511.9000244140625,
          1505.4300537109375,
          1523.300048828125,
          1525.06005859375,
          1541.8399658203125,
          1535.47998046875,
          1552.4100341796875,
          1550.8699951171875,
          1552.8599853515625,
          1548.489990234375,
          1558.7099609375,
          1571.9300537109375,
          1577.0699462890625,
          1572.8499755859375,
          1562.449951171875,
          1589.3299560546875,
          1597.4000244140625,
          1599.6099853515625,
          1589.5400390625,
          1593.989990234375,
          1598.8599853515625,
          1594.77001953125,
          1595.1199951171875,
          1589.1800537109375,
          1588.7900390625,
          1596.449951171875,
          1592.3399658203125,
          1598.2901611328125,
          1591.6099853515625,
          1583.9599609375,
          1588.93994140625,
          1621.9000244140625,
          1624.22998046875,
          1634.0999755859375,
          1624.5,
          1607.5799560546875,
          1602.6300048828125,
          1613.9000244140625,
          1614.8299560546875,
          1633.8399658203125,
          1629.6199951171875,
          1631.7099609375,
          1631.9300537109375,
          1644.81005859375,
          1637.97998046875,
          1649.93994140625,
          1657.56005859375,
          1661.72998046875,
          1667.0899658203125,
          1671.9000244140625,
          1674.1400146484375,
          1678.010009765625,
          1677.6700439453125,
          1669.030029296875,
          1664.1500244140625,
          1668.469970703125,
          1666.77001953125,
          1660.8699951171875,
          1663.260009765625,
          1658.31005859375,
          1663.5899658203125,
          1664.989990234375,
          1657.6400146484375,
          1669.6099853515625,
          1675.739990234375,
          1682.4000244140625,
          1705.219970703125,
          1699.6400146484375,
          1685.9000244140625,
          1684.4600830078125,
          1685.010009765625,
          1662.22998046875,
          1644.1400146484375,
          1658.31005859375,
          1649.219970703125,
          1648.219970703125,
          1614.06005859375,
          1632.2099609375,
          1656.77001953125,
          1681.9200439453125,
          1677.4599609375,
          1656.780029296875,
          1667.6700439453125,
          1677.510009765625,
          1689.3800048828125,
          1693.739990234375,
          1687.5799560546875,
          1683.52001953125,
          1692.5699462890625,
          1696.0699462890625,
          1678.6099853515625,
          1628.0999755859375,
          1571.89990234375,
          1552.760009765625,
          1497.8699951171875,
          1476.4300537109375,
          1518.489990234375,
          1486.0799560546875,
          1531.199951171875,
          1478.8199462890625,
          1449.219970703125,
          1313.43994140625,
          1350.9000244140625,
          1264.300048828125,
          1122.9300537109375,
          1210.1300048828125,
          1037.4200439453125,
          1106.510009765625,
          991.159912109375,
          1058.75,
          1013.8899536132812,
          1002.3999633789062,
          1096.5400390625,
          1110.3699951171875,
          1180.3199462890625,
          1131.989990234375,
          1158.3199462890625,
          1153.0999755859375,
          1071.989990234375,
          1085.81005859375,
          1052.050048828125,
          1138.780029296875,
          1139.1700439453125,
          1191.6600341796875,
          1246.72998046875,
          1212.0400390625,
          1237.3299560546875,
          1183.97998046875,
          1178.0899658203125,
          1229.0999755859375,
          1213.3499755859375,
          1185.0899658203125,
          1201.52001953125,
          1214.06005859375,
          1233.0499267578125,
          1281.8800048828125,
          1298.0799560546875,
          1360.760009765625,
          1310.6600341796875,
          1260.47998046875,
          1263.969970703125,
          1273.510009765625,
          1263.010009765625,
          1282.9300537109375,
          1329.6400146484375,
          1321.239990234375,
          1275.5401611328125,
          1233.25,
          1237.550048828125,
          1256.989990234375,
          1333.68994140625,
          1307.7198486328125,
          1346.9300537109375,
          1347.56005859375,
          1355.530029296875,
          1393.0699462890625,
          1436.360107421875,
          1400.6700439453125,
          1394.0400390625,
          1405.3699951171875,
          1418.2099609375,
          1452.0899658203125,
          1452.06005859375,
          1507.1500244140625,
          1536.8900146484375,
          1507.050048828125,
          1467.3900146484375,
          1356.219970703125,
          1387.6800537109375,
          1419.6099853515625,
          1452.260009765625,
          1426.530029296875,
          1427.3299560546875,
          1418.6300048828125,
          1433.530029296875,
          1439.3399658203125,
          1389.739990234375,
          1413.31005859375,
          1378.780029296875,
          1421.2099609375,
          1441.3699951171875,
          1427.31005859375,
          1431.8599853515625,
          1442.8800048828125,
          1416,
          1427.4000244140625,
          1398.9200439453125,
          1422.6800537109375,
          1403.5699462890625,
          1428.260009765625,
          1478.27001953125,
          1467.56005859375,
          1473.3199462890625,
          1467.949951171875,
          1487.510009765625,
          1490.1400146484375,
          1490.199951171875,
          1467.550048828125,
          1484.6500244140625,
          1469.760009765625,
          1500.6300048828125,
          1495.0999755859375,
          1480.4300537109375,
          1506.800048828125,
          1517.2099609375,
          1546.239990234375,
          1544.6199951171875,
          1569.1800537109375,
          1584.6700439453125,
          1575.0999755859375,
          1583.25,
          1579.7900390625,
          1577.8800048828125,
          1585.469970703125,
          1569.77001953125,
          1572.0699462890625,
          1564.300048828125,
          1552.47998046875,
          1568.469970703125,
          1571.2099609375,
          1560.18994140625,
          1564.56005859375,
          1578.3399658203125,
          1561.8800048828125,
          1578.5799560546875,
          1592.2900390625,
          1544.6800537109375,
          1535.300048828125,
          1504.5899658203125,
          1526.47998046875,
          1507.75,
          1497.27001953125,
          1536.969970703125,
          1538.1500244140625,
          1552.3299560546875,
          1542.5999755859375,
          1536.780029296875,
          1485.25,
          1496.9599609375,
          1451.4599609375,
          1451.8199462890625,
          1474.9100341796875,
          1510.3399658203125,
          1504.72998046875,
          1507.68994140625,
          1531.199951171875,
          1539.300048828125,
          1581.9599609375,
          1577.2900390625,
          1611.0400390625,
          1628.550048828125,
          1637.550048828125,
          1649.050048828125,
          1636.8499755859375,
          1621.6500244140625,
          1638.8800048828125,
          1633.81005859375,
          1613.6300048828125,
          1617.7099609375,
          1603.780029296875,
          1630.25,
          1640.5,
          1605.2100830078125,
          1590.7099609375,
          1543.280029296875,
          1561.579833984375,
          1538.47998046875,
          1568.5899658203125,
          1614.300048828125,
          1615.0799560546875,
          1660.050048828125,
          1648.260009765625,
          1705.0400390625,
          1737.010009765625,
          1736.93994140625,
          1708.469970703125,
          1744.0400390625,
          1785.3399658203125,
          1791.9100341796875,
          1769.3199462890625,
          1784.1300048828125,
          1785.3399658203125,
          1818.300048828125,
          1853.530029296875,
          1845.02001953125,
          1855.27001953125,
          1819.8199462890625,
          1836.050048828125,
          1838.030029296875,
          1848.699951171875,
          1892.449951171875,
          1891.25,
          1917.780029296875,
          1902.1500244140625,
          1922.699951171875,
          1911.699951171875,
          1913.8599853515625,
          1959.760009765625,
          1952.719970703125,
          1978.050048828125,
          1969.989990234375,
          1970.3299560546875,
          1989.8800048828125,
          2007.0999755859375,
          2003.949951171875,
          1996.25,
          1959.3599853515625,
          1979.989990234375,
          1974.8599853515625,
          1945.9100341796875,
          1979.1099853515625,
          2057.919921875,
          2096.889892578125,
          2091.659912109375,
          2091.010009765625,
          2127.9599609375,
          2111.969970703125,
          2155.35009765625,
          2123.199951171875,
          2151.139892578125,
          2160.6201171875,
          2141.419921875,
          2168.760009765625,
          2163.27001953125,
          2149.860107421875,
          2108.699951171875,
          2106.610107421875,
          2073.639892578125,
          2126.159912109375,
          2151.43994140625,
          2159.699951171875,
          2202.419921875,
          2233.330078125,
          2289.760009765625,
          2299,
          2282.43994140625,
          2285.320068359375,
          2289.360107421875,
          2272.889892578125,
          2256.110107421875,
          2218.389892578125,
          2266.68994140625,
          2251.070068359375,
          2231.31005859375,
          2284.3798828125,
          2200.169921875,
          2201.050048828125,
          2275.320068359375,
          2231.510009765625,
          2207.7900390625,
          2146.919921875,
          2192.2099609375,
          2202.97998046875,
          2245.06005859375,
          2285.679931640625,
          2338.5400390625,
          2352.7900390625,
          2360.169921875,
          2319.52001953125,
          2336.389892578125,
          2267.590087890625,
          2287.550048828125,
          2266.840087890625,
          2185.68994140625,
          2134.27001953125,
          2183.1201171875,
          2221.47998046875,
          2158.679931640625,
          2195.800048828125,
          2220.52001953125,
          2253.89990234375,
          2264.889892578125,
          2259.14990234375,
          2223.050048828125,
          2242.60009765625,
          2243.469970703125,
          2233.780029296875,
          2228.919921875,
          2247.719970703125,
          2257.070068359375,
          2262.669921875,
          2232,
          2188.2099609375,
          2239.6298828125,
          2232.610107421875,
          2271.860107421875,
          2298.010009765625,
          2301.27001953125,
          2304.159912109375,
          2295.4599609375,
          2266.449951171875,
          2277.449951171875,
          2248.2900390625,
          2241.3701171875,
          2241.419921875,
          2271.6298828125,
          2212.699951171875,
          2206.989990234375,
          2135.139892578125,
          2170.949951171875,
          2224.6298828125,
          2227.1201171875,
          2210.8798828125,
          2193.639892578125,
          2207.760009765625,
          2215.27001953125,
          2227.340087890625,
          2205.75,
          2249.27001953125,
          2273.070068359375,
          2268.969970703125,
          2294.739990234375,
          2297.830078125,
          2279.25,
          2286.409912109375,
          2319.179931640625,
          2343.760009765625,
          2327.1298828125,
          2311.409912109375,
          2335.81005859375,
          2326.14990234375,
          2320.070068359375,
          2314.68994140625,
          2287.4599609375,
          2237.75,
          2286.090087890625,
          2295.949951171875,
          2303.469970703125,
          2333.6201171875,
          2334.39990234375,
          2322.340087890625,
          2308.840087890625,
          2310.550048828125,
          2329.360107421875,
          2305.760009765625,
          2274.5,
          2252.85009765625,
          2231.679931640625,
          2280.000244140625,
          2281.820068359375,
          2238.860107421875,
          2202.360107421875,
          2190.2900390625,
          2163.239990234375,
          2130.679931640625,
          2194.300048828125,
          2234.0400390625,
          2199.47998046875,
          2209.64990234375,
          2216.919921875,
          2191.830078125,
          2224.9599609375,
          2240.030029296875,
          2226.25,
          2215.5,
          2223.580078125,
          2196.320068359375,
          2236.010009765625,
          2247.760009765625,
          2234.81005859375,
          2239.360107421875,
          2250.340087890625,
          2244.070068359375,
          2223.110107421875,
          2209.47998046875,
          2177.169921875,
          2158.780029296875,
          2132.419921875,
          2167.60009765625,
          2208.300048828125,
          2230.909912109375,
          2239.27001953125,
          2213.97998046875,
          2277.14990234375,
          2265.989990234375,
          2273.77001953125,
          2287.06005859375,
          2304.02001953125,
          2292.050048828125,
          2275.610107421875,
          2249.72998046875,
          2249.1298828125,
          2227.550048828125,
          2240.780029296875,
          2209.97998046875,
          2234.449951171875,
          2232.909912109375,
          2236.8701171875,
          2182.199951171875,
          2186.179931640625,
          2218.56005859375,
          2259.0400390625,
          2248.070068359375,
          2281,
          2229.780029296875,
          2225.31005859375,
          2204.3701171875,
          2241.6298828125,
          2217.469970703125,
          2228.360107421875,
          2214.9599609375,
          2250.090087890625,
          2233.090087890625,
          2220.639892578125,
          2234.27001953125,
          2241.969970703125,
          2274.179931640625,
          2265.64990234375,
          2267.840087890625,
          2275.909912109375,
          2289.77001953125,
          2296.179931640625,
          2291.27001953125,
          2312.639892578125,
          2296.080322265625,
          2252.489990234375,
          2297.97998046875,
          2297.18994140625,
          2358.119873046875,
          2361.860107421875,
          2404.280029296875,
          2402.429931640625,
          2437.080078125,
          2442.739990234375,
          2427.2900390625,
          2389.580078125,
          2409.139892578125,
          2411.780029296875,
          2400.929931640625,
          2405.02001953125,
          2377.010009765625,
          2363.590087890625,
          2343.159912109375,
          2331.35009765625,
          2327.860107421875,
          2331.4599609375,
          2245.93994140625,
          2241.97998046875,
          2198.909912109375,
          2147.419921875,
          2206.330078125,
          2159.31005859375,
          2203.47998046875,
          2253.7900390625,
          2271.7099609375,
          2220.2099609375,
          2211.81005859375,
          2180.5,
          2159.64990234375,
          2195.2099609375,
          2152.4599609375,
          2173.929931640625,
          2139.869873046875,
          2202.949951171875,
          2221.89990234375,
          2241.580078125,
          2261.4599609375,
          2246.510009765625,
          2249.239990234375,
          2248.7900390625,
          2245.31005859375,
          2272.56005859375,
          2268.8701171875,
          2194,
          2206.3701171875,
          2179.81005859375,
          2171.14990234375,
          2194,
          2176.06005859375,
          2159.43994140625,
          2162.4599609375,
          2096.22998046875,
          2062.780029296875,
          2024.0400390625,
          1987.9200439453125,
          2033.510009765625,
          2004.030029296875,
          1976.4599609375,
          1931.2900390625,
          1968.510009765625,
          2028.449951171875,
          2050.739990234375,
          2029.52001953125,
          1991.030029296875,
          2002.3599853515625,
          2012.5999755859375,
          2045.3699951171875,
          2083.5,
          2051.159912109375,
          2030.1500244140625,
          2020.7900390625,
          2076.4599609375,
          2079.31005859375,
          2028.0899658203125,
          2009.3299560546875,
          1980.1700439453125,
          1944.0899658203125,
          1996.010009765625,
          2040.9300537109375,
          2048.090087890625,
          2008.510009765625,
          2058.8701171875,
          2032.4100341796875,
          2000.9000244140625,
          1951.3299560546875,
          1963.010009765625,
          2016.2900390625,
          2011.6700439453125,
          1979.6700439453125,
          1941.719970703125,
          1968.969970703125,
          2030.719970703125,
          2065.02001953125,
          2086.139892578125,
          2065.93994140625,
          2088.340087890625,
          2052.2099609375,
          2075.43994140625,
          2077.97998046875,
          2078.06005859375,
          2133.10009765625,
          2091.070068359375,
          2070.1298828125,
          2091.110107421875,
          2095.43994140625,
          2046.0400390625,
          2016.93994140625,
          2009.800048828125,
          1994.56005859375,
          1980.3199462890625,
          1986.93994140625,
          2025.0999755859375,
          2004.97998046875,
          1990.1300048828125,
          2030.77001953125,
          2038.18994140625,
          1991.4599609375,
          1940.6600341796875,
          1954.199951171875,
          1890.469970703125,
          1884.0400390625,
          1917.93994140625,
          1864.0999755859375,
          1882.9100341796875,
          1898.8599853515625,
          1949.9200439453125,
          1871.1500244140625,
          1839.56005859375,
          1762.0799560546875,
          1761.7900390625,
          1718.1400146484375,
          1739.3800048828125,
          1792.6700439453125,
          1783.4300537109375,
          1840.300048828125,
          1774.8499755859375,
          1776.219970703125,
          1773.27001953125,
          1792.760009765625,
          1764.8299560546875,
          1799.1600341796875,
          1838.239990234375,
          1887.9000244140625,
          1864.0400390625,
          1854.8199462890625,
          1897.6700439453125,
          1883.050048828125,
          1889.8900146484375,
          1919.56005859375,
          1891.010009765625,
          1850.8599853515625,
          1800.280029296875,
          1714.5899658203125,
          1707.8299560546875,
          1731.1400146484375,
          1649.8399658203125,
          1665.68994140625,
          1694.030029296875,
          1690.280029296875,
          1711.6700439453125,
          1765.739990234375,
          1771.739990234375,
          1738.8399658203125,
          1719.3699951171875,
          1707.989990234375,
          1727.760009765625,
          1741.3299560546875,
          1727.550048828125,
          1769.5999755859375,
          1769.3599853515625,
          1732.010009765625,
          1728.1800537109375,
          1726.0400390625,
          1707.510009765625,
          1744.3699951171875,
          1738.4200439453125,
          1799.3199462890625,
          1827.949951171875,
          1836.68994140625,
          1806.8800048828125,
          1817.77001953125,
          1805.25,
          1848.3399658203125,
          1873.030029296875,
          1885.22998046875,
          1883.31005859375,
          1882.449951171875,
          1908.9300537109375,
          1906.4599609375,
          1921.8199462890625,
          1941.2099609375,
          1912.8900146484375,
          1969.25,
          1975.260009765625,
          2016.6199951171875,
          2021.3499755859375,
          2020.530029296875,
          1987.31005859375,
          2000.72998046875,
          1957.3499755859375,
          1915.739990234375,
          1919.1400146484375,
          1935.2900390625,
          1964.6400146484375,
          1899.8299560546875,
          1882.93994140625,
          1855.5899658203125,
          1844.1201171875,
          1822.8199462890625,
          1809.75,
          1792.3199462890625,
          1832,
          1846.9100341796875,
          1882.8499755859375,
          1906.0899658203125,
          1831.5699462890625,
          1838.4599609375,
          1825.22998046875,
          1798.1898193359375,
          1812.8399658203125,
          1787.5,
          1762.1600341796875,
          1722.31005859375,
          1679.5899658203125,
          1655.8800048828125,
          1662.510009765625,
          1715.239990234375,
          1674.9300537109375,
          1664.719970703125,
          1708.8699951171875,
          1775.77001953125,
          1762.68994140625,
          1752.510009765625,
          1702.1500244140625,
          1691.9200439453125,
          1692.9200439453125,
          1687.760009765625,
          1728.4100341796875,
          1682.4000244140625,
          1735.75,
          1755.9599609375,
          1725.760009765625,
          1704.3900146484375,
          1742.239990234375,
          1748.4000244140625,
          1796.1600341796875,
          1804.3299560546875,
          1806.3199462890625,
          1846.9200439453125,
          1846.8599853515625,
          1851.3900146484375,
          1789.1400146484375,
          1779.72998046875,
          1799.8699951171875,
          1809.81005859375,
          1808.9300537109375,
          1760.4000244140625,
          1867.9300537109375,
          1882.739990234375,
          1861.25,
          1889.199951171875,
          1853.1700439453125,
          1839.1199951171875,
          1849.72998046875,
          1839.1400146484375,
          1860.43994140625,
          1863.52001953125,
          1869.18994140625,
          1830.9599609375,
          1836.550048828125,
          1886.5799560546875,
          1881.6800537109375,
          1892.8399658203125,
          1840.219970703125,
          1812.5799560546875,
          1806.9000244140625,
          1818.2900390625,
          1796.6600341796875,
          1818.6099853515625,
          1832.3599853515625,
          1820.449951171875,
          1774.6099853515625,
          1763.4200439453125,
          1738.5799560546875,
          1748.02001953125,
          1776.93994140625,
          1754.0899658203125,
          1760.9300537109375,
          1749.52001953125,
          1722.02001953125,
          1766.25,
          1761.25,
          1750.72998046875,
          1772.5400390625,
          1753.18994140625,
          1792.800048828125,
          1795.9100341796875,
          1822.6500244140625,
          1844.050048828125,
          1876.06005859375,
          1887.030029296875,
          1884.2900390625,
          1854.3599853515625,
          1836.3499755859375,
          1867.3399658203125,
          1890.77001953125,
          1885.6099853515625,
          1890.3199462890625,
          1903.06005859375,
          1911.4599609375,
          1885.719970703125,
          1931.93994140625,
          1960.81005859375,
          2001.219970703125,
          1985.530029296875,
          1957.719970703125,
          1972.6099853515625,
          1942.5999755859375,
          1915.340087890625,
          1918.81005859375,
          1941.1400146484375,
          1939.9100341796875,
          1960.969970703125,
          1942.2099609375,
          1946.35986328125,
          1888.2099609375,
          1894.6800537109375,
          1908.0899658203125,
          1890.489990234375,
          1896.27001953125,
          1896.989990234375,
          1898.4300537109375,
          1902.6600341796875,
          1928.260009765625,
          1899.760009765625,
          1878.719970703125,
          1879.47998046875,
          1826.5899658203125,
          1772.699951171875,
          1744.300048828125,
          1776.8900146484375,
          1745.93994140625,
          1771.239990234375,
          1725.8900146484375,
          1744.989990234375,
          1777.739990234375,
          1727.3599853515625,
          1720.2900390625,
          1734.9200439453125,
          1753.6700439453125,
          1752.6300048828125,
          1771.5999755859375,
          1768.3800048828125,
          1802.47998046875,
          1802.31005859375,
          1769.6500244140625,
          1752.1300048828125,
          1754.4599609375,
          1772.43994140625,
          1786.5899658203125,
          1773.699951171875,
          1796.6800537109375,
          1781.1500244140625,
          1802.8399658203125,
          1795.550048828125,
          1799.43994140625,
          1789.699951171875,
          1791.510009765625,
          1788.8699951171875,
          1745.949951171875,
          1730.409912109375,
          1751.219970703125,
          1768.989990234375,
          1769.2099609375,
          1732.1099853515625,
          1739.280029296875,
          1718.81005859375,
          1759.8800048828125,
          1754.469970703125,
          1749.6800537109375,
          1759.510009765625,
          1744.7099609375,
          1740.8499755859375,
          1761.550048828125,
          1736.1800537109375,
          1774.5,
          1784.8599853515625,
          1773.719970703125,
          1795.3800048828125,
          1787.7099609375,
          1767,
          1754.5999755859375,
          1773.02001953125,
          1767.2900390625,
          1749.6500244140625,
          1767.93994140625,
          1830.9100341796875,
          1806.7099609375,
          1855.4000244140625,
          1888.449951171875,
          1880.780029296875,
          1865.7099609375,
          1873.2099609375,
          1896.3299560546875,
          1874.0999755859375,
          1889.280029296875,
          1875.469970703125,
          1866.699951171875,
          1863.010009765625,
          1848.1800537109375,
          1821.6300048828125,
          1823.260009765625,
          1849.9300537109375,
          1858.7099609375,
          1881.5899658203125,
          1888.72998046875,
          1896.780029296875,
          1872.9100341796875,
          1842.22998046875,
          1864.6600341796875,
          1895.25,
          1913.3599853515625,
          1933.3800048828125,
          1950.8900146484375,
          1931.0899658203125,
          1951.27001953125,
          1976.0699462890625,
          1984.8900146484375,
          1967.1600341796875,
          1960.260009765625,
          1965.6800537109375,
          1966.1099853515625,
          1980.3599853515625,
          1954.9000244140625,
          1981.5400390625,
          2003.1800537109375,
          1994.1700439453125,
          1966.8299560546875,
          1961.4000244140625,
          1957.4599609375,
          1958.93994140625,
          1947.4200439453125,
          1930.77001953125,
          1922.6199951171875,
          1925.1099853515625,
          1920.489990234375,
          1895.75,
          1871.52001953125,
          1850.06005859375,
          1859.4200439453125,
          1856.010009765625,
          1850.8399658203125,
          1870.030029296875,
          1846.280029296875,
          1853.6300048828125,
          1869.010009765625,
          1895.5400390625,
          1903.2099609375,
          1899.6800537109375,
          1920.8299560546875,
          1880.449951171875,
          1874.280029296875,
          1855.760009765625,
          1851.5400390625,
          1855.1400146484375,
          1855.3199462890625,
          1840.8399658203125,
          1866.6300048828125,
          1847.030029296875,
          1834.300048828125,
          1826.530029296875,
          1810.0999755859375,
          1781.8299560546875,
          1776.5,
          1784.239990234375,
          1761.6099853515625,
          1778.9000244140625,
          1794.31005859375,
          1785.0999755859375,
          1756.8199462890625,
          1727.1500244140625,
          1729.010009765625,
          1731.510009765625,
          1745.56005859375,
          1755.989990234375,
          1775.949951171875,
          1773.300048828125,
          1734.25,
          1719.7099609375,
          1747.06005859375,
          1766.050048828125,
          1728.81005859375,
          1702.699951171875,
          1680.7900390625,
          1665.8800048828125,
          1679.5,
          1651.4300537109375,
          1657,
          1636.93994140625,
          1647.2900390625,
          1662.280029296875,
          1669.699951171875,
          1714.2099609375,
          1760.699951171875,
          1737.93994140625,
          1733.1500244140625,
          1714.0699462890625,
          1687.239990234375,
          1705.3199462890625,
          1705.5,
          1798.3199462890625,
          1801.219970703125,
          1773.760009765625,
          1797.77001953125,
          1807.0799560546875,
          1783.260009765625,
          1795.5400390625
         ]
        }
       ],
       "layout": {
        "height": 900,
        "template": {
         "data": {
          "bar": [
           {
            "error_x": {
             "color": "#f2f5fa"
            },
            "error_y": {
             "color": "#f2f5fa"
            },
            "marker": {
             "line": {
              "color": "rgb(17,17,17)",
              "width": 0.5
             },
             "pattern": {
              "fillmode": "overlay",
              "size": 10,
              "solidity": 0.2
             }
            },
            "type": "bar"
           }
          ],
          "barpolar": [
           {
            "marker": {
             "line": {
              "color": "rgb(17,17,17)",
              "width": 0.5
             },
             "pattern": {
              "fillmode": "overlay",
              "size": 10,
              "solidity": 0.2
             }
            },
            "type": "barpolar"
           }
          ],
          "carpet": [
           {
            "aaxis": {
             "endlinecolor": "#A2B1C6",
             "gridcolor": "#506784",
             "linecolor": "#506784",
             "minorgridcolor": "#506784",
             "startlinecolor": "#A2B1C6"
            },
            "baxis": {
             "endlinecolor": "#A2B1C6",
             "gridcolor": "#506784",
             "linecolor": "#506784",
             "minorgridcolor": "#506784",
             "startlinecolor": "#A2B1C6"
            },
            "type": "carpet"
           }
          ],
          "choropleth": [
           {
            "colorbar": {
             "outlinewidth": 0,
             "ticks": ""
            },
            "type": "choropleth"
           }
          ],
          "contour": [
           {
            "colorbar": {
             "outlinewidth": 0,
             "ticks": ""
            },
            "colorscale": [
             [
              0,
              "#0d0887"
             ],
             [
              0.1111111111111111,
              "#46039f"
             ],
             [
              0.2222222222222222,
              "#7201a8"
             ],
             [
              0.3333333333333333,
              "#9c179e"
             ],
             [
              0.4444444444444444,
              "#bd3786"
             ],
             [
              0.5555555555555556,
              "#d8576b"
             ],
             [
              0.6666666666666666,
              "#ed7953"
             ],
             [
              0.7777777777777778,
              "#fb9f3a"
             ],
             [
              0.8888888888888888,
              "#fdca26"
             ],
             [
              1,
              "#f0f921"
             ]
            ],
            "type": "contour"
           }
          ],
          "contourcarpet": [
           {
            "colorbar": {
             "outlinewidth": 0,
             "ticks": ""
            },
            "type": "contourcarpet"
           }
          ],
          "heatmap": [
           {
            "colorbar": {
             "outlinewidth": 0,
             "ticks": ""
            },
            "colorscale": [
             [
              0,
              "#0d0887"
             ],
             [
              0.1111111111111111,
              "#46039f"
             ],
             [
              0.2222222222222222,
              "#7201a8"
             ],
             [
              0.3333333333333333,
              "#9c179e"
             ],
             [
              0.4444444444444444,
              "#bd3786"
             ],
             [
              0.5555555555555556,
              "#d8576b"
             ],
             [
              0.6666666666666666,
              "#ed7953"
             ],
             [
              0.7777777777777778,
              "#fb9f3a"
             ],
             [
              0.8888888888888888,
              "#fdca26"
             ],
             [
              1,
              "#f0f921"
             ]
            ],
            "type": "heatmap"
           }
          ],
          "heatmapgl": [
           {
            "colorbar": {
             "outlinewidth": 0,
             "ticks": ""
            },
            "colorscale": [
             [
              0,
              "#0d0887"
             ],
             [
              0.1111111111111111,
              "#46039f"
             ],
             [
              0.2222222222222222,
              "#7201a8"
             ],
             [
              0.3333333333333333,
              "#9c179e"
             ],
             [
              0.4444444444444444,
              "#bd3786"
             ],
             [
              0.5555555555555556,
              "#d8576b"
             ],
             [
              0.6666666666666666,
              "#ed7953"
             ],
             [
              0.7777777777777778,
              "#fb9f3a"
             ],
             [
              0.8888888888888888,
              "#fdca26"
             ],
             [
              1,
              "#f0f921"
             ]
            ],
            "type": "heatmapgl"
           }
          ],
          "histogram": [
           {
            "marker": {
             "pattern": {
              "fillmode": "overlay",
              "size": 10,
              "solidity": 0.2
             }
            },
            "type": "histogram"
           }
          ],
          "histogram2d": [
           {
            "colorbar": {
             "outlinewidth": 0,
             "ticks": ""
            },
            "colorscale": [
             [
              0,
              "#0d0887"
             ],
             [
              0.1111111111111111,
              "#46039f"
             ],
             [
              0.2222222222222222,
              "#7201a8"
             ],
             [
              0.3333333333333333,
              "#9c179e"
             ],
             [
              0.4444444444444444,
              "#bd3786"
             ],
             [
              0.5555555555555556,
              "#d8576b"
             ],
             [
              0.6666666666666666,
              "#ed7953"
             ],
             [
              0.7777777777777778,
              "#fb9f3a"
             ],
             [
              0.8888888888888888,
              "#fdca26"
             ],
             [
              1,
              "#f0f921"
             ]
            ],
            "type": "histogram2d"
           }
          ],
          "histogram2dcontour": [
           {
            "colorbar": {
             "outlinewidth": 0,
             "ticks": ""
            },
            "colorscale": [
             [
              0,
              "#0d0887"
             ],
             [
              0.1111111111111111,
              "#46039f"
             ],
             [
              0.2222222222222222,
              "#7201a8"
             ],
             [
              0.3333333333333333,
              "#9c179e"
             ],
             [
              0.4444444444444444,
              "#bd3786"
             ],
             [
              0.5555555555555556,
              "#d8576b"
             ],
             [
              0.6666666666666666,
              "#ed7953"
             ],
             [
              0.7777777777777778,
              "#fb9f3a"
             ],
             [
              0.8888888888888888,
              "#fdca26"
             ],
             [
              1,
              "#f0f921"
             ]
            ],
            "type": "histogram2dcontour"
           }
          ],
          "mesh3d": [
           {
            "colorbar": {
             "outlinewidth": 0,
             "ticks": ""
            },
            "type": "mesh3d"
           }
          ],
          "parcoords": [
           {
            "line": {
             "colorbar": {
              "outlinewidth": 0,
              "ticks": ""
             }
            },
            "type": "parcoords"
           }
          ],
          "pie": [
           {
            "automargin": true,
            "type": "pie"
           }
          ],
          "scatter": [
           {
            "marker": {
             "line": {
              "color": "#283442"
             }
            },
            "type": "scatter"
           }
          ],
          "scatter3d": [
           {
            "line": {
             "colorbar": {
              "outlinewidth": 0,
              "ticks": ""
             }
            },
            "marker": {
             "colorbar": {
              "outlinewidth": 0,
              "ticks": ""
             }
            },
            "type": "scatter3d"
           }
          ],
          "scattercarpet": [
           {
            "marker": {
             "colorbar": {
              "outlinewidth": 0,
              "ticks": ""
             }
            },
            "type": "scattercarpet"
           }
          ],
          "scattergeo": [
           {
            "marker": {
             "colorbar": {
              "outlinewidth": 0,
              "ticks": ""
             }
            },
            "type": "scattergeo"
           }
          ],
          "scattergl": [
           {
            "marker": {
             "line": {
              "color": "#283442"
             }
            },
            "type": "scattergl"
           }
          ],
          "scattermapbox": [
           {
            "marker": {
             "colorbar": {
              "outlinewidth": 0,
              "ticks": ""
             }
            },
            "type": "scattermapbox"
           }
          ],
          "scatterpolar": [
           {
            "marker": {
             "colorbar": {
              "outlinewidth": 0,
              "ticks": ""
             }
            },
            "type": "scatterpolar"
           }
          ],
          "scatterpolargl": [
           {
            "marker": {
             "colorbar": {
              "outlinewidth": 0,
              "ticks": ""
             }
            },
            "type": "scatterpolargl"
           }
          ],
          "scatterternary": [
           {
            "marker": {
             "colorbar": {
              "outlinewidth": 0,
              "ticks": ""
             }
            },
            "type": "scatterternary"
           }
          ],
          "surface": [
           {
            "colorbar": {
             "outlinewidth": 0,
             "ticks": ""
            },
            "colorscale": [
             [
              0,
              "#0d0887"
             ],
             [
              0.1111111111111111,
              "#46039f"
             ],
             [
              0.2222222222222222,
              "#7201a8"
             ],
             [
              0.3333333333333333,
              "#9c179e"
             ],
             [
              0.4444444444444444,
              "#bd3786"
             ],
             [
              0.5555555555555556,
              "#d8576b"
             ],
             [
              0.6666666666666666,
              "#ed7953"
             ],
             [
              0.7777777777777778,
              "#fb9f3a"
             ],
             [
              0.8888888888888888,
              "#fdca26"
             ],
             [
              1,
              "#f0f921"
             ]
            ],
            "type": "surface"
           }
          ],
          "table": [
           {
            "cells": {
             "fill": {
              "color": "#506784"
             },
             "line": {
              "color": "rgb(17,17,17)"
             }
            },
            "header": {
             "fill": {
              "color": "#2a3f5f"
             },
             "line": {
              "color": "rgb(17,17,17)"
             }
            },
            "type": "table"
           }
          ]
         },
         "layout": {
          "annotationdefaults": {
           "arrowcolor": "#f2f5fa",
           "arrowhead": 0,
           "arrowwidth": 1
          },
          "autotypenumbers": "strict",
          "coloraxis": {
           "colorbar": {
            "outlinewidth": 0,
            "ticks": ""
           }
          },
          "colorscale": {
           "diverging": [
            [
             0,
             "#8e0152"
            ],
            [
             0.1,
             "#c51b7d"
            ],
            [
             0.2,
             "#de77ae"
            ],
            [
             0.3,
             "#f1b6da"
            ],
            [
             0.4,
             "#fde0ef"
            ],
            [
             0.5,
             "#f7f7f7"
            ],
            [
             0.6,
             "#e6f5d0"
            ],
            [
             0.7,
             "#b8e186"
            ],
            [
             0.8,
             "#7fbc41"
            ],
            [
             0.9,
             "#4d9221"
            ],
            [
             1,
             "#276419"
            ]
           ],
           "sequential": [
            [
             0,
             "#0d0887"
            ],
            [
             0.1111111111111111,
             "#46039f"
            ],
            [
             0.2222222222222222,
             "#7201a8"
            ],
            [
             0.3333333333333333,
             "#9c179e"
            ],
            [
             0.4444444444444444,
             "#bd3786"
            ],
            [
             0.5555555555555556,
             "#d8576b"
            ],
            [
             0.6666666666666666,
             "#ed7953"
            ],
            [
             0.7777777777777778,
             "#fb9f3a"
            ],
            [
             0.8888888888888888,
             "#fdca26"
            ],
            [
             1,
             "#f0f921"
            ]
           ],
           "sequentialminus": [
            [
             0,
             "#0d0887"
            ],
            [
             0.1111111111111111,
             "#46039f"
            ],
            [
             0.2222222222222222,
             "#7201a8"
            ],
            [
             0.3333333333333333,
             "#9c179e"
            ],
            [
             0.4444444444444444,
             "#bd3786"
            ],
            [
             0.5555555555555556,
             "#d8576b"
            ],
            [
             0.6666666666666666,
             "#ed7953"
            ],
            [
             0.7777777777777778,
             "#fb9f3a"
            ],
            [
             0.8888888888888888,
             "#fdca26"
            ],
            [
             1,
             "#f0f921"
            ]
           ]
          },
          "colorway": [
           "#636efa",
           "#EF553B",
           "#00cc96",
           "#ab63fa",
           "#FFA15A",
           "#19d3f3",
           "#FF6692",
           "#B6E880",
           "#FF97FF",
           "#FECB52"
          ],
          "font": {
           "color": "#f2f5fa"
          },
          "geo": {
           "bgcolor": "rgb(17,17,17)",
           "lakecolor": "rgb(17,17,17)",
           "landcolor": "rgb(17,17,17)",
           "showlakes": true,
           "showland": true,
           "subunitcolor": "#506784"
          },
          "hoverlabel": {
           "align": "left"
          },
          "hovermode": "closest",
          "mapbox": {
           "style": "dark"
          },
          "paper_bgcolor": "rgb(17,17,17)",
          "plot_bgcolor": "rgb(17,17,17)",
          "polar": {
           "angularaxis": {
            "gridcolor": "#506784",
            "linecolor": "#506784",
            "ticks": ""
           },
           "bgcolor": "rgb(17,17,17)",
           "radialaxis": {
            "gridcolor": "#506784",
            "linecolor": "#506784",
            "ticks": ""
           }
          },
          "scene": {
           "xaxis": {
            "backgroundcolor": "rgb(17,17,17)",
            "gridcolor": "#506784",
            "gridwidth": 2,
            "linecolor": "#506784",
            "showbackground": true,
            "ticks": "",
            "zerolinecolor": "#C8D4E3"
           },
           "yaxis": {
            "backgroundcolor": "rgb(17,17,17)",
            "gridcolor": "#506784",
            "gridwidth": 2,
            "linecolor": "#506784",
            "showbackground": true,
            "ticks": "",
            "zerolinecolor": "#C8D4E3"
           },
           "zaxis": {
            "backgroundcolor": "rgb(17,17,17)",
            "gridcolor": "#506784",
            "gridwidth": 2,
            "linecolor": "#506784",
            "showbackground": true,
            "ticks": "",
            "zerolinecolor": "#C8D4E3"
           }
          },
          "shapedefaults": {
           "line": {
            "color": "#f2f5fa"
           }
          },
          "sliderdefaults": {
           "bgcolor": "#C8D4E3",
           "bordercolor": "rgb(17,17,17)",
           "borderwidth": 1,
           "tickwidth": 0
          },
          "ternary": {
           "aaxis": {
            "gridcolor": "#506784",
            "linecolor": "#506784",
            "ticks": ""
           },
           "baxis": {
            "gridcolor": "#506784",
            "linecolor": "#506784",
            "ticks": ""
           },
           "bgcolor": "rgb(17,17,17)",
           "caxis": {
            "gridcolor": "#506784",
            "linecolor": "#506784",
            "ticks": ""
           }
          },
          "title": {
           "x": 0.05
          },
          "updatemenudefaults": {
           "bgcolor": "#506784",
           "borderwidth": 0
          },
          "xaxis": {
           "automargin": true,
           "gridcolor": "#283442",
           "linecolor": "#506784",
           "ticks": "",
           "title": {
            "standoff": 15
           },
           "zerolinecolor": "#283442",
           "zerolinewidth": 2
          },
          "yaxis": {
           "automargin": true,
           "gridcolor": "#283442",
           "linecolor": "#506784",
           "ticks": "",
           "title": {
            "standoff": 15
           },
           "zerolinecolor": "#283442",
           "zerolinewidth": 2
          }
         }
        },
        "title": {
         "text": "TCN model predictions vs. actual price of ^RUT"
        },
        "width": 1500
       }
      },
      "text/html": [
       "<div>                            <div id=\"c095f1bd-4a16-4d5b-9713-41e50c0683a0\" class=\"plotly-graph-div\" style=\"height:900px; width:1500px;\"></div>            <script type=\"text/javascript\">                require([\"plotly\"], function(Plotly) {                    window.PLOTLYENV=window.PLOTLYENV || {};                                    if (document.getElementById(\"c095f1bd-4a16-4d5b-9713-41e50c0683a0\")) {                    Plotly.newPlot(                        \"c095f1bd-4a16-4d5b-9713-41e50c0683a0\",                        [{\"marker\":{\"color\":\"#FF6F61\",\"opacity\":0.9},\"mode\":\"lines\",\"name\":\"predicted\",\"y\":[1162.697509765625,1161.15185546875,1161.4642333984375,1161.482421875,1164.177001953125,1165.9603271484375,1166.7271728515625,1164.3724365234375,1164.5650634765625,1166.5601806640625,1168.15283203125,1167.588623046875,1169.9637451171875,1172.2562255859375,1172.6683349609375,1173.12841796875,1173.751220703125,1177.0211181640625,1181.943359375,1179.785400390625,1180.8226318359375,1179.904052734375,1181.9437255859375,1186.053955078125,1182.5609130859375,1189.5240478515625,1190.3704833984375,1185.5482177734375,1186.19580078125,1188.15478515625,1187.45361328125,1185.9443359375,1185.150634765625,1186.9566650390625,1188.02294921875,1182.1756591796875,1186.2257080078125,1180.6893310546875,1180.1668701171875,1180.974609375,1181.4029541015625,1176.4739990234375,1178.581298828125,1179.8541259765625,1181.2041015625,1186.6253662109375,1187.195556640625,1191.1363525390625,1192.543212890625,1194.26513671875,1198.1939697265625,1198.6890869140625,1199.035400390625,1197.9671630859375,1198.678955078125,1201.426513671875,1200.5716552734375,1201.9080810546875,1202.433837890625,1206.3653564453125,1205.5943603515625,1207.1578369140625,1206.9154052734375,1208.43017578125,1206.8624267578125,1207.765869140625,1203.6064453125,1205.27734375,1207.399658203125,1204.289794921875,1206.843017578125,1201.796875,1200.625,1201.1185302734375,1203.348388671875,1203.6348876953125,1202.001708984375,1203.5487060546875,1204.390625,1206.3299560546875,1206.45947265625,1209.420166015625,1208.774658203125,1208.9075927734375,1207.6744384765625,1209.663818359375,1209.521240234375,1211.8245849609375,1212.65966796875,1212.84716796875,1212.861328125,1215.1923828125,1218.1339111328125,1218.141845703125,1221.0028076171875,1215.071044921875,1218.0650634765625,1220.502685546875,1221.784912109375,1232.7548828125,1237.0394287109375,1236.706787109375,1250.3160400390625,1254.0279541015625,1251.6087646484375,1254.8770751953125,1251.643310546875,1247.7813720703125,1253.385009765625,1253.101318359375,1252.874267578125,1255.127685546875,1253.364990234375,1251.668212890625,1254.7822265625,1255.0543212890625,1257.843994140625,1253.5159912109375,1255.85693359375,1251.4859619140625,1253.2880859375,1259.30517578125,1257.1146240234375,1259.7177734375,1259.3236083984375,1262.9979248046875,1263.8597412109375,1266.5228271484375,1265.3743896484375,1264.99072265625,1262.7880859375,1259.4349365234375,1259.3836669921875,1259.2393798828125,1258.6527099609375,1262.941162109375,1262.2672119140625,1263.6806640625,1269.42041015625,1271.197265625,1271.9298095703125,1272.2252197265625,1283.23193359375,1284.9432373046875,1288.6201171875,1288.27783203125,1286.1275634765625,1281.7071533203125,1282.4183349609375,1283.902099609375,1286.5283203125,1288.1988525390625,1289.6126708984375,1294.681884765625,1291.856201171875,1296.4697265625,1305.4111328125,1296.962646484375,1295.8802490234375,1299.580810546875,1298.8409423828125,1300.897705078125,1303.856689453125,1305.4521484375,1304.7984619140625,1307.0316162109375,1310.946044921875,1314.371337890625,1318.9534912109375,1320.030517578125,1319.1630859375,1319.638427734375,1332.275146484375,1337.252685546875,1331.5135498046875,1339.3555908203125,1333.6109619140625,1341.4322509765625,1346.56689453125,1351.3443603515625,1348.2713623046875,1352.0584716796875,1357.051513671875,1349.2110595703125,1341.5050048828125,1342.5052490234375,1342.373046875,1325.377685546875,1303.1455078125,1315.68115234375,1311.424560546875,1297.1005859375,1301.9130859375,1305.66552734375,1307.0225830078125,1309.042724609375,1317.4464111328125,1319.9234619140625,1312.7796630859375,1308.8525390625,1313.06787109375,1324.5545654296875,1334.1605224609375,1322.0836181640625,1314.6920166015625,1310.84912109375,1309.8275146484375,1317.1085205078125,1320.664306640625,1321.4190673828125,1324.1317138671875,1332.650146484375,1332.478271484375,1330.1011962890625,1327.218017578125,1328.62353515625,1330.046142578125,1324.682861328125,1325.2247314453125,1322.332763671875,1306.926513671875,1299.5616455078125,1311.4923095703125,1307.0140380859375,1306.9747314453125,1313.8243408203125,1305.7381591796875,1309.0240478515625,1314.2333984375,1317.0296630859375,1309.1201171875,1309.5467529296875,1316.7745361328125,1314.5743408203125,1319.6307373046875,1316.8699951171875,1323.6180419921875,1331.513671875,1330.01513671875,1324.934326171875,1318.3555908203125,1316.7841796875,1308.24072265625,1307.8590087890625,1315.16796875,1315.5567626953125,1310.6376953125,1310.1083984375,1308.1397705078125,1308.2916259765625,1317.6175537109375,1321.9327392578125,1322.7930908203125,1327.2779541015625,1333.215576171875,1336.0322265625,1336.3270263671875,1329.67041015625,1334.298095703125,1334.6448974609375,1337.0269775390625,1343.2164306640625,1340.837646484375,1344.626708984375,1344.8480224609375,1345.8719482421875,1346.821533203125,1351.196533203125,1347.52490234375,1350.34423828125,1352.596923828125,1355.6314697265625,1362.1807861328125,1363.375244140625,1366.3760986328125,1366.8367919921875,1369.3814697265625,1366.3455810546875,1369.6787109375,1370.021728515625,1371.8525390625,1369.9373779296875,1373.37890625,1367.343017578125,1369.947998046875,1364.4786376953125,1366.5748291015625,1362.91357421875,1364.8983154296875,1365.824951171875,1368.4017333984375,1368.465087890625,1373.42236328125,1377.8743896484375,1383.523681640625,1385.6094970703125,1383.168212890625,1387.6322021484375,1390.54248046875,1389.969482421875,1392.2996826171875,1393.9805908203125,1394.165283203125,1392.8299560546875,1391.83544921875,1394.20654296875,1398.089599609375,1399.7723388671875,1395.4188232421875,1391.1845703125,1396.7010498046875,1394.048095703125,1397.935791015625,1401.234375,1404.0977783203125,1405.9176025390625,1405.9267578125,1407.211181640625,1407.8663330078125,1405.2470703125,1408.4437255859375,1406.3251953125,1413.4710693359375,1415.942138671875,1419.8614501953125,1421.794921875,1422.9281005859375,1421.954345703125,1425.4423828125,1429.54638671875,1429.37841796875,1431.898193359375,1431.3297119140625,1433.5755615234375,1431.6826171875,1432.294189453125,1433.2958984375,1430.5872802734375,1431.2740478515625,1432.62255859375,1434.08251953125,1437.3402099609375,1437.6409912109375,1435.2403564453125,1438.053466796875,1439.0501708984375,1444.37353515625,1446.8524169921875,1442.968505859375,1442.0216064453125,1439.7496337890625,1441.335205078125,1443.0062255859375,1443.2757568359375,1444.853515625,1442.4180908203125,1436.19970703125,1431.8907470703125,1431.9361572265625,1430.68115234375,1425.997314453125,1426.7373046875,1427.3636474609375,1421.9486083984375,1415.7581787109375,1414.9827880859375,1417.1741943359375,1421.255859375,1418.2603759765625,1418.5577392578125,1424.7646484375,1416.7440185546875,1416.3975830078125,1411.5091552734375,1405.8353271484375,1404.7860107421875,1396.1405029296875,1391.3504638671875,1392.1683349609375,1389.806884765625,1391.624267578125,1389.1229248046875,1391.673095703125,1391.030029296875,1388.892333984375,1387.186279296875,1381.609130859375,1380.939453125,1383.0887451171875,1381.3597412109375,1373.0902099609375,1368.8817138671875,1366.360595703125,1370.6451416015625,1367.1026611328125,1367.2449951171875,1367.48828125,1374.0343017578125,1373.3486328125,1372.1529541015625,1373.3028564453125,1373.506103515625,1371.37060546875,1366.7120361328125,1372.355712890625,1370.7857666015625,1371.60205078125,1369.41064453125,1368.1661376953125,1354.08056640625,1329.1029052734375,1296.28125,1346.8460693359375,1350.8143310546875,1344.2945556640625,1341.7510986328125,1336.278076171875,1333.337158203125,1322.0770263671875,1313.951171875,1308.954833984375,1304.8656005859375,1302.849609375,1301.2509765625,1301.2425537109375,1298.8519287109375,1300.0074462890625,1302.390625,1308.419189453125,1300.370361328125,1300.6788330078125,1302.6746826171875,1307.3983154296875,1302.1614990234375,1303.599853515625,1315.85791015625,1323.713134765625,1321.6827392578125,1328.3863525390625,1332.932861328125,1332.179443359375,1326.5885009765625,1326.84228515625,1328.745849609375,1340.7677001953125,1342.52783203125,1344.464111328125,1359.175048828125,1362.2398681640625,1365.5606689453125,1359.8642578125,1369.5018310546875,1369.67724609375,1367.2388916015625,1365.3311767578125,1360.94287109375,1366.256103515625,1360.0025634765625,1357.750244140625,1347.000732421875,1344.6279296875,1344.660400390625,1353.91845703125,1355.089599609375,1360.2794189453125,1356.74560546875,1361.1585693359375,1366.7196044921875,1362.30908203125,1357.1068115234375,1372.3914794921875,1355.0843505859375,1357.6514892578125,1361.5247802734375,1361.4029541015625,1363.7138671875,1366.599365234375,1373.5098876953125,1372.240478515625,1374.25,1378.669189453125,1385.11376953125,1382.2283935546875,1374.159423828125,1382.923583984375,1380.1783447265625,1383.428955078125,1381.5528564453125,1381.610595703125,1376.38330078125,1380.0177001953125,1376.7667236328125,1389.54345703125,1392.287841796875,1385.7974853515625,1394.4940185546875,1396.1905517578125,1396.8455810546875,1388.3292236328125,1386.298828125,1402.1602783203125,1403.2186279296875,1388.019287109375,1384.2760009765625,1382.10546875,1385.926025390625,1370.972412109375,1378.7772216796875,1383.3631591796875,1386.7381591796875,1383.5946044921875,1378.7611083984375,1384.698486328125,1382.986328125,1376.6192626953125,1378.94775390625,1375.54443359375,1371.4124755859375,1372.1087646484375,1369.2672119140625,1372.2615966796875,1381.7425537109375,1385.2958984375,1386.8232421875,1394.164306640625,1394.09130859375,1393.3262939453125,1393.43115234375,1401.0057373046875,1396.5908203125,1400.1070556640625,1413.3250732421875,1414.6060791015625,1430.14306640625,1421.75244140625,1418.8321533203125,1414.10205078125,1409.8890380859375,1420.5489501953125,1428.9708251953125,1430.275390625,1433.3853759765625,1441.4771728515625,1436.1146240234375,1429.949951171875,1429.152099609375,1433.1812744140625,1431.1796875,1439.7635498046875,1438.46337890625,1436.212158203125,1433.182373046875,1437.9532470703125,1433.3414306640625,1434.3785400390625,1438.9112548828125,1448.2647705078125,1438.4356689453125,1445.615234375,1444.616455078125,1448.466796875,1440.0504150390625,1438.5401611328125,1433.1759033203125,1419.08349609375,1425.5234375,1427.9493408203125,1440.61376953125,1431.35205078125,1426.88916015625,1432.0928955078125,1417.1773681640625,1420.2633056640625,1428.2232666015625,1432.46875,1428.175048828125,1433.916748046875,1430.6456298828125,1416.998291015625,1420.8658447265625,1418.218505859375,1424.9354248046875,1432.953125,1433.23486328125,1425.982421875,1434.931640625,1439.5142822265625,1439.9091796875,1440.7816162109375,1440.904296875,1463.248779296875,1459.3963623046875,1452.5877685546875,1459.071044921875,1458.393310546875,1454.0657958984375,1450.68798828125,1457.8450927734375,1460.8350830078125,1450.8946533203125,1454.5499267578125,1448.1195068359375,1444.031494140625,1446.3724365234375,1434.9583740234375,1425.9761962890625,1436.3125,1448.229736328125,1442.4268798828125,1431.09912109375,1433.2366943359375,1433.0877685546875,1438.5706787109375,1439.128662109375,1444.936279296875,1446.7083740234375,1453.2149658203125,1447.3895263671875,1454.5045166015625,1454.4954833984375,1457.762451171875,1454.4415283203125,1459.4393310546875,1465.154541015625,1468.9984130859375,1471.416015625,1472.9609375,1490.8839111328125,1492.277587890625,1485.193359375,1484.4029541015625,1478.5516357421875,1481.5865478515625,1478.722900390625,1480.7230224609375,1482.815673828125,1488.33349609375,1494.45458984375,1494.8701171875,1498.1279296875,1496.469482421875,1486.729248046875,1490.9156494140625,1514.883056640625,1519.8433837890625,1522.7335205078125,1513.65185546875,1492.719970703125,1498.1998291015625,1500.86279296875,1501.0166015625,1513.1448974609375,1509.5556640625,1509.7091064453125,1515.453857421875,1516.5604248046875,1521.40625,1524.071533203125,1529.08203125,1527.9197998046875,1536.458740234375,1537.95068359375,1537.6212158203125,1541.744873046875,1544.7945556640625,1542.639404296875,1534.4368896484375,1536.6685791015625,1544.2442626953125,1545.6431884765625,1546.4013671875,1540.001953125,1541.794921875,1547.8192138671875,1543.4327392578125,1551.28076171875,1557.6563720703125,1565.4869384765625,1580.9813232421875,1577.5516357421875,1574.2218017578125,1572.6649169921875,1576.080322265625,1564.68212890625,1552.3505859375,1562.182373046875,1561.84521484375,1568.01220703125,1540.7762451171875,1553.253173828125,1567.570556640625,1585.9744873046875,1585.680908203125,1575.86474609375,1590.12646484375,1591.49609375,1599.3720703125,1601.2379150390625,1600.8089599609375,1598.6868896484375,1605.2833251953125,1609.08642578125,1599.7037353515625,1561.73583984375,1522.869384765625,1518.9278564453125,1486.6634521484375,1489.048828125,1519.6837158203125,1505.626220703125,1539.04736328125,1511.399658203125,1508.895263671875,1478.1605224609375,1481.27587890625,1459.14453125,1407.2899169921875,1450.0670166015625,1357.11767578125,1382.3455810546875,1286.6260986328125,1321.06396484375,1302.5169677734375,1277.1881103515625,1356.75244140625,1368.05224609375,1380.7572021484375,1375.8740234375,1371.289794921875,1359.4508056640625,1343.4241943359375,1353.947265625,1333.193603515625,1337.1702880859375,1328.2890625,1327.1346435546875,1338.6612548828125,1324.130126953125,1339.5101318359375,1323.603271484375,1321.268798828125,1341.92919921875,1326.5982666015625,1309.1207275390625,1316.75830078125,1318.774658203125,1330.9697265625,1365.830810546875,1381.1607666015625,1439.5428466796875,1396.66650390625,1344.8909912109375,1349.572021484375,1359.3731689453125,1343.4388427734375,1374.73974609375,1413.6063232421875,1401.6573486328125,1362.656005859375,1327.7705078125,1341.3548583984375,1355.2415771484375,1420.350341796875,1398.3316650390625,1439.3262939453125,1435.711669921875,1444.1324462890625,1481.6875,1532.4354248046875,1495.8924560546875,1496.78173828125,1507.6568603515625,1521.1197509765625,1549.88330078125,1542.2227783203125,1597.6627197265625,1636.84814453125,1602.2646484375,1570.2340087890625,1447.2103271484375,1471.0596923828125,1501.2166748046875,1532.944091796875,1507.835205078125,1508.9052734375,1500.547119140625,1502.1202392578125,1508.10986328125,1453.0980224609375,1475.6448974609375,1438.06982421875,1480.8258056640625,1499.7864990234375,1483.2708740234375,1491.1231689453125,1506.7774658203125,1478.774169921875,1491.5186767578125,1465.813232421875,1487.6072998046875,1467.5126953125,1499.8831787109375,1545.825927734375,1533.914306640625,1537.032470703125,1535.4344482421875,1555.4322509765625,1561.0225830078125,1553.8385009765625,1529.494384765625,1545.593994140625,1532.337646484375,1563.800537109375,1560.067138671875,1551.233154296875,1575.107177734375,1592.703857421875,1618.6488037109375,1622.0093994140625,1639.24755859375,1654.4368896484375,1631.0650634765625,1643.4522705078125,1634.6019287109375,1634.4381103515625,1644.257080078125,1631.06494140625,1629.7972412109375,1627.07373046875,1619.6551513671875,1639.3873291015625,1638.7598876953125,1633.65771484375,1633.7703857421875,1653.64990234375,1639.4119873046875,1661.7332763671875,1685.5225830078125,1629.3380126953125,1604.419189453125,1570.7135009765625,1598.1884765625,1575.532958984375,1571.30419921875,1610.946533203125,1613.4111328125,1623.10302734375,1611.4537353515625,1602.6097412109375,1553.4210205078125,1563.7957763671875,1519.903564453125,1523.0753173828125,1548.349365234375,1584.1319580078125,1579.8372802734375,1583.8179931640625,1604.7235107421875,1604.8800048828125,1640.7008056640625,1630.74462890625,1663.044189453125,1685.06884765625,1695.9273681640625,1715.1392822265625,1705.03125,1688.2523193359375,1699.9349365234375,1694.4627685546875,1666.7939453125,1668.6644287109375,1654.680419921875,1674.487548828125,1683.294189453125,1647.2142333984375,1636.0106201171875,1576.9007568359375,1590.5816650390625,1566.1527099609375,1597.8759765625,1642.36279296875,1668.7486572265625,1715.31591796875,1699.3016357421875,1742.5264892578125,1768.20751953125,1773.1229248046875,1751.73681640625,1788.560302734375,1829.1522216796875,1834.909423828125,1806.693603515625,1823.2265625,1821.374755859375,1849.9453125,1887.9742431640625,1877.555908203125,1891.966064453125,1857.8536376953125,1864.4451904296875,1866.6646728515625,1879.1441650390625,1914.842529296875,1916.2427978515625,1941.437744140625,1919.5372314453125,1939.3067626953125,1931.754638671875,1929.2427978515625,1970.8575439453125,1964.0816650390625,1986.82568359375,1975.3470458984375,1974.5416259765625,1979.0308837890625,1989.4471435546875,1989.429931640625,1988.2750244140625,1958.18310546875,1975.3563232421875,1977.3582763671875,1946.3585205078125,1970.60791015625,2025.2000732421875,2059.24755859375,2051.1044921875,2041.4886474609375,2070.3359375,2063.763427734375,2091.6962890625,2065.1767578125,2091.947509765625,2107.028076171875,2089.240966796875,2109.189208984375,2110.838623046875,2098.5693359375,2054.463623046875,2054.23486328125,2012.626953125,2060.822998046875,2084.34033203125,2088.36181640625,2125.830322265625,2147.942626953125,2195.32177734375,2201.323486328125,2191.3701171875,2192.118896484375,2190.912841796875,2166.585693359375,2155.0634765625,2128.647216796875,2153.474609375,2138.903564453125,2128.3037109375,2167.346435546875,2073.00341796875,2069.07861328125,2140.07080078125,2113.3662109375,2083.8505859375,2025.891845703125,2067.1103515625,2067.78369140625,2107.063232421875,2143.828857421875,2184.772705078125,2183.5244140625,2195.20458984375,2167.219482421875,2183.29296875,2119.367919921875,2127.460205078125,2123.323974609375,2055.09375,2029.7760009765625,2058.7294921875,2085.279296875,2045.4793701171875,2059.1455078125,2069.408447265625,2102.092529296875,2112.291748046875,2116.480712890625,2098.05029296875,2114.210693359375,2116.231689453125,2108.320068359375,2113.127197265625,2120.718505859375,2145.22900390625,2146.915771484375,2124.122314453125,2101.484375,2134.30078125,2124.055908203125,2150.4501953125,2164.326416015625,2160.498046875,2161.12060546875,2159.473876953125,2139.243408203125,2153.758544921875,2137.266357421875,2136.915771484375,2145.54150390625,2168.041015625,2134.306884765625,2122.20361328125,2072.71044921875,2098.84521484375,2131.54345703125,2130.24658203125,2118.870361328125,2104.553466796875,2121.387451171875,2124.802978515625,2137.321044921875,2132.037841796875,2148.833984375,2159.605712890625,2160.91748046875,2172.286376953125,2176.705078125,2160.44140625,2178.54443359375,2192.80859375,2211.40234375,2204.7021484375,2200.538818359375,2212.9208984375,2202.79833984375,2197.77685546875,2178.161376953125,2164.7841796875,2139.766845703125,2165.42529296875,2161.924560546875,2161.47705078125,2181.9228515625,2181.313720703125,2180.669921875,2174.265625,2181.019287109375,2189.84765625,2189.1552734375,2181.901611328125,2180.567138671875,2171.28564453125,2191.16845703125,2194.115966796875,2170.139892578125,2163.5263671875,2162.47900390625,2145.630615234375,2131.635498046875,2164.51025390625,2176.555908203125,2166.03662109375,2173.49072265625,2177.865234375,2169.0263671875,2175.968505859375,2183.225830078125,2177.4169921875,2178.55517578125,2186.735595703125,2168.614013671875,2183.1904296875,2182.483642578125,2172.885498046875,2173.147705078125,2180.3681640625,2177.22802734375,2176.661865234375,2178.3076171875,2159.865478515625,2143.056640625,2135.333251953125,2149.68408203125,2170.52099609375,2176.84765625,2176.9833984375,2162.743408203125,2197.44970703125,2197.7939453125,2199.1611328125,2203.983154296875,2215.289794921875,2207.5302734375,2192.02001953125,2184.07080078125,2183.57421875,2165.033447265625,2176.27197265625,2163.07763671875,2175.767578125,2170.16845703125,2165.31884765625,2133.85107421875,2134.30517578125,2142.306640625,2160.01171875,2152.202392578125,2161.945068359375,2124.232666015625,2124.331298828125,2108.060302734375,2139.004150390625,2120.765625,2127.45654296875,2125.0966796875,2140.710205078125,2130.385986328125,2116.354736328125,2122.934326171875,2127.81201171875,2155.862548828125,2152.6162109375,2151.4990234375,2156.84912109375,2166.294677734375,2163.896728515625,2164.755126953125,2178.578125,2174.154296875,2160.47216796875,2178.4853515625,2179.5830078125,2204.138671875,2213.301513671875,2230.646484375,2239.123291015625,2267.268798828125,2263.4326171875,2261.7412109375,2226.463623046875,2227.36474609375,2236.792724609375,2230.2509765625,2232.800537109375,2223.7197265625,2221.66845703125,2215.114990234375,2198.84228515625,2198.361572265625,2201.602783203125,2170.129150390625,2174.539306640625,2151.29443359375,2120.95166015625,2152.884765625,2141.856201171875,2159.633056640625,2186.966064453125,2193.745849609375,2175.032958984375,2178.393310546875,2165.422607421875,2150.653564453125,2171.55712890625,2160.0185546875,2159.2021484375,2133.959716796875,2162.160400390625,2169.071044921875,2178.34130859375,2195.271728515625,2191.501708984375,2188.92333984375,2189.0927734375,2186.8369140625,2188.350830078125,2187.60546875,2143.194580078125,2141.256591796875,2126.931884765625,2119.526123046875,2136.547119140625,2134.06689453125,2122.86279296875,2116.1640625,2083.454345703125,2074.19580078125,2061.998291015625,2050.947509765625,2058.192138671875,2046.53515625,2034.6478271484375,2027.120849609375,2043.7969970703125,2058.335205078125,2065.01806640625,2067.413818359375,2044.808349609375,2038.2039794921875,2037.993896484375,2045.981689453125,2062.6103515625,2035.1151123046875,2023.06396484375,2013.8895263671875,2031.4132080078125,2031.3536376953125,2011.9151611328125,2004.171142578125,1988.7310791015625,1971.244140625,1981.266845703125,2004.5889892578125,2013.092529296875,2004.1348876953125,2012.736328125,2007.3001708984375,2004.595703125,1972.095947265625,1961.479248046875,1981.1676025390625,1972.7655029296875,1958.1627197265625,1942.5228271484375,1955.2742919921875,1975.431884765625,1989.6995849609375,1998.1490478515625,1982.7039794921875,1988.087158203125,1974.0467529296875,1983.6595458984375,1974.81640625,1978.9029541015625,2001.7918701171875,1993.9595947265625,1981.534423828125,1981.671630859375,1985.01904296875,1959.25732421875,1947.3929443359375,1946.9097900390625,1940.9342041015625,1925.452392578125,1929.8885498046875,1946.0992431640625,1930.0050048828125,1923.6572265625,1937.0189208984375,1944.1795654296875,1920.3675537109375,1898.800048828125,1907.9710693359375,1887.638671875,1885.073974609375,1896.1253662109375,1870.083984375,1867.4317626953125,1869.2021484375,1891.113037109375,1858.406494140625,1848.469482421875,1835.7637939453125,1830.3985595703125,1831.3284912109375,1819.458984375,1820.729736328125,1819.339111328125,1828.656982421875,1798.4761962890625,1793.5677490234375,1793.53466796875,1803.226806640625,1800.3656005859375,1807.7537841796875,1818.032958984375,1835.89599609375,1820.51611328125,1809.7664794921875,1828.7344970703125,1814.22802734375,1812.39599609375,1828.1807861328125,1812.5367431640625,1791.484619140625,1767.2257080078125,1750.6158447265625,1746.585693359375,1745.195068359375,1743.8028564453125,1735.0123291015625,1738.77197265625,1736.103515625,1733.8380126953125,1747.731201171875,1742.7589111328125,1728.92626953125,1730.97802734375,1725.955322265625,1734.4180908203125,1737.61572265625,1731.0804443359375,1735.8699951171875,1731.050537109375,1726.8079833984375,1722.030517578125,1717.748291015625,1708.041259765625,1722.9664306640625,1716.291259765625,1733.7523193359375,1740.8607177734375,1754.754638671875,1749.1624755859375,1751.0859375,1742.6402587890625,1769.230712890625,1786.45947265625,1798.3721923828125,1797.8592529296875,1782.42333984375,1797.971435546875,1800.2392578125,1795.1363525390625,1803.117919921875,1791.1246337890625,1819.3121337890625,1816.7122802734375,1838.65185546875,1848.269287109375,1847.6217041015625,1830.98974609375,1835.9287109375,1812.7686767578125,1785.817626953125,1783.2816162109375,1786.284912109375,1805.3062744140625,1766.0494384765625,1753.87548828125,1740.4862060546875,1731.2491455078125,1728.4122314453125,1724.8074951171875,1716.5804443359375,1727.193359375,1730.4649658203125,1745.4527587890625,1755.2845458984375,1712.75390625,1713.414306640625,1706.69140625,1702.31640625,1706.1541748046875,1693.425537109375,1686.99755859375,1687.97314453125,1683.8780517578125,1677.4000244140625,1670.333984375,1669.50048828125,1664.9993896484375,1654.984375,1658.372802734375,1662.06103515625,1658.23583984375,1651.66748046875,1646.2391357421875,1643.110107421875,1640.506591796875,1638.75244140625,1643.0989990234375,1641.349365234375,1640.1494140625,1641.6026611328125,1642.6470947265625,1642.2708740234375,1647.182861328125,1651.313720703125,1651.7640380859375,1652.90625,1657.02783203125,1676.8394775390625,1671.2349853515625,1670.4952392578125,1655.6519775390625,1654.260986328125,1658.4964599609375,1663.9361572265625,1670.62060546875,1668.7674560546875,1708.2376708984375,1714.3712158203125,1703.7125244140625,1716.776123046875,1709.979248046875,1702.0517578125,1706.641845703125,1702.8773193359375,1718.639892578125,1724.61474609375,1728.546142578125,1708.4432373046875,1708.0281982421875,1740.4755859375,1744.4180908203125,1748.1553955078125,1719.7232666015625,1711.6290283203125,1714.3846435546875,1715.10986328125,1707.847412109375,1715.6068115234375,1726.2799072265625,1719.1728515625,1704.6102294921875,1699.8499755859375,1695.7772216796875,1693.9747314453125,1700.0780029296875,1694.1104736328125,1694.0953369140625,1694.06005859375,1690.53076171875,1688.2645263671875,1686.5421142578125,1687.0489501953125,1687.677978515625,1681.6585693359375,1696.8692626953125,1696.671142578125,1701.1885986328125,1715.6072998046875,1732.513427734375,1734.5579833984375,1727.95849609375,1716.6126708984375,1704.9676513671875,1717.59228515625,1727.560791015625,1729.4644775390625,1731.5582275390625,1738.5128173828125,1739.9901123046875,1724.338134765625,1746.7476806640625,1764.5357666015625,1779.97607421875,1764.2352294921875,1749.009765625,1758.2620849609375,1746.5748291015625,1731.631103515625,1733.171875,1747.7906494140625,1742.775146484375,1748.15869140625,1733.5,1736.573974609375,1707.534912109375,1707.879150390625,1712.0081787109375,1704.3446044921875,1707.1856689453125,1704.33544921875,1701.6923828125,1705.6834716796875,1717.974365234375,1716.635498046875,1706.6591796875,1705.8629150390625,1695.435302734375,1694.3260498046875,1696.2860107421875,1697.5994873046875,1694.6162109375,1699.4951171875,1697.1072998046875,1700.7982177734375,1705.34423828125,1694.130615234375,1698.7684326171875,1704.0186767578125,1701.8599853515625,1697.7747802734375,1702.8759765625,1704.1961669921875,1712.6475830078125,1718.718017578125,1717.0784912109375,1717.49169921875,1716.5947265625,1713.0484619140625,1713.0401611328125,1711.8585205078125,1718.1939697265625,1710.821533203125,1711.201904296875,1709.8624267578125,1707.30859375,1704.6556396484375,1703.7398681640625,1706.287353515625,1701.478759765625,1695.4967041015625,1701.065673828125,1707.507568359375,1703.5638427734375,1700.19287109375,1696.460693359375,1693.311767578125,1699.6629638671875,1696.1417236328125,1694.187255859375,1696.995361328125,1693.3309326171875,1689.578369140625,1689.3924560546875,1681.3558349609375,1688.6328125,1690.8355712890625,1683.5531005859375,1686.285400390625,1678.978271484375,1669.9244384765625,1665.765380859375,1670.48193359375,1672.468017578125,1670.3800048828125,1677.551513671875,1699.931640625,1691.008544921875,1703.8670654296875,1709.275634765625,1714.2601318359375,1708.4715576171875,1715.4447021484375,1720.3992919921875,1712.9439697265625,1729.784423828125,1724.598388671875,1719.66162109375,1714.059814453125,1712.6973876953125,1702.81201171875,1702.550048828125,1712.302978515625,1716.399658203125,1719.0335693359375,1728.7791748046875,1728.9674072265625,1716.5567626953125,1697.08984375,1699.6368408203125,1713.666748046875,1725.099853515625,1740.7506103515625,1753.9605712890625,1746.5736083984375,1755.131591796875,1768.6072998046875,1774.8372802734375,1764.442138671875,1763.514892578125,1767.443359375,1765.8797607421875,1774.2886962890625,1755.252197265625,1769.487548828125,1777.4825439453125,1771.800048828125,1756.1759033203125,1749.359375,1751.58349609375,1759.8359375,1756.1025390625,1747.5419921875,1742.5723876953125,1739.7880859375,1739.7545166015625,1726.863525390625,1722.5081787109375,1716.3218994140625,1718.307373046875,1716.4447021484375,1713.3599853515625,1720.7933349609375,1711.824462890625,1715.028076171875,1719.473876953125,1729.658447265625,1733.1258544921875,1731.01806640625,1735.052734375,1721.852783203125,1716.9520263671875,1717.6763916015625,1717.98974609375,1719.057861328125,1717.8050537109375,1716.709228515625,1720.99658203125,1716.9781494140625,1717.028076171875,1712.9525146484375,1711.0869140625,1698.594970703125,1696.6842041015625,1694.675048828125,1690.3697509765625,1684.7369384765625,1683.65283203125,1682.1502685546875,1683.8623046875,1679.5872802734375,1680.5462646484375,1678.5484619140625,1679.5498046875,1680.975830078125,1678.8848876953125,1679.3804931640625,1680.512451171875,1681.5849609375,1679.802978515625,1674.662109375,1673.2493896484375,1671.037109375,1668.201171875,1666.0672607421875,1664.9571533203125,1664.506591796875,1657.160400390625,1652.5733642578125,1656.4962158203125,1654.1474609375,1655.6455078125,1657.027099609375,1656.883544921875,1656.30322265625,1657.7816162109375,1659.435791015625,1657.900146484375,1660.18896484375,1659.8251953125,1676.895751953125,1675.78076171875,1672.8406982421875,1678.069580078125,1685.6566162109375,1678.8326416015625],\"type\":\"scatter\"},{\"marker\":{\"color\":\"#1d5dec\",\"opacity\":0.9},\"mode\":\"lines\",\"name\":\"^RUT\",\"y\":[1391.8599853515625,1399.5899658203125,1390.199951171875,1382.77001953125,1393.9200439453125,1394.6800537109375,1355.8900146484375,1361.0799560546875,1367.3299560546875,1377.1400146484375,1380.97998046875,1382.510009765625,1383.3900146484375,1382.239990234375,1371.18994140625,1370.2099609375,1396.06005859375,1405.3900146484375,1396.449951171875,1394.9000244140625,1396.6700439453125,1415.6099853515625,1421.7099609375,1419.2099609375,1425.989990234375,1417.5699462890625,1410.0799560546875,1406.72998046875,1418.0799560546875,1402.969970703125,1399.25,1404.5400390625,1414.780029296875,1416.6400146484375,1403.52001953125,1425.27001953125,1416.199951171875,1415.3599853515625,1426.6800537109375,1420.1500244140625,1400.81005859375,1415.8399658203125,1408.469970703125,1413.050048828125,1424.3199462890625,1425.6600341796875,1428.8199462890625,1431.5999755859375,1427.6099853515625,1441.77001953125,1442.3499755859375,1435.8399658203125,1438.050048828125,1450.3900146484375,1442.280029296875,1433.6199951171875,1429.260009765625,1425.1400146484375,1428.329833984375,1412.9000244140625,1405.22998046875,1412.3199462890625,1414.1700439453125,1410.1500244140625,1396.949951171875,1372.5400390625,1374.22998046875,1394.31005859375,1383.239990234375,1383.530029296875,1358.93994140625,1357.7900390625,1356.9000244140625,1371.5400390625,1369.7398681640625,1373.8800048828125,1377.449951171875,1382.22998046875,1383.6800537109375,1391.3199462890625,1405.280029296875,1413.5699462890625,1399.6600341796875,1402.199951171875,1398.6700439453125,1399.4300537109375,1414.8299560546875,1423.4599609375,1426.8900146484375,1425.02001953125,1431.7099609375,1441.0799560546875,1440.4000244140625,1445.4200439453125,1444.1800537109375,1450.780029296875,1451.9599609375,1456.8599853515625,1484.81005859375,1488.7900390625,1490.8599853515625,1509.469970703125,1511.969970703125,1507.760009765625,1512.0899658203125,1510.219970703125,1503.56005859375,1508.010009765625,1506.9200439453125,1505.1600341796875,1502.6600341796875,1502.6800537109375,1497.5,1505.1400146484375,1502.0400390625,1509.25,1497.489990234375,1500.4200439453125,1493.47998046875,1497.4599609375,1508.3199462890625,1490.9000244140625,1502.530029296875,1492.780029296875,1496.550048828125,1494.9100341796875,1497.9599609375,1479.0899658203125,1481.72998046875,1475.02001953125,1475.27001953125,1475.0699462890625,1471.260009765625,1464.0899658203125,1486.8800048828125,1492.8199462890625,1503.4000244140625,1518.8900146484375,1516.7598876953125,1519.1600341796875,1513.3099365234375,1536.4300537109375,1542.300048828125,1544.1400146484375,1537.02001953125,1532.4100341796875,1516.7598876953125,1508.8800048828125,1520.469970703125,1521.719970703125,1519.8399658203125,1516.1199951171875,1524.449951171875,1506.949951171875,1530.4200439453125,1548.919921875,1536.75,1540.0799560546875,1547.1099853515625,1542.9300537109375,1544.22998046875,1543.93994140625,1548.9300537109375,1535.510009765625,1550.010009765625,1552.5799560546875,1555.719970703125,1560.010009765625,1561.81005859375,1560.0999755859375,1559.800048828125,1586.7900390625,1591.969970703125,1572.969970703125,1586.6600341796875,1576.72998046875,1597.6300048828125,1605.1700439453125,1610.7099609375,1601.77001953125,1601.6700439453125,1608.06005859375,1598.1099853515625,1582.8199462890625,1574.97998046875,1579.8699951171875,1547.27001953125,1491.0899658203125,1507.1700439453125,1507.969970703125,1463.7900390625,1477.8399658203125,1490.97998046875,1494.9498291015625,1522.0999755859375,1537.199951171875,1543.550048828125,1529.989990234375,1531.8399658203125,1529.989990234375,1549.18994140625,1559.3299560546875,1536.469970703125,1512.449951171875,1507.3900146484375,1533.1700439453125,1546.050048828125,1562.199951171875,1574.530029296875,1571.969970703125,1597.1400146484375,1601.06005859375,1592.050048828125,1584.31005859375,1576.6199951171875,1586.050048828125,1570.56005859375,1570.4100341796875,1579.300048828125,1543.8699951171875,1510.0799560546875,1543.719970703125,1513.5699462890625,1513.030029296875,1529.4300537109375,1492.530029296875,1512.150146484375,1531.6600341796875,1542.9300537109375,1513.3001708984375,1514.4600830078125,1543.4300537109375,1546.800048828125,1557.3299560546875,1549.510009765625,1563.030029296875,1579.800048828125,1583.56005859375,1573.8199462890625,1564.1199951171875,1562.1199951171875,1553.280029296875,1550.469970703125,1557.8900146484375,1556.239990234375,1541.8800048828125,1550.3299560546875,1554.9100341796875,1546.56005859375,1565.5999755859375,1578.949951171875,1586.3900146484375,1596.050048828125,1603.7099609375,1606.7900390625,1600.3399658203125,1600.3399658203125,1616.3699951171875,1625.2900390625,1626.6300048828125,1637.43994140625,1625.239990234375,1627.6099853515625,1628.219970703125,1626.9300537109375,1623.6500244140625,1647.989990234375,1633.6099853515625,1647.97998046875,1653.3699951171875,1664.6300048828125,1675.949951171875,1667.77001953125,1672.489990234375,1674.6800537109375,1682.300048828125,1676.5400390625,1684.719970703125,1683.9100341796875,1692.4599609375,1693.449951171875,1706.989990234375,1688.949951171875,1685.5799560546875,1657.510009765625,1668.530029296875,1640.449951171875,1645.02001953125,1643.0699462890625,1655.0899658203125,1660.4200439453125,1679.47998046875,1694.050048828125,1704.5999755859375,1695.6199951171875,1683.6600341796875,1690.280029296875,1687.0799560546875,1678.5400390625,1687.260009765625,1691.8699951171875,1701.31005859375,1696.81005859375,1698.4100341796875,1680.199951171875,1685.199951171875,1695.3599853515625,1663.3399658203125,1653.1300048828125,1670.800048828125,1669.260009765625,1682.0999755859375,1673.3699951171875,1684.31005859375,1688.300048828125,1686.8800048828125,1690.8900146484375,1686.800048828125,1675.3199462890625,1692.5799560546875,1670.669921875,1685.75,1692.949951171875,1698.68994140625,1718.050048828125,1722.5400390625,1717.050048828125,1725.6700439453125,1728.4100341796875,1728.4200439453125,1734.75,1732.3499755859375,1740.7498779296875,1733.3800048828125,1727.6500244140625,1714.469970703125,1713.1800537109375,1717.469970703125,1718.4000244140625,1715.699951171875,1714.3199462890625,1721.719970703125,1703.550048828125,1710.969970703125,1702.9300537109375,1720.1800537109375,1712.3199462890625,1705.3199462890625,1708.81005859375,1691.6099853515625,1690.530029296875,1696.5699462890625,1672.989990234375,1656.0400390625,1671.2900390625,1646.9100341796875,1632.1099853515625,1629.52001953125,1621.8699951171875,1575.4100341796875,1545.3800048828125,1546.6800537109375,1553.0899658203125,1596.8399658203125,1589.5999755859375,1560.75,1542.0400390625,1539.5,1526.5899658203125,1468.699951171875,1500.4000244140625,1483.8199462890625,1477.31005859375,1506.6400146484375,1511.4100341796875,1544.97998046875,1547.97998046875,1547.510009765625,1556.0999755859375,1582.1600341796875,1578.2099609375,1549.489990234375,1518.7900390625,1514.800048828125,1502.510009765625,1524.1199951171875,1527.530029296875,1496.5400390625,1469.010009765625,1488.280029296875,1488.6800537109375,1505.9599609375,1492.8599853515625,1530.3800048828125,1525.3900146484375,1533.27001953125,1548.9599609375,1480.75,1477.4100341796875,1448.0899658203125,1443.0999755859375,1440.1300048828125,1455.3199462890625,1432.699951171875,1410.81005859375,1378.1400146484375,1377.1800537109375,1349.22998046875,1326.0,1292.0899658203125,1266.9200439453125,1329.81005859375,1331.8199462890625,1337.9200439453125,1348.56005859375,1355.9100341796875,1330.8299560546875,1380.75,1405.3699951171875,1426.550048828125,1438.81005859375,1445.4300537109375,1447.3800048828125,1432.81005859375,1445.219970703125,1454.699951171875,1467.25,1482.5,1457.449951171875,1454.260009765625,1464.4100341796875,1482.8499755859375,1473.5400390625,1471.449951171875,1486.93994140625,1499.4200439453125,1502.050048828125,1517.5400390625,1520.22998046875,1518.02001953125,1505.6300048828125,1506.3900146484375,1518.97998046875,1538.22998046875,1542.93994140625,1545.1099853515625,1569.25,1574.469970703125,1581.6600341796875,1575.550048828125,1590.06005859375,1588.81005859375,1577.47998046875,1581.050048828125,1575.550048828125,1589.6400146484375,1575.43994140625,1568.280029296875,1536.8199462890625,1523.6300048828125,1521.8800048828125,1548.8800048828125,1549.8299560546875,1555.8800048828125,1549.6400146484375,1553.5400390625,1563.9300537109375,1554.989990234375,1543.16015625,1562.4100341796875,1505.9200439453125,1512.8599853515625,1528.1700439453125,1522.22998046875,1535.0999755859375,1539.7398681640625,1556.06005859375,1553.3199462890625,1560.9100341796875,1567.489990234375,1582.56005859375,1579.0,1559.6800537109375,1581.550048828125,1579.1400146484375,1584.800048828125,1579.1700439453125,1582.7900390625,1567.5999755859375,1565.75,1560.0400390625,1585.0899658203125,1588.1300048828125,1575.6099853515625,1589.9000244140625,1598.3599853515625,1591.2099609375,1576.3800048828125,1582.6500244140625,1614.02001953125,1614.97998046875,1582.31005859375,1574.969970703125,1570.06005859375,1572.989990234375,1523.0,1543.06005859375,1548.27001953125,1557.239990234375,1535.760009765625,1524.9599609375,1545.25,1531.6300048828125,1501.3800048828125,1514.1099853515625,1504.02001953125,1489.949951171875,1485.530029296875,1465.489990234375,1469.97998046875,1508.56005859375,1506.7900390625,1499.2900390625,1514.3900146484375,1523.56005859375,1519.1099853515625,1519.7900390625,1535.800048828125,1522.5001220703125,1532.75,1550.22998046875,1555.5799560546875,1563.489990234375,1549.6300048828125,1530.0799560546875,1521.0400390625,1521.8900146484375,1546.550048828125,1566.5699462890625,1566.5699462890625,1560.5400390625,1572.1199951171875,1575.6199951171875,1561.3900146484375,1562.5899658203125,1565.050048828125,1557.9200439453125,1570.0,1561.8199462890625,1562.0,1550.780029296875,1555.6199951171875,1547.9000244140625,1544.780029296875,1554.9599609375,1580.4200439453125,1561.449951171875,1578.969970703125,1569.030029296875,1585.5999755859375,1574.6099853515625,1550.760009765625,1533.6600341796875,1487.4100341796875,1502.0899658203125,1500.6900634765625,1532.1300048828125,1513.0400390625,1495.9000244140625,1510.5799560546875,1467.52001953125,1461.6500244140625,1493.6400146484375,1508.8499755859375,1498.010009765625,1509.8499755859375,1506.0,1459.489990234375,1476.0,1456.0400390625,1472.7099609375,1496.719970703125,1494.8399658203125,1472.280029296875,1484.760009765625,1510.75,1505.1700439453125,1524.22998046875,1541.6099853515625,1575.7099609375,1575.0699462890625,1578.1400146484375,1584.5999755859375,1578.2900390625,1568.3399658203125,1561.469970703125,1559.760009765625,1558.25,1533.5899658203125,1550.6500244140625,1533.3299560546875,1520.47998046875,1523.3699951171875,1493.4300537109375,1479.6300048828125,1486.3499755859375,1500.6998291015625,1497.7900390625,1472.5999755859375,1479.4599609375,1485.3599853515625,1511.9000244140625,1505.4300537109375,1523.300048828125,1525.06005859375,1541.8399658203125,1535.47998046875,1552.4100341796875,1550.8699951171875,1552.8599853515625,1548.489990234375,1558.7099609375,1571.9300537109375,1577.0699462890625,1572.8499755859375,1562.449951171875,1589.3299560546875,1597.4000244140625,1599.6099853515625,1589.5400390625,1593.989990234375,1598.8599853515625,1594.77001953125,1595.1199951171875,1589.1800537109375,1588.7900390625,1596.449951171875,1592.3399658203125,1598.2901611328125,1591.6099853515625,1583.9599609375,1588.93994140625,1621.9000244140625,1624.22998046875,1634.0999755859375,1624.5,1607.5799560546875,1602.6300048828125,1613.9000244140625,1614.8299560546875,1633.8399658203125,1629.6199951171875,1631.7099609375,1631.9300537109375,1644.81005859375,1637.97998046875,1649.93994140625,1657.56005859375,1661.72998046875,1667.0899658203125,1671.9000244140625,1674.1400146484375,1678.010009765625,1677.6700439453125,1669.030029296875,1664.1500244140625,1668.469970703125,1666.77001953125,1660.8699951171875,1663.260009765625,1658.31005859375,1663.5899658203125,1664.989990234375,1657.6400146484375,1669.6099853515625,1675.739990234375,1682.4000244140625,1705.219970703125,1699.6400146484375,1685.9000244140625,1684.4600830078125,1685.010009765625,1662.22998046875,1644.1400146484375,1658.31005859375,1649.219970703125,1648.219970703125,1614.06005859375,1632.2099609375,1656.77001953125,1681.9200439453125,1677.4599609375,1656.780029296875,1667.6700439453125,1677.510009765625,1689.3800048828125,1693.739990234375,1687.5799560546875,1683.52001953125,1692.5699462890625,1696.0699462890625,1678.6099853515625,1628.0999755859375,1571.89990234375,1552.760009765625,1497.8699951171875,1476.4300537109375,1518.489990234375,1486.0799560546875,1531.199951171875,1478.8199462890625,1449.219970703125,1313.43994140625,1350.9000244140625,1264.300048828125,1122.9300537109375,1210.1300048828125,1037.4200439453125,1106.510009765625,991.159912109375,1058.75,1013.8899536132812,1002.3999633789062,1096.5400390625,1110.3699951171875,1180.3199462890625,1131.989990234375,1158.3199462890625,1153.0999755859375,1071.989990234375,1085.81005859375,1052.050048828125,1138.780029296875,1139.1700439453125,1191.6600341796875,1246.72998046875,1212.0400390625,1237.3299560546875,1183.97998046875,1178.0899658203125,1229.0999755859375,1213.3499755859375,1185.0899658203125,1201.52001953125,1214.06005859375,1233.0499267578125,1281.8800048828125,1298.0799560546875,1360.760009765625,1310.6600341796875,1260.47998046875,1263.969970703125,1273.510009765625,1263.010009765625,1282.9300537109375,1329.6400146484375,1321.239990234375,1275.5401611328125,1233.25,1237.550048828125,1256.989990234375,1333.68994140625,1307.7198486328125,1346.9300537109375,1347.56005859375,1355.530029296875,1393.0699462890625,1436.360107421875,1400.6700439453125,1394.0400390625,1405.3699951171875,1418.2099609375,1452.0899658203125,1452.06005859375,1507.1500244140625,1536.8900146484375,1507.050048828125,1467.3900146484375,1356.219970703125,1387.6800537109375,1419.6099853515625,1452.260009765625,1426.530029296875,1427.3299560546875,1418.6300048828125,1433.530029296875,1439.3399658203125,1389.739990234375,1413.31005859375,1378.780029296875,1421.2099609375,1441.3699951171875,1427.31005859375,1431.8599853515625,1442.8800048828125,1416.0,1427.4000244140625,1398.9200439453125,1422.6800537109375,1403.5699462890625,1428.260009765625,1478.27001953125,1467.56005859375,1473.3199462890625,1467.949951171875,1487.510009765625,1490.1400146484375,1490.199951171875,1467.550048828125,1484.6500244140625,1469.760009765625,1500.6300048828125,1495.0999755859375,1480.4300537109375,1506.800048828125,1517.2099609375,1546.239990234375,1544.6199951171875,1569.1800537109375,1584.6700439453125,1575.0999755859375,1583.25,1579.7900390625,1577.8800048828125,1585.469970703125,1569.77001953125,1572.0699462890625,1564.300048828125,1552.47998046875,1568.469970703125,1571.2099609375,1560.18994140625,1564.56005859375,1578.3399658203125,1561.8800048828125,1578.5799560546875,1592.2900390625,1544.6800537109375,1535.300048828125,1504.5899658203125,1526.47998046875,1507.75,1497.27001953125,1536.969970703125,1538.1500244140625,1552.3299560546875,1542.5999755859375,1536.780029296875,1485.25,1496.9599609375,1451.4599609375,1451.8199462890625,1474.9100341796875,1510.3399658203125,1504.72998046875,1507.68994140625,1531.199951171875,1539.300048828125,1581.9599609375,1577.2900390625,1611.0400390625,1628.550048828125,1637.550048828125,1649.050048828125,1636.8499755859375,1621.6500244140625,1638.8800048828125,1633.81005859375,1613.6300048828125,1617.7099609375,1603.780029296875,1630.25,1640.5,1605.2100830078125,1590.7099609375,1543.280029296875,1561.579833984375,1538.47998046875,1568.5899658203125,1614.300048828125,1615.0799560546875,1660.050048828125,1648.260009765625,1705.0400390625,1737.010009765625,1736.93994140625,1708.469970703125,1744.0400390625,1785.3399658203125,1791.9100341796875,1769.3199462890625,1784.1300048828125,1785.3399658203125,1818.300048828125,1853.530029296875,1845.02001953125,1855.27001953125,1819.8199462890625,1836.050048828125,1838.030029296875,1848.699951171875,1892.449951171875,1891.25,1917.780029296875,1902.1500244140625,1922.699951171875,1911.699951171875,1913.8599853515625,1959.760009765625,1952.719970703125,1978.050048828125,1969.989990234375,1970.3299560546875,1989.8800048828125,2007.0999755859375,2003.949951171875,1996.25,1959.3599853515625,1979.989990234375,1974.8599853515625,1945.9100341796875,1979.1099853515625,2057.919921875,2096.889892578125,2091.659912109375,2091.010009765625,2127.9599609375,2111.969970703125,2155.35009765625,2123.199951171875,2151.139892578125,2160.6201171875,2141.419921875,2168.760009765625,2163.27001953125,2149.860107421875,2108.699951171875,2106.610107421875,2073.639892578125,2126.159912109375,2151.43994140625,2159.699951171875,2202.419921875,2233.330078125,2289.760009765625,2299.0,2282.43994140625,2285.320068359375,2289.360107421875,2272.889892578125,2256.110107421875,2218.389892578125,2266.68994140625,2251.070068359375,2231.31005859375,2284.3798828125,2200.169921875,2201.050048828125,2275.320068359375,2231.510009765625,2207.7900390625,2146.919921875,2192.2099609375,2202.97998046875,2245.06005859375,2285.679931640625,2338.5400390625,2352.7900390625,2360.169921875,2319.52001953125,2336.389892578125,2267.590087890625,2287.550048828125,2266.840087890625,2185.68994140625,2134.27001953125,2183.1201171875,2221.47998046875,2158.679931640625,2195.800048828125,2220.52001953125,2253.89990234375,2264.889892578125,2259.14990234375,2223.050048828125,2242.60009765625,2243.469970703125,2233.780029296875,2228.919921875,2247.719970703125,2257.070068359375,2262.669921875,2232.0,2188.2099609375,2239.6298828125,2232.610107421875,2271.860107421875,2298.010009765625,2301.27001953125,2304.159912109375,2295.4599609375,2266.449951171875,2277.449951171875,2248.2900390625,2241.3701171875,2241.419921875,2271.6298828125,2212.699951171875,2206.989990234375,2135.139892578125,2170.949951171875,2224.6298828125,2227.1201171875,2210.8798828125,2193.639892578125,2207.760009765625,2215.27001953125,2227.340087890625,2205.75,2249.27001953125,2273.070068359375,2268.969970703125,2294.739990234375,2297.830078125,2279.25,2286.409912109375,2319.179931640625,2343.760009765625,2327.1298828125,2311.409912109375,2335.81005859375,2326.14990234375,2320.070068359375,2314.68994140625,2287.4599609375,2237.75,2286.090087890625,2295.949951171875,2303.469970703125,2333.6201171875,2334.39990234375,2322.340087890625,2308.840087890625,2310.550048828125,2329.360107421875,2305.760009765625,2274.5,2252.85009765625,2231.679931640625,2280.000244140625,2281.820068359375,2238.860107421875,2202.360107421875,2190.2900390625,2163.239990234375,2130.679931640625,2194.300048828125,2234.0400390625,2199.47998046875,2209.64990234375,2216.919921875,2191.830078125,2224.9599609375,2240.030029296875,2226.25,2215.5,2223.580078125,2196.320068359375,2236.010009765625,2247.760009765625,2234.81005859375,2239.360107421875,2250.340087890625,2244.070068359375,2223.110107421875,2209.47998046875,2177.169921875,2158.780029296875,2132.419921875,2167.60009765625,2208.300048828125,2230.909912109375,2239.27001953125,2213.97998046875,2277.14990234375,2265.989990234375,2273.77001953125,2287.06005859375,2304.02001953125,2292.050048828125,2275.610107421875,2249.72998046875,2249.1298828125,2227.550048828125,2240.780029296875,2209.97998046875,2234.449951171875,2232.909912109375,2236.8701171875,2182.199951171875,2186.179931640625,2218.56005859375,2259.0400390625,2248.070068359375,2281.0,2229.780029296875,2225.31005859375,2204.3701171875,2241.6298828125,2217.469970703125,2228.360107421875,2214.9599609375,2250.090087890625,2233.090087890625,2220.639892578125,2234.27001953125,2241.969970703125,2274.179931640625,2265.64990234375,2267.840087890625,2275.909912109375,2289.77001953125,2296.179931640625,2291.27001953125,2312.639892578125,2296.080322265625,2252.489990234375,2297.97998046875,2297.18994140625,2358.119873046875,2361.860107421875,2404.280029296875,2402.429931640625,2437.080078125,2442.739990234375,2427.2900390625,2389.580078125,2409.139892578125,2411.780029296875,2400.929931640625,2405.02001953125,2377.010009765625,2363.590087890625,2343.159912109375,2331.35009765625,2327.860107421875,2331.4599609375,2245.93994140625,2241.97998046875,2198.909912109375,2147.419921875,2206.330078125,2159.31005859375,2203.47998046875,2253.7900390625,2271.7099609375,2220.2099609375,2211.81005859375,2180.5,2159.64990234375,2195.2099609375,2152.4599609375,2173.929931640625,2139.869873046875,2202.949951171875,2221.89990234375,2241.580078125,2261.4599609375,2246.510009765625,2249.239990234375,2248.7900390625,2245.31005859375,2272.56005859375,2268.8701171875,2194.0,2206.3701171875,2179.81005859375,2171.14990234375,2194.0,2176.06005859375,2159.43994140625,2162.4599609375,2096.22998046875,2062.780029296875,2024.0400390625,1987.9200439453125,2033.510009765625,2004.030029296875,1976.4599609375,1931.2900390625,1968.510009765625,2028.449951171875,2050.739990234375,2029.52001953125,1991.030029296875,2002.3599853515625,2012.5999755859375,2045.3699951171875,2083.5,2051.159912109375,2030.1500244140625,2020.7900390625,2076.4599609375,2079.31005859375,2028.0899658203125,2009.3299560546875,1980.1700439453125,1944.0899658203125,1996.010009765625,2040.9300537109375,2048.090087890625,2008.510009765625,2058.8701171875,2032.4100341796875,2000.9000244140625,1951.3299560546875,1963.010009765625,2016.2900390625,2011.6700439453125,1979.6700439453125,1941.719970703125,1968.969970703125,2030.719970703125,2065.02001953125,2086.139892578125,2065.93994140625,2088.340087890625,2052.2099609375,2075.43994140625,2077.97998046875,2078.06005859375,2133.10009765625,2091.070068359375,2070.1298828125,2091.110107421875,2095.43994140625,2046.0400390625,2016.93994140625,2009.800048828125,1994.56005859375,1980.3199462890625,1986.93994140625,2025.0999755859375,2004.97998046875,1990.1300048828125,2030.77001953125,2038.18994140625,1991.4599609375,1940.6600341796875,1954.199951171875,1890.469970703125,1884.0400390625,1917.93994140625,1864.0999755859375,1882.9100341796875,1898.8599853515625,1949.9200439453125,1871.1500244140625,1839.56005859375,1762.0799560546875,1761.7900390625,1718.1400146484375,1739.3800048828125,1792.6700439453125,1783.4300537109375,1840.300048828125,1774.8499755859375,1776.219970703125,1773.27001953125,1792.760009765625,1764.8299560546875,1799.1600341796875,1838.239990234375,1887.9000244140625,1864.0400390625,1854.8199462890625,1897.6700439453125,1883.050048828125,1889.8900146484375,1919.56005859375,1891.010009765625,1850.8599853515625,1800.280029296875,1714.5899658203125,1707.8299560546875,1731.1400146484375,1649.8399658203125,1665.68994140625,1694.030029296875,1690.280029296875,1711.6700439453125,1765.739990234375,1771.739990234375,1738.8399658203125,1719.3699951171875,1707.989990234375,1727.760009765625,1741.3299560546875,1727.550048828125,1769.5999755859375,1769.3599853515625,1732.010009765625,1728.1800537109375,1726.0400390625,1707.510009765625,1744.3699951171875,1738.4200439453125,1799.3199462890625,1827.949951171875,1836.68994140625,1806.8800048828125,1817.77001953125,1805.25,1848.3399658203125,1873.030029296875,1885.22998046875,1883.31005859375,1882.449951171875,1908.9300537109375,1906.4599609375,1921.8199462890625,1941.2099609375,1912.8900146484375,1969.25,1975.260009765625,2016.6199951171875,2021.3499755859375,2020.530029296875,1987.31005859375,2000.72998046875,1957.3499755859375,1915.739990234375,1919.1400146484375,1935.2900390625,1964.6400146484375,1899.8299560546875,1882.93994140625,1855.5899658203125,1844.1201171875,1822.8199462890625,1809.75,1792.3199462890625,1832.0,1846.9100341796875,1882.8499755859375,1906.0899658203125,1831.5699462890625,1838.4599609375,1825.22998046875,1798.1898193359375,1812.8399658203125,1787.5,1762.1600341796875,1722.31005859375,1679.5899658203125,1655.8800048828125,1662.510009765625,1715.239990234375,1674.9300537109375,1664.719970703125,1708.8699951171875,1775.77001953125,1762.68994140625,1752.510009765625,1702.1500244140625,1691.9200439453125,1692.9200439453125,1687.760009765625,1728.4100341796875,1682.4000244140625,1735.75,1755.9599609375,1725.760009765625,1704.3900146484375,1742.239990234375,1748.4000244140625,1796.1600341796875,1804.3299560546875,1806.3199462890625,1846.9200439453125,1846.8599853515625,1851.3900146484375,1789.1400146484375,1779.72998046875,1799.8699951171875,1809.81005859375,1808.9300537109375,1760.4000244140625,1867.9300537109375,1882.739990234375,1861.25,1889.199951171875,1853.1700439453125,1839.1199951171875,1849.72998046875,1839.1400146484375,1860.43994140625,1863.52001953125,1869.18994140625,1830.9599609375,1836.550048828125,1886.5799560546875,1881.6800537109375,1892.8399658203125,1840.219970703125,1812.5799560546875,1806.9000244140625,1818.2900390625,1796.6600341796875,1818.6099853515625,1832.3599853515625,1820.449951171875,1774.6099853515625,1763.4200439453125,1738.5799560546875,1748.02001953125,1776.93994140625,1754.0899658203125,1760.9300537109375,1749.52001953125,1722.02001953125,1766.25,1761.25,1750.72998046875,1772.5400390625,1753.18994140625,1792.800048828125,1795.9100341796875,1822.6500244140625,1844.050048828125,1876.06005859375,1887.030029296875,1884.2900390625,1854.3599853515625,1836.3499755859375,1867.3399658203125,1890.77001953125,1885.6099853515625,1890.3199462890625,1903.06005859375,1911.4599609375,1885.719970703125,1931.93994140625,1960.81005859375,2001.219970703125,1985.530029296875,1957.719970703125,1972.6099853515625,1942.5999755859375,1915.340087890625,1918.81005859375,1941.1400146484375,1939.9100341796875,1960.969970703125,1942.2099609375,1946.35986328125,1888.2099609375,1894.6800537109375,1908.0899658203125,1890.489990234375,1896.27001953125,1896.989990234375,1898.4300537109375,1902.6600341796875,1928.260009765625,1899.760009765625,1878.719970703125,1879.47998046875,1826.5899658203125,1772.699951171875,1744.300048828125,1776.8900146484375,1745.93994140625,1771.239990234375,1725.8900146484375,1744.989990234375,1777.739990234375,1727.3599853515625,1720.2900390625,1734.9200439453125,1753.6700439453125,1752.6300048828125,1771.5999755859375,1768.3800048828125,1802.47998046875,1802.31005859375,1769.6500244140625,1752.1300048828125,1754.4599609375,1772.43994140625,1786.5899658203125,1773.699951171875,1796.6800537109375,1781.1500244140625,1802.8399658203125,1795.550048828125,1799.43994140625,1789.699951171875,1791.510009765625,1788.8699951171875,1745.949951171875,1730.409912109375,1751.219970703125,1768.989990234375,1769.2099609375,1732.1099853515625,1739.280029296875,1718.81005859375,1759.8800048828125,1754.469970703125,1749.6800537109375,1759.510009765625,1744.7099609375,1740.8499755859375,1761.550048828125,1736.1800537109375,1774.5,1784.8599853515625,1773.719970703125,1795.3800048828125,1787.7099609375,1767.0,1754.5999755859375,1773.02001953125,1767.2900390625,1749.6500244140625,1767.93994140625,1830.9100341796875,1806.7099609375,1855.4000244140625,1888.449951171875,1880.780029296875,1865.7099609375,1873.2099609375,1896.3299560546875,1874.0999755859375,1889.280029296875,1875.469970703125,1866.699951171875,1863.010009765625,1848.1800537109375,1821.6300048828125,1823.260009765625,1849.9300537109375,1858.7099609375,1881.5899658203125,1888.72998046875,1896.780029296875,1872.9100341796875,1842.22998046875,1864.6600341796875,1895.25,1913.3599853515625,1933.3800048828125,1950.8900146484375,1931.0899658203125,1951.27001953125,1976.0699462890625,1984.8900146484375,1967.1600341796875,1960.260009765625,1965.6800537109375,1966.1099853515625,1980.3599853515625,1954.9000244140625,1981.5400390625,2003.1800537109375,1994.1700439453125,1966.8299560546875,1961.4000244140625,1957.4599609375,1958.93994140625,1947.4200439453125,1930.77001953125,1922.6199951171875,1925.1099853515625,1920.489990234375,1895.75,1871.52001953125,1850.06005859375,1859.4200439453125,1856.010009765625,1850.8399658203125,1870.030029296875,1846.280029296875,1853.6300048828125,1869.010009765625,1895.5400390625,1903.2099609375,1899.6800537109375,1920.8299560546875,1880.449951171875,1874.280029296875,1855.760009765625,1851.5400390625,1855.1400146484375,1855.3199462890625,1840.8399658203125,1866.6300048828125,1847.030029296875,1834.300048828125,1826.530029296875,1810.0999755859375,1781.8299560546875,1776.5,1784.239990234375,1761.6099853515625,1778.9000244140625,1794.31005859375,1785.0999755859375,1756.8199462890625,1727.1500244140625,1729.010009765625,1731.510009765625,1745.56005859375,1755.989990234375,1775.949951171875,1773.300048828125,1734.25,1719.7099609375,1747.06005859375,1766.050048828125,1728.81005859375,1702.699951171875,1680.7900390625,1665.8800048828125,1679.5,1651.4300537109375,1657.0,1636.93994140625,1647.2900390625,1662.280029296875,1669.699951171875,1714.2099609375,1760.699951171875,1737.93994140625,1733.1500244140625,1714.0699462890625,1687.239990234375,1705.3199462890625,1705.5,1798.3199462890625,1801.219970703125,1773.760009765625,1797.77001953125,1807.0799560546875,1783.260009765625,1795.5400390625],\"type\":\"scatter\"}],                        {\"height\":900,\"template\":{\"data\":{\"barpolar\":[{\"marker\":{\"line\":{\"color\":\"rgb(17,17,17)\",\"width\":0.5},\"pattern\":{\"fillmode\":\"overlay\",\"size\":10,\"solidity\":0.2}},\"type\":\"barpolar\"}],\"bar\":[{\"error_x\":{\"color\":\"#f2f5fa\"},\"error_y\":{\"color\":\"#f2f5fa\"},\"marker\":{\"line\":{\"color\":\"rgb(17,17,17)\",\"width\":0.5},\"pattern\":{\"fillmode\":\"overlay\",\"size\":10,\"solidity\":0.2}},\"type\":\"bar\"}],\"carpet\":[{\"aaxis\":{\"endlinecolor\":\"#A2B1C6\",\"gridcolor\":\"#506784\",\"linecolor\":\"#506784\",\"minorgridcolor\":\"#506784\",\"startlinecolor\":\"#A2B1C6\"},\"baxis\":{\"endlinecolor\":\"#A2B1C6\",\"gridcolor\":\"#506784\",\"linecolor\":\"#506784\",\"minorgridcolor\":\"#506784\",\"startlinecolor\":\"#A2B1C6\"},\"type\":\"carpet\"}],\"choropleth\":[{\"colorbar\":{\"outlinewidth\":0,\"ticks\":\"\"},\"type\":\"choropleth\"}],\"contourcarpet\":[{\"colorbar\":{\"outlinewidth\":0,\"ticks\":\"\"},\"type\":\"contourcarpet\"}],\"contour\":[{\"colorbar\":{\"outlinewidth\":0,\"ticks\":\"\"},\"colorscale\":[[0.0,\"#0d0887\"],[0.1111111111111111,\"#46039f\"],[0.2222222222222222,\"#7201a8\"],[0.3333333333333333,\"#9c179e\"],[0.4444444444444444,\"#bd3786\"],[0.5555555555555556,\"#d8576b\"],[0.6666666666666666,\"#ed7953\"],[0.7777777777777778,\"#fb9f3a\"],[0.8888888888888888,\"#fdca26\"],[1.0,\"#f0f921\"]],\"type\":\"contour\"}],\"heatmapgl\":[{\"colorbar\":{\"outlinewidth\":0,\"ticks\":\"\"},\"colorscale\":[[0.0,\"#0d0887\"],[0.1111111111111111,\"#46039f\"],[0.2222222222222222,\"#7201a8\"],[0.3333333333333333,\"#9c179e\"],[0.4444444444444444,\"#bd3786\"],[0.5555555555555556,\"#d8576b\"],[0.6666666666666666,\"#ed7953\"],[0.7777777777777778,\"#fb9f3a\"],[0.8888888888888888,\"#fdca26\"],[1.0,\"#f0f921\"]],\"type\":\"heatmapgl\"}],\"heatmap\":[{\"colorbar\":{\"outlinewidth\":0,\"ticks\":\"\"},\"colorscale\":[[0.0,\"#0d0887\"],[0.1111111111111111,\"#46039f\"],[0.2222222222222222,\"#7201a8\"],[0.3333333333333333,\"#9c179e\"],[0.4444444444444444,\"#bd3786\"],[0.5555555555555556,\"#d8576b\"],[0.6666666666666666,\"#ed7953\"],[0.7777777777777778,\"#fb9f3a\"],[0.8888888888888888,\"#fdca26\"],[1.0,\"#f0f921\"]],\"type\":\"heatmap\"}],\"histogram2dcontour\":[{\"colorbar\":{\"outlinewidth\":0,\"ticks\":\"\"},\"colorscale\":[[0.0,\"#0d0887\"],[0.1111111111111111,\"#46039f\"],[0.2222222222222222,\"#7201a8\"],[0.3333333333333333,\"#9c179e\"],[0.4444444444444444,\"#bd3786\"],[0.5555555555555556,\"#d8576b\"],[0.6666666666666666,\"#ed7953\"],[0.7777777777777778,\"#fb9f3a\"],[0.8888888888888888,\"#fdca26\"],[1.0,\"#f0f921\"]],\"type\":\"histogram2dcontour\"}],\"histogram2d\":[{\"colorbar\":{\"outlinewidth\":0,\"ticks\":\"\"},\"colorscale\":[[0.0,\"#0d0887\"],[0.1111111111111111,\"#46039f\"],[0.2222222222222222,\"#7201a8\"],[0.3333333333333333,\"#9c179e\"],[0.4444444444444444,\"#bd3786\"],[0.5555555555555556,\"#d8576b\"],[0.6666666666666666,\"#ed7953\"],[0.7777777777777778,\"#fb9f3a\"],[0.8888888888888888,\"#fdca26\"],[1.0,\"#f0f921\"]],\"type\":\"histogram2d\"}],\"histogram\":[{\"marker\":{\"pattern\":{\"fillmode\":\"overlay\",\"size\":10,\"solidity\":0.2}},\"type\":\"histogram\"}],\"mesh3d\":[{\"colorbar\":{\"outlinewidth\":0,\"ticks\":\"\"},\"type\":\"mesh3d\"}],\"parcoords\":[{\"line\":{\"colorbar\":{\"outlinewidth\":0,\"ticks\":\"\"}},\"type\":\"parcoords\"}],\"pie\":[{\"automargin\":true,\"type\":\"pie\"}],\"scatter3d\":[{\"line\":{\"colorbar\":{\"outlinewidth\":0,\"ticks\":\"\"}},\"marker\":{\"colorbar\":{\"outlinewidth\":0,\"ticks\":\"\"}},\"type\":\"scatter3d\"}],\"scattercarpet\":[{\"marker\":{\"colorbar\":{\"outlinewidth\":0,\"ticks\":\"\"}},\"type\":\"scattercarpet\"}],\"scattergeo\":[{\"marker\":{\"colorbar\":{\"outlinewidth\":0,\"ticks\":\"\"}},\"type\":\"scattergeo\"}],\"scattergl\":[{\"marker\":{\"line\":{\"color\":\"#283442\"}},\"type\":\"scattergl\"}],\"scattermapbox\":[{\"marker\":{\"colorbar\":{\"outlinewidth\":0,\"ticks\":\"\"}},\"type\":\"scattermapbox\"}],\"scatterpolargl\":[{\"marker\":{\"colorbar\":{\"outlinewidth\":0,\"ticks\":\"\"}},\"type\":\"scatterpolargl\"}],\"scatterpolar\":[{\"marker\":{\"colorbar\":{\"outlinewidth\":0,\"ticks\":\"\"}},\"type\":\"scatterpolar\"}],\"scatter\":[{\"marker\":{\"line\":{\"color\":\"#283442\"}},\"type\":\"scatter\"}],\"scatterternary\":[{\"marker\":{\"colorbar\":{\"outlinewidth\":0,\"ticks\":\"\"}},\"type\":\"scatterternary\"}],\"surface\":[{\"colorbar\":{\"outlinewidth\":0,\"ticks\":\"\"},\"colorscale\":[[0.0,\"#0d0887\"],[0.1111111111111111,\"#46039f\"],[0.2222222222222222,\"#7201a8\"],[0.3333333333333333,\"#9c179e\"],[0.4444444444444444,\"#bd3786\"],[0.5555555555555556,\"#d8576b\"],[0.6666666666666666,\"#ed7953\"],[0.7777777777777778,\"#fb9f3a\"],[0.8888888888888888,\"#fdca26\"],[1.0,\"#f0f921\"]],\"type\":\"surface\"}],\"table\":[{\"cells\":{\"fill\":{\"color\":\"#506784\"},\"line\":{\"color\":\"rgb(17,17,17)\"}},\"header\":{\"fill\":{\"color\":\"#2a3f5f\"},\"line\":{\"color\":\"rgb(17,17,17)\"}},\"type\":\"table\"}]},\"layout\":{\"annotationdefaults\":{\"arrowcolor\":\"#f2f5fa\",\"arrowhead\":0,\"arrowwidth\":1},\"autotypenumbers\":\"strict\",\"coloraxis\":{\"colorbar\":{\"outlinewidth\":0,\"ticks\":\"\"}},\"colorscale\":{\"diverging\":[[0,\"#8e0152\"],[0.1,\"#c51b7d\"],[0.2,\"#de77ae\"],[0.3,\"#f1b6da\"],[0.4,\"#fde0ef\"],[0.5,\"#f7f7f7\"],[0.6,\"#e6f5d0\"],[0.7,\"#b8e186\"],[0.8,\"#7fbc41\"],[0.9,\"#4d9221\"],[1,\"#276419\"]],\"sequential\":[[0.0,\"#0d0887\"],[0.1111111111111111,\"#46039f\"],[0.2222222222222222,\"#7201a8\"],[0.3333333333333333,\"#9c179e\"],[0.4444444444444444,\"#bd3786\"],[0.5555555555555556,\"#d8576b\"],[0.6666666666666666,\"#ed7953\"],[0.7777777777777778,\"#fb9f3a\"],[0.8888888888888888,\"#fdca26\"],[1.0,\"#f0f921\"]],\"sequentialminus\":[[0.0,\"#0d0887\"],[0.1111111111111111,\"#46039f\"],[0.2222222222222222,\"#7201a8\"],[0.3333333333333333,\"#9c179e\"],[0.4444444444444444,\"#bd3786\"],[0.5555555555555556,\"#d8576b\"],[0.6666666666666666,\"#ed7953\"],[0.7777777777777778,\"#fb9f3a\"],[0.8888888888888888,\"#fdca26\"],[1.0,\"#f0f921\"]]},\"colorway\":[\"#636efa\",\"#EF553B\",\"#00cc96\",\"#ab63fa\",\"#FFA15A\",\"#19d3f3\",\"#FF6692\",\"#B6E880\",\"#FF97FF\",\"#FECB52\"],\"font\":{\"color\":\"#f2f5fa\"},\"geo\":{\"bgcolor\":\"rgb(17,17,17)\",\"lakecolor\":\"rgb(17,17,17)\",\"landcolor\":\"rgb(17,17,17)\",\"showlakes\":true,\"showland\":true,\"subunitcolor\":\"#506784\"},\"hoverlabel\":{\"align\":\"left\"},\"hovermode\":\"closest\",\"mapbox\":{\"style\":\"dark\"},\"paper_bgcolor\":\"rgb(17,17,17)\",\"plot_bgcolor\":\"rgb(17,17,17)\",\"polar\":{\"angularaxis\":{\"gridcolor\":\"#506784\",\"linecolor\":\"#506784\",\"ticks\":\"\"},\"bgcolor\":\"rgb(17,17,17)\",\"radialaxis\":{\"gridcolor\":\"#506784\",\"linecolor\":\"#506784\",\"ticks\":\"\"}},\"scene\":{\"xaxis\":{\"backgroundcolor\":\"rgb(17,17,17)\",\"gridcolor\":\"#506784\",\"gridwidth\":2,\"linecolor\":\"#506784\",\"showbackground\":true,\"ticks\":\"\",\"zerolinecolor\":\"#C8D4E3\"},\"yaxis\":{\"backgroundcolor\":\"rgb(17,17,17)\",\"gridcolor\":\"#506784\",\"gridwidth\":2,\"linecolor\":\"#506784\",\"showbackground\":true,\"ticks\":\"\",\"zerolinecolor\":\"#C8D4E3\"},\"zaxis\":{\"backgroundcolor\":\"rgb(17,17,17)\",\"gridcolor\":\"#506784\",\"gridwidth\":2,\"linecolor\":\"#506784\",\"showbackground\":true,\"ticks\":\"\",\"zerolinecolor\":\"#C8D4E3\"}},\"shapedefaults\":{\"line\":{\"color\":\"#f2f5fa\"}},\"sliderdefaults\":{\"bgcolor\":\"#C8D4E3\",\"bordercolor\":\"rgb(17,17,17)\",\"borderwidth\":1,\"tickwidth\":0},\"ternary\":{\"aaxis\":{\"gridcolor\":\"#506784\",\"linecolor\":\"#506784\",\"ticks\":\"\"},\"baxis\":{\"gridcolor\":\"#506784\",\"linecolor\":\"#506784\",\"ticks\":\"\"},\"bgcolor\":\"rgb(17,17,17)\",\"caxis\":{\"gridcolor\":\"#506784\",\"linecolor\":\"#506784\",\"ticks\":\"\"}},\"title\":{\"x\":0.05},\"updatemenudefaults\":{\"bgcolor\":\"#506784\",\"borderwidth\":0},\"xaxis\":{\"automargin\":true,\"gridcolor\":\"#283442\",\"linecolor\":\"#506784\",\"ticks\":\"\",\"title\":{\"standoff\":15},\"zerolinecolor\":\"#283442\",\"zerolinewidth\":2},\"yaxis\":{\"automargin\":true,\"gridcolor\":\"#283442\",\"linecolor\":\"#506784\",\"ticks\":\"\",\"title\":{\"standoff\":15},\"zerolinecolor\":\"#283442\",\"zerolinewidth\":2}}},\"title\":{\"text\":\"TCN model predictions vs. actual price of ^RUT\"},\"width\":1500},                        {\"responsive\": true}                    ).then(function(){\n",
       "                            \n",
       "var gd = document.getElementById('c095f1bd-4a16-4d5b-9713-41e50c0683a0');\n",
       "var x = new MutationObserver(function (mutations, observer) {{\n",
       "        var display = window.getComputedStyle(gd).display;\n",
       "        if (!display || display === 'none') {{\n",
       "            console.log([gd, 'removed!']);\n",
       "            Plotly.purge(gd);\n",
       "            observer.disconnect();\n",
       "        }}\n",
       "}});\n",
       "\n",
       "// Listen for the removal of the full notebook cells\n",
       "var notebookContainer = gd.closest('#notebook-container');\n",
       "if (notebookContainer) {{\n",
       "    x.observe(notebookContainer, {childList: true});\n",
       "}}\n",
       "\n",
       "// Listen for the clearing of the current output cell\n",
       "var outputEl = gd.closest('.output');\n",
       "if (outputEl) {{\n",
       "    x.observe(outputEl, {childList: true});\n",
       "}}\n",
       "\n",
       "                        })                };                });            </script>        </div>"
      ]
     },
     "metadata": {},
     "output_type": "display_data"
    }
   ],
   "source": [
    "trace_0 = go.Scatter(y=results_df['theta_hat'],\n",
    "                     name='predicted',\n",
    "                     mode='lines',\n",
    "                     marker= {'color':'#FF6F61','opacity':0.9})\n",
    "\n",
    "trace_1 = go.Scatter(y=results_df['theta'],\n",
    "                     name=df2.columns[0],\n",
    "                     mode='lines',\n",
    "                     marker= {'color':'#1d5dec','opacity':0.9})\n",
    "\n",
    "data = [trace_0,trace_1]\n",
    "\n",
    "\n",
    "layout = go.Layout(title=f\"TCN model predictions vs. actual price of {df2.columns[0]}\",\n",
    "                  template='plotly_dark',\n",
    "                   height=900,\n",
    "                   width=1500)\n",
    "\n",
    "fig = go.Figure(data,layout=layout)\n",
    "fig.show()"
   ]
  },
  {
   "cell_type": "code",
   "execution_count": 96,
   "id": "7399b5fd",
   "metadata": {},
   "outputs": [
    {
     "name": "stdout",
     "output_type": "stream",
     "text": [
      "0.8503724932670593\n"
     ]
    }
   ],
   "source": [
    "# def reset_model(model):\n",
    "#   del model\n",
    "#   model = Sequential()\n",
    "#   return model\n",
    "\n",
    "# model = reset_model(model)\n",
    "print(explained_variance_score(y_true=results_df['theta'],y_pred=results_df['theta_hat']))"
   ]
  },
  {
   "cell_type": "markdown",
   "id": "75132bb0",
   "metadata": {},
   "source": [
    "The below model has multiple TCN layers instead of only one like the above model"
   ]
  },
  {
   "cell_type": "code",
   "execution_count": 100,
   "id": "4e9f19e2",
   "metadata": {},
   "outputs": [
    {
     "name": "stdout",
     "output_type": "stream",
     "text": [
      "Epoch 1/3\n",
      "155/155 [==============================] - 8s 25ms/step - loss: 0.5331 - val_loss: 0.3142 - lr: 0.0010\n",
      "Epoch 2/3\n",
      "155/155 [==============================] - 5s 31ms/step - loss: 0.1165 - val_loss: 0.1119 - lr: 0.0010\n",
      "Epoch 3/3\n",
      "155/155 [==============================] - 3s 21ms/step - loss: 0.0692 - val_loss: 0.1585 - lr: 0.0010\n"
     ]
    }
   ],
   "source": [
    "# Parameters\n",
    "patience = 50\n",
    "sequence_length = 90  # Number of days to look back\n",
    "features = df.shape[1]  # Number of features\n",
    "epochs = 3\n",
    "batch_size = 16\n",
    "# The below filter size seems to have the best results thus far\n",
    "#filter1 = 128\n",
    "\n",
    "# This is our new experimental filter value\n",
    "filter1 = 150\n",
    "\n",
    "\n",
    "early_stopping = EarlyStopping(patience=patience,monitor='val_loss',restore_best_weights=True)\n",
    "checkpoint_filepath = \"/kaggle/working Checkpoints/best_model{epoch:02d}_{val_loss:.2f}.keras\"\n",
    "model_checkpoint = ModelCheckpoint(filepath=checkpoint_filepath,monitor='val_loss',verbose=1,save_best_only=True,mode='min')\n",
    "reduce_lr = ReduceLROnPlateau(monitor='val_loss',factor=0.1,patience=(patience/2),verbose=1,mode='auto',min_delta=0.0001,cooldown=0,min_lr=0.0)\n",
    "\n",
    "\n",
    "\n",
    "def build_tcn(input_shape, num_layers_per_block=2):\n",
    "    inputs = Input(shape=input_shape)\n",
    "    \n",
    "    # Initial Conv1D layer\n",
    "    x = Conv1D(filter1, kernel_size=2, dilation_rate=1, padding=\"causal\")(inputs)\n",
    "    x = BatchNormalization()(x)\n",
    "    x = ReLU()(x)\n",
    "    \n",
    "    # Stacked TCN blocks with multiple Conv1D layers\n",
    "    for dilation_rate in [2, 4, 8, 16]:\n",
    "        previous_x = x\n",
    "        for _ in range(num_layers_per_block):  # Stack `num_layers_per_block` Conv1D layers\n",
    "            x = Conv1D(filter1, kernel_size=2, dilation_rate=dilation_rate, padding=\"causal\")(x)\n",
    "            x = BatchNormalization()(x)\n",
    "            x = ReLU()(x)\n",
    "        \n",
    "        # Add a residual connection to the block's input\n",
    "        x = Add()([x, previous_x])\n",
    "    \n",
    "    x = Flatten()(x)\n",
    "    outputs = Dense(1)(x)\n",
    "    \n",
    "    model = Model(inputs, outputs)\n",
    "    return model\n",
    "\n",
    "# Compile and use the model as before\n",
    "model = build_tcn(input_shape)\n",
    "model.compile(optimizer=Adam(), loss='mean_squared_error')\n",
    "history = model.fit(X_train, y_train, validation_data=(X_test, y_test), epochs=epochs, batch_size=batch_size,callbacks=[early_stopping,reduce_lr])\n"
   ]
  },
  {
   "cell_type": "code",
   "execution_count": 98,
   "id": "7485360f",
   "metadata": {},
   "outputs": [
    {
     "data": {
      "application/vnd.plotly.v1+json": {
       "config": {
        "plotlyServerURL": "https://plot.ly"
       },
       "data": [
        {
         "marker": {
          "color": "#FF6F61",
          "opacity": 0.9
         },
         "mode": "lines",
         "name": "train",
         "type": "scatter",
         "y": [
          0.8332483768463135,
          0.12250704318284988,
          0.07837405800819397
         ]
        },
        {
         "marker": {
          "color": "#1d5dec",
          "opacity": 0.9
         },
         "mode": "lines",
         "name": "test",
         "type": "scatter",
         "y": [
          0.3414144515991211,
          1.0183955430984497,
          2.515749454498291
         ]
        }
       ],
       "layout": {
        "height": 600,
        "template": {
         "data": {
          "bar": [
           {
            "error_x": {
             "color": "#f2f5fa"
            },
            "error_y": {
             "color": "#f2f5fa"
            },
            "marker": {
             "line": {
              "color": "rgb(17,17,17)",
              "width": 0.5
             },
             "pattern": {
              "fillmode": "overlay",
              "size": 10,
              "solidity": 0.2
             }
            },
            "type": "bar"
           }
          ],
          "barpolar": [
           {
            "marker": {
             "line": {
              "color": "rgb(17,17,17)",
              "width": 0.5
             },
             "pattern": {
              "fillmode": "overlay",
              "size": 10,
              "solidity": 0.2
             }
            },
            "type": "barpolar"
           }
          ],
          "carpet": [
           {
            "aaxis": {
             "endlinecolor": "#A2B1C6",
             "gridcolor": "#506784",
             "linecolor": "#506784",
             "minorgridcolor": "#506784",
             "startlinecolor": "#A2B1C6"
            },
            "baxis": {
             "endlinecolor": "#A2B1C6",
             "gridcolor": "#506784",
             "linecolor": "#506784",
             "minorgridcolor": "#506784",
             "startlinecolor": "#A2B1C6"
            },
            "type": "carpet"
           }
          ],
          "choropleth": [
           {
            "colorbar": {
             "outlinewidth": 0,
             "ticks": ""
            },
            "type": "choropleth"
           }
          ],
          "contour": [
           {
            "colorbar": {
             "outlinewidth": 0,
             "ticks": ""
            },
            "colorscale": [
             [
              0,
              "#0d0887"
             ],
             [
              0.1111111111111111,
              "#46039f"
             ],
             [
              0.2222222222222222,
              "#7201a8"
             ],
             [
              0.3333333333333333,
              "#9c179e"
             ],
             [
              0.4444444444444444,
              "#bd3786"
             ],
             [
              0.5555555555555556,
              "#d8576b"
             ],
             [
              0.6666666666666666,
              "#ed7953"
             ],
             [
              0.7777777777777778,
              "#fb9f3a"
             ],
             [
              0.8888888888888888,
              "#fdca26"
             ],
             [
              1,
              "#f0f921"
             ]
            ],
            "type": "contour"
           }
          ],
          "contourcarpet": [
           {
            "colorbar": {
             "outlinewidth": 0,
             "ticks": ""
            },
            "type": "contourcarpet"
           }
          ],
          "heatmap": [
           {
            "colorbar": {
             "outlinewidth": 0,
             "ticks": ""
            },
            "colorscale": [
             [
              0,
              "#0d0887"
             ],
             [
              0.1111111111111111,
              "#46039f"
             ],
             [
              0.2222222222222222,
              "#7201a8"
             ],
             [
              0.3333333333333333,
              "#9c179e"
             ],
             [
              0.4444444444444444,
              "#bd3786"
             ],
             [
              0.5555555555555556,
              "#d8576b"
             ],
             [
              0.6666666666666666,
              "#ed7953"
             ],
             [
              0.7777777777777778,
              "#fb9f3a"
             ],
             [
              0.8888888888888888,
              "#fdca26"
             ],
             [
              1,
              "#f0f921"
             ]
            ],
            "type": "heatmap"
           }
          ],
          "heatmapgl": [
           {
            "colorbar": {
             "outlinewidth": 0,
             "ticks": ""
            },
            "colorscale": [
             [
              0,
              "#0d0887"
             ],
             [
              0.1111111111111111,
              "#46039f"
             ],
             [
              0.2222222222222222,
              "#7201a8"
             ],
             [
              0.3333333333333333,
              "#9c179e"
             ],
             [
              0.4444444444444444,
              "#bd3786"
             ],
             [
              0.5555555555555556,
              "#d8576b"
             ],
             [
              0.6666666666666666,
              "#ed7953"
             ],
             [
              0.7777777777777778,
              "#fb9f3a"
             ],
             [
              0.8888888888888888,
              "#fdca26"
             ],
             [
              1,
              "#f0f921"
             ]
            ],
            "type": "heatmapgl"
           }
          ],
          "histogram": [
           {
            "marker": {
             "pattern": {
              "fillmode": "overlay",
              "size": 10,
              "solidity": 0.2
             }
            },
            "type": "histogram"
           }
          ],
          "histogram2d": [
           {
            "colorbar": {
             "outlinewidth": 0,
             "ticks": ""
            },
            "colorscale": [
             [
              0,
              "#0d0887"
             ],
             [
              0.1111111111111111,
              "#46039f"
             ],
             [
              0.2222222222222222,
              "#7201a8"
             ],
             [
              0.3333333333333333,
              "#9c179e"
             ],
             [
              0.4444444444444444,
              "#bd3786"
             ],
             [
              0.5555555555555556,
              "#d8576b"
             ],
             [
              0.6666666666666666,
              "#ed7953"
             ],
             [
              0.7777777777777778,
              "#fb9f3a"
             ],
             [
              0.8888888888888888,
              "#fdca26"
             ],
             [
              1,
              "#f0f921"
             ]
            ],
            "type": "histogram2d"
           }
          ],
          "histogram2dcontour": [
           {
            "colorbar": {
             "outlinewidth": 0,
             "ticks": ""
            },
            "colorscale": [
             [
              0,
              "#0d0887"
             ],
             [
              0.1111111111111111,
              "#46039f"
             ],
             [
              0.2222222222222222,
              "#7201a8"
             ],
             [
              0.3333333333333333,
              "#9c179e"
             ],
             [
              0.4444444444444444,
              "#bd3786"
             ],
             [
              0.5555555555555556,
              "#d8576b"
             ],
             [
              0.6666666666666666,
              "#ed7953"
             ],
             [
              0.7777777777777778,
              "#fb9f3a"
             ],
             [
              0.8888888888888888,
              "#fdca26"
             ],
             [
              1,
              "#f0f921"
             ]
            ],
            "type": "histogram2dcontour"
           }
          ],
          "mesh3d": [
           {
            "colorbar": {
             "outlinewidth": 0,
             "ticks": ""
            },
            "type": "mesh3d"
           }
          ],
          "parcoords": [
           {
            "line": {
             "colorbar": {
              "outlinewidth": 0,
              "ticks": ""
             }
            },
            "type": "parcoords"
           }
          ],
          "pie": [
           {
            "automargin": true,
            "type": "pie"
           }
          ],
          "scatter": [
           {
            "marker": {
             "line": {
              "color": "#283442"
             }
            },
            "type": "scatter"
           }
          ],
          "scatter3d": [
           {
            "line": {
             "colorbar": {
              "outlinewidth": 0,
              "ticks": ""
             }
            },
            "marker": {
             "colorbar": {
              "outlinewidth": 0,
              "ticks": ""
             }
            },
            "type": "scatter3d"
           }
          ],
          "scattercarpet": [
           {
            "marker": {
             "colorbar": {
              "outlinewidth": 0,
              "ticks": ""
             }
            },
            "type": "scattercarpet"
           }
          ],
          "scattergeo": [
           {
            "marker": {
             "colorbar": {
              "outlinewidth": 0,
              "ticks": ""
             }
            },
            "type": "scattergeo"
           }
          ],
          "scattergl": [
           {
            "marker": {
             "line": {
              "color": "#283442"
             }
            },
            "type": "scattergl"
           }
          ],
          "scattermapbox": [
           {
            "marker": {
             "colorbar": {
              "outlinewidth": 0,
              "ticks": ""
             }
            },
            "type": "scattermapbox"
           }
          ],
          "scatterpolar": [
           {
            "marker": {
             "colorbar": {
              "outlinewidth": 0,
              "ticks": ""
             }
            },
            "type": "scatterpolar"
           }
          ],
          "scatterpolargl": [
           {
            "marker": {
             "colorbar": {
              "outlinewidth": 0,
              "ticks": ""
             }
            },
            "type": "scatterpolargl"
           }
          ],
          "scatterternary": [
           {
            "marker": {
             "colorbar": {
              "outlinewidth": 0,
              "ticks": ""
             }
            },
            "type": "scatterternary"
           }
          ],
          "surface": [
           {
            "colorbar": {
             "outlinewidth": 0,
             "ticks": ""
            },
            "colorscale": [
             [
              0,
              "#0d0887"
             ],
             [
              0.1111111111111111,
              "#46039f"
             ],
             [
              0.2222222222222222,
              "#7201a8"
             ],
             [
              0.3333333333333333,
              "#9c179e"
             ],
             [
              0.4444444444444444,
              "#bd3786"
             ],
             [
              0.5555555555555556,
              "#d8576b"
             ],
             [
              0.6666666666666666,
              "#ed7953"
             ],
             [
              0.7777777777777778,
              "#fb9f3a"
             ],
             [
              0.8888888888888888,
              "#fdca26"
             ],
             [
              1,
              "#f0f921"
             ]
            ],
            "type": "surface"
           }
          ],
          "table": [
           {
            "cells": {
             "fill": {
              "color": "#506784"
             },
             "line": {
              "color": "rgb(17,17,17)"
             }
            },
            "header": {
             "fill": {
              "color": "#2a3f5f"
             },
             "line": {
              "color": "rgb(17,17,17)"
             }
            },
            "type": "table"
           }
          ]
         },
         "layout": {
          "annotationdefaults": {
           "arrowcolor": "#f2f5fa",
           "arrowhead": 0,
           "arrowwidth": 1
          },
          "autotypenumbers": "strict",
          "coloraxis": {
           "colorbar": {
            "outlinewidth": 0,
            "ticks": ""
           }
          },
          "colorscale": {
           "diverging": [
            [
             0,
             "#8e0152"
            ],
            [
             0.1,
             "#c51b7d"
            ],
            [
             0.2,
             "#de77ae"
            ],
            [
             0.3,
             "#f1b6da"
            ],
            [
             0.4,
             "#fde0ef"
            ],
            [
             0.5,
             "#f7f7f7"
            ],
            [
             0.6,
             "#e6f5d0"
            ],
            [
             0.7,
             "#b8e186"
            ],
            [
             0.8,
             "#7fbc41"
            ],
            [
             0.9,
             "#4d9221"
            ],
            [
             1,
             "#276419"
            ]
           ],
           "sequential": [
            [
             0,
             "#0d0887"
            ],
            [
             0.1111111111111111,
             "#46039f"
            ],
            [
             0.2222222222222222,
             "#7201a8"
            ],
            [
             0.3333333333333333,
             "#9c179e"
            ],
            [
             0.4444444444444444,
             "#bd3786"
            ],
            [
             0.5555555555555556,
             "#d8576b"
            ],
            [
             0.6666666666666666,
             "#ed7953"
            ],
            [
             0.7777777777777778,
             "#fb9f3a"
            ],
            [
             0.8888888888888888,
             "#fdca26"
            ],
            [
             1,
             "#f0f921"
            ]
           ],
           "sequentialminus": [
            [
             0,
             "#0d0887"
            ],
            [
             0.1111111111111111,
             "#46039f"
            ],
            [
             0.2222222222222222,
             "#7201a8"
            ],
            [
             0.3333333333333333,
             "#9c179e"
            ],
            [
             0.4444444444444444,
             "#bd3786"
            ],
            [
             0.5555555555555556,
             "#d8576b"
            ],
            [
             0.6666666666666666,
             "#ed7953"
            ],
            [
             0.7777777777777778,
             "#fb9f3a"
            ],
            [
             0.8888888888888888,
             "#fdca26"
            ],
            [
             1,
             "#f0f921"
            ]
           ]
          },
          "colorway": [
           "#636efa",
           "#EF553B",
           "#00cc96",
           "#ab63fa",
           "#FFA15A",
           "#19d3f3",
           "#FF6692",
           "#B6E880",
           "#FF97FF",
           "#FECB52"
          ],
          "font": {
           "color": "#f2f5fa"
          },
          "geo": {
           "bgcolor": "rgb(17,17,17)",
           "lakecolor": "rgb(17,17,17)",
           "landcolor": "rgb(17,17,17)",
           "showlakes": true,
           "showland": true,
           "subunitcolor": "#506784"
          },
          "hoverlabel": {
           "align": "left"
          },
          "hovermode": "closest",
          "mapbox": {
           "style": "dark"
          },
          "paper_bgcolor": "rgb(17,17,17)",
          "plot_bgcolor": "rgb(17,17,17)",
          "polar": {
           "angularaxis": {
            "gridcolor": "#506784",
            "linecolor": "#506784",
            "ticks": ""
           },
           "bgcolor": "rgb(17,17,17)",
           "radialaxis": {
            "gridcolor": "#506784",
            "linecolor": "#506784",
            "ticks": ""
           }
          },
          "scene": {
           "xaxis": {
            "backgroundcolor": "rgb(17,17,17)",
            "gridcolor": "#506784",
            "gridwidth": 2,
            "linecolor": "#506784",
            "showbackground": true,
            "ticks": "",
            "zerolinecolor": "#C8D4E3"
           },
           "yaxis": {
            "backgroundcolor": "rgb(17,17,17)",
            "gridcolor": "#506784",
            "gridwidth": 2,
            "linecolor": "#506784",
            "showbackground": true,
            "ticks": "",
            "zerolinecolor": "#C8D4E3"
           },
           "zaxis": {
            "backgroundcolor": "rgb(17,17,17)",
            "gridcolor": "#506784",
            "gridwidth": 2,
            "linecolor": "#506784",
            "showbackground": true,
            "ticks": "",
            "zerolinecolor": "#C8D4E3"
           }
          },
          "shapedefaults": {
           "line": {
            "color": "#f2f5fa"
           }
          },
          "sliderdefaults": {
           "bgcolor": "#C8D4E3",
           "bordercolor": "rgb(17,17,17)",
           "borderwidth": 1,
           "tickwidth": 0
          },
          "ternary": {
           "aaxis": {
            "gridcolor": "#506784",
            "linecolor": "#506784",
            "ticks": ""
           },
           "baxis": {
            "gridcolor": "#506784",
            "linecolor": "#506784",
            "ticks": ""
           },
           "bgcolor": "rgb(17,17,17)",
           "caxis": {
            "gridcolor": "#506784",
            "linecolor": "#506784",
            "ticks": ""
           }
          },
          "title": {
           "x": 0.05
          },
          "updatemenudefaults": {
           "bgcolor": "#506784",
           "borderwidth": 0
          },
          "xaxis": {
           "automargin": true,
           "gridcolor": "#283442",
           "linecolor": "#506784",
           "ticks": "",
           "title": {
            "standoff": 15
           },
           "zerolinecolor": "#283442",
           "zerolinewidth": 2
          },
          "yaxis": {
           "automargin": true,
           "gridcolor": "#283442",
           "linecolor": "#506784",
           "ticks": "",
           "title": {
            "standoff": 15
           },
           "zerolinecolor": "#283442",
           "zerolinewidth": 2
          }
         }
        },
        "title": {
         "text": "train/test logarithmic loss comparison"
        },
        "width": 1000
       }
      },
      "text/html": [
       "<div>                            <div id=\"934ab8f9-aff2-4370-bb3d-ab1b5f188097\" class=\"plotly-graph-div\" style=\"height:600px; width:1000px;\"></div>            <script type=\"text/javascript\">                require([\"plotly\"], function(Plotly) {                    window.PLOTLYENV=window.PLOTLYENV || {};                                    if (document.getElementById(\"934ab8f9-aff2-4370-bb3d-ab1b5f188097\")) {                    Plotly.newPlot(                        \"934ab8f9-aff2-4370-bb3d-ab1b5f188097\",                        [{\"marker\":{\"color\":\"#FF6F61\",\"opacity\":0.9},\"mode\":\"lines\",\"name\":\"train\",\"y\":[0.8332483768463135,0.12250704318284988,0.07837405800819397],\"type\":\"scatter\"},{\"marker\":{\"color\":\"#1d5dec\",\"opacity\":0.9},\"mode\":\"lines\",\"name\":\"test\",\"y\":[0.3414144515991211,1.0183955430984497,2.515749454498291],\"type\":\"scatter\"}],                        {\"height\":600,\"template\":{\"data\":{\"barpolar\":[{\"marker\":{\"line\":{\"color\":\"rgb(17,17,17)\",\"width\":0.5},\"pattern\":{\"fillmode\":\"overlay\",\"size\":10,\"solidity\":0.2}},\"type\":\"barpolar\"}],\"bar\":[{\"error_x\":{\"color\":\"#f2f5fa\"},\"error_y\":{\"color\":\"#f2f5fa\"},\"marker\":{\"line\":{\"color\":\"rgb(17,17,17)\",\"width\":0.5},\"pattern\":{\"fillmode\":\"overlay\",\"size\":10,\"solidity\":0.2}},\"type\":\"bar\"}],\"carpet\":[{\"aaxis\":{\"endlinecolor\":\"#A2B1C6\",\"gridcolor\":\"#506784\",\"linecolor\":\"#506784\",\"minorgridcolor\":\"#506784\",\"startlinecolor\":\"#A2B1C6\"},\"baxis\":{\"endlinecolor\":\"#A2B1C6\",\"gridcolor\":\"#506784\",\"linecolor\":\"#506784\",\"minorgridcolor\":\"#506784\",\"startlinecolor\":\"#A2B1C6\"},\"type\":\"carpet\"}],\"choropleth\":[{\"colorbar\":{\"outlinewidth\":0,\"ticks\":\"\"},\"type\":\"choropleth\"}],\"contourcarpet\":[{\"colorbar\":{\"outlinewidth\":0,\"ticks\":\"\"},\"type\":\"contourcarpet\"}],\"contour\":[{\"colorbar\":{\"outlinewidth\":0,\"ticks\":\"\"},\"colorscale\":[[0.0,\"#0d0887\"],[0.1111111111111111,\"#46039f\"],[0.2222222222222222,\"#7201a8\"],[0.3333333333333333,\"#9c179e\"],[0.4444444444444444,\"#bd3786\"],[0.5555555555555556,\"#d8576b\"],[0.6666666666666666,\"#ed7953\"],[0.7777777777777778,\"#fb9f3a\"],[0.8888888888888888,\"#fdca26\"],[1.0,\"#f0f921\"]],\"type\":\"contour\"}],\"heatmapgl\":[{\"colorbar\":{\"outlinewidth\":0,\"ticks\":\"\"},\"colorscale\":[[0.0,\"#0d0887\"],[0.1111111111111111,\"#46039f\"],[0.2222222222222222,\"#7201a8\"],[0.3333333333333333,\"#9c179e\"],[0.4444444444444444,\"#bd3786\"],[0.5555555555555556,\"#d8576b\"],[0.6666666666666666,\"#ed7953\"],[0.7777777777777778,\"#fb9f3a\"],[0.8888888888888888,\"#fdca26\"],[1.0,\"#f0f921\"]],\"type\":\"heatmapgl\"}],\"heatmap\":[{\"colorbar\":{\"outlinewidth\":0,\"ticks\":\"\"},\"colorscale\":[[0.0,\"#0d0887\"],[0.1111111111111111,\"#46039f\"],[0.2222222222222222,\"#7201a8\"],[0.3333333333333333,\"#9c179e\"],[0.4444444444444444,\"#bd3786\"],[0.5555555555555556,\"#d8576b\"],[0.6666666666666666,\"#ed7953\"],[0.7777777777777778,\"#fb9f3a\"],[0.8888888888888888,\"#fdca26\"],[1.0,\"#f0f921\"]],\"type\":\"heatmap\"}],\"histogram2dcontour\":[{\"colorbar\":{\"outlinewidth\":0,\"ticks\":\"\"},\"colorscale\":[[0.0,\"#0d0887\"],[0.1111111111111111,\"#46039f\"],[0.2222222222222222,\"#7201a8\"],[0.3333333333333333,\"#9c179e\"],[0.4444444444444444,\"#bd3786\"],[0.5555555555555556,\"#d8576b\"],[0.6666666666666666,\"#ed7953\"],[0.7777777777777778,\"#fb9f3a\"],[0.8888888888888888,\"#fdca26\"],[1.0,\"#f0f921\"]],\"type\":\"histogram2dcontour\"}],\"histogram2d\":[{\"colorbar\":{\"outlinewidth\":0,\"ticks\":\"\"},\"colorscale\":[[0.0,\"#0d0887\"],[0.1111111111111111,\"#46039f\"],[0.2222222222222222,\"#7201a8\"],[0.3333333333333333,\"#9c179e\"],[0.4444444444444444,\"#bd3786\"],[0.5555555555555556,\"#d8576b\"],[0.6666666666666666,\"#ed7953\"],[0.7777777777777778,\"#fb9f3a\"],[0.8888888888888888,\"#fdca26\"],[1.0,\"#f0f921\"]],\"type\":\"histogram2d\"}],\"histogram\":[{\"marker\":{\"pattern\":{\"fillmode\":\"overlay\",\"size\":10,\"solidity\":0.2}},\"type\":\"histogram\"}],\"mesh3d\":[{\"colorbar\":{\"outlinewidth\":0,\"ticks\":\"\"},\"type\":\"mesh3d\"}],\"parcoords\":[{\"line\":{\"colorbar\":{\"outlinewidth\":0,\"ticks\":\"\"}},\"type\":\"parcoords\"}],\"pie\":[{\"automargin\":true,\"type\":\"pie\"}],\"scatter3d\":[{\"line\":{\"colorbar\":{\"outlinewidth\":0,\"ticks\":\"\"}},\"marker\":{\"colorbar\":{\"outlinewidth\":0,\"ticks\":\"\"}},\"type\":\"scatter3d\"}],\"scattercarpet\":[{\"marker\":{\"colorbar\":{\"outlinewidth\":0,\"ticks\":\"\"}},\"type\":\"scattercarpet\"}],\"scattergeo\":[{\"marker\":{\"colorbar\":{\"outlinewidth\":0,\"ticks\":\"\"}},\"type\":\"scattergeo\"}],\"scattergl\":[{\"marker\":{\"line\":{\"color\":\"#283442\"}},\"type\":\"scattergl\"}],\"scattermapbox\":[{\"marker\":{\"colorbar\":{\"outlinewidth\":0,\"ticks\":\"\"}},\"type\":\"scattermapbox\"}],\"scatterpolargl\":[{\"marker\":{\"colorbar\":{\"outlinewidth\":0,\"ticks\":\"\"}},\"type\":\"scatterpolargl\"}],\"scatterpolar\":[{\"marker\":{\"colorbar\":{\"outlinewidth\":0,\"ticks\":\"\"}},\"type\":\"scatterpolar\"}],\"scatter\":[{\"marker\":{\"line\":{\"color\":\"#283442\"}},\"type\":\"scatter\"}],\"scatterternary\":[{\"marker\":{\"colorbar\":{\"outlinewidth\":0,\"ticks\":\"\"}},\"type\":\"scatterternary\"}],\"surface\":[{\"colorbar\":{\"outlinewidth\":0,\"ticks\":\"\"},\"colorscale\":[[0.0,\"#0d0887\"],[0.1111111111111111,\"#46039f\"],[0.2222222222222222,\"#7201a8\"],[0.3333333333333333,\"#9c179e\"],[0.4444444444444444,\"#bd3786\"],[0.5555555555555556,\"#d8576b\"],[0.6666666666666666,\"#ed7953\"],[0.7777777777777778,\"#fb9f3a\"],[0.8888888888888888,\"#fdca26\"],[1.0,\"#f0f921\"]],\"type\":\"surface\"}],\"table\":[{\"cells\":{\"fill\":{\"color\":\"#506784\"},\"line\":{\"color\":\"rgb(17,17,17)\"}},\"header\":{\"fill\":{\"color\":\"#2a3f5f\"},\"line\":{\"color\":\"rgb(17,17,17)\"}},\"type\":\"table\"}]},\"layout\":{\"annotationdefaults\":{\"arrowcolor\":\"#f2f5fa\",\"arrowhead\":0,\"arrowwidth\":1},\"autotypenumbers\":\"strict\",\"coloraxis\":{\"colorbar\":{\"outlinewidth\":0,\"ticks\":\"\"}},\"colorscale\":{\"diverging\":[[0,\"#8e0152\"],[0.1,\"#c51b7d\"],[0.2,\"#de77ae\"],[0.3,\"#f1b6da\"],[0.4,\"#fde0ef\"],[0.5,\"#f7f7f7\"],[0.6,\"#e6f5d0\"],[0.7,\"#b8e186\"],[0.8,\"#7fbc41\"],[0.9,\"#4d9221\"],[1,\"#276419\"]],\"sequential\":[[0.0,\"#0d0887\"],[0.1111111111111111,\"#46039f\"],[0.2222222222222222,\"#7201a8\"],[0.3333333333333333,\"#9c179e\"],[0.4444444444444444,\"#bd3786\"],[0.5555555555555556,\"#d8576b\"],[0.6666666666666666,\"#ed7953\"],[0.7777777777777778,\"#fb9f3a\"],[0.8888888888888888,\"#fdca26\"],[1.0,\"#f0f921\"]],\"sequentialminus\":[[0.0,\"#0d0887\"],[0.1111111111111111,\"#46039f\"],[0.2222222222222222,\"#7201a8\"],[0.3333333333333333,\"#9c179e\"],[0.4444444444444444,\"#bd3786\"],[0.5555555555555556,\"#d8576b\"],[0.6666666666666666,\"#ed7953\"],[0.7777777777777778,\"#fb9f3a\"],[0.8888888888888888,\"#fdca26\"],[1.0,\"#f0f921\"]]},\"colorway\":[\"#636efa\",\"#EF553B\",\"#00cc96\",\"#ab63fa\",\"#FFA15A\",\"#19d3f3\",\"#FF6692\",\"#B6E880\",\"#FF97FF\",\"#FECB52\"],\"font\":{\"color\":\"#f2f5fa\"},\"geo\":{\"bgcolor\":\"rgb(17,17,17)\",\"lakecolor\":\"rgb(17,17,17)\",\"landcolor\":\"rgb(17,17,17)\",\"showlakes\":true,\"showland\":true,\"subunitcolor\":\"#506784\"},\"hoverlabel\":{\"align\":\"left\"},\"hovermode\":\"closest\",\"mapbox\":{\"style\":\"dark\"},\"paper_bgcolor\":\"rgb(17,17,17)\",\"plot_bgcolor\":\"rgb(17,17,17)\",\"polar\":{\"angularaxis\":{\"gridcolor\":\"#506784\",\"linecolor\":\"#506784\",\"ticks\":\"\"},\"bgcolor\":\"rgb(17,17,17)\",\"radialaxis\":{\"gridcolor\":\"#506784\",\"linecolor\":\"#506784\",\"ticks\":\"\"}},\"scene\":{\"xaxis\":{\"backgroundcolor\":\"rgb(17,17,17)\",\"gridcolor\":\"#506784\",\"gridwidth\":2,\"linecolor\":\"#506784\",\"showbackground\":true,\"ticks\":\"\",\"zerolinecolor\":\"#C8D4E3\"},\"yaxis\":{\"backgroundcolor\":\"rgb(17,17,17)\",\"gridcolor\":\"#506784\",\"gridwidth\":2,\"linecolor\":\"#506784\",\"showbackground\":true,\"ticks\":\"\",\"zerolinecolor\":\"#C8D4E3\"},\"zaxis\":{\"backgroundcolor\":\"rgb(17,17,17)\",\"gridcolor\":\"#506784\",\"gridwidth\":2,\"linecolor\":\"#506784\",\"showbackground\":true,\"ticks\":\"\",\"zerolinecolor\":\"#C8D4E3\"}},\"shapedefaults\":{\"line\":{\"color\":\"#f2f5fa\"}},\"sliderdefaults\":{\"bgcolor\":\"#C8D4E3\",\"bordercolor\":\"rgb(17,17,17)\",\"borderwidth\":1,\"tickwidth\":0},\"ternary\":{\"aaxis\":{\"gridcolor\":\"#506784\",\"linecolor\":\"#506784\",\"ticks\":\"\"},\"baxis\":{\"gridcolor\":\"#506784\",\"linecolor\":\"#506784\",\"ticks\":\"\"},\"bgcolor\":\"rgb(17,17,17)\",\"caxis\":{\"gridcolor\":\"#506784\",\"linecolor\":\"#506784\",\"ticks\":\"\"}},\"title\":{\"x\":0.05},\"updatemenudefaults\":{\"bgcolor\":\"#506784\",\"borderwidth\":0},\"xaxis\":{\"automargin\":true,\"gridcolor\":\"#283442\",\"linecolor\":\"#506784\",\"ticks\":\"\",\"title\":{\"standoff\":15},\"zerolinecolor\":\"#283442\",\"zerolinewidth\":2},\"yaxis\":{\"automargin\":true,\"gridcolor\":\"#283442\",\"linecolor\":\"#506784\",\"ticks\":\"\",\"title\":{\"standoff\":15},\"zerolinecolor\":\"#283442\",\"zerolinewidth\":2}}},\"title\":{\"text\":\"train\\u002ftest logarithmic loss comparison\"},\"width\":1000},                        {\"responsive\": true}                    ).then(function(){\n",
       "                            \n",
       "var gd = document.getElementById('934ab8f9-aff2-4370-bb3d-ab1b5f188097');\n",
       "var x = new MutationObserver(function (mutations, observer) {{\n",
       "        var display = window.getComputedStyle(gd).display;\n",
       "        if (!display || display === 'none') {{\n",
       "            console.log([gd, 'removed!']);\n",
       "            Plotly.purge(gd);\n",
       "            observer.disconnect();\n",
       "        }}\n",
       "}});\n",
       "\n",
       "// Listen for the removal of the full notebook cells\n",
       "var notebookContainer = gd.closest('#notebook-container');\n",
       "if (notebookContainer) {{\n",
       "    x.observe(notebookContainer, {childList: true});\n",
       "}}\n",
       "\n",
       "// Listen for the clearing of the current output cell\n",
       "var outputEl = gd.closest('.output');\n",
       "if (outputEl) {{\n",
       "    x.observe(outputEl, {childList: true});\n",
       "}}\n",
       "\n",
       "                        })                };                });            </script>        </div>"
      ]
     },
     "metadata": {},
     "output_type": "display_data"
    }
   ],
   "source": [
    "trace_0 = go.Scatter(y=history.history['loss'],\n",
    "                     name='train',\n",
    "                     mode='lines',\n",
    "                     marker= {'color':'#FF6F61','opacity':0.9})\n",
    "\n",
    "trace_1 = go.Scatter(y=history.history['val_loss'],\n",
    "                     name='test',\n",
    "                     mode='lines',\n",
    "                     marker= {'color':'#1d5dec','opacity':0.9})\n",
    "\n",
    "data = [trace_0,trace_1]\n",
    "\n",
    "layout = go.Layout(title=\"train/test logarithmic loss comparison\",\n",
    "                  template='plotly_dark',\n",
    "                   height=600,\n",
    "                   width=1000)\n",
    "\n",
    "fig = go.Figure(data,layout=layout)\n",
    "fig.show()"
   ]
  },
  {
   "cell_type": "code",
   "execution_count": 29,
   "id": "ddb4724b",
   "metadata": {},
   "outputs": [
    {
     "name": "stdout",
     "output_type": "stream",
     "text": [
      "66/66 [==============================] - 0s 5ms/step\n",
      "Root Mean Squared Error: 55.81160885732388\n"
     ]
    },
    {
     "data": {
      "text/html": [
       "<div>\n",
       "<style scoped>\n",
       "    .dataframe tbody tr th:only-of-type {\n",
       "        vertical-align: middle;\n",
       "    }\n",
       "\n",
       "    .dataframe tbody tr th {\n",
       "        vertical-align: top;\n",
       "    }\n",
       "\n",
       "    .dataframe thead th {\n",
       "        text-align: right;\n",
       "    }\n",
       "</style>\n",
       "<table border=\"1\" class=\"dataframe\">\n",
       "  <thead>\n",
       "    <tr style=\"text-align: right;\">\n",
       "      <th></th>\n",
       "      <th>theta_hat</th>\n",
       "      <th>theta</th>\n",
       "      <th>Difference</th>\n",
       "    </tr>\n",
       "  </thead>\n",
       "  <tbody>\n",
       "    <tr>\n",
       "      <th>0</th>\n",
       "      <td>86.689781</td>\n",
       "      <td>82.853264</td>\n",
       "      <td>3.836517</td>\n",
       "    </tr>\n",
       "    <tr>\n",
       "      <th>1</th>\n",
       "      <td>85.242088</td>\n",
       "      <td>83.788368</td>\n",
       "      <td>1.453720</td>\n",
       "    </tr>\n",
       "    <tr>\n",
       "      <th>2</th>\n",
       "      <td>86.539658</td>\n",
       "      <td>84.504028</td>\n",
       "      <td>2.035629</td>\n",
       "    </tr>\n",
       "    <tr>\n",
       "      <th>3</th>\n",
       "      <td>88.848427</td>\n",
       "      <td>84.685341</td>\n",
       "      <td>4.163086</td>\n",
       "    </tr>\n",
       "    <tr>\n",
       "      <th>4</th>\n",
       "      <td>89.264931</td>\n",
       "      <td>85.878082</td>\n",
       "      <td>3.386848</td>\n",
       "    </tr>\n",
       "    <tr>\n",
       "      <th>...</th>\n",
       "      <td>...</td>\n",
       "      <td>...</td>\n",
       "      <td>...</td>\n",
       "    </tr>\n",
       "    <tr>\n",
       "      <th>2084</th>\n",
       "      <td>632.880554</td>\n",
       "      <td>514.070007</td>\n",
       "      <td>118.810547</td>\n",
       "    </tr>\n",
       "    <tr>\n",
       "      <th>2085</th>\n",
       "      <td>618.866272</td>\n",
       "      <td>513.760010</td>\n",
       "      <td>105.106262</td>\n",
       "    </tr>\n",
       "    <tr>\n",
       "      <th>2086</th>\n",
       "      <td>609.295288</td>\n",
       "      <td>516.340027</td>\n",
       "      <td>92.955261</td>\n",
       "    </tr>\n",
       "    <tr>\n",
       "      <th>2087</th>\n",
       "      <td>615.517883</td>\n",
       "      <td>515.010010</td>\n",
       "      <td>100.507874</td>\n",
       "    </tr>\n",
       "    <tr>\n",
       "      <th>2088</th>\n",
       "      <td>624.086426</td>\n",
       "      <td>513.020020</td>\n",
       "      <td>111.066406</td>\n",
       "    </tr>\n",
       "  </tbody>\n",
       "</table>\n",
       "<p>2089 rows × 3 columns</p>\n",
       "</div>"
      ],
      "text/plain": [
       "       theta_hat       theta  Difference\n",
       "0      86.689781   82.853264    3.836517\n",
       "1      85.242088   83.788368    1.453720\n",
       "2      86.539658   84.504028    2.035629\n",
       "3      88.848427   84.685341    4.163086\n",
       "4      89.264931   85.878082    3.386848\n",
       "...          ...         ...         ...\n",
       "2084  632.880554  514.070007  118.810547\n",
       "2085  618.866272  513.760010  105.106262\n",
       "2086  609.295288  516.340027   92.955261\n",
       "2087  615.517883  515.010010  100.507874\n",
       "2088  624.086426  513.020020  111.066406\n",
       "\n",
       "[2089 rows x 3 columns]"
      ]
     },
     "execution_count": 29,
     "metadata": {},
     "output_type": "execute_result"
    }
   ],
   "source": [
    "# Deploy the model, return predictions, and reformat the X_test data\n",
    "predicted = model.predict(X_test)\n",
    "X_test_rs = X_test.reshape(X_test.shape[0],X_test.shape[2])\n",
    "\n",
    "# Rescale the test data\n",
    "new_df = pd.DataFrame(X_test_rs[:,1:])\n",
    "new_df2 = pd.concat([pd.DataFrame(y_test),pd.DataFrame(new_df)],axis=1)\n",
    "new_df2.columns = df2.columns\n",
    "new_df3 = scaler.inverse_transform(new_df2)\n",
    "new_df3 = pd.DataFrame(new_df3,columns=df2.columns)\n",
    "\n",
    "# Rescale the predictions data\n",
    "new_pred_df = pd.DataFrame(predicted)\n",
    "new_pred = pd.concat([new_pred_df,pd.DataFrame(new_df)],axis=1)\n",
    "new_pred = scaler.inverse_transform(new_pred)\n",
    "new_pred = pd.DataFrame(new_pred,columns=df2.columns)\n",
    "\n",
    "# Create a DataFrame with the predicted and actual values and take the difference between the two\n",
    "results_df = pd.concat([new_pred.iloc[:,0],new_df3.iloc[:,0]],axis=1)\n",
    "results_df.columns = ['theta_hat','theta']\n",
    "results_df['Difference'] = results_df['theta_hat'] - results_df['theta']\n",
    "\n",
    "print(f\"Root Mean Squared Error: {rmse(results_df['theta_hat'],results_df['theta'])}\")\n",
    "\n",
    "results_df"
   ]
  },
  {
   "cell_type": "code",
   "execution_count": 30,
   "id": "d9495228",
   "metadata": {},
   "outputs": [
    {
     "data": {
      "application/vnd.plotly.v1+json": {
       "config": {
        "plotlyServerURL": "https://plot.ly"
       },
       "data": [
        {
         "marker": {
          "color": "#FF6F61",
          "opacity": 0.9
         },
         "mode": "lines",
         "name": "predicted",
         "type": "scatter",
         "y": [
          86.68978118896484,
          85.2420883178711,
          86.53965759277344,
          88.84842681884766,
          89.26493072509766,
          91.43526458740234,
          91.83598327636719,
          93.6541519165039,
          93.05934143066406,
          93.96390533447266,
          94.9825668334961,
          96.51676940917969,
          95.1341323852539,
          97.20061492919922,
          95.9019546508789,
          96.24869537353516,
          96.58893585205078,
          99.59588623046875,
          98.31168365478516,
          98.13494110107422,
          98.06554412841797,
          98.17505645751953,
          99.46890258789062,
          101.26683044433594,
          101.03201293945312,
          100.99803924560547,
          100.23298645019531,
          100.90586853027344,
          100.34503173828125,
          101.2005615234375,
          99.93865203857422,
          100.05575561523438,
          99.55384063720703,
          99.50685119628906,
          100.38780212402344,
          100.96659088134766,
          99.62600708007812,
          99.6468505859375,
          100.71382141113281,
          101.43718719482422,
          101.83212280273438,
          101.07357788085938,
          102.40007019042969,
          103.18584442138672,
          104.59642791748047,
          105.7908706665039,
          106.06869506835938,
          102.13428497314453,
          105.75424194335938,
          103.80535125732422,
          102.81716918945312,
          104.37232971191406,
          104.09571075439453,
          104.64654541015625,
          105.60677337646484,
          107.29928588867188,
          108.6677017211914,
          107.5390396118164,
          106.27037811279297,
          107.04073333740234,
          107.67108917236328,
          105.76797485351562,
          107.8072280883789,
          107.85132598876953,
          106.79447174072266,
          108.85637664794922,
          109.52287292480469,
          108.3681869506836,
          109.1450424194336,
          106.61375427246094,
          106.75929260253906,
          105.62918090820312,
          106.1388168334961,
          105.84918212890625,
          106.9438705444336,
          108.71131134033203,
          108.314453125,
          108.60746002197266,
          109.5462417602539,
          108.55902862548828,
          106.57157897949219,
          103.33186340332031,
          100.25865173339844,
          100.51406860351562,
          98.2480697631836,
          96.11532592773438,
          95.32039642333984,
          94.67221069335938,
          100.64635467529297,
          103.52318572998047,
          113.38137817382812,
          110.92815399169922,
          111.01080322265625,
          105.50521087646484,
          107.50868225097656,
          109.8978042602539,
          111.03466033935547,
          111.21826934814453,
          113.27776336669922,
          112.67343139648438,
          110.94550323486328,
          112.73367309570312,
          109.26600646972656,
          109.90093994140625,
          107.13711547851562,
          103.8354721069336,
          105.05883026123047,
          108.85781860351562,
          107.09904479980469,
          112.43006134033203,
          112.01055145263672,
          111.74958801269531,
          110.10382843017578,
          111.77899169921875,
          110.27418518066406,
          111.87200164794922,
          110.2457504272461,
          110.37129211425781,
          111.83272552490234,
          111.19007873535156,
          111.17321014404297,
          111.80477142333984,
          112.09729766845703,
          110.35177612304688,
          110.45611572265625,
          109.498291015625,
          113.01752471923828,
          114.73100280761719,
          116.03772735595703,
          117.56132507324219,
          116.96133422851562,
          116.51410675048828,
          117.42469787597656,
          118.22228240966797,
          118.22059631347656,
          117.7572250366211,
          118.27986907958984,
          118.00758361816406,
          119.91093444824219,
          119.51239013671875,
          120.59309387207031,
          121.5629653930664,
          120.3049087524414,
          121.01815032958984,
          120.05960845947266,
          116.09869384765625,
          114.63919067382812,
          114.74280548095703,
          120.05767822265625,
          118.77263641357422,
          118.91914367675781,
          119.41768646240234,
          122.45042419433594,
          124.6617202758789,
          127.03904724121094,
          129.01083374023438,
          131.3727264404297,
          131.14309692382812,
          132.11441040039062,
          135.3020782470703,
          135.22207641601562,
          134.3310089111328,
          135.02810668945312,
          136.1456756591797,
          134.5712432861328,
          141.67764282226562,
          138.73672485351562,
          138.6675567626953,
          136.8011016845703,
          135.2023162841797,
          133.7228240966797,
          134.36354064941406,
          135.9962921142578,
          135.881591796875,
          134.66835021972656,
          138.7605743408203,
          137.12928771972656,
          136.0904998779297,
          135.37171936035156,
          128.9469757080078,
          129.4459991455078,
          128.5590362548828,
          127.62361907958984,
          127.05591583251953,
          131.2433319091797,
          132.2707977294922,
          133.7112579345703,
          132.44163513183594,
          131.45152282714844,
          132.0731964111328,
          129.868896484375,
          130.80455017089844,
          130.5072021484375,
          130.8585205078125,
          130.1057586669922,
          128.2438507080078,
          124.01642608642578,
          128.1077117919922,
          126.37688446044922,
          125.45809936523438,
          128.08216857910156,
          126.3826675415039,
          132.0300750732422,
          135.585205078125,
          135.3018341064453,
          134.9466552734375,
          134.4257049560547,
          135.50881958007812,
          134.54161071777344,
          134.38401794433594,
          134.235107421875,
          137.39096069335938,
          138.19142150878906,
          137.6622772216797,
          138.1502227783203,
          136.8589324951172,
          135.2425537109375,
          137.3695068359375,
          136.70326232910156,
          128.25686645507812,
          129.26287841796875,
          132.37103271484375,
          134.37847900390625,
          134.96136474609375,
          135.4688262939453,
          137.3398895263672,
          137.87191772460938,
          137.04495239257812,
          135.60255432128906,
          140.14898681640625,
          140.9591064453125,
          139.469970703125,
          138.3352813720703,
          139.3521270751953,
          139.8858642578125,
          141.1130828857422,
          142.59353637695312,
          143.94412231445312,
          143.07040405273438,
          142.73377990722656,
          142.47666931152344,
          146.97637939453125,
          142.69113159179688,
          142.12269592285156,
          141.7908935546875,
          141.8656005859375,
          142.56631469726562,
          137.878173828125,
          141.707763671875,
          139.0955047607422,
          140.3145294189453,
          142.5072784423828,
          142.1463165283203,
          137.04180908203125,
          139.9632110595703,
          139.8675537109375,
          138.02732849121094,
          141.84463500976562,
          143.00172424316406,
          144.63543701171875,
          144.27520751953125,
          144.2549591064453,
          147.47227478027344,
          147.04481506347656,
          145.78289794921875,
          144.67254638671875,
          146.36386108398438,
          145.51736450195312,
          146.86337280273438,
          146.89517211914062,
          146.39541625976562,
          146.34988403320312,
          145.66049194335938,
          144.9330291748047,
          146.203369140625,
          146.71951293945312,
          145.5710906982422,
          145.49566650390625,
          138.914306640625,
          139.98875427246094,
          142.03981018066406,
          142.48365783691406,
          143.14341735839844,
          143.57257080078125,
          144.0978546142578,
          144.94097900390625,
          146.4108428955078,
          146.22096252441406,
          146.29685974121094,
          145.5045928955078,
          147.2821502685547,
          147.13661193847656,
          146.3571014404297,
          144.61520385742188,
          143.86630249023438,
          144.64291381835938,
          144.46556091308594,
          150.66452026367188,
          152.39125061035156,
          158.82081604003906,
          159.0899658203125,
          154.62689208984375,
          157.3475799560547,
          157.90492248535156,
          157.69142150878906,
          159.2227325439453,
          158.97743225097656,
          158.15335083007812,
          158.18563842773438,
          153.9618377685547,
          153.61509704589844,
          154.7842254638672,
          155.0880889892578,
          155.95265197753906,
          156.39842224121094,
          158.3273162841797,
          156.4866180419922,
          158.57357788085938,
          157.88925170898438,
          160.0275421142578,
          161.60704040527344,
          162.79666137695312,
          163.12484741210938,
          163.73544311523438,
          161.4911346435547,
          161.4169158935547,
          161.60293579101562,
          159.7552490234375,
          159.27645874023438,
          160.31716918945312,
          159.81211853027344,
          160.59283447265625,
          160.83282470703125,
          163.43907165527344,
          164.56675720214844,
          164.09640502929688,
          163.1841278076172,
          161.93980407714844,
          163.20098876953125,
          164.13592529296875,
          163.7889404296875,
          163.23568725585938,
          162.77352905273438,
          163.6371307373047,
          164.16580200195312,
          164.60098266601562,
          163.6838836669922,
          165.54747009277344,
          164.33737182617188,
          165.1026611328125,
          168.70358276367188,
          166.81541442871094,
          168.5218963623047,
          168.7141876220703,
          168.69972229003906,
          169.4626007080078,
          172.97052001953125,
          172.58160400390625,
          177.79141235351562,
          173.39749145507812,
          171.14161682128906,
          171.18499755859375,
          174.52615356445312,
          176.09095764160156,
          175.62156677246094,
          175.9839630126953,
          172.8977508544922,
          178.0032196044922,
          182.24220275878906,
          181.38101196289062,
          180.967041015625,
          183.12413024902344,
          182.45472717285156,
          181.2475128173828,
          181.4879913330078,
          182.45521545410156,
          179.0465850830078,
          184.57278442382812,
          187.45852661132812,
          188.70718383789062,
          190.63632202148438,
          191.37655639648438,
          192.22377014160156,
          191.11294555664062,
          195.33987426757812,
          199.2400665283203,
          196.50660705566406,
          201.62510681152344,
          199.15187072753906,
          201.49642944335938,
          206.13491821289062,
          208.65826416015625,
          208.39320373535156,
          207.3922576904297,
          214.91505432128906,
          211.43702697753906,
          204.3282012939453,
          203.0419464111328,
          198.9219970703125,
          187.15347290039062,
          186.3009490966797,
          189.71295166015625,
          189.7418670654297,
          184.69277954101562,
          189.39248657226562,
          191.28353881835938,
          194.8116912841797,
          195.29794311523438,
          196.19046020507812,
          198.40634155273438,
          198.70755004882812,
          194.8762664794922,
          196.0121612548828,
          196.766357421875,
          197.55575561523438,
          196.9427490234375,
          198.9282684326172,
          198.78753662109375,
          200.68052673339844,
          204.90264892578125,
          203.0973663330078,
          205.91419982910156,
          204.90264892578125,
          207.96478271484375,
          207.00816345214844,
          205.93154907226562,
          205.67662048339844,
          206.80479431152344,
          208.80284118652344,
          208.45875549316406,
          210.6857147216797,
          208.85633850097656,
          205.40769958496094,
          205.2549285888672,
          207.22984313964844,
          203.50990295410156,
          199.9764404296875,
          205.1696319580078,
          204.93252563476562,
          201.81787109375,
          201.81112670898438,
          203.7469940185547,
          198.60874938964844,
          198.44248962402344,
          202.84725952148438,
          199.81741333007812,
          202.26026916503906,
          201.95425415039062,
          198.82754516601562,
          204.4038543701172,
          205.9585418701172,
          206.4833526611328,
          203.8930206298828,
          200.3465576171875,
          200.8651123046875,
          199.05018615722656,
          203.91856384277344,
          200.13162231445312,
          205.52818298339844,
          208.56285095214844,
          233.04302978515625,
          234.75096130371094,
          232.02134704589844,
          231.7375030517578,
          236.2882843017578,
          228.7678985595703,
          230.12594604492188,
          229.1568145751953,
          224.8113250732422,
          229.55921936035156,
          228.07730102539062,
          225.31637573242188,
          224.49566650390625,
          222.78675842285156,
          224.89083862304688,
          226.1587677001953,
          223.92169189453125,
          223.66290283203125,
          227.9741668701172,
          225.55348205566406,
          224.89950561523438,
          234.94998168945312,
          237.7595977783203,
          242.41880798339844,
          246.8587646484375,
          236.93887329101562,
          235.50131225585938,
          231.62521362304688,
          233.83433532714844,
          234.55722045898438,
          232.35194396972656,
          233.24349975585938,
          239.37017822265625,
          238.41500854492188,
          243.16482543945312,
          246.1792449951172,
          246.4828643798828,
          238.2863311767578,
          240.3026885986328,
          236.71815490722656,
          244.16818237304688,
          241.87135314941406,
          243.53445434570312,
          243.38072204589844,
          244.27613830566406,
          240.37112426757812,
          237.34609985351562,
          235.7022705078125,
          247.7681427001953,
          253.22061157226562,
          246.3734588623047,
          241.6997833251953,
          245.53057861328125,
          249.61920166015625,
          245.386962890625,
          247.57200622558594,
          250.95413208007812,
          253.3304901123047,
          259.8335266113281,
          239.39572143554688,
          233.139892578125,
          227.43731689453125,
          226.59877014160156,
          232.00254821777344,
          232.1871337890625,
          228.96597290039062,
          229.08885192871094,
          230.27728271484375,
          230.48257446289062,
          232.79000854492188,
          232.42086791992188,
          232.07772827148438,
          233.6242218017578,
          228.37368774414062,
          232.92832946777344,
          230.9722137451172,
          233.94615173339844,
          230.956787109375,
          232.5880889892578,
          233.94615173339844,
          239.50270080566406,
          241.3822021484375,
          243.7127685546875,
          245.05154418945312,
          244.572998046875,
          247.9715118408203,
          250.4158172607422,
          243.4048309326172,
          245.83322143554688,
          243.92529296875,
          244.018310546875,
          245.7512969970703,
          245.96913146972656,
          250.5396728515625,
          252.0794219970703,
          252.82302856445312,
          259.6759338378906,
          252.4509735107422,
          255.90298461914062,
          256.9955139160156,
          258.7424621582031,
          262.0079650878906,
          265.37371826171875,
          262.6889343261719,
          263.667236328125,
          264.1636047363281,
          260.6566467285156,
          262.9934997558594,
          249.26451110839844,
          246.12574768066406,
          238.95379638671875,
          241.90219116210938,
          227.2349090576172,
          232.50086975097656,
          249.84329223632812,
          243.3489227294922,
          249.0351104736328,
          247.19947814941406,
          248.0177764892578,
          245.6337127685547,
          253.33482360839844,
          251.67074584960938,
          245.94888305664062,
          263.111572265625,
          254.21722412109375,
          243.5648193359375,
          222.3202667236328,
          244.1999969482422,
          240.79087829589844,
          239.5504150390625,
          236.29840087890625,
          234.8015594482422,
          246.7903289794922,
          250.43943786621094,
          247.40863037109375,
          243.6631317138672,
          241.40196228027344,
          245.1522674560547,
          245.8597412109375,
          239.9446258544922,
          223.45037841796875,
          230.27342224121094,
          229.2146453857422,
          217.8249053955078,
          235.95431518554688,
          237.5277862548828,
          248.02597045898438,
          232.2791748046875,
          239.09982299804688,
          258.33233642578125,
          256.1795959472656,
          263.7506103515625,
          247.02549743652344,
          247.5117645263672,
          244.3845672607422,
          246.42503356933594,
          248.42308044433594,
          232.4049530029297,
          214.02349853515625,
          215.638427734375,
          208.7059783935547,
          197.82803344726562,
          183.79640197753906,
          157.14805603027344,
          194.32591247558594,
          201.83425903320312,
          203.056884765625,
          207.4452667236328,
          209.23223876953125,
          192.9866485595703,
          218.60560607910156,
          228.95391845703125,
          236.12925720214844,
          236.8800811767578,
          238.77740478515625,
          239.0270538330078,
          232.55242919921875,
          239.70077514648438,
          238.69789123535156,
          241.3229217529297,
          250.32666015625,
          242.56195068359375,
          243.4906005859375,
          243.65542602539062,
          246.84719848632812,
          237.6140594482422,
          235.19432067871094,
          246.02647399902344,
          228.54428100585938,
          240.37545776367188,
          248.1127166748047,
          253.4630126953125,
          249.3411407470703,
          239.83233642578125,
          235.15528869628906,
          235.97744750976562,
          246.94935607910156,
          250.86207580566406,
          249.93197631835938,
          260.040771484375,
          263.2744445800781,
          264.629150390625,
          263.1727600097656,
          265.923583984375,
          267.6546325683594,
          268.6599426269531,
          267.4710388183594,
          267.49176025390625,
          272.453125,
          266.145263671875,
          265.26190185546875,
          262.98291015625,
          257.2355041503906,
          258.3289794921875,
          273.61553955078125,
          276.8005676269531,
          281.8963928222656,
          284.5691223144531,
          289.44281005859375,
          292.898193359375,
          290.1338806152344,
          287.23272705078125,
          290.1878662109375,
          275.47479248046875,
          275.3677978515625,
          282.7898864746094,
          276.7731018066406,
          276.1441650390625,
          285.9069519042969,
          291.71746826171875,
          292.98638916015625,
          297.9694519042969,
          303.703369140625,
          306.69512939453125,
          308.0652160644531,
          302.4137268066406,
          306.5413818359375,
          306.5780334472656,
          312.2208557128906,
          313.5653991699219,
          311.19146728515625,
          307.7013854980469,
          308.48016357421875,
          305.28070068359375,
          316.67572021484375,
          309.94281005859375,
          307.3018798828125,
          315.5885009765625,
          319.6289367675781,
          305.2021179199219,
          305.23779296875,
          301.2629089355469,
          311.56158447265625,
          306.5804443359375,
          292.4201354980469,
          292.1550598144531,
          286.2621154785156,
          287.8201904296875,
          268.20452880859375,
          274.56298828125,
          280.3605041503906,
          284.5647888183594,
          276.9190979003906,
          262.2715759277344,
          269.61077880859375,
          261.0470275878906,
          261.0552062988281,
          259.6961975097656,
          243.04530334472656,
          230.27630615234375,
          231.32208251953125,
          217.81044006347656,
          238.60922241210938,
          254.66636657714844,
          249.79269409179688,
          257.02490234375,
          253.01242065429688,
          260.742431640625,
          267.2271728515625,
          266.27105712890625,
          276.45501708984375,
          278.33258056640625,
          282.5310974121094,
          298.0238952636719,
          302.1452941894531,
          300.3332824707031,
          305.44549560546875,
          300.8788146972656,
          299.1053466796875,
          291.5015869140625,
          298.4094543457031,
          300.8990478515625,
          306.1838073730469,
          301.01568603515625,
          308.12982177734375,
          307.9505310058594,
          301.2441101074219,
          299.4908752441406,
          303.20263671875,
          300.1106262207031,
          302.4614562988281,
          303.82623291015625,
          304.8527526855469,
          298.62921142578125,
          302.2571105957031,
          293.6403503417969,
          290.9290466308594,
          301.2219543457031,
          309.6507568359375,
          300.5009765625,
          307.6864318847656,
          306.1664733886719,
          309.3509826660156,
          304.0373229980469,
          286.1368408203125,
          286.7026062011719,
          264.1457824707031,
          265.3852844238281,
          257.2774353027344,
          266.6324768066406,
          264.8416748046875,
          256.5140686035156,
          269.33123779296875,
          237.68247985839844,
          232.11146545410156,
          249.78836059570312,
          259.134765625,
          249.28619384765625,
          249.02113342285156,
          250.5266571044922,
          229.59197998046875,
          236.06997680664062,
          232.2242431640625,
          237.42127990722656,
          251.69869995117188,
          251.96376037597656,
          242.00146484375,
          244.22698974609375,
          250.87075805664062,
          256.82537841796875,
          274.3114318847656,
          300.2908630371094,
          316.60296630859375,
          306.1741638183594,
          303.7481689453125,
          303.72601318359375,
          301.31060791015625,
          303.166015625,
          301.9525451660156,
          305.86767578125,
          300.95977783203125,
          293.5160217285156,
          299.4552307128906,
          292.6369934082031,
          296.5733337402344,
          291.9989318847656,
          279.81689453125,
          263.9134826660156,
          269.95294189453125,
          279.28680419921875,
          276.20538330078125,
          262.6971130371094,
          264.6720275878906,
          269.23870849609375,
          283.97491455078125,
          280.88580322265625,
          292.195556640625,
          288.0934143066406,
          298.4769287109375,
          307.0609130859375,
          307.1929626464844,
          326.8168029785156,
          332.01385498046875,
          327.012451171875,
          332.3386535644531,
          326.3965759277344,
          325.7382507324219,
          324.9199523925781,
          320.3503723144531,
          332.8437194824219,
          343.60791015625,
          352.5745544433594,
          352.6275634765625,
          354.136962890625,
          353.64923095703125,
          347.2599182128906,
          349.77459716796875,
          347.1124572753906,
          344.6662292480469,
          352.5697326660156,
          352.5186462402344,
          344.6941833496094,
          335.8644104003906,
          332.5246887207031,
          341.445068359375,
          340.1968688964844,
          341.3515625,
          344.4811706542969,
          336.3501892089844,
          335.36322021484375,
          322.6375732421875,
          330.9555358886719,
          326.17681884765625,
          339.963623046875,
          340.8224182128906,
          339.075927734375,
          338.5284729003906,
          346.8907775878906,
          339.5028991699219,
          350.93121337890625,
          353.1335754394531,
          355.2617492675781,
          357.0198059082031,
          365.0804443359375,
          368.8885803222656,
          368.92230224609375,
          375.3540344238281,
          370.76904296875,
          367.58642578125,
          369.8350830078125,
          375.0909118652344,
          369.5353088378906,
          372.0008239746094,
          369.5198974609375,
          367.235595703125,
          368.17340087890625,
          357.4583435058594,
          359.3600158691406,
          373.5738220214844,
          372.9049072265625,
          369.6933898925781,
          373.3791198730469,
          380.1404724121094,
          374.01910400390625,
          370.7767333984375,
          355.9933166503906,
          347.8671569824219,
          352.5427551269531,
          355.25115966796875,
          354.11285400390625,
          331.83843994140625,
          319.5002746582031,
          335.76416015625,
          356.3653564453125,
          359.4371337890625,
          356.94464111328125,
          365.90740966796875,
          362.2920227050781,
          370.5184326171875,
          362.5647888183594,
          355.061279296875,
          350.87530517578125,
          352.73553466796875,
          342.2431335449219,
          333.66107177734375,
          303.091796875,
          301.7481994628906,
          309.1322021484375,
          261.7322998046875,
          237.8048858642578,
          277.4217529296875,
          266.5168151855469,
          317.3586120605469,
          284.2823791503906,
          263.86431884765625,
          199.5547637939453,
          234.03627014160156,
          173.8480987548828,
          128.72096252441406,
          163.28147888183594,
          116.29315185546875,
          145.17181396484375,
          127.79325866699219,
          128.03518676757812,
          118.1495132446289,
          120.28105163574219,
          128.30313110351562,
          115.1505126953125,
          142.59547424316406,
          138.05624389648438,
          151.9519805908203,
          159.69357299804688,
          141.36705017089844,
          144.2894287109375,
          140.76319885253906,
          148.4296112060547,
          156.4410858154297,
          177.6147918701172,
          201.8458251953125,
          196.69985961914062,
          229.1004180908203,
          222.63302612304688,
          258.1993408203125,
          269.03631591796875,
          257.9294738769531,
          225.5954132080078,
          233.18325805664062,
          235.44540405273438,
          248.31463623046875,
          258.70391845703125,
          251.3787078857422,
          250.5729217529297,
          258.79547119140625,
          229.70668029785156,
          235.5697479248047,
          238.30899047851562,
          233.64976501464844,
          239.3277587890625,
          256.8282775878906,
          257.7525939941406,
          247.69874572753906,
          226.61178588867188,
          224.78143310546875,
          230.88160705566406,
          258.9699401855469,
          235.46083068847656,
          243.92433166503906,
          239.874267578125,
          241.88002014160156,
          237.9928436279297,
          272.42132568359375,
          263.720703125,
          278.2651062011719,
          280.6332702636719,
          290.9165344238281,
          302.55010986328125,
          309.0339050292969,
          329.8885803222656,
          355.060302734375,
          337.0200500488281,
          325.5406799316406,
          274.3991394042969,
          280.5552062988281,
          294.8663635253906,
          303.4956359863281,
          301.45806884765625,
          299.5506286621094,
          314.4892578125,
          304.5443115234375,
          310.02569580078125,
          296.1087646484375,
          305.9505615234375,
          285.30792236328125,
          301.19012451171875,
          320.62603759765625,
          311.8589172363281,
          319.25738525390625,
          339.482666015625,
          332.5208435058594,
          345.2541809082031,
          348.215087890625,
          362.69781494140625,
          357.70703125,
          360.0163879394531,
          359.6617126464844,
          368.56280517578125,
          361.0766296386719,
          356.2651062011719,
          369.4148254394531,
          365.1382751464844,
          352.3692626953125,
          346.82330322265625,
          356.7007751464844,
          353.7552795410156,
          368.8982238769531,
          353.59912109375,
          360.31036376953125,
          359.7214660644531,
          363.4515380859375,
          337.36126708984375,
          347.2926940917969,
          350.25457763671875,
          373.265380859375,
          342.3163757324219,
          372.0788879394531,
          371.3772277832031,
          366.9724426269531,
          366.3912658691406,
          367.0013732910156,
          358.7682189941406,
          354.802001953125,
          361.6375732421875,
          362.6920166015625,
          359.4149475097656,
          371.38397216796875,
          359.4429016113281,
          348.11968994140625,
          362.5088806152344,
          383.6912841796875,
          406.3628234863281,
          380.1279602050781,
          385.5119934082031,
          342.6383056640625,
          353.9210510253906,
          339.56268310546875,
          347.7688293457031,
          351.29071044921875,
          359.686767578125,
          341.7525329589844,
          335.1559753417969,
          323.53009033203125,
          316.8362121582031,
          316.82366943359375,
          300.1530456542969,
          293.24420166015625,
          312.40155029296875,
          324.9700927734375,
          321.7845764160156,
          330.9526672363281,
          330.2962951660156,
          324.312744140625,
          345.7669372558594,
          333.41143798828125,
          346.9649963378906,
          356.98028564453125,
          356.66607666015625,
          387.40594482421875,
          391.9118957519531,
          385.551513671875,
          390.8083190917969,
          389.82421875,
          378.5790710449219,
          388.5461730957031,
          380.4537353515625,
          388.33892822265625,
          408.0447082519531,
          400.2231140136719,
          389.0136413574219,
          379.223876953125,
          378.74578857421875,
          376.65521240234375,
          367.6018371582031,
          367.2779846191406,
          383.2778015136719,
          394.37451171875,
          383.7770690917969,
          434.8096923828125,
          424.8194580078125,
          418.537109375,
          418.2518310546875,
          426.734619140625,
          414.837890625,
          425.0565490722656,
          437.0670166015625,
          426.2816162109375,
          398.21832275390625,
          420.462890625,
          439.59613037109375,
          436.298828125,
          425.97027587890625,
          422.1438293457031,
          418.5843505859375,
          422.4387512207031,
          407.24859619140625,
          426.4203796386719,
          416.52655029296875,
          413.0335693359375,
          410.1690368652344,
          394.615478515625,
          382.794921875,
          399.241943359375,
          394.19140625,
          387.0782165527344,
          395.4096984863281,
          410.8292541503906,
          396.02655029296875,
          393.57550048828125,
          383.6980285644531,
          399.8086853027344,
          417.0605163574219,
          425.3727111816406,
          451.4427490234375,
          449.4504699707031,
          445.9093017578125,
          427.953857421875,
          424.3837890625,
          417.8335266113281,
          424.6363220214844,
          413.99932861328125,
          402.3426208496094,
          408.343505859375,
          375.8687438964844,
          370.36517333984375,
          373.7945251464844,
          385.0666809082031,
          384.75054931640625,
          376.9646301269531,
          377.3385925292969,
          373.8109130859375,
          361.1363830566406,
          374.01141357421875,
          366.5715026855469,
          369.2172546386719,
          388.4488220214844,
          386.0719909667969,
          393.173583984375,
          388.3447265625,
          384.5317687988281,
          377.7867736816406,
          379.5158996582031,
          393.00201416015625,
          388.56640625,
          390.8574523925781,
          383.3375549316406,
          385.24017333984375,
          378.7535095214844,
          393.0222473144531,
          409.48663330078125,
          440.5233459472656,
          427.1567687988281,
          430.8193664550781,
          434.0260925292969,
          443.0871887207031,
          448.64276123046875,
          427.97216796875,
          444.3083801269531,
          482.0052490234375,
          485.4403991699219,
          494.6566467285156,
          490.30780029296875,
          485.0268859863281,
          475.7672424316406,
          478.3079528808594,
          463.80401611328125,
          440.9715270996094,
          424.2141418457031,
          425.3765563964844,
          420.8069763183594,
          433.9836730957031,
          427.3331604003906,
          434.3778991699219,
          427.18280029296875,
          420.5525207519531,
          415.3708801269531,
          422.8589782714844,
          427.53363037109375,
          430.6680603027344,
          432.8472900390625,
          445.0611267089844,
          446.2803955078125,
          446.7170104980469,
          442.7093505859375,
          443.3955993652344,
          453.55645751953125,
          451.8196105957031,
          445.57196044921875,
          438.1937561035156,
          445.4533996582031,
          448.3767395019531,
          450.99261474609375,
          451.05816650390625,
          454.74871826171875,
          465.48785400390625,
          441.2134704589844,
          431.4237060546875,
          423.9433288574219,
          417.5954284667969,
          402.8563537597656,
          413.60321044921875,
          407.4085693359375,
          399.9368591308594,
          409.8133850097656,
          398.057373046875,
          393.81646728515625,
          390.341796875,
          390.99432373046875,
          396.9161682128906,
          394.2550048828125,
          405.7787170410156,
          404.9613952636719,
          408.58447265625,
          393.7355041503906,
          383.1987609863281,
          381.0580749511719,
          374.8721008300781,
          374.3651428222656,
          388.3717041015625,
          378.0884704589844,
          381.7298583984375,
          372.66973876953125,
          374.44512939453125,
          368.419189453125,
          364.756591796875,
          364.9242858886719,
          369.6615905761719,
          378.8595275878906,
          376.798828125,
          381.4166259765625,
          393.2873229980469,
          394.03717041015625,
          403.12237548828125,
          397.6400146484375,
          389.1678466796875,
          400.29541015625,
          369.0726623535156,
          364.9580078125,
          360.5542297363281,
          372.47119140625,
          373.1632080078125,
          375.1622314453125,
          365.1710205078125,
          368.16375732421875,
          367.2413635253906,
          374.5155029296875,
          390.7215576171875,
          403.3334655761719,
          396.3282470703125,
          391.39239501953125,
          350.13507080078125,
          365.13055419921875,
          376.61956787109375,
          381.0792541503906,
          398.5923156738281,
          392.50274658203125,
          384.995361328125,
          373.6518859863281,
          386.1953430175781,
          383.9110412597656,
          368.7960510253906,
          376.24365234375,
          374.1068115234375,
          372.0335998535156,
          372.3208312988281,
          372.0384216308594,
          376.0017395019531,
          382.776611328125,
          393.09552001953125,
          392.543212890625,
          387.17462158203125,
          383.48309326171875,
          381.2334899902344,
          378.8431396484375,
          383.9100646972656,
          388.38232421875,
          390.08734130859375,
          394.3928527832031,
          389.695068359375,
          393.21405029296875,
          398.6983337402344,
          397.3739929199219,
          397.8009948730469,
          410.3357849121094,
          406.13726806640625,
          404.1083679199219,
          400.5575866699219,
          401.9763488769531,
          399.4617004394531,
          402.6539306640625,
          400.7831115722656,
          404.385009765625,
          403.0259704589844,
          400.11614990234375,
          387.9572448730469,
          384.6329650878906,
          390.4054260253906,
          393.78466796875,
          388.9249572753906,
          391.3779296875,
          381.37420654296875,
          381.1872253417969,
          378.1424255371094,
          375.98919677734375,
          367.2519836425781,
          376.1357116699219,
          378.0180969238281,
          377.9381103515625,
          378.26483154296875,
          380.8055419921875,
          380.3120422363281,
          384.7168273925781,
          392.470947265625,
          392.05938720703125,
          398.354248046875,
          399.33447265625,
          403.63031005859375,
          409.26397705078125,
          407.7362976074219,
          405.7604064941406,
          410.1671142578125,
          433.94415283203125,
          457.9930114746094,
          456.1800231933594,
          454.14727783203125,
          462.0488586425781,
          471.802001953125,
          479.3055114746094,
          471.4714050292969,
          461.32696533203125,
          475.19281005859375,
          473.2921142578125,
          486.0967712402344,
          496.3077087402344,
          493.523193359375,
          496.1419372558594,
          514.8463134765625,
          512.3075561523438,
          510.27960205078125,
          505.5259094238281,
          505.6184387207031,
          503.8199157714844,
          485.43365478515625,
          499.84503173828125,
          483.088623046875,
          475.5821838378906,
          476.2347106933594,
          476.982666015625,
          478.4101257324219,
          487.8336181640625,
          488.33673095703125,
          476.7532653808594,
          484.2423400878906,
          478.9710693359375,
          470.93359375,
          483.6640319824219,
          476.1026611328125,
          471.23236083984375,
          458.8970947265625,
          467.1755676269531,
          474.74365234375,
          487.4365234375,
          496.2874755859375,
          494.5477600097656,
          495.94146728515625,
          493.88848876953125,
          493.47210693359375,
          496.0947265625,
          496.7501220703125,
          485.47796630859375,
          482.0129699707031,
          486.73577880859375,
          495.2089538574219,
          498.12939453125,
          497.5115661621094,
          489.3025207519531,
          493.6398010253906,
          468.5673522949219,
          457.9149475097656,
          452.8171691894531,
          454.0431823730469,
          463.1833190917969,
          442.3026123046875,
          434.9764404296875,
          435.55377197265625,
          419.45855712890625,
          444.6351013183594,
          436.9301452636719,
          440.146484375,
          428.6044616699219,
          430.80010986328125,
          425.45751953125,
          428.3451843261719,
          438.5272216796875,
          431.23382568359375,
          413.4383850097656,
          412.60369873046875,
          425.2474060058594,
          424.26910400390625,
          410.40130615234375,
          406.74737548828125,
          405.36907958984375,
          406.5738830566406,
          420.0898742675781,
          423.1915283203125,
          422.7279052734375,
          415.9742736816406,
          432.136962890625,
          428.61505126953125,
          433.4757385253906,
          421.5414123535156,
          414.1236877441406,
          422.95538330078125,
          421.54913330078125,
          415.31500244140625,
          402.03131103515625,
          407.1252136230469,
          416.84942626953125,
          423.77752685546875,
          419.4990234375,
          421.06719970703125,
          430.0020446777344,
          424.0773010253906,
          435.022705078125,
          435.5065612792969,
          435.7966613769531,
          440.4713134765625,
          442.65924072265625,
          431.099853515625,
          426.3143615722656,
          431.84490966796875,
          422.6238098144531,
          426.623779296875,
          435.55859375,
          433.4622497558594,
          421.31201171875,
          427.30712890625,
          440.0067443847656,
          434.0520935058594,
          431.68780517578125,
          444.088623046875,
          438.5098876953125,
          429.4969787597656,
          419.1414489746094,
          421.58477783203125,
          402.85247802734375,
          414.5516357421875,
          437.8265075683594,
          422.4705505371094,
          413.3670654296875,
          411.9868469238281,
          420.961181640625,
          407.5367736816406,
          398.2443542480469,
          375.7203063964844,
          372.7940673828125,
          371.87457275390625,
          364.681396484375,
          377.94677734375,
          373.8562316894531,
          382.79974365234375,
          390.17987060546875,
          386.2994384765625,
          393.0097351074219,
          406.33099365234375,
          396.65496826171875,
          401.5879211425781,
          403.04815673828125,
          409.120361328125,
          411.5906982421875,
          413.8133239746094,
          416.9853210449219,
          412.6191101074219,
          416.3067932128906,
          420.42913818359375,
          420.70770263671875,
          405.863525390625,
          389.6979675292969,
          374.7391052246094,
          379.53228759765625,
          380.4604797363281,
          360.277587890625,
          362.87322998046875,
          367.1536560058594,
          365.3830871582031,
          361.9411926269531,
          373.4436950683594,
          374.17138671875,
          362.16961669921875,
          370.02398681640625,
          359.7706298828125,
          360.93011474609375,
          360.05975341796875,
          359.78411865234375,
          362.54937744140625,
          357.5576171875,
          362.6958923339844,
          363.3464660644531,
          368.9059143066406,
          370.94927978515625,
          375.50439453125,
          381.1216735839844,
          382.2310485839844,
          383.0908203125,
          389.138916015625,
          390.51434326171875,
          389.4097595214844,
          390.2483215332031,
          389.71435546875,
          406.122802734375,
          404.49005126953125,
          399.1831359863281,
          402.1016540527344,
          406.62689208984375,
          406.63653564453125,
          406.7589416503906,
          396.82171630859375,
          388.9056701660156,
          396.9132995605469,
          395.5754699707031,
          412.1198425292969,
          405.1329345703125,
          403.7016296386719,
          402.109375,
          403.6784973144531,
          397.8193054199219,
          387.1158142089844,
          384.5259704589844,
          386.0054626464844,
          392.0786437988281,
          374.48175048828125,
          368.5550842285156,
          367.457275390625,
          366.2428283691406,
          364.8452453613281,
          365.309814453125,
          368.7411193847656,
          371.9458923339844,
          372.9781494140625,
          373.43792724609375,
          379.1602478027344,
          369.0871276855469,
          369.28472900390625,
          357.2781066894531,
          357.0699157714844,
          354.14178466796875,
          355.4053649902344,
          345.8787536621094,
          336.338623046875,
          332.2403564453125,
          330.4100036621094,
          325.7257385253906,
          328.1536560058594,
          324.921875,
          325.5030822753906,
          328.7608642578125,
          340.3154296875,
          345.144287109375,
          340.1698913574219,
          339.6658020019531,
          336.2422180175781,
          328.51318359375,
          324.5276794433594,
          334.9208068847656,
          331.4008483886719,
          336.1333312988281,
          342.8021545410156,
          339.650390625,
          337.819091796875,
          342.08795166015625,
          345.5683898925781,
          350.0367736816406,
          355.7118835449219,
          355.4892272949219,
          363.3830871582031,
          368.6302795410156,
          385.0079040527344,
          368.71893310546875,
          354.5552673339844,
          368.36712646484375,
          377.3289489746094,
          375.8118591308594,
          366.3642578125,
          387.6767883300781,
          389.9514465332031,
          390.8622741699219,
          394.52392578125,
          394.985595703125,
          390.67626953125,
          395.92437744140625,
          389.4839782714844,
          396.4593200683594,
          401.33154296875,
          405.1319885253906,
          397.48291015625,
          396.7359313964844,
          407.5309753417969,
          418.7674865722656,
          416.9988098144531,
          416.8927917480469,
          406.8533935546875,
          408.1758117675781,
          412.9034423828125,
          410.304931640625,
          420.95635986328125,
          418.27301025390625,
          420.35491943359375,
          408.15460205078125,
          410.98443603515625,
          405.53582763671875,
          408.306884765625,
          409.0500183105469,
          405.5589599609375,
          407.74688720703125,
          413.820068359375,
          412.6287536621094,
          415.08367919921875,
          415.22149658203125,
          416.4446105957031,
          433.2771911621094,
          434.88775634765625,
          463.4425964355469,
          475.1436462402344,
          465.59869384765625,
          475.2651062011719,
          477.0761413574219,
          458.09228515625,
          458.5057678222656,
          457.113037109375,
          460.8883972167969,
          466.7909851074219,
          462.2290954589844,
          468.37359619140625,
          476.057373046875,
          448.47698974609375,
          429.0622863769531,
          432.33551025390625,
          420.43011474609375,
          424.7606506347656,
          423.8353576660156,
          424.1919860839844,
          426.0888366699219,
          421.3650207519531,
          414.6036682128906,
          420.3626403808594,
          413.3670654296875,
          416.1814880371094,
          412.0822448730469,
          410.916015625,
          419.4701232910156,
          406.0013732910156,
          407.049072265625,
          406.21051025390625,
          402.4216613769531,
          403.9946594238281,
          408.0553283691406,
          410.0244445800781,
          410.7569885253906,
          411.9781494140625,
          410.7213134765625,
          420.0522766113281,
          414.4783630371094,
          413.4808044433594,
          413.3728332519531,
          406.0052185058594,
          402.83612060546875,
          411.6273193359375,
          405.67462158203125,
          394.12969970703125,
          405.0567932128906,
          397.60919189453125,
          398.19232177734375,
          399.8414306640625,
          402.40142822265625,
          394.9296875,
          401.8298645019531,
          405.6784973144531,
          407.7237548828125,
          406.5931701660156,
          404.6047668457031,
          403.126220703125,
          401.275634765625,
          402.64044189453125,
          399.18121337890625,
          393.1157531738281,
          400.7291564941406,
          396.8304138183594,
          402.7358703613281,
          409.2813415527344,
          410.1661376953125,
          407.9627990722656,
          412.39068603515625,
          417.09039306640625,
          418.92266845703125,
          420.3356628417969,
          416.61328125,
          416.6344909667969,
          427.29364013671875,
          433.8564453125,
          434.0945129394531,
          441.07080078125,
          441.44573974609375,
          446.2080993652344,
          453.78680419921875,
          455.0436706542969,
          448.10302734375,
          449.74346923828125,
          451.7935791015625,
          448.0548400878906,
          447.5449523925781,
          446.7536315917969,
          456.0489501953125,
          463.0801696777344,
          446.47509765625,
          448.527099609375,
          436.3248596191406,
          429.4054260253906,
          427.6011047363281,
          430.7490234375,
          417.3988342285156,
          414.0581359863281,
          413.31982421875,
          408.9343566894531,
          404.9642639160156,
          430.7605895996094,
          412.6836853027344,
          403.0539245605469,
          406.4090881347656,
          414.3771667480469,
          405.7738952636719,
          415.9231872558594,
          416.0195617675781,
          402.2742004394531,
          405.22064208984375,
          410.8870849609375,
          411.2466125488281,
          418.7674865722656,
          422.181396484375,
          427.6329040527344,
          421.0103454589844,
          425.66473388671875,
          428.9263916015625,
          429.1181945800781,
          428.6728820800781,
          431.1759948730469,
          424.69415283203125,
          430.17071533203125,
          438.5532531738281,
          439.5016784667969,
          431.4487609863281,
          438.832763671875,
          433.42755126953125,
          425.01800537109375,
          422.293212890625,
          430.2834777832031,
          429.2406005859375,
          446.9348449707031,
          439.4322814941406,
          447.5767517089844,
          432.4261169433594,
          429.2203674316406,
          425.6117248535156,
          421.4874572753906,
          412.1063537597656,
          420.05419921875,
          416.8831481933594,
          423.2165832519531,
          419.5086669921875,
          423.66668701171875,
          432.6072998046875,
          426.4213562011719,
          427.2917175292969,
          428.45025634765625,
          433.7523498535156,
          437.4014587402344,
          433.81402587890625,
          429.9991455078125,
          443.70404052734375,
          443.63946533203125,
          447.5256652832031,
          452.6099548339844,
          460.75152587890625,
          462.60693359375,
          465.49749755859375,
          463.7066955566406,
          465.697021484375,
          462.21466064453125,
          469.3162536621094,
          473.1128234863281,
          472.64923095703125,
          475.26702880859375,
          476.7850646972656,
          474.762939453125,
          477.7624206542969,
          487.36517333984375,
          487.8625183105469,
          480.2086486816406,
          480.0602111816406,
          476.2684631347656,
          475.8511047363281,
          476.74169921875,
          469.30084228515625,
          469.5716552734375,
          474.3099365234375,
          469.15142822265625,
          467.93603515625,
          463.920654296875,
          465.2459411621094,
          465.78472900390625,
          469.0203552246094,
          458.5057678222656,
          468.3707275390625,
          466.7620544433594,
          467.380859375,
          461.4541931152344,
          459.59588623046875,
          458.55975341796875,
          447.7483215332031,
          444.6485900878906,
          441.0062255859375,
          444.5030517578125,
          442.88958740234375,
          442.32476806640625,
          392.1200866699219,
          398.36676025390625,
          409.3516845703125,
          413.46923828125,
          403.4067077636719,
          396.9026794433594,
          402.0611877441406,
          401.79034423828125,
          405.69390869140625,
          408.8235168457031,
          413.6465759277344,
          416.59112548828125,
          418.5351867675781,
          412.9044189453125,
          406.11798095703125,
          405.0905456542969,
          412.2046813964844,
          420.5081787109375,
          430.4058837890625,
          428.6083068847656,
          433.8284912109375,
          423.7351379394531,
          426.6141357421875,
          426.27197265625,
          430.6449279785156,
          429.75048828125,
          418.11688232421875,
          419.4845886230469,
          428.1042175292969,
          428.5957946777344,
          423.2657470703125,
          430.6092529296875,
          436.2641296386719,
          433.73211669921875,
          422.0782775878906,
          424.0782470703125,
          439.8293762207031,
          435.4111328125,
          432.0405578613281,
          432.6063537597656,
          436.8617248535156,
          430.9909362792969,
          433.05548095703125,
          435.2607727050781,
          437.67132568359375,
          429.8150634765625,
          426.6257019042969,
          427.4150695800781,
          424.99969482421875,
          419.70721435546875,
          420.444580078125,
          432.4781494140625,
          429.2117004394531,
          436.2342529296875,
          433.00439453125,
          429.3957824707031,
          431.0420227050781,
          436.2602844238281,
          443.940185546875,
          438.77783203125,
          437.0313415527344,
          425.00836181640625,
          443.9112548828125,
          430.471435546875,
          436.4549560546875,
          470.12396240234375,
          490.8832092285156,
          483.00860595703125,
          476.7320556640625,
          484.43316650390625,
          476.8824157714844,
          472.9942626953125,
          466.4536437988281,
          473.5070495605469,
          485.6206359863281,
          490.62103271484375,
          497.7496337890625,
          496.9612121582031,
          455.9959411621094,
          474.8699035644531,
          484.0649719238281,
          490.3935852050781,
          494.8291931152344,
          497.2580871582031,
          505.04400634765625,
          496.5409851074219,
          496.298095703125,
          477.43951416015625,
          483.78546142578125,
          491.1627197265625,
          477.32000732421875,
          482.21246337890625,
          481.1541748046875,
          477.1523132324219,
          484.049560546875,
          495.12799072265625,
          496.42724609375,
          497.0498962402344,
          504.0281066894531,
          506.4145812988281,
          503.3360595703125,
          500.7915344238281,
          489.8133544921875,
          495.7814636230469,
          500.09368896484375,
          509.4911804199219,
          502.52838134765625,
          510.1195983886719,
          506.86566162109375,
          497.6204833984375,
          506.3509826660156,
          512.6776123046875,
          494.9486999511719,
          494.8233947753906,
          492.3077697753906,
          482.790771484375,
          484.71075439453125,
          485.8905029296875,
          486.8929138183594,
          473.8443908691406,
          485.84423828125,
          478.0390319824219,
          485.8712158203125,
          482.1835632324219,
          483.34210205078125,
          479.83563232421875,
          477.58795166015625,
          466.87579345703125,
          458.370849609375,
          465.0618591308594,
          476.69158935546875,
          479.2862548828125,
          472.37164306640625,
          471.7914123535156,
          473.21209716796875,
          469.3952941894531,
          474.1952209472656,
          480.5315246582031,
          484.0341491699219,
          486.43603515625,
          488.18060302734375,
          493.39691162109375,
          503.4844970703125,
          499.3611755371094,
          490.9333190917969,
          496.9881896972656,
          502.1601867675781,
          498.8985290527344,
          484.9401550292969,
          494.15643310546875,
          497.9096374511719,
          494.55352783203125,
          501.6377868652344,
          495.4634094238281,
          490.3183898925781,
          503.8102722167969,
          507.4844665527344,
          523.6732177734375,
          525.3252563476562,
          526.2235717773438,
          535.9197998046875,
          532.785400390625,
          522.5204467773438,
          528.3247680664062,
          523.904541015625,
          535.3299560546875,
          533.4273071289062,
          546.7650146484375,
          553.9629516601562,
          550.695556640625,
          548.3977661132812,
          554.7996215820312,
          557.4520874023438,
          567.7227783203125,
          570.637451171875,
          577.83349609375,
          572.8157348632812,
          572.2490234375,
          570.5950317382812,
          574.3347778320312,
          556.37255859375,
          556.927734375,
          556.07958984375,
          564.3956298828125,
          565.7064208984375,
          565.7614135742188,
          559.022216796875,
          560.8467407226562,
          558.0805053710938,
          554.4776611328125,
          578.8455810546875,
          562.5604858398438,
          541.371337890625,
          523.1556396484375,
          533.8263549804688,
          533.2750244140625,
          551.0579223632812,
          555.4974365234375,
          554.0304565429688,
          573.8297119140625,
          575.3410034179688,
          582.5582885742188,
          582.961181640625,
          594.0318603515625,
          589.1432495117188,
          591.953857421875,
          584.20068359375,
          595.356201171875,
          591.82080078125,
          591.9673461914062,
          587.2926635742188,
          580.1159057617188,
          586.7683715820312,
          556.3109130859375,
          549.5216064453125,
          546.4835205078125,
          525.0765991210938,
          528.1473999023438,
          534.524169921875,
          550.0150756835938,
          557.319091796875,
          557.9879760742188,
          553.8087768554688,
          553.9841918945312,
          554.37744140625,
          580.7077026367188,
          579.8479614257812,
          575.0865478515625,
          618.0451049804688,
          628.0574951171875,
          627.7085571289062,
          617.7578735351562,
          623.1630859375,
          607.3348388671875,
          608.5628051757812,
          606.5965576171875,
          615.5448608398438,
          611.8494873046875,
          624.2965698242188,
          628.6473388671875,
          622.7505493164062,
          632.4024658203125,
          636.26171875,
          632.8805541992188,
          618.8662719726562,
          609.2952880859375,
          615.5178833007812,
          624.08642578125
         ]
        },
        {
         "marker": {
          "color": "#1d5dec",
          "opacity": 0.9
         },
         "mode": "lines",
         "name": "MA",
         "type": "scatter",
         "y": [
          82.85326385498047,
          83.78836822509766,
          84.5040283203125,
          84.68534088134766,
          85.87808227539062,
          86.20248413085938,
          87.26165008544922,
          86.76547241210938,
          87.40480041503906,
          88.1490707397461,
          89.02694702148438,
          88.22541046142578,
          89.3704605102539,
          88.74067687988281,
          89.15098571777344,
          89.45634460449219,
          91.61282348632812,
          90.87806701660156,
          90.71587371826172,
          90.88762664794922,
          90.72541809082031,
          91.51741790771484,
          92.44296264648438,
          92.34757232666016,
          92.2712173461914,
          91.87999725341797,
          92.1090316772461,
          91.71780395507812,
          92.02313995361328,
          91.2406997680664,
          91.21208190917969,
          90.90670776367188,
          90.85902404785156,
          91.40290069580078,
          91.87999725341797,
          91.1548080444336,
          91.21208190917969,
          92.0517578125,
          92.34757232666016,
          92.64336395263672,
          92.20442962646484,
          93.14908599853516,
          93.4067153930664,
          94.26551818847656,
          95.00977325439453,
          95.40099334716797,
          93.65481567382812,
          95.5250244140625,
          94.83805847167969,
          94.18915557861328,
          94.91437530517578,
          94.80940246582031,
          95.11475372314453,
          95.88762664794922,
          96.62237548828125,
          97.44298553466797,
          97.00407409667969,
          96.52698516845703,
          96.8036880493164,
          96.86092376708984,
          96.0021743774414,
          97.10902404785156,
          97.21399688720703,
          96.5842056274414,
          97.89392852783203,
          98.41017150878906,
          97.75054931640625,
          98.13291931152344,
          96.89014434814453,
          96.89969635009766,
          96.22093963623047,
          96.4408187866211,
          96.41216278076172,
          97.25340270996094,
          98.20943450927734,
          98.03736877441406,
          98.32413482666016,
          98.6491470336914,
          98.35282897949219,
          98.6778564453125,
          99.04112243652344,
          102.1959228515625,
          102.31061553955078,
          100.34127807617188,
          99.42351531982422,
          99.21318817138672,
          98.49620056152344,
          101.29727935791016,
          101.04871368408203,
          101.51716613769531,
          99.90152740478516,
          100.01626586914062,
          96.68936920166016,
          97.97041320800781,
          99.42351531982422,
          99.85372161865234,
          100.16919708251953,
          101.27814483642578,
          101.26860046386719,
          99.95889282226562,
          101.077392578125,
          98.81169128417969,
          99.25144958496094,
          97.70272827148438,
          95.77161407470703,
          96.65113830566406,
          98.99330139160156,
          97.51153564453125,
          100.61849975585938,
          100.20741271972656,
          99.81547546386719,
          98.73519897460938,
          98.77342987060547,
          98.73519897460938,
          99.75813293457031,
          98.87859344482422,
          98.98377227783203,
          99.93976593017578,
          99.5860366821289,
          99.71988677978516,
          100.10227966308594,
          100.18833923339844,
          99.11761474609375,
          99.2036361694336,
          98.70653533935547,
          100.75233459472656,
          101.70835876464844,
          102.493896484375,
          103.23153686523438,
          103.03036499023438,
          102.81000518798828,
          103.27943420410156,
          104.14160919189453,
          104.13202667236328,
          103.84464263916016,
          104.09371948242188,
          103.96916961669922,
          105.33907318115234,
          105.0229263305664,
          105.30076599121094,
          105.55940246582031,
          104.7834701538086,
          105.22411346435547,
          104.70683288574219,
          101.86161804199219,
          100.58750915527344,
          100.72164154052734,
          102.10111999511719,
          102.11071014404297,
          102.12026977539062,
          102.2352523803711,
          102.79088592529297,
          102.76213073730469,
          103.72968292236328,
          104.3044662475586,
          105.05170440673828,
          104.70683288574219,
          104.82176208496094,
          105.53070068359375,
          104.84092712402344,
          106.08631134033203,
          106.33538818359375,
          105.92344665527344,
          105.81806945800781,
          107.59033203125,
          106.65151977539062,
          107.04427337646484,
          106.68024444580078,
          106.29707336425781,
          106.31620025634766,
          106.13420867919922,
          106.53653717041016,
          106.84309387207031,
          105.84683227539062,
          107.3125,
          107.93518829345703,
          108.08846282958984,
          107.68611907958984,
          106.05756378173828,
          106.76644897460938,
          106.91016387939453,
          107.27417755126953,
          107.23587036132812,
          107.74361419677734,
          107.35084533691406,
          107.93518829345703,
          107.74361419677734,
          107.52326202392578,
          107.37956237792969,
          107.57152557373047,
          107.91709899902344,
          107.73471069335938,
          107.8115005493164,
          107.60993194580078,
          106.99562072753906,
          106.75565338134766,
          108.14744567871094,
          108.00347900390625,
          107.78270721435547,
          109.9903793334961,
          109.6832504272461,
          111.05583953857422,
          111.46855926513672,
          111.50697326660156,
          112.39965057373047,
          111.65093231201172,
          111.69894409179688,
          113.3786849975586,
          112.62042236328125,
          113.18672943115234,
          112.78359985351562,
          111.92930603027344,
          111.73733520507812,
          111.96772766113281,
          111.85252380371094,
          112.42843627929688,
          113.46507263183594,
          113.7338638305664,
          112.1116943359375,
          111.57415008544922,
          112.8603744506836,
          114.22340393066406,
          114.79930114746094,
          115.85513305664062,
          117.0261459350586,
          116.747802734375,
          116.76701354980469,
          117.94761657714844,
          118.44676208496094,
          120.17450714111328,
          120.84642028808594,
          120.21289825439453,
          120.16492462158203,
          119.7521743774414,
          118.10120391845703,
          115.9127426147461,
          117.41011810302734,
          117.58289337158203,
          116.54622650146484,
          117.06458282470703,
          118.14920806884766,
          117.99563598632812,
          118.1588134765625,
          118.35078430175781,
          119.03228759765625,
          118.56194305419922,
          117.81324768066406,
          119.80017852783203,
          116.63262176513672,
          116.57503509521484,
          115.93192291259766,
          117.29740905761719,
          116.16273498535156,
          117.50895690917969,
          118.01863098144531,
          119.46104431152344,
          120.47074127197266,
          120.65345764160156,
          122.13433074951172,
          122.53821563720703,
          122.82669830322266,
          123.12478637695312,
          123.53829956054688,
          124.30757141113281,
          124.54796600341797,
          124.99031829833984,
          125.96155548095703,
          123.98059844970703,
          122.99978637695312,
          122.89398956298828,
          124.51911163330078,
          125.59610748291016,
          124.90375518798828,
          124.83647155761719,
          125.37496185302734,
          124.85568237304688,
          124.74032592773438,
          122.76897430419922,
          123.61522674560547,
          126.05768585205078,
          126.52887725830078,
          127.28858184814453,
          125.85577392578125,
          126.10577392578125,
          126.87509155273438,
          128.66366577148438,
          127.96170043945312,
          127.8559341430664,
          127.65397644042969,
          128.7117919921875,
          128.70213317871094,
          128.66366577148438,
          128.182861328125,
          128.1251678466797,
          127.56741333007812,
          127.78860473632812,
          131.2888641357422,
          131.95236206054688,
          136.53924560546875,
          136.9527587890625,
          134.72183227539062,
          136.0392303466797,
          136.14501953125,
          135.97189331054688,
          137.0200958251953,
          136.7796630859375,
          136.2796173095703,
          136.44314575195312,
          133.2505340576172,
          133.0582275390625,
          134.308349609375,
          134.81800842285156,
          135.77960205078125,
          136.37579345703125,
          137.5297088623047,
          136.63540649414062,
          138.44607543945312,
          138.22454833984375,
          139.21656799316406,
          140.27597045898438,
          141.4316864013672,
          141.32579040527344,
          141.90359497070312,
          140.8249053955078,
          140.54562377929688,
          140.7960205078125,
          139.63067626953125,
          140.0159454345703,
          140.18927001953125,
          140.42042541503906,
          140.8441619873047,
          141.18128967285156,
          143.04010009765625,
          143.4542236328125,
          143.28082275390625,
          143.39639282226562,
          142.78004455566406,
          143.78163146972656,
          144.55209350585938,
          144.43653869628906,
          144.43653869628906,
          143.78163146972656,
          144.02239990234375,
          144.16690063476562,
          144.4172821044922,
          142.85708618164062,
          144.7832794189453,
          143.52157592773438,
          144.04173278808594,
          146.88284301757812,
          145.6693115234375,
          147.10435485839844,
          147.32589721679688,
          148.5008544921875,
          142.87632751464844,
          144.91812133789062,
          144.16690063476562,
          138.1378631591797,
          139.77516174316406,
          141.9806365966797,
          143.93576049804688,
          144.35955810546875,
          145.31298828125,
          146.8732147216797,
          146.0930938720703,
          146.32423400878906,
          147.7400665283203,
          147.4703369140625,
          146.0834503173828,
          145.86190795898438,
          144.97592163085938,
          145.2841033935547,
          145.69818115234375,
          145.81375122070312,
          146.17015075683594,
          145.77525329589844,
          146.3050079345703,
          148.14450073242188,
          150.06105041503906,
          153.17190551757812,
          153.63494873046875,
          153.8567657470703,
          154.20407104492188,
          155.2265625,
          156.5867156982422,
          156.54806518554688,
          158.50628662109375,
          159.62522888183594,
          160.9274139404297,
          162.32618713378906,
          161.27471923828125,
          161.10105895996094,
          162.6251983642578,
          164.31329345703125,
          162.5865936279297,
          161.27471923828125,
          163.0206298828125,
          166.81166076660156,
          164.5158233642578,
          158.76669311523438,
          163.29078674316406,
          162.7602081298828,
          154.93716430664062,
          159.3551025390625,
          162.23934936523438,
          164.10107421875,
          166.4161834716797,
          168.50938415527344,
          169.43540954589844,
          169.14605712890625,
          166.2232666015625,
          166.8309326171875,
          169.5414581298828,
          171.57684326171875,
          169.70547485351562,
          169.5414581298828,
          167.3518524169922,
          168.8277130126953,
          172.2135009765625,
          171.2488555908203,
          172.86941528320312,
          172.9080352783203,
          176.75685119628906,
          176.0816192626953,
          174.60572814941406,
          173.7472381591797,
          174.5478973388672,
          176.09129333496094,
          174.19097900390625,
          176.05267333984375,
          174.35494995117188,
          169.30999755859375,
          165.75057983398438,
          170.90164184570312,
          166.4161834716797,
          164.32296752929688,
          168.96273803710938,
          165.52870178222656,
          166.36795043945312,
          167.54470825195312,
          169.58006286621094,
          163.92904663085938,
          164.54727172851562,
          168.7783203125,
          166.49853515625,
          168.85557556152344,
          168.3436737060547,
          167.95724487304688,
          172.2752227783203,
          173.3571319580078,
          172.92239379882812,
          171.05809020996094,
          169.4641571044922,
          167.34860229492188,
          166.60482788085938,
          172.10133361816406,
          169.95681762695312,
          172.20761108398438,
          174.12030029296875,
          179.50082397460938,
          180.13836669921875,
          181.7709197998047,
          182.66928100585938,
          184.05067443847656,
          184.1472625732422,
          186.48497009277344,
          186.77476501464844,
          185.5865936279297,
          185.47071838378906,
          185.8377685546875,
          184.6978759765625,
          183.92506408691406,
          184.6978759765625,
          185.1035919189453,
          186.427001953125,
          185.3837432861328,
          184.66885375976562,
          183.0846405029297,
          185.2388458251953,
          183.65463256835938,
          188.72604370117188,
          191.00579833984375,
          192.5803680419922,
          196.29942321777344,
          192.75424194335938,
          193.23724365234375,
          191.73995971679688,
          193.32418823242188,
          192.62869262695312,
          192.5321044921875,
          192.74462890625,
          194.2901611328125,
          192.89915466308594,
          194.68624877929688,
          193.9521026611328,
          194.62826538085938,
          188.34930419921875,
          189.77902221679688,
          186.6105194091797,
          190.39723205566406,
          189.8369903564453,
          190.9478759765625,
          189.6147918701172,
          192.10704040527344,
          192.97756958007812,
          194.34129333496094,
          194.91192626953125,
          197.15582275390625,
          200.9666748046875,
          199.15802001953125,
          197.38796997070312,
          199.60289001464844,
          201.52764892578125,
          199.3031005859375,
          199.9317626953125,
          201.02471923828125,
          202.7076873779297,
          207.1374969482422,
          200.57015991210938,
          196.28538513183594,
          191.3816375732422,
          191.50733947753906,
          194.6024627685547,
          195.38587951660156,
          194.6024627685547,
          194.93128967285156,
          195.97592163085938,
          196.2080078125,
          196.92376708984375,
          196.00489807128906,
          195.6760711669922,
          197.19456481933594,
          193.67393493652344,
          196.92376708984375,
          196.54653930664062,
          198.0360107421875,
          196.4304656982422,
          197.6104736328125,
          198.49063110351562,
          202.53355407714844,
          204.59371948242188,
          205.6576690673828,
          207.53404235839844,
          206.78927612304688,
          208.49159240722656,
          209.7102508544922,
          204.23583984375,
          205.7930908203125,
          204.1681365966797,
          204.7290802001953,
          206.4507598876953,
          207.01173400878906,
          210.0971221923828,
          210.81288146972656,
          209.37173461914062,
          212.83436584472656,
          211.0353240966797,
          214.13037109375,
          214.62368774414062,
          214.09170532226562,
          214.83645629882812,
          214.9718475341797,
          215.0201873779297,
          215.31039428710938,
          216.43234252929688,
          215.07826232910156,
          215.8133087158203,
          209.06224060058594,
          206.50579833984375,
          201.6641845703125,
          203.11671447753906,
          190.46063232421875,
          188.3496856689453,
          197.75216674804688,
          193.9756622314453,
          201.1993865966797,
          200.81210327148438,
          197.171142578125,
          196.62889099121094,
          198.0232696533203,
          196.01882934570312,
          189.4923095703125,
          197.73277282714844,
          191.23533630371094,
          184.9895477294922,
          181.78436279296875,
          191.4095916748047,
          193.38504028320312,
          191.4580078125,
          191.70974731445312,
          192.8427276611328,
          201.64486694335938,
          202.2452392578125,
          199.10780334472656,
          192.8330535888672,
          191.89373779296875,
          191.3224334716797,
          194.35328674316406,
          192.73623657226562,
          183.2852783203125,
          181.1356201171875,
          181.7166290283203,
          176.8168487548828,
          185.77389526367188,
          186.86814880371094,
          195.87359619140625,
          190.43157958984375,
          194.70188903808594,
          203.21351623535156,
          194.14031982421875,
          196.5610809326172,
          190.2766571044922,
          191.7872314453125,
          191.47735595703125,
          193.9466094970703,
          192.6587677001953,
          189.14373779296875,
          184.4182586669922,
          185.54153442382812,
          181.1937255859375,
          176.92340087890625,
          169.6415557861328,
          169.11866760253906,
          180.5255584716797,
          182.7139892578125,
          180.2641143798828,
          182.67523193359375,
          183.7307891845703,
          175.44183349609375,
          183.75010681152344,
          185.1638946533203,
          186.5121612548828,
          189.89749145507812,
          191.04205322265625,
          190.02362060546875,
          189.56768798828125,
          190.625,
          191.83749389648438,
          193.33128356933594,
          195.9405975341797,
          193.4767608642578,
          192.4000701904297,
          193.79685974121094,
          196.8523712158203,
          194.15577697753906,
          193.26336669921875,
          197.89999389648438,
          204.79672241210938,
          207.3575439453125,
          208.46334838867188,
          209.3848419189453,
          208.8416290283203,
          207.55152893066406,
          210.08326721191406,
          210.587646484375,
          212.3433380126953,
          213.92445373535156,
          213.21633911132812,
          215.44737243652344,
          213.97296142578125,
          214.47732543945312,
          212.73135375976562,
          216.6210479736328,
          216.6210479736328,
          217.2806396484375,
          217.83360290527344,
          218.02755737304688,
          220.43321228027344,
          219.50192260742188,
          219.4341278076172,
          217.73660278320312,
          215.73837280273438,
          215.2145538330078,
          218.8714599609375,
          220.13247680664062,
          221.6456756591797,
          222.62538146972656,
          224.235595703125,
          223.47897338867188,
          224.0803680419922,
          222.9939422607422,
          228.79458618164062,
          223.83790588378906,
          223.50807189941406,
          226.2919464111328,
          225.54513549804688,
          227.81488037109375,
          228.38720703125,
          231.87921142578125,
          232.0828857421875,
          231.76278686523438,
          228.97891235351562,
          229.5317840576172,
          229.502685546875,
          229.15298461914062,
          230.27003479003906,
          229.27923583984375,
          231.98934936523438,
          232.30015563964844,
          233.21324157714844,
          234.09719848632812,
          233.9903564453125,
          236.08843994140625,
          236.51583862304688,
          238.26431274414062,
          238.5751495361328,
          239.614501953125,
          240.05162048339844,
          246.9579620361328,
          241.6251678466797,
          240.10984802246094,
          240.84814453125,
          241.5183563232422,
          238.0408935546875,
          238.30316162109375,
          238.28372192382812,
          240.34303283691406,
          234.46627807617188,
          238.8956756591797,
          242.01373291015625,
          246.16143798828125,
          245.31634521484375,
          246.22946166992188,
          248.04588317871094,
          249.54176330566406,
          242.5771484375,
          244.2770233154297,
          246.17115783691406,
          246.29745483398438,
          246.909423828125,
          244.28671264648438,
          235.3210906982422,
          242.04287719726562,
          248.92010498046875,
          250.44505310058594,
          258.18682861328125,
          258.4782409667969,
          256.1081237792969,
          256.292724609375,
          253.7185821533203,
          252.6501007080078,
          251.77593994140625,
          251.3970489501953,
          252.42666625976562,
          259.1485290527344,
          256.8949279785156,
          257.7011413574219,
          252.29078674316406,
          253.81568908691406,
          253.62144470214844,
          256.9532165527344,
          259.1291198730469,
          262.8203125,
          265.25836181640625,
          264.34527587890625,
          263.78118896484375,
          265.833251953125,
          267.81719970703125,
          270.67645263671875,
          271.8629455566406,
          271.6976318359375,
          269.023193359375,
          267.7199401855469,
          269.17877197265625,
          268.0311584472656,
          270.9584655761719,
          271.30865478515625,
          272.5534362792969,
          271.67822265625,
          274.32354736328125,
          273.7107238769531,
          270.5209045410156,
          264.7926025390625,
          266.63067626953125,
          262.050048828125,
          249.78639221191406,
          257.4110412597656,
          261.91387939453125,
          270.4041748046875,
          267.3990783691406,
          262.5849304199219,
          266.9906005859375,
          259.81317138671875,
          264.42303466796875,
          266.8251953125,
          270.4333190917969,
          269.431640625,
          274.26513671875,
          273.0592041015625,
          264.42303466796875,
          268.83831787109375,
          269.0425720214844,
          270.5986328125,
          273.6524658203125,
          273.6427001953125,
          272.417236328125,
          278.2428894042969,
          284.05859375,
          283.3778381347656,
          275.578125,
          264.8509521484375,
          262.536376953125,
          268.8092346191406,
          268.73138427734375,
          266.5528259277344,
          268.6632995605469,
          267.5448913574219,
          268.3326721191406,
          263.72283935546875,
          265.6484680175781,
          263.67425537109375,
          265.2594299316406,
          266.36810302734375,
          261.7388916015625,
          264.11181640625,
          263.4991455078125,
          257.21661376953125,
          260.9219665527344,
          266.5334167480469,
          264.7148132324219,
          260.0506896972656,
          265.0848693847656,
          266.6330261230469,
          268.658447265625,
          269.1160583496094,
          271.23870849609375,
          270.9563293457031,
          269.2425842285156,
          263.51715087890625,
          267.0906677246094,
          254.39341735839844,
          253.99415588378906,
          261.6864929199219,
          263.0886535644531,
          268.67791748046875,
          267.0809631347656,
          269.86578369140625,
          269.5347595214844,
          271.71575927734375,
          269.0673522949219,
          261.9300231933594,
          262.7673645019531,
          265.620361328125,
          267.6651916503906,
          269.7197265625,
          269.8560485839844,
          270.76165771484375,
          272.28057861328125,
          273.400390625,
          273.4783020019531,
          277.8113098144531,
          277.8795166015625,
          276.97393798828125,
          275.1432800292969,
          280.0508728027344,
          281.7743225097656,
          284.03338623046875,
          284.5494384765625,
          278.94085693359375,
          279.5445861816406,
          279.3010559082031,
          282.2320251464844,
          282.767578125,
          281.4627380371094,
          281.02459716796875,
          282.4266662597656,
          284.5299377441406,
          288.3079833984375,
          289.1551208496094,
          288.2203674316406,
          286.9934997558594,
          289.71014404296875,
          290.7228698730469,
          289.45697021484375,
          289.6615295410156,
          291.3363342285156,
          292.8358154296875,
          289.8951721191406,
          290.7423095703125,
          295.4161682128906,
          292.533935546875,
          293.3128967285156,
          292.3197326660156,
          297.47760009765625,
          301.3775939941406,
          303.39593505859375,
          307.3349304199219,
          302.879150390625,
          306.39898681640625,
          312.29779052734375,
          315.5738830566406,
          313.8870849609375,
          316.2076416015625,
          316.86090087890625,
          315.5836486816406,
          307.8809814453125,
          312.26861572265625,
          312.3173522949219,
          316.3538818359375,
          308.04669189453125,
          316.4123840332031,
          320.89752197265625,
          320.1174011230469,
          321.0729675292969,
          318.8304138183594,
          322.02850341796875,
          322.6524658203125,
          325.8114929199219,
          327.4496154785156,
          332.4319152832031,
          332.7146301269531,
          335.95172119140625,
          335.8444519042969,
          331.213134765625,
          316.5586853027344,
          295.32275390625,
          290.593994140625,
          278.67926025390625,
          282.99853515625,
          299.0765075683594,
          284.7048034667969,
          294.8059997558594,
          283.46661376953125,
          279.8395080566406,
          255.46405029296875,
          273.5603942871094,
          263.02044677734375,
          235.46649169921875,
          263.26422119140625,
          229.7626495361328,
          231.93695068359375,
          222.2355194091797,
          221.4750213623047,
          206.13800048828125,
          198.22085571289062,
          231.14718627929688,
          250.072265625,
          256.60479736328125,
          241.462890625,
          246.92295837402344,
          235.52500915527344,
          222.8985137939453,
          232.91197204589844,
          231.10816955566406,
          259.2958984375,
          252.60726928710938,
          264.58929443359375,
          263.07562255859375,
          257.1578674316406,
          264.36468505859375,
          251.1034393310547,
          240.96713256835938,
          253.8670196533203,
          245.8204345703125,
          239.59022521972656,
          250.87884521484375,
          249.85350036621094,
          252.68544006347656,
          258.8960876464844,
          258.3882751464844,
          277.0301818847656,
          268.5149230957031,
          262.43115234375,
          262.9389343261719,
          267.54815673828125,
          266.0442810058594,
          271.9327087402344,
          275.8095397949219,
          274.6279296875,
          265.72198486328125,
          262.84124755859375,
          270.7998962402344,
          272.39166259765625,
          283.0943908691406,
          283.9049377441406,
          291.785400390625,
          287.35205078125,
          287.9867858886719,
          296.2090148925781,
          292.732666015625,
          295.2032775878906,
          293.82635498046875,
          294.32440185546875,
          296.4630126953125,
          299.8612976074219,
          294.2951354980469,
          304.55841064453125,
          303.1228942871094,
          304.17755126953125,
          305.798583984375,
          284.41265869140625,
          290.79913330078125,
          290.1937255859375,
          297.3321228027344,
          296.62896728515625,
          297.69342041015625,
          289.5394592285156,
          297.29302978515625,
          299.6757507324219,
          287.10784912109375,
          291.0140075683594,
          282.5475769042969,
          286.05322265625,
          288.7582702636719,
          294.0998840332031,
          295.3204650878906,
          298.39654541015625,
          292.86944580078125,
          293.4952392578125,
          288.0584716796875,
          289.12420654296875,
          283.7461853027344,
          292.3218688964844,
          298.941650390625,
          292.71295166015625,
          297.3184509277344,
          305.0433654785156,
          300.7799987792969,
          306.422119140625,
          303.0290222167969,
          300.1150817871094,
          302.01202392578125,
          299.5381164550781,
          302.4422912597656,
          302.14892578125,
          301.6894226074219,
          305.65936279296875,
          307.41949462890625,
          320.72772216796875,
          322.8203125,
          320.7472839355469,
          315.7212219238281,
          321.2557067871094,
          320.36590576171875,
          318.9578552246094,
          319.5542907714844,
          322.90826416015625,
          323.66119384765625,
          325.0301513671875,
          329.84112548828125,
          329.6259765625,
          336.0209655761719,
          339.95184326171875,
          343.2373046875,
          348.1069030761719,
          358.00250244140625,
          350.2483825683594,
          348.9869079589844,
          352.70269775390625,
          336.216552734375,
          327.5823059082031,
          322.5660400390625,
          332.1096496582031,
          325.4994812011719,
          322.8300476074219,
          331.0926818847656,
          331.6207275390625,
          334.2706298828125,
          331.9043273925781,
          327.82672119140625,
          320.58111572265625,
          327.8756103515625,
          317.33465576171875,
          320.93310546875,
          324.4239501953125,
          330.8873596191406,
          328.7752990722656,
          330.6722717285156,
          335.7569274902344,
          331.3175354003906,
          335.6396179199219,
          329.9486083984375,
          336.2751770019531,
          337.8905334472656,
          344.97821044921875,
          344.63555908203125,
          338.56591796875,
          335.49200439453125,
          331.4489440917969,
          332.26141357421875,
          324.69403076171875,
          324.74298095703125,
          326.4072265625,
          326.58343505859375,
          322.6773681640625,
          311.3702087402344,
          310.4402770996094,
          285.2514953613281,
          287.0135192871094,
          282.5691223144531,
          283.8710632324219,
          289.1771240234375,
          300.73870849609375,
          309.8724365234375,
          307.043212890625,
          337.3128356933594,
          327.7386169433594,
          325.3988342285156,
          321.3851318359375,
          327.98333740234375,
          328.3945617675781,
          329.4223937988281,
          328.8741455078125,
          326.85748291015625,
          316.2063903808594,
          325.0561828613281,
          335.1885681152344,
          334.1410217285156,
          331.9383239746094,
          329.43218994140625,
          331.7523498535156,
          333.0641174316406,
          328.0909729003906,
          337.1072998046875,
          333.7885437011719,
          333.6221923828125,
          329.7651062011719,
          324.5471496582031,
          320.5334167480469,
          324.1849670410156,
          326.6324157714844,
          325.1149597167969,
          329.8139953613281,
          333.1718444824219,
          327.3371887207031,
          325.2519836425781,
          322.3052673339844,
          328.93292236328125,
          337.2248229980469,
          339.3686828613281,
          348.0716857910156,
          349.4325256347656,
          344.09710693359375,
          340.1127624511719,
          340.2399597167969,
          342.935546875,
          346.84661865234375,
          341.30841064453125,
          336.1329345703125,
          339.4753723144531,
          320.4593811035156,
          316.862060546875,
          319.489013671875,
          328.281494140625,
          327.82073974609375,
          322.4786071777344,
          322.6746520996094,
          321.21417236328125,
          309.245849609375,
          317.8618469238281,
          310.0299987792969,
          315.1957092285156,
          327.75213623046875,
          326.2328186035156,
          334.0843200683594,
          332.04547119140625,
          330.3595275878906,
          326.840576171875,
          327.5953063964844,
          336.0838928222656,
          334.2508850097656,
          334.456787109375,
          330.65350341796875,
          331.7611389160156,
          326.57586669921875,
          333.9176940917969,
          343.4844970703125,
          360.04998779296875,
          347.55230712890625,
          346.84661865234375,
          355.71746826171875,
          355.6390380859375,
          353.1199645996094,
          342.58270263671875,
          353.7374572753906,
          363.9805908203125,
          369.0679016113281,
          374.1454162597656,
          376.7723388671875,
          375.1354064941406,
          374.2042236328125,
          374.8119201660156,
          371.1851806640625,
          359.7362976074219,
          349.4539489746094,
          351.3065490722656,
          348.23846435546875,
          352.53179931640625,
          351.26727294921875,
          358.89337158203125,
          355.7273254394531,
          351.1105041503906,
          349.0030822753906,
          356.1095275878906,
          361.03021240234375,
          362.2555236816406,
          363.7355651855469,
          370.70330810546875,
          372.999755859375,
          372.7641906738281,
          371.0860595703125,
          371.27252197265625,
          379.2903137207031,
          378.97625732421875,
          375.0409851074219,
          369.614013671875,
          375.9634704589844,
          376.2186584472656,
          379.8497009277344,
          380.2520751953125,
          381.822265625,
          388.2796325683594,
          381.70452880859375,
          374.94281005859375,
          372.3323974609375,
          368.9073791503906,
          362.2634582519531,
          368.48541259765625,
          368.4068603515625,
          359.515625,
          360.761962890625,
          349.9767761230469,
          353.3133850097656,
          357.1309814453125,
          356.5323181152344,
          356.30657958984375,
          354.2555236816406,
          360.8503723144531,
          360.75225830078125,
          365.4432373046875,
          360.3793029785156,
          355.8944396972656,
          355.25653076171875,
          353.8630065917969,
          353.0877380371094,
          360.0162048339844,
          355.0799255371094,
          359.2016906738281,
          357.2977294921875,
          358.455810546875,
          356.5617370605469,
          357.513671875,
          358.6913146972656,
          359.69232177734375,
          361.26251220703125,
          357.0426025390625,
          360.4479675292969,
          360.5755615234375,
          366.1399230957031,
          370.99774169921875,
          368.1517639160156,
          367.76904296875,
          372.5384521484375,
          360.8307189941406,
          361.1447448730469,
          358.2889404296875,
          363.80426025390625,
          368.0437927246094,
          369.113525390625,
          366.95452880859375,
          363.72198486328125,
          366.42388916015625,
          368.9981689453125,
          377.0057067871094,
          383.9718017578125,
          383.4118347167969,
          380.356201171875,
          359.0647888183594,
          367.8485412597656,
          373.4194641113281,
          375.4828796386719,
          386.3888854980469,
          385.9369201660156,
          383.45111083984375,
          376.74041748046875,
          382.01666259765625,
          379.1967468261719,
          368.703369140625,
          361.1772155761719,
          361.58001708984375,
          365.44146728515625,
          367.98614501953125,
          364.203369140625,
          361.4129638671875,
          357.87591552734375,
          355.6553955078125,
          356.4119873046875,
          357.2077941894531,
          356.8835754394531,
          354.6434326171875,
          351.0669860839844,
          348.7875671386719,
          354.7023620605469,
          355.45892333984375,
          352.82574462890625,
          346.6947326660156,
          349.5146179199219,
          346.88140869140625,
          340.1806640625,
          343.46221923828125,
          335.3170471191406,
          334.28546142578125,
          338.6871032714844,
          344.9065246582031,
          345.2701416015625,
          341.3203430175781,
          341.7428283691406,
          339.7581481933594,
          338.7264404296875,
          340.2591552734375,
          337.04632568359375,
          333.7548828125,
          331.4852294921875,
          337.4098815917969,
          347.8835754394531,
          351.9021911621094,
          350.5364074707031,
          345.0440673828125,
          347.01898193359375,
          341.60528564453125,
          353.88690185546875,
          338.18603515625,
          337.21337890625,
          342.59765625,
          348.1657409667969,
          349.19866943359375,
          341.51544189453125,
          339.7348937988281,
          336.7934265136719,
          338.9871826171875,
          350.2218322753906,
          352.6222229003906,
          356.2228088378906,
          350.97930908203125,
          350.4284362792969,
          352.8485107421875,
          355.0029296875,
          351.5203857421875,
          330.2709655761719,
          327.62469482421875,
          330.0741882324219,
          328.6280822753906,
          323.1484375,
          324.0830993652344,
          329.9856872558594,
          343.1288146972656,
          343.99456787109375,
          339.0560302734375,
          352.13037109375,
          348.58880615234375,
          357.6001281738281,
          355.4947814941406,
          363.5617370605469,
          353.3404235839844,
          342.5680847167969,
          334.2060852050781,
          316.0849914550781,
          323.6601257324219,
          334.4815368652344,
          318.9084777832031,
          317.767333984375,
          309.8086242675781,
          301.3088073730469,
          315.0028991699219,
          316.88189697265625,
          327.9197692871094,
          333.9994812011719,
          336.7835388183594,
          338.92816162109375,
          344.24053955078125,
          339.7052917480469,
          335.0225830078125,
          340.72845458984375,
          347.1918029785156,
          343.6404113769531,
          331.54986572265625,
          345.0471496582031,
          351.6778564453125,
          354.72747802734375,
          354.4618225097656,
          354.9241943359375,
          355.42596435546875,
          355.13079833984375,
          353.4879455566406,
          364.92919921875,
          369.2970886230469,
          367.8313293457031,
          364.4722595214844,
          364.12744140625,
          358.4732666015625,
          360.8177185058594,
          361.8223571777344,
          363.9993591308594,
          366.5802917480469,
          360.8274841308594,
          355.3407287597656,
          358.5619201660156,
          349.775146484375,
          344.19976806640625,
          333.6989440917969,
          339.5108642578125,
          345.2931213378906,
          376.79534912109375,
          380.6075134277344,
          386.20269775390625,
          390.8226318359375,
          384.2424621582031,
          376.4899597167969,
          370.5106506347656,
          368.7769775390625,
          375.67242431640625,
          368.7966613769531,
          364.24566650390625,
          368.57012939453125,
          375.8398742675781,
          377.2091064453125,
          368.1169738769531,
          364.42303466796875,
          362.7877502441406,
          355.8332824707031,
          363.861572265625,
          363.57586669921875,
          355.42938232421875,
          339.3335266113281,
          338.9493408203125,
          335.8956604003906,
          325.8184814453125,
          308.2450256347656,
          309.6339416503906,
          323.2278137207031,
          319.7406921386719,
          319.9376525878906,
          323.6808776855469,
          329.9951171875,
          339.5305480957031,
          341.26422119140625,
          344.8597412109375,
          340.41705322265625,
          344.30804443359375,
          337.06787109375,
          344.13079833984375,
          343.80572509765625,
          345.2536926269531,
          362.05889892578125,
          356.82818603515625,
          352.0408020019531,
          358.5323181152344,
          361.42840576171875,
          357.89202880859375,
          348.26800537109375,
          344.80560302734375,
          347.4887390136719,
          342.65521240234375,
          341.1065368652344,
          350.3197937011719,
          352.9634094238281,
          351.9572448730469,
          358.9312744140625,
          360.33203125,
          359.49359130859375,
          346.4135437011719,
          349.787109375,
          339.4394836425781,
          356.66253662109375,
          373.688232421875,
          358.44793701171875,
          354.1668701171875,
          352.93377685546875,
          363.51812744140625,
          348.57379150390625,
          342.4085998535156,
          323.53826904296875,
          320.91436767578125,
          321.44708251953125,
          316.8799133300781,
          328.2829895019531,
          325.2547302246094,
          334.2607421875,
          331.34088134765625,
          327.71087646484375,
          331.6170959472656,
          343.7008056640625,
          336.0659484863281,
          340.0807189941406,
          345.1410217285156,
          352.9239196777344,
          353.0126953125,
          352.21368408203125,
          358.15203857421875,
          352.9634094238281,
          355.2519226074219,
          359.0792541503906,
          357.41217041015625,
          344.26312255859375,
          330.20648193359375,
          315.40020751953125,
          317.7676696777344,
          320.97357177734375,
          304.5889892578125,
          306.47308349609375,
          313.0920104980469,
          311.85894775390625,
          312.460693359375,
          326.0142517089844,
          324.3668518066406,
          313.96990966796875,
          318.2115783691406,
          311.19805908203125,
          313.92059326171875,
          314.92681884765625,
          315.8244323730469,
          320.1614990234375,
          319.1636657714844,
          320.27996826171875,
          318.9660339355469,
          319.46990966796875,
          321.1098937988281,
          328.5589904785156,
          327.01776123046875,
          336.2747497558594,
          337.1540222167969,
          342.7358703613281,
          339.7325439453125,
          340.0585632324219,
          337.1639099121094,
          339.1298828125,
          348.19915771484375,
          349.52301025390625,
          346.31219482421875,
          344.80072021484375,
          349.85888671875,
          351.7754821777344,
          353.1981201171875,
          347.9126892089844,
          342.3604736328125,
          349.11798095703125,
          346.3517150878906,
          349.9972229003906,
          355.60870361328125,
          354.9171447753906,
          351.0444030761719,
          353.0499572753906,
          350.0070495605469,
          341.3428955078125,
          336.77862548828125,
          335.6128234863281,
          340.51300048828125,
          327.9562683105469,
          325.3778076171875,
          323.8563537597656,
          320.4578552246094,
          321.3272399902344,
          318.6696472167969,
          320.1712951660156,
          324.65655517578125,
          326.0891418457031,
          331.7994079589844,
          334.33843994140625,
          321.51495361328125,
          321.91998291015625,
          313.1372375488281,
          311.3293151855469,
          310.2425231933594,
          309.4917297363281,
          300.8274841308594,
          294.7615051269531,
          290.03912353515625,
          286.61102294921875,
          283.0248107910156,
          286.6802062988281,
          283.3113098144531,
          280.91058349609375,
          286.97662353515625,
          297.6363830566406,
          300.5311279296875,
          296.0979919433594,
          291.8825988769531,
          288.7259826660156,
          283.0559387207031,
          280.4139099121094,
          290.8831481933594,
          285.6683349609375,
          291.95184326171875,
          297.2359313964844,
          294.64337158203125,
          293.1788635253906,
          299.20513916015625,
          302.4013366699219,
          308.1505126953125,
          316.1657409667969,
          316.0271911621094,
          326.021484375,
          324.7449951171875,
          329.7025146484375,
          316.47247314453125,
          305.9339904785156,
          315.03765869140625,
          321.7268981933594,
          322.3404235839844,
          312.3362731933594,
          333.73980712890625,
          335.73870849609375,
          335.81787109375,
          339.9145202636719,
          339.17236328125,
          337.69793701171875,
          340.0926513671875,
          334.7095947265625,
          341.3493347167969,
          344.9908752441406,
          347.6130676269531,
          340.98321533203125,
          339.5384521484375,
          352.6695861816406,
          357.0235595703125,
          356.29132080078125,
          352.36279296875,
          343.8924560546875,
          343.7835693359375,
          347.49432373046875,
          345.1788330078125,
          354.42108154296875,
          353.4117431640625,
          353.76800537109375,
          342.6258850097656,
          342.2201232910156,
          337.6881103515625,
          339.36041259765625,
          342.0716857910156,
          337.9453430175781,
          340.00360107421875,
          342.5367431640625,
          338.3708190917969,
          344.5653381347656,
          344.09033203125,
          343.1700439453125,
          351.4327087402344,
          348.0881042480469,
          364.4121398925781,
          367.682861328125,
          367.7225036621094,
          374.5118103027344,
          376.4445495605469,
          372.19256591796875,
          371.6771240234375,
          365.6510314941406,
          364.6797180175781,
          372.9458312988281,
          375.2154846191406,
          376.6427307128906,
          379.00164794921875,
          373.89727783203125,
          370.7157287597656,
          367.8315124511719,
          367.3161315917969,
          370.76531982421875,
          371.6176452636719,
          370.5968322753906,
          369.6651916503906,
          371.7366638183594,
          367.068359375,
          367.13775634765625,
          363.57952880859375,
          367.5440979003906,
          366.6817932128906,
          366.36468505859375,
          364.29315185546875,
          357.9300842285156,
          352.80584716796875,
          351.82464599609375,
          352.3796081542969,
          349.9910583496094,
          352.3301696777344,
          352.141845703125,
          350.36767578125,
          352.4193420410156,
          358.2967529296875,
          363.6786193847656,
          356.7506408691406,
          355.84869384765625,
          351.2993469238281,
          344.03424072265625,
          341.6555480957031,
          349.6936950683594,
          344.9956359863281,
          344.9164123535156,
          346.5616760253906,
          346.2247314453125,
          351.42822265625,
          347.9195556640625,
          351.22991943359375,
          348.51422119140625,
          351.47772216796875,
          351.1902770996094,
          356.34423828125,
          356.0766296386719,
          360.1898498535156,
          363.2227478027344,
          360.6755065917969,
          361.1321105957031,
          358.8291015625,
          357.50885009765625,
          361.46966552734375,
          359.1368103027344,
          366.9493103027344,
          369.7090148925781,
          370.03662109375,
          369.599853515625,
          370.0763244628906,
          372.2602233886719,
          372.49847412109375,
          371.9922180175781,
          365.8375244140625,
          364.0804443359375,
          370.9399719238281,
          377.2535095214844,
          377.084716796875,
          373.2827453613281,
          372.16094970703125,
          373.3720703125,
          381.84967041015625,
          382.6934814453125,
          380.1422119140625,
          379.74517822265625,
          380.5889587402344,
          379.12969970703125,
          380.6087951660156,
          377.4619445800781,
          384.172607421875,
          389.1558837890625,
          382.7530212402344,
          381.7206115722656,
          371.0194091796875,
          365.8077392578125,
          367.33648681640625,
          371.6348571777344,
          364.8150634765625,
          362.3531494140625,
          368.1703796386719,
          370.9995422363281,
          367.8129577636719,
          377.18402099609375,
          368.6766052246094,
          364.90435791015625,
          366.5224914550781,
          372.5679931640625,
          368.66668701171875,
          372.02203369140625,
          376.2707214355469,
          373.779052734375,
          371.88299560546875,
          373.3919372558594,
          375.0397644042969,
          377.0351257324219,
          374.66259765625,
          379.0006408691406,
          377.45208740234375,
          384.8376770019531,
          390.4265441894531,
          391.0816955566406,
          391.8460998535156,
          390.83209228515625,
          386.3983154296875,
          389.85784912109375,
          395.4647521972656,
          398.3377990722656,
          398.20855712890625,
          400.1471252441406,
          399.83892822265625,
          395.8226318359375,
          395.93194580078125,
          395.7231750488281,
          395.15655517578125,
          402.4137268066406,
          398.92431640625,
          400.04766845703125,
          392.1841125488281,
          390.65313720703125,
          391.96539306640625,
          394.739013671875,
          387.73040771484375,
          390.7028503417969,
          389.0526123046875,
          394.54022216796875,
          390.8818054199219,
          391.3589782714844,
          394.80865478515625,
          392.6612854003906,
          396.2401428222656,
          392.1343994140625,
          392.0549011230469,
          390.3151550292969,
          389.8677978515625,
          390.8917541503906,
          395.5045166015625,
          398.7055969238281,
          395.33551025390625,
          400.5248718261719,
          405.04815673828125,
          409.2334289550781,
          411.48016357421875,
          410.2176208496094,
          413.1304016113281,
          409.0843200683594,
          410.75445556640625,
          412.18597412109375,
          412.40472412109375,
          414.2438659667969,
          413.8262939453125,
          413.8561096191406,
          410.91351318359375,
          411.8778076171875,
          414.6812744140625,
          411.1024169921875,
          408.11004638671875,
          400.9920654296875,
          399.8587951660156,
          400.1271667480469,
          393.0589294433594,
          393.1583557128906,
          397.0951232910156,
          393.5858154296875,
          393.52618408203125,
          388.7643127441406,
          391.4484558105469,
          392.4539794921875,
          396.207275390625,
          392.9915466308594,
          398.5966491699219,
          398.03912353515625,
          398.1286926269531,
          396.26702880859375,
          399.38311767578125,
          399.9904479980469,
          391.46832275390625,
          386.15203857421875,
          382.70733642578125,
          381.97064208984375,
          385.1962585449219,
          384.5989074707031,
          362.9751281738281,
          362.4673767089844,
          370.77044677734375,
          374.68304443359375,
          376.14654541015625,
          380.9949645996094,
          384.340087890625,
          384.4495849609375,
          387.1475830078125,
          387.9739074707031,
          386.2416076660156,
          392.6332092285156,
          392.60333251953125,
          395.888671875,
          395.07232666015625,
          395.3411560058594,
          398.5269470214844,
          402.6087951660156,
          407.1386413574219,
          408.5125427246094,
          410.6729431152344,
          407.1585693359375,
          407.1983947753906,
          408.0047912597656,
          411.99700927734375,
          412.5246887207031,
          406.4218444824219,
          406.8797912597656,
          408.56231689453125,
          411.32000732421875,
          410.33441162109375,
          413.8686828613281,
          418.8863830566406,
          422.7989501953125,
          416.7060546875,
          416.716064453125,
          422.550048828125,
          423.5854797363281,
          417.5921325683594,
          421.564453125,
          422.2215576171875,
          421.79345703125,
          422.4803771972656,
          424.43170166015625,
          424.6208801269531,
          420.02130126953125,
          416.91510009765625,
          417.91070556640625,
          417.5622863769531,
          420.7730712890625,
          421.39129638671875,
          427.0450744628906,
          425.49951171875,
          427.8727111816406,
          427.1248474121094,
          426.197509765625,
          429.4880676269531,
          435.53076171875,
          438.49224853515625,
          437.5050964355469,
          437.44525146484375,
          435.5506896972656,
          437.2757263183594,
          439.3198547363281,
          443.91668701171875,
          447.94512939453125,
          459.6017150878906,
          459.26263427734375,
          455.4535827636719,
          459.1828918457031,
          460.5888671875,
          456.9493103027344,
          456.5704040527344,
          457.39801025390625,
          459.14300537109375,
          463.8594970703125,
          469.9320373535156,
          466.79107666015625,
          450.4579162597656,
          457.7370300292969,
          470.2112731933594,
          472.0659484863281,
          473.15283203125,
          473.3921203613281,
          477.4804382324219,
          473.4021301269531,
          475.2667541503906,
          467.1500244140625,
          466.18280029296875,
          470.25115966796875,
          466.2027587890625,
          467.9178466796875,
          467.818115234375,
          471.5174865722656,
          474.2496643066406,
          478.1086120605469,
          474.4690246582031,
          477.52032470703125,
          482.6156921386719,
          486.6441345214844,
          487.242431640625,
          480.2923583984375,
          474.678466796875,
          475.4362487792969,
          476.5829772949219,
          480.192626953125,
          477.03167724609375,
          478.0587463378906,
          476.05450439453125,
          468.4263916015625,
          475.7852783203125,
          478.14178466796875,
          471.461669921875,
          468.4761047363281,
          467.6173400878906,
          464.6916809082031,
          459.1099548339844,
          459.1399230957031,
          459.4794006347656,
          454.0274963378906,
          454.71649169921875,
          456.074462890625,
          462.135498046875,
          461.8159484863281,
          461.426513671875,
          461.736083984375,
          456.4239501953125,
          450.5326843261719,
          441.4161682128906,
          440.4476013183594,
          442.9239196777344,
          448.7053527832031,
          452.3899230957031,
          454.0973815917969,
          454.8163146972656,
          456.30413818359375,
          457.0829772949219,
          453.5282287597656,
          457.3226013183594,
          458.1913146972656,
          459.5892333984375,
          458.98016357421875,
          458.4209899902344,
          455.84478759765625,
          450.5426330566406,
          450.5126953125,
          444.42169189453125,
          441.8155822753906,
          441.4461364746094,
          446.4087829589844,
          442.5345153808594,
          444.1121520996094,
          445.9993896484375,
          448.0163879394531,
          449.124755859375,
          448.5855407714844,
          448.3758544921875,
          442.34478759765625,
          444.3418273925781,
          443.9723815917969,
          447.44720458984375,
          449.4442443847656,
          451.8407287597656,
          454.1772766113281,
          456.2841491699219,
          454.97607421875,
          451.7109069824219,
          442.09515380859375,
          440.50750732421875,
          436.9627380371094,
          443.9923400878906,
          447.5171203613281,
          448.8251953125,
          445.5799865722656,
          444.70001220703125,
          433.6400146484375,
          436.4200134277344,
          440.1099853515625,
          444,
          443.5299987792969,
          451.1600036621094,
          448.7200012207031,
          443.69000244140625,
          447.94000244140625,
          441.7200012207031,
          432.45001220703125,
          429.6000061035156,
          438.17999267578125,
          441.29998779296875,
          447.45001220703125,
          463.7099914550781,
          462.4100036621094,
          462.0199890136719,
          442,
          448.29998779296875,
          449.8399963378906,
          455.5799865722656,
          456.7799987792969,
          455.69000244140625,
          459.3599853515625,
          460.1600036621094,
          468.7099914550781,
          468.8800048828125,
          466.9800109863281,
          469.1199951171875,
          468,
          468.82000732421875,
          466.44000244140625,
          468.6400146484375,
          474.989990234375,
          471.79998779296875,
          480.79998779296875,
          483.3399963378906,
          482.1199951171875,
          483.1400146484375,
          477.3599853515625,
          476.1199951171875,
          487.0899963378906,
          488.0199890136719,
          488.17999267578125,
          492.1099853515625,
          493.3599853515625,
          497.7099914550781,
          500.989990234375,
          494.760009765625,
          493.010009765625,
          492.739990234375,
          497.1400146484375,
          487.4100036621094,
          489.45001220703125,
          491.2699890136719,
          493.6400146484375,
          493.79998779296875,
          496.3800048828125,
          495.57000732421875,
          494.9700012207031,
          497.70001220703125,
          491.29998779296875,
          497.05999755859375,
          499.95001220703125,
          498.0199890136719,
          502.260009765625,
          506.6600036621094,
          507.2300109863281,
          514.0700073242188,
          513.760009765625,
          516.3400268554688,
          515.010009765625,
          513.02001953125
         ]
        }
       ],
       "layout": {
        "height": 900,
        "template": {
         "data": {
          "bar": [
           {
            "error_x": {
             "color": "#f2f5fa"
            },
            "error_y": {
             "color": "#f2f5fa"
            },
            "marker": {
             "line": {
              "color": "rgb(17,17,17)",
              "width": 0.5
             },
             "pattern": {
              "fillmode": "overlay",
              "size": 10,
              "solidity": 0.2
             }
            },
            "type": "bar"
           }
          ],
          "barpolar": [
           {
            "marker": {
             "line": {
              "color": "rgb(17,17,17)",
              "width": 0.5
             },
             "pattern": {
              "fillmode": "overlay",
              "size": 10,
              "solidity": 0.2
             }
            },
            "type": "barpolar"
           }
          ],
          "carpet": [
           {
            "aaxis": {
             "endlinecolor": "#A2B1C6",
             "gridcolor": "#506784",
             "linecolor": "#506784",
             "minorgridcolor": "#506784",
             "startlinecolor": "#A2B1C6"
            },
            "baxis": {
             "endlinecolor": "#A2B1C6",
             "gridcolor": "#506784",
             "linecolor": "#506784",
             "minorgridcolor": "#506784",
             "startlinecolor": "#A2B1C6"
            },
            "type": "carpet"
           }
          ],
          "choropleth": [
           {
            "colorbar": {
             "outlinewidth": 0,
             "ticks": ""
            },
            "type": "choropleth"
           }
          ],
          "contour": [
           {
            "colorbar": {
             "outlinewidth": 0,
             "ticks": ""
            },
            "colorscale": [
             [
              0,
              "#0d0887"
             ],
             [
              0.1111111111111111,
              "#46039f"
             ],
             [
              0.2222222222222222,
              "#7201a8"
             ],
             [
              0.3333333333333333,
              "#9c179e"
             ],
             [
              0.4444444444444444,
              "#bd3786"
             ],
             [
              0.5555555555555556,
              "#d8576b"
             ],
             [
              0.6666666666666666,
              "#ed7953"
             ],
             [
              0.7777777777777778,
              "#fb9f3a"
             ],
             [
              0.8888888888888888,
              "#fdca26"
             ],
             [
              1,
              "#f0f921"
             ]
            ],
            "type": "contour"
           }
          ],
          "contourcarpet": [
           {
            "colorbar": {
             "outlinewidth": 0,
             "ticks": ""
            },
            "type": "contourcarpet"
           }
          ],
          "heatmap": [
           {
            "colorbar": {
             "outlinewidth": 0,
             "ticks": ""
            },
            "colorscale": [
             [
              0,
              "#0d0887"
             ],
             [
              0.1111111111111111,
              "#46039f"
             ],
             [
              0.2222222222222222,
              "#7201a8"
             ],
             [
              0.3333333333333333,
              "#9c179e"
             ],
             [
              0.4444444444444444,
              "#bd3786"
             ],
             [
              0.5555555555555556,
              "#d8576b"
             ],
             [
              0.6666666666666666,
              "#ed7953"
             ],
             [
              0.7777777777777778,
              "#fb9f3a"
             ],
             [
              0.8888888888888888,
              "#fdca26"
             ],
             [
              1,
              "#f0f921"
             ]
            ],
            "type": "heatmap"
           }
          ],
          "heatmapgl": [
           {
            "colorbar": {
             "outlinewidth": 0,
             "ticks": ""
            },
            "colorscale": [
             [
              0,
              "#0d0887"
             ],
             [
              0.1111111111111111,
              "#46039f"
             ],
             [
              0.2222222222222222,
              "#7201a8"
             ],
             [
              0.3333333333333333,
              "#9c179e"
             ],
             [
              0.4444444444444444,
              "#bd3786"
             ],
             [
              0.5555555555555556,
              "#d8576b"
             ],
             [
              0.6666666666666666,
              "#ed7953"
             ],
             [
              0.7777777777777778,
              "#fb9f3a"
             ],
             [
              0.8888888888888888,
              "#fdca26"
             ],
             [
              1,
              "#f0f921"
             ]
            ],
            "type": "heatmapgl"
           }
          ],
          "histogram": [
           {
            "marker": {
             "pattern": {
              "fillmode": "overlay",
              "size": 10,
              "solidity": 0.2
             }
            },
            "type": "histogram"
           }
          ],
          "histogram2d": [
           {
            "colorbar": {
             "outlinewidth": 0,
             "ticks": ""
            },
            "colorscale": [
             [
              0,
              "#0d0887"
             ],
             [
              0.1111111111111111,
              "#46039f"
             ],
             [
              0.2222222222222222,
              "#7201a8"
             ],
             [
              0.3333333333333333,
              "#9c179e"
             ],
             [
              0.4444444444444444,
              "#bd3786"
             ],
             [
              0.5555555555555556,
              "#d8576b"
             ],
             [
              0.6666666666666666,
              "#ed7953"
             ],
             [
              0.7777777777777778,
              "#fb9f3a"
             ],
             [
              0.8888888888888888,
              "#fdca26"
             ],
             [
              1,
              "#f0f921"
             ]
            ],
            "type": "histogram2d"
           }
          ],
          "histogram2dcontour": [
           {
            "colorbar": {
             "outlinewidth": 0,
             "ticks": ""
            },
            "colorscale": [
             [
              0,
              "#0d0887"
             ],
             [
              0.1111111111111111,
              "#46039f"
             ],
             [
              0.2222222222222222,
              "#7201a8"
             ],
             [
              0.3333333333333333,
              "#9c179e"
             ],
             [
              0.4444444444444444,
              "#bd3786"
             ],
             [
              0.5555555555555556,
              "#d8576b"
             ],
             [
              0.6666666666666666,
              "#ed7953"
             ],
             [
              0.7777777777777778,
              "#fb9f3a"
             ],
             [
              0.8888888888888888,
              "#fdca26"
             ],
             [
              1,
              "#f0f921"
             ]
            ],
            "type": "histogram2dcontour"
           }
          ],
          "mesh3d": [
           {
            "colorbar": {
             "outlinewidth": 0,
             "ticks": ""
            },
            "type": "mesh3d"
           }
          ],
          "parcoords": [
           {
            "line": {
             "colorbar": {
              "outlinewidth": 0,
              "ticks": ""
             }
            },
            "type": "parcoords"
           }
          ],
          "pie": [
           {
            "automargin": true,
            "type": "pie"
           }
          ],
          "scatter": [
           {
            "marker": {
             "line": {
              "color": "#283442"
             }
            },
            "type": "scatter"
           }
          ],
          "scatter3d": [
           {
            "line": {
             "colorbar": {
              "outlinewidth": 0,
              "ticks": ""
             }
            },
            "marker": {
             "colorbar": {
              "outlinewidth": 0,
              "ticks": ""
             }
            },
            "type": "scatter3d"
           }
          ],
          "scattercarpet": [
           {
            "marker": {
             "colorbar": {
              "outlinewidth": 0,
              "ticks": ""
             }
            },
            "type": "scattercarpet"
           }
          ],
          "scattergeo": [
           {
            "marker": {
             "colorbar": {
              "outlinewidth": 0,
              "ticks": ""
             }
            },
            "type": "scattergeo"
           }
          ],
          "scattergl": [
           {
            "marker": {
             "line": {
              "color": "#283442"
             }
            },
            "type": "scattergl"
           }
          ],
          "scattermapbox": [
           {
            "marker": {
             "colorbar": {
              "outlinewidth": 0,
              "ticks": ""
             }
            },
            "type": "scattermapbox"
           }
          ],
          "scatterpolar": [
           {
            "marker": {
             "colorbar": {
              "outlinewidth": 0,
              "ticks": ""
             }
            },
            "type": "scatterpolar"
           }
          ],
          "scatterpolargl": [
           {
            "marker": {
             "colorbar": {
              "outlinewidth": 0,
              "ticks": ""
             }
            },
            "type": "scatterpolargl"
           }
          ],
          "scatterternary": [
           {
            "marker": {
             "colorbar": {
              "outlinewidth": 0,
              "ticks": ""
             }
            },
            "type": "scatterternary"
           }
          ],
          "surface": [
           {
            "colorbar": {
             "outlinewidth": 0,
             "ticks": ""
            },
            "colorscale": [
             [
              0,
              "#0d0887"
             ],
             [
              0.1111111111111111,
              "#46039f"
             ],
             [
              0.2222222222222222,
              "#7201a8"
             ],
             [
              0.3333333333333333,
              "#9c179e"
             ],
             [
              0.4444444444444444,
              "#bd3786"
             ],
             [
              0.5555555555555556,
              "#d8576b"
             ],
             [
              0.6666666666666666,
              "#ed7953"
             ],
             [
              0.7777777777777778,
              "#fb9f3a"
             ],
             [
              0.8888888888888888,
              "#fdca26"
             ],
             [
              1,
              "#f0f921"
             ]
            ],
            "type": "surface"
           }
          ],
          "table": [
           {
            "cells": {
             "fill": {
              "color": "#506784"
             },
             "line": {
              "color": "rgb(17,17,17)"
             }
            },
            "header": {
             "fill": {
              "color": "#2a3f5f"
             },
             "line": {
              "color": "rgb(17,17,17)"
             }
            },
            "type": "table"
           }
          ]
         },
         "layout": {
          "annotationdefaults": {
           "arrowcolor": "#f2f5fa",
           "arrowhead": 0,
           "arrowwidth": 1
          },
          "autotypenumbers": "strict",
          "coloraxis": {
           "colorbar": {
            "outlinewidth": 0,
            "ticks": ""
           }
          },
          "colorscale": {
           "diverging": [
            [
             0,
             "#8e0152"
            ],
            [
             0.1,
             "#c51b7d"
            ],
            [
             0.2,
             "#de77ae"
            ],
            [
             0.3,
             "#f1b6da"
            ],
            [
             0.4,
             "#fde0ef"
            ],
            [
             0.5,
             "#f7f7f7"
            ],
            [
             0.6,
             "#e6f5d0"
            ],
            [
             0.7,
             "#b8e186"
            ],
            [
             0.8,
             "#7fbc41"
            ],
            [
             0.9,
             "#4d9221"
            ],
            [
             1,
             "#276419"
            ]
           ],
           "sequential": [
            [
             0,
             "#0d0887"
            ],
            [
             0.1111111111111111,
             "#46039f"
            ],
            [
             0.2222222222222222,
             "#7201a8"
            ],
            [
             0.3333333333333333,
             "#9c179e"
            ],
            [
             0.4444444444444444,
             "#bd3786"
            ],
            [
             0.5555555555555556,
             "#d8576b"
            ],
            [
             0.6666666666666666,
             "#ed7953"
            ],
            [
             0.7777777777777778,
             "#fb9f3a"
            ],
            [
             0.8888888888888888,
             "#fdca26"
            ],
            [
             1,
             "#f0f921"
            ]
           ],
           "sequentialminus": [
            [
             0,
             "#0d0887"
            ],
            [
             0.1111111111111111,
             "#46039f"
            ],
            [
             0.2222222222222222,
             "#7201a8"
            ],
            [
             0.3333333333333333,
             "#9c179e"
            ],
            [
             0.4444444444444444,
             "#bd3786"
            ],
            [
             0.5555555555555556,
             "#d8576b"
            ],
            [
             0.6666666666666666,
             "#ed7953"
            ],
            [
             0.7777777777777778,
             "#fb9f3a"
            ],
            [
             0.8888888888888888,
             "#fdca26"
            ],
            [
             1,
             "#f0f921"
            ]
           ]
          },
          "colorway": [
           "#636efa",
           "#EF553B",
           "#00cc96",
           "#ab63fa",
           "#FFA15A",
           "#19d3f3",
           "#FF6692",
           "#B6E880",
           "#FF97FF",
           "#FECB52"
          ],
          "font": {
           "color": "#f2f5fa"
          },
          "geo": {
           "bgcolor": "rgb(17,17,17)",
           "lakecolor": "rgb(17,17,17)",
           "landcolor": "rgb(17,17,17)",
           "showlakes": true,
           "showland": true,
           "subunitcolor": "#506784"
          },
          "hoverlabel": {
           "align": "left"
          },
          "hovermode": "closest",
          "mapbox": {
           "style": "dark"
          },
          "paper_bgcolor": "rgb(17,17,17)",
          "plot_bgcolor": "rgb(17,17,17)",
          "polar": {
           "angularaxis": {
            "gridcolor": "#506784",
            "linecolor": "#506784",
            "ticks": ""
           },
           "bgcolor": "rgb(17,17,17)",
           "radialaxis": {
            "gridcolor": "#506784",
            "linecolor": "#506784",
            "ticks": ""
           }
          },
          "scene": {
           "xaxis": {
            "backgroundcolor": "rgb(17,17,17)",
            "gridcolor": "#506784",
            "gridwidth": 2,
            "linecolor": "#506784",
            "showbackground": true,
            "ticks": "",
            "zerolinecolor": "#C8D4E3"
           },
           "yaxis": {
            "backgroundcolor": "rgb(17,17,17)",
            "gridcolor": "#506784",
            "gridwidth": 2,
            "linecolor": "#506784",
            "showbackground": true,
            "ticks": "",
            "zerolinecolor": "#C8D4E3"
           },
           "zaxis": {
            "backgroundcolor": "rgb(17,17,17)",
            "gridcolor": "#506784",
            "gridwidth": 2,
            "linecolor": "#506784",
            "showbackground": true,
            "ticks": "",
            "zerolinecolor": "#C8D4E3"
           }
          },
          "shapedefaults": {
           "line": {
            "color": "#f2f5fa"
           }
          },
          "sliderdefaults": {
           "bgcolor": "#C8D4E3",
           "bordercolor": "rgb(17,17,17)",
           "borderwidth": 1,
           "tickwidth": 0
          },
          "ternary": {
           "aaxis": {
            "gridcolor": "#506784",
            "linecolor": "#506784",
            "ticks": ""
           },
           "baxis": {
            "gridcolor": "#506784",
            "linecolor": "#506784",
            "ticks": ""
           },
           "bgcolor": "rgb(17,17,17)",
           "caxis": {
            "gridcolor": "#506784",
            "linecolor": "#506784",
            "ticks": ""
           }
          },
          "title": {
           "x": 0.05
          },
          "updatemenudefaults": {
           "bgcolor": "#506784",
           "borderwidth": 0
          },
          "xaxis": {
           "automargin": true,
           "gridcolor": "#283442",
           "linecolor": "#506784",
           "ticks": "",
           "title": {
            "standoff": 15
           },
           "zerolinecolor": "#283442",
           "zerolinewidth": 2
          },
          "yaxis": {
           "automargin": true,
           "gridcolor": "#283442",
           "linecolor": "#506784",
           "ticks": "",
           "title": {
            "standoff": 15
           },
           "zerolinecolor": "#283442",
           "zerolinewidth": 2
          }
         }
        },
        "title": {
         "text": "LSTM model predictions vs. actual price of MA"
        },
        "width": 1500
       }
      },
      "text/html": [
       "<div>                            <div id=\"3c125ab2-b32e-4933-87bc-d0fa1893aeba\" class=\"plotly-graph-div\" style=\"height:900px; width:1500px;\"></div>            <script type=\"text/javascript\">                require([\"plotly\"], function(Plotly) {                    window.PLOTLYENV=window.PLOTLYENV || {};                                    if (document.getElementById(\"3c125ab2-b32e-4933-87bc-d0fa1893aeba\")) {                    Plotly.newPlot(                        \"3c125ab2-b32e-4933-87bc-d0fa1893aeba\",                        [{\"marker\":{\"color\":\"#FF6F61\",\"opacity\":0.9},\"mode\":\"lines\",\"name\":\"predicted\",\"y\":[86.68978118896484,85.2420883178711,86.53965759277344,88.84842681884766,89.26493072509766,91.43526458740234,91.83598327636719,93.6541519165039,93.05934143066406,93.96390533447266,94.9825668334961,96.51676940917969,95.1341323852539,97.20061492919922,95.9019546508789,96.24869537353516,96.58893585205078,99.59588623046875,98.31168365478516,98.13494110107422,98.06554412841797,98.17505645751953,99.46890258789062,101.26683044433594,101.03201293945312,100.99803924560547,100.23298645019531,100.90586853027344,100.34503173828125,101.2005615234375,99.93865203857422,100.05575561523438,99.55384063720703,99.50685119628906,100.38780212402344,100.96659088134766,99.62600708007812,99.6468505859375,100.71382141113281,101.43718719482422,101.83212280273438,101.07357788085938,102.40007019042969,103.18584442138672,104.59642791748047,105.7908706665039,106.06869506835938,102.13428497314453,105.75424194335938,103.80535125732422,102.81716918945312,104.37232971191406,104.09571075439453,104.64654541015625,105.60677337646484,107.29928588867188,108.6677017211914,107.5390396118164,106.27037811279297,107.04073333740234,107.67108917236328,105.76797485351562,107.8072280883789,107.85132598876953,106.79447174072266,108.85637664794922,109.52287292480469,108.3681869506836,109.1450424194336,106.61375427246094,106.75929260253906,105.62918090820312,106.1388168334961,105.84918212890625,106.9438705444336,108.71131134033203,108.314453125,108.60746002197266,109.5462417602539,108.55902862548828,106.57157897949219,103.33186340332031,100.25865173339844,100.51406860351562,98.2480697631836,96.11532592773438,95.32039642333984,94.67221069335938,100.64635467529297,103.52318572998047,113.38137817382812,110.92815399169922,111.01080322265625,105.50521087646484,107.50868225097656,109.8978042602539,111.03466033935547,111.21826934814453,113.27776336669922,112.67343139648438,110.94550323486328,112.73367309570312,109.26600646972656,109.90093994140625,107.13711547851562,103.8354721069336,105.05883026123047,108.85781860351562,107.09904479980469,112.43006134033203,112.01055145263672,111.74958801269531,110.10382843017578,111.77899169921875,110.27418518066406,111.87200164794922,110.2457504272461,110.37129211425781,111.83272552490234,111.19007873535156,111.17321014404297,111.80477142333984,112.09729766845703,110.35177612304688,110.45611572265625,109.498291015625,113.01752471923828,114.73100280761719,116.03772735595703,117.56132507324219,116.96133422851562,116.51410675048828,117.42469787597656,118.22228240966797,118.22059631347656,117.7572250366211,118.27986907958984,118.00758361816406,119.91093444824219,119.51239013671875,120.59309387207031,121.5629653930664,120.3049087524414,121.01815032958984,120.05960845947266,116.09869384765625,114.63919067382812,114.74280548095703,120.05767822265625,118.77263641357422,118.91914367675781,119.41768646240234,122.45042419433594,124.6617202758789,127.03904724121094,129.01083374023438,131.3727264404297,131.14309692382812,132.11441040039062,135.3020782470703,135.22207641601562,134.3310089111328,135.02810668945312,136.1456756591797,134.5712432861328,141.67764282226562,138.73672485351562,138.6675567626953,136.8011016845703,135.2023162841797,133.7228240966797,134.36354064941406,135.9962921142578,135.881591796875,134.66835021972656,138.7605743408203,137.12928771972656,136.0904998779297,135.37171936035156,128.9469757080078,129.4459991455078,128.5590362548828,127.62361907958984,127.05591583251953,131.2433319091797,132.2707977294922,133.7112579345703,132.44163513183594,131.45152282714844,132.0731964111328,129.868896484375,130.80455017089844,130.5072021484375,130.8585205078125,130.1057586669922,128.2438507080078,124.01642608642578,128.1077117919922,126.37688446044922,125.45809936523438,128.08216857910156,126.3826675415039,132.0300750732422,135.585205078125,135.3018341064453,134.9466552734375,134.4257049560547,135.50881958007812,134.54161071777344,134.38401794433594,134.235107421875,137.39096069335938,138.19142150878906,137.6622772216797,138.1502227783203,136.8589324951172,135.2425537109375,137.3695068359375,136.70326232910156,128.25686645507812,129.26287841796875,132.37103271484375,134.37847900390625,134.96136474609375,135.4688262939453,137.3398895263672,137.87191772460938,137.04495239257812,135.60255432128906,140.14898681640625,140.9591064453125,139.469970703125,138.3352813720703,139.3521270751953,139.8858642578125,141.1130828857422,142.59353637695312,143.94412231445312,143.07040405273438,142.73377990722656,142.47666931152344,146.97637939453125,142.69113159179688,142.12269592285156,141.7908935546875,141.8656005859375,142.56631469726562,137.878173828125,141.707763671875,139.0955047607422,140.3145294189453,142.5072784423828,142.1463165283203,137.04180908203125,139.9632110595703,139.8675537109375,138.02732849121094,141.84463500976562,143.00172424316406,144.63543701171875,144.27520751953125,144.2549591064453,147.47227478027344,147.04481506347656,145.78289794921875,144.67254638671875,146.36386108398438,145.51736450195312,146.86337280273438,146.89517211914062,146.39541625976562,146.34988403320312,145.66049194335938,144.9330291748047,146.203369140625,146.71951293945312,145.5710906982422,145.49566650390625,138.914306640625,139.98875427246094,142.03981018066406,142.48365783691406,143.14341735839844,143.57257080078125,144.0978546142578,144.94097900390625,146.4108428955078,146.22096252441406,146.29685974121094,145.5045928955078,147.2821502685547,147.13661193847656,146.3571014404297,144.61520385742188,143.86630249023438,144.64291381835938,144.46556091308594,150.66452026367188,152.39125061035156,158.82081604003906,159.0899658203125,154.62689208984375,157.3475799560547,157.90492248535156,157.69142150878906,159.2227325439453,158.97743225097656,158.15335083007812,158.18563842773438,153.9618377685547,153.61509704589844,154.7842254638672,155.0880889892578,155.95265197753906,156.39842224121094,158.3273162841797,156.4866180419922,158.57357788085938,157.88925170898438,160.0275421142578,161.60704040527344,162.79666137695312,163.12484741210938,163.73544311523438,161.4911346435547,161.4169158935547,161.60293579101562,159.7552490234375,159.27645874023438,160.31716918945312,159.81211853027344,160.59283447265625,160.83282470703125,163.43907165527344,164.56675720214844,164.09640502929688,163.1841278076172,161.93980407714844,163.20098876953125,164.13592529296875,163.7889404296875,163.23568725585938,162.77352905273438,163.6371307373047,164.16580200195312,164.60098266601562,163.6838836669922,165.54747009277344,164.33737182617188,165.1026611328125,168.70358276367188,166.81541442871094,168.5218963623047,168.7141876220703,168.69972229003906,169.4626007080078,172.97052001953125,172.58160400390625,177.79141235351562,173.39749145507812,171.14161682128906,171.18499755859375,174.52615356445312,176.09095764160156,175.62156677246094,175.9839630126953,172.8977508544922,178.0032196044922,182.24220275878906,181.38101196289062,180.967041015625,183.12413024902344,182.45472717285156,181.2475128173828,181.4879913330078,182.45521545410156,179.0465850830078,184.57278442382812,187.45852661132812,188.70718383789062,190.63632202148438,191.37655639648438,192.22377014160156,191.11294555664062,195.33987426757812,199.2400665283203,196.50660705566406,201.62510681152344,199.15187072753906,201.49642944335938,206.13491821289062,208.65826416015625,208.39320373535156,207.3922576904297,214.91505432128906,211.43702697753906,204.3282012939453,203.0419464111328,198.9219970703125,187.15347290039062,186.3009490966797,189.71295166015625,189.7418670654297,184.69277954101562,189.39248657226562,191.28353881835938,194.8116912841797,195.29794311523438,196.19046020507812,198.40634155273438,198.70755004882812,194.8762664794922,196.0121612548828,196.766357421875,197.55575561523438,196.9427490234375,198.9282684326172,198.78753662109375,200.68052673339844,204.90264892578125,203.0973663330078,205.91419982910156,204.90264892578125,207.96478271484375,207.00816345214844,205.93154907226562,205.67662048339844,206.80479431152344,208.80284118652344,208.45875549316406,210.6857147216797,208.85633850097656,205.40769958496094,205.2549285888672,207.22984313964844,203.50990295410156,199.9764404296875,205.1696319580078,204.93252563476562,201.81787109375,201.81112670898438,203.7469940185547,198.60874938964844,198.44248962402344,202.84725952148438,199.81741333007812,202.26026916503906,201.95425415039062,198.82754516601562,204.4038543701172,205.9585418701172,206.4833526611328,203.8930206298828,200.3465576171875,200.8651123046875,199.05018615722656,203.91856384277344,200.13162231445312,205.52818298339844,208.56285095214844,233.04302978515625,234.75096130371094,232.02134704589844,231.7375030517578,236.2882843017578,228.7678985595703,230.12594604492188,229.1568145751953,224.8113250732422,229.55921936035156,228.07730102539062,225.31637573242188,224.49566650390625,222.78675842285156,224.89083862304688,226.1587677001953,223.92169189453125,223.66290283203125,227.9741668701172,225.55348205566406,224.89950561523438,234.94998168945312,237.7595977783203,242.41880798339844,246.8587646484375,236.93887329101562,235.50131225585938,231.62521362304688,233.83433532714844,234.55722045898438,232.35194396972656,233.24349975585938,239.37017822265625,238.41500854492188,243.16482543945312,246.1792449951172,246.4828643798828,238.2863311767578,240.3026885986328,236.71815490722656,244.16818237304688,241.87135314941406,243.53445434570312,243.38072204589844,244.27613830566406,240.37112426757812,237.34609985351562,235.7022705078125,247.7681427001953,253.22061157226562,246.3734588623047,241.6997833251953,245.53057861328125,249.61920166015625,245.386962890625,247.57200622558594,250.95413208007812,253.3304901123047,259.8335266113281,239.39572143554688,233.139892578125,227.43731689453125,226.59877014160156,232.00254821777344,232.1871337890625,228.96597290039062,229.08885192871094,230.27728271484375,230.48257446289062,232.79000854492188,232.42086791992188,232.07772827148438,233.6242218017578,228.37368774414062,232.92832946777344,230.9722137451172,233.94615173339844,230.956787109375,232.5880889892578,233.94615173339844,239.50270080566406,241.3822021484375,243.7127685546875,245.05154418945312,244.572998046875,247.9715118408203,250.4158172607422,243.4048309326172,245.83322143554688,243.92529296875,244.018310546875,245.7512969970703,245.96913146972656,250.5396728515625,252.0794219970703,252.82302856445312,259.6759338378906,252.4509735107422,255.90298461914062,256.9955139160156,258.7424621582031,262.0079650878906,265.37371826171875,262.6889343261719,263.667236328125,264.1636047363281,260.6566467285156,262.9934997558594,249.26451110839844,246.12574768066406,238.95379638671875,241.90219116210938,227.2349090576172,232.50086975097656,249.84329223632812,243.3489227294922,249.0351104736328,247.19947814941406,248.0177764892578,245.6337127685547,253.33482360839844,251.67074584960938,245.94888305664062,263.111572265625,254.21722412109375,243.5648193359375,222.3202667236328,244.1999969482422,240.79087829589844,239.5504150390625,236.29840087890625,234.8015594482422,246.7903289794922,250.43943786621094,247.40863037109375,243.6631317138672,241.40196228027344,245.1522674560547,245.8597412109375,239.9446258544922,223.45037841796875,230.27342224121094,229.2146453857422,217.8249053955078,235.95431518554688,237.5277862548828,248.02597045898438,232.2791748046875,239.09982299804688,258.33233642578125,256.1795959472656,263.7506103515625,247.02549743652344,247.5117645263672,244.3845672607422,246.42503356933594,248.42308044433594,232.4049530029297,214.02349853515625,215.638427734375,208.7059783935547,197.82803344726562,183.79640197753906,157.14805603027344,194.32591247558594,201.83425903320312,203.056884765625,207.4452667236328,209.23223876953125,192.9866485595703,218.60560607910156,228.95391845703125,236.12925720214844,236.8800811767578,238.77740478515625,239.0270538330078,232.55242919921875,239.70077514648438,238.69789123535156,241.3229217529297,250.32666015625,242.56195068359375,243.4906005859375,243.65542602539062,246.84719848632812,237.6140594482422,235.19432067871094,246.02647399902344,228.54428100585938,240.37545776367188,248.1127166748047,253.4630126953125,249.3411407470703,239.83233642578125,235.15528869628906,235.97744750976562,246.94935607910156,250.86207580566406,249.93197631835938,260.040771484375,263.2744445800781,264.629150390625,263.1727600097656,265.923583984375,267.6546325683594,268.6599426269531,267.4710388183594,267.49176025390625,272.453125,266.145263671875,265.26190185546875,262.98291015625,257.2355041503906,258.3289794921875,273.61553955078125,276.8005676269531,281.8963928222656,284.5691223144531,289.44281005859375,292.898193359375,290.1338806152344,287.23272705078125,290.1878662109375,275.47479248046875,275.3677978515625,282.7898864746094,276.7731018066406,276.1441650390625,285.9069519042969,291.71746826171875,292.98638916015625,297.9694519042969,303.703369140625,306.69512939453125,308.0652160644531,302.4137268066406,306.5413818359375,306.5780334472656,312.2208557128906,313.5653991699219,311.19146728515625,307.7013854980469,308.48016357421875,305.28070068359375,316.67572021484375,309.94281005859375,307.3018798828125,315.5885009765625,319.6289367675781,305.2021179199219,305.23779296875,301.2629089355469,311.56158447265625,306.5804443359375,292.4201354980469,292.1550598144531,286.2621154785156,287.8201904296875,268.20452880859375,274.56298828125,280.3605041503906,284.5647888183594,276.9190979003906,262.2715759277344,269.61077880859375,261.0470275878906,261.0552062988281,259.6961975097656,243.04530334472656,230.27630615234375,231.32208251953125,217.81044006347656,238.60922241210938,254.66636657714844,249.79269409179688,257.02490234375,253.01242065429688,260.742431640625,267.2271728515625,266.27105712890625,276.45501708984375,278.33258056640625,282.5310974121094,298.0238952636719,302.1452941894531,300.3332824707031,305.44549560546875,300.8788146972656,299.1053466796875,291.5015869140625,298.4094543457031,300.8990478515625,306.1838073730469,301.01568603515625,308.12982177734375,307.9505310058594,301.2441101074219,299.4908752441406,303.20263671875,300.1106262207031,302.4614562988281,303.82623291015625,304.8527526855469,298.62921142578125,302.2571105957031,293.6403503417969,290.9290466308594,301.2219543457031,309.6507568359375,300.5009765625,307.6864318847656,306.1664733886719,309.3509826660156,304.0373229980469,286.1368408203125,286.7026062011719,264.1457824707031,265.3852844238281,257.2774353027344,266.6324768066406,264.8416748046875,256.5140686035156,269.33123779296875,237.68247985839844,232.11146545410156,249.78836059570312,259.134765625,249.28619384765625,249.02113342285156,250.5266571044922,229.59197998046875,236.06997680664062,232.2242431640625,237.42127990722656,251.69869995117188,251.96376037597656,242.00146484375,244.22698974609375,250.87075805664062,256.82537841796875,274.3114318847656,300.2908630371094,316.60296630859375,306.1741638183594,303.7481689453125,303.72601318359375,301.31060791015625,303.166015625,301.9525451660156,305.86767578125,300.95977783203125,293.5160217285156,299.4552307128906,292.6369934082031,296.5733337402344,291.9989318847656,279.81689453125,263.9134826660156,269.95294189453125,279.28680419921875,276.20538330078125,262.6971130371094,264.6720275878906,269.23870849609375,283.97491455078125,280.88580322265625,292.195556640625,288.0934143066406,298.4769287109375,307.0609130859375,307.1929626464844,326.8168029785156,332.01385498046875,327.012451171875,332.3386535644531,326.3965759277344,325.7382507324219,324.9199523925781,320.3503723144531,332.8437194824219,343.60791015625,352.5745544433594,352.6275634765625,354.136962890625,353.64923095703125,347.2599182128906,349.77459716796875,347.1124572753906,344.6662292480469,352.5697326660156,352.5186462402344,344.6941833496094,335.8644104003906,332.5246887207031,341.445068359375,340.1968688964844,341.3515625,344.4811706542969,336.3501892089844,335.36322021484375,322.6375732421875,330.9555358886719,326.17681884765625,339.963623046875,340.8224182128906,339.075927734375,338.5284729003906,346.8907775878906,339.5028991699219,350.93121337890625,353.1335754394531,355.2617492675781,357.0198059082031,365.0804443359375,368.8885803222656,368.92230224609375,375.3540344238281,370.76904296875,367.58642578125,369.8350830078125,375.0909118652344,369.5353088378906,372.0008239746094,369.5198974609375,367.235595703125,368.17340087890625,357.4583435058594,359.3600158691406,373.5738220214844,372.9049072265625,369.6933898925781,373.3791198730469,380.1404724121094,374.01910400390625,370.7767333984375,355.9933166503906,347.8671569824219,352.5427551269531,355.25115966796875,354.11285400390625,331.83843994140625,319.5002746582031,335.76416015625,356.3653564453125,359.4371337890625,356.94464111328125,365.90740966796875,362.2920227050781,370.5184326171875,362.5647888183594,355.061279296875,350.87530517578125,352.73553466796875,342.2431335449219,333.66107177734375,303.091796875,301.7481994628906,309.1322021484375,261.7322998046875,237.8048858642578,277.4217529296875,266.5168151855469,317.3586120605469,284.2823791503906,263.86431884765625,199.5547637939453,234.03627014160156,173.8480987548828,128.72096252441406,163.28147888183594,116.29315185546875,145.17181396484375,127.79325866699219,128.03518676757812,118.1495132446289,120.28105163574219,128.30313110351562,115.1505126953125,142.59547424316406,138.05624389648438,151.9519805908203,159.69357299804688,141.36705017089844,144.2894287109375,140.76319885253906,148.4296112060547,156.4410858154297,177.6147918701172,201.8458251953125,196.69985961914062,229.1004180908203,222.63302612304688,258.1993408203125,269.03631591796875,257.9294738769531,225.5954132080078,233.18325805664062,235.44540405273438,248.31463623046875,258.70391845703125,251.3787078857422,250.5729217529297,258.79547119140625,229.70668029785156,235.5697479248047,238.30899047851562,233.64976501464844,239.3277587890625,256.8282775878906,257.7525939941406,247.69874572753906,226.61178588867188,224.78143310546875,230.88160705566406,258.9699401855469,235.46083068847656,243.92433166503906,239.874267578125,241.88002014160156,237.9928436279297,272.42132568359375,263.720703125,278.2651062011719,280.6332702636719,290.9165344238281,302.55010986328125,309.0339050292969,329.8885803222656,355.060302734375,337.0200500488281,325.5406799316406,274.3991394042969,280.5552062988281,294.8663635253906,303.4956359863281,301.45806884765625,299.5506286621094,314.4892578125,304.5443115234375,310.02569580078125,296.1087646484375,305.9505615234375,285.30792236328125,301.19012451171875,320.62603759765625,311.8589172363281,319.25738525390625,339.482666015625,332.5208435058594,345.2541809082031,348.215087890625,362.69781494140625,357.70703125,360.0163879394531,359.6617126464844,368.56280517578125,361.0766296386719,356.2651062011719,369.4148254394531,365.1382751464844,352.3692626953125,346.82330322265625,356.7007751464844,353.7552795410156,368.8982238769531,353.59912109375,360.31036376953125,359.7214660644531,363.4515380859375,337.36126708984375,347.2926940917969,350.25457763671875,373.265380859375,342.3163757324219,372.0788879394531,371.3772277832031,366.9724426269531,366.3912658691406,367.0013732910156,358.7682189941406,354.802001953125,361.6375732421875,362.6920166015625,359.4149475097656,371.38397216796875,359.4429016113281,348.11968994140625,362.5088806152344,383.6912841796875,406.3628234863281,380.1279602050781,385.5119934082031,342.6383056640625,353.9210510253906,339.56268310546875,347.7688293457031,351.29071044921875,359.686767578125,341.7525329589844,335.1559753417969,323.53009033203125,316.8362121582031,316.82366943359375,300.1530456542969,293.24420166015625,312.40155029296875,324.9700927734375,321.7845764160156,330.9526672363281,330.2962951660156,324.312744140625,345.7669372558594,333.41143798828125,346.9649963378906,356.98028564453125,356.66607666015625,387.40594482421875,391.9118957519531,385.551513671875,390.8083190917969,389.82421875,378.5790710449219,388.5461730957031,380.4537353515625,388.33892822265625,408.0447082519531,400.2231140136719,389.0136413574219,379.223876953125,378.74578857421875,376.65521240234375,367.6018371582031,367.2779846191406,383.2778015136719,394.37451171875,383.7770690917969,434.8096923828125,424.8194580078125,418.537109375,418.2518310546875,426.734619140625,414.837890625,425.0565490722656,437.0670166015625,426.2816162109375,398.21832275390625,420.462890625,439.59613037109375,436.298828125,425.97027587890625,422.1438293457031,418.5843505859375,422.4387512207031,407.24859619140625,426.4203796386719,416.52655029296875,413.0335693359375,410.1690368652344,394.615478515625,382.794921875,399.241943359375,394.19140625,387.0782165527344,395.4096984863281,410.8292541503906,396.02655029296875,393.57550048828125,383.6980285644531,399.8086853027344,417.0605163574219,425.3727111816406,451.4427490234375,449.4504699707031,445.9093017578125,427.953857421875,424.3837890625,417.8335266113281,424.6363220214844,413.99932861328125,402.3426208496094,408.343505859375,375.8687438964844,370.36517333984375,373.7945251464844,385.0666809082031,384.75054931640625,376.9646301269531,377.3385925292969,373.8109130859375,361.1363830566406,374.01141357421875,366.5715026855469,369.2172546386719,388.4488220214844,386.0719909667969,393.173583984375,388.3447265625,384.5317687988281,377.7867736816406,379.5158996582031,393.00201416015625,388.56640625,390.8574523925781,383.3375549316406,385.24017333984375,378.7535095214844,393.0222473144531,409.48663330078125,440.5233459472656,427.1567687988281,430.8193664550781,434.0260925292969,443.0871887207031,448.64276123046875,427.97216796875,444.3083801269531,482.0052490234375,485.4403991699219,494.6566467285156,490.30780029296875,485.0268859863281,475.7672424316406,478.3079528808594,463.80401611328125,440.9715270996094,424.2141418457031,425.3765563964844,420.8069763183594,433.9836730957031,427.3331604003906,434.3778991699219,427.18280029296875,420.5525207519531,415.3708801269531,422.8589782714844,427.53363037109375,430.6680603027344,432.8472900390625,445.0611267089844,446.2803955078125,446.7170104980469,442.7093505859375,443.3955993652344,453.55645751953125,451.8196105957031,445.57196044921875,438.1937561035156,445.4533996582031,448.3767395019531,450.99261474609375,451.05816650390625,454.74871826171875,465.48785400390625,441.2134704589844,431.4237060546875,423.9433288574219,417.5954284667969,402.8563537597656,413.60321044921875,407.4085693359375,399.9368591308594,409.8133850097656,398.057373046875,393.81646728515625,390.341796875,390.99432373046875,396.9161682128906,394.2550048828125,405.7787170410156,404.9613952636719,408.58447265625,393.7355041503906,383.1987609863281,381.0580749511719,374.8721008300781,374.3651428222656,388.3717041015625,378.0884704589844,381.7298583984375,372.66973876953125,374.44512939453125,368.419189453125,364.756591796875,364.9242858886719,369.6615905761719,378.8595275878906,376.798828125,381.4166259765625,393.2873229980469,394.03717041015625,403.12237548828125,397.6400146484375,389.1678466796875,400.29541015625,369.0726623535156,364.9580078125,360.5542297363281,372.47119140625,373.1632080078125,375.1622314453125,365.1710205078125,368.16375732421875,367.2413635253906,374.5155029296875,390.7215576171875,403.3334655761719,396.3282470703125,391.39239501953125,350.13507080078125,365.13055419921875,376.61956787109375,381.0792541503906,398.5923156738281,392.50274658203125,384.995361328125,373.6518859863281,386.1953430175781,383.9110412597656,368.7960510253906,376.24365234375,374.1068115234375,372.0335998535156,372.3208312988281,372.0384216308594,376.0017395019531,382.776611328125,393.09552001953125,392.543212890625,387.17462158203125,383.48309326171875,381.2334899902344,378.8431396484375,383.9100646972656,388.38232421875,390.08734130859375,394.3928527832031,389.695068359375,393.21405029296875,398.6983337402344,397.3739929199219,397.8009948730469,410.3357849121094,406.13726806640625,404.1083679199219,400.5575866699219,401.9763488769531,399.4617004394531,402.6539306640625,400.7831115722656,404.385009765625,403.0259704589844,400.11614990234375,387.9572448730469,384.6329650878906,390.4054260253906,393.78466796875,388.9249572753906,391.3779296875,381.37420654296875,381.1872253417969,378.1424255371094,375.98919677734375,367.2519836425781,376.1357116699219,378.0180969238281,377.9381103515625,378.26483154296875,380.8055419921875,380.3120422363281,384.7168273925781,392.470947265625,392.05938720703125,398.354248046875,399.33447265625,403.63031005859375,409.26397705078125,407.7362976074219,405.7604064941406,410.1671142578125,433.94415283203125,457.9930114746094,456.1800231933594,454.14727783203125,462.0488586425781,471.802001953125,479.3055114746094,471.4714050292969,461.32696533203125,475.19281005859375,473.2921142578125,486.0967712402344,496.3077087402344,493.523193359375,496.1419372558594,514.8463134765625,512.3075561523438,510.27960205078125,505.5259094238281,505.6184387207031,503.8199157714844,485.43365478515625,499.84503173828125,483.088623046875,475.5821838378906,476.2347106933594,476.982666015625,478.4101257324219,487.8336181640625,488.33673095703125,476.7532653808594,484.2423400878906,478.9710693359375,470.93359375,483.6640319824219,476.1026611328125,471.23236083984375,458.8970947265625,467.1755676269531,474.74365234375,487.4365234375,496.2874755859375,494.5477600097656,495.94146728515625,493.88848876953125,493.47210693359375,496.0947265625,496.7501220703125,485.47796630859375,482.0129699707031,486.73577880859375,495.2089538574219,498.12939453125,497.5115661621094,489.3025207519531,493.6398010253906,468.5673522949219,457.9149475097656,452.8171691894531,454.0431823730469,463.1833190917969,442.3026123046875,434.9764404296875,435.55377197265625,419.45855712890625,444.6351013183594,436.9301452636719,440.146484375,428.6044616699219,430.80010986328125,425.45751953125,428.3451843261719,438.5272216796875,431.23382568359375,413.4383850097656,412.60369873046875,425.2474060058594,424.26910400390625,410.40130615234375,406.74737548828125,405.36907958984375,406.5738830566406,420.0898742675781,423.1915283203125,422.7279052734375,415.9742736816406,432.136962890625,428.61505126953125,433.4757385253906,421.5414123535156,414.1236877441406,422.95538330078125,421.54913330078125,415.31500244140625,402.03131103515625,407.1252136230469,416.84942626953125,423.77752685546875,419.4990234375,421.06719970703125,430.0020446777344,424.0773010253906,435.022705078125,435.5065612792969,435.7966613769531,440.4713134765625,442.65924072265625,431.099853515625,426.3143615722656,431.84490966796875,422.6238098144531,426.623779296875,435.55859375,433.4622497558594,421.31201171875,427.30712890625,440.0067443847656,434.0520935058594,431.68780517578125,444.088623046875,438.5098876953125,429.4969787597656,419.1414489746094,421.58477783203125,402.85247802734375,414.5516357421875,437.8265075683594,422.4705505371094,413.3670654296875,411.9868469238281,420.961181640625,407.5367736816406,398.2443542480469,375.7203063964844,372.7940673828125,371.87457275390625,364.681396484375,377.94677734375,373.8562316894531,382.79974365234375,390.17987060546875,386.2994384765625,393.0097351074219,406.33099365234375,396.65496826171875,401.5879211425781,403.04815673828125,409.120361328125,411.5906982421875,413.8133239746094,416.9853210449219,412.6191101074219,416.3067932128906,420.42913818359375,420.70770263671875,405.863525390625,389.6979675292969,374.7391052246094,379.53228759765625,380.4604797363281,360.277587890625,362.87322998046875,367.1536560058594,365.3830871582031,361.9411926269531,373.4436950683594,374.17138671875,362.16961669921875,370.02398681640625,359.7706298828125,360.93011474609375,360.05975341796875,359.78411865234375,362.54937744140625,357.5576171875,362.6958923339844,363.3464660644531,368.9059143066406,370.94927978515625,375.50439453125,381.1216735839844,382.2310485839844,383.0908203125,389.138916015625,390.51434326171875,389.4097595214844,390.2483215332031,389.71435546875,406.122802734375,404.49005126953125,399.1831359863281,402.1016540527344,406.62689208984375,406.63653564453125,406.7589416503906,396.82171630859375,388.9056701660156,396.9132995605469,395.5754699707031,412.1198425292969,405.1329345703125,403.7016296386719,402.109375,403.6784973144531,397.8193054199219,387.1158142089844,384.5259704589844,386.0054626464844,392.0786437988281,374.48175048828125,368.5550842285156,367.457275390625,366.2428283691406,364.8452453613281,365.309814453125,368.7411193847656,371.9458923339844,372.9781494140625,373.43792724609375,379.1602478027344,369.0871276855469,369.28472900390625,357.2781066894531,357.0699157714844,354.14178466796875,355.4053649902344,345.8787536621094,336.338623046875,332.2403564453125,330.4100036621094,325.7257385253906,328.1536560058594,324.921875,325.5030822753906,328.7608642578125,340.3154296875,345.144287109375,340.1698913574219,339.6658020019531,336.2422180175781,328.51318359375,324.5276794433594,334.9208068847656,331.4008483886719,336.1333312988281,342.8021545410156,339.650390625,337.819091796875,342.08795166015625,345.5683898925781,350.0367736816406,355.7118835449219,355.4892272949219,363.3830871582031,368.6302795410156,385.0079040527344,368.71893310546875,354.5552673339844,368.36712646484375,377.3289489746094,375.8118591308594,366.3642578125,387.6767883300781,389.9514465332031,390.8622741699219,394.52392578125,394.985595703125,390.67626953125,395.92437744140625,389.4839782714844,396.4593200683594,401.33154296875,405.1319885253906,397.48291015625,396.7359313964844,407.5309753417969,418.7674865722656,416.9988098144531,416.8927917480469,406.8533935546875,408.1758117675781,412.9034423828125,410.304931640625,420.95635986328125,418.27301025390625,420.35491943359375,408.15460205078125,410.98443603515625,405.53582763671875,408.306884765625,409.0500183105469,405.5589599609375,407.74688720703125,413.820068359375,412.6287536621094,415.08367919921875,415.22149658203125,416.4446105957031,433.2771911621094,434.88775634765625,463.4425964355469,475.1436462402344,465.59869384765625,475.2651062011719,477.0761413574219,458.09228515625,458.5057678222656,457.113037109375,460.8883972167969,466.7909851074219,462.2290954589844,468.37359619140625,476.057373046875,448.47698974609375,429.0622863769531,432.33551025390625,420.43011474609375,424.7606506347656,423.8353576660156,424.1919860839844,426.0888366699219,421.3650207519531,414.6036682128906,420.3626403808594,413.3670654296875,416.1814880371094,412.0822448730469,410.916015625,419.4701232910156,406.0013732910156,407.049072265625,406.21051025390625,402.4216613769531,403.9946594238281,408.0553283691406,410.0244445800781,410.7569885253906,411.9781494140625,410.7213134765625,420.0522766113281,414.4783630371094,413.4808044433594,413.3728332519531,406.0052185058594,402.83612060546875,411.6273193359375,405.67462158203125,394.12969970703125,405.0567932128906,397.60919189453125,398.19232177734375,399.8414306640625,402.40142822265625,394.9296875,401.8298645019531,405.6784973144531,407.7237548828125,406.5931701660156,404.6047668457031,403.126220703125,401.275634765625,402.64044189453125,399.18121337890625,393.1157531738281,400.7291564941406,396.8304138183594,402.7358703613281,409.2813415527344,410.1661376953125,407.9627990722656,412.39068603515625,417.09039306640625,418.92266845703125,420.3356628417969,416.61328125,416.6344909667969,427.29364013671875,433.8564453125,434.0945129394531,441.07080078125,441.44573974609375,446.2080993652344,453.78680419921875,455.0436706542969,448.10302734375,449.74346923828125,451.7935791015625,448.0548400878906,447.5449523925781,446.7536315917969,456.0489501953125,463.0801696777344,446.47509765625,448.527099609375,436.3248596191406,429.4054260253906,427.6011047363281,430.7490234375,417.3988342285156,414.0581359863281,413.31982421875,408.9343566894531,404.9642639160156,430.7605895996094,412.6836853027344,403.0539245605469,406.4090881347656,414.3771667480469,405.7738952636719,415.9231872558594,416.0195617675781,402.2742004394531,405.22064208984375,410.8870849609375,411.2466125488281,418.7674865722656,422.181396484375,427.6329040527344,421.0103454589844,425.66473388671875,428.9263916015625,429.1181945800781,428.6728820800781,431.1759948730469,424.69415283203125,430.17071533203125,438.5532531738281,439.5016784667969,431.4487609863281,438.832763671875,433.42755126953125,425.01800537109375,422.293212890625,430.2834777832031,429.2406005859375,446.9348449707031,439.4322814941406,447.5767517089844,432.4261169433594,429.2203674316406,425.6117248535156,421.4874572753906,412.1063537597656,420.05419921875,416.8831481933594,423.2165832519531,419.5086669921875,423.66668701171875,432.6072998046875,426.4213562011719,427.2917175292969,428.45025634765625,433.7523498535156,437.4014587402344,433.81402587890625,429.9991455078125,443.70404052734375,443.63946533203125,447.5256652832031,452.6099548339844,460.75152587890625,462.60693359375,465.49749755859375,463.7066955566406,465.697021484375,462.21466064453125,469.3162536621094,473.1128234863281,472.64923095703125,475.26702880859375,476.7850646972656,474.762939453125,477.7624206542969,487.36517333984375,487.8625183105469,480.2086486816406,480.0602111816406,476.2684631347656,475.8511047363281,476.74169921875,469.30084228515625,469.5716552734375,474.3099365234375,469.15142822265625,467.93603515625,463.920654296875,465.2459411621094,465.78472900390625,469.0203552246094,458.5057678222656,468.3707275390625,466.7620544433594,467.380859375,461.4541931152344,459.59588623046875,458.55975341796875,447.7483215332031,444.6485900878906,441.0062255859375,444.5030517578125,442.88958740234375,442.32476806640625,392.1200866699219,398.36676025390625,409.3516845703125,413.46923828125,403.4067077636719,396.9026794433594,402.0611877441406,401.79034423828125,405.69390869140625,408.8235168457031,413.6465759277344,416.59112548828125,418.5351867675781,412.9044189453125,406.11798095703125,405.0905456542969,412.2046813964844,420.5081787109375,430.4058837890625,428.6083068847656,433.8284912109375,423.7351379394531,426.6141357421875,426.27197265625,430.6449279785156,429.75048828125,418.11688232421875,419.4845886230469,428.1042175292969,428.5957946777344,423.2657470703125,430.6092529296875,436.2641296386719,433.73211669921875,422.0782775878906,424.0782470703125,439.8293762207031,435.4111328125,432.0405578613281,432.6063537597656,436.8617248535156,430.9909362792969,433.05548095703125,435.2607727050781,437.67132568359375,429.8150634765625,426.6257019042969,427.4150695800781,424.99969482421875,419.70721435546875,420.444580078125,432.4781494140625,429.2117004394531,436.2342529296875,433.00439453125,429.3957824707031,431.0420227050781,436.2602844238281,443.940185546875,438.77783203125,437.0313415527344,425.00836181640625,443.9112548828125,430.471435546875,436.4549560546875,470.12396240234375,490.8832092285156,483.00860595703125,476.7320556640625,484.43316650390625,476.8824157714844,472.9942626953125,466.4536437988281,473.5070495605469,485.6206359863281,490.62103271484375,497.7496337890625,496.9612121582031,455.9959411621094,474.8699035644531,484.0649719238281,490.3935852050781,494.8291931152344,497.2580871582031,505.04400634765625,496.5409851074219,496.298095703125,477.43951416015625,483.78546142578125,491.1627197265625,477.32000732421875,482.21246337890625,481.1541748046875,477.1523132324219,484.049560546875,495.12799072265625,496.42724609375,497.0498962402344,504.0281066894531,506.4145812988281,503.3360595703125,500.7915344238281,489.8133544921875,495.7814636230469,500.09368896484375,509.4911804199219,502.52838134765625,510.1195983886719,506.86566162109375,497.6204833984375,506.3509826660156,512.6776123046875,494.9486999511719,494.8233947753906,492.3077697753906,482.790771484375,484.71075439453125,485.8905029296875,486.8929138183594,473.8443908691406,485.84423828125,478.0390319824219,485.8712158203125,482.1835632324219,483.34210205078125,479.83563232421875,477.58795166015625,466.87579345703125,458.370849609375,465.0618591308594,476.69158935546875,479.2862548828125,472.37164306640625,471.7914123535156,473.21209716796875,469.3952941894531,474.1952209472656,480.5315246582031,484.0341491699219,486.43603515625,488.18060302734375,493.39691162109375,503.4844970703125,499.3611755371094,490.9333190917969,496.9881896972656,502.1601867675781,498.8985290527344,484.9401550292969,494.15643310546875,497.9096374511719,494.55352783203125,501.6377868652344,495.4634094238281,490.3183898925781,503.8102722167969,507.4844665527344,523.6732177734375,525.3252563476562,526.2235717773438,535.9197998046875,532.785400390625,522.5204467773438,528.3247680664062,523.904541015625,535.3299560546875,533.4273071289062,546.7650146484375,553.9629516601562,550.695556640625,548.3977661132812,554.7996215820312,557.4520874023438,567.7227783203125,570.637451171875,577.83349609375,572.8157348632812,572.2490234375,570.5950317382812,574.3347778320312,556.37255859375,556.927734375,556.07958984375,564.3956298828125,565.7064208984375,565.7614135742188,559.022216796875,560.8467407226562,558.0805053710938,554.4776611328125,578.8455810546875,562.5604858398438,541.371337890625,523.1556396484375,533.8263549804688,533.2750244140625,551.0579223632812,555.4974365234375,554.0304565429688,573.8297119140625,575.3410034179688,582.5582885742188,582.961181640625,594.0318603515625,589.1432495117188,591.953857421875,584.20068359375,595.356201171875,591.82080078125,591.9673461914062,587.2926635742188,580.1159057617188,586.7683715820312,556.3109130859375,549.5216064453125,546.4835205078125,525.0765991210938,528.1473999023438,534.524169921875,550.0150756835938,557.319091796875,557.9879760742188,553.8087768554688,553.9841918945312,554.37744140625,580.7077026367188,579.8479614257812,575.0865478515625,618.0451049804688,628.0574951171875,627.7085571289062,617.7578735351562,623.1630859375,607.3348388671875,608.5628051757812,606.5965576171875,615.5448608398438,611.8494873046875,624.2965698242188,628.6473388671875,622.7505493164062,632.4024658203125,636.26171875,632.8805541992188,618.8662719726562,609.2952880859375,615.5178833007812,624.08642578125],\"type\":\"scatter\"},{\"marker\":{\"color\":\"#1d5dec\",\"opacity\":0.9},\"mode\":\"lines\",\"name\":\"MA\",\"y\":[82.85326385498047,83.78836822509766,84.5040283203125,84.68534088134766,85.87808227539062,86.20248413085938,87.26165008544922,86.76547241210938,87.40480041503906,88.1490707397461,89.02694702148438,88.22541046142578,89.3704605102539,88.74067687988281,89.15098571777344,89.45634460449219,91.61282348632812,90.87806701660156,90.71587371826172,90.88762664794922,90.72541809082031,91.51741790771484,92.44296264648438,92.34757232666016,92.2712173461914,91.87999725341797,92.1090316772461,91.71780395507812,92.02313995361328,91.2406997680664,91.21208190917969,90.90670776367188,90.85902404785156,91.40290069580078,91.87999725341797,91.1548080444336,91.21208190917969,92.0517578125,92.34757232666016,92.64336395263672,92.20442962646484,93.14908599853516,93.4067153930664,94.26551818847656,95.00977325439453,95.40099334716797,93.65481567382812,95.5250244140625,94.83805847167969,94.18915557861328,94.91437530517578,94.80940246582031,95.11475372314453,95.88762664794922,96.62237548828125,97.44298553466797,97.00407409667969,96.52698516845703,96.8036880493164,96.86092376708984,96.0021743774414,97.10902404785156,97.21399688720703,96.5842056274414,97.89392852783203,98.41017150878906,97.75054931640625,98.13291931152344,96.89014434814453,96.89969635009766,96.22093963623047,96.4408187866211,96.41216278076172,97.25340270996094,98.20943450927734,98.03736877441406,98.32413482666016,98.6491470336914,98.35282897949219,98.6778564453125,99.04112243652344,102.1959228515625,102.31061553955078,100.34127807617188,99.42351531982422,99.21318817138672,98.49620056152344,101.29727935791016,101.04871368408203,101.51716613769531,99.90152740478516,100.01626586914062,96.68936920166016,97.97041320800781,99.42351531982422,99.85372161865234,100.16919708251953,101.27814483642578,101.26860046386719,99.95889282226562,101.077392578125,98.81169128417969,99.25144958496094,97.70272827148438,95.77161407470703,96.65113830566406,98.99330139160156,97.51153564453125,100.61849975585938,100.20741271972656,99.81547546386719,98.73519897460938,98.77342987060547,98.73519897460938,99.75813293457031,98.87859344482422,98.98377227783203,99.93976593017578,99.5860366821289,99.71988677978516,100.10227966308594,100.18833923339844,99.11761474609375,99.2036361694336,98.70653533935547,100.75233459472656,101.70835876464844,102.493896484375,103.23153686523438,103.03036499023438,102.81000518798828,103.27943420410156,104.14160919189453,104.13202667236328,103.84464263916016,104.09371948242188,103.96916961669922,105.33907318115234,105.0229263305664,105.30076599121094,105.55940246582031,104.7834701538086,105.22411346435547,104.70683288574219,101.86161804199219,100.58750915527344,100.72164154052734,102.10111999511719,102.11071014404297,102.12026977539062,102.2352523803711,102.79088592529297,102.76213073730469,103.72968292236328,104.3044662475586,105.05170440673828,104.70683288574219,104.82176208496094,105.53070068359375,104.84092712402344,106.08631134033203,106.33538818359375,105.92344665527344,105.81806945800781,107.59033203125,106.65151977539062,107.04427337646484,106.68024444580078,106.29707336425781,106.31620025634766,106.13420867919922,106.53653717041016,106.84309387207031,105.84683227539062,107.3125,107.93518829345703,108.08846282958984,107.68611907958984,106.05756378173828,106.76644897460938,106.91016387939453,107.27417755126953,107.23587036132812,107.74361419677734,107.35084533691406,107.93518829345703,107.74361419677734,107.52326202392578,107.37956237792969,107.57152557373047,107.91709899902344,107.73471069335938,107.8115005493164,107.60993194580078,106.99562072753906,106.75565338134766,108.14744567871094,108.00347900390625,107.78270721435547,109.9903793334961,109.6832504272461,111.05583953857422,111.46855926513672,111.50697326660156,112.39965057373047,111.65093231201172,111.69894409179688,113.3786849975586,112.62042236328125,113.18672943115234,112.78359985351562,111.92930603027344,111.73733520507812,111.96772766113281,111.85252380371094,112.42843627929688,113.46507263183594,113.7338638305664,112.1116943359375,111.57415008544922,112.8603744506836,114.22340393066406,114.79930114746094,115.85513305664062,117.0261459350586,116.747802734375,116.76701354980469,117.94761657714844,118.44676208496094,120.17450714111328,120.84642028808594,120.21289825439453,120.16492462158203,119.7521743774414,118.10120391845703,115.9127426147461,117.41011810302734,117.58289337158203,116.54622650146484,117.06458282470703,118.14920806884766,117.99563598632812,118.1588134765625,118.35078430175781,119.03228759765625,118.56194305419922,117.81324768066406,119.80017852783203,116.63262176513672,116.57503509521484,115.93192291259766,117.29740905761719,116.16273498535156,117.50895690917969,118.01863098144531,119.46104431152344,120.47074127197266,120.65345764160156,122.13433074951172,122.53821563720703,122.82669830322266,123.12478637695312,123.53829956054688,124.30757141113281,124.54796600341797,124.99031829833984,125.96155548095703,123.98059844970703,122.99978637695312,122.89398956298828,124.51911163330078,125.59610748291016,124.90375518798828,124.83647155761719,125.37496185302734,124.85568237304688,124.74032592773438,122.76897430419922,123.61522674560547,126.05768585205078,126.52887725830078,127.28858184814453,125.85577392578125,126.10577392578125,126.87509155273438,128.66366577148438,127.96170043945312,127.8559341430664,127.65397644042969,128.7117919921875,128.70213317871094,128.66366577148438,128.182861328125,128.1251678466797,127.56741333007812,127.78860473632812,131.2888641357422,131.95236206054688,136.53924560546875,136.9527587890625,134.72183227539062,136.0392303466797,136.14501953125,135.97189331054688,137.0200958251953,136.7796630859375,136.2796173095703,136.44314575195312,133.2505340576172,133.0582275390625,134.308349609375,134.81800842285156,135.77960205078125,136.37579345703125,137.5297088623047,136.63540649414062,138.44607543945312,138.22454833984375,139.21656799316406,140.27597045898438,141.4316864013672,141.32579040527344,141.90359497070312,140.8249053955078,140.54562377929688,140.7960205078125,139.63067626953125,140.0159454345703,140.18927001953125,140.42042541503906,140.8441619873047,141.18128967285156,143.04010009765625,143.4542236328125,143.28082275390625,143.39639282226562,142.78004455566406,143.78163146972656,144.55209350585938,144.43653869628906,144.43653869628906,143.78163146972656,144.02239990234375,144.16690063476562,144.4172821044922,142.85708618164062,144.7832794189453,143.52157592773438,144.04173278808594,146.88284301757812,145.6693115234375,147.10435485839844,147.32589721679688,148.5008544921875,142.87632751464844,144.91812133789062,144.16690063476562,138.1378631591797,139.77516174316406,141.9806365966797,143.93576049804688,144.35955810546875,145.31298828125,146.8732147216797,146.0930938720703,146.32423400878906,147.7400665283203,147.4703369140625,146.0834503173828,145.86190795898438,144.97592163085938,145.2841033935547,145.69818115234375,145.81375122070312,146.17015075683594,145.77525329589844,146.3050079345703,148.14450073242188,150.06105041503906,153.17190551757812,153.63494873046875,153.8567657470703,154.20407104492188,155.2265625,156.5867156982422,156.54806518554688,158.50628662109375,159.62522888183594,160.9274139404297,162.32618713378906,161.27471923828125,161.10105895996094,162.6251983642578,164.31329345703125,162.5865936279297,161.27471923828125,163.0206298828125,166.81166076660156,164.5158233642578,158.76669311523438,163.29078674316406,162.7602081298828,154.93716430664062,159.3551025390625,162.23934936523438,164.10107421875,166.4161834716797,168.50938415527344,169.43540954589844,169.14605712890625,166.2232666015625,166.8309326171875,169.5414581298828,171.57684326171875,169.70547485351562,169.5414581298828,167.3518524169922,168.8277130126953,172.2135009765625,171.2488555908203,172.86941528320312,172.9080352783203,176.75685119628906,176.0816192626953,174.60572814941406,173.7472381591797,174.5478973388672,176.09129333496094,174.19097900390625,176.05267333984375,174.35494995117188,169.30999755859375,165.75057983398438,170.90164184570312,166.4161834716797,164.32296752929688,168.96273803710938,165.52870178222656,166.36795043945312,167.54470825195312,169.58006286621094,163.92904663085938,164.54727172851562,168.7783203125,166.49853515625,168.85557556152344,168.3436737060547,167.95724487304688,172.2752227783203,173.3571319580078,172.92239379882812,171.05809020996094,169.4641571044922,167.34860229492188,166.60482788085938,172.10133361816406,169.95681762695312,172.20761108398438,174.12030029296875,179.50082397460938,180.13836669921875,181.7709197998047,182.66928100585938,184.05067443847656,184.1472625732422,186.48497009277344,186.77476501464844,185.5865936279297,185.47071838378906,185.8377685546875,184.6978759765625,183.92506408691406,184.6978759765625,185.1035919189453,186.427001953125,185.3837432861328,184.66885375976562,183.0846405029297,185.2388458251953,183.65463256835938,188.72604370117188,191.00579833984375,192.5803680419922,196.29942321777344,192.75424194335938,193.23724365234375,191.73995971679688,193.32418823242188,192.62869262695312,192.5321044921875,192.74462890625,194.2901611328125,192.89915466308594,194.68624877929688,193.9521026611328,194.62826538085938,188.34930419921875,189.77902221679688,186.6105194091797,190.39723205566406,189.8369903564453,190.9478759765625,189.6147918701172,192.10704040527344,192.97756958007812,194.34129333496094,194.91192626953125,197.15582275390625,200.9666748046875,199.15802001953125,197.38796997070312,199.60289001464844,201.52764892578125,199.3031005859375,199.9317626953125,201.02471923828125,202.7076873779297,207.1374969482422,200.57015991210938,196.28538513183594,191.3816375732422,191.50733947753906,194.6024627685547,195.38587951660156,194.6024627685547,194.93128967285156,195.97592163085938,196.2080078125,196.92376708984375,196.00489807128906,195.6760711669922,197.19456481933594,193.67393493652344,196.92376708984375,196.54653930664062,198.0360107421875,196.4304656982422,197.6104736328125,198.49063110351562,202.53355407714844,204.59371948242188,205.6576690673828,207.53404235839844,206.78927612304688,208.49159240722656,209.7102508544922,204.23583984375,205.7930908203125,204.1681365966797,204.7290802001953,206.4507598876953,207.01173400878906,210.0971221923828,210.81288146972656,209.37173461914062,212.83436584472656,211.0353240966797,214.13037109375,214.62368774414062,214.09170532226562,214.83645629882812,214.9718475341797,215.0201873779297,215.31039428710938,216.43234252929688,215.07826232910156,215.8133087158203,209.06224060058594,206.50579833984375,201.6641845703125,203.11671447753906,190.46063232421875,188.3496856689453,197.75216674804688,193.9756622314453,201.1993865966797,200.81210327148438,197.171142578125,196.62889099121094,198.0232696533203,196.01882934570312,189.4923095703125,197.73277282714844,191.23533630371094,184.9895477294922,181.78436279296875,191.4095916748047,193.38504028320312,191.4580078125,191.70974731445312,192.8427276611328,201.64486694335938,202.2452392578125,199.10780334472656,192.8330535888672,191.89373779296875,191.3224334716797,194.35328674316406,192.73623657226562,183.2852783203125,181.1356201171875,181.7166290283203,176.8168487548828,185.77389526367188,186.86814880371094,195.87359619140625,190.43157958984375,194.70188903808594,203.21351623535156,194.14031982421875,196.5610809326172,190.2766571044922,191.7872314453125,191.47735595703125,193.9466094970703,192.6587677001953,189.14373779296875,184.4182586669922,185.54153442382812,181.1937255859375,176.92340087890625,169.6415557861328,169.11866760253906,180.5255584716797,182.7139892578125,180.2641143798828,182.67523193359375,183.7307891845703,175.44183349609375,183.75010681152344,185.1638946533203,186.5121612548828,189.89749145507812,191.04205322265625,190.02362060546875,189.56768798828125,190.625,191.83749389648438,193.33128356933594,195.9405975341797,193.4767608642578,192.4000701904297,193.79685974121094,196.8523712158203,194.15577697753906,193.26336669921875,197.89999389648438,204.79672241210938,207.3575439453125,208.46334838867188,209.3848419189453,208.8416290283203,207.55152893066406,210.08326721191406,210.587646484375,212.3433380126953,213.92445373535156,213.21633911132812,215.44737243652344,213.97296142578125,214.47732543945312,212.73135375976562,216.6210479736328,216.6210479736328,217.2806396484375,217.83360290527344,218.02755737304688,220.43321228027344,219.50192260742188,219.4341278076172,217.73660278320312,215.73837280273438,215.2145538330078,218.8714599609375,220.13247680664062,221.6456756591797,222.62538146972656,224.235595703125,223.47897338867188,224.0803680419922,222.9939422607422,228.79458618164062,223.83790588378906,223.50807189941406,226.2919464111328,225.54513549804688,227.81488037109375,228.38720703125,231.87921142578125,232.0828857421875,231.76278686523438,228.97891235351562,229.5317840576172,229.502685546875,229.15298461914062,230.27003479003906,229.27923583984375,231.98934936523438,232.30015563964844,233.21324157714844,234.09719848632812,233.9903564453125,236.08843994140625,236.51583862304688,238.26431274414062,238.5751495361328,239.614501953125,240.05162048339844,246.9579620361328,241.6251678466797,240.10984802246094,240.84814453125,241.5183563232422,238.0408935546875,238.30316162109375,238.28372192382812,240.34303283691406,234.46627807617188,238.8956756591797,242.01373291015625,246.16143798828125,245.31634521484375,246.22946166992188,248.04588317871094,249.54176330566406,242.5771484375,244.2770233154297,246.17115783691406,246.29745483398438,246.909423828125,244.28671264648438,235.3210906982422,242.04287719726562,248.92010498046875,250.44505310058594,258.18682861328125,258.4782409667969,256.1081237792969,256.292724609375,253.7185821533203,252.6501007080078,251.77593994140625,251.3970489501953,252.42666625976562,259.1485290527344,256.8949279785156,257.7011413574219,252.29078674316406,253.81568908691406,253.62144470214844,256.9532165527344,259.1291198730469,262.8203125,265.25836181640625,264.34527587890625,263.78118896484375,265.833251953125,267.81719970703125,270.67645263671875,271.8629455566406,271.6976318359375,269.023193359375,267.7199401855469,269.17877197265625,268.0311584472656,270.9584655761719,271.30865478515625,272.5534362792969,271.67822265625,274.32354736328125,273.7107238769531,270.5209045410156,264.7926025390625,266.63067626953125,262.050048828125,249.78639221191406,257.4110412597656,261.91387939453125,270.4041748046875,267.3990783691406,262.5849304199219,266.9906005859375,259.81317138671875,264.42303466796875,266.8251953125,270.4333190917969,269.431640625,274.26513671875,273.0592041015625,264.42303466796875,268.83831787109375,269.0425720214844,270.5986328125,273.6524658203125,273.6427001953125,272.417236328125,278.2428894042969,284.05859375,283.3778381347656,275.578125,264.8509521484375,262.536376953125,268.8092346191406,268.73138427734375,266.5528259277344,268.6632995605469,267.5448913574219,268.3326721191406,263.72283935546875,265.6484680175781,263.67425537109375,265.2594299316406,266.36810302734375,261.7388916015625,264.11181640625,263.4991455078125,257.21661376953125,260.9219665527344,266.5334167480469,264.7148132324219,260.0506896972656,265.0848693847656,266.6330261230469,268.658447265625,269.1160583496094,271.23870849609375,270.9563293457031,269.2425842285156,263.51715087890625,267.0906677246094,254.39341735839844,253.99415588378906,261.6864929199219,263.0886535644531,268.67791748046875,267.0809631347656,269.86578369140625,269.5347595214844,271.71575927734375,269.0673522949219,261.9300231933594,262.7673645019531,265.620361328125,267.6651916503906,269.7197265625,269.8560485839844,270.76165771484375,272.28057861328125,273.400390625,273.4783020019531,277.8113098144531,277.8795166015625,276.97393798828125,275.1432800292969,280.0508728027344,281.7743225097656,284.03338623046875,284.5494384765625,278.94085693359375,279.5445861816406,279.3010559082031,282.2320251464844,282.767578125,281.4627380371094,281.02459716796875,282.4266662597656,284.5299377441406,288.3079833984375,289.1551208496094,288.2203674316406,286.9934997558594,289.71014404296875,290.7228698730469,289.45697021484375,289.6615295410156,291.3363342285156,292.8358154296875,289.8951721191406,290.7423095703125,295.4161682128906,292.533935546875,293.3128967285156,292.3197326660156,297.47760009765625,301.3775939941406,303.39593505859375,307.3349304199219,302.879150390625,306.39898681640625,312.29779052734375,315.5738830566406,313.8870849609375,316.2076416015625,316.86090087890625,315.5836486816406,307.8809814453125,312.26861572265625,312.3173522949219,316.3538818359375,308.04669189453125,316.4123840332031,320.89752197265625,320.1174011230469,321.0729675292969,318.8304138183594,322.02850341796875,322.6524658203125,325.8114929199219,327.4496154785156,332.4319152832031,332.7146301269531,335.95172119140625,335.8444519042969,331.213134765625,316.5586853027344,295.32275390625,290.593994140625,278.67926025390625,282.99853515625,299.0765075683594,284.7048034667969,294.8059997558594,283.46661376953125,279.8395080566406,255.46405029296875,273.5603942871094,263.02044677734375,235.46649169921875,263.26422119140625,229.7626495361328,231.93695068359375,222.2355194091797,221.4750213623047,206.13800048828125,198.22085571289062,231.14718627929688,250.072265625,256.60479736328125,241.462890625,246.92295837402344,235.52500915527344,222.8985137939453,232.91197204589844,231.10816955566406,259.2958984375,252.60726928710938,264.58929443359375,263.07562255859375,257.1578674316406,264.36468505859375,251.1034393310547,240.96713256835938,253.8670196533203,245.8204345703125,239.59022521972656,250.87884521484375,249.85350036621094,252.68544006347656,258.8960876464844,258.3882751464844,277.0301818847656,268.5149230957031,262.43115234375,262.9389343261719,267.54815673828125,266.0442810058594,271.9327087402344,275.8095397949219,274.6279296875,265.72198486328125,262.84124755859375,270.7998962402344,272.39166259765625,283.0943908691406,283.9049377441406,291.785400390625,287.35205078125,287.9867858886719,296.2090148925781,292.732666015625,295.2032775878906,293.82635498046875,294.32440185546875,296.4630126953125,299.8612976074219,294.2951354980469,304.55841064453125,303.1228942871094,304.17755126953125,305.798583984375,284.41265869140625,290.79913330078125,290.1937255859375,297.3321228027344,296.62896728515625,297.69342041015625,289.5394592285156,297.29302978515625,299.6757507324219,287.10784912109375,291.0140075683594,282.5475769042969,286.05322265625,288.7582702636719,294.0998840332031,295.3204650878906,298.39654541015625,292.86944580078125,293.4952392578125,288.0584716796875,289.12420654296875,283.7461853027344,292.3218688964844,298.941650390625,292.71295166015625,297.3184509277344,305.0433654785156,300.7799987792969,306.422119140625,303.0290222167969,300.1150817871094,302.01202392578125,299.5381164550781,302.4422912597656,302.14892578125,301.6894226074219,305.65936279296875,307.41949462890625,320.72772216796875,322.8203125,320.7472839355469,315.7212219238281,321.2557067871094,320.36590576171875,318.9578552246094,319.5542907714844,322.90826416015625,323.66119384765625,325.0301513671875,329.84112548828125,329.6259765625,336.0209655761719,339.95184326171875,343.2373046875,348.1069030761719,358.00250244140625,350.2483825683594,348.9869079589844,352.70269775390625,336.216552734375,327.5823059082031,322.5660400390625,332.1096496582031,325.4994812011719,322.8300476074219,331.0926818847656,331.6207275390625,334.2706298828125,331.9043273925781,327.82672119140625,320.58111572265625,327.8756103515625,317.33465576171875,320.93310546875,324.4239501953125,330.8873596191406,328.7752990722656,330.6722717285156,335.7569274902344,331.3175354003906,335.6396179199219,329.9486083984375,336.2751770019531,337.8905334472656,344.97821044921875,344.63555908203125,338.56591796875,335.49200439453125,331.4489440917969,332.26141357421875,324.69403076171875,324.74298095703125,326.4072265625,326.58343505859375,322.6773681640625,311.3702087402344,310.4402770996094,285.2514953613281,287.0135192871094,282.5691223144531,283.8710632324219,289.1771240234375,300.73870849609375,309.8724365234375,307.043212890625,337.3128356933594,327.7386169433594,325.3988342285156,321.3851318359375,327.98333740234375,328.3945617675781,329.4223937988281,328.8741455078125,326.85748291015625,316.2063903808594,325.0561828613281,335.1885681152344,334.1410217285156,331.9383239746094,329.43218994140625,331.7523498535156,333.0641174316406,328.0909729003906,337.1072998046875,333.7885437011719,333.6221923828125,329.7651062011719,324.5471496582031,320.5334167480469,324.1849670410156,326.6324157714844,325.1149597167969,329.8139953613281,333.1718444824219,327.3371887207031,325.2519836425781,322.3052673339844,328.93292236328125,337.2248229980469,339.3686828613281,348.0716857910156,349.4325256347656,344.09710693359375,340.1127624511719,340.2399597167969,342.935546875,346.84661865234375,341.30841064453125,336.1329345703125,339.4753723144531,320.4593811035156,316.862060546875,319.489013671875,328.281494140625,327.82073974609375,322.4786071777344,322.6746520996094,321.21417236328125,309.245849609375,317.8618469238281,310.0299987792969,315.1957092285156,327.75213623046875,326.2328186035156,334.0843200683594,332.04547119140625,330.3595275878906,326.840576171875,327.5953063964844,336.0838928222656,334.2508850097656,334.456787109375,330.65350341796875,331.7611389160156,326.57586669921875,333.9176940917969,343.4844970703125,360.04998779296875,347.55230712890625,346.84661865234375,355.71746826171875,355.6390380859375,353.1199645996094,342.58270263671875,353.7374572753906,363.9805908203125,369.0679016113281,374.1454162597656,376.7723388671875,375.1354064941406,374.2042236328125,374.8119201660156,371.1851806640625,359.7362976074219,349.4539489746094,351.3065490722656,348.23846435546875,352.53179931640625,351.26727294921875,358.89337158203125,355.7273254394531,351.1105041503906,349.0030822753906,356.1095275878906,361.03021240234375,362.2555236816406,363.7355651855469,370.70330810546875,372.999755859375,372.7641906738281,371.0860595703125,371.27252197265625,379.2903137207031,378.97625732421875,375.0409851074219,369.614013671875,375.9634704589844,376.2186584472656,379.8497009277344,380.2520751953125,381.822265625,388.2796325683594,381.70452880859375,374.94281005859375,372.3323974609375,368.9073791503906,362.2634582519531,368.48541259765625,368.4068603515625,359.515625,360.761962890625,349.9767761230469,353.3133850097656,357.1309814453125,356.5323181152344,356.30657958984375,354.2555236816406,360.8503723144531,360.75225830078125,365.4432373046875,360.3793029785156,355.8944396972656,355.25653076171875,353.8630065917969,353.0877380371094,360.0162048339844,355.0799255371094,359.2016906738281,357.2977294921875,358.455810546875,356.5617370605469,357.513671875,358.6913146972656,359.69232177734375,361.26251220703125,357.0426025390625,360.4479675292969,360.5755615234375,366.1399230957031,370.99774169921875,368.1517639160156,367.76904296875,372.5384521484375,360.8307189941406,361.1447448730469,358.2889404296875,363.80426025390625,368.0437927246094,369.113525390625,366.95452880859375,363.72198486328125,366.42388916015625,368.9981689453125,377.0057067871094,383.9718017578125,383.4118347167969,380.356201171875,359.0647888183594,367.8485412597656,373.4194641113281,375.4828796386719,386.3888854980469,385.9369201660156,383.45111083984375,376.74041748046875,382.01666259765625,379.1967468261719,368.703369140625,361.1772155761719,361.58001708984375,365.44146728515625,367.98614501953125,364.203369140625,361.4129638671875,357.87591552734375,355.6553955078125,356.4119873046875,357.2077941894531,356.8835754394531,354.6434326171875,351.0669860839844,348.7875671386719,354.7023620605469,355.45892333984375,352.82574462890625,346.6947326660156,349.5146179199219,346.88140869140625,340.1806640625,343.46221923828125,335.3170471191406,334.28546142578125,338.6871032714844,344.9065246582031,345.2701416015625,341.3203430175781,341.7428283691406,339.7581481933594,338.7264404296875,340.2591552734375,337.04632568359375,333.7548828125,331.4852294921875,337.4098815917969,347.8835754394531,351.9021911621094,350.5364074707031,345.0440673828125,347.01898193359375,341.60528564453125,353.88690185546875,338.18603515625,337.21337890625,342.59765625,348.1657409667969,349.19866943359375,341.51544189453125,339.7348937988281,336.7934265136719,338.9871826171875,350.2218322753906,352.6222229003906,356.2228088378906,350.97930908203125,350.4284362792969,352.8485107421875,355.0029296875,351.5203857421875,330.2709655761719,327.62469482421875,330.0741882324219,328.6280822753906,323.1484375,324.0830993652344,329.9856872558594,343.1288146972656,343.99456787109375,339.0560302734375,352.13037109375,348.58880615234375,357.6001281738281,355.4947814941406,363.5617370605469,353.3404235839844,342.5680847167969,334.2060852050781,316.0849914550781,323.6601257324219,334.4815368652344,318.9084777832031,317.767333984375,309.8086242675781,301.3088073730469,315.0028991699219,316.88189697265625,327.9197692871094,333.9994812011719,336.7835388183594,338.92816162109375,344.24053955078125,339.7052917480469,335.0225830078125,340.72845458984375,347.1918029785156,343.6404113769531,331.54986572265625,345.0471496582031,351.6778564453125,354.72747802734375,354.4618225097656,354.9241943359375,355.42596435546875,355.13079833984375,353.4879455566406,364.92919921875,369.2970886230469,367.8313293457031,364.4722595214844,364.12744140625,358.4732666015625,360.8177185058594,361.8223571777344,363.9993591308594,366.5802917480469,360.8274841308594,355.3407287597656,358.5619201660156,349.775146484375,344.19976806640625,333.6989440917969,339.5108642578125,345.2931213378906,376.79534912109375,380.6075134277344,386.20269775390625,390.8226318359375,384.2424621582031,376.4899597167969,370.5106506347656,368.7769775390625,375.67242431640625,368.7966613769531,364.24566650390625,368.57012939453125,375.8398742675781,377.2091064453125,368.1169738769531,364.42303466796875,362.7877502441406,355.8332824707031,363.861572265625,363.57586669921875,355.42938232421875,339.3335266113281,338.9493408203125,335.8956604003906,325.8184814453125,308.2450256347656,309.6339416503906,323.2278137207031,319.7406921386719,319.9376525878906,323.6808776855469,329.9951171875,339.5305480957031,341.26422119140625,344.8597412109375,340.41705322265625,344.30804443359375,337.06787109375,344.13079833984375,343.80572509765625,345.2536926269531,362.05889892578125,356.82818603515625,352.0408020019531,358.5323181152344,361.42840576171875,357.89202880859375,348.26800537109375,344.80560302734375,347.4887390136719,342.65521240234375,341.1065368652344,350.3197937011719,352.9634094238281,351.9572448730469,358.9312744140625,360.33203125,359.49359130859375,346.4135437011719,349.787109375,339.4394836425781,356.66253662109375,373.688232421875,358.44793701171875,354.1668701171875,352.93377685546875,363.51812744140625,348.57379150390625,342.4085998535156,323.53826904296875,320.91436767578125,321.44708251953125,316.8799133300781,328.2829895019531,325.2547302246094,334.2607421875,331.34088134765625,327.71087646484375,331.6170959472656,343.7008056640625,336.0659484863281,340.0807189941406,345.1410217285156,352.9239196777344,353.0126953125,352.21368408203125,358.15203857421875,352.9634094238281,355.2519226074219,359.0792541503906,357.41217041015625,344.26312255859375,330.20648193359375,315.40020751953125,317.7676696777344,320.97357177734375,304.5889892578125,306.47308349609375,313.0920104980469,311.85894775390625,312.460693359375,326.0142517089844,324.3668518066406,313.96990966796875,318.2115783691406,311.19805908203125,313.92059326171875,314.92681884765625,315.8244323730469,320.1614990234375,319.1636657714844,320.27996826171875,318.9660339355469,319.46990966796875,321.1098937988281,328.5589904785156,327.01776123046875,336.2747497558594,337.1540222167969,342.7358703613281,339.7325439453125,340.0585632324219,337.1639099121094,339.1298828125,348.19915771484375,349.52301025390625,346.31219482421875,344.80072021484375,349.85888671875,351.7754821777344,353.1981201171875,347.9126892089844,342.3604736328125,349.11798095703125,346.3517150878906,349.9972229003906,355.60870361328125,354.9171447753906,351.0444030761719,353.0499572753906,350.0070495605469,341.3428955078125,336.77862548828125,335.6128234863281,340.51300048828125,327.9562683105469,325.3778076171875,323.8563537597656,320.4578552246094,321.3272399902344,318.6696472167969,320.1712951660156,324.65655517578125,326.0891418457031,331.7994079589844,334.33843994140625,321.51495361328125,321.91998291015625,313.1372375488281,311.3293151855469,310.2425231933594,309.4917297363281,300.8274841308594,294.7615051269531,290.03912353515625,286.61102294921875,283.0248107910156,286.6802062988281,283.3113098144531,280.91058349609375,286.97662353515625,297.6363830566406,300.5311279296875,296.0979919433594,291.8825988769531,288.7259826660156,283.0559387207031,280.4139099121094,290.8831481933594,285.6683349609375,291.95184326171875,297.2359313964844,294.64337158203125,293.1788635253906,299.20513916015625,302.4013366699219,308.1505126953125,316.1657409667969,316.0271911621094,326.021484375,324.7449951171875,329.7025146484375,316.47247314453125,305.9339904785156,315.03765869140625,321.7268981933594,322.3404235839844,312.3362731933594,333.73980712890625,335.73870849609375,335.81787109375,339.9145202636719,339.17236328125,337.69793701171875,340.0926513671875,334.7095947265625,341.3493347167969,344.9908752441406,347.6130676269531,340.98321533203125,339.5384521484375,352.6695861816406,357.0235595703125,356.29132080078125,352.36279296875,343.8924560546875,343.7835693359375,347.49432373046875,345.1788330078125,354.42108154296875,353.4117431640625,353.76800537109375,342.6258850097656,342.2201232910156,337.6881103515625,339.36041259765625,342.0716857910156,337.9453430175781,340.00360107421875,342.5367431640625,338.3708190917969,344.5653381347656,344.09033203125,343.1700439453125,351.4327087402344,348.0881042480469,364.4121398925781,367.682861328125,367.7225036621094,374.5118103027344,376.4445495605469,372.19256591796875,371.6771240234375,365.6510314941406,364.6797180175781,372.9458312988281,375.2154846191406,376.6427307128906,379.00164794921875,373.89727783203125,370.7157287597656,367.8315124511719,367.3161315917969,370.76531982421875,371.6176452636719,370.5968322753906,369.6651916503906,371.7366638183594,367.068359375,367.13775634765625,363.57952880859375,367.5440979003906,366.6817932128906,366.36468505859375,364.29315185546875,357.9300842285156,352.80584716796875,351.82464599609375,352.3796081542969,349.9910583496094,352.3301696777344,352.141845703125,350.36767578125,352.4193420410156,358.2967529296875,363.6786193847656,356.7506408691406,355.84869384765625,351.2993469238281,344.03424072265625,341.6555480957031,349.6936950683594,344.9956359863281,344.9164123535156,346.5616760253906,346.2247314453125,351.42822265625,347.9195556640625,351.22991943359375,348.51422119140625,351.47772216796875,351.1902770996094,356.34423828125,356.0766296386719,360.1898498535156,363.2227478027344,360.6755065917969,361.1321105957031,358.8291015625,357.50885009765625,361.46966552734375,359.1368103027344,366.9493103027344,369.7090148925781,370.03662109375,369.599853515625,370.0763244628906,372.2602233886719,372.49847412109375,371.9922180175781,365.8375244140625,364.0804443359375,370.9399719238281,377.2535095214844,377.084716796875,373.2827453613281,372.16094970703125,373.3720703125,381.84967041015625,382.6934814453125,380.1422119140625,379.74517822265625,380.5889587402344,379.12969970703125,380.6087951660156,377.4619445800781,384.172607421875,389.1558837890625,382.7530212402344,381.7206115722656,371.0194091796875,365.8077392578125,367.33648681640625,371.6348571777344,364.8150634765625,362.3531494140625,368.1703796386719,370.9995422363281,367.8129577636719,377.18402099609375,368.6766052246094,364.90435791015625,366.5224914550781,372.5679931640625,368.66668701171875,372.02203369140625,376.2707214355469,373.779052734375,371.88299560546875,373.3919372558594,375.0397644042969,377.0351257324219,374.66259765625,379.0006408691406,377.45208740234375,384.8376770019531,390.4265441894531,391.0816955566406,391.8460998535156,390.83209228515625,386.3983154296875,389.85784912109375,395.4647521972656,398.3377990722656,398.20855712890625,400.1471252441406,399.83892822265625,395.8226318359375,395.93194580078125,395.7231750488281,395.15655517578125,402.4137268066406,398.92431640625,400.04766845703125,392.1841125488281,390.65313720703125,391.96539306640625,394.739013671875,387.73040771484375,390.7028503417969,389.0526123046875,394.54022216796875,390.8818054199219,391.3589782714844,394.80865478515625,392.6612854003906,396.2401428222656,392.1343994140625,392.0549011230469,390.3151550292969,389.8677978515625,390.8917541503906,395.5045166015625,398.7055969238281,395.33551025390625,400.5248718261719,405.04815673828125,409.2334289550781,411.48016357421875,410.2176208496094,413.1304016113281,409.0843200683594,410.75445556640625,412.18597412109375,412.40472412109375,414.2438659667969,413.8262939453125,413.8561096191406,410.91351318359375,411.8778076171875,414.6812744140625,411.1024169921875,408.11004638671875,400.9920654296875,399.8587951660156,400.1271667480469,393.0589294433594,393.1583557128906,397.0951232910156,393.5858154296875,393.52618408203125,388.7643127441406,391.4484558105469,392.4539794921875,396.207275390625,392.9915466308594,398.5966491699219,398.03912353515625,398.1286926269531,396.26702880859375,399.38311767578125,399.9904479980469,391.46832275390625,386.15203857421875,382.70733642578125,381.97064208984375,385.1962585449219,384.5989074707031,362.9751281738281,362.4673767089844,370.77044677734375,374.68304443359375,376.14654541015625,380.9949645996094,384.340087890625,384.4495849609375,387.1475830078125,387.9739074707031,386.2416076660156,392.6332092285156,392.60333251953125,395.888671875,395.07232666015625,395.3411560058594,398.5269470214844,402.6087951660156,407.1386413574219,408.5125427246094,410.6729431152344,407.1585693359375,407.1983947753906,408.0047912597656,411.99700927734375,412.5246887207031,406.4218444824219,406.8797912597656,408.56231689453125,411.32000732421875,410.33441162109375,413.8686828613281,418.8863830566406,422.7989501953125,416.7060546875,416.716064453125,422.550048828125,423.5854797363281,417.5921325683594,421.564453125,422.2215576171875,421.79345703125,422.4803771972656,424.43170166015625,424.6208801269531,420.02130126953125,416.91510009765625,417.91070556640625,417.5622863769531,420.7730712890625,421.39129638671875,427.0450744628906,425.49951171875,427.8727111816406,427.1248474121094,426.197509765625,429.4880676269531,435.53076171875,438.49224853515625,437.5050964355469,437.44525146484375,435.5506896972656,437.2757263183594,439.3198547363281,443.91668701171875,447.94512939453125,459.6017150878906,459.26263427734375,455.4535827636719,459.1828918457031,460.5888671875,456.9493103027344,456.5704040527344,457.39801025390625,459.14300537109375,463.8594970703125,469.9320373535156,466.79107666015625,450.4579162597656,457.7370300292969,470.2112731933594,472.0659484863281,473.15283203125,473.3921203613281,477.4804382324219,473.4021301269531,475.2667541503906,467.1500244140625,466.18280029296875,470.25115966796875,466.2027587890625,467.9178466796875,467.818115234375,471.5174865722656,474.2496643066406,478.1086120605469,474.4690246582031,477.52032470703125,482.6156921386719,486.6441345214844,487.242431640625,480.2923583984375,474.678466796875,475.4362487792969,476.5829772949219,480.192626953125,477.03167724609375,478.0587463378906,476.05450439453125,468.4263916015625,475.7852783203125,478.14178466796875,471.461669921875,468.4761047363281,467.6173400878906,464.6916809082031,459.1099548339844,459.1399230957031,459.4794006347656,454.0274963378906,454.71649169921875,456.074462890625,462.135498046875,461.8159484863281,461.426513671875,461.736083984375,456.4239501953125,450.5326843261719,441.4161682128906,440.4476013183594,442.9239196777344,448.7053527832031,452.3899230957031,454.0973815917969,454.8163146972656,456.30413818359375,457.0829772949219,453.5282287597656,457.3226013183594,458.1913146972656,459.5892333984375,458.98016357421875,458.4209899902344,455.84478759765625,450.5426330566406,450.5126953125,444.42169189453125,441.8155822753906,441.4461364746094,446.4087829589844,442.5345153808594,444.1121520996094,445.9993896484375,448.0163879394531,449.124755859375,448.5855407714844,448.3758544921875,442.34478759765625,444.3418273925781,443.9723815917969,447.44720458984375,449.4442443847656,451.8407287597656,454.1772766113281,456.2841491699219,454.97607421875,451.7109069824219,442.09515380859375,440.50750732421875,436.9627380371094,443.9923400878906,447.5171203613281,448.8251953125,445.5799865722656,444.70001220703125,433.6400146484375,436.4200134277344,440.1099853515625,444.0,443.5299987792969,451.1600036621094,448.7200012207031,443.69000244140625,447.94000244140625,441.7200012207031,432.45001220703125,429.6000061035156,438.17999267578125,441.29998779296875,447.45001220703125,463.7099914550781,462.4100036621094,462.0199890136719,442.0,448.29998779296875,449.8399963378906,455.5799865722656,456.7799987792969,455.69000244140625,459.3599853515625,460.1600036621094,468.7099914550781,468.8800048828125,466.9800109863281,469.1199951171875,468.0,468.82000732421875,466.44000244140625,468.6400146484375,474.989990234375,471.79998779296875,480.79998779296875,483.3399963378906,482.1199951171875,483.1400146484375,477.3599853515625,476.1199951171875,487.0899963378906,488.0199890136719,488.17999267578125,492.1099853515625,493.3599853515625,497.7099914550781,500.989990234375,494.760009765625,493.010009765625,492.739990234375,497.1400146484375,487.4100036621094,489.45001220703125,491.2699890136719,493.6400146484375,493.79998779296875,496.3800048828125,495.57000732421875,494.9700012207031,497.70001220703125,491.29998779296875,497.05999755859375,499.95001220703125,498.0199890136719,502.260009765625,506.6600036621094,507.2300109863281,514.0700073242188,513.760009765625,516.3400268554688,515.010009765625,513.02001953125],\"type\":\"scatter\"}],                        {\"height\":900,\"template\":{\"data\":{\"barpolar\":[{\"marker\":{\"line\":{\"color\":\"rgb(17,17,17)\",\"width\":0.5},\"pattern\":{\"fillmode\":\"overlay\",\"size\":10,\"solidity\":0.2}},\"type\":\"barpolar\"}],\"bar\":[{\"error_x\":{\"color\":\"#f2f5fa\"},\"error_y\":{\"color\":\"#f2f5fa\"},\"marker\":{\"line\":{\"color\":\"rgb(17,17,17)\",\"width\":0.5},\"pattern\":{\"fillmode\":\"overlay\",\"size\":10,\"solidity\":0.2}},\"type\":\"bar\"}],\"carpet\":[{\"aaxis\":{\"endlinecolor\":\"#A2B1C6\",\"gridcolor\":\"#506784\",\"linecolor\":\"#506784\",\"minorgridcolor\":\"#506784\",\"startlinecolor\":\"#A2B1C6\"},\"baxis\":{\"endlinecolor\":\"#A2B1C6\",\"gridcolor\":\"#506784\",\"linecolor\":\"#506784\",\"minorgridcolor\":\"#506784\",\"startlinecolor\":\"#A2B1C6\"},\"type\":\"carpet\"}],\"choropleth\":[{\"colorbar\":{\"outlinewidth\":0,\"ticks\":\"\"},\"type\":\"choropleth\"}],\"contourcarpet\":[{\"colorbar\":{\"outlinewidth\":0,\"ticks\":\"\"},\"type\":\"contourcarpet\"}],\"contour\":[{\"colorbar\":{\"outlinewidth\":0,\"ticks\":\"\"},\"colorscale\":[[0.0,\"#0d0887\"],[0.1111111111111111,\"#46039f\"],[0.2222222222222222,\"#7201a8\"],[0.3333333333333333,\"#9c179e\"],[0.4444444444444444,\"#bd3786\"],[0.5555555555555556,\"#d8576b\"],[0.6666666666666666,\"#ed7953\"],[0.7777777777777778,\"#fb9f3a\"],[0.8888888888888888,\"#fdca26\"],[1.0,\"#f0f921\"]],\"type\":\"contour\"}],\"heatmapgl\":[{\"colorbar\":{\"outlinewidth\":0,\"ticks\":\"\"},\"colorscale\":[[0.0,\"#0d0887\"],[0.1111111111111111,\"#46039f\"],[0.2222222222222222,\"#7201a8\"],[0.3333333333333333,\"#9c179e\"],[0.4444444444444444,\"#bd3786\"],[0.5555555555555556,\"#d8576b\"],[0.6666666666666666,\"#ed7953\"],[0.7777777777777778,\"#fb9f3a\"],[0.8888888888888888,\"#fdca26\"],[1.0,\"#f0f921\"]],\"type\":\"heatmapgl\"}],\"heatmap\":[{\"colorbar\":{\"outlinewidth\":0,\"ticks\":\"\"},\"colorscale\":[[0.0,\"#0d0887\"],[0.1111111111111111,\"#46039f\"],[0.2222222222222222,\"#7201a8\"],[0.3333333333333333,\"#9c179e\"],[0.4444444444444444,\"#bd3786\"],[0.5555555555555556,\"#d8576b\"],[0.6666666666666666,\"#ed7953\"],[0.7777777777777778,\"#fb9f3a\"],[0.8888888888888888,\"#fdca26\"],[1.0,\"#f0f921\"]],\"type\":\"heatmap\"}],\"histogram2dcontour\":[{\"colorbar\":{\"outlinewidth\":0,\"ticks\":\"\"},\"colorscale\":[[0.0,\"#0d0887\"],[0.1111111111111111,\"#46039f\"],[0.2222222222222222,\"#7201a8\"],[0.3333333333333333,\"#9c179e\"],[0.4444444444444444,\"#bd3786\"],[0.5555555555555556,\"#d8576b\"],[0.6666666666666666,\"#ed7953\"],[0.7777777777777778,\"#fb9f3a\"],[0.8888888888888888,\"#fdca26\"],[1.0,\"#f0f921\"]],\"type\":\"histogram2dcontour\"}],\"histogram2d\":[{\"colorbar\":{\"outlinewidth\":0,\"ticks\":\"\"},\"colorscale\":[[0.0,\"#0d0887\"],[0.1111111111111111,\"#46039f\"],[0.2222222222222222,\"#7201a8\"],[0.3333333333333333,\"#9c179e\"],[0.4444444444444444,\"#bd3786\"],[0.5555555555555556,\"#d8576b\"],[0.6666666666666666,\"#ed7953\"],[0.7777777777777778,\"#fb9f3a\"],[0.8888888888888888,\"#fdca26\"],[1.0,\"#f0f921\"]],\"type\":\"histogram2d\"}],\"histogram\":[{\"marker\":{\"pattern\":{\"fillmode\":\"overlay\",\"size\":10,\"solidity\":0.2}},\"type\":\"histogram\"}],\"mesh3d\":[{\"colorbar\":{\"outlinewidth\":0,\"ticks\":\"\"},\"type\":\"mesh3d\"}],\"parcoords\":[{\"line\":{\"colorbar\":{\"outlinewidth\":0,\"ticks\":\"\"}},\"type\":\"parcoords\"}],\"pie\":[{\"automargin\":true,\"type\":\"pie\"}],\"scatter3d\":[{\"line\":{\"colorbar\":{\"outlinewidth\":0,\"ticks\":\"\"}},\"marker\":{\"colorbar\":{\"outlinewidth\":0,\"ticks\":\"\"}},\"type\":\"scatter3d\"}],\"scattercarpet\":[{\"marker\":{\"colorbar\":{\"outlinewidth\":0,\"ticks\":\"\"}},\"type\":\"scattercarpet\"}],\"scattergeo\":[{\"marker\":{\"colorbar\":{\"outlinewidth\":0,\"ticks\":\"\"}},\"type\":\"scattergeo\"}],\"scattergl\":[{\"marker\":{\"line\":{\"color\":\"#283442\"}},\"type\":\"scattergl\"}],\"scattermapbox\":[{\"marker\":{\"colorbar\":{\"outlinewidth\":0,\"ticks\":\"\"}},\"type\":\"scattermapbox\"}],\"scatterpolargl\":[{\"marker\":{\"colorbar\":{\"outlinewidth\":0,\"ticks\":\"\"}},\"type\":\"scatterpolargl\"}],\"scatterpolar\":[{\"marker\":{\"colorbar\":{\"outlinewidth\":0,\"ticks\":\"\"}},\"type\":\"scatterpolar\"}],\"scatter\":[{\"marker\":{\"line\":{\"color\":\"#283442\"}},\"type\":\"scatter\"}],\"scatterternary\":[{\"marker\":{\"colorbar\":{\"outlinewidth\":0,\"ticks\":\"\"}},\"type\":\"scatterternary\"}],\"surface\":[{\"colorbar\":{\"outlinewidth\":0,\"ticks\":\"\"},\"colorscale\":[[0.0,\"#0d0887\"],[0.1111111111111111,\"#46039f\"],[0.2222222222222222,\"#7201a8\"],[0.3333333333333333,\"#9c179e\"],[0.4444444444444444,\"#bd3786\"],[0.5555555555555556,\"#d8576b\"],[0.6666666666666666,\"#ed7953\"],[0.7777777777777778,\"#fb9f3a\"],[0.8888888888888888,\"#fdca26\"],[1.0,\"#f0f921\"]],\"type\":\"surface\"}],\"table\":[{\"cells\":{\"fill\":{\"color\":\"#506784\"},\"line\":{\"color\":\"rgb(17,17,17)\"}},\"header\":{\"fill\":{\"color\":\"#2a3f5f\"},\"line\":{\"color\":\"rgb(17,17,17)\"}},\"type\":\"table\"}]},\"layout\":{\"annotationdefaults\":{\"arrowcolor\":\"#f2f5fa\",\"arrowhead\":0,\"arrowwidth\":1},\"autotypenumbers\":\"strict\",\"coloraxis\":{\"colorbar\":{\"outlinewidth\":0,\"ticks\":\"\"}},\"colorscale\":{\"diverging\":[[0,\"#8e0152\"],[0.1,\"#c51b7d\"],[0.2,\"#de77ae\"],[0.3,\"#f1b6da\"],[0.4,\"#fde0ef\"],[0.5,\"#f7f7f7\"],[0.6,\"#e6f5d0\"],[0.7,\"#b8e186\"],[0.8,\"#7fbc41\"],[0.9,\"#4d9221\"],[1,\"#276419\"]],\"sequential\":[[0.0,\"#0d0887\"],[0.1111111111111111,\"#46039f\"],[0.2222222222222222,\"#7201a8\"],[0.3333333333333333,\"#9c179e\"],[0.4444444444444444,\"#bd3786\"],[0.5555555555555556,\"#d8576b\"],[0.6666666666666666,\"#ed7953\"],[0.7777777777777778,\"#fb9f3a\"],[0.8888888888888888,\"#fdca26\"],[1.0,\"#f0f921\"]],\"sequentialminus\":[[0.0,\"#0d0887\"],[0.1111111111111111,\"#46039f\"],[0.2222222222222222,\"#7201a8\"],[0.3333333333333333,\"#9c179e\"],[0.4444444444444444,\"#bd3786\"],[0.5555555555555556,\"#d8576b\"],[0.6666666666666666,\"#ed7953\"],[0.7777777777777778,\"#fb9f3a\"],[0.8888888888888888,\"#fdca26\"],[1.0,\"#f0f921\"]]},\"colorway\":[\"#636efa\",\"#EF553B\",\"#00cc96\",\"#ab63fa\",\"#FFA15A\",\"#19d3f3\",\"#FF6692\",\"#B6E880\",\"#FF97FF\",\"#FECB52\"],\"font\":{\"color\":\"#f2f5fa\"},\"geo\":{\"bgcolor\":\"rgb(17,17,17)\",\"lakecolor\":\"rgb(17,17,17)\",\"landcolor\":\"rgb(17,17,17)\",\"showlakes\":true,\"showland\":true,\"subunitcolor\":\"#506784\"},\"hoverlabel\":{\"align\":\"left\"},\"hovermode\":\"closest\",\"mapbox\":{\"style\":\"dark\"},\"paper_bgcolor\":\"rgb(17,17,17)\",\"plot_bgcolor\":\"rgb(17,17,17)\",\"polar\":{\"angularaxis\":{\"gridcolor\":\"#506784\",\"linecolor\":\"#506784\",\"ticks\":\"\"},\"bgcolor\":\"rgb(17,17,17)\",\"radialaxis\":{\"gridcolor\":\"#506784\",\"linecolor\":\"#506784\",\"ticks\":\"\"}},\"scene\":{\"xaxis\":{\"backgroundcolor\":\"rgb(17,17,17)\",\"gridcolor\":\"#506784\",\"gridwidth\":2,\"linecolor\":\"#506784\",\"showbackground\":true,\"ticks\":\"\",\"zerolinecolor\":\"#C8D4E3\"},\"yaxis\":{\"backgroundcolor\":\"rgb(17,17,17)\",\"gridcolor\":\"#506784\",\"gridwidth\":2,\"linecolor\":\"#506784\",\"showbackground\":true,\"ticks\":\"\",\"zerolinecolor\":\"#C8D4E3\"},\"zaxis\":{\"backgroundcolor\":\"rgb(17,17,17)\",\"gridcolor\":\"#506784\",\"gridwidth\":2,\"linecolor\":\"#506784\",\"showbackground\":true,\"ticks\":\"\",\"zerolinecolor\":\"#C8D4E3\"}},\"shapedefaults\":{\"line\":{\"color\":\"#f2f5fa\"}},\"sliderdefaults\":{\"bgcolor\":\"#C8D4E3\",\"bordercolor\":\"rgb(17,17,17)\",\"borderwidth\":1,\"tickwidth\":0},\"ternary\":{\"aaxis\":{\"gridcolor\":\"#506784\",\"linecolor\":\"#506784\",\"ticks\":\"\"},\"baxis\":{\"gridcolor\":\"#506784\",\"linecolor\":\"#506784\",\"ticks\":\"\"},\"bgcolor\":\"rgb(17,17,17)\",\"caxis\":{\"gridcolor\":\"#506784\",\"linecolor\":\"#506784\",\"ticks\":\"\"}},\"title\":{\"x\":0.05},\"updatemenudefaults\":{\"bgcolor\":\"#506784\",\"borderwidth\":0},\"xaxis\":{\"automargin\":true,\"gridcolor\":\"#283442\",\"linecolor\":\"#506784\",\"ticks\":\"\",\"title\":{\"standoff\":15},\"zerolinecolor\":\"#283442\",\"zerolinewidth\":2},\"yaxis\":{\"automargin\":true,\"gridcolor\":\"#283442\",\"linecolor\":\"#506784\",\"ticks\":\"\",\"title\":{\"standoff\":15},\"zerolinecolor\":\"#283442\",\"zerolinewidth\":2}}},\"title\":{\"text\":\"LSTM model predictions vs. actual price of MA\"},\"width\":1500},                        {\"responsive\": true}                    ).then(function(){\n",
       "                            \n",
       "var gd = document.getElementById('3c125ab2-b32e-4933-87bc-d0fa1893aeba');\n",
       "var x = new MutationObserver(function (mutations, observer) {{\n",
       "        var display = window.getComputedStyle(gd).display;\n",
       "        if (!display || display === 'none') {{\n",
       "            console.log([gd, 'removed!']);\n",
       "            Plotly.purge(gd);\n",
       "            observer.disconnect();\n",
       "        }}\n",
       "}});\n",
       "\n",
       "// Listen for the removal of the full notebook cells\n",
       "var notebookContainer = gd.closest('#notebook-container');\n",
       "if (notebookContainer) {{\n",
       "    x.observe(notebookContainer, {childList: true});\n",
       "}}\n",
       "\n",
       "// Listen for the clearing of the current output cell\n",
       "var outputEl = gd.closest('.output');\n",
       "if (outputEl) {{\n",
       "    x.observe(outputEl, {childList: true});\n",
       "}}\n",
       "\n",
       "                        })                };                });            </script>        </div>"
      ]
     },
     "metadata": {},
     "output_type": "display_data"
    }
   ],
   "source": [
    "trace_0 = go.Scatter(y=results_df['theta_hat'],\n",
    "                     name='predicted',\n",
    "                     mode='lines',\n",
    "                     marker= {'color':'#FF6F61','opacity':0.9})\n",
    "\n",
    "trace_1 = go.Scatter(y=results_df['theta'],\n",
    "                     name=df2.columns[0],\n",
    "                     mode='lines',\n",
    "                     marker= {'color':'#1d5dec','opacity':0.9})\n",
    "\n",
    "data = [trace_0,trace_1]\n",
    "\n",
    "\n",
    "layout = go.Layout(title=f\"LSTM model predictions vs. actual price of {df2.columns[0]}\",\n",
    "                  template='plotly_dark',\n",
    "                   height=900,\n",
    "                   width=1500)\n",
    "\n",
    "fig = go.Figure(data,layout=layout)\n",
    "fig.show()"
   ]
  },
  {
   "cell_type": "code",
   "execution_count": null,
   "id": "e97562ba",
   "metadata": {},
   "outputs": [],
   "source": []
  },
  {
   "cell_type": "code",
   "execution_count": null,
   "id": "39a118e7",
   "metadata": {},
   "outputs": [],
   "source": []
  }
 ],
 "metadata": {
  "kernelspec": {
   "display_name": "Python 3 (ipykernel)",
   "language": "python",
   "name": "python3"
  },
  "language_info": {
   "codemirror_mode": {
    "name": "ipython",
    "version": 3
   },
   "file_extension": ".py",
   "mimetype": "text/x-python",
   "name": "python",
   "nbconvert_exporter": "python",
   "pygments_lexer": "ipython3",
   "version": "3.8.10"
  }
 },
 "nbformat": 4,
 "nbformat_minor": 5
}
