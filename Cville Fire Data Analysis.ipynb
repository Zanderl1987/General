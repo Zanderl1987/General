{
 "cells": [
  {
   "cell_type": "code",
   "execution_count": 20,
   "metadata": {
    "collapsed": true
   },
   "outputs": [],
   "source": [
    "import pandas as pd\n",
    "import numpy as np\n",
    "import polars as pl\n",
    "import datetime\n",
    "import matplotlib.pyplot as plt\n",
    "import seaborn as sns\n",
    "import altair as alt\n",
    "import gzip\n",
    "import shutil\n",
    "import pathlib\n",
    "import os\n",
    "import sqlalchemy\n",
    "import sqlite3\n",
    "import spacy\n",
    "import re\n",
    "import tqdm\n",
    "from tqdm.notebook import tqdm, trange\n",
    "import ipywidgets as widgets\n",
    "from ipywidgets import IntProgress, HTML, VBox\n",
    "from IPython.display import display\n",
    "import time\n",
    "import sklearn\n",
    "from sklearn.preprocessing import LabelEncoder\n",
    "import missingno as msno"
   ]
  },
  {
   "cell_type": "code",
   "execution_count": 41,
   "outputs": [],
   "source": [
    "file_path = r\"F:\\Data Science\\Datasets\\Historical_Fire_Data_Charlottesville.csv\""
   ],
   "metadata": {
    "collapsed": false
   }
  },
  {
   "cell_type": "code",
   "execution_count": 71,
   "outputs": [
    {
     "name": "stdout",
     "output_type": "stream",
     "text": [
      "<class 'pandas.core.frame.DataFrame'>\n",
      "RangeIndex: 2246 entries, 0 to 2245\n",
      "Data columns (total 24 columns):\n",
      " #   Column                        Non-Null Count  Dtype  \n",
      "---  ------                        --------------  -----  \n",
      " 0   RecordID                      2246 non-null   int64  \n",
      " 1   Incident_ID                   2246 non-null   int64  \n",
      " 2   AddressRaw                    2246 non-null   object \n",
      " 3   AddressStandardized           2246 non-null   object \n",
      " 4   AlarmDateTimeAmericaNY        2246 non-null   object \n",
      " 5   CauseOfIgnition               2246 non-null   object \n",
      " 6   FireAreaOfOrigin              2246 non-null   object \n",
      " 7   FireType                      2246 non-null   object \n",
      " 8   HeatSource                    2246 non-null   object \n",
      " 9   IncidentDurationMinutes       2246 non-null   float64\n",
      " 10  ItemFirstIgnited              2246 non-null   object \n",
      " 11  Latitude                      2246 non-null   float64\n",
      " 12  Longitude                     2246 non-null   float64\n",
      " 13  PropertyLossDollars           2246 non-null   int64  \n",
      " 14  PropertyUse                   2245 non-null   object \n",
      " 15  StreetName                    2246 non-null   object \n",
      " 16  StreetNumber                  2246 non-null   object \n",
      " 17  StreetPostDirection           2246 non-null   object \n",
      " 18  StreetPredirection            2246 non-null   object \n",
      " 19  StreetSuffix                  2246 non-null   object \n",
      " 20  UnitFirstArrive               2246 non-null   object \n",
      " 21  UnitFirstResponseTimeMinutes  2246 non-null   float64\n",
      " 22  Year                          2246 non-null   int64  \n",
      " 23  ZipCode                       2246 non-null   int64  \n",
      "dtypes: float64(4), int64(5), object(15)\n",
      "memory usage: 421.2+ KB\n"
     ]
    }
   ],
   "source": [
    "hfdf = pd.read_csv(file_path)\n",
    "\n",
    "hfdf.info()"
   ],
   "metadata": {
    "collapsed": false
   }
  },
  {
   "cell_type": "code",
   "execution_count": 72,
   "outputs": [
    {
     "data": {
      "text/plain": "   RecordID  Incident_ID         AddressRaw AddressStandardized  \\\n0         1      2000930  2400 FONTAINE AVE   2400 FONTAINE AVE   \n1         2      2003381      905 FOREST ST       905 FOREST ST   \n2         3      2003463      219 5TH ST SW       219 5TH ST SW   \n3         4      2003769                                          \n4         5      2003827       822 HARDY DR        822 HARDY DR   \n\n   AlarmDateTimeAmericaNY CauseOfIgnition  \\\n0  2002/04/14 16:38:57+00    Undetermined   \n1  2002/11/07 20:21:02+00     Intentional   \n2  2002/11/14 12:46:32+00                   \n3  2002/12/11 14:30:15+00                   \n4  2002/12/17 07:38:34+00     Intentional   \n\n                                    FireAreaOfOrigin  \\\n0                                                      \n1  Bedroom - < 5 persons; included are jail or pr...   \n2                                                      \n3                                                      \n4                              Cooking area, kitchen   \n\n                         FireType                          HeatSource  \\\n0         Natural vegetation fire                                       \n1                  Structure Fire                   Cigarette lighter   \n2  Mobile property (vehicle) fire                                       \n3                  Structure Fire                                       \n4                  Structure Fire  Heat from powered equipment, other   \n\n   IncidentDurationMinutes  ...             PropertyUse  StreetName  \\\n0                17.299999  ...            Undetermined    FONTAINE   \n1               258.700012  ...  1 or 2 family dwelling      FOREST   \n2                 9.400000  ...                                 5TH   \n3                24.900000  ...  1 or 2 family dwelling               \n4                98.800003  ...    Multifamily dwelling       HARDY   \n\n   StreetNumber  StreetPostDirection StreetPredirection StreetSuffix  \\\n0          2400                                                  AVE   \n1           905                                                   ST   \n2           219                   SW                              ST   \n3                                                                      \n4           822                                                   DR   \n\n  UnitFirstArrive UnitFirstResponseTimeMinutes  Year ZipCode  \n0              E6                         3.50  2002   22901  \n1              C2                         3.20  2002   22901  \n2             BC2                         0.05  2002   22903  \n3             BC2                         1.60  2002   22902  \n4              E7                         5.93  2002   22901  \n\n[5 rows x 24 columns]",
      "text/html": "<div>\n<style scoped>\n    .dataframe tbody tr th:only-of-type {\n        vertical-align: middle;\n    }\n\n    .dataframe tbody tr th {\n        vertical-align: top;\n    }\n\n    .dataframe thead th {\n        text-align: right;\n    }\n</style>\n<table border=\"1\" class=\"dataframe\">\n  <thead>\n    <tr style=\"text-align: right;\">\n      <th></th>\n      <th>RecordID</th>\n      <th>Incident_ID</th>\n      <th>AddressRaw</th>\n      <th>AddressStandardized</th>\n      <th>AlarmDateTimeAmericaNY</th>\n      <th>CauseOfIgnition</th>\n      <th>FireAreaOfOrigin</th>\n      <th>FireType</th>\n      <th>HeatSource</th>\n      <th>IncidentDurationMinutes</th>\n      <th>...</th>\n      <th>PropertyUse</th>\n      <th>StreetName</th>\n      <th>StreetNumber</th>\n      <th>StreetPostDirection</th>\n      <th>StreetPredirection</th>\n      <th>StreetSuffix</th>\n      <th>UnitFirstArrive</th>\n      <th>UnitFirstResponseTimeMinutes</th>\n      <th>Year</th>\n      <th>ZipCode</th>\n    </tr>\n  </thead>\n  <tbody>\n    <tr>\n      <th>0</th>\n      <td>1</td>\n      <td>2000930</td>\n      <td>2400 FONTAINE AVE</td>\n      <td>2400 FONTAINE AVE</td>\n      <td>2002/04/14 16:38:57+00</td>\n      <td>Undetermined</td>\n      <td></td>\n      <td>Natural vegetation fire</td>\n      <td></td>\n      <td>17.299999</td>\n      <td>...</td>\n      <td>Undetermined</td>\n      <td>FONTAINE</td>\n      <td>2400</td>\n      <td></td>\n      <td></td>\n      <td>AVE</td>\n      <td>E6</td>\n      <td>3.50</td>\n      <td>2002</td>\n      <td>22901</td>\n    </tr>\n    <tr>\n      <th>1</th>\n      <td>2</td>\n      <td>2003381</td>\n      <td>905 FOREST ST</td>\n      <td>905 FOREST ST</td>\n      <td>2002/11/07 20:21:02+00</td>\n      <td>Intentional</td>\n      <td>Bedroom - &lt; 5 persons; included are jail or pr...</td>\n      <td>Structure Fire</td>\n      <td>Cigarette lighter</td>\n      <td>258.700012</td>\n      <td>...</td>\n      <td>1 or 2 family dwelling</td>\n      <td>FOREST</td>\n      <td>905</td>\n      <td></td>\n      <td></td>\n      <td>ST</td>\n      <td>C2</td>\n      <td>3.20</td>\n      <td>2002</td>\n      <td>22901</td>\n    </tr>\n    <tr>\n      <th>2</th>\n      <td>3</td>\n      <td>2003463</td>\n      <td>219 5TH ST SW</td>\n      <td>219 5TH ST SW</td>\n      <td>2002/11/14 12:46:32+00</td>\n      <td></td>\n      <td></td>\n      <td>Mobile property (vehicle) fire</td>\n      <td></td>\n      <td>9.400000</td>\n      <td>...</td>\n      <td></td>\n      <td>5TH</td>\n      <td>219</td>\n      <td>SW</td>\n      <td></td>\n      <td>ST</td>\n      <td>BC2</td>\n      <td>0.05</td>\n      <td>2002</td>\n      <td>22903</td>\n    </tr>\n    <tr>\n      <th>3</th>\n      <td>4</td>\n      <td>2003769</td>\n      <td></td>\n      <td></td>\n      <td>2002/12/11 14:30:15+00</td>\n      <td></td>\n      <td></td>\n      <td>Structure Fire</td>\n      <td></td>\n      <td>24.900000</td>\n      <td>...</td>\n      <td>1 or 2 family dwelling</td>\n      <td></td>\n      <td></td>\n      <td></td>\n      <td></td>\n      <td></td>\n      <td>BC2</td>\n      <td>1.60</td>\n      <td>2002</td>\n      <td>22902</td>\n    </tr>\n    <tr>\n      <th>4</th>\n      <td>5</td>\n      <td>2003827</td>\n      <td>822 HARDY DR</td>\n      <td>822 HARDY DR</td>\n      <td>2002/12/17 07:38:34+00</td>\n      <td>Intentional</td>\n      <td>Cooking area, kitchen</td>\n      <td>Structure Fire</td>\n      <td>Heat from powered equipment, other</td>\n      <td>98.800003</td>\n      <td>...</td>\n      <td>Multifamily dwelling</td>\n      <td>HARDY</td>\n      <td>822</td>\n      <td></td>\n      <td></td>\n      <td>DR</td>\n      <td>E7</td>\n      <td>5.93</td>\n      <td>2002</td>\n      <td>22901</td>\n    </tr>\n  </tbody>\n</table>\n<p>5 rows × 24 columns</p>\n</div>"
     },
     "execution_count": 72,
     "metadata": {},
     "output_type": "execute_result"
    }
   ],
   "source": [
    "hfdf.head()"
   ],
   "metadata": {
    "collapsed": false
   }
  },
  {
   "cell_type": "code",
   "execution_count": 73,
   "outputs": [
    {
     "data": {
      "text/plain": "CauseOfIgnition\n                                                                      665\nUnintentional                                                         630\nFailure of equipment or heat source                                   224\nUndetermined                                                          182\nCause under investigation                                             137\nSmoking                                                               127\nCause undetermined after investigation                                 87\nIntentional                                                            59\nOpen/outdoor fire                                                      25\nOther cause                                                            18\nEquipment                                                              17\nIncendiary                                                             17\nCause, other                                                           13\nNatural source                                                         12\nMisuse of fire                                                         12\nAct of nature                                                          10\nDebris, vegetation burn                                                 8\nAlbemarle County in charge of investigation                             2\nCause, other (System generated code only, not used for data entry)      1\nName: count, dtype: int64"
     },
     "execution_count": 73,
     "metadata": {},
     "output_type": "execute_result"
    }
   ],
   "source": [
    "hfdf['CauseOfIgnition'].value_counts()"
   ],
   "metadata": {
    "collapsed": false
   }
  },
  {
   "cell_type": "code",
   "execution_count": 74,
   "outputs": [],
   "source": [
    "hfdf = hfdf[hfdf['CauseOfIgnition'] != 'Unintentional']"
   ],
   "metadata": {
    "collapsed": false
   }
  },
  {
   "cell_type": "code",
   "execution_count": 75,
   "outputs": [],
   "source": [
    "hfdf = hfdf.dropna(how='any')"
   ],
   "metadata": {
    "collapsed": false
   }
  },
  {
   "cell_type": "code",
   "execution_count": 76,
   "outputs": [],
   "source": [
    "one_hot_encoded = pd.get_dummies(hfdf['CauseOfIgnition'], prefix='Cause',dtype=int)"
   ],
   "metadata": {
    "collapsed": false
   }
  },
  {
   "cell_type": "code",
   "execution_count": 77,
   "outputs": [],
   "source": [
    "hfdf = pd.concat([hfdf, one_hot_encoded],axis=1)"
   ],
   "metadata": {
    "collapsed": false
   }
  },
  {
   "cell_type": "code",
   "execution_count": 78,
   "outputs": [],
   "source": [
    "#hfdf = hfdf.dropna"
   ],
   "metadata": {
    "collapsed": false
   }
  },
  {
   "cell_type": "code",
   "execution_count": 79,
   "outputs": [
    {
     "name": "stdout",
     "output_type": "stream",
     "text": [
      "<class 'pandas.core.frame.DataFrame'>\n",
      "Index: 1615 entries, 0 to 2238\n",
      "Data columns (total 42 columns):\n",
      " #   Column                                                                    Non-Null Count  Dtype  \n",
      "---  ------                                                                    --------------  -----  \n",
      " 0   RecordID                                                                  1615 non-null   int64  \n",
      " 1   Incident_ID                                                               1615 non-null   int64  \n",
      " 2   AddressRaw                                                                1615 non-null   object \n",
      " 3   AddressStandardized                                                       1615 non-null   object \n",
      " 4   AlarmDateTimeAmericaNY                                                    1615 non-null   object \n",
      " 5   CauseOfIgnition                                                           1615 non-null   object \n",
      " 6   FireAreaOfOrigin                                                          1615 non-null   object \n",
      " 7   FireType                                                                  1615 non-null   object \n",
      " 8   HeatSource                                                                1615 non-null   object \n",
      " 9   IncidentDurationMinutes                                                   1615 non-null   float64\n",
      " 10  ItemFirstIgnited                                                          1615 non-null   object \n",
      " 11  Latitude                                                                  1615 non-null   float64\n",
      " 12  Longitude                                                                 1615 non-null   float64\n",
      " 13  PropertyLossDollars                                                       1615 non-null   int64  \n",
      " 14  PropertyUse                                                               1615 non-null   object \n",
      " 15  StreetName                                                                1615 non-null   object \n",
      " 16  StreetNumber                                                              1615 non-null   object \n",
      " 17  StreetPostDirection                                                       1615 non-null   object \n",
      " 18  StreetPredirection                                                        1615 non-null   object \n",
      " 19  StreetSuffix                                                              1615 non-null   object \n",
      " 20  UnitFirstArrive                                                           1615 non-null   object \n",
      " 21  UnitFirstResponseTimeMinutes                                              1615 non-null   float64\n",
      " 22  Year                                                                      1615 non-null   int64  \n",
      " 23  ZipCode                                                                   1615 non-null   int64  \n",
      " 24  Cause_                                                                    1615 non-null   int32  \n",
      " 25  Cause_Act of nature                                                       1615 non-null   int32  \n",
      " 26  Cause_Albemarle County in charge of investigation                         1615 non-null   int32  \n",
      " 27  Cause_Cause under investigation                                           1615 non-null   int32  \n",
      " 28  Cause_Cause undetermined after investigation                              1615 non-null   int32  \n",
      " 29  Cause_Cause, other                                                        1615 non-null   int32  \n",
      " 30  Cause_Cause, other (System generated code only, not used for data entry)  1615 non-null   int32  \n",
      " 31  Cause_Debris, vegetation burn                                             1615 non-null   int32  \n",
      " 32  Cause_Equipment                                                           1615 non-null   int32  \n",
      " 33  Cause_Failure of equipment or heat source                                 1615 non-null   int32  \n",
      " 34  Cause_Incendiary                                                          1615 non-null   int32  \n",
      " 35  Cause_Intentional                                                         1615 non-null   int32  \n",
      " 36  Cause_Misuse of fire                                                      1615 non-null   int32  \n",
      " 37  Cause_Natural source                                                      1615 non-null   int32  \n",
      " 38  Cause_Open/outdoor fire                                                   1615 non-null   int32  \n",
      " 39  Cause_Other cause                                                         1615 non-null   int32  \n",
      " 40  Cause_Smoking                                                             1615 non-null   int32  \n",
      " 41  Cause_Undetermined                                                        1615 non-null   int32  \n",
      "dtypes: float64(4), int32(18), int64(5), object(15)\n",
      "memory usage: 429.0+ KB\n"
     ]
    }
   ],
   "source": [
    "hfdf.info()"
   ],
   "metadata": {
    "collapsed": false
   }
  },
  {
   "cell_type": "code",
   "execution_count": 82,
   "outputs": [
    {
     "data": {
      "text/plain": "   RecordID  Incident_ID          AddressRaw AddressStandardized  \\\n0         1      2000930   2400 FONTAINE AVE   2400 FONTAINE AVE   \n1         2      2003381       905 FOREST ST       905 FOREST ST   \n2         3      2003463       219 5TH ST SW       219 5TH ST SW   \n3         4      2003769                                           \n4         5      2003827        822 HARDY DR        822 HARDY DR   \n5         6      2003891    900 HILLCREST RD    900 HILLCREST RD   \n6         7      2000079                                           \n7         8      2030084   20 BONNYCASTLE DR   20 BONNYCASTLE DR   \n8         9      2030087  1526 TRAILRIDGE RD  1526 TRAILRIDGE RD   \n9        10      2030117        100 RIDGE ST        100 RIDGE ST   \n\n   AlarmDateTimeAmericaNY            CauseOfIgnition  \\\n0  2002/04/14 16:38:57+00               Undetermined   \n1  2002/11/07 20:21:02+00                Intentional   \n2  2002/11/14 12:46:32+00                              \n3  2002/12/11 14:30:15+00                              \n4  2002/12/17 07:38:34+00                Intentional   \n5  2002/12/22 16:23:05+00                Intentional   \n6  2003/01/08 17:29:18+00                Other cause   \n7  2003/01/09 15:23:46+00               Cause, other   \n8  2003/01/09 20:41:44+00  Cause under investigation   \n9  2003/01/12 07:23:38+00                Intentional   \n\n                                    FireAreaOfOrigin  \\\n0                                                      \n1  Bedroom - < 5 persons; included are jail or pr...   \n2                                                      \n3                                                      \n4                              Cooking area, kitchen   \n5                                                      \n6                                                      \n7                                             Office   \n8  Bedroom - < 5 persons; included are jail or pr...   \n9            Chute/container - trash, rubbish, waste   \n\n                         FireType                          HeatSource  \\\n0         Natural vegetation fire                                       \n1                  Structure Fire                   Cigarette lighter   \n2  Mobile property (vehicle) fire                                       \n3                  Structure Fire                                       \n4                  Structure Fire  Heat from powered equipment, other   \n5                  Structure Fire                                       \n6         Natural vegetation fire                              Arcing   \n7                  Structure Fire                              Arcing   \n8                  Structure Fire                           Cigarette   \n9                  Structure Fire                           Cigarette   \n\n   IncidentDurationMinutes  ... Cause_Equipment  \\\n0                17.299999  ...               0   \n1               258.700012  ...               0   \n2                 9.400000  ...               0   \n3                24.900000  ...               0   \n4                98.800003  ...               0   \n5                51.599998  ...               0   \n6                48.400002  ...               0   \n7                28.400000  ...               0   \n8                78.699997  ...               0   \n9               118.699997  ...               0   \n\n   Cause_Failure of equipment or heat source  Cause_Incendiary  \\\n0                                          0                 0   \n1                                          0                 0   \n2                                          0                 0   \n3                                          0                 0   \n4                                          0                 0   \n5                                          0                 0   \n6                                          0                 0   \n7                                          0                 0   \n8                                          0                 0   \n9                                          0                 0   \n\n   Cause_Intentional Cause_Misuse of fire Cause_Natural source  \\\n0                  0                    0                    0   \n1                  1                    0                    0   \n2                  0                    0                    0   \n3                  0                    0                    0   \n4                  1                    0                    0   \n5                  1                    0                    0   \n6                  0                    0                    0   \n7                  0                    0                    0   \n8                  0                    0                    0   \n9                  1                    0                    0   \n\n  Cause_Open/outdoor fire Cause_Other cause Cause_Smoking Cause_Undetermined  \n0                       0                 0             0                  1  \n1                       0                 0             0                  0  \n2                       0                 0             0                  0  \n3                       0                 0             0                  0  \n4                       0                 0             0                  0  \n5                       0                 0             0                  0  \n6                       0                 1             0                  0  \n7                       0                 0             0                  0  \n8                       0                 0             0                  0  \n9                       0                 0             0                  0  \n\n[10 rows x 42 columns]",
      "text/html": "<div>\n<style scoped>\n    .dataframe tbody tr th:only-of-type {\n        vertical-align: middle;\n    }\n\n    .dataframe tbody tr th {\n        vertical-align: top;\n    }\n\n    .dataframe thead th {\n        text-align: right;\n    }\n</style>\n<table border=\"1\" class=\"dataframe\">\n  <thead>\n    <tr style=\"text-align: right;\">\n      <th></th>\n      <th>RecordID</th>\n      <th>Incident_ID</th>\n      <th>AddressRaw</th>\n      <th>AddressStandardized</th>\n      <th>AlarmDateTimeAmericaNY</th>\n      <th>CauseOfIgnition</th>\n      <th>FireAreaOfOrigin</th>\n      <th>FireType</th>\n      <th>HeatSource</th>\n      <th>IncidentDurationMinutes</th>\n      <th>...</th>\n      <th>Cause_Equipment</th>\n      <th>Cause_Failure of equipment or heat source</th>\n      <th>Cause_Incendiary</th>\n      <th>Cause_Intentional</th>\n      <th>Cause_Misuse of fire</th>\n      <th>Cause_Natural source</th>\n      <th>Cause_Open/outdoor fire</th>\n      <th>Cause_Other cause</th>\n      <th>Cause_Smoking</th>\n      <th>Cause_Undetermined</th>\n    </tr>\n  </thead>\n  <tbody>\n    <tr>\n      <th>0</th>\n      <td>1</td>\n      <td>2000930</td>\n      <td>2400 FONTAINE AVE</td>\n      <td>2400 FONTAINE AVE</td>\n      <td>2002/04/14 16:38:57+00</td>\n      <td>Undetermined</td>\n      <td></td>\n      <td>Natural vegetation fire</td>\n      <td></td>\n      <td>17.299999</td>\n      <td>...</td>\n      <td>0</td>\n      <td>0</td>\n      <td>0</td>\n      <td>0</td>\n      <td>0</td>\n      <td>0</td>\n      <td>0</td>\n      <td>0</td>\n      <td>0</td>\n      <td>1</td>\n    </tr>\n    <tr>\n      <th>1</th>\n      <td>2</td>\n      <td>2003381</td>\n      <td>905 FOREST ST</td>\n      <td>905 FOREST ST</td>\n      <td>2002/11/07 20:21:02+00</td>\n      <td>Intentional</td>\n      <td>Bedroom - &lt; 5 persons; included are jail or pr...</td>\n      <td>Structure Fire</td>\n      <td>Cigarette lighter</td>\n      <td>258.700012</td>\n      <td>...</td>\n      <td>0</td>\n      <td>0</td>\n      <td>0</td>\n      <td>1</td>\n      <td>0</td>\n      <td>0</td>\n      <td>0</td>\n      <td>0</td>\n      <td>0</td>\n      <td>0</td>\n    </tr>\n    <tr>\n      <th>2</th>\n      <td>3</td>\n      <td>2003463</td>\n      <td>219 5TH ST SW</td>\n      <td>219 5TH ST SW</td>\n      <td>2002/11/14 12:46:32+00</td>\n      <td></td>\n      <td></td>\n      <td>Mobile property (vehicle) fire</td>\n      <td></td>\n      <td>9.400000</td>\n      <td>...</td>\n      <td>0</td>\n      <td>0</td>\n      <td>0</td>\n      <td>0</td>\n      <td>0</td>\n      <td>0</td>\n      <td>0</td>\n      <td>0</td>\n      <td>0</td>\n      <td>0</td>\n    </tr>\n    <tr>\n      <th>3</th>\n      <td>4</td>\n      <td>2003769</td>\n      <td></td>\n      <td></td>\n      <td>2002/12/11 14:30:15+00</td>\n      <td></td>\n      <td></td>\n      <td>Structure Fire</td>\n      <td></td>\n      <td>24.900000</td>\n      <td>...</td>\n      <td>0</td>\n      <td>0</td>\n      <td>0</td>\n      <td>0</td>\n      <td>0</td>\n      <td>0</td>\n      <td>0</td>\n      <td>0</td>\n      <td>0</td>\n      <td>0</td>\n    </tr>\n    <tr>\n      <th>4</th>\n      <td>5</td>\n      <td>2003827</td>\n      <td>822 HARDY DR</td>\n      <td>822 HARDY DR</td>\n      <td>2002/12/17 07:38:34+00</td>\n      <td>Intentional</td>\n      <td>Cooking area, kitchen</td>\n      <td>Structure Fire</td>\n      <td>Heat from powered equipment, other</td>\n      <td>98.800003</td>\n      <td>...</td>\n      <td>0</td>\n      <td>0</td>\n      <td>0</td>\n      <td>1</td>\n      <td>0</td>\n      <td>0</td>\n      <td>0</td>\n      <td>0</td>\n      <td>0</td>\n      <td>0</td>\n    </tr>\n    <tr>\n      <th>5</th>\n      <td>6</td>\n      <td>2003891</td>\n      <td>900 HILLCREST RD</td>\n      <td>900 HILLCREST RD</td>\n      <td>2002/12/22 16:23:05+00</td>\n      <td>Intentional</td>\n      <td></td>\n      <td>Structure Fire</td>\n      <td></td>\n      <td>51.599998</td>\n      <td>...</td>\n      <td>0</td>\n      <td>0</td>\n      <td>0</td>\n      <td>1</td>\n      <td>0</td>\n      <td>0</td>\n      <td>0</td>\n      <td>0</td>\n      <td>0</td>\n      <td>0</td>\n    </tr>\n    <tr>\n      <th>6</th>\n      <td>7</td>\n      <td>2000079</td>\n      <td></td>\n      <td></td>\n      <td>2003/01/08 17:29:18+00</td>\n      <td>Other cause</td>\n      <td></td>\n      <td>Natural vegetation fire</td>\n      <td>Arcing</td>\n      <td>48.400002</td>\n      <td>...</td>\n      <td>0</td>\n      <td>0</td>\n      <td>0</td>\n      <td>0</td>\n      <td>0</td>\n      <td>0</td>\n      <td>0</td>\n      <td>1</td>\n      <td>0</td>\n      <td>0</td>\n    </tr>\n    <tr>\n      <th>7</th>\n      <td>8</td>\n      <td>2030084</td>\n      <td>20 BONNYCASTLE DR</td>\n      <td>20 BONNYCASTLE DR</td>\n      <td>2003/01/09 15:23:46+00</td>\n      <td>Cause, other</td>\n      <td>Office</td>\n      <td>Structure Fire</td>\n      <td>Arcing</td>\n      <td>28.400000</td>\n      <td>...</td>\n      <td>0</td>\n      <td>0</td>\n      <td>0</td>\n      <td>0</td>\n      <td>0</td>\n      <td>0</td>\n      <td>0</td>\n      <td>0</td>\n      <td>0</td>\n      <td>0</td>\n    </tr>\n    <tr>\n      <th>8</th>\n      <td>9</td>\n      <td>2030087</td>\n      <td>1526 TRAILRIDGE RD</td>\n      <td>1526 TRAILRIDGE RD</td>\n      <td>2003/01/09 20:41:44+00</td>\n      <td>Cause under investigation</td>\n      <td>Bedroom - &lt; 5 persons; included are jail or pr...</td>\n      <td>Structure Fire</td>\n      <td>Cigarette</td>\n      <td>78.699997</td>\n      <td>...</td>\n      <td>0</td>\n      <td>0</td>\n      <td>0</td>\n      <td>0</td>\n      <td>0</td>\n      <td>0</td>\n      <td>0</td>\n      <td>0</td>\n      <td>0</td>\n      <td>0</td>\n    </tr>\n    <tr>\n      <th>9</th>\n      <td>10</td>\n      <td>2030117</td>\n      <td>100 RIDGE ST</td>\n      <td>100 RIDGE ST</td>\n      <td>2003/01/12 07:23:38+00</td>\n      <td>Intentional</td>\n      <td>Chute/container - trash, rubbish, waste</td>\n      <td>Structure Fire</td>\n      <td>Cigarette</td>\n      <td>118.699997</td>\n      <td>...</td>\n      <td>0</td>\n      <td>0</td>\n      <td>0</td>\n      <td>1</td>\n      <td>0</td>\n      <td>0</td>\n      <td>0</td>\n      <td>0</td>\n      <td>0</td>\n      <td>0</td>\n    </tr>\n  </tbody>\n</table>\n<p>10 rows × 42 columns</p>\n</div>"
     },
     "execution_count": 82,
     "metadata": {},
     "output_type": "execute_result"
    }
   ],
   "source": [
    "hfdf.head(10)"
   ],
   "metadata": {
    "collapsed": false
   }
  },
  {
   "cell_type": "code",
   "execution_count": 130,
   "outputs": [
    {
     "data": {
      "text/plain": "FireAreaOfOrigin\n                                                      1082\nEngine area, running gear, wheel area                  134\nUndetermined                                            41\nBedroom - < 5 persons; included are jail or prison      37\nCooking area, kitchen                                   30\n                                                      ... \nCourtyard, patio, porch, terrace                         1\nMachinery room or area; elevator machinery room          1\nArt gallery, exhibit hall, library                       1\nAwning                                                   1\nOpen area, outside; included are farmland, field         1\nName: count, Length: 63, dtype: int64"
     },
     "execution_count": 130,
     "metadata": {},
     "output_type": "execute_result"
    }
   ],
   "source": [
    "hfdf['FireAreaOfOrigin'].value_counts()"
   ],
   "metadata": {
    "collapsed": false
   }
  },
  {
   "cell_type": "code",
   "execution_count": 131,
   "outputs": [
    {
     "data": {
      "text/plain": "HeatSource\n                                                          869\nUndetermined                                              308\nHeat from powered equipment, other                         77\nArcing                                                     59\nCigarette                                                  54\nRadiated, conducted heat from operating equipment          33\nHot ember or ash                                           32\nHot or smoldering object, other                            24\nSpark, ember, or flame from operating equipment            23\nHeat source: other                                         17\nMatch                                                      15\nElectrical arcing                                          14\nHeat from undetermined smoking material                    13\nFireworks                                                  10\nHeat, spark from friction                                   9\nHeat from other open flame or smoking materials             9\nLightning                                                   8\nCigarette lighter                                           6\nLighter: cigarette, cigar                                   6\nChemical, natural heat source, other                        4\nBackfire from internal combustion engine                    3\nFlame/torch used for lighting                               3\nHeat from direct flame, convection currents                 3\nCandle                                                      3\nRadiated or conducted heat from operating equipment         3\nMultiple heat sources including multiple ignition           2\nFlying brand, ember, spark                                  2\nRadiated heat from another fire                             2\nIncendiary device                                           2\nExplosive, fireworks, other                                 1\nHeat from other open flame or smoking materials, other      1\nName: count, dtype: int64"
     },
     "execution_count": 131,
     "metadata": {},
     "output_type": "execute_result"
    }
   ],
   "source": [
    "hfdf['HeatSource'].value_counts()"
   ],
   "metadata": {
    "collapsed": false
   }
  },
  {
   "cell_type": "code",
   "execution_count": 132,
   "outputs": [
    {
     "data": {
      "text/plain": "FireType\nStructure Fire                                       455\nNatural vegetation fire                              438\nMobile property (vehicle) fire                       244\nOutside rubbish fire                                 126\nSpecial outside fire                                  59\nBuilding fire                                         48\nCooking fire, confined to container                   47\nBrush or brush-and-grass mixture fire                 40\nFire, other                                           32\nOutside rubbish, trash or waste fire                  27\nPassenger vehicle fire                                13\nNatural vegetation fire, other                        11\nCultivated vegetation, crop fire                      11\nDumpster or other outside trash receptacle fire       11\nChimney or flue fire, confined to chimney or flue      7\nFire in mobile property used as a fixed structure      7\nOutside rubbish fire, other                            7\nTrash or rubbish fire, contained                       6\nGrass fire                                             5\nRoad freight or transport vehicle fire                 5\nSpecial outside fire, other                            5\nOutside equipment fire                                 4\nMobile property (vehicle) fire, other                  3\nFires in structure other than in a building            2\nFuel burner/boiler malfunction, fire confined          1\nForest, woods or wildland fire                         1\nName: count, dtype: int64"
     },
     "execution_count": 132,
     "metadata": {},
     "output_type": "execute_result"
    }
   ],
   "source": [
    "hfdf['FireType'].value_counts()"
   ],
   "metadata": {
    "collapsed": false
   }
  },
  {
   "cell_type": "code",
   "execution_count": 133,
   "outputs": [],
   "source": [
    "one_hot_encoded_2 = pd.get_dummies(hfdf['FireType'],prefix='FireType',dtype=int)\n",
    "\n",
    "hfdf = pd.concat([hfdf,one_hot_encoded_2],axis=1)"
   ],
   "metadata": {
    "collapsed": false
   }
  },
  {
   "cell_type": "code",
   "execution_count": 134,
   "outputs": [],
   "source": [
    "#hfdf['StreetName'].value_counts().plot(kind='bar')\n",
    "hfdf2 = hfdf.drop(columns={'StreetName','StreetNumber','StreetPostDirection','StreetPredirection','StreetSuffix','UnitFirstArrive','Incident_ID','AddressRaw','AddressStandardized','AlarmDateTimeAmericaNY','CauseOfIgnition','Latitude','Longitude','FireAreaOfOrigin','PropertyUse','HeatSource','FireType','ItemFirstIgnited','RecordID'})"
   ],
   "metadata": {
    "collapsed": false
   }
  },
  {
   "cell_type": "code",
   "execution_count": 135,
   "outputs": [
    {
     "data": {
      "text/plain": "   IncidentDurationMinutes  PropertyLossDollars  UnitFirstResponseTimeMinutes  \\\n0                17.299999                    0                          3.50   \n1               258.700012                40000                          3.20   \n2                 9.400000                    0                          0.05   \n3                24.900000                    0                          1.60   \n4                98.800003                15000                          5.93   \n\n   Year  ZipCode  Cause_   Cause_Act of nature  \\\n0  2002    22901        0                    0   \n1  2002    22901        0                    0   \n2  2002    22903        1                    0   \n3  2002    22902        1                    0   \n4  2002    22901        0                    0   \n\n   Cause_Albemarle County in charge of investigation  \\\n0                                                  0   \n1                                                  0   \n2                                                  0   \n3                                                  0   \n4                                                  0   \n\n   Cause_Cause under investigation  \\\n0                                0   \n1                                0   \n2                                0   \n3                                0   \n4                                0   \n\n   Cause_Cause undetermined after investigation  ...  \\\n0                                             0  ...   \n1                                             0  ...   \n2                                             0  ...   \n3                                             0  ...   \n4                                             0  ...   \n\n   FireType_Outside equipment fire  FireType_Outside rubbish fire  \\\n0                                0                              0   \n1                                0                              0   \n2                                0                              0   \n3                                0                              0   \n4                                0                              0   \n\n   FireType_Outside rubbish fire, other  \\\n0                                     0   \n1                                     0   \n2                                     0   \n3                                     0   \n4                                     0   \n\n   FireType_Outside rubbish, trash or waste fire  \\\n0                                              0   \n1                                              0   \n2                                              0   \n3                                              0   \n4                                              0   \n\n   FireType_Passenger vehicle fire  \\\n0                                0   \n1                                0   \n2                                0   \n3                                0   \n4                                0   \n\n   FireType_Road freight or transport vehicle fire  \\\n0                                                0   \n1                                                0   \n2                                                0   \n3                                                0   \n4                                                0   \n\n   FireType_Special outside fire  FireType_Special outside fire, other  \\\n0                              0                                     0   \n1                              0                                     0   \n2                              0                                     0   \n3                              0                                     0   \n4                              0                                     0   \n\n   FireType_Structure Fire  FireType_Trash or rubbish fire, contained  \n0                        0                                          0  \n1                        1                                          0  \n2                        0                                          0  \n3                        1                                          0  \n4                        1                                          0  \n\n[5 rows x 49 columns]",
      "text/html": "<div>\n<style scoped>\n    .dataframe tbody tr th:only-of-type {\n        vertical-align: middle;\n    }\n\n    .dataframe tbody tr th {\n        vertical-align: top;\n    }\n\n    .dataframe thead th {\n        text-align: right;\n    }\n</style>\n<table border=\"1\" class=\"dataframe\">\n  <thead>\n    <tr style=\"text-align: right;\">\n      <th></th>\n      <th>IncidentDurationMinutes</th>\n      <th>PropertyLossDollars</th>\n      <th>UnitFirstResponseTimeMinutes</th>\n      <th>Year</th>\n      <th>ZipCode</th>\n      <th>Cause_</th>\n      <th>Cause_Act of nature</th>\n      <th>Cause_Albemarle County in charge of investigation</th>\n      <th>Cause_Cause under investigation</th>\n      <th>Cause_Cause undetermined after investigation</th>\n      <th>...</th>\n      <th>FireType_Outside equipment fire</th>\n      <th>FireType_Outside rubbish fire</th>\n      <th>FireType_Outside rubbish fire, other</th>\n      <th>FireType_Outside rubbish, trash or waste fire</th>\n      <th>FireType_Passenger vehicle fire</th>\n      <th>FireType_Road freight or transport vehicle fire</th>\n      <th>FireType_Special outside fire</th>\n      <th>FireType_Special outside fire, other</th>\n      <th>FireType_Structure Fire</th>\n      <th>FireType_Trash or rubbish fire, contained</th>\n    </tr>\n  </thead>\n  <tbody>\n    <tr>\n      <th>0</th>\n      <td>17.299999</td>\n      <td>0</td>\n      <td>3.50</td>\n      <td>2002</td>\n      <td>22901</td>\n      <td>0</td>\n      <td>0</td>\n      <td>0</td>\n      <td>0</td>\n      <td>0</td>\n      <td>...</td>\n      <td>0</td>\n      <td>0</td>\n      <td>0</td>\n      <td>0</td>\n      <td>0</td>\n      <td>0</td>\n      <td>0</td>\n      <td>0</td>\n      <td>0</td>\n      <td>0</td>\n    </tr>\n    <tr>\n      <th>1</th>\n      <td>258.700012</td>\n      <td>40000</td>\n      <td>3.20</td>\n      <td>2002</td>\n      <td>22901</td>\n      <td>0</td>\n      <td>0</td>\n      <td>0</td>\n      <td>0</td>\n      <td>0</td>\n      <td>...</td>\n      <td>0</td>\n      <td>0</td>\n      <td>0</td>\n      <td>0</td>\n      <td>0</td>\n      <td>0</td>\n      <td>0</td>\n      <td>0</td>\n      <td>1</td>\n      <td>0</td>\n    </tr>\n    <tr>\n      <th>2</th>\n      <td>9.400000</td>\n      <td>0</td>\n      <td>0.05</td>\n      <td>2002</td>\n      <td>22903</td>\n      <td>1</td>\n      <td>0</td>\n      <td>0</td>\n      <td>0</td>\n      <td>0</td>\n      <td>...</td>\n      <td>0</td>\n      <td>0</td>\n      <td>0</td>\n      <td>0</td>\n      <td>0</td>\n      <td>0</td>\n      <td>0</td>\n      <td>0</td>\n      <td>0</td>\n      <td>0</td>\n    </tr>\n    <tr>\n      <th>3</th>\n      <td>24.900000</td>\n      <td>0</td>\n      <td>1.60</td>\n      <td>2002</td>\n      <td>22902</td>\n      <td>1</td>\n      <td>0</td>\n      <td>0</td>\n      <td>0</td>\n      <td>0</td>\n      <td>...</td>\n      <td>0</td>\n      <td>0</td>\n      <td>0</td>\n      <td>0</td>\n      <td>0</td>\n      <td>0</td>\n      <td>0</td>\n      <td>0</td>\n      <td>1</td>\n      <td>0</td>\n    </tr>\n    <tr>\n      <th>4</th>\n      <td>98.800003</td>\n      <td>15000</td>\n      <td>5.93</td>\n      <td>2002</td>\n      <td>22901</td>\n      <td>0</td>\n      <td>0</td>\n      <td>0</td>\n      <td>0</td>\n      <td>0</td>\n      <td>...</td>\n      <td>0</td>\n      <td>0</td>\n      <td>0</td>\n      <td>0</td>\n      <td>0</td>\n      <td>0</td>\n      <td>0</td>\n      <td>0</td>\n      <td>1</td>\n      <td>0</td>\n    </tr>\n  </tbody>\n</table>\n<p>5 rows × 49 columns</p>\n</div>"
     },
     "execution_count": 135,
     "metadata": {},
     "output_type": "execute_result"
    }
   ],
   "source": [
    "hfdf2.head()"
   ],
   "metadata": {
    "collapsed": false
   }
  },
  {
   "cell_type": "code",
   "execution_count": 138,
   "outputs": [
    {
     "data": {
      "text/plain": "'Accuracy Score: 0.32507739938080493'"
     },
     "execution_count": 138,
     "metadata": {},
     "output_type": "execute_result"
    }
   ],
   "source": [
    "from sklearn.model_selection import train_test_split\n",
    "from sklearn.ensemble import RandomForestClassifier\n",
    "from sklearn.metrics import accuracy_score\n",
    "\n",
    "target_col = 'ZipCode'\n",
    "\n",
    "X=hfdf2.drop(columns={target_col})\n",
    "y=hfdf2[target_col]\n",
    "\n",
    "X_train, X_test, y_train, y_test = train_test_split(X,y,test_size=0.2,random_state=42)\n",
    "\n",
    "classifier = RandomForestClassifier(random_state=42)\n",
    "\n",
    "classifier.fit(X_train,y_train)\n",
    "\n",
    "predictions = classifier.predict(X_test)\n",
    "\n",
    "accuracy = accuracy_score(y_test,predictions)\n",
    "\n",
    "f\"Accuracy Score: {accuracy}\""
   ],
   "metadata": {
    "collapsed": false
   }
  },
  {
   "cell_type": "code",
   "execution_count": 140,
   "outputs": [],
   "source": [
    "#weights_df = pd.DataFrame([classifier.feature_names_in_,classifier.feature_importances_])\n",
    "weights_df = pd.concat([pd.Series(classifier.feature_names_in_),pd.Series(classifier.feature_importances_)],axis=1)"
   ],
   "metadata": {
    "collapsed": false
   }
  },
  {
   "cell_type": "code",
   "execution_count": 141,
   "outputs": [
    {
     "data": {
      "text/plain": "                                                    0         1\n2                        UnitFirstResponseTimeMinutes  0.284974\n0                             IncidentDurationMinutes  0.277937\n3                                                Year  0.153640\n1                                 PropertyLossDollars  0.084007\n4                                             Cause_   0.014869\n46                            FireType_Structure Fire  0.014664\n13          Cause_Failure of equipment or heat source  0.012933\n34            FireType_Mobile property (vehicle) fire  0.011678\n7                     Cause_Cause under investigation  0.009852\n36                   FireType_Natural vegetation fire  0.009333\n21                                 Cause_Undetermined  0.008315\n8        Cause_Cause undetermined after investigation  0.008288\n39                      FireType_Outside rubbish fire  0.008048\n44                      FireType_Special outside fire  0.008013\n29                               FireType_Fire, other  0.006844\n15                                  Cause_Intentional  0.006708\n20                                      Cause_Smoking  0.006422\n25       FireType_Cooking fire, confined to container  0.006375\n22     FireType_Brush or brush-and-grass mixture fire  0.004640\n19                                  Cause_Other cause  0.004387\n23                             FireType_Building fire  0.004281\n41      FireType_Outside rubbish, trash or waste fire  0.004195\n12                                    Cause_Equipment  0.004028\n18                            Cause_Open/outdoor fire  0.003704\n17                               Cause_Natural source  0.003296\n9                                  Cause_Cause, other  0.003215\n14                                   Cause_Incendiary  0.003157\n16                               Cause_Misuse of fire  0.002995\n26          FireType_Cultivated vegetation, crop fire  0.002562\n42                    FireType_Passenger vehicle fire  0.002409\n47          FireType_Trash or rubbish fire, contained  0.002091\n5                                 Cause_Act of nature  0.001961\n11                      Cause_Debris, vegetation burn  0.001921\n27  FireType_Dumpster or other outside trash recep...  0.001904\n40               FireType_Outside rubbish fire, other  0.001865\n24  FireType_Chimney or flue fire, confined to chi...  0.001863\n28  FireType_Fire in mobile property used as a fix...  0.001812\n45               FireType_Special outside fire, other  0.001696\n43    FireType_Road freight or transport vehicle fire  0.001682\n37            FireType_Natural vegetation fire, other  0.001597\n33                                FireType_Grass fire  0.001384\n35     FireType_Mobile property (vehicle) fire, other  0.001079\n6   Cause_Albemarle County in charge of investigation  0.000828\n38                    FireType_Outside equipment fire  0.000635\n30  FireType_Fires in structure other than in a bu...  0.000616\n10  Cause_Cause, other (System generated code only...  0.000535\n31            FireType_Forest, woods or wildland fire  0.000479\n32  FireType_Fuel burner/boiler malfunction, fire ...  0.000281",
      "text/html": "<div>\n<style scoped>\n    .dataframe tbody tr th:only-of-type {\n        vertical-align: middle;\n    }\n\n    .dataframe tbody tr th {\n        vertical-align: top;\n    }\n\n    .dataframe thead th {\n        text-align: right;\n    }\n</style>\n<table border=\"1\" class=\"dataframe\">\n  <thead>\n    <tr style=\"text-align: right;\">\n      <th></th>\n      <th>0</th>\n      <th>1</th>\n    </tr>\n  </thead>\n  <tbody>\n    <tr>\n      <th>2</th>\n      <td>UnitFirstResponseTimeMinutes</td>\n      <td>0.284974</td>\n    </tr>\n    <tr>\n      <th>0</th>\n      <td>IncidentDurationMinutes</td>\n      <td>0.277937</td>\n    </tr>\n    <tr>\n      <th>3</th>\n      <td>Year</td>\n      <td>0.153640</td>\n    </tr>\n    <tr>\n      <th>1</th>\n      <td>PropertyLossDollars</td>\n      <td>0.084007</td>\n    </tr>\n    <tr>\n      <th>4</th>\n      <td>Cause_</td>\n      <td>0.014869</td>\n    </tr>\n    <tr>\n      <th>46</th>\n      <td>FireType_Structure Fire</td>\n      <td>0.014664</td>\n    </tr>\n    <tr>\n      <th>13</th>\n      <td>Cause_Failure of equipment or heat source</td>\n      <td>0.012933</td>\n    </tr>\n    <tr>\n      <th>34</th>\n      <td>FireType_Mobile property (vehicle) fire</td>\n      <td>0.011678</td>\n    </tr>\n    <tr>\n      <th>7</th>\n      <td>Cause_Cause under investigation</td>\n      <td>0.009852</td>\n    </tr>\n    <tr>\n      <th>36</th>\n      <td>FireType_Natural vegetation fire</td>\n      <td>0.009333</td>\n    </tr>\n    <tr>\n      <th>21</th>\n      <td>Cause_Undetermined</td>\n      <td>0.008315</td>\n    </tr>\n    <tr>\n      <th>8</th>\n      <td>Cause_Cause undetermined after investigation</td>\n      <td>0.008288</td>\n    </tr>\n    <tr>\n      <th>39</th>\n      <td>FireType_Outside rubbish fire</td>\n      <td>0.008048</td>\n    </tr>\n    <tr>\n      <th>44</th>\n      <td>FireType_Special outside fire</td>\n      <td>0.008013</td>\n    </tr>\n    <tr>\n      <th>29</th>\n      <td>FireType_Fire, other</td>\n      <td>0.006844</td>\n    </tr>\n    <tr>\n      <th>15</th>\n      <td>Cause_Intentional</td>\n      <td>0.006708</td>\n    </tr>\n    <tr>\n      <th>20</th>\n      <td>Cause_Smoking</td>\n      <td>0.006422</td>\n    </tr>\n    <tr>\n      <th>25</th>\n      <td>FireType_Cooking fire, confined to container</td>\n      <td>0.006375</td>\n    </tr>\n    <tr>\n      <th>22</th>\n      <td>FireType_Brush or brush-and-grass mixture fire</td>\n      <td>0.004640</td>\n    </tr>\n    <tr>\n      <th>19</th>\n      <td>Cause_Other cause</td>\n      <td>0.004387</td>\n    </tr>\n    <tr>\n      <th>23</th>\n      <td>FireType_Building fire</td>\n      <td>0.004281</td>\n    </tr>\n    <tr>\n      <th>41</th>\n      <td>FireType_Outside rubbish, trash or waste fire</td>\n      <td>0.004195</td>\n    </tr>\n    <tr>\n      <th>12</th>\n      <td>Cause_Equipment</td>\n      <td>0.004028</td>\n    </tr>\n    <tr>\n      <th>18</th>\n      <td>Cause_Open/outdoor fire</td>\n      <td>0.003704</td>\n    </tr>\n    <tr>\n      <th>17</th>\n      <td>Cause_Natural source</td>\n      <td>0.003296</td>\n    </tr>\n    <tr>\n      <th>9</th>\n      <td>Cause_Cause, other</td>\n      <td>0.003215</td>\n    </tr>\n    <tr>\n      <th>14</th>\n      <td>Cause_Incendiary</td>\n      <td>0.003157</td>\n    </tr>\n    <tr>\n      <th>16</th>\n      <td>Cause_Misuse of fire</td>\n      <td>0.002995</td>\n    </tr>\n    <tr>\n      <th>26</th>\n      <td>FireType_Cultivated vegetation, crop fire</td>\n      <td>0.002562</td>\n    </tr>\n    <tr>\n      <th>42</th>\n      <td>FireType_Passenger vehicle fire</td>\n      <td>0.002409</td>\n    </tr>\n    <tr>\n      <th>47</th>\n      <td>FireType_Trash or rubbish fire, contained</td>\n      <td>0.002091</td>\n    </tr>\n    <tr>\n      <th>5</th>\n      <td>Cause_Act of nature</td>\n      <td>0.001961</td>\n    </tr>\n    <tr>\n      <th>11</th>\n      <td>Cause_Debris, vegetation burn</td>\n      <td>0.001921</td>\n    </tr>\n    <tr>\n      <th>27</th>\n      <td>FireType_Dumpster or other outside trash recep...</td>\n      <td>0.001904</td>\n    </tr>\n    <tr>\n      <th>40</th>\n      <td>FireType_Outside rubbish fire, other</td>\n      <td>0.001865</td>\n    </tr>\n    <tr>\n      <th>24</th>\n      <td>FireType_Chimney or flue fire, confined to chi...</td>\n      <td>0.001863</td>\n    </tr>\n    <tr>\n      <th>28</th>\n      <td>FireType_Fire in mobile property used as a fix...</td>\n      <td>0.001812</td>\n    </tr>\n    <tr>\n      <th>45</th>\n      <td>FireType_Special outside fire, other</td>\n      <td>0.001696</td>\n    </tr>\n    <tr>\n      <th>43</th>\n      <td>FireType_Road freight or transport vehicle fire</td>\n      <td>0.001682</td>\n    </tr>\n    <tr>\n      <th>37</th>\n      <td>FireType_Natural vegetation fire, other</td>\n      <td>0.001597</td>\n    </tr>\n    <tr>\n      <th>33</th>\n      <td>FireType_Grass fire</td>\n      <td>0.001384</td>\n    </tr>\n    <tr>\n      <th>35</th>\n      <td>FireType_Mobile property (vehicle) fire, other</td>\n      <td>0.001079</td>\n    </tr>\n    <tr>\n      <th>6</th>\n      <td>Cause_Albemarle County in charge of investigation</td>\n      <td>0.000828</td>\n    </tr>\n    <tr>\n      <th>38</th>\n      <td>FireType_Outside equipment fire</td>\n      <td>0.000635</td>\n    </tr>\n    <tr>\n      <th>30</th>\n      <td>FireType_Fires in structure other than in a bu...</td>\n      <td>0.000616</td>\n    </tr>\n    <tr>\n      <th>10</th>\n      <td>Cause_Cause, other (System generated code only...</td>\n      <td>0.000535</td>\n    </tr>\n    <tr>\n      <th>31</th>\n      <td>FireType_Forest, woods or wildland fire</td>\n      <td>0.000479</td>\n    </tr>\n    <tr>\n      <th>32</th>\n      <td>FireType_Fuel burner/boiler malfunction, fire ...</td>\n      <td>0.000281</td>\n    </tr>\n  </tbody>\n</table>\n</div>"
     },
     "execution_count": 141,
     "metadata": {},
     "output_type": "execute_result"
    }
   ],
   "source": [
    "weights_df.sort_values(by=1,ascending=False)\n"
   ],
   "metadata": {
    "collapsed": false
   }
  },
  {
   "cell_type": "code",
   "execution_count": null,
   "outputs": [],
   "source": [],
   "metadata": {
    "collapsed": false
   }
  }
 ],
 "metadata": {
  "kernelspec": {
   "display_name": "Python 3",
   "language": "python",
   "name": "python3"
  },
  "language_info": {
   "codemirror_mode": {
    "name": "ipython",
    "version": 2
   },
   "file_extension": ".py",
   "mimetype": "text/x-python",
   "name": "python",
   "nbconvert_exporter": "python",
   "pygments_lexer": "ipython2",
   "version": "2.7.6"
  }
 },
 "nbformat": 4,
 "nbformat_minor": 0
}
